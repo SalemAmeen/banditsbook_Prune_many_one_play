{
 "cells": [
  {
   "cell_type": "markdown",
   "metadata": {},
   "source": [
    "Compute the performance of MAB methods"
   ]
  },
  {
   "cell_type": "code",
   "execution_count": 1,
   "metadata": {
    "collapsed": true
   },
   "outputs": [],
   "source": [
    "import numpy as np\n",
    "from numpy import *\n",
    "import time\n",
    "import sys\n",
    "import matplotlib.pyplot as plt\n",
    "from sklearn import metrics\n",
    "from IPython.display import set_matplotlib_formats\n",
    "set_matplotlib_formats('png', 'pdf')\n",
    "%matplotlib inline\n",
    "#plt.rcParams['figure.figsize'] = (15, 6)"
   ]
  },
  {
   "cell_type": "markdown",
   "metadata": {},
   "source": [
    "# Load the data"
   ]
  },
  {
   "cell_type": "code",
   "execution_count": 2,
   "metadata": {
    "collapsed": false
   },
   "outputs": [
    {
     "name": "stdout",
     "output_type": "stream",
     "text": [
      "Number of training examples 17712\n",
      "Number of validation examples 4428\n",
      "Number of testing examples 3908\n"
     ]
    }
   ],
   "source": [
    "X_train = np.load('/Users/salemameen/Desktop/banditsbook/python_adult/adult/X_train.npy')\n",
    "y_train = np.load('/Users/salemameen/Desktop/banditsbook/python_adult/adult/y_train.npy')\n",
    "X_test = np.load('/Users/salemameen/Desktop/banditsbook/python_adult/adult/X_test.npy')\n",
    "y_test = np.load('/Users/salemameen/Desktop/banditsbook/python_adult/adult/y_test.npy')\n",
    "X_deploy = np.load('/Users/salemameen/Desktop/banditsbook/python_adult/adult/X_deploy.npy')\n",
    "y_deploy = np.load('/Users/salemameen/Desktop/banditsbook/python_adult/adult/y_deploy.npy')\n",
    "\n",
    "print 'Number of training examples',len(X_train)\n",
    "print 'Number of validation examples',len(X_test)\n",
    "print 'Number of testing examples',len(X_deploy)"
   ]
  },
  {
   "cell_type": "code",
   "execution_count": 3,
   "metadata": {
    "collapsed": true
   },
   "outputs": [],
   "source": [
    "execfile(\"/Users/salemameen/Desktop/banditsbook/python_adult/core.py\")"
   ]
  },
  {
   "cell_type": "markdown",
   "metadata": {},
   "source": [
    "# Run UCB1 pruning Algorithm"
   ]
  },
  {
   "cell_type": "code",
   "execution_count": 4,
   "metadata": {
    "collapsed": false
   },
   "outputs": [
    {
     "name": "stderr",
     "output_type": "stream",
     "text": [
      "Using TensorFlow backend.\n"
     ]
    },
    {
     "name": "stdout",
     "output_type": "stream",
     "text": [
      "Test fraction correct (NN-Score) = 0.35\n",
      "Test fraction correct (NN-Accuracy) = 0.84\n",
      "The time for running this method is 20.7759230137 seconds \n",
      "Finsh playing start pruining:\n",
      "Test after pruning= 0.85\n",
      "Test after pruning= 0.85\n",
      "Test after pruning= 0.85\n",
      "Test after pruning= 0.84\n",
      "Test after pruning= 0.84\n",
      "Test after pruning= 0.84\n",
      "Test after pruning= 0.84\n",
      "Test after pruning= 0.84\n",
      "Test after pruning= 0.84\n",
      "Test after pruning= 0.85\n",
      "Test after pruning= 0.85\n",
      "Test after pruning= 0.85\n",
      "Test after pruning= 0.84\n",
      "Test after pruning= 0.85\n",
      "Test after pruning= 0.85\n",
      "Test after pruning= 0.85\n",
      "Test after pruning= 0.84\n",
      "Test after pruning= 0.84\n",
      "Test after pruning= 0.84\n",
      "Test after pruning= 0.84\n",
      "Test after pruning= 0.84\n",
      "Test after pruning= 0.84\n",
      "Test after pruning= 0.84\n",
      "Test after pruning= 0.84\n",
      "Test after pruning= 0.84\n",
      "Test after pruning= 0.84\n",
      "Test after pruning= 0.84\n",
      "Test after pruning= 0.84\n",
      "Test after pruning= 0.84\n",
      "Test after pruning= 0.84\n",
      "Test after pruning= 0.84\n",
      "Test after pruning= 0.84\n",
      "Test after pruning= 0.84\n",
      "Test after pruning= 0.84\n",
      "Test after pruning= 0.84\n",
      "Test after pruning= 0.84\n",
      "Test after pruning= 0.83\n",
      "Test after pruning= 0.83\n",
      "Test after pruning= 0.83\n",
      "Test after pruning= 0.83\n",
      "Test after pruning= 0.83\n",
      "Test after pruning= 0.83\n",
      "Test after pruning= 0.83\n",
      "Test after pruning= 0.83\n",
      "Test after pruning= 0.82\n",
      "Test after pruning= 0.82\n",
      "Test after pruning= 0.82\n",
      "Test after pruning= 0.81\n",
      "Test after pruning= 0.81\n",
      "Test after pruning= 0.80\n",
      "Test after pruning= 0.79\n",
      "Test after pruning= 0.79\n",
      "Test after pruning= 0.79\n",
      "Test after pruning= 0.79\n",
      "Test after pruning= 0.76\n",
      "Test after pruning= 0.76\n",
      "Test after pruning= 0.76\n",
      "Test after pruning= 0.76\n",
      "Test after pruning= 0.76\n",
      "Test after pruning= 0.76\n"
     ]
    },
    {
     "data": {
      "image/png": "[encoded data removed]",
      "text/plain": [
       "<matplotlib.figure.Figure at 0x1197754d0>"
      ]
     },
     "metadata": {},
     "output_type": "display_data"
    }
   ],
   "source": [
    "algo = UCB1([], [])\n",
    "Alg_name = 'UCB1 Algorithm'\n",
    "path = './IrisUCB1/'\n",
    "sys.path.append(\"./IrisUCB1\")\n",
    "execfile('/Users/salemameen/Desktop/banditsbook/python_adult/mnist_cnnFORTESTING.py')"
   ]
  },
  {
   "cell_type": "markdown",
   "metadata": {},
   "source": [
    "# Run Annealing Epsilon Greedy pruning Algorithm"
   ]
  },
  {
   "cell_type": "code",
   "execution_count": 5,
   "metadata": {
    "collapsed": false
   },
   "outputs": [
    {
     "ename": "ValueError",
     "evalue": "Cannot feed value of shape (8, 13) for Tensor u'dense_input_2:0', which has shape '(?, 8)'",
     "output_type": "error",
     "traceback": [
      "\u001b[0;31m---------------------------------------------------------------------------\u001b[0m",
      "\u001b[0;31mValueError\u001b[0m                                Traceback (most recent call last)",
      "\u001b[0;32m<ipython-input-5-b78df61cd3e2>\u001b[0m in \u001b[0;36m<module>\u001b[0;34m()\u001b[0m\n\u001b[1;32m      3\u001b[0m \u001b[0mpath\u001b[0m \u001b[0;34m=\u001b[0m \u001b[0;34m'./IrisAnnealingEpsilonGreedy/'\u001b[0m\u001b[0;34m\u001b[0m\u001b[0m\n\u001b[1;32m      4\u001b[0m \u001b[0msys\u001b[0m\u001b[0;34m.\u001b[0m\u001b[0mpath\u001b[0m\u001b[0;34m.\u001b[0m\u001b[0mappend\u001b[0m\u001b[0;34m(\u001b[0m\u001b[0;34m\"./IrisAnnealingEpsilonGreedy\"\u001b[0m\u001b[0;34m)\u001b[0m\u001b[0;34m\u001b[0m\u001b[0m\n\u001b[0;32m----> 5\u001b[0;31m \u001b[0mexecfile\u001b[0m\u001b[0;34m(\u001b[0m\u001b[0;34m'/Users/salemameen/Desktop/banditsbook/python_pima/mnist_cnnFORTESTING.py'\u001b[0m\u001b[0;34m)\u001b[0m\u001b[0;34m\u001b[0m\u001b[0m\n\u001b[0m",
      "\u001b[0;32m/Users/salemameen/Desktop/banditsbook/python_pima/mnist_cnnFORTESTING.py\u001b[0m in \u001b[0;36m<module>\u001b[0;34m()\u001b[0m\n\u001b[1;32m      1\u001b[0m \u001b[0;31m# FOR MAC PC\u001b[0m\u001b[0;34m\u001b[0m\u001b[0;34m\u001b[0m\u001b[0m\n\u001b[1;32m      2\u001b[0m \u001b[0;31m#execfile(\"/Users/salemameen/Desktop/banditsbook/python/core.py\")\u001b[0m\u001b[0;34m\u001b[0m\u001b[0;34m\u001b[0m\u001b[0m\n\u001b[0;32m----> 3\u001b[0;31m \u001b[0mexecfile\u001b[0m\u001b[0;34m(\u001b[0m\u001b[0;34m\"/Users/salemameen/Desktop/banditsbook/python_pima/modelUCB1.py\"\u001b[0m\u001b[0;34m)\u001b[0m\u001b[0;34m\u001b[0m\u001b[0m\n\u001b[0m\u001b[1;32m      4\u001b[0m \u001b[0;32mimport\u001b[0m \u001b[0mmatplotlib\u001b[0m\u001b[0;34m.\u001b[0m\u001b[0mpyplot\u001b[0m \u001b[0;32mas\u001b[0m \u001b[0mplt\u001b[0m\u001b[0;34m\u001b[0m\u001b[0m\n\u001b[1;32m      5\u001b[0m \u001b[0;32mimport\u001b[0m \u001b[0mtime\u001b[0m\u001b[0;34m\u001b[0m\u001b[0m\n",
      "\u001b[0;32m/Users/salemameen/Desktop/banditsbook/python_pima/modelUCB1.py\u001b[0m in \u001b[0;36m<module>\u001b[0;34m()\u001b[0m\n\u001b[1;32m     27\u001b[0m \u001b[0;31m# Actual modelling\u001b[0m\u001b[0;34m\u001b[0m\u001b[0;34m\u001b[0m\u001b[0m\n\u001b[1;32m     28\u001b[0m \u001b[0;34m\u001b[0m\u001b[0m\n\u001b[0;32m---> 29\u001b[0;31m \u001b[0mscore\u001b[0m\u001b[0;34m,\u001b[0m \u001b[0maccuracy\u001b[0m \u001b[0;34m=\u001b[0m \u001b[0mmodel\u001b[0m\u001b[0;34m.\u001b[0m\u001b[0mevaluate\u001b[0m\u001b[0;34m(\u001b[0m\u001b[0mX_deploy\u001b[0m\u001b[0;34m,\u001b[0m \u001b[0mlabelsDply\u001b[0m\u001b[0;34m,\u001b[0m \u001b[0mbatch_size\u001b[0m\u001b[0;34m=\u001b[0m\u001b[0;36m8\u001b[0m\u001b[0;34m,\u001b[0m \u001b[0mverbose\u001b[0m\u001b[0;34m=\u001b[0m\u001b[0;36m0\u001b[0m\u001b[0;34m)\u001b[0m\u001b[0;34m\u001b[0m\u001b[0m\n\u001b[0m\u001b[1;32m     30\u001b[0m \u001b[0;32mprint\u001b[0m\u001b[0;34m(\u001b[0m\u001b[0;34m\"Test fraction correct (NN-Score) = {:.2f}\"\u001b[0m\u001b[0;34m.\u001b[0m\u001b[0mformat\u001b[0m\u001b[0;34m(\u001b[0m\u001b[0mscore\u001b[0m\u001b[0;34m)\u001b[0m\u001b[0;34m)\u001b[0m\u001b[0;34m\u001b[0m\u001b[0m\n\u001b[1;32m     31\u001b[0m \u001b[0;32mprint\u001b[0m\u001b[0;34m(\u001b[0m\u001b[0;34m\"Test fraction correct (NN-Accuracy) = {:.2f}\"\u001b[0m\u001b[0;34m.\u001b[0m\u001b[0mformat\u001b[0m\u001b[0;34m(\u001b[0m\u001b[0maccuracy\u001b[0m\u001b[0;34m)\u001b[0m\u001b[0;34m)\u001b[0m\u001b[0;34m\u001b[0m\u001b[0m\n",
      "\u001b[0;32m/Users/salemameen/Library/Enthought/Canopy_64bit/User/lib/python2.7/site-packages/Keras-1.0.2-py2.7.egg/keras/models.pyc\u001b[0m in \u001b[0;36mevaluate\u001b[0;34m(self, x, y, batch_size, verbose, sample_weight, **kwargs)\u001b[0m\n\u001b[1;32m    438\u001b[0m                                    \u001b[0mbatch_size\u001b[0m\u001b[0;34m=\u001b[0m\u001b[0mbatch_size\u001b[0m\u001b[0;34m,\u001b[0m\u001b[0;34m\u001b[0m\u001b[0m\n\u001b[1;32m    439\u001b[0m                                    \u001b[0mverbose\u001b[0m\u001b[0;34m=\u001b[0m\u001b[0mverbose\u001b[0m\u001b[0;34m,\u001b[0m\u001b[0;34m\u001b[0m\u001b[0m\n\u001b[0;32m--> 440\u001b[0;31m                                    sample_weight=sample_weight)\n\u001b[0m\u001b[1;32m    441\u001b[0m \u001b[0;34m\u001b[0m\u001b[0m\n\u001b[1;32m    442\u001b[0m     \u001b[0;32mdef\u001b[0m \u001b[0mpredict\u001b[0m\u001b[0;34m(\u001b[0m\u001b[0mself\u001b[0m\u001b[0;34m,\u001b[0m \u001b[0mx\u001b[0m\u001b[0;34m,\u001b[0m \u001b[0mbatch_size\u001b[0m\u001b[0;34m=\u001b[0m\u001b[0;36m32\u001b[0m\u001b[0;34m,\u001b[0m \u001b[0mverbose\u001b[0m\u001b[0;34m=\u001b[0m\u001b[0;36m0\u001b[0m\u001b[0;34m)\u001b[0m\u001b[0;34m:\u001b[0m\u001b[0;34m\u001b[0m\u001b[0m\n",
      "\u001b[0;32m/Users/salemameen/Library/Enthought/Canopy_64bit/User/lib/python2.7/site-packages/Keras-1.0.2-py2.7.egg/keras/engine/training.pyc\u001b[0m in \u001b[0;36mevaluate\u001b[0;34m(self, x, y, batch_size, verbose, sample_weight)\u001b[0m\n\u001b[1;32m   1086\u001b[0m         return self._test_loop(f, ins,\n\u001b[1;32m   1087\u001b[0m                                \u001b[0mbatch_size\u001b[0m\u001b[0;34m=\u001b[0m\u001b[0mbatch_size\u001b[0m\u001b[0;34m,\u001b[0m\u001b[0;34m\u001b[0m\u001b[0m\n\u001b[0;32m-> 1088\u001b[0;31m                                verbose=verbose)\n\u001b[0m\u001b[1;32m   1089\u001b[0m \u001b[0;34m\u001b[0m\u001b[0m\n\u001b[1;32m   1090\u001b[0m     \u001b[0;32mdef\u001b[0m \u001b[0mpredict\u001b[0m\u001b[0;34m(\u001b[0m\u001b[0mself\u001b[0m\u001b[0;34m,\u001b[0m \u001b[0mx\u001b[0m\u001b[0;34m,\u001b[0m \u001b[0mbatch_size\u001b[0m\u001b[0;34m=\u001b[0m\u001b[0;36m32\u001b[0m\u001b[0;34m,\u001b[0m \u001b[0mverbose\u001b[0m\u001b[0;34m=\u001b[0m\u001b[0;36m0\u001b[0m\u001b[0;34m)\u001b[0m\u001b[0;34m:\u001b[0m\u001b[0;34m\u001b[0m\u001b[0m\n",
      "\u001b[0;32m/Users/salemameen/Library/Enthought/Canopy_64bit/User/lib/python2.7/site-packages/Keras-1.0.2-py2.7.egg/keras/engine/training.pyc\u001b[0m in \u001b[0;36m_test_loop\u001b[0;34m(self, f, ins, batch_size, verbose)\u001b[0m\n\u001b[1;32m    887\u001b[0m                 \u001b[0mins_batch\u001b[0m \u001b[0;34m=\u001b[0m \u001b[0mslice_X\u001b[0m\u001b[0;34m(\u001b[0m\u001b[0mins\u001b[0m\u001b[0;34m,\u001b[0m \u001b[0mbatch_ids\u001b[0m\u001b[0;34m)\u001b[0m\u001b[0;34m\u001b[0m\u001b[0m\n\u001b[1;32m    888\u001b[0m \u001b[0;34m\u001b[0m\u001b[0m\n\u001b[0;32m--> 889\u001b[0;31m             \u001b[0mbatch_outs\u001b[0m \u001b[0;34m=\u001b[0m \u001b[0mf\u001b[0m\u001b[0;34m(\u001b[0m\u001b[0mins_batch\u001b[0m\u001b[0;34m)\u001b[0m\u001b[0;34m\u001b[0m\u001b[0m\n\u001b[0m\u001b[1;32m    890\u001b[0m             \u001b[0;32mif\u001b[0m \u001b[0mtype\u001b[0m\u001b[0;34m(\u001b[0m\u001b[0mbatch_outs\u001b[0m\u001b[0;34m)\u001b[0m \u001b[0;34m==\u001b[0m \u001b[0mlist\u001b[0m\u001b[0;34m:\u001b[0m\u001b[0;34m\u001b[0m\u001b[0m\n\u001b[1;32m    891\u001b[0m                 \u001b[0;32mif\u001b[0m \u001b[0mbatch_index\u001b[0m \u001b[0;34m==\u001b[0m \u001b[0;36m0\u001b[0m\u001b[0;34m:\u001b[0m\u001b[0;34m\u001b[0m\u001b[0m\n",
      "\u001b[0;32m/Users/salemameen/Library/Enthought/Canopy_64bit/User/lib/python2.7/site-packages/Keras-1.0.2-py2.7.egg/keras/backend/tensorflow_backend.pyc\u001b[0m in \u001b[0;36m__call__\u001b[0;34m(self, inputs)\u001b[0m\n\u001b[1;32m    639\u001b[0m         \u001b[0mfeed_dict\u001b[0m \u001b[0;34m=\u001b[0m \u001b[0mdict\u001b[0m\u001b[0;34m(\u001b[0m\u001b[0mzip\u001b[0m\u001b[0;34m(\u001b[0m\u001b[0mnames\u001b[0m\u001b[0;34m,\u001b[0m \u001b[0minputs\u001b[0m\u001b[0;34m)\u001b[0m\u001b[0;34m)\u001b[0m\u001b[0;34m\u001b[0m\u001b[0m\n\u001b[1;32m    640\u001b[0m         \u001b[0msession\u001b[0m \u001b[0;34m=\u001b[0m \u001b[0mget_session\u001b[0m\u001b[0;34m(\u001b[0m\u001b[0;34m)\u001b[0m\u001b[0;34m\u001b[0m\u001b[0m\n\u001b[0;32m--> 641\u001b[0;31m         \u001b[0mupdated\u001b[0m \u001b[0;34m=\u001b[0m \u001b[0msession\u001b[0m\u001b[0;34m.\u001b[0m\u001b[0mrun\u001b[0m\u001b[0;34m(\u001b[0m\u001b[0mself\u001b[0m\u001b[0;34m.\u001b[0m\u001b[0moutputs\u001b[0m \u001b[0;34m+\u001b[0m \u001b[0mself\u001b[0m\u001b[0;34m.\u001b[0m\u001b[0mupdates\u001b[0m\u001b[0;34m,\u001b[0m \u001b[0mfeed_dict\u001b[0m\u001b[0;34m=\u001b[0m\u001b[0mfeed_dict\u001b[0m\u001b[0;34m)\u001b[0m\u001b[0;34m\u001b[0m\u001b[0m\n\u001b[0m\u001b[1;32m    642\u001b[0m         \u001b[0;32mreturn\u001b[0m \u001b[0mupdated\u001b[0m\u001b[0;34m[\u001b[0m\u001b[0;34m:\u001b[0m\u001b[0mlen\u001b[0m\u001b[0;34m(\u001b[0m\u001b[0mself\u001b[0m\u001b[0;34m.\u001b[0m\u001b[0moutputs\u001b[0m\u001b[0;34m)\u001b[0m\u001b[0;34m]\u001b[0m\u001b[0;34m\u001b[0m\u001b[0m\n\u001b[1;32m    643\u001b[0m \u001b[0;34m\u001b[0m\u001b[0m\n",
      "\u001b[0;32m/Users/salemameen/Library/Enthought/Canopy_64bit/User/lib/python2.7/site-packages/tensorflow/python/client/session.pyc\u001b[0m in \u001b[0;36mrun\u001b[0;34m(self, fetches, feed_dict, options, run_metadata)\u001b[0m\n\u001b[1;32m    338\u001b[0m     \u001b[0;32mtry\u001b[0m\u001b[0;34m:\u001b[0m\u001b[0;34m\u001b[0m\u001b[0m\n\u001b[1;32m    339\u001b[0m       result = self._run(None, fetches, feed_dict, options_ptr,\n\u001b[0;32m--> 340\u001b[0;31m                          run_metadata_ptr)\n\u001b[0m\u001b[1;32m    341\u001b[0m       \u001b[0;32mif\u001b[0m \u001b[0mrun_metadata\u001b[0m\u001b[0;34m:\u001b[0m\u001b[0;34m\u001b[0m\u001b[0m\n\u001b[1;32m    342\u001b[0m         \u001b[0mproto_data\u001b[0m \u001b[0;34m=\u001b[0m \u001b[0mtf_session\u001b[0m\u001b[0;34m.\u001b[0m\u001b[0mTF_GetBuffer\u001b[0m\u001b[0;34m(\u001b[0m\u001b[0mrun_metadata_ptr\u001b[0m\u001b[0;34m)\u001b[0m\u001b[0;34m\u001b[0m\u001b[0m\n",
      "\u001b[0;32m/Users/salemameen/Library/Enthought/Canopy_64bit/User/lib/python2.7/site-packages/tensorflow/python/client/session.pyc\u001b[0m in \u001b[0;36m_run\u001b[0;34m(self, handle, fetches, feed_dict, options, run_metadata)\u001b[0m\n\u001b[1;32m    551\u001b[0m                 \u001b[0;34m'Cannot feed value of shape %r for Tensor %r, '\u001b[0m\u001b[0;34m\u001b[0m\u001b[0m\n\u001b[1;32m    552\u001b[0m                 \u001b[0;34m'which has shape %r'\u001b[0m\u001b[0;34m\u001b[0m\u001b[0m\n\u001b[0;32m--> 553\u001b[0;31m                 % (np_val.shape, subfeed_t.name, str(subfeed_t.get_shape())))\n\u001b[0m\u001b[1;32m    554\u001b[0m           \u001b[0;32mif\u001b[0m \u001b[0;32mnot\u001b[0m \u001b[0mself\u001b[0m\u001b[0;34m.\u001b[0m\u001b[0mgraph\u001b[0m\u001b[0;34m.\u001b[0m\u001b[0mis_feedable\u001b[0m\u001b[0;34m(\u001b[0m\u001b[0msubfeed_t\u001b[0m\u001b[0;34m)\u001b[0m\u001b[0;34m:\u001b[0m\u001b[0;34m\u001b[0m\u001b[0m\n\u001b[1;32m    555\u001b[0m             \u001b[0;32mraise\u001b[0m \u001b[0mValueError\u001b[0m\u001b[0;34m(\u001b[0m\u001b[0;34m'Tensor %s may not be fed.'\u001b[0m \u001b[0;34m%\u001b[0m \u001b[0msubfeed_t\u001b[0m\u001b[0;34m)\u001b[0m\u001b[0;34m\u001b[0m\u001b[0m\n",
      "\u001b[0;31mValueError\u001b[0m: Cannot feed value of shape (8, 13) for Tensor u'dense_input_2:0', which has shape '(?, 8)'"
     ]
    }
   ],
   "source": [
    "algo = AnnealingEpsilonGreedy([], [])\n",
    "Alg_name = 'Annealing Epsilon Greedy Algorithm'\n",
    "path = './IrisAnnealingEpsilonGreedy/'\n",
    "sys.path.append(\"./IrisAnnealingEpsilonGreedy\")\n",
    "execfile('/Users/salemameen/Desktop/banditsbook/python_adult/mnist_cnnFORTESTING.py')"
   ]
  },
  {
   "cell_type": "markdown",
   "metadata": {},
   "source": [
    "# Run Epsilon Greedy pruning Algorithm"
   ]
  },
  {
   "cell_type": "code",
   "execution_count": null,
   "metadata": {
    "collapsed": false
   },
   "outputs": [],
   "source": [
    "epsilon = 0.9 # epsilon = (0,1)\n",
    "algo = EpsilonGreedy(epsilon, [], [])\n",
    "Alg_name = 'Epsilon Greedy Algorithm'\n",
    "path = './IrisEpsilonGreedy/'\n",
    "sys.path.append(\"./IrisAnnealingEpsilonGreedy\")\n",
    "execfile('/Users/salemameen/Desktop/banditsbook/python_adult/mnist_cnnFORTESTING.py')"
   ]
  },
  {
   "cell_type": "markdown",
   "metadata": {},
   "source": [
    "# Run Exp3 pruning Algorithm"
   ]
  },
  {
   "cell_type": "code",
   "execution_count": null,
   "metadata": {
    "collapsed": false,
    "scrolled": true
   },
   "outputs": [],
   "source": [
    "exp3_gamma = 0.2 #exp3_gamma in [0.1, 0.2, 0.3, 0.4, 0.5]\n",
    "algo = Exp3(exp3_gamma, [])\n",
    "Alg_name = 'Exp3 Algorithm'\n",
    "path = './IrisExp3/'\n",
    "sys.path.append(\"./IrisEpsilonGreedy\")\n",
    "execfile('/Users/salemameen/Desktop/banditsbook/python_adult/mnist_cnnFORTESTING.py')"
   ]
  },
  {
   "cell_type": "markdown",
   "metadata": {},
   "source": [
    "# Run Softmax pruning Algorithm"
   ]
  },
  {
   "cell_type": "code",
   "execution_count": null,
   "metadata": {
    "collapsed": false
   },
   "outputs": [],
   "source": [
    "temperature = 0.9\n",
    "algo = Softmax(temperature, [], [])\n",
    "Alg_name = 'Softmax Algorithm'\n",
    "path = './IrisSoftmax/'\n",
    "sys.path.append(\"./IrisSoftmax\")\n",
    "execfile('/Users/salemameen/Desktop/banditsbook/python_adult/mnist_cnnFORTESTING.py')"
   ]
  },
  {
   "cell_type": "markdown",
   "metadata": {},
   "source": [
    "# Run Annealing Softmax pruning Algorithm"
   ]
  },
  {
   "cell_type": "code",
   "execution_count": null,
   "metadata": {
    "collapsed": false
   },
   "outputs": [],
   "source": [
    "algo = AnnealingSoftmax([], [])\n",
    "Alg_name = 'Annealing Softmax Algorithm'\n",
    "path = './IrisAnnealingSoftmax/'\n",
    "sys.path.append(\"./IrisAnnealingSoftmax\")\n",
    "execfile('/Users/salemameen/Desktop/banditsbook/python_adult/mnist_cnnFORTESTING.py')"
   ]
  },
  {
   "cell_type": "markdown",
   "metadata": {},
   "source": [
    "# Run Hedge pruning Algorithm"
   ]
  },
  {
   "cell_type": "code",
   "execution_count": null,
   "metadata": {
    "collapsed": false
   },
   "outputs": [],
   "source": [
    "eta = 0.9  # eta in [.5, .8, .9, 1, 2]\n",
    "algo = Hedge(eta, [], []) \n",
    "Alg_name = 'Hedge Algorithm'\n",
    "path = './IrisHedge/'\n",
    "sys.path.append(\"./IrisHedge\")\n",
    "execfile('/Users/salemameen/Desktop/banditsbook/python_adult/mnist_cnnFORTESTING.py')"
   ]
  },
  {
   "cell_type": "markdown",
   "metadata": {},
   "source": [
    "# Compare the accuracy of the models"
   ]
  },
  {
   "cell_type": "code",
   "execution_count": null,
   "metadata": {
    "collapsed": false
   },
   "outputs": [],
   "source": [
    "ucb1 = np.load('/Users/salemameen/Desktop/banditsbook/python_adult/IrisUCB1/AccuracyAftrerPrune.npy')\n",
    "EpsilonGreedy = np.load('/Users/salemameen/Desktop/banditsbook/python_adult/IrisEpsilonGreedy/AccuracyAftrerPrune.npy')\n",
    "AnnealingEpsilonGreedy = np.load('/Users/salemameen/Desktop/banditsbook/python_adult/IrisAnnealingEpsilonGreedy/AccuracyAftrerPrune.npy')\n",
    "Softmax = np.load('/Users/salemameen/Desktop/banditsbook/python_adult/IrisSoftmax/AccuracyAftrerPrune.npy')\n",
    "AnnealingSoftmax = np.load('/Users/salemameen/Desktop/banditsbook/python_adult/IrisAnnealingSoftmax/AccuracyAftrerPrune.npy')\n",
    "Exp3 = np.load('/Users/salemameen/Desktop/banditsbook/python_adult/IrisExp3/AccuracyAftrerPrune.npy')\n",
    "Hedge = np.load('/Users/salemameen/Desktop/banditsbook/python_adult/IrisHedge/AccuracyAftrerPrune.npy')"
   ]
  },
  {
   "cell_type": "code",
   "execution_count": null,
   "metadata": {
    "collapsed": false
   },
   "outputs": [],
   "source": [
    "fig = plt.figure(figsize=(10, 6), dpi=80)\n",
    "ax = fig.add_subplot(111)\n",
    "N = len(ucb1)\n",
    "## necessary variables\n",
    "ind = np.arange(N)                # the x locations for the groups\n",
    "plt.plot(ind , ucb1 , color=\"blue\", linewidth=2.5, linestyle=\"-\", label=\"UCB1\")\n",
    "plt.plot(ind , EpsilonGreedy, color=\"red\", linewidth=2.5, linestyle=\"-\", label=\"Epsilon Greedy\")\n",
    "plt.plot(ind , AnnealingEpsilonGreedy, color=\"cyan\", linewidth=2.5, linestyle=\"-\", label=\"Annealing Epsilon Greedy\")\n",
    "plt.plot(ind , Softmax, color=\"magenta\", linewidth=2.5, linestyle=\"-\", label=\"Softmax\")\n",
    "plt.plot(ind , AnnealingSoftmax, color=\"yellow\", linewidth=2.5, linestyle=\"-\", label=\"Annealing Softmax\")\n",
    "plt.plot(ind , Exp3, color=\"black\", linewidth=2.5, linestyle=\"-\", label=\"Exp3\")\n",
    "plt.plot(ind , Hedge, color=\"green\", linewidth=2.5, linestyle=\"-\", label=\"Hedge\")\n",
    "plt.legend(loc = 3)\n",
    "plt.axis([0, 25, 0.4, 0.9])\n",
    "plt.grid(True)\n",
    "plt.show()"
   ]
  }
 ],
 "metadata": {
  "kernelspec": {
   "display_name": "Python 2",
   "language": "python",
   "name": "python2"
  },
  "language_info": {
   "codemirror_mode": {
    "name": "ipython",
    "version": 2
   },
   "file_extension": ".py",
   "mimetype": "text/x-python",
   "name": "python",
   "nbconvert_exporter": "python",
   "pygments_lexer": "ipython2",
   "version": "2.7.11"
  }
 },
 "nbformat": 4,
 "nbformat_minor": 0
}
