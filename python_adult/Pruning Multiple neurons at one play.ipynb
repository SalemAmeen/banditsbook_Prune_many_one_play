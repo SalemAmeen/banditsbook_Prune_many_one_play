{
 "cells": [
  {
   "cell_type": "markdown",
   "metadata": {},
   "source": [
    "Compute the performance of MAB methods of pruning Multiple neurons at one time\n",
    "\n",
    "MAP for choosing multi arms at one time"
   ]
  },
  {
   "cell_type": "code",
   "execution_count": 5,
   "metadata": {
    "collapsed": true
   },
   "outputs": [],
   "source": [
    "import numpy as np\n",
    "import time\n",
    "import sys\n",
    "from numpy import *\n",
    "import matplotlib.pyplot as plt\n",
    "from sklearn import metrics\n",
    "%matplotlib inline\n",
    "#plt.rcParams['figure.figsize'] = (15, 6)"
   ]
  },
  {
   "cell_type": "markdown",
   "metadata": {},
   "source": [
    "# Load Bokeh"
   ]
  },
  {
   "cell_type": "code",
   "execution_count": 6,
   "metadata": {
    "collapsed": false
   },
   "outputs": [
    {
     "data": {
      "text/html": [
       "\n",
       "    <div class=\"bk-root\">\n",
       "        <a href=\"http://bokeh.pydata.org\" target=\"_blank\" class=\"bk-logo bk-logo-small bk-logo-notebook\"></a>\n",
       "        <span id=\"3c92fa44-b57c-47ff-b31e-50742939f063\">Loading BokehJS ...</span>\n",
       "    </div>"
      ]
     },
     "metadata": {},
     "output_type": "display_data"
    },
    {
     "data": {
      "application/javascript": [
       "\n",
       "(function(global) {\n",
       "  function now() {\n",
       "    return new Date();\n",
       "  }\n",
       "\n",
       "  var force = true;\n",
       "\n",
       "  if (typeof (window._bokeh_onload_callbacks) === \"undefined\" || force === true) {\n",
       "    window._bokeh_onload_callbacks = [];\n",
       "    window._bokeh_is_loading = undefined;\n",
       "  }\n",
       "\n",
       "\n",
       "  \n",
       "  if (typeof (window._bokeh_timeout) === \"undefined\" || force === true) {\n",
       "    window._bokeh_timeout = Date.now() + 5000;\n",
       "    window._bokeh_failed_load = false;\n",
       "  }\n",
       "\n",
       "  var NB_LOAD_WARNING = {'data': {'text/html':\n",
       "     \"<div style='background-color: #fdd'>\\n\"+\n",
       "     \"<p>\\n\"+\n",
       "     \"BokehJS does not appear to have successfully loaded. If loading BokehJS from CDN, this \\n\"+\n",
       "     \"may be due to a slow or bad network connection. Possible fixes:\\n\"+\n",
       "     \"</p>\\n\"+\n",
       "     \"<ul>\\n\"+\n",
       "     \"<li>re-rerun `output_notebook()` to attempt to load from CDN again, or</li>\\n\"+\n",
       "     \"<li>use INLINE resources instead, as so:</li>\\n\"+\n",
       "     \"</ul>\\n\"+\n",
       "     \"<code>\\n\"+\n",
       "     \"from bokeh.resources import INLINE\\n\"+\n",
       "     \"output_notebook(resources=INLINE)\\n\"+\n",
       "     \"</code>\\n\"+\n",
       "     \"</div>\"}};\n",
       "\n",
       "  function display_loaded() {\n",
       "    if (window.Bokeh !== undefined) {\n",
       "      document.getElementById(\"3c92fa44-b57c-47ff-b31e-50742939f063\").textContent = \"BokehJS successfully loaded.\";\n",
       "    } else if (Date.now() < window._bokeh_timeout) {\n",
       "      setTimeout(display_loaded, 100)\n",
       "    }\n",
       "  }\n",
       "\n",
       "  function run_callbacks() {\n",
       "    window._bokeh_onload_callbacks.forEach(function(callback) { callback() });\n",
       "    delete window._bokeh_onload_callbacks\n",
       "    console.info(\"Bokeh: all callbacks have finished\");\n",
       "  }\n",
       "\n",
       "  function load_libs(js_urls, callback) {\n",
       "    window._bokeh_onload_callbacks.push(callback);\n",
       "    if (window._bokeh_is_loading > 0) {\n",
       "      console.log(\"Bokeh: BokehJS is being loaded, scheduling callback at\", now());\n",
       "      return null;\n",
       "    }\n",
       "    if (js_urls == null || js_urls.length === 0) {\n",
       "      run_callbacks();\n",
       "      return null;\n",
       "    }\n",
       "    console.log(\"Bokeh: BokehJS not loaded, scheduling load and callback at\", now());\n",
       "    window._bokeh_is_loading = js_urls.length;\n",
       "    for (var i = 0; i < js_urls.length; i++) {\n",
       "      var url = js_urls[i];\n",
       "      var s = document.createElement('script');\n",
       "      s.src = url;\n",
       "      s.async = false;\n",
       "      s.onreadystatechange = s.onload = function() {\n",
       "        window._bokeh_is_loading--;\n",
       "        if (window._bokeh_is_loading === 0) {\n",
       "          console.log(\"Bokeh: all BokehJS libraries loaded\");\n",
       "          run_callbacks()\n",
       "        }\n",
       "      };\n",
       "      s.onerror = function() {\n",
       "        console.warn(\"failed to load library \" + url);\n",
       "      };\n",
       "      console.log(\"Bokeh: injecting script tag for BokehJS library: \", url);\n",
       "      document.getElementsByTagName(\"head\")[0].appendChild(s);\n",
       "    }\n",
       "  };var element = document.getElementById(\"3c92fa44-b57c-47ff-b31e-50742939f063\");\n",
       "  if (element == null) {\n",
       "    console.log(\"Bokeh: ERROR: autoload.js configured with elementid '3c92fa44-b57c-47ff-b31e-50742939f063' but no matching script tag was found. \")\n",
       "    return false;\n",
       "  }\n",
       "\n",
       "  var js_urls = [\"https://cdn.pydata.org/bokeh/release/bokeh-0.12.4.min.js\", \"https://cdn.pydata.org/bokeh/release/bokeh-widgets-0.12.4.min.js\"];\n",
       "\n",
       "  var inline_js = [\n",
       "    function(Bokeh) {\n",
       "      Bokeh.set_log_level(\"info\");\n",
       "    },\n",
       "    \n",
       "    function(Bokeh) {\n",
       "      \n",
       "      document.getElementById(\"3c92fa44-b57c-47ff-b31e-50742939f063\").textContent = \"BokehJS is loading...\";\n",
       "    },\n",
       "    function(Bokeh) {\n",
       "      console.log(\"Bokeh: injecting CSS: https://cdn.pydata.org/bokeh/release/bokeh-0.12.4.min.css\");\n",
       "      Bokeh.embed.inject_css(\"https://cdn.pydata.org/bokeh/release/bokeh-0.12.4.min.css\");\n",
       "      console.log(\"Bokeh: injecting CSS: https://cdn.pydata.org/bokeh/release/bokeh-widgets-0.12.4.min.css\");\n",
       "      Bokeh.embed.inject_css(\"https://cdn.pydata.org/bokeh/release/bokeh-widgets-0.12.4.min.css\");\n",
       "    }\n",
       "  ];\n",
       "\n",
       "  function run_inline_js() {\n",
       "    \n",
       "    if ((window.Bokeh !== undefined) || (force === true)) {\n",
       "      for (var i = 0; i < inline_js.length; i++) {\n",
       "        inline_js[i](window.Bokeh);\n",
       "      }if (force === true) {\n",
       "        display_loaded();\n",
       "      }} else if (Date.now() < window._bokeh_timeout) {\n",
       "      setTimeout(run_inline_js, 100);\n",
       "    } else if (!window._bokeh_failed_load) {\n",
       "      console.log(\"Bokeh: BokehJS failed to load within specified timeout.\");\n",
       "      window._bokeh_failed_load = true;\n",
       "    } else if (force !== true) {\n",
       "      var cell = $(document.getElementById(\"3c92fa44-b57c-47ff-b31e-50742939f063\")).parents('.cell').data().cell;\n",
       "      cell.output_area.append_execute_result(NB_LOAD_WARNING)\n",
       "    }\n",
       "\n",
       "  }\n",
       "\n",
       "  if (window._bokeh_is_loading === 0) {\n",
       "    console.log(\"Bokeh: BokehJS loaded, going straight to plotting\");\n",
       "    run_inline_js();\n",
       "  } else {\n",
       "    load_libs(js_urls, function() {\n",
       "      console.log(\"Bokeh: BokehJS plotting callback run at\", now());\n",
       "      run_inline_js();\n",
       "    });\n",
       "  }\n",
       "}(this));"
      ]
     },
     "metadata": {},
     "output_type": "display_data"
    }
   ],
   "source": [
    "from bokeh.layouts import row, gridplot\n",
    "from bokeh.plotting import figure, output_notebook, show\n",
    "from bokeh.models import Legend\n",
    "TOOLS = 'box_zoom,box_select,crosshair,resize,reset,lasso_select,pan,save,poly_select,tap,wheel_zoom,undo'\n",
    "output_notebook()"
   ]
  },
  {
   "cell_type": "markdown",
   "metadata": {},
   "source": [
    "# Load the data"
   ]
  },
  {
   "cell_type": "code",
   "execution_count": 7,
   "metadata": {
    "collapsed": false
   },
   "outputs": [
    {
     "name": "stdout",
     "output_type": "stream",
     "text": [
      "Number of training examples 17712\n",
      "Number of validation examples 4428\n",
      "Number of testing examples 3908\n"
     ]
    }
   ],
   "source": [
    "X_train = np.load('./adult/X_train.npy')\n",
    "y_train = np.load('./adult/y_train.npy')\n",
    "X_test = np.load('./adult/X_test.npy')\n",
    "y_test = np.load('./adult/y_test.npy')\n",
    "X_deploy = np.load('./adult/X_deploy.npy')\n",
    "y_deploy = np.load('./adult/y_deploy.npy')\n",
    "print('Number of training examples',len(X_train))\n",
    "print('Number of validation examples',len(X_test))\n",
    "print('Number of testing examples',len(X_deploy))"
   ]
  },
  {
   "cell_type": "code",
   "execution_count": 8,
   "metadata": {
    "collapsed": false
   },
   "outputs": [],
   "source": [
    "exec(open(\"core.py\").read())  # pyhton 3x"
   ]
  },
  {
   "cell_type": "markdown",
   "metadata": {},
   "source": [
    "## Run Thompson Sampling pruning Algorithm"
   ]
  },
  {
   "cell_type": "code",
   "execution_count": 9,
   "metadata": {
    "collapsed": false
   },
   "outputs": [
    {
     "name": "stderr",
     "output_type": "stream",
     "text": [
      "/Library/Frameworks/Python.framework/Versions/3.6/lib/python3.6/site-packages/sklearn/cross_validation.py:44: DeprecationWarning: This module was deprecated in version 0.18 in favor of the model_selection module into which all the refactored classes and functions are moved. Also note that the interface of the new CV iterators are different from that of this module. This module will be removed in 0.20.\n",
      "  \"This module will be removed in 0.20.\", DeprecationWarning)\n",
      "Using Theano backend.\n"
     ]
    },
    {
     "name": "stdout",
     "output_type": "stream",
     "text": [
      "Test fraction correct (NN-Score) = 0.35\n",
      "Test fraction correct (NN-Accuracy) = 0.84\n",
      "The time for running this method is 0.8135659694671631 seconds \n",
      "Finsh playing start pruining:\n",
      "Test after pruning= 0.84\n",
      "Test after pruning= 0.84\n",
      "Test after pruning= 0.84\n",
      "Test after pruning= 0.84\n",
      "Test after pruning= 0.84\n",
      "Test after pruning= 0.84\n",
      "Test after pruning= 0.84\n",
      "Test after pruning= 0.84\n",
      "Test after pruning= 0.84\n",
      "Test after pruning= 0.84\n",
      "Test after pruning= 0.84\n",
      "Test after pruning= 0.84\n",
      "Test after pruning= 0.83\n",
      "Test after pruning= 0.81\n",
      "Test after pruning= 0.82\n",
      "Test after pruning= 0.81\n",
      "Test after pruning= 0.82\n",
      "Test after pruning= 0.81\n",
      "Test after pruning= 0.80\n",
      "Test after pruning= 0.79\n",
      "Test after pruning= 0.78\n",
      "Test after pruning= 0.77\n",
      "Test after pruning= 0.77\n",
      "Test after pruning= 0.77\n",
      "Test after pruning= 0.76\n",
      "Test after pruning= 0.75\n",
      "Test after pruning= 0.75\n",
      "Test after pruning= 0.74\n",
      "Test after pruning= 0.74\n",
      "Test after pruning= 0.74\n",
      "Test after pruning= 0.74\n",
      "Test after pruning= 0.74\n",
      "Test after pruning= 0.74\n",
      "Test after pruning= 0.77\n",
      "Test after pruning= 0.76\n",
      "Test after pruning= 0.76\n",
      "Test after pruning= 0.75\n",
      "Test after pruning= 0.77\n",
      "Test after pruning= 0.80\n",
      "Test after pruning= 0.79\n",
      "Test after pruning= 0.79\n",
      "Test after pruning= 0.80\n",
      "Test after pruning= 0.78\n",
      "Test after pruning= 0.74\n",
      "Test after pruning= 0.77\n",
      "Test after pruning= 0.78\n",
      "Test after pruning= 0.76\n",
      "Test after pruning= 0.76\n",
      "Test after pruning= 0.76\n",
      "Test after pruning= 0.71\n",
      "Test after pruning= 0.60\n",
      "Test after pruning= 0.58\n",
      "Test after pruning= 0.57\n",
      "Test after pruning= 0.54\n",
      "Test after pruning= 0.48\n",
      "Test after pruning= 0.48\n",
      "Test after pruning= 0.47\n",
      "Test after pruning= 0.45\n",
      "Test after pruning= 0.42\n",
      "Test after pruning= 0.24\n"
     ]
    },
    {
     "data": {
      "image/png": "[encoded data removed]",
      "text/plain": [
       "<matplotlib.figure.Figure at 0x10e2e8fd0>"
      ]
     },
     "metadata": {},
     "output_type": "display_data"
    }
   ],
   "source": [
    "algo = Thompson_Sampling([], [])\n",
    "Alg_name = 'Thompson_Sampling Algorithm'\n",
    "path = './Thompson_Sampling/'\n",
    "sys.path.append(\"./Thompson_Sampling\")\n",
    "exec(open(\"mnist_cnnFORTESTING.py\").read())"
   ]
  },
  {
   "cell_type": "markdown",
   "metadata": {},
   "source": [
    "## Run UCB1 pruning Algorithm"
   ]
  },
  {
   "cell_type": "code",
   "execution_count": 10,
   "metadata": {
    "collapsed": false
   },
   "outputs": [
    {
     "name": "stdout",
     "output_type": "stream",
     "text": [
      "Test fraction correct (NN-Score) = 0.35\n",
      "Test fraction correct (NN-Accuracy) = 0.84\n",
      "The time for running this method is 0.8126180171966553 seconds \n",
      "Finsh playing start pruining:\n",
      "Test after pruning= 0.83\n",
      "Test after pruning= 0.84\n",
      "Test after pruning= 0.84\n",
      "Test after pruning= 0.84\n",
      "Test after pruning= 0.84\n",
      "Test after pruning= 0.84\n",
      "Test after pruning= 0.84\n",
      "Test after pruning= 0.84\n",
      "Test after pruning= 0.83\n",
      "Test after pruning= 0.83\n",
      "Test after pruning= 0.83\n",
      "Test after pruning= 0.82\n",
      "Test after pruning= 0.81\n",
      "Test after pruning= 0.82\n",
      "Test after pruning= 0.82\n",
      "Test after pruning= 0.81\n",
      "Test after pruning= 0.80\n",
      "Test after pruning= 0.80\n",
      "Test after pruning= 0.79\n",
      "Test after pruning= 0.79\n",
      "Test after pruning= 0.79\n",
      "Test after pruning= 0.79\n",
      "Test after pruning= 0.80\n",
      "Test after pruning= 0.79\n",
      "Test after pruning= 0.78\n",
      "Test after pruning= 0.78\n",
      "Test after pruning= 0.79\n",
      "Test after pruning= 0.77\n",
      "Test after pruning= 0.76\n",
      "Test after pruning= 0.75\n",
      "Test after pruning= 0.72\n",
      "Test after pruning= 0.71\n",
      "Test after pruning= 0.71\n",
      "Test after pruning= 0.68\n",
      "Test after pruning= 0.65\n",
      "Test after pruning= 0.65\n",
      "Test after pruning= 0.62\n",
      "Test after pruning= 0.62\n",
      "Test after pruning= 0.58\n",
      "Test after pruning= 0.60\n",
      "Test after pruning= 0.62\n",
      "Test after pruning= 0.68\n",
      "Test after pruning= 0.67\n",
      "Test after pruning= 0.66\n",
      "Test after pruning= 0.69\n",
      "Test after pruning= 0.68\n",
      "Test after pruning= 0.66\n",
      "Test after pruning= 0.67\n",
      "Test after pruning= 0.60\n",
      "Test after pruning= 0.58\n",
      "Test after pruning= 0.56\n",
      "Test after pruning= 0.56\n",
      "Test after pruning= 0.56\n",
      "Test after pruning= 0.55\n",
      "Test after pruning= 0.57\n",
      "Test after pruning= 0.52\n",
      "Test after pruning= 0.52\n",
      "Test after pruning= 0.48\n",
      "Test after pruning= 0.42\n",
      "Test after pruning= 0.24\n"
     ]
    },
    {
     "data": {
      "image/png": "[encoded data removed]",
      "text/plain": [
       "<matplotlib.figure.Figure at 0x10e383630>"
      ]
     },
     "metadata": {},
     "output_type": "display_data"
    }
   ],
   "source": [
    "algo = UCB1([], [])\n",
    "Alg_name = 'UCB1 Algorithm'\n",
    "path = './UCB1/'\n",
    "sys.path.append(\"./UCB1\")\n",
    "exec(open(\"mnist_cnnFORTESTING.py\").read())"
   ]
  },
  {
   "cell_type": "markdown",
   "metadata": {
    "collapsed": true
   },
   "source": [
    "# Compare the accuracy"
   ]
  },
  {
   "cell_type": "code",
   "execution_count": 11,
   "metadata": {
    "collapsed": true
   },
   "outputs": [],
   "source": [
    "ucb1 = np.load('./UCB1/AccuracyAftrerPrune.npy')\n",
    "ThompsonSampling = np.load('./Thompson_Sampling/AccuracyAftrerPrune.npy')\n",
    "Accuracy = np.load('AccuracyBeforePruning.npy')"
   ]
  },
  {
   "cell_type": "code",
   "execution_count": 12,
   "metadata": {
    "collapsed": false
   },
   "outputs": [
    {
     "data": {
      "image/png": "[encoded data removed]",
      "text/plain": [
       "<matplotlib.figure.Figure at 0x10e3ca2b0>"
      ]
     },
     "metadata": {},
     "output_type": "display_data"
    }
   ],
   "source": [
    "fig = plt.figure(figsize=(10, 6), dpi=80)\n",
    "ax = fig.add_subplot(111)\n",
    "N = len(ucb1)\n",
    "ind = np.arange(N)                # the x locations for the groups\n",
    "plt.plot(ind , ucb1 , color=\"blue\", linewidth=2.5, linestyle=\"-\", label=\"UCB1\")\n",
    "plt.plot(ind , ThompsonSampling, color=\"orange\", linewidth=2.5, linestyle=\"-\", label=\"Thompson Sampling\")\n",
    "plt.legend(loc = 3)\n",
    "plt.axis([0, 25, 0, 1])\n",
    "plt.xlabel('Number of pruned Neurons')\n",
    "plt.ylabel('The Accuracy')\n",
    "plt.grid(True)\n",
    "plt.show()"
   ]
  },
  {
   "cell_type": "code",
   "execution_count": 13,
   "metadata": {
    "collapsed": false
   },
   "outputs": [
    {
     "data": {
      "text/html": [
       "\n",
       "\n",
       "    <div class=\"bk-root\">\n",
       "        <div class=\"bk-plotdiv\" id=\"494a53c5-5be3-4c5b-a7ff-2e9ee30731a9\"></div>\n",
       "    </div>\n",
       "<script type=\"text/javascript\">\n",
       "  \n",
       "  (function(global) {\n",
       "    function now() {\n",
       "      return new Date();\n",
       "    }\n",
       "  \n",
       "    var force = false;\n",
       "  \n",
       "    if (typeof (window._bokeh_onload_callbacks) === \"undefined\" || force === true) {\n",
       "      window._bokeh_onload_callbacks = [];\n",
       "      window._bokeh_is_loading = undefined;\n",
       "    }\n",
       "  \n",
       "  \n",
       "    \n",
       "    if (typeof (window._bokeh_timeout) === \"undefined\" || force === true) {\n",
       "      window._bokeh_timeout = Date.now() + 0;\n",
       "      window._bokeh_failed_load = false;\n",
       "    }\n",
       "  \n",
       "    var NB_LOAD_WARNING = {'data': {'text/html':\n",
       "       \"<div style='background-color: #fdd'>\\n\"+\n",
       "       \"<p>\\n\"+\n",
       "       \"BokehJS does not appear to have successfully loaded. If loading BokehJS from CDN, this \\n\"+\n",
       "       \"may be due to a slow or bad network connection. Possible fixes:\\n\"+\n",
       "       \"</p>\\n\"+\n",
       "       \"<ul>\\n\"+\n",
       "       \"<li>re-rerun `output_notebook()` to attempt to load from CDN again, or</li>\\n\"+\n",
       "       \"<li>use INLINE resources instead, as so:</li>\\n\"+\n",
       "       \"</ul>\\n\"+\n",
       "       \"<code>\\n\"+\n",
       "       \"from bokeh.resources import INLINE\\n\"+\n",
       "       \"output_notebook(resources=INLINE)\\n\"+\n",
       "       \"</code>\\n\"+\n",
       "       \"</div>\"}};\n",
       "  \n",
       "    function display_loaded() {\n",
       "      if (window.Bokeh !== undefined) {\n",
       "        document.getElementById(\"494a53c5-5be3-4c5b-a7ff-2e9ee30731a9\").textContent = \"BokehJS successfully loaded.\";\n",
       "      } else if (Date.now() < window._bokeh_timeout) {\n",
       "        setTimeout(display_loaded, 100)\n",
       "      }\n",
       "    }\n",
       "  \n",
       "    function run_callbacks() {\n",
       "      window._bokeh_onload_callbacks.forEach(function(callback) { callback() });\n",
       "      delete window._bokeh_onload_callbacks\n",
       "      console.info(\"Bokeh: all callbacks have finished\");\n",
       "    }\n",
       "  \n",
       "    function load_libs(js_urls, callback) {\n",
       "      window._bokeh_onload_callbacks.push(callback);\n",
       "      if (window._bokeh_is_loading > 0) {\n",
       "        console.log(\"Bokeh: BokehJS is being loaded, scheduling callback at\", now());\n",
       "        return null;\n",
       "      }\n",
       "      if (js_urls == null || js_urls.length === 0) {\n",
       "        run_callbacks();\n",
       "        return null;\n",
       "      }\n",
       "      console.log(\"Bokeh: BokehJS not loaded, scheduling load and callback at\", now());\n",
       "      window._bokeh_is_loading = js_urls.length;\n",
       "      for (var i = 0; i < js_urls.length; i++) {\n",
       "        var url = js_urls[i];\n",
       "        var s = document.createElement('script');\n",
       "        s.src = url;\n",
       "        s.async = false;\n",
       "        s.onreadystatechange = s.onload = function() {\n",
       "          window._bokeh_is_loading--;\n",
       "          if (window._bokeh_is_loading === 0) {\n",
       "            console.log(\"Bokeh: all BokehJS libraries loaded\");\n",
       "            run_callbacks()\n",
       "          }\n",
       "        };\n",
       "        s.onerror = function() {\n",
       "          console.warn(\"failed to load library \" + url);\n",
       "        };\n",
       "        console.log(\"Bokeh: injecting script tag for BokehJS library: \", url);\n",
       "        document.getElementsByTagName(\"head\")[0].appendChild(s);\n",
       "      }\n",
       "    };var element = document.getElementById(\"494a53c5-5be3-4c5b-a7ff-2e9ee30731a9\");\n",
       "    if (element == null) {\n",
       "      console.log(\"Bokeh: ERROR: autoload.js configured with elementid '494a53c5-5be3-4c5b-a7ff-2e9ee30731a9' but no matching script tag was found. \")\n",
       "      return false;\n",
       "    }\n",
       "  \n",
       "    var js_urls = [];\n",
       "  \n",
       "    var inline_js = [\n",
       "      function(Bokeh) {\n",
       "        (function() {\n",
       "          var fn = function() {\n",
       "            var docs_json = {\"80393047-9057-412d-998e-2b336a11f2d8\":{\"roots\":{\"references\":[{\"attributes\":{\"overlay\":{\"id\":\"de84275c-011c-4953-9270-ceb67a17c09a\",\"type\":\"BoxAnnotation\"},\"plot\":{\"id\":\"04e24aaf-e6ea-4a49-bca4-3827fe06ab90\",\"subtype\":\"Figure\",\"type\":\"Plot\"}},\"id\":\"7f2e94ea-3b07-4fc9-baf0-4e89d1ebe99d\",\"type\":\"BoxZoomTool\"},{\"attributes\":{\"plot\":{\"id\":\"04e24aaf-e6ea-4a49-bca4-3827fe06ab90\",\"subtype\":\"Figure\",\"type\":\"Plot\"}},\"id\":\"4df0a355-6dde-47ab-9552-c1b6e7e98776\",\"type\":\"UndoTool\"},{\"attributes\":{\"data_source\":{\"id\":\"b3b20f4f-3c3c-4780-89e2-4f72a10cc1bc\",\"type\":\"ColumnDataSource\"},\"glyph\":{\"id\":\"b6522f05-da58-4c0d-9e69-e87f7897531d\",\"type\":\"Line\"},\"hover_glyph\":null,\"nonselection_glyph\":{\"id\":\"4dc757f1-49c4-4ca5-9b68-c17c15c9ecd7\",\"type\":\"Line\"},\"selection_glyph\":null},\"id\":\"87a8e981-13d9-4ceb-a6fd-6541fd1680a3\",\"type\":\"GlyphRenderer\"},{\"attributes\":{\"callback\":null,\"column_names\":[\"x\",\"y\"],\"data\":{\"x\":[0,1,2,3,4,5,6,7,8,9,10,11,12,13,14,15,16,17,18,19,20,21,22,23,24,25,26,27,28,29,30,31,32,33,34,35,36,37,38,39,40,41,42,43,44,45,46,47,48,49,50,51,52,53,54,55,56,57,58,59],\"y\":{\"__ndarray__\":\"0q+RVPG36j9lgDaQ9uPqP0chsbydxuo/zSFPMg/m6j/tx/UWWezqP0FXQ4/24+o/QVdDj/bj6j/+JT//zsrqP93WDB+xnOo/hwuUm06U6j8UEssJJ3vqPz/f7LgwZuo/Gj6jQSYO6j91olTNIU/qP/643i41Jeo/y3jDtirN6T90NfT8h6npP1LmwRxqe+k/KOhqSBFe6T+ZOKjeZE/pPyZwFHKMaOk/YCMpM4c86T9uzfAZPqPpPzl36VXWbuk/W5XmMBrc6D8fanuZmhLpP5KUefBVOOk/TidKdd5/6D+7h9r+bGDoPxa7VuVJBug/RrRQ7Mf15j+LXauy7qHmP8e5S2+9neY/x4gWKhmg5T+nE6WKUrXkP+8OF0ghseQ/Iu3HVTjZ4z/83h2OpMzjPxt6zlxJaOI/UQwBfNki4z/e4QKlLu7jP80hT9L2suU/WvdQezuN5T+RJxmA+gTlPyJPMqD3H+Y/Q2I5dQ+15T95Ycy0OiDlP3n0a2Sxa+U/NVYHpFQt4z8FXQ3df5jiPwv2RbUqzeE/v0ZSpjnk4T/3skVWQ8/hP+Xnmz25reE/yPV26tdI4j+J5VQckLrgP0NiOeUjx+A/OuRJBn7v3j+d9x/msQnbPxkCeHbpdc4/\",\"dtype\":\"float64\",\"shape\":[60]}}},\"id\":\"ca00d4ed-6434-4915-aab1-c302ae0829f6\",\"type\":\"ColumnDataSource\"},{\"attributes\":{\"line_color\":{\"value\":\"blue\"},\"line_width\":{\"value\":2},\"x\":{\"field\":\"x\"},\"y\":{\"field\":\"y\"}},\"id\":\"c40ec800-8d9c-490b-a702-722d21c2eb08\",\"type\":\"Line\"},{\"attributes\":{\"plot\":{\"id\":\"04e24aaf-e6ea-4a49-bca4-3827fe06ab90\",\"subtype\":\"Figure\",\"type\":\"Plot\"}},\"id\":\"c362a5a6-5269-4715-b212-e948841aea7c\",\"type\":\"WheelZoomTool\"},{\"attributes\":{\"align\":\"center\",\"plot\":null,\"text\":\"The Performance over the number of neurons' pruned\"},\"id\":\"3a1ad160-4625-4737-855e-7efe041fc6ef\",\"type\":\"Title\"},{\"attributes\":{\"callback\":null,\"column_names\":[\"x\",\"y\"],\"data\":{\"x\":[0,1,2,3,4,5,6,7,8,9,10,11,12,13,14,15,16,17,18,19,20,21,22,23,24,25,26,27,28,29,30,31,32,33,34,35,36,37,38,39,40,41,42,43,44,45,46,47,48,49,50,51,52,53,54,55,56,57,58,59],\"y\":{\"__ndarray__\":\"es4shTHT6j/HuUtPxd/qP55kgHZA6uo/kcWudUDq6j9r6DlzQOrqP4eeM0vF3+o/RdqPq6zd6j8ra7fkGNHqP5QM0IYx0+o/IRMH9Qm66j8XKLf1CbrqP9vLFjk7vuo/LXat6kSp6j8JHIUkcBTqP3lhzLSXLeo/i78VnQ0M6j+1vWxxZinqP/jucGEI4Ok/Q8+ZReWF6T+HnjPrKWDpP0o3nUik/eg/ZEQLJVXL6D9Ck266D4ToP+eQJxn3geg/TsXfivtA6D+DfVFZuyXoP+M+EOJJBug/pgivZBPW5z+kLu6jq6HnP0xNidTrvOc/ivBKoquh5z+mCK9kE9bnP+oTdBUdwec/pZtO9BSw6D+X8YYNXknoPwrrT5+FYug/PFygvM775z/ef5jaXrboP7Gcir+Cfek/r/P+w65V6T/2p09wjGjpP45zl76Cfek/UaqWMRrc6D8Sy6k4/5LnP6+GnvMUsOg/V0PPObMU6T/3skX2p0/oP/PCmOniPug/nVmKUGN16D+itpctYMHmP96wzd9ZWeM/jTdsc9OJ4j8NbpxrOlHiP/5WdBSlauE/ZYA28PPN3j89yQDthm3ePz2YyyfzYN4/5y69LpeP3D+d9x/msQnbPxkCeHbpdc4/\",\"dtype\":\"float64\",\"shape\":[60]}}},\"id\":\"b3b20f4f-3c3c-4780-89e2-4f72a10cc1bc\",\"type\":\"ColumnDataSource\"},{\"attributes\":{\"callback\":null},\"id\":\"83bbb1a4-8900-4966-9c53-d07751e6c413\",\"type\":\"DataRange1d\"},{\"attributes\":{\"plot\":{\"id\":\"04e24aaf-e6ea-4a49-bca4-3827fe06ab90\",\"subtype\":\"Figure\",\"type\":\"Plot\"}},\"id\":\"87bd8572-ee29-4c73-aecb-9658b76afc4e\",\"type\":\"CrosshairTool\"},{\"attributes\":{\"fill_alpha\":{\"value\":0.5},\"fill_color\":{\"value\":\"lightgrey\"},\"level\":\"overlay\",\"line_alpha\":{\"value\":1.0},\"line_color\":{\"value\":\"black\"},\"line_dash\":[4,4],\"line_width\":{\"value\":2},\"plot\":null,\"xs_units\":\"screen\",\"ys_units\":\"screen\"},\"id\":\"8daa326c-890c-4597-9e3b-603dfd092eab\",\"type\":\"PolyAnnotation\"},{\"attributes\":{\"callback\":null,\"overlay\":{\"id\":\"b055d1e2-58b7-4160-b43d-7f5ac43fe74e\",\"type\":\"BoxAnnotation\"},\"plot\":{\"id\":\"04e24aaf-e6ea-4a49-bca4-3827fe06ab90\",\"subtype\":\"Figure\",\"type\":\"Plot\"},\"renderers\":[{\"id\":\"66488f35-c14b-4a01-bd0d-24d27522bdaf\",\"type\":\"GlyphRenderer\"},{\"id\":\"87a8e981-13d9-4ceb-a6fd-6541fd1680a3\",\"type\":\"GlyphRenderer\"}]},\"id\":\"c33adf63-92da-4208-bfe7-c354469b4adc\",\"type\":\"BoxSelectTool\"},{\"attributes\":{\"overlay\":{\"id\":\"e219f53d-c544-47c4-b3bd-de4fd69fb927\",\"type\":\"PolyAnnotation\"},\"plot\":{\"id\":\"04e24aaf-e6ea-4a49-bca4-3827fe06ab90\",\"subtype\":\"Figure\",\"type\":\"Plot\"}},\"id\":\"cb966cbb-97e6-4ee9-b927-6bf672ec3c1a\",\"type\":\"PolySelectTool\"},{\"attributes\":{\"formatter\":{\"id\":\"57897cdd-f6ff-4d1d-90e2-9c179aa58000\",\"type\":\"BasicTickFormatter\"},\"plot\":{\"id\":\"04e24aaf-e6ea-4a49-bca4-3827fe06ab90\",\"subtype\":\"Figure\",\"type\":\"Plot\"},\"ticker\":{\"id\":\"4572a50b-847c-43f0-af70-1aacc2e05c74\",\"type\":\"BasicTicker\"}},\"id\":\"891e6a9c-9ad3-484c-aee4-f1936927bb3a\",\"type\":\"LinearAxis\"},{\"attributes\":{},\"id\":\"1d803df5-e79d-4c82-8c30-93f1cd753558\",\"type\":\"ToolEvents\"},{\"attributes\":{\"bottom_units\":\"screen\",\"fill_alpha\":{\"value\":0.5},\"fill_color\":{\"value\":\"lightgrey\"},\"left_units\":\"screen\",\"level\":\"overlay\",\"line_alpha\":{\"value\":1.0},\"line_color\":{\"value\":\"black\"},\"line_dash\":[4,4],\"line_width\":{\"value\":2},\"plot\":null,\"render_mode\":\"css\",\"right_units\":\"screen\",\"top_units\":\"screen\"},\"id\":\"de84275c-011c-4953-9270-ceb67a17c09a\",\"type\":\"BoxAnnotation\"},{\"attributes\":{\"label\":{\"value\":\"ucb1\"},\"renderers\":[{\"id\":\"66488f35-c14b-4a01-bd0d-24d27522bdaf\",\"type\":\"GlyphRenderer\"}]},\"id\":\"fa8d44ac-de58-41ca-b6e7-2d1ab6762577\",\"type\":\"LegendItem\"},{\"attributes\":{},\"id\":\"4572a50b-847c-43f0-af70-1aacc2e05c74\",\"type\":\"BasicTicker\"},{\"attributes\":{},\"id\":\"19b8029b-a443-4a5c-aed8-c9ad304d15be\",\"type\":\"BasicTicker\"},{\"attributes\":{\"line_alpha\":{\"value\":0.1},\"line_color\":{\"value\":\"#1f77b4\"},\"line_width\":{\"value\":2},\"x\":{\"field\":\"x\"},\"y\":{\"field\":\"y\"}},\"id\":\"4dc757f1-49c4-4ca5-9b68-c17c15c9ecd7\",\"type\":\"Line\"},{\"attributes\":{\"dimension\":1,\"plot\":{\"id\":\"04e24aaf-e6ea-4a49-bca4-3827fe06ab90\",\"subtype\":\"Figure\",\"type\":\"Plot\"},\"ticker\":{\"id\":\"19b8029b-a443-4a5c-aed8-c9ad304d15be\",\"type\":\"BasicTicker\"}},\"id\":\"55d20844-e34c-4cb1-a9d4-699a8a4e6e7a\",\"type\":\"Grid\"},{\"attributes\":{\"data_source\":{\"id\":\"ca00d4ed-6434-4915-aab1-c302ae0829f6\",\"type\":\"ColumnDataSource\"},\"glyph\":{\"id\":\"c40ec800-8d9c-490b-a702-722d21c2eb08\",\"type\":\"Line\"},\"hover_glyph\":null,\"nonselection_glyph\":{\"id\":\"4f264129-c728-4238-ab05-56041ad2cfd9\",\"type\":\"Line\"},\"selection_glyph\":null},\"id\":\"66488f35-c14b-4a01-bd0d-24d27522bdaf\",\"type\":\"GlyphRenderer\"},{\"attributes\":{\"below\":[{\"id\":\"891e6a9c-9ad3-484c-aee4-f1936927bb3a\",\"type\":\"LinearAxis\"}],\"left\":[{\"id\":\"1b084ca1-6c1f-44ae-9c3a-247f21d37bdf\",\"type\":\"LinearAxis\"}],\"renderers\":[{\"id\":\"891e6a9c-9ad3-484c-aee4-f1936927bb3a\",\"type\":\"LinearAxis\"},{\"id\":\"f165d6b3-5ee3-4973-9d38-6164f0fb4249\",\"type\":\"Grid\"},{\"id\":\"1b084ca1-6c1f-44ae-9c3a-247f21d37bdf\",\"type\":\"LinearAxis\"},{\"id\":\"55d20844-e34c-4cb1-a9d4-699a8a4e6e7a\",\"type\":\"Grid\"},{\"id\":\"de84275c-011c-4953-9270-ceb67a17c09a\",\"type\":\"BoxAnnotation\"},{\"id\":\"b055d1e2-58b7-4160-b43d-7f5ac43fe74e\",\"type\":\"BoxAnnotation\"},{\"id\":\"8daa326c-890c-4597-9e3b-603dfd092eab\",\"type\":\"PolyAnnotation\"},{\"id\":\"e219f53d-c544-47c4-b3bd-de4fd69fb927\",\"type\":\"PolyAnnotation\"},{\"id\":\"06e936e2-7fed-4d02-b7ba-b751d5202059\",\"type\":\"Legend\"},{\"id\":\"66488f35-c14b-4a01-bd0d-24d27522bdaf\",\"type\":\"GlyphRenderer\"},{\"id\":\"87a8e981-13d9-4ceb-a6fd-6541fd1680a3\",\"type\":\"GlyphRenderer\"}],\"title\":{\"id\":\"3a1ad160-4625-4737-855e-7efe041fc6ef\",\"type\":\"Title\"},\"tool_events\":{\"id\":\"1d803df5-e79d-4c82-8c30-93f1cd753558\",\"type\":\"ToolEvents\"},\"toolbar\":{\"id\":\"747e7d79-d6a8-462d-8d57-0529f14abf0c\",\"type\":\"Toolbar\"},\"x_range\":{\"id\":\"83bbb1a4-8900-4966-9c53-d07751e6c413\",\"type\":\"DataRange1d\"},\"y_range\":{\"id\":\"1dbfa77b-e4b5-4bcb-9e03-389287680e31\",\"type\":\"DataRange1d\"}},\"id\":\"04e24aaf-e6ea-4a49-bca4-3827fe06ab90\",\"subtype\":\"Figure\",\"type\":\"Plot\"},{\"attributes\":{\"formatter\":{\"id\":\"cb61ac9b-0578-4072-8b41-f22aefcf0c78\",\"type\":\"BasicTickFormatter\"},\"plot\":{\"id\":\"04e24aaf-e6ea-4a49-bca4-3827fe06ab90\",\"subtype\":\"Figure\",\"type\":\"Plot\"},\"ticker\":{\"id\":\"19b8029b-a443-4a5c-aed8-c9ad304d15be\",\"type\":\"BasicTicker\"}},\"id\":\"1b084ca1-6c1f-44ae-9c3a-247f21d37bdf\",\"type\":\"LinearAxis\"},{\"attributes\":{\"line_alpha\":{\"value\":0.1},\"line_color\":{\"value\":\"#1f77b4\"},\"line_width\":{\"value\":2},\"x\":{\"field\":\"x\"},\"y\":{\"field\":\"y\"}},\"id\":\"4f264129-c728-4238-ab05-56041ad2cfd9\",\"type\":\"Line\"},{\"attributes\":{\"fill_alpha\":{\"value\":0.5},\"fill_color\":{\"value\":\"lightgrey\"},\"level\":\"overlay\",\"line_alpha\":{\"value\":1.0},\"line_color\":{\"value\":\"black\"},\"line_dash\":[4,4],\"line_width\":{\"value\":2},\"plot\":null,\"xs_units\":\"screen\",\"ys_units\":\"screen\"},\"id\":\"e219f53d-c544-47c4-b3bd-de4fd69fb927\",\"type\":\"PolyAnnotation\"},{\"attributes\":{\"callback\":null,\"overlay\":{\"id\":\"8daa326c-890c-4597-9e3b-603dfd092eab\",\"type\":\"PolyAnnotation\"},\"plot\":{\"id\":\"04e24aaf-e6ea-4a49-bca4-3827fe06ab90\",\"subtype\":\"Figure\",\"type\":\"Plot\"}},\"id\":\"8dc6ac75-229f-4284-8ac8-cb7fc1df3bdc\",\"type\":\"LassoSelectTool\"},{\"attributes\":{},\"id\":\"57897cdd-f6ff-4d1d-90e2-9c179aa58000\",\"type\":\"BasicTickFormatter\"},{\"attributes\":{\"callback\":null},\"id\":\"1dbfa77b-e4b5-4bcb-9e03-389287680e31\",\"type\":\"DataRange1d\"},{\"attributes\":{\"plot\":{\"id\":\"04e24aaf-e6ea-4a49-bca4-3827fe06ab90\",\"subtype\":\"Figure\",\"type\":\"Plot\"}},\"id\":\"0d7edc0d-6450-4d9a-8a16-deedb3e7b060\",\"type\":\"ResetTool\"},{\"attributes\":{\"items\":[{\"id\":\"fa8d44ac-de58-41ca-b6e7-2d1ab6762577\",\"type\":\"LegendItem\"},{\"id\":\"ecad2faf-bc64-4a3a-9e7f-a28e84cd701d\",\"type\":\"LegendItem\"}],\"plot\":{\"id\":\"04e24aaf-e6ea-4a49-bca4-3827fe06ab90\",\"subtype\":\"Figure\",\"type\":\"Plot\"}},\"id\":\"06e936e2-7fed-4d02-b7ba-b751d5202059\",\"type\":\"Legend\"},{\"attributes\":{\"plot\":{\"id\":\"04e24aaf-e6ea-4a49-bca4-3827fe06ab90\",\"subtype\":\"Figure\",\"type\":\"Plot\"}},\"id\":\"8413391a-3f72-4c3e-9ac7-88d0037f02e7\",\"type\":\"PanTool\"},{\"attributes\":{\"bottom_units\":\"screen\",\"fill_alpha\":{\"value\":0.5},\"fill_color\":{\"value\":\"lightgrey\"},\"left_units\":\"screen\",\"level\":\"overlay\",\"line_alpha\":{\"value\":1.0},\"line_color\":{\"value\":\"black\"},\"line_dash\":[4,4],\"line_width\":{\"value\":2},\"plot\":null,\"render_mode\":\"css\",\"right_units\":\"screen\",\"top_units\":\"screen\"},\"id\":\"b055d1e2-58b7-4160-b43d-7f5ac43fe74e\",\"type\":\"BoxAnnotation\"},{\"attributes\":{\"plot\":{\"id\":\"04e24aaf-e6ea-4a49-bca4-3827fe06ab90\",\"subtype\":\"Figure\",\"type\":\"Plot\"}},\"id\":\"3922936f-f190-4e6f-b2a5-64daaaae3b40\",\"type\":\"SaveTool\"},{\"attributes\":{\"plot\":{\"id\":\"04e24aaf-e6ea-4a49-bca4-3827fe06ab90\",\"subtype\":\"Figure\",\"type\":\"Plot\"}},\"id\":\"5c67d387-8dca-4155-8aa4-d5723df84ab5\",\"type\":\"ResizeTool\"},{\"attributes\":{\"plot\":{\"id\":\"04e24aaf-e6ea-4a49-bca4-3827fe06ab90\",\"subtype\":\"Figure\",\"type\":\"Plot\"},\"ticker\":{\"id\":\"4572a50b-847c-43f0-af70-1aacc2e05c74\",\"type\":\"BasicTicker\"}},\"id\":\"f165d6b3-5ee3-4973-9d38-6164f0fb4249\",\"type\":\"Grid\"},{\"attributes\":{},\"id\":\"cb61ac9b-0578-4072-8b41-f22aefcf0c78\",\"type\":\"BasicTickFormatter\"},{\"attributes\":{\"callback\":null,\"plot\":{\"id\":\"04e24aaf-e6ea-4a49-bca4-3827fe06ab90\",\"subtype\":\"Figure\",\"type\":\"Plot\"}},\"id\":\"7e5de377-595a-4a2d-8652-942fc056e989\",\"type\":\"TapTool\"},{\"attributes\":{\"label\":{\"value\":\"Thompson Sampling\"},\"renderers\":[{\"id\":\"87a8e981-13d9-4ceb-a6fd-6541fd1680a3\",\"type\":\"GlyphRenderer\"}]},\"id\":\"ecad2faf-bc64-4a3a-9e7f-a28e84cd701d\",\"type\":\"LegendItem\"},{\"attributes\":{\"active_drag\":\"auto\",\"active_scroll\":\"auto\",\"active_tap\":\"auto\",\"tools\":[{\"id\":\"7f2e94ea-3b07-4fc9-baf0-4e89d1ebe99d\",\"type\":\"BoxZoomTool\"},{\"id\":\"c33adf63-92da-4208-bfe7-c354469b4adc\",\"type\":\"BoxSelectTool\"},{\"id\":\"87bd8572-ee29-4c73-aecb-9658b76afc4e\",\"type\":\"CrosshairTool\"},{\"id\":\"5c67d387-8dca-4155-8aa4-d5723df84ab5\",\"type\":\"ResizeTool\"},{\"id\":\"0d7edc0d-6450-4d9a-8a16-deedb3e7b060\",\"type\":\"ResetTool\"},{\"id\":\"8dc6ac75-229f-4284-8ac8-cb7fc1df3bdc\",\"type\":\"LassoSelectTool\"},{\"id\":\"8413391a-3f72-4c3e-9ac7-88d0037f02e7\",\"type\":\"PanTool\"},{\"id\":\"3922936f-f190-4e6f-b2a5-64daaaae3b40\",\"type\":\"SaveTool\"},{\"id\":\"cb966cbb-97e6-4ee9-b927-6bf672ec3c1a\",\"type\":\"PolySelectTool\"},{\"id\":\"7e5de377-595a-4a2d-8652-942fc056e989\",\"type\":\"TapTool\"},{\"id\":\"c362a5a6-5269-4715-b212-e948841aea7c\",\"type\":\"WheelZoomTool\"},{\"id\":\"4df0a355-6dde-47ab-9552-c1b6e7e98776\",\"type\":\"UndoTool\"}]},\"id\":\"747e7d79-d6a8-462d-8d57-0529f14abf0c\",\"type\":\"Toolbar\"},{\"attributes\":{\"line_color\":{\"value\":\"red\"},\"line_width\":{\"value\":2},\"x\":{\"field\":\"x\"},\"y\":{\"field\":\"y\"}},\"id\":\"b6522f05-da58-4c0d-9e69-e87f7897531d\",\"type\":\"Line\"}],\"root_ids\":[\"04e24aaf-e6ea-4a49-bca4-3827fe06ab90\"]},\"title\":\"Bokeh Application\",\"version\":\"0.12.4\"}};\n",
       "            var render_items = [{\"docid\":\"80393047-9057-412d-998e-2b336a11f2d8\",\"elementid\":\"494a53c5-5be3-4c5b-a7ff-2e9ee30731a9\",\"modelid\":\"04e24aaf-e6ea-4a49-bca4-3827fe06ab90\"}];\n",
       "            \n",
       "            Bokeh.embed.embed_items(docs_json, render_items);\n",
       "          };\n",
       "          if (document.readyState != \"loading\") fn();\n",
       "          else document.addEventListener(\"DOMContentLoaded\", fn);\n",
       "        })();\n",
       "      },\n",
       "      function(Bokeh) {\n",
       "      }\n",
       "    ];\n",
       "  \n",
       "    function run_inline_js() {\n",
       "      \n",
       "      if ((window.Bokeh !== undefined) || (force === true)) {\n",
       "        for (var i = 0; i < inline_js.length; i++) {\n",
       "          inline_js[i](window.Bokeh);\n",
       "        }if (force === true) {\n",
       "          display_loaded();\n",
       "        }} else if (Date.now() < window._bokeh_timeout) {\n",
       "        setTimeout(run_inline_js, 100);\n",
       "      } else if (!window._bokeh_failed_load) {\n",
       "        console.log(\"Bokeh: BokehJS failed to load within specified timeout.\");\n",
       "        window._bokeh_failed_load = true;\n",
       "      } else if (force !== true) {\n",
       "        var cell = $(document.getElementById(\"494a53c5-5be3-4c5b-a7ff-2e9ee30731a9\")).parents('.cell').data().cell;\n",
       "        cell.output_area.append_execute_result(NB_LOAD_WARNING)\n",
       "      }\n",
       "  \n",
       "    }\n",
       "  \n",
       "    if (window._bokeh_is_loading === 0) {\n",
       "      console.log(\"Bokeh: BokehJS loaded, going straight to plotting\");\n",
       "      run_inline_js();\n",
       "    } else {\n",
       "      load_libs(js_urls, function() {\n",
       "        console.log(\"Bokeh: BokehJS plotting callback run at\", now());\n",
       "        run_inline_js();\n",
       "      });\n",
       "    }\n",
       "  }(this));\n",
       "</script>"
      ]
     },
     "metadata": {},
     "output_type": "display_data"
    }
   ],
   "source": [
    "p1 = figure(title=\"The Performance over the number of neurons' pruned\", tools=TOOLS)\n",
    "p1.line(ind, ucb1, legend=\"ucb1\", line_color=\"blue\", line_width=2)\n",
    "p1.line(ind, ThompsonSampling, legend=\"Thompson Sampling\", line_color=\"red\", line_width=2)\n",
    "p1.title.align = \"center\"\n",
    "show(p1)"
   ]
  },
  {
   "cell_type": "markdown",
   "metadata": {},
   "source": [
    "# Comparing All algorithms with the model before pruning"
   ]
  },
  {
   "cell_type": "code",
   "execution_count": 14,
   "metadata": {
    "collapsed": false
   },
   "outputs": [
    {
     "data": {
      "image/png": "[encoded data removed]",
      "text/plain": [
       "<matplotlib.figure.Figure at 0x10e688080>"
      ]
     },
     "metadata": {},
     "output_type": "display_data"
    }
   ],
   "source": [
    "fig = plt.figure(figsize=(10, 6), dpi=80)\n",
    "ax = fig.add_subplot(111)\n",
    "N = len(ucb1)\n",
    "Acc = [Accuracy for col in range(N)]\n",
    "ind = np.arange(N)                # the x locations for the groups\n",
    "plt.plot(ind , ucb1 , color=\"blue\", linewidth=2.5, linestyle=\"-\", label=\"UCB1\")\n",
    "plt.plot(ind , ThompsonSampling, color=\"orange\", linewidth=2.5, linestyle=\"-\", label=\"Thompson Sampling\")\n",
    "plt.plot(ind , Acc, color=\"pink\", linewidth=2.5, linestyle=\"-\", label=\"Accuracy before Pruning\")\n",
    "plt.legend(loc = 3)\n",
    "plt.axis([0, 25, 0, 1])\n",
    "plt.xlabel('Number of pruned Neurons')\n",
    "plt.ylabel('The Accuracy')\n",
    "plt.grid(True)\n",
    "plt.show()"
   ]
  },
  {
   "cell_type": "code",
   "execution_count": 15,
   "metadata": {
    "collapsed": false
   },
   "outputs": [
    {
     "data": {
      "text/html": [
       "\n",
       "\n",
       "    <div class=\"bk-root\">\n",
       "        <div class=\"bk-plotdiv\" id=\"94712979-2466-4d0a-afaa-dc1ad8897e5e\"></div>\n",
       "    </div>\n",
       "<script type=\"text/javascript\">\n",
       "  \n",
       "  (function(global) {\n",
       "    function now() {\n",
       "      return new Date();\n",
       "    }\n",
       "  \n",
       "    var force = false;\n",
       "  \n",
       "    if (typeof (window._bokeh_onload_callbacks) === \"undefined\" || force === true) {\n",
       "      window._bokeh_onload_callbacks = [];\n",
       "      window._bokeh_is_loading = undefined;\n",
       "    }\n",
       "  \n",
       "  \n",
       "    \n",
       "    if (typeof (window._bokeh_timeout) === \"undefined\" || force === true) {\n",
       "      window._bokeh_timeout = Date.now() + 0;\n",
       "      window._bokeh_failed_load = false;\n",
       "    }\n",
       "  \n",
       "    var NB_LOAD_WARNING = {'data': {'text/html':\n",
       "       \"<div style='background-color: #fdd'>\\n\"+\n",
       "       \"<p>\\n\"+\n",
       "       \"BokehJS does not appear to have successfully loaded. If loading BokehJS from CDN, this \\n\"+\n",
       "       \"may be due to a slow or bad network connection. Possible fixes:\\n\"+\n",
       "       \"</p>\\n\"+\n",
       "       \"<ul>\\n\"+\n",
       "       \"<li>re-rerun `output_notebook()` to attempt to load from CDN again, or</li>\\n\"+\n",
       "       \"<li>use INLINE resources instead, as so:</li>\\n\"+\n",
       "       \"</ul>\\n\"+\n",
       "       \"<code>\\n\"+\n",
       "       \"from bokeh.resources import INLINE\\n\"+\n",
       "       \"output_notebook(resources=INLINE)\\n\"+\n",
       "       \"</code>\\n\"+\n",
       "       \"</div>\"}};\n",
       "  \n",
       "    function display_loaded() {\n",
       "      if (window.Bokeh !== undefined) {\n",
       "        document.getElementById(\"94712979-2466-4d0a-afaa-dc1ad8897e5e\").textContent = \"BokehJS successfully loaded.\";\n",
       "      } else if (Date.now() < window._bokeh_timeout) {\n",
       "        setTimeout(display_loaded, 100)\n",
       "      }\n",
       "    }\n",
       "  \n",
       "    function run_callbacks() {\n",
       "      window._bokeh_onload_callbacks.forEach(function(callback) { callback() });\n",
       "      delete window._bokeh_onload_callbacks\n",
       "      console.info(\"Bokeh: all callbacks have finished\");\n",
       "    }\n",
       "  \n",
       "    function load_libs(js_urls, callback) {\n",
       "      window._bokeh_onload_callbacks.push(callback);\n",
       "      if (window._bokeh_is_loading > 0) {\n",
       "        console.log(\"Bokeh: BokehJS is being loaded, scheduling callback at\", now());\n",
       "        return null;\n",
       "      }\n",
       "      if (js_urls == null || js_urls.length === 0) {\n",
       "        run_callbacks();\n",
       "        return null;\n",
       "      }\n",
       "      console.log(\"Bokeh: BokehJS not loaded, scheduling load and callback at\", now());\n",
       "      window._bokeh_is_loading = js_urls.length;\n",
       "      for (var i = 0; i < js_urls.length; i++) {\n",
       "        var url = js_urls[i];\n",
       "        var s = document.createElement('script');\n",
       "        s.src = url;\n",
       "        s.async = false;\n",
       "        s.onreadystatechange = s.onload = function() {\n",
       "          window._bokeh_is_loading--;\n",
       "          if (window._bokeh_is_loading === 0) {\n",
       "            console.log(\"Bokeh: all BokehJS libraries loaded\");\n",
       "            run_callbacks()\n",
       "          }\n",
       "        };\n",
       "        s.onerror = function() {\n",
       "          console.warn(\"failed to load library \" + url);\n",
       "        };\n",
       "        console.log(\"Bokeh: injecting script tag for BokehJS library: \", url);\n",
       "        document.getElementsByTagName(\"head\")[0].appendChild(s);\n",
       "      }\n",
       "    };var element = document.getElementById(\"94712979-2466-4d0a-afaa-dc1ad8897e5e\");\n",
       "    if (element == null) {\n",
       "      console.log(\"Bokeh: ERROR: autoload.js configured with elementid '94712979-2466-4d0a-afaa-dc1ad8897e5e' but no matching script tag was found. \")\n",
       "      return false;\n",
       "    }\n",
       "  \n",
       "    var js_urls = [];\n",
       "  \n",
       "    var inline_js = [\n",
       "      function(Bokeh) {\n",
       "        (function() {\n",
       "          var fn = function() {\n",
       "            var docs_json = {\"41639bb1-7a04-4771-ab7d-e302db769742\":{\"roots\":{\"references\":[{\"attributes\":{\"line_alpha\":{\"value\":0.1},\"line_color\":{\"value\":\"#1f77b4\"},\"line_width\":{\"value\":2},\"x\":{\"field\":\"x\"},\"y\":{\"field\":\"y\"}},\"id\":\"517d9692-f47c-4029-b9d1-2a86fd58a54a\",\"type\":\"Line\"},{\"attributes\":{\"callback\":null,\"column_names\":[\"x\",\"y\"],\"data\":{\"x\":[0,1,2,3,4,5,6,7,8,9,10,11,12,13,14,15,16,17,18,19,20,21,22,23,24,25,26,27,28,29,30,31,32,33,34,35,36,37,38,39,40,41,42,43,44,45,46,47,48,49,50,51,52,53,54,55,56,57,58,59],\"y\":{\"__ndarray__\":\"0q+RVPG36j9lgDaQ9uPqP0chsbydxuo/zSFPMg/m6j/tx/UWWezqP0FXQ4/24+o/QVdDj/bj6j/+JT//zsrqP93WDB+xnOo/hwuUm06U6j8UEssJJ3vqPz/f7LgwZuo/Gj6jQSYO6j91olTNIU/qP/643i41Jeo/y3jDtirN6T90NfT8h6npP1LmwRxqe+k/KOhqSBFe6T+ZOKjeZE/pPyZwFHKMaOk/YCMpM4c86T9uzfAZPqPpPzl36VXWbuk/W5XmMBrc6D8fanuZmhLpP5KUefBVOOk/TidKdd5/6D+7h9r+bGDoPxa7VuVJBug/RrRQ7Mf15j+LXauy7qHmP8e5S2+9neY/x4gWKhmg5T+nE6WKUrXkP+8OF0ghseQ/Iu3HVTjZ4z/83h2OpMzjPxt6zlxJaOI/UQwBfNki4z/e4QKlLu7jP80hT9L2suU/WvdQezuN5T+RJxmA+gTlPyJPMqD3H+Y/Q2I5dQ+15T95Ycy0OiDlP3n0a2Sxa+U/NVYHpFQt4z8FXQ3df5jiPwv2RbUqzeE/v0ZSpjnk4T/3skVWQ8/hP+Xnmz25reE/yPV26tdI4j+J5VQckLrgP0NiOeUjx+A/OuRJBn7v3j+d9x/msQnbPxkCeHbpdc4/\",\"dtype\":\"float64\",\"shape\":[60]}}},\"id\":\"e3e57c4d-c775-44e2-8047-ccdd9b508da6\",\"type\":\"ColumnDataSource\"},{\"attributes\":{\"data_source\":{\"id\":\"e3e57c4d-c775-44e2-8047-ccdd9b508da6\",\"type\":\"ColumnDataSource\"},\"glyph\":{\"id\":\"6b12383c-b3c6-44be-bb60-49940e1b00db\",\"type\":\"Line\"},\"hover_glyph\":null,\"nonselection_glyph\":{\"id\":\"517d9692-f47c-4029-b9d1-2a86fd58a54a\",\"type\":\"Line\"},\"selection_glyph\":null},\"id\":\"d169e8ef-da72-441c-8d22-12f549d510f0\",\"type\":\"GlyphRenderer\"},{\"attributes\":{\"line_color\":{\"value\":\"blue\"},\"line_dash\":[4,4],\"line_width\":{\"value\":2},\"x\":{\"field\":\"x\"},\"y\":{\"field\":\"y\"}},\"id\":\"9adef2f2-d320-41b4-ac1f-adf067eb78ad\",\"type\":\"Line\"},{\"attributes\":{\"overlay\":{\"id\":\"91b95d6f-cebf-458b-8ebb-4b462a82682b\",\"type\":\"BoxAnnotation\"},\"plot\":{\"id\":\"278c3713-47b7-41e7-bae2-e47f109a2f3b\",\"subtype\":\"Figure\",\"type\":\"Plot\"}},\"id\":\"d5a259ec-b271-4a13-9a26-d9e3e356cc73\",\"type\":\"BoxZoomTool\"},{\"attributes\":{\"overlay\":{\"id\":\"470e8f9a-b4ff-4e7c-82a5-dd652449360e\",\"type\":\"PolyAnnotation\"},\"plot\":{\"id\":\"278c3713-47b7-41e7-bae2-e47f109a2f3b\",\"subtype\":\"Figure\",\"type\":\"Plot\"}},\"id\":\"79458c8d-ebae-4eb8-8e1f-e9cb7d8cf64b\",\"type\":\"PolySelectTool\"},{\"attributes\":{},\"id\":\"101a64cf-5cdf-4699-a52f-01d1fc9c258c\",\"type\":\"BasicTickFormatter\"},{\"attributes\":{\"callback\":null,\"plot\":{\"id\":\"278c3713-47b7-41e7-bae2-e47f109a2f3b\",\"subtype\":\"Figure\",\"type\":\"Plot\"}},\"id\":\"e18c7273-a75e-4fab-a978-e8c62533ffb8\",\"type\":\"TapTool\"},{\"attributes\":{},\"id\":\"e12fcb34-469b-48e2-a0b6-5dae671d68a9\",\"type\":\"BasicTicker\"},{\"attributes\":{\"formatter\":{\"id\":\"15eddadd-1c54-4d6c-bac4-bcb83d9b05b1\",\"type\":\"BasicTickFormatter\"},\"plot\":{\"id\":\"278c3713-47b7-41e7-bae2-e47f109a2f3b\",\"subtype\":\"Figure\",\"type\":\"Plot\"},\"ticker\":{\"id\":\"dbf7b0d3-97e1-4899-ab43-d94044ed950f\",\"type\":\"BasicTicker\"}},\"id\":\"922ec304-4880-42b9-ac67-cb1a0764f24b\",\"type\":\"LinearAxis\"},{\"attributes\":{\"callback\":null},\"id\":\"d63ea618-89ba-4861-8a09-8f7801bef223\",\"type\":\"DataRange1d\"},{\"attributes\":{\"dimension\":1,\"plot\":{\"id\":\"278c3713-47b7-41e7-bae2-e47f109a2f3b\",\"subtype\":\"Figure\",\"type\":\"Plot\"},\"ticker\":{\"id\":\"e12fcb34-469b-48e2-a0b6-5dae671d68a9\",\"type\":\"BasicTicker\"}},\"id\":\"b76955ab-d000-4f72-8533-c6aa95ab86c6\",\"type\":\"Grid\"},{\"attributes\":{\"plot\":{\"id\":\"278c3713-47b7-41e7-bae2-e47f109a2f3b\",\"subtype\":\"Figure\",\"type\":\"Plot\"}},\"id\":\"dca5bc8a-8782-4c2c-858e-d75e0497d2e0\",\"type\":\"ResetTool\"},{\"attributes\":{\"plot\":{\"id\":\"278c3713-47b7-41e7-bae2-e47f109a2f3b\",\"subtype\":\"Figure\",\"type\":\"Plot\"}},\"id\":\"fe670e96-4dd6-47bf-b97c-764290c43256\",\"type\":\"SaveTool\"},{\"attributes\":{\"callback\":null,\"overlay\":{\"id\":\"f89a1a99-dc41-4040-9c35-22a0769ea940\",\"type\":\"PolyAnnotation\"},\"plot\":{\"id\":\"278c3713-47b7-41e7-bae2-e47f109a2f3b\",\"subtype\":\"Figure\",\"type\":\"Plot\"}},\"id\":\"f97c5ea5-2bc3-4612-a04b-8a63901028f5\",\"type\":\"LassoSelectTool\"},{\"attributes\":{\"plot\":{\"id\":\"278c3713-47b7-41e7-bae2-e47f109a2f3b\",\"subtype\":\"Figure\",\"type\":\"Plot\"}},\"id\":\"ece09b06-4880-4aa3-b4ce-910d3990b9c4\",\"type\":\"ResizeTool\"},{\"attributes\":{},\"id\":\"15eddadd-1c54-4d6c-bac4-bcb83d9b05b1\",\"type\":\"BasicTickFormatter\"},{\"attributes\":{},\"id\":\"0f9e1d65-ff3d-43d0-82b2-fca2f0aabfe3\",\"type\":\"ToolEvents\"},{\"attributes\":{\"align\":\"center\",\"plot\":null,\"text\":\"The Performance over the number of neurons' pruned\"},\"id\":\"4abbea01-10b3-406d-a242-257469861868\",\"type\":\"Title\"},{\"attributes\":{\"plot\":{\"id\":\"278c3713-47b7-41e7-bae2-e47f109a2f3b\",\"subtype\":\"Figure\",\"type\":\"Plot\"}},\"id\":\"590a8ebe-256d-4ee4-a039-3ff50a53fc68\",\"type\":\"CrosshairTool\"},{\"attributes\":{\"callback\":null,\"column_names\":[\"x\",\"y\"],\"data\":{\"x\":[0,1,2,3,4,5,6,7,8,9,10,11,12,13,14,15,16,17,18,19,20,21,22,23,24,25,26,27,28,29,30,31,32,33,34,35,36,37,38,39,40,41,42,43,44,45,46,47,48,49,50,51,52,53,54,55,56,57,58,59],\"y\":{\"__ndarray__\":\"es4shTHT6j/HuUtPxd/qP55kgHZA6uo/kcWudUDq6j9r6DlzQOrqP4eeM0vF3+o/RdqPq6zd6j8ra7fkGNHqP5QM0IYx0+o/IRMH9Qm66j8XKLf1CbrqP9vLFjk7vuo/LXat6kSp6j8JHIUkcBTqP3lhzLSXLeo/i78VnQ0M6j+1vWxxZinqP/jucGEI4Ok/Q8+ZReWF6T+HnjPrKWDpP0o3nUik/eg/ZEQLJVXL6D9Ck266D4ToP+eQJxn3geg/TsXfivtA6D+DfVFZuyXoP+M+EOJJBug/pgivZBPW5z+kLu6jq6HnP0xNidTrvOc/ivBKoquh5z+mCK9kE9bnP+oTdBUdwec/pZtO9BSw6D+X8YYNXknoPwrrT5+FYug/PFygvM775z/ef5jaXrboP7Gcir+Cfek/r/P+w65V6T/2p09wjGjpP45zl76Cfek/UaqWMRrc6D8Sy6k4/5LnP6+GnvMUsOg/V0PPObMU6T/3skX2p0/oP/PCmOniPug/nVmKUGN16D+itpctYMHmP96wzd9ZWeM/jTdsc9OJ4j8NbpxrOlHiP/5WdBSlauE/ZYA28PPN3j89yQDthm3ePz2YyyfzYN4/5y69LpeP3D+d9x/msQnbPxkCeHbpdc4/\",\"dtype\":\"float64\",\"shape\":[60]}}},\"id\":\"101efc01-43e0-4b5b-bfe7-ccac19b11c18\",\"type\":\"ColumnDataSource\"},{\"attributes\":{\"line_color\":{\"value\":\"green\"},\"line_width\":{\"value\":2},\"x\":{\"field\":\"x\"},\"y\":{\"field\":\"y\"}},\"id\":\"6b12383c-b3c6-44be-bb60-49940e1b00db\",\"type\":\"Line\"},{\"attributes\":{\"bottom_units\":\"screen\",\"fill_alpha\":{\"value\":0.5},\"fill_color\":{\"value\":\"lightgrey\"},\"left_units\":\"screen\",\"level\":\"overlay\",\"line_alpha\":{\"value\":1.0},\"line_color\":{\"value\":\"black\"},\"line_dash\":[4,4],\"line_width\":{\"value\":2},\"plot\":null,\"render_mode\":\"css\",\"right_units\":\"screen\",\"top_units\":\"screen\"},\"id\":\"456b99a6-0f00-463c-b096-cc18b5933bd0\",\"type\":\"BoxAnnotation\"},{\"attributes\":{\"callback\":null},\"id\":\"b69e07c2-a32c-4eac-8fc0-53849b907e22\",\"type\":\"DataRange1d\"},{\"attributes\":{\"items\":[{\"id\":\"afd02f9b-a50c-400f-83c7-805493b94bb8\",\"type\":\"LegendItem\"},{\"id\":\"900044d4-16c3-4a4d-ad36-79249a724146\",\"type\":\"LegendItem\"},{\"id\":\"7395448e-1d05-4c6f-9113-f2d85a89aa3f\",\"type\":\"LegendItem\"}],\"plot\":{\"id\":\"278c3713-47b7-41e7-bae2-e47f109a2f3b\",\"subtype\":\"Figure\",\"type\":\"Plot\"}},\"id\":\"0559e3e6-a766-407f-8964-ec389b2b3158\",\"type\":\"Legend\"},{\"attributes\":{\"label\":{\"value\":\"Accuracy\"},\"renderers\":[{\"id\":\"067d76ce-d15f-4c11-8958-1b50084d33c5\",\"type\":\"GlyphRenderer\"}]},\"id\":\"7395448e-1d05-4c6f-9113-f2d85a89aa3f\",\"type\":\"LegendItem\"},{\"attributes\":{\"plot\":{\"id\":\"278c3713-47b7-41e7-bae2-e47f109a2f3b\",\"subtype\":\"Figure\",\"type\":\"Plot\"},\"ticker\":{\"id\":\"dbf7b0d3-97e1-4899-ab43-d94044ed950f\",\"type\":\"BasicTicker\"}},\"id\":\"b44a43c4-41ca-416f-bd71-63ec026fd329\",\"type\":\"Grid\"},{\"attributes\":{\"plot\":{\"id\":\"278c3713-47b7-41e7-bae2-e47f109a2f3b\",\"subtype\":\"Figure\",\"type\":\"Plot\"}},\"id\":\"f561cf2a-7230-450e-9309-a231bfe28c25\",\"type\":\"WheelZoomTool\"},{\"attributes\":{\"formatter\":{\"id\":\"101a64cf-5cdf-4699-a52f-01d1fc9c258c\",\"type\":\"BasicTickFormatter\"},\"plot\":{\"id\":\"278c3713-47b7-41e7-bae2-e47f109a2f3b\",\"subtype\":\"Figure\",\"type\":\"Plot\"},\"ticker\":{\"id\":\"e12fcb34-469b-48e2-a0b6-5dae671d68a9\",\"type\":\"BasicTicker\"}},\"id\":\"5d02cc40-e148-4e49-915a-bf0c2c3e5d48\",\"type\":\"LinearAxis\"},{\"attributes\":{\"label\":{\"value\":\"ucb1\"},\"renderers\":[{\"id\":\"d169e8ef-da72-441c-8d22-12f549d510f0\",\"type\":\"GlyphRenderer\"}]},\"id\":\"afd02f9b-a50c-400f-83c7-805493b94bb8\",\"type\":\"LegendItem\"},{\"attributes\":{\"plot\":{\"id\":\"278c3713-47b7-41e7-bae2-e47f109a2f3b\",\"subtype\":\"Figure\",\"type\":\"Plot\"}},\"id\":\"b3d98eb5-b496-4997-a49c-caccfa4a7268\",\"type\":\"UndoTool\"},{\"attributes\":{\"below\":[{\"id\":\"922ec304-4880-42b9-ac67-cb1a0764f24b\",\"type\":\"LinearAxis\"}],\"left\":[{\"id\":\"5d02cc40-e148-4e49-915a-bf0c2c3e5d48\",\"type\":\"LinearAxis\"}],\"renderers\":[{\"id\":\"922ec304-4880-42b9-ac67-cb1a0764f24b\",\"type\":\"LinearAxis\"},{\"id\":\"b44a43c4-41ca-416f-bd71-63ec026fd329\",\"type\":\"Grid\"},{\"id\":\"5d02cc40-e148-4e49-915a-bf0c2c3e5d48\",\"type\":\"LinearAxis\"},{\"id\":\"b76955ab-d000-4f72-8533-c6aa95ab86c6\",\"type\":\"Grid\"},{\"id\":\"91b95d6f-cebf-458b-8ebb-4b462a82682b\",\"type\":\"BoxAnnotation\"},{\"id\":\"456b99a6-0f00-463c-b096-cc18b5933bd0\",\"type\":\"BoxAnnotation\"},{\"id\":\"f89a1a99-dc41-4040-9c35-22a0769ea940\",\"type\":\"PolyAnnotation\"},{\"id\":\"470e8f9a-b4ff-4e7c-82a5-dd652449360e\",\"type\":\"PolyAnnotation\"},{\"id\":\"0559e3e6-a766-407f-8964-ec389b2b3158\",\"type\":\"Legend\"},{\"id\":\"d169e8ef-da72-441c-8d22-12f549d510f0\",\"type\":\"GlyphRenderer\"},{\"id\":\"ea69b261-336a-4f3b-8bd8-b34e0982b37c\",\"type\":\"GlyphRenderer\"},{\"id\":\"067d76ce-d15f-4c11-8958-1b50084d33c5\",\"type\":\"GlyphRenderer\"}],\"title\":{\"id\":\"4abbea01-10b3-406d-a242-257469861868\",\"type\":\"Title\"},\"tool_events\":{\"id\":\"0f9e1d65-ff3d-43d0-82b2-fca2f0aabfe3\",\"type\":\"ToolEvents\"},\"toolbar\":{\"id\":\"809b67f4-e02d-4e71-b1d6-5688e641fe89\",\"type\":\"Toolbar\"},\"x_range\":{\"id\":\"d63ea618-89ba-4861-8a09-8f7801bef223\",\"type\":\"DataRange1d\"},\"y_range\":{\"id\":\"b69e07c2-a32c-4eac-8fc0-53849b907e22\",\"type\":\"DataRange1d\"}},\"id\":\"278c3713-47b7-41e7-bae2-e47f109a2f3b\",\"subtype\":\"Figure\",\"type\":\"Plot\"},{\"attributes\":{\"data_source\":{\"id\":\"101efc01-43e0-4b5b-bfe7-ccac19b11c18\",\"type\":\"ColumnDataSource\"},\"glyph\":{\"id\":\"42fa92ac-6085-4b8d-b311-8d3e1273ba6d\",\"type\":\"Line\"},\"hover_glyph\":null,\"nonselection_glyph\":{\"id\":\"0370e74d-5325-46b7-b97c-411eb476088a\",\"type\":\"Line\"},\"selection_glyph\":null},\"id\":\"ea69b261-336a-4f3b-8bd8-b34e0982b37c\",\"type\":\"GlyphRenderer\"},{\"attributes\":{\"bottom_units\":\"screen\",\"fill_alpha\":{\"value\":0.5},\"fill_color\":{\"value\":\"lightgrey\"},\"left_units\":\"screen\",\"level\":\"overlay\",\"line_alpha\":{\"value\":1.0},\"line_color\":{\"value\":\"black\"},\"line_dash\":[4,4],\"line_width\":{\"value\":2},\"plot\":null,\"render_mode\":\"css\",\"right_units\":\"screen\",\"top_units\":\"screen\"},\"id\":\"91b95d6f-cebf-458b-8ebb-4b462a82682b\",\"type\":\"BoxAnnotation\"},{\"attributes\":{\"callback\":null,\"overlay\":{\"id\":\"456b99a6-0f00-463c-b096-cc18b5933bd0\",\"type\":\"BoxAnnotation\"},\"plot\":{\"id\":\"278c3713-47b7-41e7-bae2-e47f109a2f3b\",\"subtype\":\"Figure\",\"type\":\"Plot\"},\"renderers\":[{\"id\":\"d169e8ef-da72-441c-8d22-12f549d510f0\",\"type\":\"GlyphRenderer\"},{\"id\":\"ea69b261-336a-4f3b-8bd8-b34e0982b37c\",\"type\":\"GlyphRenderer\"},{\"id\":\"067d76ce-d15f-4c11-8958-1b50084d33c5\",\"type\":\"GlyphRenderer\"}]},\"id\":\"f3de7d46-cd14-4853-9772-399bab4c65ef\",\"type\":\"BoxSelectTool\"},{\"attributes\":{\"data_source\":{\"id\":\"0135c37c-a856-4319-a6f2-cb9798c92ccc\",\"type\":\"ColumnDataSource\"},\"glyph\":{\"id\":\"9adef2f2-d320-41b4-ac1f-adf067eb78ad\",\"type\":\"Line\"},\"hover_glyph\":null,\"nonselection_glyph\":{\"id\":\"827bcbd0-a9d7-44cd-9bd5-98b0f775e117\",\"type\":\"Line\"},\"selection_glyph\":null},\"id\":\"067d76ce-d15f-4c11-8958-1b50084d33c5\",\"type\":\"GlyphRenderer\"},{\"attributes\":{\"active_drag\":\"auto\",\"active_scroll\":\"auto\",\"active_tap\":\"auto\",\"tools\":[{\"id\":\"d5a259ec-b271-4a13-9a26-d9e3e356cc73\",\"type\":\"BoxZoomTool\"},{\"id\":\"f3de7d46-cd14-4853-9772-399bab4c65ef\",\"type\":\"BoxSelectTool\"},{\"id\":\"590a8ebe-256d-4ee4-a039-3ff50a53fc68\",\"type\":\"CrosshairTool\"},{\"id\":\"ece09b06-4880-4aa3-b4ce-910d3990b9c4\",\"type\":\"ResizeTool\"},{\"id\":\"dca5bc8a-8782-4c2c-858e-d75e0497d2e0\",\"type\":\"ResetTool\"},{\"id\":\"f97c5ea5-2bc3-4612-a04b-8a63901028f5\",\"type\":\"LassoSelectTool\"},{\"id\":\"750f1bb6-300c-4478-9ca2-eb8b6f66a348\",\"type\":\"PanTool\"},{\"id\":\"fe670e96-4dd6-47bf-b97c-764290c43256\",\"type\":\"SaveTool\"},{\"id\":\"79458c8d-ebae-4eb8-8e1f-e9cb7d8cf64b\",\"type\":\"PolySelectTool\"},{\"id\":\"e18c7273-a75e-4fab-a978-e8c62533ffb8\",\"type\":\"TapTool\"},{\"id\":\"f561cf2a-7230-450e-9309-a231bfe28c25\",\"type\":\"WheelZoomTool\"},{\"id\":\"b3d98eb5-b496-4997-a49c-caccfa4a7268\",\"type\":\"UndoTool\"}]},\"id\":\"809b67f4-e02d-4e71-b1d6-5688e641fe89\",\"type\":\"Toolbar\"},{\"attributes\":{\"plot\":{\"id\":\"278c3713-47b7-41e7-bae2-e47f109a2f3b\",\"subtype\":\"Figure\",\"type\":\"Plot\"}},\"id\":\"750f1bb6-300c-4478-9ca2-eb8b6f66a348\",\"type\":\"PanTool\"},{\"attributes\":{\"fill_alpha\":{\"value\":0.5},\"fill_color\":{\"value\":\"lightgrey\"},\"level\":\"overlay\",\"line_alpha\":{\"value\":1.0},\"line_color\":{\"value\":\"black\"},\"line_dash\":[4,4],\"line_width\":{\"value\":2},\"plot\":null,\"xs_units\":\"screen\",\"ys_units\":\"screen\"},\"id\":\"470e8f9a-b4ff-4e7c-82a5-dd652449360e\",\"type\":\"PolyAnnotation\"},{\"attributes\":{\"label\":{\"value\":\"Thompson Sampling\"},\"renderers\":[{\"id\":\"ea69b261-336a-4f3b-8bd8-b34e0982b37c\",\"type\":\"GlyphRenderer\"}]},\"id\":\"900044d4-16c3-4a4d-ad36-79249a724146\",\"type\":\"LegendItem\"},{\"attributes\":{\"callback\":null,\"column_names\":[\"x\",\"y\"],\"data\":{\"x\":[0,1,2,3,4,5,6,7,8,9,10,11,12,13,14,15,16,17,18,19,20,21,22,23,24,25,26,27,28,29,30,31,32,33,34,35,36,37,38,39,40,41,42,43,44,45,46,47,48,49,50,51,52,53,54,55,56,57,58,59],\"y\":[{\"__ndarray__\":\"30vRhzsp6j8=\",\"dtype\":\"float64\",\"shape\":[]},{\"__ndarray__\":\"30vRhzsp6j8=\",\"dtype\":\"float64\",\"shape\":[]},{\"__ndarray__\":\"30vRhzsp6j8=\",\"dtype\":\"float64\",\"shape\":[]},{\"__ndarray__\":\"30vRhzsp6j8=\",\"dtype\":\"float64\",\"shape\":[]},{\"__ndarray__\":\"30vRhzsp6j8=\",\"dtype\":\"float64\",\"shape\":[]},{\"__ndarray__\":\"30vRhzsp6j8=\",\"dtype\":\"float64\",\"shape\":[]},{\"__ndarray__\":\"30vRhzsp6j8=\",\"dtype\":\"float64\",\"shape\":[]},{\"__ndarray__\":\"30vRhzsp6j8=\",\"dtype\":\"float64\",\"shape\":[]},{\"__ndarray__\":\"30vRhzsp6j8=\",\"dtype\":\"float64\",\"shape\":[]},{\"__ndarray__\":\"30vRhzsp6j8=\",\"dtype\":\"float64\",\"shape\":[]},{\"__ndarray__\":\"30vRhzsp6j8=\",\"dtype\":\"float64\",\"shape\":[]},{\"__ndarray__\":\"30vRhzsp6j8=\",\"dtype\":\"float64\",\"shape\":[]},{\"__ndarray__\":\"30vRhzsp6j8=\",\"dtype\":\"float64\",\"shape\":[]},{\"__ndarray__\":\"30vRhzsp6j8=\",\"dtype\":\"float64\",\"shape\":[]},{\"__ndarray__\":\"30vRhzsp6j8=\",\"dtype\":\"float64\",\"shape\":[]},{\"__ndarray__\":\"30vRhzsp6j8=\",\"dtype\":\"float64\",\"shape\":[]},{\"__ndarray__\":\"30vRhzsp6j8=\",\"dtype\":\"float64\",\"shape\":[]},{\"__ndarray__\":\"30vRhzsp6j8=\",\"dtype\":\"float64\",\"shape\":[]},{\"__ndarray__\":\"30vRhzsp6j8=\",\"dtype\":\"float64\",\"shape\":[]},{\"__ndarray__\":\"30vRhzsp6j8=\",\"dtype\":\"float64\",\"shape\":[]},{\"__ndarray__\":\"30vRhzsp6j8=\",\"dtype\":\"float64\",\"shape\":[]},{\"__ndarray__\":\"30vRhzsp6j8=\",\"dtype\":\"float64\",\"shape\":[]},{\"__ndarray__\":\"30vRhzsp6j8=\",\"dtype\":\"float64\",\"shape\":[]},{\"__ndarray__\":\"30vRhzsp6j8=\",\"dtype\":\"float64\",\"shape\":[]},{\"__ndarray__\":\"30vRhzsp6j8=\",\"dtype\":\"float64\",\"shape\":[]},{\"__ndarray__\":\"30vRhzsp6j8=\",\"dtype\":\"float64\",\"shape\":[]},{\"__ndarray__\":\"30vRhzsp6j8=\",\"dtype\":\"float64\",\"shape\":[]},{\"__ndarray__\":\"30vRhzsp6j8=\",\"dtype\":\"float64\",\"shape\":[]},{\"__ndarray__\":\"30vRhzsp6j8=\",\"dtype\":\"float64\",\"shape\":[]},{\"__ndarray__\":\"30vRhzsp6j8=\",\"dtype\":\"float64\",\"shape\":[]},{\"__ndarray__\":\"30vRhzsp6j8=\",\"dtype\":\"float64\",\"shape\":[]},{\"__ndarray__\":\"30vRhzsp6j8=\",\"dtype\":\"float64\",\"shape\":[]},{\"__ndarray__\":\"30vRhzsp6j8=\",\"dtype\":\"float64\",\"shape\":[]},{\"__ndarray__\":\"30vRhzsp6j8=\",\"dtype\":\"float64\",\"shape\":[]},{\"__ndarray__\":\"30vRhzsp6j8=\",\"dtype\":\"float64\",\"shape\":[]},{\"__ndarray__\":\"30vRhzsp6j8=\",\"dtype\":\"float64\",\"shape\":[]},{\"__ndarray__\":\"30vRhzsp6j8=\",\"dtype\":\"float64\",\"shape\":[]},{\"__ndarray__\":\"30vRhzsp6j8=\",\"dtype\":\"float64\",\"shape\":[]},{\"__ndarray__\":\"30vRhzsp6j8=\",\"dtype\":\"float64\",\"shape\":[]},{\"__ndarray__\":\"30vRhzsp6j8=\",\"dtype\":\"float64\",\"shape\":[]},{\"__ndarray__\":\"30vRhzsp6j8=\",\"dtype\":\"float64\",\"shape\":[]},{\"__ndarray__\":\"30vRhzsp6j8=\",\"dtype\":\"float64\",\"shape\":[]},{\"__ndarray__\":\"30vRhzsp6j8=\",\"dtype\":\"float64\",\"shape\":[]},{\"__ndarray__\":\"30vRhzsp6j8=\",\"dtype\":\"float64\",\"shape\":[]},{\"__ndarray__\":\"30vRhzsp6j8=\",\"dtype\":\"float64\",\"shape\":[]},{\"__ndarray__\":\"30vRhzsp6j8=\",\"dtype\":\"float64\",\"shape\":[]},{\"__ndarray__\":\"30vRhzsp6j8=\",\"dtype\":\"float64\",\"shape\":[]},{\"__ndarray__\":\"30vRhzsp6j8=\",\"dtype\":\"float64\",\"shape\":[]},{\"__ndarray__\":\"30vRhzsp6j8=\",\"dtype\":\"float64\",\"shape\":[]},{\"__ndarray__\":\"30vRhzsp6j8=\",\"dtype\":\"float64\",\"shape\":[]},{\"__ndarray__\":\"30vRhzsp6j8=\",\"dtype\":\"float64\",\"shape\":[]},{\"__ndarray__\":\"30vRhzsp6j8=\",\"dtype\":\"float64\",\"shape\":[]},{\"__ndarray__\":\"30vRhzsp6j8=\",\"dtype\":\"float64\",\"shape\":[]},{\"__ndarray__\":\"30vRhzsp6j8=\",\"dtype\":\"float64\",\"shape\":[]},{\"__ndarray__\":\"30vRhzsp6j8=\",\"dtype\":\"float64\",\"shape\":[]},{\"__ndarray__\":\"30vRhzsp6j8=\",\"dtype\":\"float64\",\"shape\":[]},{\"__ndarray__\":\"30vRhzsp6j8=\",\"dtype\":\"float64\",\"shape\":[]},{\"__ndarray__\":\"30vRhzsp6j8=\",\"dtype\":\"float64\",\"shape\":[]},{\"__ndarray__\":\"30vRhzsp6j8=\",\"dtype\":\"float64\",\"shape\":[]},{\"__ndarray__\":\"30vRhzsp6j8=\",\"dtype\":\"float64\",\"shape\":[]}]}},\"id\":\"0135c37c-a856-4319-a6f2-cb9798c92ccc\",\"type\":\"ColumnDataSource\"},{\"attributes\":{\"line_alpha\":{\"value\":0.1},\"line_color\":{\"value\":\"#1f77b4\"},\"line_width\":{\"value\":2},\"x\":{\"field\":\"x\"},\"y\":{\"field\":\"y\"}},\"id\":\"0370e74d-5325-46b7-b97c-411eb476088a\",\"type\":\"Line\"},{\"attributes\":{\"fill_alpha\":{\"value\":0.5},\"fill_color\":{\"value\":\"lightgrey\"},\"level\":\"overlay\",\"line_alpha\":{\"value\":1.0},\"line_color\":{\"value\":\"black\"},\"line_dash\":[4,4],\"line_width\":{\"value\":2},\"plot\":null,\"xs_units\":\"screen\",\"ys_units\":\"screen\"},\"id\":\"f89a1a99-dc41-4040-9c35-22a0769ea940\",\"type\":\"PolyAnnotation\"},{\"attributes\":{},\"id\":\"dbf7b0d3-97e1-4899-ab43-d94044ed950f\",\"type\":\"BasicTicker\"},{\"attributes\":{\"line_color\":{\"value\":\"red\"},\"line_width\":{\"value\":2},\"x\":{\"field\":\"x\"},\"y\":{\"field\":\"y\"}},\"id\":\"42fa92ac-6085-4b8d-b311-8d3e1273ba6d\",\"type\":\"Line\"},{\"attributes\":{\"line_alpha\":{\"value\":0.1},\"line_color\":{\"value\":\"#1f77b4\"},\"line_dash\":[4,4],\"line_width\":{\"value\":2},\"x\":{\"field\":\"x\"},\"y\":{\"field\":\"y\"}},\"id\":\"827bcbd0-a9d7-44cd-9bd5-98b0f775e117\",\"type\":\"Line\"}],\"root_ids\":[\"278c3713-47b7-41e7-bae2-e47f109a2f3b\"]},\"title\":\"Bokeh Application\",\"version\":\"0.12.4\"}};\n",
       "            var render_items = [{\"docid\":\"41639bb1-7a04-4771-ab7d-e302db769742\",\"elementid\":\"94712979-2466-4d0a-afaa-dc1ad8897e5e\",\"modelid\":\"278c3713-47b7-41e7-bae2-e47f109a2f3b\"}];\n",
       "            \n",
       "            Bokeh.embed.embed_items(docs_json, render_items);\n",
       "          };\n",
       "          if (document.readyState != \"loading\") fn();\n",
       "          else document.addEventListener(\"DOMContentLoaded\", fn);\n",
       "        })();\n",
       "      },\n",
       "      function(Bokeh) {\n",
       "      }\n",
       "    ];\n",
       "  \n",
       "    function run_inline_js() {\n",
       "      \n",
       "      if ((window.Bokeh !== undefined) || (force === true)) {\n",
       "        for (var i = 0; i < inline_js.length; i++) {\n",
       "          inline_js[i](window.Bokeh);\n",
       "        }if (force === true) {\n",
       "          display_loaded();\n",
       "        }} else if (Date.now() < window._bokeh_timeout) {\n",
       "        setTimeout(run_inline_js, 100);\n",
       "      } else if (!window._bokeh_failed_load) {\n",
       "        console.log(\"Bokeh: BokehJS failed to load within specified timeout.\");\n",
       "        window._bokeh_failed_load = true;\n",
       "      } else if (force !== true) {\n",
       "        var cell = $(document.getElementById(\"94712979-2466-4d0a-afaa-dc1ad8897e5e\")).parents('.cell').data().cell;\n",
       "        cell.output_area.append_execute_result(NB_LOAD_WARNING)\n",
       "      }\n",
       "  \n",
       "    }\n",
       "  \n",
       "    if (window._bokeh_is_loading === 0) {\n",
       "      console.log(\"Bokeh: BokehJS loaded, going straight to plotting\");\n",
       "      run_inline_js();\n",
       "    } else {\n",
       "      load_libs(js_urls, function() {\n",
       "        console.log(\"Bokeh: BokehJS plotting callback run at\", now());\n",
       "        run_inline_js();\n",
       "      });\n",
       "    }\n",
       "  }(this));\n",
       "</script>"
      ]
     },
     "metadata": {},
     "output_type": "display_data"
    }
   ],
   "source": [
    "p1 = figure(title=\"The Performance over the number of neurons' pruned\", tools=TOOLS)\n",
    "p1.line(ind, ucb1, legend=\"ucb1\", line_color=\"green\", line_width=2)\n",
    "p1.line(ind, ThompsonSampling, legend=\"Thompson Sampling\", line_color=\"red\", line_width=2)\n",
    "p1.line(ind, Acc, legend=\"Accuracy\", line_dash=(4, 4), line_color=\"blue\", line_width=2)\n",
    "p1.title.align = \"center\"\n",
    "show(p1)"
   ]
  }
 ],
 "metadata": {
  "kernelspec": {
   "display_name": "Python 3",
   "language": "python",
   "name": "python3"
  },
  "language_info": {
   "codemirror_mode": {
    "name": "ipython",
    "version": 3
   },
   "file_extension": ".py",
   "mimetype": "text/x-python",
   "name": "python",
   "nbconvert_exporter": "python",
   "pygments_lexer": "ipython3",
   "version": "3.6.0"
  }
 },
 "nbformat": 4,
 "nbformat_minor": 0
}
