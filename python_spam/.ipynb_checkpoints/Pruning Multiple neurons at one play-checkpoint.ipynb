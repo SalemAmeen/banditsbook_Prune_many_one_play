{
 "cells": [
  {
   "cell_type": "markdown",
   "metadata": {},
   "source": [
    "Compute the performance of MAB methods of pruning Multiple neurons at one time\n",
    "\n",
    "MAP for choosing multi arms at one time"
   ]
  },
  {
   "cell_type": "code",
   "execution_count": 7,
   "metadata": {
    "collapsed": true
   },
   "outputs": [],
   "source": [
    "import numpy as np\n",
    "import time\n",
    "import sys\n",
    "from numpy import *\n",
    "import matplotlib.pyplot as plt\n",
    "from sklearn import metrics\n",
    "%matplotlib inline\n",
    "#plt.rcParams['figure.figsize'] = (15, 6)"
   ]
  },
  {
   "cell_type": "markdown",
   "metadata": {},
   "source": [
    "# Load Bokeh"
   ]
  },
  {
   "cell_type": "code",
   "execution_count": 8,
   "metadata": {
    "collapsed": false
   },
   "outputs": [
    {
     "data": {
      "text/html": [
       "\n",
       "    <div class=\"bk-root\">\n",
       "        <a href=\"http://bokeh.pydata.org\" target=\"_blank\" class=\"bk-logo bk-logo-small bk-logo-notebook\"></a>\n",
       "        <span id=\"20aefb61-8321-4004-a021-01acaed879e8\">Loading BokehJS ...</span>\n",
       "    </div>"
      ]
     },
     "metadata": {},
     "output_type": "display_data"
    },
    {
     "data": {
      "application/javascript": [
       "\n",
       "(function(global) {\n",
       "  function now() {\n",
       "    return new Date();\n",
       "  }\n",
       "\n",
       "  var force = true;\n",
       "\n",
       "  if (typeof (window._bokeh_onload_callbacks) === \"undefined\" || force === true) {\n",
       "    window._bokeh_onload_callbacks = [];\n",
       "    window._bokeh_is_loading = undefined;\n",
       "  }\n",
       "\n",
       "\n",
       "  \n",
       "  if (typeof (window._bokeh_timeout) === \"undefined\" || force === true) {\n",
       "    window._bokeh_timeout = Date.now() + 5000;\n",
       "    window._bokeh_failed_load = false;\n",
       "  }\n",
       "\n",
       "  var NB_LOAD_WARNING = {'data': {'text/html':\n",
       "     \"<div style='background-color: #fdd'>\\n\"+\n",
       "     \"<p>\\n\"+\n",
       "     \"BokehJS does not appear to have successfully loaded. If loading BokehJS from CDN, this \\n\"+\n",
       "     \"may be due to a slow or bad network connection. Possible fixes:\\n\"+\n",
       "     \"</p>\\n\"+\n",
       "     \"<ul>\\n\"+\n",
       "     \"<li>re-rerun `output_notebook()` to attempt to load from CDN again, or</li>\\n\"+\n",
       "     \"<li>use INLINE resources instead, as so:</li>\\n\"+\n",
       "     \"</ul>\\n\"+\n",
       "     \"<code>\\n\"+\n",
       "     \"from bokeh.resources import INLINE\\n\"+\n",
       "     \"output_notebook(resources=INLINE)\\n\"+\n",
       "     \"</code>\\n\"+\n",
       "     \"</div>\"}};\n",
       "\n",
       "  function display_loaded() {\n",
       "    if (window.Bokeh !== undefined) {\n",
       "      document.getElementById(\"20aefb61-8321-4004-a021-01acaed879e8\").textContent = \"BokehJS successfully loaded.\";\n",
       "    } else if (Date.now() < window._bokeh_timeout) {\n",
       "      setTimeout(display_loaded, 100)\n",
       "    }\n",
       "  }\n",
       "\n",
       "  function run_callbacks() {\n",
       "    window._bokeh_onload_callbacks.forEach(function(callback) { callback() });\n",
       "    delete window._bokeh_onload_callbacks\n",
       "    console.info(\"Bokeh: all callbacks have finished\");\n",
       "  }\n",
       "\n",
       "  function load_libs(js_urls, callback) {\n",
       "    window._bokeh_onload_callbacks.push(callback);\n",
       "    if (window._bokeh_is_loading > 0) {\n",
       "      console.log(\"Bokeh: BokehJS is being loaded, scheduling callback at\", now());\n",
       "      return null;\n",
       "    }\n",
       "    if (js_urls == null || js_urls.length === 0) {\n",
       "      run_callbacks();\n",
       "      return null;\n",
       "    }\n",
       "    console.log(\"Bokeh: BokehJS not loaded, scheduling load and callback at\", now());\n",
       "    window._bokeh_is_loading = js_urls.length;\n",
       "    for (var i = 0; i < js_urls.length; i++) {\n",
       "      var url = js_urls[i];\n",
       "      var s = document.createElement('script');\n",
       "      s.src = url;\n",
       "      s.async = false;\n",
       "      s.onreadystatechange = s.onload = function() {\n",
       "        window._bokeh_is_loading--;\n",
       "        if (window._bokeh_is_loading === 0) {\n",
       "          console.log(\"Bokeh: all BokehJS libraries loaded\");\n",
       "          run_callbacks()\n",
       "        }\n",
       "      };\n",
       "      s.onerror = function() {\n",
       "        console.warn(\"failed to load library \" + url);\n",
       "      };\n",
       "      console.log(\"Bokeh: injecting script tag for BokehJS library: \", url);\n",
       "      document.getElementsByTagName(\"head\")[0].appendChild(s);\n",
       "    }\n",
       "  };var element = document.getElementById(\"20aefb61-8321-4004-a021-01acaed879e8\");\n",
       "  if (element == null) {\n",
       "    console.log(\"Bokeh: ERROR: autoload.js configured with elementid '20aefb61-8321-4004-a021-01acaed879e8' but no matching script tag was found. \")\n",
       "    return false;\n",
       "  }\n",
       "\n",
       "  var js_urls = [\"https://cdn.pydata.org/bokeh/release/bokeh-0.12.4.min.js\", \"https://cdn.pydata.org/bokeh/release/bokeh-widgets-0.12.4.min.js\"];\n",
       "\n",
       "  var inline_js = [\n",
       "    function(Bokeh) {\n",
       "      Bokeh.set_log_level(\"info\");\n",
       "    },\n",
       "    \n",
       "    function(Bokeh) {\n",
       "      \n",
       "      document.getElementById(\"20aefb61-8321-4004-a021-01acaed879e8\").textContent = \"BokehJS is loading...\";\n",
       "    },\n",
       "    function(Bokeh) {\n",
       "      console.log(\"Bokeh: injecting CSS: https://cdn.pydata.org/bokeh/release/bokeh-0.12.4.min.css\");\n",
       "      Bokeh.embed.inject_css(\"https://cdn.pydata.org/bokeh/release/bokeh-0.12.4.min.css\");\n",
       "      console.log(\"Bokeh: injecting CSS: https://cdn.pydata.org/bokeh/release/bokeh-widgets-0.12.4.min.css\");\n",
       "      Bokeh.embed.inject_css(\"https://cdn.pydata.org/bokeh/release/bokeh-widgets-0.12.4.min.css\");\n",
       "    }\n",
       "  ];\n",
       "\n",
       "  function run_inline_js() {\n",
       "    \n",
       "    if ((window.Bokeh !== undefined) || (force === true)) {\n",
       "      for (var i = 0; i < inline_js.length; i++) {\n",
       "        inline_js[i](window.Bokeh);\n",
       "      }if (force === true) {\n",
       "        display_loaded();\n",
       "      }} else if (Date.now() < window._bokeh_timeout) {\n",
       "      setTimeout(run_inline_js, 100);\n",
       "    } else if (!window._bokeh_failed_load) {\n",
       "      console.log(\"Bokeh: BokehJS failed to load within specified timeout.\");\n",
       "      window._bokeh_failed_load = true;\n",
       "    } else if (force !== true) {\n",
       "      var cell = $(document.getElementById(\"20aefb61-8321-4004-a021-01acaed879e8\")).parents('.cell').data().cell;\n",
       "      cell.output_area.append_execute_result(NB_LOAD_WARNING)\n",
       "    }\n",
       "\n",
       "  }\n",
       "\n",
       "  if (window._bokeh_is_loading === 0) {\n",
       "    console.log(\"Bokeh: BokehJS loaded, going straight to plotting\");\n",
       "    run_inline_js();\n",
       "  } else {\n",
       "    load_libs(js_urls, function() {\n",
       "      console.log(\"Bokeh: BokehJS plotting callback run at\", now());\n",
       "      run_inline_js();\n",
       "    });\n",
       "  }\n",
       "}(this));"
      ]
     },
     "metadata": {},
     "output_type": "display_data"
    }
   ],
   "source": [
    "from bokeh.layouts import row, gridplot\n",
    "from bokeh.plotting import figure, output_notebook, show\n",
    "from bokeh.models import Legend\n",
    "TOOLS = 'box_zoom,box_select,crosshair,resize,reset,lasso_select,pan,save,poly_select,tap,wheel_zoom,undo'\n",
    "output_notebook()"
   ]
  },
  {
   "cell_type": "markdown",
   "metadata": {},
   "source": [
    "# Load the data"
   ]
  },
  {
   "cell_type": "code",
   "execution_count": 9,
   "metadata": {
    "collapsed": false
   },
   "outputs": [
    {
     "name": "stdout",
     "output_type": "stream",
     "text": [
      "Number of training examples 2944\n",
      "Number of validation examples 736\n",
      "Number of testing examples 921\n"
     ]
    }
   ],
   "source": [
    "X_train = np.load('X_train.npy')\n",
    "y_train = np.load('y_train.npy')\n",
    "X_test = np.load('X_test.npy')\n",
    "y_test = np.load('y_test.npy')\n",
    "X_deploy = np.load('X_deploy.npy')\n",
    "y_deploy = np.load('y_deploy.npy')\n",
    "\n",
    "print('Number of training examples',len(X_train))\n",
    "print('Number of validation examples',len(X_test))\n",
    "print('Number of testing examples',len(X_deploy))"
   ]
  },
  {
   "cell_type": "code",
   "execution_count": 10,
   "metadata": {
    "collapsed": false
   },
   "outputs": [],
   "source": [
    "exec(open(\"core.py\").read())  # pyhton 3x"
   ]
  },
  {
   "cell_type": "markdown",
   "metadata": {},
   "source": [
    "## Run Thompson Sampling pruning Algorithm"
   ]
  },
  {
   "cell_type": "code",
   "execution_count": 11,
   "metadata": {
    "collapsed": false
   },
   "outputs": [
    {
     "name": "stderr",
     "output_type": "stream",
     "text": [
      "Using Theano backend.\n"
     ]
    },
    {
     "name": "stdout",
     "output_type": "stream",
     "text": [
      "736 test samples\n",
      "Test score: 0.338247084349\n",
      "Test accuracy: 0.944625407166\n",
      "The time for running this method is 1.5775988101959229 seconds \n",
      "Finsh playing start pruining:\n",
      "Test accuracy after pruning: 0.945711183496\n",
      "Test accuracy after pruning: 0.945711183496\n",
      "Test accuracy after pruning: 0.945711183496\n",
      "Test accuracy after pruning: 0.946796959826\n",
      "Test accuracy after pruning: 0.942453854506\n",
      "Test accuracy after pruning: 0.940282301846\n",
      "Test accuracy after pruning: 0.940282301846\n",
      "Test accuracy after pruning: 0.939196524933\n",
      "Test accuracy after pruning: 0.941368077593\n",
      "Test accuracy after pruning: 0.939196524933\n",
      "Test accuracy after pruning: 0.941368078176\n",
      "Test accuracy after pruning: 0.942453854506\n",
      "Test accuracy after pruning: 0.939196524933\n",
      "Test accuracy after pruning: 0.938110748603\n",
      "Test accuracy after pruning: 0.937024972273\n",
      "Test accuracy after pruning: 0.935939196979\n",
      "Test accuracy after pruning: 0.938110749639\n",
      "Test accuracy after pruning: 0.935939195943\n",
      "Test accuracy after pruning: 0.934853420648\n",
      "Test accuracy after pruning: 0.935939196979\n",
      "Test accuracy after pruning: 0.930510315328\n",
      "Test accuracy after pruning: 0.933767644318\n",
      "Test accuracy after pruning: 0.927252986338\n",
      "Test accuracy after pruning: 0.928338762668\n",
      "Test accuracy after pruning: 0.929424537963\n",
      "Test accuracy after pruning: 0.930510315328\n",
      "Test accuracy after pruning: 0.925081433095\n",
      "Test accuracy after pruning: 0.922909880435\n",
      "Test accuracy after pruning: 0.913137892882\n",
      "Test accuracy after pruning: 0.913137892882\n",
      "Test accuracy after pruning: 0.913137893464\n",
      "Test accuracy after pruning: 0.910966340804\n",
      "Test accuracy after pruning: 0.907709011814\n",
      "Test accuracy after pruning: 0.907709011814\n",
      "Test accuracy after pruning: 0.909880564474\n",
      "Test accuracy after pruning: 0.88165037931\n",
      "Test accuracy after pruning: 0.778501628859\n",
      "Test accuracy after pruning: 0.752442996937\n",
      "Test accuracy after pruning: 0.7589576555\n",
      "Test accuracy after pruning: 0.375678610061\n"
     ]
    },
    {
     "data": {
      "image/png": "[encoded data removed]",
      "text/plain": [
       "<matplotlib.figure.Figure at 0x10c0a0e48>"
      ]
     },
     "metadata": {},
     "output_type": "display_data"
    }
   ],
   "source": [
    "algo = Thompson_Sampling([], [])\n",
    "Alg_name = 'Thompson_Sampling Algorithm'\n",
    "path = './Thompson_Sampling/'\n",
    "sys.path.append(\"./Thompson_Sampling\")\n",
    "exec(open(\"mnist_cnnFORTESTING.py\").read())"
   ]
  },
  {
   "cell_type": "markdown",
   "metadata": {},
   "source": [
    "## Run UCB1 pruning Algorithm"
   ]
  },
  {
   "cell_type": "code",
   "execution_count": 12,
   "metadata": {
    "collapsed": false
   },
   "outputs": [
    {
     "name": "stdout",
     "output_type": "stream",
     "text": [
      "736 test samples\n",
      "Test score: 0.338247084349\n",
      "Test accuracy: 0.944625407166\n",
      "The time for running this method is 1.5783360004425049 seconds \n",
      "Finsh playing start pruining:\n",
      "Test accuracy after pruning: 0.945711183496\n",
      "Test accuracy after pruning: 0.946796959826\n",
      "Test accuracy after pruning: 0.946796959826\n",
      "Test accuracy after pruning: 0.946796960279\n",
      "Test accuracy after pruning: 0.947882736609\n",
      "Test accuracy after pruning: 0.948968511904\n",
      "Test accuracy after pruning: 0.947882736609\n",
      "Test accuracy after pruning: 0.947882736609\n",
      "Test accuracy after pruning: 0.947882736609\n",
      "Test accuracy after pruning: 0.946796960279\n",
      "Test accuracy after pruning: 0.947882736609\n",
      "Test accuracy after pruning: 0.947882736609\n",
      "Test accuracy after pruning: 0.945711183949\n",
      "Test accuracy after pruning: 0.946796960279\n",
      "Test accuracy after pruning: 0.945711183949\n",
      "Test accuracy after pruning: 0.944625407037\n",
      "Test accuracy after pruning: 0.938110748474\n",
      "Test accuracy after pruning: 0.941368077464\n",
      "Test accuracy after pruning: 0.931596090493\n",
      "Test accuracy after pruning: 0.926167208843\n",
      "Test accuracy after pruning: 0.888165038326\n",
      "Test accuracy after pruning: 0.866449511142\n",
      "Test accuracy after pruning: 0.861020629491\n",
      "Test accuracy after pruning: 0.845819761906\n",
      "Test accuracy after pruning: 0.841476656586\n",
      "Test accuracy after pruning: 0.840390880255\n",
      "Test accuracy after pruning: 0.838219327595\n",
      "Test accuracy after pruning: 0.828447340625\n",
      "Test accuracy after pruning: 0.827361564295\n",
      "Test accuracy after pruning: 0.824104235304\n",
      "Test accuracy after pruning: 0.792616721732\n",
      "Test accuracy after pruning: 0.465798045408\n",
      "Test accuracy after pruning: 0.462540716418\n",
      "Test accuracy after pruning: 0.460369163985\n",
      "Test accuracy after pruning: 0.460369163985\n",
      "Test accuracy after pruning: 0.399565689322\n",
      "Test accuracy after pruning: 0.396308360332\n",
      "Test accuracy after pruning: 0.398479912992\n",
      "Test accuracy after pruning: 0.375678610061\n",
      "Test accuracy after pruning: 0.375678610061\n"
     ]
    },
    {
     "data": {
      "image/png": "[encoded data removed]",
      "text/plain": [
       "<matplotlib.figure.Figure at 0x10e1c4940>"
      ]
     },
     "metadata": {},
     "output_type": "display_data"
    }
   ],
   "source": [
    "algo = UCB1([], [])\n",
    "Alg_name = 'UCB1 Algorithm'\n",
    "path = './UCB1/'\n",
    "sys.path.append(\"./UCB1\")\n",
    "exec(open(\"mnist_cnnFORTESTING.py\").read())"
   ]
  },
  {
   "cell_type": "markdown",
   "metadata": {
    "collapsed": true
   },
   "source": [
    "# Compare the accuracy"
   ]
  },
  {
   "cell_type": "code",
   "execution_count": 13,
   "metadata": {
    "collapsed": true
   },
   "outputs": [],
   "source": [
    "ucb1 = np.load('./UCB1/AccuracyAftrerPrune.npy')\n",
    "ThompsonSampling = np.load('./Thompson_Sampling/AccuracyAftrerPrune.npy')\n",
    "Accuracy = np.load('AccuracyBeforePruning.npy')"
   ]
  },
  {
   "cell_type": "code",
   "execution_count": 14,
   "metadata": {
    "collapsed": false
   },
   "outputs": [
    {
     "data": {
      "image/png": "[encoded data removed]",
      "text/plain": [
       "<matplotlib.figure.Figure at 0x10e500b38>"
      ]
     },
     "metadata": {},
     "output_type": "display_data"
    }
   ],
   "source": [
    "fig = plt.figure(figsize=(10, 6), dpi=80)\n",
    "ax = fig.add_subplot(111)\n",
    "N = len(ucb1)\n",
    "ind = np.arange(N)                # the x locations for the groups\n",
    "plt.plot(ind , ucb1 , color=\"blue\", linewidth=2.5, linestyle=\"-\", label=\"UCB1\")\n",
    "plt.plot(ind , ThompsonSampling, color=\"orange\", linewidth=2.5, linestyle=\"-\", label=\"Thompson Sampling\")\n",
    "plt.legend(loc = 3)\n",
    "plt.axis([0, 25, 0, 1])\n",
    "plt.xlabel('Number of pruned Neurons')\n",
    "plt.ylabel('The Accuracy')\n",
    "plt.grid(True)\n",
    "plt.show()"
   ]
  },
  {
   "cell_type": "code",
   "execution_count": 15,
   "metadata": {
    "collapsed": false
   },
   "outputs": [
    {
     "data": {
      "text/html": [
       "\n",
       "\n",
       "    <div class=\"bk-root\">\n",
       "        <div class=\"bk-plotdiv\" id=\"60fc7ba7-f75c-4279-b291-925c72d25414\"></div>\n",
       "    </div>\n",
       "<script type=\"text/javascript\">\n",
       "  \n",
       "  (function(global) {\n",
       "    function now() {\n",
       "      return new Date();\n",
       "    }\n",
       "  \n",
       "    var force = false;\n",
       "  \n",
       "    if (typeof (window._bokeh_onload_callbacks) === \"undefined\" || force === true) {\n",
       "      window._bokeh_onload_callbacks = [];\n",
       "      window._bokeh_is_loading = undefined;\n",
       "    }\n",
       "  \n",
       "  \n",
       "    \n",
       "    if (typeof (window._bokeh_timeout) === \"undefined\" || force === true) {\n",
       "      window._bokeh_timeout = Date.now() + 0;\n",
       "      window._bokeh_failed_load = false;\n",
       "    }\n",
       "  \n",
       "    var NB_LOAD_WARNING = {'data': {'text/html':\n",
       "       \"<div style='background-color: #fdd'>\\n\"+\n",
       "       \"<p>\\n\"+\n",
       "       \"BokehJS does not appear to have successfully loaded. If loading BokehJS from CDN, this \\n\"+\n",
       "       \"may be due to a slow or bad network connection. Possible fixes:\\n\"+\n",
       "       \"</p>\\n\"+\n",
       "       \"<ul>\\n\"+\n",
       "       \"<li>re-rerun `output_notebook()` to attempt to load from CDN again, or</li>\\n\"+\n",
       "       \"<li>use INLINE resources instead, as so:</li>\\n\"+\n",
       "       \"</ul>\\n\"+\n",
       "       \"<code>\\n\"+\n",
       "       \"from bokeh.resources import INLINE\\n\"+\n",
       "       \"output_notebook(resources=INLINE)\\n\"+\n",
       "       \"</code>\\n\"+\n",
       "       \"</div>\"}};\n",
       "  \n",
       "    function display_loaded() {\n",
       "      if (window.Bokeh !== undefined) {\n",
       "        document.getElementById(\"60fc7ba7-f75c-4279-b291-925c72d25414\").textContent = \"BokehJS successfully loaded.\";\n",
       "      } else if (Date.now() < window._bokeh_timeout) {\n",
       "        setTimeout(display_loaded, 100)\n",
       "      }\n",
       "    }\n",
       "  \n",
       "    function run_callbacks() {\n",
       "      window._bokeh_onload_callbacks.forEach(function(callback) { callback() });\n",
       "      delete window._bokeh_onload_callbacks\n",
       "      console.info(\"Bokeh: all callbacks have finished\");\n",
       "    }\n",
       "  \n",
       "    function load_libs(js_urls, callback) {\n",
       "      window._bokeh_onload_callbacks.push(callback);\n",
       "      if (window._bokeh_is_loading > 0) {\n",
       "        console.log(\"Bokeh: BokehJS is being loaded, scheduling callback at\", now());\n",
       "        return null;\n",
       "      }\n",
       "      if (js_urls == null || js_urls.length === 0) {\n",
       "        run_callbacks();\n",
       "        return null;\n",
       "      }\n",
       "      console.log(\"Bokeh: BokehJS not loaded, scheduling load and callback at\", now());\n",
       "      window._bokeh_is_loading = js_urls.length;\n",
       "      for (var i = 0; i < js_urls.length; i++) {\n",
       "        var url = js_urls[i];\n",
       "        var s = document.createElement('script');\n",
       "        s.src = url;\n",
       "        s.async = false;\n",
       "        s.onreadystatechange = s.onload = function() {\n",
       "          window._bokeh_is_loading--;\n",
       "          if (window._bokeh_is_loading === 0) {\n",
       "            console.log(\"Bokeh: all BokehJS libraries loaded\");\n",
       "            run_callbacks()\n",
       "          }\n",
       "        };\n",
       "        s.onerror = function() {\n",
       "          console.warn(\"failed to load library \" + url);\n",
       "        };\n",
       "        console.log(\"Bokeh: injecting script tag for BokehJS library: \", url);\n",
       "        document.getElementsByTagName(\"head\")[0].appendChild(s);\n",
       "      }\n",
       "    };var element = document.getElementById(\"60fc7ba7-f75c-4279-b291-925c72d25414\");\n",
       "    if (element == null) {\n",
       "      console.log(\"Bokeh: ERROR: autoload.js configured with elementid '60fc7ba7-f75c-4279-b291-925c72d25414' but no matching script tag was found. \")\n",
       "      return false;\n",
       "    }\n",
       "  \n",
       "    var js_urls = [];\n",
       "  \n",
       "    var inline_js = [\n",
       "      function(Bokeh) {\n",
       "        (function() {\n",
       "          var fn = function() {\n",
       "            var docs_json = {\"64f7c727-5429-42ee-a1fb-e964b1b56b8f\":{\"roots\":{\"references\":[{\"attributes\":{\"callback\":null,\"overlay\":{\"id\":\"0e53b5ee-948d-477d-b12d-6e7bdee2f2c5\",\"type\":\"BoxAnnotation\"},\"plot\":{\"id\":\"a451097a-12c4-438b-9fb3-ffe378d0592c\",\"subtype\":\"Figure\",\"type\":\"Plot\"},\"renderers\":[{\"id\":\"11201545-dd6b-434e-bb31-bd02e661defb\",\"type\":\"GlyphRenderer\"},{\"id\":\"8e93aeb9-17d2-4826-8bb7-139bb3949e54\",\"type\":\"GlyphRenderer\"}]},\"id\":\"3cc90469-f796-4015-9c4d-841f23c122dc\",\"type\":\"BoxSelectTool\"},{\"attributes\":{\"data_source\":{\"id\":\"b83c2243-f2d0-4646-afb2-7ad727d2c07c\",\"type\":\"ColumnDataSource\"},\"glyph\":{\"id\":\"0719a4b8-d383-4f1a-a0f6-cab7322d4df2\",\"type\":\"Line\"},\"hover_glyph\":null,\"nonselection_glyph\":{\"id\":\"35d8e8f4-f26a-4b8d-ac9c-326fe37a7e28\",\"type\":\"Line\"},\"selection_glyph\":null},\"id\":\"11201545-dd6b-434e-bb31-bd02e661defb\",\"type\":\"GlyphRenderer\"},{\"attributes\":{},\"id\":\"e36901cd-fe7c-4921-b953-ae1a0d3c0970\",\"type\":\"BasicTicker\"},{\"attributes\":{\"data_source\":{\"id\":\"1a31c170-9546-4a35-baa2-ba96479aba44\",\"type\":\"ColumnDataSource\"},\"glyph\":{\"id\":\"d8c30215-9aa1-4a49-bd85-82d40971491a\",\"type\":\"Line\"},\"hover_glyph\":null,\"nonselection_glyph\":{\"id\":\"3393473c-0b68-473a-b22a-32aa61fc0956\",\"type\":\"Line\"},\"selection_glyph\":null},\"id\":\"8e93aeb9-17d2-4826-8bb7-139bb3949e54\",\"type\":\"GlyphRenderer\"},{\"attributes\":{\"below\":[{\"id\":\"16c731dd-6b1b-423f-8533-b5fe9cef9a5d\",\"type\":\"LinearAxis\"}],\"left\":[{\"id\":\"1bf30cd0-eb85-433a-ae94-dee0b37ca207\",\"type\":\"LinearAxis\"}],\"renderers\":[{\"id\":\"16c731dd-6b1b-423f-8533-b5fe9cef9a5d\",\"type\":\"LinearAxis\"},{\"id\":\"4bf17ab7-c3d0-48de-83c6-0ad524d68a9d\",\"type\":\"Grid\"},{\"id\":\"1bf30cd0-eb85-433a-ae94-dee0b37ca207\",\"type\":\"LinearAxis\"},{\"id\":\"75a2c420-ee6f-4297-b523-d7ba8f685508\",\"type\":\"Grid\"},{\"id\":\"432c8651-284e-4960-beae-bd465b97a1a8\",\"type\":\"BoxAnnotation\"},{\"id\":\"0e53b5ee-948d-477d-b12d-6e7bdee2f2c5\",\"type\":\"BoxAnnotation\"},{\"id\":\"8f536bbd-bc4e-43b2-9273-881a2a0eeb23\",\"type\":\"PolyAnnotation\"},{\"id\":\"4cbb1861-0f0d-4f0e-9050-e6d6cf1afb55\",\"type\":\"PolyAnnotation\"},{\"id\":\"21d1759c-1686-40c0-b2ce-9dc9f3688333\",\"type\":\"Legend\"},{\"id\":\"11201545-dd6b-434e-bb31-bd02e661defb\",\"type\":\"GlyphRenderer\"},{\"id\":\"8e93aeb9-17d2-4826-8bb7-139bb3949e54\",\"type\":\"GlyphRenderer\"}],\"title\":{\"id\":\"c1e12c9c-ef61-43a9-965b-0373a51c7ad1\",\"type\":\"Title\"},\"tool_events\":{\"id\":\"bb1fa937-e128-4a37-96a4-0035ed3539e4\",\"type\":\"ToolEvents\"},\"toolbar\":{\"id\":\"99976df0-ec4d-4dc4-8938-72cbe139b186\",\"type\":\"Toolbar\"},\"x_range\":{\"id\":\"5587d123-6a11-4d7f-b529-c2d86635db79\",\"type\":\"DataRange1d\"},\"y_range\":{\"id\":\"3e4f0ab0-efde-4deb-bea4-c7ec321b591a\",\"type\":\"DataRange1d\"}},\"id\":\"a451097a-12c4-438b-9fb3-ffe378d0592c\",\"subtype\":\"Figure\",\"type\":\"Plot\"},{\"attributes\":{\"plot\":{\"id\":\"a451097a-12c4-438b-9fb3-ffe378d0592c\",\"subtype\":\"Figure\",\"type\":\"Plot\"}},\"id\":\"cffbafe5-c380-4d64-89c5-c9b7752c0666\",\"type\":\"ResetTool\"},{\"attributes\":{},\"id\":\"bb1fa937-e128-4a37-96a4-0035ed3539e4\",\"type\":\"ToolEvents\"},{\"attributes\":{\"line_color\":{\"value\":\"blue\"},\"line_width\":{\"value\":2},\"x\":{\"field\":\"x\"},\"y\":{\"field\":\"y\"}},\"id\":\"0719a4b8-d383-4f1a-a0f6-cab7322d4df2\",\"type\":\"Line\"},{\"attributes\":{},\"id\":\"e9070b00-fffb-4a75-8d32-245e0611b3b3\",\"type\":\"BasicTickFormatter\"},{\"attributes\":{\"plot\":{\"id\":\"a451097a-12c4-438b-9fb3-ffe378d0592c\",\"subtype\":\"Figure\",\"type\":\"Plot\"}},\"id\":\"012d0871-5357-440c-961a-490fc462ed28\",\"type\":\"CrosshairTool\"},{\"attributes\":{\"line_color\":{\"value\":\"red\"},\"line_width\":{\"value\":2},\"x\":{\"field\":\"x\"},\"y\":{\"field\":\"y\"}},\"id\":\"d8c30215-9aa1-4a49-bd85-82d40971491a\",\"type\":\"Line\"},{\"attributes\":{\"label\":{\"value\":\"Thompson Sampling\"},\"renderers\":[{\"id\":\"8e93aeb9-17d2-4826-8bb7-139bb3949e54\",\"type\":\"GlyphRenderer\"}]},\"id\":\"3059c41a-5901-4c1e-9f66-0ae9f72f5e04\",\"type\":\"LegendItem\"},{\"attributes\":{\"callback\":null,\"column_names\":[\"x\",\"y\"],\"data\":{\"x\":[0,1,2,3,4,5,6,7,8,9,10,11,12,13,14,15,16,17,18,19,20,21,22,23,24,25,26,27,28,29,30,31,32,33,34,35,36,37,38,39],\"y\":{\"__ndarray__\":\"+HuSGURD7j+c/kwjKUzuP5z+TCMpTO4/4EGLIylM7j+ExEUtDlXuP432cTbzXe4/hMRFLQ5V7j+ExEUtDlXuP4TERS0OVe4/4EGLIylM7j+ExEUtDlXuP4TERS0OVe4/PL/QGURD7j/gQYsjKUzuPzy/0BlEQ+4/QS/GD1867j8REhfVAAXuP/2ZRvKvH+4/OQK4mqLP7T8FdRNqKaPtPzXpIRbZa+w/Dqc/U/S56z/aGZsie43rP31F9pr0EOs/7ToMdGDt6j9JuFFqe+TqPwGz3Fax0uo/PRtO/6OC6j+ZmJP1vnnqP60QZNgPX+o/GkRDvh1d6T9qe+Saos/dP5JrhWBEmt0/RqTZObB23T9GpNk5sHbdP9GQD/h7ktk/+YCwvR1d2T+Ji5rksYDZP6EcAUweC9g/oRwBTB4L2D8=\",\"dtype\":\"float64\",\"shape\":[40]}}},\"id\":\"b83c2243-f2d0-4646-afb2-7ad727d2c07c\",\"type\":\"ColumnDataSource\"},{\"attributes\":{\"plot\":{\"id\":\"a451097a-12c4-438b-9fb3-ffe378d0592c\",\"subtype\":\"Figure\",\"type\":\"Plot\"}},\"id\":\"daed9ded-209a-4a88-a9b1-0d8435ec070e\",\"type\":\"ResizeTool\"},{\"attributes\":{\"fill_alpha\":{\"value\":0.5},\"fill_color\":{\"value\":\"lightgrey\"},\"level\":\"overlay\",\"line_alpha\":{\"value\":1.0},\"line_color\":{\"value\":\"black\"},\"line_dash\":[4,4],\"line_width\":{\"value\":2},\"plot\":null,\"xs_units\":\"screen\",\"ys_units\":\"screen\"},\"id\":\"4cbb1861-0f0d-4f0e-9050-e6d6cf1afb55\",\"type\":\"PolyAnnotation\"},{\"attributes\":{\"callback\":null,\"overlay\":{\"id\":\"8f536bbd-bc4e-43b2-9273-881a2a0eeb23\",\"type\":\"PolyAnnotation\"},\"plot\":{\"id\":\"a451097a-12c4-438b-9fb3-ffe378d0592c\",\"subtype\":\"Figure\",\"type\":\"Plot\"}},\"id\":\"25757696-1717-4bca-af82-0ce20e93bd34\",\"type\":\"LassoSelectTool\"},{\"attributes\":{\"line_alpha\":{\"value\":0.1},\"line_color\":{\"value\":\"#1f77b4\"},\"line_width\":{\"value\":2},\"x\":{\"field\":\"x\"},\"y\":{\"field\":\"y\"}},\"id\":\"3393473c-0b68-473a-b22a-32aa61fc0956\",\"type\":\"Line\"},{\"attributes\":{\"fill_alpha\":{\"value\":0.5},\"fill_color\":{\"value\":\"lightgrey\"},\"level\":\"overlay\",\"line_alpha\":{\"value\":1.0},\"line_color\":{\"value\":\"black\"},\"line_dash\":[4,4],\"line_width\":{\"value\":2},\"plot\":null,\"xs_units\":\"screen\",\"ys_units\":\"screen\"},\"id\":\"8f536bbd-bc4e-43b2-9273-881a2a0eeb23\",\"type\":\"PolyAnnotation\"},{\"attributes\":{\"active_drag\":\"auto\",\"active_scroll\":\"auto\",\"active_tap\":\"auto\",\"tools\":[{\"id\":\"63026892-7367-4aaf-8fdb-9c5a9e8e9388\",\"type\":\"BoxZoomTool\"},{\"id\":\"3cc90469-f796-4015-9c4d-841f23c122dc\",\"type\":\"BoxSelectTool\"},{\"id\":\"012d0871-5357-440c-961a-490fc462ed28\",\"type\":\"CrosshairTool\"},{\"id\":\"daed9ded-209a-4a88-a9b1-0d8435ec070e\",\"type\":\"ResizeTool\"},{\"id\":\"cffbafe5-c380-4d64-89c5-c9b7752c0666\",\"type\":\"ResetTool\"},{\"id\":\"25757696-1717-4bca-af82-0ce20e93bd34\",\"type\":\"LassoSelectTool\"},{\"id\":\"3bb2e09d-e6a0-4439-8f3c-60339da23f5d\",\"type\":\"PanTool\"},{\"id\":\"1f0c1663-7be7-4799-a323-3c14716c7147\",\"type\":\"SaveTool\"},{\"id\":\"b7841e84-a2eb-42f5-a34d-6f6b7c2d8149\",\"type\":\"PolySelectTool\"},{\"id\":\"2d11b00e-2b80-48cb-8e0b-7986e7410e0e\",\"type\":\"TapTool\"},{\"id\":\"fc83552c-f806-4fe3-9f20-776e432a6a7f\",\"type\":\"WheelZoomTool\"},{\"id\":\"16837505-26ea-4ab9-a393-3fcd318bd7a4\",\"type\":\"UndoTool\"}]},\"id\":\"99976df0-ec4d-4dc4-8938-72cbe139b186\",\"type\":\"Toolbar\"},{\"attributes\":{\"bottom_units\":\"screen\",\"fill_alpha\":{\"value\":0.5},\"fill_color\":{\"value\":\"lightgrey\"},\"left_units\":\"screen\",\"level\":\"overlay\",\"line_alpha\":{\"value\":1.0},\"line_color\":{\"value\":\"black\"},\"line_dash\":[4,4],\"line_width\":{\"value\":2},\"plot\":null,\"render_mode\":\"css\",\"right_units\":\"screen\",\"top_units\":\"screen\"},\"id\":\"432c8651-284e-4960-beae-bd465b97a1a8\",\"type\":\"BoxAnnotation\"},{\"attributes\":{\"callback\":null,\"column_names\":[\"x\",\"y\"],\"data\":{\"x\":[0,1,2,3,4,5,6,7,8,9,10,11,12,13,14,15,16,17,18,19,20,21,22,23,24,25,26,27,28,29,30,31,32,33,34,35,36,37,38,39],\"y\":{\"__ndarray__\":\"+HuSGURD7j/4e5IZREPuP/h7khlEQ+4/nP5MIylM7j8M9GL8lCjuP8Tu7ejKFu4/xO7t6MoW7j/JXuPe5Q3uPxFkWPKvH+4/yV7j3uUN7j9ocajyrx/uPwz0YvyUKO4/yV7j3uUN7j8l3CjVAAXuP4FZbssb/O0/eCdCwjbz7T/ALLfVAAXuP93Ws8E28+0/1KSHuFHq7T94J0LCNvPtP0SanZG9xu0/MCLNrmzh7T9YEm50DqztP/yUKH7ztO0/BcdUh9i97T9Emp2RvcbtP7n/qGBEmu0/cfozTXqI7T9VVVX1bDjtP1VVVfVsOO0/rWKl9Ww47T9lXTDioibtP3nVAMXzC+0/edUAxfML7T/B2nXYvR3tP8GINNt6Nuw/bpR6P3zp6D8OVf5VAxToPz5yrZBhSeg/oRwBTB4L2D8=\",\"dtype\":\"float64\",\"shape\":[40]}}},\"id\":\"1a31c170-9546-4a35-baa2-ba96479aba44\",\"type\":\"ColumnDataSource\"},{\"attributes\":{\"plot\":{\"id\":\"a451097a-12c4-438b-9fb3-ffe378d0592c\",\"subtype\":\"Figure\",\"type\":\"Plot\"}},\"id\":\"3bb2e09d-e6a0-4439-8f3c-60339da23f5d\",\"type\":\"PanTool\"},{\"attributes\":{\"callback\":null},\"id\":\"3e4f0ab0-efde-4deb-bea4-c7ec321b591a\",\"type\":\"DataRange1d\"},{\"attributes\":{\"callback\":null},\"id\":\"5587d123-6a11-4d7f-b529-c2d86635db79\",\"type\":\"DataRange1d\"},{\"attributes\":{\"callback\":null,\"plot\":{\"id\":\"a451097a-12c4-438b-9fb3-ffe378d0592c\",\"subtype\":\"Figure\",\"type\":\"Plot\"}},\"id\":\"2d11b00e-2b80-48cb-8e0b-7986e7410e0e\",\"type\":\"TapTool\"},{\"attributes\":{\"label\":{\"value\":\"ucb1\"},\"renderers\":[{\"id\":\"11201545-dd6b-434e-bb31-bd02e661defb\",\"type\":\"GlyphRenderer\"}]},\"id\":\"2ad15950-3736-49c6-af9b-2a2c5538f9cb\",\"type\":\"LegendItem\"},{\"attributes\":{\"line_alpha\":{\"value\":0.1},\"line_color\":{\"value\":\"#1f77b4\"},\"line_width\":{\"value\":2},\"x\":{\"field\":\"x\"},\"y\":{\"field\":\"y\"}},\"id\":\"35d8e8f4-f26a-4b8d-ac9c-326fe37a7e28\",\"type\":\"Line\"},{\"attributes\":{\"dimension\":1,\"plot\":{\"id\":\"a451097a-12c4-438b-9fb3-ffe378d0592c\",\"subtype\":\"Figure\",\"type\":\"Plot\"},\"ticker\":{\"id\":\"120409bf-0b43-41af-9c9f-9b5091073d66\",\"type\":\"BasicTicker\"}},\"id\":\"75a2c420-ee6f-4297-b523-d7ba8f685508\",\"type\":\"Grid\"},{\"attributes\":{},\"id\":\"d99da205-5a9b-4c04-99e9-9b126f2a615f\",\"type\":\"BasicTickFormatter\"},{\"attributes\":{\"plot\":{\"id\":\"a451097a-12c4-438b-9fb3-ffe378d0592c\",\"subtype\":\"Figure\",\"type\":\"Plot\"},\"ticker\":{\"id\":\"e36901cd-fe7c-4921-b953-ae1a0d3c0970\",\"type\":\"BasicTicker\"}},\"id\":\"4bf17ab7-c3d0-48de-83c6-0ad524d68a9d\",\"type\":\"Grid\"},{\"attributes\":{\"items\":[{\"id\":\"2ad15950-3736-49c6-af9b-2a2c5538f9cb\",\"type\":\"LegendItem\"},{\"id\":\"3059c41a-5901-4c1e-9f66-0ae9f72f5e04\",\"type\":\"LegendItem\"}],\"plot\":{\"id\":\"a451097a-12c4-438b-9fb3-ffe378d0592c\",\"subtype\":\"Figure\",\"type\":\"Plot\"}},\"id\":\"21d1759c-1686-40c0-b2ce-9dc9f3688333\",\"type\":\"Legend\"},{\"attributes\":{\"align\":\"center\",\"plot\":null,\"text\":\"The Performance over the number of neurons' pruned\"},\"id\":\"c1e12c9c-ef61-43a9-965b-0373a51c7ad1\",\"type\":\"Title\"},{\"attributes\":{\"bottom_units\":\"screen\",\"fill_alpha\":{\"value\":0.5},\"fill_color\":{\"value\":\"lightgrey\"},\"left_units\":\"screen\",\"level\":\"overlay\",\"line_alpha\":{\"value\":1.0},\"line_color\":{\"value\":\"black\"},\"line_dash\":[4,4],\"line_width\":{\"value\":2},\"plot\":null,\"render_mode\":\"css\",\"right_units\":\"screen\",\"top_units\":\"screen\"},\"id\":\"0e53b5ee-948d-477d-b12d-6e7bdee2f2c5\",\"type\":\"BoxAnnotation\"},{\"attributes\":{\"overlay\":{\"id\":\"4cbb1861-0f0d-4f0e-9050-e6d6cf1afb55\",\"type\":\"PolyAnnotation\"},\"plot\":{\"id\":\"a451097a-12c4-438b-9fb3-ffe378d0592c\",\"subtype\":\"Figure\",\"type\":\"Plot\"}},\"id\":\"b7841e84-a2eb-42f5-a34d-6f6b7c2d8149\",\"type\":\"PolySelectTool\"},{\"attributes\":{\"plot\":{\"id\":\"a451097a-12c4-438b-9fb3-ffe378d0592c\",\"subtype\":\"Figure\",\"type\":\"Plot\"}},\"id\":\"fc83552c-f806-4fe3-9f20-776e432a6a7f\",\"type\":\"WheelZoomTool\"},{\"attributes\":{\"overlay\":{\"id\":\"432c8651-284e-4960-beae-bd465b97a1a8\",\"type\":\"BoxAnnotation\"},\"plot\":{\"id\":\"a451097a-12c4-438b-9fb3-ffe378d0592c\",\"subtype\":\"Figure\",\"type\":\"Plot\"}},\"id\":\"63026892-7367-4aaf-8fdb-9c5a9e8e9388\",\"type\":\"BoxZoomTool\"},{\"attributes\":{\"formatter\":{\"id\":\"d99da205-5a9b-4c04-99e9-9b126f2a615f\",\"type\":\"BasicTickFormatter\"},\"plot\":{\"id\":\"a451097a-12c4-438b-9fb3-ffe378d0592c\",\"subtype\":\"Figure\",\"type\":\"Plot\"},\"ticker\":{\"id\":\"120409bf-0b43-41af-9c9f-9b5091073d66\",\"type\":\"BasicTicker\"}},\"id\":\"1bf30cd0-eb85-433a-ae94-dee0b37ca207\",\"type\":\"LinearAxis\"},{\"attributes\":{\"plot\":{\"id\":\"a451097a-12c4-438b-9fb3-ffe378d0592c\",\"subtype\":\"Figure\",\"type\":\"Plot\"}},\"id\":\"16837505-26ea-4ab9-a393-3fcd318bd7a4\",\"type\":\"UndoTool\"},{\"attributes\":{\"plot\":{\"id\":\"a451097a-12c4-438b-9fb3-ffe378d0592c\",\"subtype\":\"Figure\",\"type\":\"Plot\"}},\"id\":\"1f0c1663-7be7-4799-a323-3c14716c7147\",\"type\":\"SaveTool\"},{\"attributes\":{},\"id\":\"120409bf-0b43-41af-9c9f-9b5091073d66\",\"type\":\"BasicTicker\"},{\"attributes\":{\"formatter\":{\"id\":\"e9070b00-fffb-4a75-8d32-245e0611b3b3\",\"type\":\"BasicTickFormatter\"},\"plot\":{\"id\":\"a451097a-12c4-438b-9fb3-ffe378d0592c\",\"subtype\":\"Figure\",\"type\":\"Plot\"},\"ticker\":{\"id\":\"e36901cd-fe7c-4921-b953-ae1a0d3c0970\",\"type\":\"BasicTicker\"}},\"id\":\"16c731dd-6b1b-423f-8533-b5fe9cef9a5d\",\"type\":\"LinearAxis\"}],\"root_ids\":[\"a451097a-12c4-438b-9fb3-ffe378d0592c\"]},\"title\":\"Bokeh Application\",\"version\":\"0.12.4\"}};\n",
       "            var render_items = [{\"docid\":\"64f7c727-5429-42ee-a1fb-e964b1b56b8f\",\"elementid\":\"60fc7ba7-f75c-4279-b291-925c72d25414\",\"modelid\":\"a451097a-12c4-438b-9fb3-ffe378d0592c\"}];\n",
       "            \n",
       "            Bokeh.embed.embed_items(docs_json, render_items);\n",
       "          };\n",
       "          if (document.readyState != \"loading\") fn();\n",
       "          else document.addEventListener(\"DOMContentLoaded\", fn);\n",
       "        })();\n",
       "      },\n",
       "      function(Bokeh) {\n",
       "      }\n",
       "    ];\n",
       "  \n",
       "    function run_inline_js() {\n",
       "      \n",
       "      if ((window.Bokeh !== undefined) || (force === true)) {\n",
       "        for (var i = 0; i < inline_js.length; i++) {\n",
       "          inline_js[i](window.Bokeh);\n",
       "        }if (force === true) {\n",
       "          display_loaded();\n",
       "        }} else if (Date.now() < window._bokeh_timeout) {\n",
       "        setTimeout(run_inline_js, 100);\n",
       "      } else if (!window._bokeh_failed_load) {\n",
       "        console.log(\"Bokeh: BokehJS failed to load within specified timeout.\");\n",
       "        window._bokeh_failed_load = true;\n",
       "      } else if (force !== true) {\n",
       "        var cell = $(document.getElementById(\"60fc7ba7-f75c-4279-b291-925c72d25414\")).parents('.cell').data().cell;\n",
       "        cell.output_area.append_execute_result(NB_LOAD_WARNING)\n",
       "      }\n",
       "  \n",
       "    }\n",
       "  \n",
       "    if (window._bokeh_is_loading === 0) {\n",
       "      console.log(\"Bokeh: BokehJS loaded, going straight to plotting\");\n",
       "      run_inline_js();\n",
       "    } else {\n",
       "      load_libs(js_urls, function() {\n",
       "        console.log(\"Bokeh: BokehJS plotting callback run at\", now());\n",
       "        run_inline_js();\n",
       "      });\n",
       "    }\n",
       "  }(this));\n",
       "</script>"
      ]
     },
     "metadata": {},
     "output_type": "display_data"
    }
   ],
   "source": [
    "p1 = figure(title=\"The Performance over the number of neurons' pruned\", tools=TOOLS)\n",
    "p1.line(ind, ucb1, legend=\"ucb1\", line_color=\"blue\", line_width=2)\n",
    "p1.line(ind, ThompsonSampling, legend=\"Thompson Sampling\", line_color=\"red\", line_width=2)\n",
    "p1.title.align = \"center\"\n",
    "show(p1)"
   ]
  },
  {
   "cell_type": "markdown",
   "metadata": {},
   "source": [
    "# Comparing All algorithms with the model before pruning"
   ]
  },
  {
   "cell_type": "code",
   "execution_count": 16,
   "metadata": {
    "collapsed": false
   },
   "outputs": [
    {
     "data": {
      "image/png": "[encoded data removed]",
      "text/plain": [
       "<matplotlib.figure.Figure at 0x10e66d0b8>"
      ]
     },
     "metadata": {},
     "output_type": "display_data"
    }
   ],
   "source": [
    "fig = plt.figure(figsize=(10, 6), dpi=80)\n",
    "ax = fig.add_subplot(111)\n",
    "N = len(ucb1)\n",
    "Acc = [Accuracy for col in range(N)]\n",
    "ind = np.arange(N)                # the x locations for the groups\n",
    "plt.plot(ind , ucb1 , color=\"blue\", linewidth=2.5, linestyle=\"-\", label=\"UCB1\")\n",
    "plt.plot(ind , ThompsonSampling, color=\"orange\", linewidth=2.5, linestyle=\"-\", label=\"Thompson Sampling\")\n",
    "plt.plot(ind , Acc, color=\"pink\", linewidth=2.5, linestyle=\"-\", label=\"Accuracy before Pruning\")\n",
    "plt.legend(loc = 3)\n",
    "plt.axis([0, 25, 0, 1])\n",
    "plt.xlabel('Number of pruned Neurons')\n",
    "plt.ylabel('The Accuracy')\n",
    "plt.grid(True)\n",
    "plt.show()"
   ]
  },
  {
   "cell_type": "code",
   "execution_count": 17,
   "metadata": {
    "collapsed": false
   },
   "outputs": [
    {
     "data": {
      "text/html": [
       "\n",
       "\n",
       "    <div class=\"bk-root\">\n",
       "        <div class=\"bk-plotdiv\" id=\"11be3adc-9e8a-487a-8386-810b4533b5ce\"></div>\n",
       "    </div>\n",
       "<script type=\"text/javascript\">\n",
       "  \n",
       "  (function(global) {\n",
       "    function now() {\n",
       "      return new Date();\n",
       "    }\n",
       "  \n",
       "    var force = false;\n",
       "  \n",
       "    if (typeof (window._bokeh_onload_callbacks) === \"undefined\" || force === true) {\n",
       "      window._bokeh_onload_callbacks = [];\n",
       "      window._bokeh_is_loading = undefined;\n",
       "    }\n",
       "  \n",
       "  \n",
       "    \n",
       "    if (typeof (window._bokeh_timeout) === \"undefined\" || force === true) {\n",
       "      window._bokeh_timeout = Date.now() + 0;\n",
       "      window._bokeh_failed_load = false;\n",
       "    }\n",
       "  \n",
       "    var NB_LOAD_WARNING = {'data': {'text/html':\n",
       "       \"<div style='background-color: #fdd'>\\n\"+\n",
       "       \"<p>\\n\"+\n",
       "       \"BokehJS does not appear to have successfully loaded. If loading BokehJS from CDN, this \\n\"+\n",
       "       \"may be due to a slow or bad network connection. Possible fixes:\\n\"+\n",
       "       \"</p>\\n\"+\n",
       "       \"<ul>\\n\"+\n",
       "       \"<li>re-rerun `output_notebook()` to attempt to load from CDN again, or</li>\\n\"+\n",
       "       \"<li>use INLINE resources instead, as so:</li>\\n\"+\n",
       "       \"</ul>\\n\"+\n",
       "       \"<code>\\n\"+\n",
       "       \"from bokeh.resources import INLINE\\n\"+\n",
       "       \"output_notebook(resources=INLINE)\\n\"+\n",
       "       \"</code>\\n\"+\n",
       "       \"</div>\"}};\n",
       "  \n",
       "    function display_loaded() {\n",
       "      if (window.Bokeh !== undefined) {\n",
       "        document.getElementById(\"11be3adc-9e8a-487a-8386-810b4533b5ce\").textContent = \"BokehJS successfully loaded.\";\n",
       "      } else if (Date.now() < window._bokeh_timeout) {\n",
       "        setTimeout(display_loaded, 100)\n",
       "      }\n",
       "    }\n",
       "  \n",
       "    function run_callbacks() {\n",
       "      window._bokeh_onload_callbacks.forEach(function(callback) { callback() });\n",
       "      delete window._bokeh_onload_callbacks\n",
       "      console.info(\"Bokeh: all callbacks have finished\");\n",
       "    }\n",
       "  \n",
       "    function load_libs(js_urls, callback) {\n",
       "      window._bokeh_onload_callbacks.push(callback);\n",
       "      if (window._bokeh_is_loading > 0) {\n",
       "        console.log(\"Bokeh: BokehJS is being loaded, scheduling callback at\", now());\n",
       "        return null;\n",
       "      }\n",
       "      if (js_urls == null || js_urls.length === 0) {\n",
       "        run_callbacks();\n",
       "        return null;\n",
       "      }\n",
       "      console.log(\"Bokeh: BokehJS not loaded, scheduling load and callback at\", now());\n",
       "      window._bokeh_is_loading = js_urls.length;\n",
       "      for (var i = 0; i < js_urls.length; i++) {\n",
       "        var url = js_urls[i];\n",
       "        var s = document.createElement('script');\n",
       "        s.src = url;\n",
       "        s.async = false;\n",
       "        s.onreadystatechange = s.onload = function() {\n",
       "          window._bokeh_is_loading--;\n",
       "          if (window._bokeh_is_loading === 0) {\n",
       "            console.log(\"Bokeh: all BokehJS libraries loaded\");\n",
       "            run_callbacks()\n",
       "          }\n",
       "        };\n",
       "        s.onerror = function() {\n",
       "          console.warn(\"failed to load library \" + url);\n",
       "        };\n",
       "        console.log(\"Bokeh: injecting script tag for BokehJS library: \", url);\n",
       "        document.getElementsByTagName(\"head\")[0].appendChild(s);\n",
       "      }\n",
       "    };var element = document.getElementById(\"11be3adc-9e8a-487a-8386-810b4533b5ce\");\n",
       "    if (element == null) {\n",
       "      console.log(\"Bokeh: ERROR: autoload.js configured with elementid '11be3adc-9e8a-487a-8386-810b4533b5ce' but no matching script tag was found. \")\n",
       "      return false;\n",
       "    }\n",
       "  \n",
       "    var js_urls = [];\n",
       "  \n",
       "    var inline_js = [\n",
       "      function(Bokeh) {\n",
       "        (function() {\n",
       "          var fn = function() {\n",
       "            var docs_json = {\"00310845-1d80-4623-8a3c-a9810f91fea1\":{\"roots\":{\"references\":[{\"attributes\":{\"line_alpha\":{\"value\":0.1},\"line_color\":{\"value\":\"#1f77b4\"},\"line_dash\":[4,4],\"line_width\":{\"value\":2},\"x\":{\"field\":\"x\"},\"y\":{\"field\":\"y\"}},\"id\":\"0de890ed-9873-453d-9438-18a9ae5fec8e\",\"type\":\"Line\"},{\"attributes\":{\"plot\":{\"id\":\"c304d084-d018-4c2d-9e1e-d3e135596cd4\",\"subtype\":\"Figure\",\"type\":\"Plot\"}},\"id\":\"62e690f5-a834-4a6b-b482-8eaf9f465bbb\",\"type\":\"CrosshairTool\"},{\"attributes\":{\"formatter\":{\"id\":\"5ba31691-0974-4277-9063-b60a9e541a67\",\"type\":\"BasicTickFormatter\"},\"plot\":{\"id\":\"c304d084-d018-4c2d-9e1e-d3e135596cd4\",\"subtype\":\"Figure\",\"type\":\"Plot\"},\"ticker\":{\"id\":\"0d9a14fc-19aa-4407-a473-e049c27825d5\",\"type\":\"BasicTicker\"}},\"id\":\"5c3e326c-52e9-4f54-9464-b9fb98e41ec5\",\"type\":\"LinearAxis\"},{\"attributes\":{\"fill_alpha\":{\"value\":0.5},\"fill_color\":{\"value\":\"lightgrey\"},\"level\":\"overlay\",\"line_alpha\":{\"value\":1.0},\"line_color\":{\"value\":\"black\"},\"line_dash\":[4,4],\"line_width\":{\"value\":2},\"plot\":null,\"xs_units\":\"screen\",\"ys_units\":\"screen\"},\"id\":\"eab243f7-835c-4ab5-b999-12c0f1115e46\",\"type\":\"PolyAnnotation\"},{\"attributes\":{\"dimension\":1,\"plot\":{\"id\":\"c304d084-d018-4c2d-9e1e-d3e135596cd4\",\"subtype\":\"Figure\",\"type\":\"Plot\"},\"ticker\":{\"id\":\"25c2d2a8-1bbc-4181-b5de-d3001bafe8b0\",\"type\":\"BasicTicker\"}},\"id\":\"32ac51fc-8234-458a-9078-e22b9ed52a4e\",\"type\":\"Grid\"},{\"attributes\":{\"align\":\"center\",\"plot\":null,\"text\":\"The Performance over the number of neurons' pruned\"},\"id\":\"a399ff29-188e-4614-aab2-18982259a4d6\",\"type\":\"Title\"},{\"attributes\":{\"data_source\":{\"id\":\"87cce671-9619-4635-8ebe-9b36faf37d31\",\"type\":\"ColumnDataSource\"},\"glyph\":{\"id\":\"9a0a3762-5c7b-4427-ae8a-c4be4d074025\",\"type\":\"Line\"},\"hover_glyph\":null,\"nonselection_glyph\":{\"id\":\"0de890ed-9873-453d-9438-18a9ae5fec8e\",\"type\":\"Line\"},\"selection_glyph\":null},\"id\":\"054f2fd9-a7a3-47c9-8142-9570663e47f3\",\"type\":\"GlyphRenderer\"},{\"attributes\":{\"overlay\":{\"id\":\"24869e56-5ee7-4440-a714-138022b97206\",\"type\":\"BoxAnnotation\"},\"plot\":{\"id\":\"c304d084-d018-4c2d-9e1e-d3e135596cd4\",\"subtype\":\"Figure\",\"type\":\"Plot\"}},\"id\":\"979107fd-8c4e-4805-a51b-cba1c2b99eff\",\"type\":\"BoxZoomTool\"},{\"attributes\":{\"line_color\":{\"value\":\"blue\"},\"line_dash\":[4,4],\"line_width\":{\"value\":2},\"x\":{\"field\":\"x\"},\"y\":{\"field\":\"y\"}},\"id\":\"9a0a3762-5c7b-4427-ae8a-c4be4d074025\",\"type\":\"Line\"},{\"attributes\":{\"callback\":null,\"overlay\":{\"id\":\"7c485ca5-3975-4331-8bdd-1c9671ca09e3\",\"type\":\"PolyAnnotation\"},\"plot\":{\"id\":\"c304d084-d018-4c2d-9e1e-d3e135596cd4\",\"subtype\":\"Figure\",\"type\":\"Plot\"}},\"id\":\"6c1492f3-b902-4d32-8ab5-4fbbe353b60c\",\"type\":\"LassoSelectTool\"},{\"attributes\":{\"items\":[{\"id\":\"42a5c46b-6b08-445d-92bb-fd4f0bc7881a\",\"type\":\"LegendItem\"},{\"id\":\"6dd9077f-eaa1-4c6e-9026-67a1bbeb61d3\",\"type\":\"LegendItem\"},{\"id\":\"706ef16a-0315-4898-b6e2-885d6a2354ab\",\"type\":\"LegendItem\"}],\"plot\":{\"id\":\"c304d084-d018-4c2d-9e1e-d3e135596cd4\",\"subtype\":\"Figure\",\"type\":\"Plot\"}},\"id\":\"9ee793a3-2e49-4d1b-9df8-c1a5f9a320c4\",\"type\":\"Legend\"},{\"attributes\":{\"plot\":{\"id\":\"c304d084-d018-4c2d-9e1e-d3e135596cd4\",\"subtype\":\"Figure\",\"type\":\"Plot\"}},\"id\":\"ede05d55-6405-4581-b4d6-2fc473fc8c5a\",\"type\":\"WheelZoomTool\"},{\"attributes\":{\"callback\":null},\"id\":\"152287a9-0735-4d29-9c0a-9f62ab6aeebf\",\"type\":\"DataRange1d\"},{\"attributes\":{\"line_color\":{\"value\":\"green\"},\"line_width\":{\"value\":2},\"x\":{\"field\":\"x\"},\"y\":{\"field\":\"y\"}},\"id\":\"8bf59203-8b41-4eee-b6d6-ea52d9302472\",\"type\":\"Line\"},{\"attributes\":{\"label\":{\"value\":\"ucb1\"},\"renderers\":[{\"id\":\"a3e1ebdb-a39c-485f-b0b3-c2c789b6e00f\",\"type\":\"GlyphRenderer\"}]},\"id\":\"42a5c46b-6b08-445d-92bb-fd4f0bc7881a\",\"type\":\"LegendItem\"},{\"attributes\":{\"line_alpha\":{\"value\":0.1},\"line_color\":{\"value\":\"#1f77b4\"},\"line_width\":{\"value\":2},\"x\":{\"field\":\"x\"},\"y\":{\"field\":\"y\"}},\"id\":\"03851003-752c-4ec4-957e-dab8e915a1c5\",\"type\":\"Line\"},{\"attributes\":{\"active_drag\":\"auto\",\"active_scroll\":\"auto\",\"active_tap\":\"auto\",\"tools\":[{\"id\":\"979107fd-8c4e-4805-a51b-cba1c2b99eff\",\"type\":\"BoxZoomTool\"},{\"id\":\"65635627-dbec-425c-8837-19fb0aeed9e8\",\"type\":\"BoxSelectTool\"},{\"id\":\"62e690f5-a834-4a6b-b482-8eaf9f465bbb\",\"type\":\"CrosshairTool\"},{\"id\":\"27ba4688-63d3-42e7-8436-7f1335fb689a\",\"type\":\"ResizeTool\"},{\"id\":\"7c413fa3-5e41-480b-8037-9976ad1e7bb2\",\"type\":\"ResetTool\"},{\"id\":\"6c1492f3-b902-4d32-8ab5-4fbbe353b60c\",\"type\":\"LassoSelectTool\"},{\"id\":\"97490d47-ff0e-4e3e-87b4-65e004e7229e\",\"type\":\"PanTool\"},{\"id\":\"64dd7145-db6f-4ad3-a67f-c59f5d741d27\",\"type\":\"SaveTool\"},{\"id\":\"fedc3b81-4f8a-49fc-a26c-7b4de797fce7\",\"type\":\"PolySelectTool\"},{\"id\":\"51f08886-f915-4317-acaa-1606ff757fea\",\"type\":\"TapTool\"},{\"id\":\"ede05d55-6405-4581-b4d6-2fc473fc8c5a\",\"type\":\"WheelZoomTool\"},{\"id\":\"11d4817e-8873-4946-9526-b741a196aa90\",\"type\":\"UndoTool\"}]},\"id\":\"e749b0b9-cb14-4865-8855-401dfd05e22f\",\"type\":\"Toolbar\"},{\"attributes\":{},\"id\":\"5ba31691-0974-4277-9063-b60a9e541a67\",\"type\":\"BasicTickFormatter\"},{\"attributes\":{},\"id\":\"0d9a14fc-19aa-4407-a473-e049c27825d5\",\"type\":\"BasicTicker\"},{\"attributes\":{\"callback\":null,\"column_names\":[\"x\",\"y\"],\"data\":{\"x\":[0,1,2,3,4,5,6,7,8,9,10,11,12,13,14,15,16,17,18,19,20,21,22,23,24,25,26,27,28,29,30,31,32,33,34,35,36,37,38,39],\"y\":{\"__ndarray__\":\"+HuSGURD7j+c/kwjKUzuP5z+TCMpTO4/4EGLIylM7j+ExEUtDlXuP432cTbzXe4/hMRFLQ5V7j+ExEUtDlXuP4TERS0OVe4/4EGLIylM7j+ExEUtDlXuP4TERS0OVe4/PL/QGURD7j/gQYsjKUzuPzy/0BlEQ+4/QS/GD1867j8REhfVAAXuP/2ZRvKvH+4/OQK4mqLP7T8FdRNqKaPtPzXpIRbZa+w/Dqc/U/S56z/aGZsie43rP31F9pr0EOs/7ToMdGDt6j9JuFFqe+TqPwGz3Fax0uo/PRtO/6OC6j+ZmJP1vnnqP60QZNgPX+o/GkRDvh1d6T9qe+Saos/dP5JrhWBEmt0/RqTZObB23T9GpNk5sHbdP9GQD/h7ktk/+YCwvR1d2T+Ji5rksYDZP6EcAUweC9g/oRwBTB4L2D8=\",\"dtype\":\"float64\",\"shape\":[40]}}},\"id\":\"49f7e9c6-d9f6-4700-b571-287db95c4e97\",\"type\":\"ColumnDataSource\"},{\"attributes\":{\"formatter\":{\"id\":\"7335cd9b-a891-46b4-bba4-18d229df7287\",\"type\":\"BasicTickFormatter\"},\"plot\":{\"id\":\"c304d084-d018-4c2d-9e1e-d3e135596cd4\",\"subtype\":\"Figure\",\"type\":\"Plot\"},\"ticker\":{\"id\":\"25c2d2a8-1bbc-4181-b5de-d3001bafe8b0\",\"type\":\"BasicTicker\"}},\"id\":\"43015743-3bf4-4e95-9612-700b3149eaf6\",\"type\":\"LinearAxis\"},{\"attributes\":{\"plot\":{\"id\":\"c304d084-d018-4c2d-9e1e-d3e135596cd4\",\"subtype\":\"Figure\",\"type\":\"Plot\"},\"ticker\":{\"id\":\"0d9a14fc-19aa-4407-a473-e049c27825d5\",\"type\":\"BasicTicker\"}},\"id\":\"f07473fd-9536-4ebd-8e46-8238b16dc972\",\"type\":\"Grid\"},{\"attributes\":{},\"id\":\"dc0c33d7-8c97-4d70-b66b-4975f87ff94d\",\"type\":\"ToolEvents\"},{\"attributes\":{\"plot\":{\"id\":\"c304d084-d018-4c2d-9e1e-d3e135596cd4\",\"subtype\":\"Figure\",\"type\":\"Plot\"}},\"id\":\"97490d47-ff0e-4e3e-87b4-65e004e7229e\",\"type\":\"PanTool\"},{\"attributes\":{\"plot\":{\"id\":\"c304d084-d018-4c2d-9e1e-d3e135596cd4\",\"subtype\":\"Figure\",\"type\":\"Plot\"}},\"id\":\"7c413fa3-5e41-480b-8037-9976ad1e7bb2\",\"type\":\"ResetTool\"},{\"attributes\":{\"overlay\":{\"id\":\"eab243f7-835c-4ab5-b999-12c0f1115e46\",\"type\":\"PolyAnnotation\"},\"plot\":{\"id\":\"c304d084-d018-4c2d-9e1e-d3e135596cd4\",\"subtype\":\"Figure\",\"type\":\"Plot\"}},\"id\":\"fedc3b81-4f8a-49fc-a26c-7b4de797fce7\",\"type\":\"PolySelectTool\"},{\"attributes\":{\"callback\":null,\"overlay\":{\"id\":\"de22ac26-37ff-4c17-86b1-bcce4f33cde3\",\"type\":\"BoxAnnotation\"},\"plot\":{\"id\":\"c304d084-d018-4c2d-9e1e-d3e135596cd4\",\"subtype\":\"Figure\",\"type\":\"Plot\"},\"renderers\":[{\"id\":\"a3e1ebdb-a39c-485f-b0b3-c2c789b6e00f\",\"type\":\"GlyphRenderer\"},{\"id\":\"c1012bf4-bd3d-41a7-9bc9-9d2b60803612\",\"type\":\"GlyphRenderer\"},{\"id\":\"054f2fd9-a7a3-47c9-8142-9570663e47f3\",\"type\":\"GlyphRenderer\"}]},\"id\":\"65635627-dbec-425c-8837-19fb0aeed9e8\",\"type\":\"BoxSelectTool\"},{\"attributes\":{},\"id\":\"7335cd9b-a891-46b4-bba4-18d229df7287\",\"type\":\"BasicTickFormatter\"},{\"attributes\":{\"line_color\":{\"value\":\"red\"},\"line_width\":{\"value\":2},\"x\":{\"field\":\"x\"},\"y\":{\"field\":\"y\"}},\"id\":\"56860d8a-0440-4f0c-be95-2d4c126a2667\",\"type\":\"Line\"},{\"attributes\":{\"plot\":{\"id\":\"c304d084-d018-4c2d-9e1e-d3e135596cd4\",\"subtype\":\"Figure\",\"type\":\"Plot\"}},\"id\":\"27ba4688-63d3-42e7-8436-7f1335fb689a\",\"type\":\"ResizeTool\"},{\"attributes\":{},\"id\":\"25c2d2a8-1bbc-4181-b5de-d3001bafe8b0\",\"type\":\"BasicTicker\"},{\"attributes\":{\"line_alpha\":{\"value\":0.1},\"line_color\":{\"value\":\"#1f77b4\"},\"line_width\":{\"value\":2},\"x\":{\"field\":\"x\"},\"y\":{\"field\":\"y\"}},\"id\":\"19539b3f-246b-45bd-84e5-937f752daf1e\",\"type\":\"Line\"},{\"attributes\":{\"data_source\":{\"id\":\"49f7e9c6-d9f6-4700-b571-287db95c4e97\",\"type\":\"ColumnDataSource\"},\"glyph\":{\"id\":\"8bf59203-8b41-4eee-b6d6-ea52d9302472\",\"type\":\"Line\"},\"hover_glyph\":null,\"nonselection_glyph\":{\"id\":\"19539b3f-246b-45bd-84e5-937f752daf1e\",\"type\":\"Line\"},\"selection_glyph\":null},\"id\":\"a3e1ebdb-a39c-485f-b0b3-c2c789b6e00f\",\"type\":\"GlyphRenderer\"},{\"attributes\":{\"data_source\":{\"id\":\"ae21e4c0-4169-4389-a044-9d55c73f46ca\",\"type\":\"ColumnDataSource\"},\"glyph\":{\"id\":\"56860d8a-0440-4f0c-be95-2d4c126a2667\",\"type\":\"Line\"},\"hover_glyph\":null,\"nonselection_glyph\":{\"id\":\"03851003-752c-4ec4-957e-dab8e915a1c5\",\"type\":\"Line\"},\"selection_glyph\":null},\"id\":\"c1012bf4-bd3d-41a7-9bc9-9d2b60803612\",\"type\":\"GlyphRenderer\"},{\"attributes\":{\"fill_alpha\":{\"value\":0.5},\"fill_color\":{\"value\":\"lightgrey\"},\"level\":\"overlay\",\"line_alpha\":{\"value\":1.0},\"line_color\":{\"value\":\"black\"},\"line_dash\":[4,4],\"line_width\":{\"value\":2},\"plot\":null,\"xs_units\":\"screen\",\"ys_units\":\"screen\"},\"id\":\"7c485ca5-3975-4331-8bdd-1c9671ca09e3\",\"type\":\"PolyAnnotation\"},{\"attributes\":{\"below\":[{\"id\":\"5c3e326c-52e9-4f54-9464-b9fb98e41ec5\",\"type\":\"LinearAxis\"}],\"left\":[{\"id\":\"43015743-3bf4-4e95-9612-700b3149eaf6\",\"type\":\"LinearAxis\"}],\"renderers\":[{\"id\":\"5c3e326c-52e9-4f54-9464-b9fb98e41ec5\",\"type\":\"LinearAxis\"},{\"id\":\"f07473fd-9536-4ebd-8e46-8238b16dc972\",\"type\":\"Grid\"},{\"id\":\"43015743-3bf4-4e95-9612-700b3149eaf6\",\"type\":\"LinearAxis\"},{\"id\":\"32ac51fc-8234-458a-9078-e22b9ed52a4e\",\"type\":\"Grid\"},{\"id\":\"24869e56-5ee7-4440-a714-138022b97206\",\"type\":\"BoxAnnotation\"},{\"id\":\"de22ac26-37ff-4c17-86b1-bcce4f33cde3\",\"type\":\"BoxAnnotation\"},{\"id\":\"7c485ca5-3975-4331-8bdd-1c9671ca09e3\",\"type\":\"PolyAnnotation\"},{\"id\":\"eab243f7-835c-4ab5-b999-12c0f1115e46\",\"type\":\"PolyAnnotation\"},{\"id\":\"9ee793a3-2e49-4d1b-9df8-c1a5f9a320c4\",\"type\":\"Legend\"},{\"id\":\"a3e1ebdb-a39c-485f-b0b3-c2c789b6e00f\",\"type\":\"GlyphRenderer\"},{\"id\":\"c1012bf4-bd3d-41a7-9bc9-9d2b60803612\",\"type\":\"GlyphRenderer\"},{\"id\":\"054f2fd9-a7a3-47c9-8142-9570663e47f3\",\"type\":\"GlyphRenderer\"}],\"title\":{\"id\":\"a399ff29-188e-4614-aab2-18982259a4d6\",\"type\":\"Title\"},\"tool_events\":{\"id\":\"dc0c33d7-8c97-4d70-b66b-4975f87ff94d\",\"type\":\"ToolEvents\"},\"toolbar\":{\"id\":\"e749b0b9-cb14-4865-8855-401dfd05e22f\",\"type\":\"Toolbar\"},\"x_range\":{\"id\":\"7d27e0ea-c715-48af-8470-64e2c924da37\",\"type\":\"DataRange1d\"},\"y_range\":{\"id\":\"152287a9-0735-4d29-9c0a-9f62ab6aeebf\",\"type\":\"DataRange1d\"}},\"id\":\"c304d084-d018-4c2d-9e1e-d3e135596cd4\",\"subtype\":\"Figure\",\"type\":\"Plot\"},{\"attributes\":{\"label\":{\"value\":\"Thompson Sampling\"},\"renderers\":[{\"id\":\"c1012bf4-bd3d-41a7-9bc9-9d2b60803612\",\"type\":\"GlyphRenderer\"}]},\"id\":\"6dd9077f-eaa1-4c6e-9026-67a1bbeb61d3\",\"type\":\"LegendItem\"},{\"attributes\":{\"label\":{\"value\":\"Accuracy\"},\"renderers\":[{\"id\":\"054f2fd9-a7a3-47c9-8142-9570663e47f3\",\"type\":\"GlyphRenderer\"}]},\"id\":\"706ef16a-0315-4898-b6e2-885d6a2354ab\",\"type\":\"LegendItem\"},{\"attributes\":{\"callback\":null},\"id\":\"7d27e0ea-c715-48af-8470-64e2c924da37\",\"type\":\"DataRange1d\"},{\"attributes\":{\"callback\":null,\"column_names\":[\"x\",\"y\"],\"data\":{\"x\":[0,1,2,3,4,5,6,7,8,9,10,11,12,13,14,15,16,17,18,19,20,21,22,23,24,25,26,27,28,29,30,31,32,33,34,35,36,37,38,39],\"y\":{\"__ndarray__\":\"+HuSGURD7j/4e5IZREPuP/h7khlEQ+4/nP5MIylM7j8M9GL8lCjuP8Tu7ejKFu4/xO7t6MoW7j/JXuPe5Q3uPxFkWPKvH+4/yV7j3uUN7j9ocajyrx/uPwz0YvyUKO4/yV7j3uUN7j8l3CjVAAXuP4FZbssb/O0/eCdCwjbz7T/ALLfVAAXuP93Ws8E28+0/1KSHuFHq7T94J0LCNvPtP0SanZG9xu0/MCLNrmzh7T9YEm50DqztP/yUKH7ztO0/BcdUh9i97T9Emp2RvcbtP7n/qGBEmu0/cfozTXqI7T9VVVX1bDjtP1VVVfVsOO0/rWKl9Ww47T9lXTDioibtP3nVAMXzC+0/edUAxfML7T/B2nXYvR3tP8GINNt6Nuw/bpR6P3zp6D8OVf5VAxToPz5yrZBhSeg/oRwBTB4L2D8=\",\"dtype\":\"float64\",\"shape\":[40]}}},\"id\":\"ae21e4c0-4169-4389-a044-9d55c73f46ca\",\"type\":\"ColumnDataSource\"},{\"attributes\":{\"callback\":null,\"plot\":{\"id\":\"c304d084-d018-4c2d-9e1e-d3e135596cd4\",\"subtype\":\"Figure\",\"type\":\"Plot\"}},\"id\":\"51f08886-f915-4317-acaa-1606ff757fea\",\"type\":\"TapTool\"},{\"attributes\":{\"bottom_units\":\"screen\",\"fill_alpha\":{\"value\":0.5},\"fill_color\":{\"value\":\"lightgrey\"},\"left_units\":\"screen\",\"level\":\"overlay\",\"line_alpha\":{\"value\":1.0},\"line_color\":{\"value\":\"black\"},\"line_dash\":[4,4],\"line_width\":{\"value\":2},\"plot\":null,\"render_mode\":\"css\",\"right_units\":\"screen\",\"top_units\":\"screen\"},\"id\":\"de22ac26-37ff-4c17-86b1-bcce4f33cde3\",\"type\":\"BoxAnnotation\"},{\"attributes\":{\"plot\":{\"id\":\"c304d084-d018-4c2d-9e1e-d3e135596cd4\",\"subtype\":\"Figure\",\"type\":\"Plot\"}},\"id\":\"11d4817e-8873-4946-9526-b741a196aa90\",\"type\":\"UndoTool\"},{\"attributes\":{\"bottom_units\":\"screen\",\"fill_alpha\":{\"value\":0.5},\"fill_color\":{\"value\":\"lightgrey\"},\"left_units\":\"screen\",\"level\":\"overlay\",\"line_alpha\":{\"value\":1.0},\"line_color\":{\"value\":\"black\"},\"line_dash\":[4,4],\"line_width\":{\"value\":2},\"plot\":null,\"render_mode\":\"css\",\"right_units\":\"screen\",\"top_units\":\"screen\"},\"id\":\"24869e56-5ee7-4440-a714-138022b97206\",\"type\":\"BoxAnnotation\"},{\"attributes\":{\"plot\":{\"id\":\"c304d084-d018-4c2d-9e1e-d3e135596cd4\",\"subtype\":\"Figure\",\"type\":\"Plot\"}},\"id\":\"64dd7145-db6f-4ad3-a67f-c59f5d741d27\",\"type\":\"SaveTool\"},{\"attributes\":{\"callback\":null,\"column_names\":[\"x\",\"y\"],\"data\":{\"x\":[0,1,2,3,4,5,6,7,8,9,10,11,12,13,14,15,16,17,18,19,20,21,22,23,24,25,26,27,28,29,30,31,32,33,34,35,36,37,38,39],\"y\":[{\"__ndarray__\":\"L6FPRjCq7T8=\",\"dtype\":\"float64\",\"shape\":[]},{\"__ndarray__\":\"L6FPRjCq7T8=\",\"dtype\":\"float64\",\"shape\":[]},{\"__ndarray__\":\"L6FPRjCq7T8=\",\"dtype\":\"float64\",\"shape\":[]},{\"__ndarray__\":\"L6FPRjCq7T8=\",\"dtype\":\"float64\",\"shape\":[]},{\"__ndarray__\":\"L6FPRjCq7T8=\",\"dtype\":\"float64\",\"shape\":[]},{\"__ndarray__\":\"L6FPRjCq7T8=\",\"dtype\":\"float64\",\"shape\":[]},{\"__ndarray__\":\"L6FPRjCq7T8=\",\"dtype\":\"float64\",\"shape\":[]},{\"__ndarray__\":\"L6FPRjCq7T8=\",\"dtype\":\"float64\",\"shape\":[]},{\"__ndarray__\":\"L6FPRjCq7T8=\",\"dtype\":\"float64\",\"shape\":[]},{\"__ndarray__\":\"L6FPRjCq7T8=\",\"dtype\":\"float64\",\"shape\":[]},{\"__ndarray__\":\"L6FPRjCq7T8=\",\"dtype\":\"float64\",\"shape\":[]},{\"__ndarray__\":\"L6FPRjCq7T8=\",\"dtype\":\"float64\",\"shape\":[]},{\"__ndarray__\":\"L6FPRjCq7T8=\",\"dtype\":\"float64\",\"shape\":[]},{\"__ndarray__\":\"L6FPRjCq7T8=\",\"dtype\":\"float64\",\"shape\":[]},{\"__ndarray__\":\"L6FPRjCq7T8=\",\"dtype\":\"float64\",\"shape\":[]},{\"__ndarray__\":\"L6FPRjCq7T8=\",\"dtype\":\"float64\",\"shape\":[]},{\"__ndarray__\":\"L6FPRjCq7T8=\",\"dtype\":\"float64\",\"shape\":[]},{\"__ndarray__\":\"L6FPRjCq7T8=\",\"dtype\":\"float64\",\"shape\":[]},{\"__ndarray__\":\"L6FPRjCq7T8=\",\"dtype\":\"float64\",\"shape\":[]},{\"__ndarray__\":\"L6FPRjCq7T8=\",\"dtype\":\"float64\",\"shape\":[]},{\"__ndarray__\":\"L6FPRjCq7T8=\",\"dtype\":\"float64\",\"shape\":[]},{\"__ndarray__\":\"L6FPRjCq7T8=\",\"dtype\":\"float64\",\"shape\":[]},{\"__ndarray__\":\"L6FPRjCq7T8=\",\"dtype\":\"float64\",\"shape\":[]},{\"__ndarray__\":\"L6FPRjCq7T8=\",\"dtype\":\"float64\",\"shape\":[]},{\"__ndarray__\":\"L6FPRjCq7T8=\",\"dtype\":\"float64\",\"shape\":[]},{\"__ndarray__\":\"L6FPRjCq7T8=\",\"dtype\":\"float64\",\"shape\":[]},{\"__ndarray__\":\"L6FPRjCq7T8=\",\"dtype\":\"float64\",\"shape\":[]},{\"__ndarray__\":\"L6FPRjCq7T8=\",\"dtype\":\"float64\",\"shape\":[]},{\"__ndarray__\":\"L6FPRjCq7T8=\",\"dtype\":\"float64\",\"shape\":[]},{\"__ndarray__\":\"L6FPRjCq7T8=\",\"dtype\":\"float64\",\"shape\":[]},{\"__ndarray__\":\"L6FPRjCq7T8=\",\"dtype\":\"float64\",\"shape\":[]},{\"__ndarray__\":\"L6FPRjCq7T8=\",\"dtype\":\"float64\",\"shape\":[]},{\"__ndarray__\":\"L6FPRjCq7T8=\",\"dtype\":\"float64\",\"shape\":[]},{\"__ndarray__\":\"L6FPRjCq7T8=\",\"dtype\":\"float64\",\"shape\":[]},{\"__ndarray__\":\"L6FPRjCq7T8=\",\"dtype\":\"float64\",\"shape\":[]},{\"__ndarray__\":\"L6FPRjCq7T8=\",\"dtype\":\"float64\",\"shape\":[]},{\"__ndarray__\":\"L6FPRjCq7T8=\",\"dtype\":\"float64\",\"shape\":[]},{\"__ndarray__\":\"L6FPRjCq7T8=\",\"dtype\":\"float64\",\"shape\":[]},{\"__ndarray__\":\"L6FPRjCq7T8=\",\"dtype\":\"float64\",\"shape\":[]},{\"__ndarray__\":\"L6FPRjCq7T8=\",\"dtype\":\"float64\",\"shape\":[]}]}},\"id\":\"87cce671-9619-4635-8ebe-9b36faf37d31\",\"type\":\"ColumnDataSource\"}],\"root_ids\":[\"c304d084-d018-4c2d-9e1e-d3e135596cd4\"]},\"title\":\"Bokeh Application\",\"version\":\"0.12.4\"}};\n",
       "            var render_items = [{\"docid\":\"00310845-1d80-4623-8a3c-a9810f91fea1\",\"elementid\":\"11be3adc-9e8a-487a-8386-810b4533b5ce\",\"modelid\":\"c304d084-d018-4c2d-9e1e-d3e135596cd4\"}];\n",
       "            \n",
       "            Bokeh.embed.embed_items(docs_json, render_items);\n",
       "          };\n",
       "          if (document.readyState != \"loading\") fn();\n",
       "          else document.addEventListener(\"DOMContentLoaded\", fn);\n",
       "        })();\n",
       "      },\n",
       "      function(Bokeh) {\n",
       "      }\n",
       "    ];\n",
       "  \n",
       "    function run_inline_js() {\n",
       "      \n",
       "      if ((window.Bokeh !== undefined) || (force === true)) {\n",
       "        for (var i = 0; i < inline_js.length; i++) {\n",
       "          inline_js[i](window.Bokeh);\n",
       "        }if (force === true) {\n",
       "          display_loaded();\n",
       "        }} else if (Date.now() < window._bokeh_timeout) {\n",
       "        setTimeout(run_inline_js, 100);\n",
       "      } else if (!window._bokeh_failed_load) {\n",
       "        console.log(\"Bokeh: BokehJS failed to load within specified timeout.\");\n",
       "        window._bokeh_failed_load = true;\n",
       "      } else if (force !== true) {\n",
       "        var cell = $(document.getElementById(\"11be3adc-9e8a-487a-8386-810b4533b5ce\")).parents('.cell').data().cell;\n",
       "        cell.output_area.append_execute_result(NB_LOAD_WARNING)\n",
       "      }\n",
       "  \n",
       "    }\n",
       "  \n",
       "    if (window._bokeh_is_loading === 0) {\n",
       "      console.log(\"Bokeh: BokehJS loaded, going straight to plotting\");\n",
       "      run_inline_js();\n",
       "    } else {\n",
       "      load_libs(js_urls, function() {\n",
       "        console.log(\"Bokeh: BokehJS plotting callback run at\", now());\n",
       "        run_inline_js();\n",
       "      });\n",
       "    }\n",
       "  }(this));\n",
       "</script>"
      ]
     },
     "metadata": {},
     "output_type": "display_data"
    }
   ],
   "source": [
    "p1 = figure(title=\"The Performance over the number of neurons' pruned\", tools=TOOLS)\n",
    "p1.line(ind, ucb1, legend=\"ucb1\", line_color=\"green\", line_width=2)\n",
    "p1.line(ind, ThompsonSampling, legend=\"Thompson Sampling\", line_color=\"red\", line_width=2)\n",
    "p1.line(ind, Acc, legend=\"Accuracy\", line_dash=(4, 4), line_color=\"blue\", line_width=2)\n",
    "p1.title.align = \"center\"\n",
    "show(p1)"
   ]
  }
 ],
 "metadata": {
  "kernelspec": {
   "display_name": "Python 3",
   "language": "python",
   "name": "python3"
  },
  "language_info": {
   "codemirror_mode": {
    "name": "ipython",
    "version": 3
   },
   "file_extension": ".py",
   "mimetype": "text/x-python",
   "name": "python",
   "nbconvert_exporter": "python",
   "pygments_lexer": "ipython3",
   "version": "3.6.0"
  }
 },
 "nbformat": 4,
 "nbformat_minor": 0
}
