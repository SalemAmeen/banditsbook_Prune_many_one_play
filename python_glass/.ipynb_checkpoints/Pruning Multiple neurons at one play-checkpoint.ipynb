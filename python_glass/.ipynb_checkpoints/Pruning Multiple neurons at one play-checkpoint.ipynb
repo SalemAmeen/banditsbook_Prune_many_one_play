{
 "cells": [
  {
   "cell_type": "markdown",
   "metadata": {},
   "source": [
    "Compute the performance of MAB methods of pruning Multiple neurons at one time\n",
    "\n",
    "MAP for choosing multi arms at one time"
   ]
  },
  {
   "cell_type": "code",
   "execution_count": 1,
   "metadata": {
    "collapsed": true
   },
   "outputs": [],
   "source": [
    "import numpy as np\n",
    "import time\n",
    "import sys\n",
    "from numpy import *\n",
    "import matplotlib.pyplot as plt\n",
    "from sklearn import metrics\n",
    "%matplotlib inline\n",
    "#plt.rcParams['figure.figsize'] = (15, 6)"
   ]
  },
  {
   "cell_type": "markdown",
   "metadata": {},
   "source": [
    "# Load Bokeh"
   ]
  },
  {
   "cell_type": "code",
   "execution_count": 2,
   "metadata": {
    "collapsed": false
   },
   "outputs": [
    {
     "data": {
      "text/html": [
       "\n",
       "    <div class=\"bk-root\">\n",
       "        <a href=\"http://bokeh.pydata.org\" target=\"_blank\" class=\"bk-logo bk-logo-small bk-logo-notebook\"></a>\n",
       "        <span id=\"5d4452ad-aa1d-42df-97ab-ca75670caccc\">Loading BokehJS ...</span>\n",
       "    </div>"
      ]
     },
     "metadata": {},
     "output_type": "display_data"
    },
    {
     "data": {
      "application/javascript": [
       "\n",
       "(function(global) {\n",
       "  function now() {\n",
       "    return new Date();\n",
       "  }\n",
       "\n",
       "  var force = true;\n",
       "\n",
       "  if (typeof (window._bokeh_onload_callbacks) === \"undefined\" || force === true) {\n",
       "    window._bokeh_onload_callbacks = [];\n",
       "    window._bokeh_is_loading = undefined;\n",
       "  }\n",
       "\n",
       "\n",
       "  \n",
       "  if (typeof (window._bokeh_timeout) === \"undefined\" || force === true) {\n",
       "    window._bokeh_timeout = Date.now() + 5000;\n",
       "    window._bokeh_failed_load = false;\n",
       "  }\n",
       "\n",
       "  var NB_LOAD_WARNING = {'data': {'text/html':\n",
       "     \"<div style='background-color: #fdd'>\\n\"+\n",
       "     \"<p>\\n\"+\n",
       "     \"BokehJS does not appear to have successfully loaded. If loading BokehJS from CDN, this \\n\"+\n",
       "     \"may be due to a slow or bad network connection. Possible fixes:\\n\"+\n",
       "     \"</p>\\n\"+\n",
       "     \"<ul>\\n\"+\n",
       "     \"<li>re-rerun `output_notebook()` to attempt to load from CDN again, or</li>\\n\"+\n",
       "     \"<li>use INLINE resources instead, as so:</li>\\n\"+\n",
       "     \"</ul>\\n\"+\n",
       "     \"<code>\\n\"+\n",
       "     \"from bokeh.resources import INLINE\\n\"+\n",
       "     \"output_notebook(resources=INLINE)\\n\"+\n",
       "     \"</code>\\n\"+\n",
       "     \"</div>\"}};\n",
       "\n",
       "  function display_loaded() {\n",
       "    if (window.Bokeh !== undefined) {\n",
       "      document.getElementById(\"5d4452ad-aa1d-42df-97ab-ca75670caccc\").textContent = \"BokehJS successfully loaded.\";\n",
       "    } else if (Date.now() < window._bokeh_timeout) {\n",
       "      setTimeout(display_loaded, 100)\n",
       "    }\n",
       "  }\n",
       "\n",
       "  function run_callbacks() {\n",
       "    window._bokeh_onload_callbacks.forEach(function(callback) { callback() });\n",
       "    delete window._bokeh_onload_callbacks\n",
       "    console.info(\"Bokeh: all callbacks have finished\");\n",
       "  }\n",
       "\n",
       "  function load_libs(js_urls, callback) {\n",
       "    window._bokeh_onload_callbacks.push(callback);\n",
       "    if (window._bokeh_is_loading > 0) {\n",
       "      console.log(\"Bokeh: BokehJS is being loaded, scheduling callback at\", now());\n",
       "      return null;\n",
       "    }\n",
       "    if (js_urls == null || js_urls.length === 0) {\n",
       "      run_callbacks();\n",
       "      return null;\n",
       "    }\n",
       "    console.log(\"Bokeh: BokehJS not loaded, scheduling load and callback at\", now());\n",
       "    window._bokeh_is_loading = js_urls.length;\n",
       "    for (var i = 0; i < js_urls.length; i++) {\n",
       "      var url = js_urls[i];\n",
       "      var s = document.createElement('script');\n",
       "      s.src = url;\n",
       "      s.async = false;\n",
       "      s.onreadystatechange = s.onload = function() {\n",
       "        window._bokeh_is_loading--;\n",
       "        if (window._bokeh_is_loading === 0) {\n",
       "          console.log(\"Bokeh: all BokehJS libraries loaded\");\n",
       "          run_callbacks()\n",
       "        }\n",
       "      };\n",
       "      s.onerror = function() {\n",
       "        console.warn(\"failed to load library \" + url);\n",
       "      };\n",
       "      console.log(\"Bokeh: injecting script tag for BokehJS library: \", url);\n",
       "      document.getElementsByTagName(\"head\")[0].appendChild(s);\n",
       "    }\n",
       "  };var element = document.getElementById(\"5d4452ad-aa1d-42df-97ab-ca75670caccc\");\n",
       "  if (element == null) {\n",
       "    console.log(\"Bokeh: ERROR: autoload.js configured with elementid '5d4452ad-aa1d-42df-97ab-ca75670caccc' but no matching script tag was found. \")\n",
       "    return false;\n",
       "  }\n",
       "\n",
       "  var js_urls = [\"https://cdn.pydata.org/bokeh/release/bokeh-0.12.4.min.js\", \"https://cdn.pydata.org/bokeh/release/bokeh-widgets-0.12.4.min.js\"];\n",
       "\n",
       "  var inline_js = [\n",
       "    function(Bokeh) {\n",
       "      Bokeh.set_log_level(\"info\");\n",
       "    },\n",
       "    \n",
       "    function(Bokeh) {\n",
       "      \n",
       "      document.getElementById(\"5d4452ad-aa1d-42df-97ab-ca75670caccc\").textContent = \"BokehJS is loading...\";\n",
       "    },\n",
       "    function(Bokeh) {\n",
       "      console.log(\"Bokeh: injecting CSS: https://cdn.pydata.org/bokeh/release/bokeh-0.12.4.min.css\");\n",
       "      Bokeh.embed.inject_css(\"https://cdn.pydata.org/bokeh/release/bokeh-0.12.4.min.css\");\n",
       "      console.log(\"Bokeh: injecting CSS: https://cdn.pydata.org/bokeh/release/bokeh-widgets-0.12.4.min.css\");\n",
       "      Bokeh.embed.inject_css(\"https://cdn.pydata.org/bokeh/release/bokeh-widgets-0.12.4.min.css\");\n",
       "    }\n",
       "  ];\n",
       "\n",
       "  function run_inline_js() {\n",
       "    \n",
       "    if ((window.Bokeh !== undefined) || (force === true)) {\n",
       "      for (var i = 0; i < inline_js.length; i++) {\n",
       "        inline_js[i](window.Bokeh);\n",
       "      }if (force === true) {\n",
       "        display_loaded();\n",
       "      }} else if (Date.now() < window._bokeh_timeout) {\n",
       "      setTimeout(run_inline_js, 100);\n",
       "    } else if (!window._bokeh_failed_load) {\n",
       "      console.log(\"Bokeh: BokehJS failed to load within specified timeout.\");\n",
       "      window._bokeh_failed_load = true;\n",
       "    } else if (force !== true) {\n",
       "      var cell = $(document.getElementById(\"5d4452ad-aa1d-42df-97ab-ca75670caccc\")).parents('.cell').data().cell;\n",
       "      cell.output_area.append_execute_result(NB_LOAD_WARNING)\n",
       "    }\n",
       "\n",
       "  }\n",
       "\n",
       "  if (window._bokeh_is_loading === 0) {\n",
       "    console.log(\"Bokeh: BokehJS loaded, going straight to plotting\");\n",
       "    run_inline_js();\n",
       "  } else {\n",
       "    load_libs(js_urls, function() {\n",
       "      console.log(\"Bokeh: BokehJS plotting callback run at\", now());\n",
       "      run_inline_js();\n",
       "    });\n",
       "  }\n",
       "}(this));"
      ]
     },
     "metadata": {},
     "output_type": "display_data"
    }
   ],
   "source": [
    "from bokeh.layouts import row, gridplot\n",
    "from bokeh.plotting import figure, output_notebook, show\n",
    "from bokeh.models import Legend\n",
    "TOOLS = 'box_zoom,box_select,crosshair,resize,reset,lasso_select,pan,save,poly_select,tap,wheel_zoom,undo'\n",
    "output_notebook()"
   ]
  },
  {
   "cell_type": "markdown",
   "metadata": {},
   "source": [
    "# Load the data"
   ]
  },
  {
   "cell_type": "code",
   "execution_count": 3,
   "metadata": {
    "collapsed": false
   },
   "outputs": [
    {
     "name": "stdout",
     "output_type": "stream",
     "text": [
      "Number of training examples 136\n",
      "Number of validation examples 35\n",
      "Number of testing examples 43\n"
     ]
    }
   ],
   "source": [
    "X_train = np.load('./glass/X_train.npy')\n",
    "y_train = np.load('./glass/y_train.npy')\n",
    "X_test = np.load('./glass/X_test.npy')\n",
    "y_test = np.load('./glass/y_test.npy')\n",
    "X_deploy = np.load('./glass/X_deploy.npy')\n",
    "y_deploy = np.load('./glass/y_deploy.npy')\n",
    "print('Number of training examples',len(X_train))\n",
    "print('Number of validation examples',len(X_test))\n",
    "print('Number of testing examples',len(X_deploy))"
   ]
  },
  {
   "cell_type": "code",
   "execution_count": 4,
   "metadata": {
    "collapsed": false
   },
   "outputs": [],
   "source": [
    "exec(open(\"core.py\").read())  # pyhton 3x"
   ]
  },
  {
   "cell_type": "markdown",
   "metadata": {},
   "source": [
    "## Run Thompson Sampling pruning Algorithm"
   ]
  },
  {
   "cell_type": "code",
   "execution_count": 5,
   "metadata": {
    "collapsed": false
   },
   "outputs": [
    {
     "name": "stderr",
     "output_type": "stream",
     "text": [
      "/Library/Frameworks/Python.framework/Versions/3.6/lib/python3.6/site-packages/sklearn/cross_validation.py:44: DeprecationWarning: This module was deprecated in version 0.18 in favor of the model_selection module into which all the refactored classes and functions are moved. Also note that the interface of the new CV iterators are different from that of this module. This module will be removed in 0.20.\n",
      "  \"This module will be removed in 0.20.\", DeprecationWarning)\n",
      "Using Theano backend.\n"
     ]
    },
    {
     "name": "stdout",
     "output_type": "stream",
     "text": [
      "Test fraction correct (NN-Score) = 0.99\n",
      "Test fraction correct (NN-Accuracy) = 0.60\n",
      "The time for running this method is 0.07917308807373047 seconds \n",
      "Finsh playing start pruining:\n",
      "Test after pruning= 0.60\n",
      "Test after pruning= 0.63\n",
      "Test after pruning= 0.63\n",
      "Test after pruning= 0.63\n",
      "Test after pruning= 0.63\n",
      "Test after pruning= 0.63\n",
      "Test after pruning= 0.63\n",
      "Test after pruning= 0.63\n",
      "Test after pruning= 0.63\n",
      "Test after pruning= 0.65\n",
      "Test after pruning= 0.65\n",
      "Test after pruning= 0.60\n",
      "Test after pruning= 0.60\n",
      "Test after pruning= 0.58\n",
      "Test after pruning= 0.56\n",
      "Test after pruning= 0.56\n",
      "Test after pruning= 0.42\n",
      "Test after pruning= 0.47\n",
      "Test after pruning= 0.47\n",
      "Test after pruning= 0.49\n",
      "Test after pruning= 0.49\n",
      "Test after pruning= 0.47\n",
      "Test after pruning= 0.44\n",
      "Test after pruning= 0.47\n",
      "Test after pruning= 0.42\n",
      "Test after pruning= 0.47\n",
      "Test after pruning= 0.53\n",
      "Test after pruning= 0.37\n",
      "Test after pruning= 0.28\n",
      "Test after pruning= 0.28\n",
      "Test after pruning= 0.33\n",
      "Test after pruning= 0.30\n",
      "Test after pruning= 0.30\n",
      "Test after pruning= 0.30\n",
      "Test after pruning= 0.44\n"
     ]
    },
    {
     "data": {
      "image/png": "[encoded data removed]",
      "text/plain": [
       "<matplotlib.figure.Figure at 0x10dfdcf98>"
      ]
     },
     "metadata": {},
     "output_type": "display_data"
    }
   ],
   "source": [
    "algo = Thompson_Sampling([], [])\n",
    "Alg_name = 'Thompson_Sampling Algorithm'\n",
    "path = './Thompson_Sampling/'\n",
    "sys.path.append(\"./Thompson_Sampling\")\n",
    "exec(open(\"mnist_cnnFORTESTING.py\").read())"
   ]
  },
  {
   "cell_type": "markdown",
   "metadata": {},
   "source": [
    "## Run UCB1 pruning Algorithm"
   ]
  },
  {
   "cell_type": "code",
   "execution_count": 6,
   "metadata": {
    "collapsed": false
   },
   "outputs": [
    {
     "name": "stdout",
     "output_type": "stream",
     "text": [
      "Test fraction correct (NN-Score) = 0.99\n",
      "Test fraction correct (NN-Accuracy) = 0.60\n",
      "The time for running this method is 0.08293604850769043 seconds \n",
      "Finsh playing start pruining:\n",
      "Test after pruning= 0.63\n",
      "Test after pruning= 0.65\n",
      "Test after pruning= 0.65\n",
      "Test after pruning= 0.65\n",
      "Test after pruning= 0.65\n",
      "Test after pruning= 0.65\n",
      "Test after pruning= 0.65\n",
      "Test after pruning= 0.65\n",
      "Test after pruning= 0.65\n",
      "Test after pruning= 0.63\n",
      "Test after pruning= 0.60\n",
      "Test after pruning= 0.60\n",
      "Test after pruning= 0.60\n",
      "Test after pruning= 0.63\n",
      "Test after pruning= 0.63\n",
      "Test after pruning= 0.58\n",
      "Test after pruning= 0.60\n",
      "Test after pruning= 0.58\n",
      "Test after pruning= 0.58\n",
      "Test after pruning= 0.44\n",
      "Test after pruning= 0.40\n",
      "Test after pruning= 0.40\n",
      "Test after pruning= 0.37\n",
      "Test after pruning= 0.37\n",
      "Test after pruning= 0.37\n",
      "Test after pruning= 0.37\n",
      "Test after pruning= 0.26\n",
      "Test after pruning= 0.30\n",
      "Test after pruning= 0.35\n",
      "Test after pruning= 0.49\n",
      "Test after pruning= 0.49\n",
      "Test after pruning= 0.47\n",
      "Test after pruning= 0.47\n",
      "Test after pruning= 0.44\n",
      "Test after pruning= 0.44\n"
     ]
    },
    {
     "data": {
      "image/png": "[encoded data removed]",
      "text/plain": [
       "<matplotlib.figure.Figure at 0x10e01e3c8>"
      ]
     },
     "metadata": {},
     "output_type": "display_data"
    }
   ],
   "source": [
    "algo = UCB1([], [])\n",
    "Alg_name = 'UCB1 Algorithm'\n",
    "path = './UCB1/'\n",
    "sys.path.append(\"./UCB1\")\n",
    "exec(open(\"mnist_cnnFORTESTING.py\").read())"
   ]
  },
  {
   "cell_type": "markdown",
   "metadata": {
    "collapsed": true
   },
   "source": [
    "# Compare the accuracy"
   ]
  },
  {
   "cell_type": "code",
   "execution_count": 7,
   "metadata": {
    "collapsed": true
   },
   "outputs": [],
   "source": [
    "ucb1 = np.load('./UCB1/AccuracyAftrerPrune.npy')\n",
    "ThompsonSampling = np.load('./Thompson_Sampling/AccuracyAftrerPrune.npy')\n",
    "Accuracy = np.load('AccuracyBeforePruning.npy')"
   ]
  },
  {
   "cell_type": "code",
   "execution_count": 8,
   "metadata": {
    "collapsed": false
   },
   "outputs": [
    {
     "data": {
      "image/png": "[encoded data removed]",
      "text/plain": [
       "<matplotlib.figure.Figure at 0x10e505be0>"
      ]
     },
     "metadata": {},
     "output_type": "display_data"
    }
   ],
   "source": [
    "fig = plt.figure(figsize=(10, 6), dpi=80)\n",
    "ax = fig.add_subplot(111)\n",
    "N = len(ucb1)\n",
    "ind = np.arange(N)                # the x locations for the groups\n",
    "plt.plot(ind , ucb1 , color=\"blue\", linewidth=2.5, linestyle=\"-\", label=\"UCB1\")\n",
    "plt.plot(ind , ThompsonSampling, color=\"orange\", linewidth=2.5, linestyle=\"-\", label=\"Thompson Sampling\")\n",
    "plt.legend(loc = 3)\n",
    "plt.axis([0, 25, 0, 1])\n",
    "plt.xlabel('Number of pruned Neurons')\n",
    "plt.ylabel('The Accuracy')\n",
    "plt.grid(True)\n",
    "plt.show()"
   ]
  },
  {
   "cell_type": "code",
   "execution_count": 9,
   "metadata": {
    "collapsed": false
   },
   "outputs": [
    {
     "data": {
      "text/html": [
       "\n",
       "\n",
       "    <div class=\"bk-root\">\n",
       "        <div class=\"bk-plotdiv\" id=\"6b7cb606-3406-424c-8687-e114fae10ff2\"></div>\n",
       "    </div>\n",
       "<script type=\"text/javascript\">\n",
       "  \n",
       "  (function(global) {\n",
       "    function now() {\n",
       "      return new Date();\n",
       "    }\n",
       "  \n",
       "    var force = false;\n",
       "  \n",
       "    if (typeof (window._bokeh_onload_callbacks) === \"undefined\" || force === true) {\n",
       "      window._bokeh_onload_callbacks = [];\n",
       "      window._bokeh_is_loading = undefined;\n",
       "    }\n",
       "  \n",
       "  \n",
       "    \n",
       "    if (typeof (window._bokeh_timeout) === \"undefined\" || force === true) {\n",
       "      window._bokeh_timeout = Date.now() + 0;\n",
       "      window._bokeh_failed_load = false;\n",
       "    }\n",
       "  \n",
       "    var NB_LOAD_WARNING = {'data': {'text/html':\n",
       "       \"<div style='background-color: #fdd'>\\n\"+\n",
       "       \"<p>\\n\"+\n",
       "       \"BokehJS does not appear to have successfully loaded. If loading BokehJS from CDN, this \\n\"+\n",
       "       \"may be due to a slow or bad network connection. Possible fixes:\\n\"+\n",
       "       \"</p>\\n\"+\n",
       "       \"<ul>\\n\"+\n",
       "       \"<li>re-rerun `output_notebook()` to attempt to load from CDN again, or</li>\\n\"+\n",
       "       \"<li>use INLINE resources instead, as so:</li>\\n\"+\n",
       "       \"</ul>\\n\"+\n",
       "       \"<code>\\n\"+\n",
       "       \"from bokeh.resources import INLINE\\n\"+\n",
       "       \"output_notebook(resources=INLINE)\\n\"+\n",
       "       \"</code>\\n\"+\n",
       "       \"</div>\"}};\n",
       "  \n",
       "    function display_loaded() {\n",
       "      if (window.Bokeh !== undefined) {\n",
       "        document.getElementById(\"6b7cb606-3406-424c-8687-e114fae10ff2\").textContent = \"BokehJS successfully loaded.\";\n",
       "      } else if (Date.now() < window._bokeh_timeout) {\n",
       "        setTimeout(display_loaded, 100)\n",
       "      }\n",
       "    }\n",
       "  \n",
       "    function run_callbacks() {\n",
       "      window._bokeh_onload_callbacks.forEach(function(callback) { callback() });\n",
       "      delete window._bokeh_onload_callbacks\n",
       "      console.info(\"Bokeh: all callbacks have finished\");\n",
       "    }\n",
       "  \n",
       "    function load_libs(js_urls, callback) {\n",
       "      window._bokeh_onload_callbacks.push(callback);\n",
       "      if (window._bokeh_is_loading > 0) {\n",
       "        console.log(\"Bokeh: BokehJS is being loaded, scheduling callback at\", now());\n",
       "        return null;\n",
       "      }\n",
       "      if (js_urls == null || js_urls.length === 0) {\n",
       "        run_callbacks();\n",
       "        return null;\n",
       "      }\n",
       "      console.log(\"Bokeh: BokehJS not loaded, scheduling load and callback at\", now());\n",
       "      window._bokeh_is_loading = js_urls.length;\n",
       "      for (var i = 0; i < js_urls.length; i++) {\n",
       "        var url = js_urls[i];\n",
       "        var s = document.createElement('script');\n",
       "        s.src = url;\n",
       "        s.async = false;\n",
       "        s.onreadystatechange = s.onload = function() {\n",
       "          window._bokeh_is_loading--;\n",
       "          if (window._bokeh_is_loading === 0) {\n",
       "            console.log(\"Bokeh: all BokehJS libraries loaded\");\n",
       "            run_callbacks()\n",
       "          }\n",
       "        };\n",
       "        s.onerror = function() {\n",
       "          console.warn(\"failed to load library \" + url);\n",
       "        };\n",
       "        console.log(\"Bokeh: injecting script tag for BokehJS library: \", url);\n",
       "        document.getElementsByTagName(\"head\")[0].appendChild(s);\n",
       "      }\n",
       "    };var element = document.getElementById(\"6b7cb606-3406-424c-8687-e114fae10ff2\");\n",
       "    if (element == null) {\n",
       "      console.log(\"Bokeh: ERROR: autoload.js configured with elementid '6b7cb606-3406-424c-8687-e114fae10ff2' but no matching script tag was found. \")\n",
       "      return false;\n",
       "    }\n",
       "  \n",
       "    var js_urls = [];\n",
       "  \n",
       "    var inline_js = [\n",
       "      function(Bokeh) {\n",
       "        (function() {\n",
       "          var fn = function() {\n",
       "            var docs_json = {\"99d1a717-2188-49e6-83e8-8667e032d75a\":{\"roots\":{\"references\":[{\"attributes\":{\"callback\":null,\"column_names\":[\"x\",\"y\"],\"data\":{\"x\":[0,1,2,3,4,5,6,7,8,9,10,11,12,13,14,15,16,17,18,19,20,21,22,23,24,25,26,27,28,29,30,31,32,33,34],\"y\":{\"__ndarray__\":\"AAAAYE1Z4z8AAABg0BfkPwAAAGDQF+Q/AAAAYNAX5D8AAABg0BfkPwAAAGDQF+Q/AAAAYNAX5D8AAABg0BfkPwAAAGDQF+Q/AAAAYFPW5D8AAABgU9bkPwAAAGBNWeM/AAAAYE1Z4z8AAABgypriPwAAAIBH3OE/AAAAgEfc4T8AAAAga8raPwAAACB3xN0/AAAAIHfE3T8AAAAAfUHfPwAAAAB9Qd8/AAAAIHfE3T8AAAAgcUfcPwAAACB3xN0/AAAAIGvK2j8AAAAgd8TdPwAAAIDEHeE/AAAAQF/Q1z8AAACAR9zRPwAAAIBH3NE/AAAAYFPW1D8AAABgTVnTPwAAAGBNWdM/AAAAYE1Z0z8AAAAgcUfcPw==\",\"dtype\":\"float64\",\"shape\":[35]}}},\"id\":\"445c70bb-1314-4f9e-99e2-d96e27134176\",\"type\":\"ColumnDataSource\"},{\"attributes\":{\"below\":[{\"id\":\"c33cb0e3-31f6-409e-a7b6-02a7dac8a371\",\"type\":\"LinearAxis\"}],\"left\":[{\"id\":\"85c9cc34-6fed-4fea-ae36-baa595b8cf24\",\"type\":\"LinearAxis\"}],\"renderers\":[{\"id\":\"c33cb0e3-31f6-409e-a7b6-02a7dac8a371\",\"type\":\"LinearAxis\"},{\"id\":\"44ce9eee-fe2f-49d3-b14d-5d08f7727a0a\",\"type\":\"Grid\"},{\"id\":\"85c9cc34-6fed-4fea-ae36-baa595b8cf24\",\"type\":\"LinearAxis\"},{\"id\":\"5e8324d8-1117-4a00-8126-89caca43fbb1\",\"type\":\"Grid\"},{\"id\":\"f51900ad-fb5b-4984-9a70-4e22671ffcd9\",\"type\":\"BoxAnnotation\"},{\"id\":\"ee53af42-4fb6-4993-b9a0-cd86585236aa\",\"type\":\"BoxAnnotation\"},{\"id\":\"777bc874-af32-4f53-8bfe-f853a6f0a734\",\"type\":\"PolyAnnotation\"},{\"id\":\"69310f31-95dd-4e12-88b1-8e80230bc92b\",\"type\":\"PolyAnnotation\"},{\"id\":\"4d487d9b-f46a-4f6e-bd67-11638a0cfa16\",\"type\":\"Legend\"},{\"id\":\"067d4b5f-468f-46ed-9b04-0cb9f1e091b9\",\"type\":\"GlyphRenderer\"},{\"id\":\"bf60921d-82c6-47bf-ae3a-776999285301\",\"type\":\"GlyphRenderer\"}],\"title\":{\"id\":\"4da7ea25-6b8b-43f0-81f2-8720da9bb7a8\",\"type\":\"Title\"},\"tool_events\":{\"id\":\"71769d8d-b774-4b64-8344-821b2259541b\",\"type\":\"ToolEvents\"},\"toolbar\":{\"id\":\"28eadc66-a023-4650-a34b-cc9ca35cd982\",\"type\":\"Toolbar\"},\"x_range\":{\"id\":\"87a2fdf7-c6cc-44f1-a6b7-a29772cb192e\",\"type\":\"DataRange1d\"},\"y_range\":{\"id\":\"678df337-9b4a-4220-91ec-c9a31f82c6b8\",\"type\":\"DataRange1d\"}},\"id\":\"0d5e1019-4867-4325-ac0d-4e3b4740712d\",\"subtype\":\"Figure\",\"type\":\"Plot\"},{\"attributes\":{\"callback\":null,\"column_names\":[\"x\",\"y\"],\"data\":{\"x\":[0,1,2,3,4,5,6,7,8,9,10,11,12,13,14,15,16,17,18,19,20,21,22,23,24,25,26,27,28,29,30,31,32,33,34],\"y\":{\"__ndarray__\":\"AAAAYNAX5D8AAABgU9bkPwAAAGBT1uQ/AAAAYFPW5D8AAABgU9bkPwAAAGBT1uQ/AAAAYFPW5D8AAABgU9bkPwAAAGBT1uQ/AAAAYNAX5D8AAABgTVnjPwAAAGBNWeM/AAAAYE1Z4z8AAABg0BfkPwAAAGDQF+Q/AAAAYMqa4j8AAABgTVnjPwAAAGDKmuI/AAAAYMqa4j8AAAAgcUfcPwAAAEBlTdk/AAAAQGVN2T8AAABAX9DXPwAAAEBf0Nc/AAAAQF/Q1z8AAABAX9DXPwAAAIBBX9A/AAAAYE1Z0z8AAABAWVPWPwAAAAB9Qd8/AAAAAH1B3z8AAAAgd8TdPwAAACB3xN0/AAAAIHFH3D8AAAAgcUfcPw==\",\"dtype\":\"float64\",\"shape\":[35]}}},\"id\":\"60757014-c443-49f1-ac15-ad3aca7154d4\",\"type\":\"ColumnDataSource\"},{\"attributes\":{\"data_source\":{\"id\":\"445c70bb-1314-4f9e-99e2-d96e27134176\",\"type\":\"ColumnDataSource\"},\"glyph\":{\"id\":\"edd3261c-74c7-437b-b983-66d85dab24c7\",\"type\":\"Line\"},\"hover_glyph\":null,\"nonselection_glyph\":{\"id\":\"ad621302-e3e2-4f88-a70c-2a6dfe0f7d0d\",\"type\":\"Line\"},\"selection_glyph\":null},\"id\":\"bf60921d-82c6-47bf-ae3a-776999285301\",\"type\":\"GlyphRenderer\"},{\"attributes\":{},\"id\":\"2cc38566-0e7b-43f3-abb5-26d7c81917bd\",\"type\":\"BasicTickFormatter\"},{\"attributes\":{\"bottom_units\":\"screen\",\"fill_alpha\":{\"value\":0.5},\"fill_color\":{\"value\":\"lightgrey\"},\"left_units\":\"screen\",\"level\":\"overlay\",\"line_alpha\":{\"value\":1.0},\"line_color\":{\"value\":\"black\"},\"line_dash\":[4,4],\"line_width\":{\"value\":2},\"plot\":null,\"render_mode\":\"css\",\"right_units\":\"screen\",\"top_units\":\"screen\"},\"id\":\"ee53af42-4fb6-4993-b9a0-cd86585236aa\",\"type\":\"BoxAnnotation\"},{\"attributes\":{\"align\":\"center\",\"plot\":null,\"text\":\"The Performance over the number of neurons' pruned\"},\"id\":\"4da7ea25-6b8b-43f0-81f2-8720da9bb7a8\",\"type\":\"Title\"},{\"attributes\":{\"line_color\":{\"value\":\"blue\"},\"line_width\":{\"value\":2},\"x\":{\"field\":\"x\"},\"y\":{\"field\":\"y\"}},\"id\":\"f237d56c-f806-4c6a-919c-8b77f1ab5438\",\"type\":\"Line\"},{\"attributes\":{\"label\":{\"value\":\"Thompson Sampling\"},\"renderers\":[{\"id\":\"bf60921d-82c6-47bf-ae3a-776999285301\",\"type\":\"GlyphRenderer\"}]},\"id\":\"2456f7bd-bd33-4026-9a8c-7924412444ea\",\"type\":\"LegendItem\"},{\"attributes\":{\"overlay\":{\"id\":\"f51900ad-fb5b-4984-9a70-4e22671ffcd9\",\"type\":\"BoxAnnotation\"},\"plot\":{\"id\":\"0d5e1019-4867-4325-ac0d-4e3b4740712d\",\"subtype\":\"Figure\",\"type\":\"Plot\"}},\"id\":\"ea48542f-5932-4ab4-aa03-1b32dc6839ab\",\"type\":\"BoxZoomTool\"},{\"attributes\":{\"plot\":{\"id\":\"0d5e1019-4867-4325-ac0d-4e3b4740712d\",\"subtype\":\"Figure\",\"type\":\"Plot\"}},\"id\":\"5833cb44-bc76-42db-8987-9c1023d5d30f\",\"type\":\"CrosshairTool\"},{\"attributes\":{\"plot\":{\"id\":\"0d5e1019-4867-4325-ac0d-4e3b4740712d\",\"subtype\":\"Figure\",\"type\":\"Plot\"}},\"id\":\"093557e5-28d2-4458-a711-ad6c2516d9aa\",\"type\":\"ResizeTool\"},{\"attributes\":{\"fill_alpha\":{\"value\":0.5},\"fill_color\":{\"value\":\"lightgrey\"},\"level\":\"overlay\",\"line_alpha\":{\"value\":1.0},\"line_color\":{\"value\":\"black\"},\"line_dash\":[4,4],\"line_width\":{\"value\":2},\"plot\":null,\"xs_units\":\"screen\",\"ys_units\":\"screen\"},\"id\":\"69310f31-95dd-4e12-88b1-8e80230bc92b\",\"type\":\"PolyAnnotation\"},{\"attributes\":{\"callback\":null,\"overlay\":{\"id\":\"ee53af42-4fb6-4993-b9a0-cd86585236aa\",\"type\":\"BoxAnnotation\"},\"plot\":{\"id\":\"0d5e1019-4867-4325-ac0d-4e3b4740712d\",\"subtype\":\"Figure\",\"type\":\"Plot\"},\"renderers\":[{\"id\":\"067d4b5f-468f-46ed-9b04-0cb9f1e091b9\",\"type\":\"GlyphRenderer\"},{\"id\":\"bf60921d-82c6-47bf-ae3a-776999285301\",\"type\":\"GlyphRenderer\"}]},\"id\":\"9a0791a8-6460-4dfc-9fd5-b86e6e02afd1\",\"type\":\"BoxSelectTool\"},{\"attributes\":{\"line_alpha\":{\"value\":0.1},\"line_color\":{\"value\":\"#1f77b4\"},\"line_width\":{\"value\":2},\"x\":{\"field\":\"x\"},\"y\":{\"field\":\"y\"}},\"id\":\"ad621302-e3e2-4f88-a70c-2a6dfe0f7d0d\",\"type\":\"Line\"},{\"attributes\":{\"callback\":null,\"overlay\":{\"id\":\"777bc874-af32-4f53-8bfe-f853a6f0a734\",\"type\":\"PolyAnnotation\"},\"plot\":{\"id\":\"0d5e1019-4867-4325-ac0d-4e3b4740712d\",\"subtype\":\"Figure\",\"type\":\"Plot\"}},\"id\":\"133ba5d5-f78a-40b8-978c-d4402833f623\",\"type\":\"LassoSelectTool\"},{\"attributes\":{},\"id\":\"71769d8d-b774-4b64-8344-821b2259541b\",\"type\":\"ToolEvents\"},{\"attributes\":{\"formatter\":{\"id\":\"2cc38566-0e7b-43f3-abb5-26d7c81917bd\",\"type\":\"BasicTickFormatter\"},\"plot\":{\"id\":\"0d5e1019-4867-4325-ac0d-4e3b4740712d\",\"subtype\":\"Figure\",\"type\":\"Plot\"},\"ticker\":{\"id\":\"ac7b70f3-ffa9-4643-9774-9b62c4143d76\",\"type\":\"BasicTicker\"}},\"id\":\"c33cb0e3-31f6-409e-a7b6-02a7dac8a371\",\"type\":\"LinearAxis\"},{\"attributes\":{\"data_source\":{\"id\":\"60757014-c443-49f1-ac15-ad3aca7154d4\",\"type\":\"ColumnDataSource\"},\"glyph\":{\"id\":\"f237d56c-f806-4c6a-919c-8b77f1ab5438\",\"type\":\"Line\"},\"hover_glyph\":null,\"nonselection_glyph\":{\"id\":\"b1035ec8-d254-49f3-9752-8b2e448d128c\",\"type\":\"Line\"},\"selection_glyph\":null},\"id\":\"067d4b5f-468f-46ed-9b04-0cb9f1e091b9\",\"type\":\"GlyphRenderer\"},{\"attributes\":{\"callback\":null},\"id\":\"678df337-9b4a-4220-91ec-c9a31f82c6b8\",\"type\":\"DataRange1d\"},{\"attributes\":{\"line_alpha\":{\"value\":0.1},\"line_color\":{\"value\":\"#1f77b4\"},\"line_width\":{\"value\":2},\"x\":{\"field\":\"x\"},\"y\":{\"field\":\"y\"}},\"id\":\"b1035ec8-d254-49f3-9752-8b2e448d128c\",\"type\":\"Line\"},{\"attributes\":{\"callback\":null},\"id\":\"87a2fdf7-c6cc-44f1-a6b7-a29772cb192e\",\"type\":\"DataRange1d\"},{\"attributes\":{},\"id\":\"f9068b18-5f3b-42f5-86a5-9a896c4fe37c\",\"type\":\"BasicTickFormatter\"},{\"attributes\":{\"callback\":null,\"plot\":{\"id\":\"0d5e1019-4867-4325-ac0d-4e3b4740712d\",\"subtype\":\"Figure\",\"type\":\"Plot\"}},\"id\":\"d29ea531-6411-454c-b45e-b16f6bca1d4b\",\"type\":\"TapTool\"},{\"attributes\":{\"overlay\":{\"id\":\"69310f31-95dd-4e12-88b1-8e80230bc92b\",\"type\":\"PolyAnnotation\"},\"plot\":{\"id\":\"0d5e1019-4867-4325-ac0d-4e3b4740712d\",\"subtype\":\"Figure\",\"type\":\"Plot\"}},\"id\":\"242897da-b71a-4f9e-9830-719bda84633e\",\"type\":\"PolySelectTool\"},{\"attributes\":{\"items\":[{\"id\":\"65dab127-f626-4e6a-bb91-6f2382914ee3\",\"type\":\"LegendItem\"},{\"id\":\"2456f7bd-bd33-4026-9a8c-7924412444ea\",\"type\":\"LegendItem\"}],\"plot\":{\"id\":\"0d5e1019-4867-4325-ac0d-4e3b4740712d\",\"subtype\":\"Figure\",\"type\":\"Plot\"}},\"id\":\"4d487d9b-f46a-4f6e-bd67-11638a0cfa16\",\"type\":\"Legend\"},{\"attributes\":{\"dimension\":1,\"plot\":{\"id\":\"0d5e1019-4867-4325-ac0d-4e3b4740712d\",\"subtype\":\"Figure\",\"type\":\"Plot\"},\"ticker\":{\"id\":\"2dc55698-9bae-4a6c-88c2-3597307d9b16\",\"type\":\"BasicTicker\"}},\"id\":\"5e8324d8-1117-4a00-8126-89caca43fbb1\",\"type\":\"Grid\"},{\"attributes\":{\"plot\":{\"id\":\"0d5e1019-4867-4325-ac0d-4e3b4740712d\",\"subtype\":\"Figure\",\"type\":\"Plot\"}},\"id\":\"dd651deb-18fe-4c05-a36a-66478c073e39\",\"type\":\"ResetTool\"},{\"attributes\":{},\"id\":\"2dc55698-9bae-4a6c-88c2-3597307d9b16\",\"type\":\"BasicTicker\"},{\"attributes\":{\"active_drag\":\"auto\",\"active_scroll\":\"auto\",\"active_tap\":\"auto\",\"tools\":[{\"id\":\"ea48542f-5932-4ab4-aa03-1b32dc6839ab\",\"type\":\"BoxZoomTool\"},{\"id\":\"9a0791a8-6460-4dfc-9fd5-b86e6e02afd1\",\"type\":\"BoxSelectTool\"},{\"id\":\"5833cb44-bc76-42db-8987-9c1023d5d30f\",\"type\":\"CrosshairTool\"},{\"id\":\"093557e5-28d2-4458-a711-ad6c2516d9aa\",\"type\":\"ResizeTool\"},{\"id\":\"dd651deb-18fe-4c05-a36a-66478c073e39\",\"type\":\"ResetTool\"},{\"id\":\"133ba5d5-f78a-40b8-978c-d4402833f623\",\"type\":\"LassoSelectTool\"},{\"id\":\"0c0e66a2-7e81-4537-a4b4-aa1b09c1fbf7\",\"type\":\"PanTool\"},{\"id\":\"162bf940-6024-425a-8f95-2f8ee9c89bd6\",\"type\":\"SaveTool\"},{\"id\":\"242897da-b71a-4f9e-9830-719bda84633e\",\"type\":\"PolySelectTool\"},{\"id\":\"d29ea531-6411-454c-b45e-b16f6bca1d4b\",\"type\":\"TapTool\"},{\"id\":\"8952829e-9d80-43af-bd6e-491a9e163639\",\"type\":\"WheelZoomTool\"},{\"id\":\"a8b90e92-108e-4069-8800-9ab614c8b2f3\",\"type\":\"UndoTool\"}]},\"id\":\"28eadc66-a023-4650-a34b-cc9ca35cd982\",\"type\":\"Toolbar\"},{\"attributes\":{\"label\":{\"value\":\"ucb1\"},\"renderers\":[{\"id\":\"067d4b5f-468f-46ed-9b04-0cb9f1e091b9\",\"type\":\"GlyphRenderer\"}]},\"id\":\"65dab127-f626-4e6a-bb91-6f2382914ee3\",\"type\":\"LegendItem\"},{\"attributes\":{\"plot\":{\"id\":\"0d5e1019-4867-4325-ac0d-4e3b4740712d\",\"subtype\":\"Figure\",\"type\":\"Plot\"}},\"id\":\"162bf940-6024-425a-8f95-2f8ee9c89bd6\",\"type\":\"SaveTool\"},{\"attributes\":{\"bottom_units\":\"screen\",\"fill_alpha\":{\"value\":0.5},\"fill_color\":{\"value\":\"lightgrey\"},\"left_units\":\"screen\",\"level\":\"overlay\",\"line_alpha\":{\"value\":1.0},\"line_color\":{\"value\":\"black\"},\"line_dash\":[4,4],\"line_width\":{\"value\":2},\"plot\":null,\"render_mode\":\"css\",\"right_units\":\"screen\",\"top_units\":\"screen\"},\"id\":\"f51900ad-fb5b-4984-9a70-4e22671ffcd9\",\"type\":\"BoxAnnotation\"},{\"attributes\":{\"line_color\":{\"value\":\"red\"},\"line_width\":{\"value\":2},\"x\":{\"field\":\"x\"},\"y\":{\"field\":\"y\"}},\"id\":\"edd3261c-74c7-437b-b983-66d85dab24c7\",\"type\":\"Line\"},{\"attributes\":{\"plot\":{\"id\":\"0d5e1019-4867-4325-ac0d-4e3b4740712d\",\"subtype\":\"Figure\",\"type\":\"Plot\"}},\"id\":\"0c0e66a2-7e81-4537-a4b4-aa1b09c1fbf7\",\"type\":\"PanTool\"},{\"attributes\":{},\"id\":\"ac7b70f3-ffa9-4643-9774-9b62c4143d76\",\"type\":\"BasicTicker\"},{\"attributes\":{\"plot\":{\"id\":\"0d5e1019-4867-4325-ac0d-4e3b4740712d\",\"subtype\":\"Figure\",\"type\":\"Plot\"},\"ticker\":{\"id\":\"ac7b70f3-ffa9-4643-9774-9b62c4143d76\",\"type\":\"BasicTicker\"}},\"id\":\"44ce9eee-fe2f-49d3-b14d-5d08f7727a0a\",\"type\":\"Grid\"},{\"attributes\":{\"plot\":{\"id\":\"0d5e1019-4867-4325-ac0d-4e3b4740712d\",\"subtype\":\"Figure\",\"type\":\"Plot\"}},\"id\":\"8952829e-9d80-43af-bd6e-491a9e163639\",\"type\":\"WheelZoomTool\"},{\"attributes\":{\"plot\":{\"id\":\"0d5e1019-4867-4325-ac0d-4e3b4740712d\",\"subtype\":\"Figure\",\"type\":\"Plot\"}},\"id\":\"a8b90e92-108e-4069-8800-9ab614c8b2f3\",\"type\":\"UndoTool\"},{\"attributes\":{\"formatter\":{\"id\":\"f9068b18-5f3b-42f5-86a5-9a896c4fe37c\",\"type\":\"BasicTickFormatter\"},\"plot\":{\"id\":\"0d5e1019-4867-4325-ac0d-4e3b4740712d\",\"subtype\":\"Figure\",\"type\":\"Plot\"},\"ticker\":{\"id\":\"2dc55698-9bae-4a6c-88c2-3597307d9b16\",\"type\":\"BasicTicker\"}},\"id\":\"85c9cc34-6fed-4fea-ae36-baa595b8cf24\",\"type\":\"LinearAxis\"},{\"attributes\":{\"fill_alpha\":{\"value\":0.5},\"fill_color\":{\"value\":\"lightgrey\"},\"level\":\"overlay\",\"line_alpha\":{\"value\":1.0},\"line_color\":{\"value\":\"black\"},\"line_dash\":[4,4],\"line_width\":{\"value\":2},\"plot\":null,\"xs_units\":\"screen\",\"ys_units\":\"screen\"},\"id\":\"777bc874-af32-4f53-8bfe-f853a6f0a734\",\"type\":\"PolyAnnotation\"}],\"root_ids\":[\"0d5e1019-4867-4325-ac0d-4e3b4740712d\"]},\"title\":\"Bokeh Application\",\"version\":\"0.12.4\"}};\n",
       "            var render_items = [{\"docid\":\"99d1a717-2188-49e6-83e8-8667e032d75a\",\"elementid\":\"6b7cb606-3406-424c-8687-e114fae10ff2\",\"modelid\":\"0d5e1019-4867-4325-ac0d-4e3b4740712d\"}];\n",
       "            \n",
       "            Bokeh.embed.embed_items(docs_json, render_items);\n",
       "          };\n",
       "          if (document.readyState != \"loading\") fn();\n",
       "          else document.addEventListener(\"DOMContentLoaded\", fn);\n",
       "        })();\n",
       "      },\n",
       "      function(Bokeh) {\n",
       "      }\n",
       "    ];\n",
       "  \n",
       "    function run_inline_js() {\n",
       "      \n",
       "      if ((window.Bokeh !== undefined) || (force === true)) {\n",
       "        for (var i = 0; i < inline_js.length; i++) {\n",
       "          inline_js[i](window.Bokeh);\n",
       "        }if (force === true) {\n",
       "          display_loaded();\n",
       "        }} else if (Date.now() < window._bokeh_timeout) {\n",
       "        setTimeout(run_inline_js, 100);\n",
       "      } else if (!window._bokeh_failed_load) {\n",
       "        console.log(\"Bokeh: BokehJS failed to load within specified timeout.\");\n",
       "        window._bokeh_failed_load = true;\n",
       "      } else if (force !== true) {\n",
       "        var cell = $(document.getElementById(\"6b7cb606-3406-424c-8687-e114fae10ff2\")).parents('.cell').data().cell;\n",
       "        cell.output_area.append_execute_result(NB_LOAD_WARNING)\n",
       "      }\n",
       "  \n",
       "    }\n",
       "  \n",
       "    if (window._bokeh_is_loading === 0) {\n",
       "      console.log(\"Bokeh: BokehJS loaded, going straight to plotting\");\n",
       "      run_inline_js();\n",
       "    } else {\n",
       "      load_libs(js_urls, function() {\n",
       "        console.log(\"Bokeh: BokehJS plotting callback run at\", now());\n",
       "        run_inline_js();\n",
       "      });\n",
       "    }\n",
       "  }(this));\n",
       "</script>"
      ]
     },
     "metadata": {},
     "output_type": "display_data"
    }
   ],
   "source": [
    "p1 = figure(title=\"The Performance over the number of neurons' pruned\", tools=TOOLS)\n",
    "p1.line(ind, ucb1, legend=\"ucb1\", line_color=\"blue\", line_width=2)\n",
    "p1.line(ind, ThompsonSampling, legend=\"Thompson Sampling\", line_color=\"red\", line_width=2)\n",
    "p1.title.align = \"center\"\n",
    "show(p1)"
   ]
  },
  {
   "cell_type": "markdown",
   "metadata": {},
   "source": [
    "# Comparing All algorithms with the model before pruning"
   ]
  },
  {
   "cell_type": "code",
   "execution_count": 10,
   "metadata": {
    "collapsed": false
   },
   "outputs": [
    {
     "data": {
      "image/png": "[encoded data removed]",
      "text/plain": [
       "<matplotlib.figure.Figure at 0x10e534898>"
      ]
     },
     "metadata": {},
     "output_type": "display_data"
    }
   ],
   "source": [
    "fig = plt.figure(figsize=(10, 6), dpi=80)\n",
    "ax = fig.add_subplot(111)\n",
    "N = len(ucb1)\n",
    "Acc = [Accuracy for col in range(N)]\n",
    "ind = np.arange(N)                # the x locations for the groups\n",
    "plt.plot(ind , ucb1 , color=\"blue\", linewidth=2.5, linestyle=\"-\", label=\"UCB1\")\n",
    "plt.plot(ind , ThompsonSampling, color=\"orange\", linewidth=2.5, linestyle=\"-\", label=\"Thompson Sampling\")\n",
    "plt.plot(ind , Acc, color=\"pink\", linewidth=2.5, linestyle=\"-\", label=\"Accuracy before Pruning\")\n",
    "plt.legend(loc = 3)\n",
    "plt.axis([0, 25, 0, 1])\n",
    "plt.xlabel('Number of pruned Neurons')\n",
    "plt.ylabel('The Accuracy')\n",
    "plt.grid(True)\n",
    "plt.show()"
   ]
  },
  {
   "cell_type": "code",
   "execution_count": 11,
   "metadata": {
    "collapsed": false
   },
   "outputs": [
    {
     "data": {
      "text/html": [
       "\n",
       "\n",
       "    <div class=\"bk-root\">\n",
       "        <div class=\"bk-plotdiv\" id=\"03882fec-5bc3-4c2d-b4c1-dc7ad791255c\"></div>\n",
       "    </div>\n",
       "<script type=\"text/javascript\">\n",
       "  \n",
       "  (function(global) {\n",
       "    function now() {\n",
       "      return new Date();\n",
       "    }\n",
       "  \n",
       "    var force = false;\n",
       "  \n",
       "    if (typeof (window._bokeh_onload_callbacks) === \"undefined\" || force === true) {\n",
       "      window._bokeh_onload_callbacks = [];\n",
       "      window._bokeh_is_loading = undefined;\n",
       "    }\n",
       "  \n",
       "  \n",
       "    \n",
       "    if (typeof (window._bokeh_timeout) === \"undefined\" || force === true) {\n",
       "      window._bokeh_timeout = Date.now() + 0;\n",
       "      window._bokeh_failed_load = false;\n",
       "    }\n",
       "  \n",
       "    var NB_LOAD_WARNING = {'data': {'text/html':\n",
       "       \"<div style='background-color: #fdd'>\\n\"+\n",
       "       \"<p>\\n\"+\n",
       "       \"BokehJS does not appear to have successfully loaded. If loading BokehJS from CDN, this \\n\"+\n",
       "       \"may be due to a slow or bad network connection. Possible fixes:\\n\"+\n",
       "       \"</p>\\n\"+\n",
       "       \"<ul>\\n\"+\n",
       "       \"<li>re-rerun `output_notebook()` to attempt to load from CDN again, or</li>\\n\"+\n",
       "       \"<li>use INLINE resources instead, as so:</li>\\n\"+\n",
       "       \"</ul>\\n\"+\n",
       "       \"<code>\\n\"+\n",
       "       \"from bokeh.resources import INLINE\\n\"+\n",
       "       \"output_notebook(resources=INLINE)\\n\"+\n",
       "       \"</code>\\n\"+\n",
       "       \"</div>\"}};\n",
       "  \n",
       "    function display_loaded() {\n",
       "      if (window.Bokeh !== undefined) {\n",
       "        document.getElementById(\"03882fec-5bc3-4c2d-b4c1-dc7ad791255c\").textContent = \"BokehJS successfully loaded.\";\n",
       "      } else if (Date.now() < window._bokeh_timeout) {\n",
       "        setTimeout(display_loaded, 100)\n",
       "      }\n",
       "    }\n",
       "  \n",
       "    function run_callbacks() {\n",
       "      window._bokeh_onload_callbacks.forEach(function(callback) { callback() });\n",
       "      delete window._bokeh_onload_callbacks\n",
       "      console.info(\"Bokeh: all callbacks have finished\");\n",
       "    }\n",
       "  \n",
       "    function load_libs(js_urls, callback) {\n",
       "      window._bokeh_onload_callbacks.push(callback);\n",
       "      if (window._bokeh_is_loading > 0) {\n",
       "        console.log(\"Bokeh: BokehJS is being loaded, scheduling callback at\", now());\n",
       "        return null;\n",
       "      }\n",
       "      if (js_urls == null || js_urls.length === 0) {\n",
       "        run_callbacks();\n",
       "        return null;\n",
       "      }\n",
       "      console.log(\"Bokeh: BokehJS not loaded, scheduling load and callback at\", now());\n",
       "      window._bokeh_is_loading = js_urls.length;\n",
       "      for (var i = 0; i < js_urls.length; i++) {\n",
       "        var url = js_urls[i];\n",
       "        var s = document.createElement('script');\n",
       "        s.src = url;\n",
       "        s.async = false;\n",
       "        s.onreadystatechange = s.onload = function() {\n",
       "          window._bokeh_is_loading--;\n",
       "          if (window._bokeh_is_loading === 0) {\n",
       "            console.log(\"Bokeh: all BokehJS libraries loaded\");\n",
       "            run_callbacks()\n",
       "          }\n",
       "        };\n",
       "        s.onerror = function() {\n",
       "          console.warn(\"failed to load library \" + url);\n",
       "        };\n",
       "        console.log(\"Bokeh: injecting script tag for BokehJS library: \", url);\n",
       "        document.getElementsByTagName(\"head\")[0].appendChild(s);\n",
       "      }\n",
       "    };var element = document.getElementById(\"03882fec-5bc3-4c2d-b4c1-dc7ad791255c\");\n",
       "    if (element == null) {\n",
       "      console.log(\"Bokeh: ERROR: autoload.js configured with elementid '03882fec-5bc3-4c2d-b4c1-dc7ad791255c' but no matching script tag was found. \")\n",
       "      return false;\n",
       "    }\n",
       "  \n",
       "    var js_urls = [];\n",
       "  \n",
       "    var inline_js = [\n",
       "      function(Bokeh) {\n",
       "        (function() {\n",
       "          var fn = function() {\n",
       "            var docs_json = {\"0931cce3-e323-4200-a8d9-b21a30b42f71\":{\"roots\":{\"references\":[{\"attributes\":{\"fill_alpha\":{\"value\":0.5},\"fill_color\":{\"value\":\"lightgrey\"},\"level\":\"overlay\",\"line_alpha\":{\"value\":1.0},\"line_color\":{\"value\":\"black\"},\"line_dash\":[4,4],\"line_width\":{\"value\":2},\"plot\":null,\"xs_units\":\"screen\",\"ys_units\":\"screen\"},\"id\":\"0fb77a28-eb84-4d6e-a4d7-fc0eee8db35c\",\"type\":\"PolyAnnotation\"},{\"attributes\":{\"dimension\":1,\"plot\":{\"id\":\"f0a2e6fe-2f7f-4abd-b0f6-6e4dcac45d77\",\"subtype\":\"Figure\",\"type\":\"Plot\"},\"ticker\":{\"id\":\"fb5bdbd3-4894-4a67-8d60-dca113499112\",\"type\":\"BasicTicker\"}},\"id\":\"02dfc486-d139-4404-b27b-2a6f990107d3\",\"type\":\"Grid\"},{\"attributes\":{\"callback\":null,\"column_names\":[\"x\",\"y\"],\"data\":{\"x\":[0,1,2,3,4,5,6,7,8,9,10,11,12,13,14,15,16,17,18,19,20,21,22,23,24,25,26,27,28,29,30,31,32,33,34],\"y\":{\"__ndarray__\":\"AAAAYNAX5D8AAABgU9bkPwAAAGBT1uQ/AAAAYFPW5D8AAABgU9bkPwAAAGBT1uQ/AAAAYFPW5D8AAABgU9bkPwAAAGBT1uQ/AAAAYNAX5D8AAABgTVnjPwAAAGBNWeM/AAAAYE1Z4z8AAABg0BfkPwAAAGDQF+Q/AAAAYMqa4j8AAABgTVnjPwAAAGDKmuI/AAAAYMqa4j8AAAAgcUfcPwAAAEBlTdk/AAAAQGVN2T8AAABAX9DXPwAAAEBf0Nc/AAAAQF/Q1z8AAABAX9DXPwAAAIBBX9A/AAAAYE1Z0z8AAABAWVPWPwAAAAB9Qd8/AAAAAH1B3z8AAAAgd8TdPwAAACB3xN0/AAAAIHFH3D8AAAAgcUfcPw==\",\"dtype\":\"float64\",\"shape\":[35]}}},\"id\":\"112f51c6-3b08-43b7-9b64-640008e3714a\",\"type\":\"ColumnDataSource\"},{\"attributes\":{\"label\":{\"value\":\"Thompson Sampling\"},\"renderers\":[{\"id\":\"ceafe235-1c3d-4d6d-bf34-acf878420f94\",\"type\":\"GlyphRenderer\"}]},\"id\":\"cfb522b0-7b14-4ef2-bbaa-b61e36da88a2\",\"type\":\"LegendItem\"},{\"attributes\":{},\"id\":\"ca2bef68-db3c-4d0a-b165-a6897f331d28\",\"type\":\"BasicTickFormatter\"},{\"attributes\":{\"bottom_units\":\"screen\",\"fill_alpha\":{\"value\":0.5},\"fill_color\":{\"value\":\"lightgrey\"},\"left_units\":\"screen\",\"level\":\"overlay\",\"line_alpha\":{\"value\":1.0},\"line_color\":{\"value\":\"black\"},\"line_dash\":[4,4],\"line_width\":{\"value\":2},\"plot\":null,\"render_mode\":\"css\",\"right_units\":\"screen\",\"top_units\":\"screen\"},\"id\":\"6c01e314-1508-46a3-85db-8977863e8800\",\"type\":\"BoxAnnotation\"},{\"attributes\":{\"plot\":{\"id\":\"f0a2e6fe-2f7f-4abd-b0f6-6e4dcac45d77\",\"subtype\":\"Figure\",\"type\":\"Plot\"},\"ticker\":{\"id\":\"bd27ef51-d918-4b69-8a8f-284daeafca3b\",\"type\":\"BasicTicker\"}},\"id\":\"71cd8c33-487b-433d-b8a5-9106c104d83b\",\"type\":\"Grid\"},{\"attributes\":{},\"id\":\"93e1e5a5-3605-4f6d-a5cb-ac9fe4301b59\",\"type\":\"ToolEvents\"},{\"attributes\":{\"formatter\":{\"id\":\"ca2bef68-db3c-4d0a-b165-a6897f331d28\",\"type\":\"BasicTickFormatter\"},\"plot\":{\"id\":\"f0a2e6fe-2f7f-4abd-b0f6-6e4dcac45d77\",\"subtype\":\"Figure\",\"type\":\"Plot\"},\"ticker\":{\"id\":\"fb5bdbd3-4894-4a67-8d60-dca113499112\",\"type\":\"BasicTicker\"}},\"id\":\"3f17528f-ea25-4e91-99c7-20be7c00510e\",\"type\":\"LinearAxis\"},{\"attributes\":{\"callback\":null,\"plot\":{\"id\":\"f0a2e6fe-2f7f-4abd-b0f6-6e4dcac45d77\",\"subtype\":\"Figure\",\"type\":\"Plot\"}},\"id\":\"5b5e7383-b5b1-4c74-b157-4a8c9693a55e\",\"type\":\"TapTool\"},{\"attributes\":{},\"id\":\"bd27ef51-d918-4b69-8a8f-284daeafca3b\",\"type\":\"BasicTicker\"},{\"attributes\":{\"data_source\":{\"id\":\"c0604d23-1710-4880-b6a9-d303eba30bd2\",\"type\":\"ColumnDataSource\"},\"glyph\":{\"id\":\"a43168b7-82cc-41cf-bae7-539a5497f8ed\",\"type\":\"Line\"},\"hover_glyph\":null,\"nonselection_glyph\":{\"id\":\"d179b2e9-d1c6-43f4-8e4c-3af8eb0c890a\",\"type\":\"Line\"},\"selection_glyph\":null},\"id\":\"ceafe235-1c3d-4d6d-bf34-acf878420f94\",\"type\":\"GlyphRenderer\"},{\"attributes\":{},\"id\":\"fb5bdbd3-4894-4a67-8d60-dca113499112\",\"type\":\"BasicTicker\"},{\"attributes\":{\"overlay\":{\"id\":\"00a18f7c-99f5-475b-a6d0-1e4e11bfce2e\",\"type\":\"BoxAnnotation\"},\"plot\":{\"id\":\"f0a2e6fe-2f7f-4abd-b0f6-6e4dcac45d77\",\"subtype\":\"Figure\",\"type\":\"Plot\"}},\"id\":\"e01c5e8c-e60c-40b8-ae2f-bf840b223165\",\"type\":\"BoxZoomTool\"},{\"attributes\":{\"line_alpha\":{\"value\":0.1},\"line_color\":{\"value\":\"#1f77b4\"},\"line_width\":{\"value\":2},\"x\":{\"field\":\"x\"},\"y\":{\"field\":\"y\"}},\"id\":\"d179b2e9-d1c6-43f4-8e4c-3af8eb0c890a\",\"type\":\"Line\"},{\"attributes\":{\"line_color\":{\"value\":\"blue\"},\"line_dash\":[4,4],\"line_width\":{\"value\":2},\"x\":{\"field\":\"x\"},\"y\":{\"field\":\"y\"}},\"id\":\"f9c2090d-1b68-40ed-8f39-10cac27dc16d\",\"type\":\"Line\"},{\"attributes\":{\"overlay\":{\"id\":\"0fb77a28-eb84-4d6e-a4d7-fc0eee8db35c\",\"type\":\"PolyAnnotation\"},\"plot\":{\"id\":\"f0a2e6fe-2f7f-4abd-b0f6-6e4dcac45d77\",\"subtype\":\"Figure\",\"type\":\"Plot\"}},\"id\":\"86eaf13e-98b9-4136-a0c2-4f61d9093fe3\",\"type\":\"PolySelectTool\"},{\"attributes\":{\"plot\":{\"id\":\"f0a2e6fe-2f7f-4abd-b0f6-6e4dcac45d77\",\"subtype\":\"Figure\",\"type\":\"Plot\"}},\"id\":\"ad01d5dd-6284-4f61-b156-60daa2fe5916\",\"type\":\"CrosshairTool\"},{\"attributes\":{\"bottom_units\":\"screen\",\"fill_alpha\":{\"value\":0.5},\"fill_color\":{\"value\":\"lightgrey\"},\"left_units\":\"screen\",\"level\":\"overlay\",\"line_alpha\":{\"value\":1.0},\"line_color\":{\"value\":\"black\"},\"line_dash\":[4,4],\"line_width\":{\"value\":2},\"plot\":null,\"render_mode\":\"css\",\"right_units\":\"screen\",\"top_units\":\"screen\"},\"id\":\"00a18f7c-99f5-475b-a6d0-1e4e11bfce2e\",\"type\":\"BoxAnnotation\"},{\"attributes\":{\"data_source\":{\"id\":\"c4df9c07-8e88-4875-9ca6-88f53f540a52\",\"type\":\"ColumnDataSource\"},\"glyph\":{\"id\":\"f9c2090d-1b68-40ed-8f39-10cac27dc16d\",\"type\":\"Line\"},\"hover_glyph\":null,\"nonselection_glyph\":{\"id\":\"1f129ce0-dd8c-4203-ad45-a6db291603c2\",\"type\":\"Line\"},\"selection_glyph\":null},\"id\":\"f2eebb63-a04c-41c0-b50b-e8e8b825ff92\",\"type\":\"GlyphRenderer\"},{\"attributes\":{\"callback\":null,\"overlay\":{\"id\":\"6c01e314-1508-46a3-85db-8977863e8800\",\"type\":\"BoxAnnotation\"},\"plot\":{\"id\":\"f0a2e6fe-2f7f-4abd-b0f6-6e4dcac45d77\",\"subtype\":\"Figure\",\"type\":\"Plot\"},\"renderers\":[{\"id\":\"225f93d0-854f-4df3-a620-f2f1a8040108\",\"type\":\"GlyphRenderer\"},{\"id\":\"ceafe235-1c3d-4d6d-bf34-acf878420f94\",\"type\":\"GlyphRenderer\"},{\"id\":\"f2eebb63-a04c-41c0-b50b-e8e8b825ff92\",\"type\":\"GlyphRenderer\"}]},\"id\":\"48a46cdd-076b-4797-8316-6b8972f853db\",\"type\":\"BoxSelectTool\"},{\"attributes\":{\"plot\":{\"id\":\"f0a2e6fe-2f7f-4abd-b0f6-6e4dcac45d77\",\"subtype\":\"Figure\",\"type\":\"Plot\"}},\"id\":\"612e4a66-a116-4da0-8ec1-b33fb552fae0\",\"type\":\"ResizeTool\"},{\"attributes\":{\"callback\":null},\"id\":\"5078b5c0-62bc-4af3-8124-a0b41727a719\",\"type\":\"DataRange1d\"},{\"attributes\":{\"plot\":{\"id\":\"f0a2e6fe-2f7f-4abd-b0f6-6e4dcac45d77\",\"subtype\":\"Figure\",\"type\":\"Plot\"}},\"id\":\"429f887f-e376-41d6-8160-888302fac7cf\",\"type\":\"ResetTool\"},{\"attributes\":{},\"id\":\"df8f612c-884e-4e52-970c-9183b8af9b07\",\"type\":\"BasicTickFormatter\"},{\"attributes\":{\"plot\":{\"id\":\"f0a2e6fe-2f7f-4abd-b0f6-6e4dcac45d77\",\"subtype\":\"Figure\",\"type\":\"Plot\"}},\"id\":\"638fe25f-f782-4abf-bc86-74906e3549aa\",\"type\":\"WheelZoomTool\"},{\"attributes\":{\"fill_alpha\":{\"value\":0.5},\"fill_color\":{\"value\":\"lightgrey\"},\"level\":\"overlay\",\"line_alpha\":{\"value\":1.0},\"line_color\":{\"value\":\"black\"},\"line_dash\":[4,4],\"line_width\":{\"value\":2},\"plot\":null,\"xs_units\":\"screen\",\"ys_units\":\"screen\"},\"id\":\"6b879bd8-161b-4db7-9304-6018951b95c6\",\"type\":\"PolyAnnotation\"},{\"attributes\":{\"line_alpha\":{\"value\":0.1},\"line_color\":{\"value\":\"#1f77b4\"},\"line_dash\":[4,4],\"line_width\":{\"value\":2},\"x\":{\"field\":\"x\"},\"y\":{\"field\":\"y\"}},\"id\":\"1f129ce0-dd8c-4203-ad45-a6db291603c2\",\"type\":\"Line\"},{\"attributes\":{\"plot\":{\"id\":\"f0a2e6fe-2f7f-4abd-b0f6-6e4dcac45d77\",\"subtype\":\"Figure\",\"type\":\"Plot\"}},\"id\":\"628e54c2-2472-49a9-a871-7eced1b8143f\",\"type\":\"UndoTool\"},{\"attributes\":{\"callback\":null},\"id\":\"61c58ce8-d22e-4600-b462-ee5f5fa59640\",\"type\":\"DataRange1d\"},{\"attributes\":{\"align\":\"center\",\"plot\":null,\"text\":\"The Performance over the number of neurons' pruned\"},\"id\":\"8774662f-2dd5-408b-b1e2-355ba668a27b\",\"type\":\"Title\"},{\"attributes\":{\"formatter\":{\"id\":\"df8f612c-884e-4e52-970c-9183b8af9b07\",\"type\":\"BasicTickFormatter\"},\"plot\":{\"id\":\"f0a2e6fe-2f7f-4abd-b0f6-6e4dcac45d77\",\"subtype\":\"Figure\",\"type\":\"Plot\"},\"ticker\":{\"id\":\"bd27ef51-d918-4b69-8a8f-284daeafca3b\",\"type\":\"BasicTicker\"}},\"id\":\"b9b20d5f-0205-4f87-83cf-16a127fe661e\",\"type\":\"LinearAxis\"},{\"attributes\":{\"callback\":null,\"overlay\":{\"id\":\"6b879bd8-161b-4db7-9304-6018951b95c6\",\"type\":\"PolyAnnotation\"},\"plot\":{\"id\":\"f0a2e6fe-2f7f-4abd-b0f6-6e4dcac45d77\",\"subtype\":\"Figure\",\"type\":\"Plot\"}},\"id\":\"8f068636-6515-4357-ad25-298c1928d9a9\",\"type\":\"LassoSelectTool\"},{\"attributes\":{\"active_drag\":\"auto\",\"active_scroll\":\"auto\",\"active_tap\":\"auto\",\"tools\":[{\"id\":\"e01c5e8c-e60c-40b8-ae2f-bf840b223165\",\"type\":\"BoxZoomTool\"},{\"id\":\"48a46cdd-076b-4797-8316-6b8972f853db\",\"type\":\"BoxSelectTool\"},{\"id\":\"ad01d5dd-6284-4f61-b156-60daa2fe5916\",\"type\":\"CrosshairTool\"},{\"id\":\"612e4a66-a116-4da0-8ec1-b33fb552fae0\",\"type\":\"ResizeTool\"},{\"id\":\"429f887f-e376-41d6-8160-888302fac7cf\",\"type\":\"ResetTool\"},{\"id\":\"8f068636-6515-4357-ad25-298c1928d9a9\",\"type\":\"LassoSelectTool\"},{\"id\":\"2c73811d-233b-4d62-98a0-8842af80bf6d\",\"type\":\"PanTool\"},{\"id\":\"d3ea878e-15d5-4ac0-ae24-95f557f7b389\",\"type\":\"SaveTool\"},{\"id\":\"86eaf13e-98b9-4136-a0c2-4f61d9093fe3\",\"type\":\"PolySelectTool\"},{\"id\":\"5b5e7383-b5b1-4c74-b157-4a8c9693a55e\",\"type\":\"TapTool\"},{\"id\":\"638fe25f-f782-4abf-bc86-74906e3549aa\",\"type\":\"WheelZoomTool\"},{\"id\":\"628e54c2-2472-49a9-a871-7eced1b8143f\",\"type\":\"UndoTool\"}]},\"id\":\"1be6395c-3955-4055-83a1-35e09a5bee2d\",\"type\":\"Toolbar\"},{\"attributes\":{\"below\":[{\"id\":\"b9b20d5f-0205-4f87-83cf-16a127fe661e\",\"type\":\"LinearAxis\"}],\"left\":[{\"id\":\"3f17528f-ea25-4e91-99c7-20be7c00510e\",\"type\":\"LinearAxis\"}],\"renderers\":[{\"id\":\"b9b20d5f-0205-4f87-83cf-16a127fe661e\",\"type\":\"LinearAxis\"},{\"id\":\"71cd8c33-487b-433d-b8a5-9106c104d83b\",\"type\":\"Grid\"},{\"id\":\"3f17528f-ea25-4e91-99c7-20be7c00510e\",\"type\":\"LinearAxis\"},{\"id\":\"02dfc486-d139-4404-b27b-2a6f990107d3\",\"type\":\"Grid\"},{\"id\":\"00a18f7c-99f5-475b-a6d0-1e4e11bfce2e\",\"type\":\"BoxAnnotation\"},{\"id\":\"6c01e314-1508-46a3-85db-8977863e8800\",\"type\":\"BoxAnnotation\"},{\"id\":\"6b879bd8-161b-4db7-9304-6018951b95c6\",\"type\":\"PolyAnnotation\"},{\"id\":\"0fb77a28-eb84-4d6e-a4d7-fc0eee8db35c\",\"type\":\"PolyAnnotation\"},{\"id\":\"29063b52-7d5b-4088-82a8-3f6f81702212\",\"type\":\"Legend\"},{\"id\":\"225f93d0-854f-4df3-a620-f2f1a8040108\",\"type\":\"GlyphRenderer\"},{\"id\":\"ceafe235-1c3d-4d6d-bf34-acf878420f94\",\"type\":\"GlyphRenderer\"},{\"id\":\"f2eebb63-a04c-41c0-b50b-e8e8b825ff92\",\"type\":\"GlyphRenderer\"}],\"title\":{\"id\":\"8774662f-2dd5-408b-b1e2-355ba668a27b\",\"type\":\"Title\"},\"tool_events\":{\"id\":\"93e1e5a5-3605-4f6d-a5cb-ac9fe4301b59\",\"type\":\"ToolEvents\"},\"toolbar\":{\"id\":\"1be6395c-3955-4055-83a1-35e09a5bee2d\",\"type\":\"Toolbar\"},\"x_range\":{\"id\":\"5078b5c0-62bc-4af3-8124-a0b41727a719\",\"type\":\"DataRange1d\"},\"y_range\":{\"id\":\"61c58ce8-d22e-4600-b462-ee5f5fa59640\",\"type\":\"DataRange1d\"}},\"id\":\"f0a2e6fe-2f7f-4abd-b0f6-6e4dcac45d77\",\"subtype\":\"Figure\",\"type\":\"Plot\"},{\"attributes\":{\"plot\":{\"id\":\"f0a2e6fe-2f7f-4abd-b0f6-6e4dcac45d77\",\"subtype\":\"Figure\",\"type\":\"Plot\"}},\"id\":\"2c73811d-233b-4d62-98a0-8842af80bf6d\",\"type\":\"PanTool\"},{\"attributes\":{\"plot\":{\"id\":\"f0a2e6fe-2f7f-4abd-b0f6-6e4dcac45d77\",\"subtype\":\"Figure\",\"type\":\"Plot\"}},\"id\":\"d3ea878e-15d5-4ac0-ae24-95f557f7b389\",\"type\":\"SaveTool\"},{\"attributes\":{\"callback\":null,\"column_names\":[\"x\",\"y\"],\"data\":{\"x\":[0,1,2,3,4,5,6,7,8,9,10,11,12,13,14,15,16,17,18,19,20,21,22,23,24,25,26,27,28,29,30,31,32,33,34],\"y\":{\"__ndarray__\":\"AAAAYE1Z4z8AAABg0BfkPwAAAGDQF+Q/AAAAYNAX5D8AAABg0BfkPwAAAGDQF+Q/AAAAYNAX5D8AAABg0BfkPwAAAGDQF+Q/AAAAYFPW5D8AAABgU9bkPwAAAGBNWeM/AAAAYE1Z4z8AAABgypriPwAAAIBH3OE/AAAAgEfc4T8AAAAga8raPwAAACB3xN0/AAAAIHfE3T8AAAAAfUHfPwAAAAB9Qd8/AAAAIHfE3T8AAAAgcUfcPwAAACB3xN0/AAAAIGvK2j8AAAAgd8TdPwAAAIDEHeE/AAAAQF/Q1z8AAACAR9zRPwAAAIBH3NE/AAAAYFPW1D8AAABgTVnTPwAAAGBNWdM/AAAAYE1Z0z8AAAAgcUfcPw==\",\"dtype\":\"float64\",\"shape\":[35]}}},\"id\":\"c0604d23-1710-4880-b6a9-d303eba30bd2\",\"type\":\"ColumnDataSource\"},{\"attributes\":{\"line_alpha\":{\"value\":0.1},\"line_color\":{\"value\":\"#1f77b4\"},\"line_width\":{\"value\":2},\"x\":{\"field\":\"x\"},\"y\":{\"field\":\"y\"}},\"id\":\"a72eab8f-fb15-4e39-9013-782684f46c4b\",\"type\":\"Line\"},{\"attributes\":{\"line_color\":{\"value\":\"green\"},\"line_width\":{\"value\":2},\"x\":{\"field\":\"x\"},\"y\":{\"field\":\"y\"}},\"id\":\"46c140b5-355d-4773-b5fb-1695272959bf\",\"type\":\"Line\"},{\"attributes\":{\"label\":{\"value\":\"Accuracy\"},\"renderers\":[{\"id\":\"f2eebb63-a04c-41c0-b50b-e8e8b825ff92\",\"type\":\"GlyphRenderer\"}]},\"id\":\"1dd8fdcd-e134-4423-85f0-7381b7bfeef7\",\"type\":\"LegendItem\"},{\"attributes\":{\"label\":{\"value\":\"ucb1\"},\"renderers\":[{\"id\":\"225f93d0-854f-4df3-a620-f2f1a8040108\",\"type\":\"GlyphRenderer\"}]},\"id\":\"312106ea-7179-4553-a0b1-efb148a3f2c7\",\"type\":\"LegendItem\"},{\"attributes\":{\"items\":[{\"id\":\"312106ea-7179-4553-a0b1-efb148a3f2c7\",\"type\":\"LegendItem\"},{\"id\":\"cfb522b0-7b14-4ef2-bbaa-b61e36da88a2\",\"type\":\"LegendItem\"},{\"id\":\"1dd8fdcd-e134-4423-85f0-7381b7bfeef7\",\"type\":\"LegendItem\"}],\"plot\":{\"id\":\"f0a2e6fe-2f7f-4abd-b0f6-6e4dcac45d77\",\"subtype\":\"Figure\",\"type\":\"Plot\"}},\"id\":\"29063b52-7d5b-4088-82a8-3f6f81702212\",\"type\":\"Legend\"},{\"attributes\":{\"data_source\":{\"id\":\"112f51c6-3b08-43b7-9b64-640008e3714a\",\"type\":\"ColumnDataSource\"},\"glyph\":{\"id\":\"46c140b5-355d-4773-b5fb-1695272959bf\",\"type\":\"Line\"},\"hover_glyph\":null,\"nonselection_glyph\":{\"id\":\"a72eab8f-fb15-4e39-9013-782684f46c4b\",\"type\":\"Line\"},\"selection_glyph\":null},\"id\":\"225f93d0-854f-4df3-a620-f2f1a8040108\",\"type\":\"GlyphRenderer\"},{\"attributes\":{\"line_color\":{\"value\":\"red\"},\"line_width\":{\"value\":2},\"x\":{\"field\":\"x\"},\"y\":{\"field\":\"y\"}},\"id\":\"a43168b7-82cc-41cf-bae7-539a5497f8ed\",\"type\":\"Line\"},{\"attributes\":{\"callback\":null,\"column_names\":[\"x\",\"y\"],\"data\":{\"x\":[0,1,2,3,4,5,6,7,8,9,10,11,12,13,14,15,16,17,18,19,20,21,22,23,24,25,26,27,28,29,30,31,32,33,34],\"y\":[{\"__ndarray__\":\"rkfh2mEH4z8=\",\"dtype\":\"float64\",\"shape\":[]},{\"__ndarray__\":\"rkfh2mEH4z8=\",\"dtype\":\"float64\",\"shape\":[]},{\"__ndarray__\":\"rkfh2mEH4z8=\",\"dtype\":\"float64\",\"shape\":[]},{\"__ndarray__\":\"rkfh2mEH4z8=\",\"dtype\":\"float64\",\"shape\":[]},{\"__ndarray__\":\"rkfh2mEH4z8=\",\"dtype\":\"float64\",\"shape\":[]},{\"__ndarray__\":\"rkfh2mEH4z8=\",\"dtype\":\"float64\",\"shape\":[]},{\"__ndarray__\":\"rkfh2mEH4z8=\",\"dtype\":\"float64\",\"shape\":[]},{\"__ndarray__\":\"rkfh2mEH4z8=\",\"dtype\":\"float64\",\"shape\":[]},{\"__ndarray__\":\"rkfh2mEH4z8=\",\"dtype\":\"float64\",\"shape\":[]},{\"__ndarray__\":\"rkfh2mEH4z8=\",\"dtype\":\"float64\",\"shape\":[]},{\"__ndarray__\":\"rkfh2mEH4z8=\",\"dtype\":\"float64\",\"shape\":[]},{\"__ndarray__\":\"rkfh2mEH4z8=\",\"dtype\":\"float64\",\"shape\":[]},{\"__ndarray__\":\"rkfh2mEH4z8=\",\"dtype\":\"float64\",\"shape\":[]},{\"__ndarray__\":\"rkfh2mEH4z8=\",\"dtype\":\"float64\",\"shape\":[]},{\"__ndarray__\":\"rkfh2mEH4z8=\",\"dtype\":\"float64\",\"shape\":[]},{\"__ndarray__\":\"rkfh2mEH4z8=\",\"dtype\":\"float64\",\"shape\":[]},{\"__ndarray__\":\"rkfh2mEH4z8=\",\"dtype\":\"float64\",\"shape\":[]},{\"__ndarray__\":\"rkfh2mEH4z8=\",\"dtype\":\"float64\",\"shape\":[]},{\"__ndarray__\":\"rkfh2mEH4z8=\",\"dtype\":\"float64\",\"shape\":[]},{\"__ndarray__\":\"rkfh2mEH4z8=\",\"dtype\":\"float64\",\"shape\":[]},{\"__ndarray__\":\"rkfh2mEH4z8=\",\"dtype\":\"float64\",\"shape\":[]},{\"__ndarray__\":\"rkfh2mEH4z8=\",\"dtype\":\"float64\",\"shape\":[]},{\"__ndarray__\":\"rkfh2mEH4z8=\",\"dtype\":\"float64\",\"shape\":[]},{\"__ndarray__\":\"rkfh2mEH4z8=\",\"dtype\":\"float64\",\"shape\":[]},{\"__ndarray__\":\"rkfh2mEH4z8=\",\"dtype\":\"float64\",\"shape\":[]},{\"__ndarray__\":\"rkfh2mEH4z8=\",\"dtype\":\"float64\",\"shape\":[]},{\"__ndarray__\":\"rkfh2mEH4z8=\",\"dtype\":\"float64\",\"shape\":[]},{\"__ndarray__\":\"rkfh2mEH4z8=\",\"dtype\":\"float64\",\"shape\":[]},{\"__ndarray__\":\"rkfh2mEH4z8=\",\"dtype\":\"float64\",\"shape\":[]},{\"__ndarray__\":\"rkfh2mEH4z8=\",\"dtype\":\"float64\",\"shape\":[]},{\"__ndarray__\":\"rkfh2mEH4z8=\",\"dtype\":\"float64\",\"shape\":[]},{\"__ndarray__\":\"rkfh2mEH4z8=\",\"dtype\":\"float64\",\"shape\":[]},{\"__ndarray__\":\"rkfh2mEH4z8=\",\"dtype\":\"float64\",\"shape\":[]},{\"__ndarray__\":\"rkfh2mEH4z8=\",\"dtype\":\"float64\",\"shape\":[]},{\"__ndarray__\":\"rkfh2mEH4z8=\",\"dtype\":\"float64\",\"shape\":[]}]}},\"id\":\"c4df9c07-8e88-4875-9ca6-88f53f540a52\",\"type\":\"ColumnDataSource\"}],\"root_ids\":[\"f0a2e6fe-2f7f-4abd-b0f6-6e4dcac45d77\"]},\"title\":\"Bokeh Application\",\"version\":\"0.12.4\"}};\n",
       "            var render_items = [{\"docid\":\"0931cce3-e323-4200-a8d9-b21a30b42f71\",\"elementid\":\"03882fec-5bc3-4c2d-b4c1-dc7ad791255c\",\"modelid\":\"f0a2e6fe-2f7f-4abd-b0f6-6e4dcac45d77\"}];\n",
       "            \n",
       "            Bokeh.embed.embed_items(docs_json, render_items);\n",
       "          };\n",
       "          if (document.readyState != \"loading\") fn();\n",
       "          else document.addEventListener(\"DOMContentLoaded\", fn);\n",
       "        })();\n",
       "      },\n",
       "      function(Bokeh) {\n",
       "      }\n",
       "    ];\n",
       "  \n",
       "    function run_inline_js() {\n",
       "      \n",
       "      if ((window.Bokeh !== undefined) || (force === true)) {\n",
       "        for (var i = 0; i < inline_js.length; i++) {\n",
       "          inline_js[i](window.Bokeh);\n",
       "        }if (force === true) {\n",
       "          display_loaded();\n",
       "        }} else if (Date.now() < window._bokeh_timeout) {\n",
       "        setTimeout(run_inline_js, 100);\n",
       "      } else if (!window._bokeh_failed_load) {\n",
       "        console.log(\"Bokeh: BokehJS failed to load within specified timeout.\");\n",
       "        window._bokeh_failed_load = true;\n",
       "      } else if (force !== true) {\n",
       "        var cell = $(document.getElementById(\"03882fec-5bc3-4c2d-b4c1-dc7ad791255c\")).parents('.cell').data().cell;\n",
       "        cell.output_area.append_execute_result(NB_LOAD_WARNING)\n",
       "      }\n",
       "  \n",
       "    }\n",
       "  \n",
       "    if (window._bokeh_is_loading === 0) {\n",
       "      console.log(\"Bokeh: BokehJS loaded, going straight to plotting\");\n",
       "      run_inline_js();\n",
       "    } else {\n",
       "      load_libs(js_urls, function() {\n",
       "        console.log(\"Bokeh: BokehJS plotting callback run at\", now());\n",
       "        run_inline_js();\n",
       "      });\n",
       "    }\n",
       "  }(this));\n",
       "</script>"
      ]
     },
     "metadata": {},
     "output_type": "display_data"
    }
   ],
   "source": [
    "p1 = figure(title=\"The Performance over the number of neurons' pruned\", tools=TOOLS)\n",
    "p1.line(ind, ucb1, legend=\"ucb1\", line_color=\"green\", line_width=2)\n",
    "p1.line(ind, ThompsonSampling, legend=\"Thompson Sampling\", line_color=\"red\", line_width=2)\n",
    "p1.line(ind, Acc, legend=\"Accuracy\", line_dash=(4, 4), line_color=\"blue\", line_width=2)\n",
    "p1.title.align = \"center\"\n",
    "show(p1)"
   ]
  }
 ],
 "metadata": {
  "kernelspec": {
   "display_name": "Python 3",
   "language": "python",
   "name": "python3"
  },
  "language_info": {
   "codemirror_mode": {
    "name": "ipython",
    "version": 3
   },
   "file_extension": ".py",
   "mimetype": "text/x-python",
   "name": "python",
   "nbconvert_exporter": "python",
   "pygments_lexer": "ipython3",
   "version": "3.6.0"
  }
 },
 "nbformat": 4,
 "nbformat_minor": 0
}
