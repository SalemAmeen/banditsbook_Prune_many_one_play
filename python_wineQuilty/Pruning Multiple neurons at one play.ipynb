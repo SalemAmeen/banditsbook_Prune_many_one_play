{
 "cells": [
  {
   "cell_type": "markdown",
   "metadata": {},
   "source": [
    "Compute the performance of MAB methods of pruning Multiple neurons at one time\n",
    "\n",
    "MAP for choosing multi arms at one time"
   ]
  },
  {
   "cell_type": "code",
   "execution_count": 1,
   "metadata": {
    "collapsed": true
   },
   "outputs": [],
   "source": [
    "import numpy as np\n",
    "import time\n",
    "import sys\n",
    "from numpy import *\n",
    "import matplotlib.pyplot as plt\n",
    "from sklearn import metrics\n",
    "%matplotlib inline\n",
    "#plt.rcParams['figure.figsize'] = (15, 6)"
   ]
  },
  {
   "cell_type": "markdown",
   "metadata": {},
   "source": [
    "# Load Bokeh"
   ]
  },
  {
   "cell_type": "code",
   "execution_count": 2,
   "metadata": {
    "collapsed": false
   },
   "outputs": [
    {
     "data": {
      "text/html": [
       "\n",
       "    <div class=\"bk-root\">\n",
       "        <a href=\"http://bokeh.pydata.org\" target=\"_blank\" class=\"bk-logo bk-logo-small bk-logo-notebook\"></a>\n",
       "        <span id=\"95bd0004-33ee-4ec0-a6c6-7f44213667b6\">Loading BokehJS ...</span>\n",
       "    </div>"
      ]
     },
     "metadata": {},
     "output_type": "display_data"
    },
    {
     "data": {
      "application/javascript": [
       "\n",
       "(function(global) {\n",
       "  function now() {\n",
       "    return new Date();\n",
       "  }\n",
       "\n",
       "  var force = true;\n",
       "\n",
       "  if (typeof (window._bokeh_onload_callbacks) === \"undefined\" || force === true) {\n",
       "    window._bokeh_onload_callbacks = [];\n",
       "    window._bokeh_is_loading = undefined;\n",
       "  }\n",
       "\n",
       "\n",
       "  \n",
       "  if (typeof (window._bokeh_timeout) === \"undefined\" || force === true) {\n",
       "    window._bokeh_timeout = Date.now() + 5000;\n",
       "    window._bokeh_failed_load = false;\n",
       "  }\n",
       "\n",
       "  var NB_LOAD_WARNING = {'data': {'text/html':\n",
       "     \"<div style='background-color: #fdd'>\\n\"+\n",
       "     \"<p>\\n\"+\n",
       "     \"BokehJS does not appear to have successfully loaded. If loading BokehJS from CDN, this \\n\"+\n",
       "     \"may be due to a slow or bad network connection. Possible fixes:\\n\"+\n",
       "     \"</p>\\n\"+\n",
       "     \"<ul>\\n\"+\n",
       "     \"<li>re-rerun `output_notebook()` to attempt to load from CDN again, or</li>\\n\"+\n",
       "     \"<li>use INLINE resources instead, as so:</li>\\n\"+\n",
       "     \"</ul>\\n\"+\n",
       "     \"<code>\\n\"+\n",
       "     \"from bokeh.resources import INLINE\\n\"+\n",
       "     \"output_notebook(resources=INLINE)\\n\"+\n",
       "     \"</code>\\n\"+\n",
       "     \"</div>\"}};\n",
       "\n",
       "  function display_loaded() {\n",
       "    if (window.Bokeh !== undefined) {\n",
       "      document.getElementById(\"95bd0004-33ee-4ec0-a6c6-7f44213667b6\").textContent = \"BokehJS successfully loaded.\";\n",
       "    } else if (Date.now() < window._bokeh_timeout) {\n",
       "      setTimeout(display_loaded, 100)\n",
       "    }\n",
       "  }\n",
       "\n",
       "  function run_callbacks() {\n",
       "    window._bokeh_onload_callbacks.forEach(function(callback) { callback() });\n",
       "    delete window._bokeh_onload_callbacks\n",
       "    console.info(\"Bokeh: all callbacks have finished\");\n",
       "  }\n",
       "\n",
       "  function load_libs(js_urls, callback) {\n",
       "    window._bokeh_onload_callbacks.push(callback);\n",
       "    if (window._bokeh_is_loading > 0) {\n",
       "      console.log(\"Bokeh: BokehJS is being loaded, scheduling callback at\", now());\n",
       "      return null;\n",
       "    }\n",
       "    if (js_urls == null || js_urls.length === 0) {\n",
       "      run_callbacks();\n",
       "      return null;\n",
       "    }\n",
       "    console.log(\"Bokeh: BokehJS not loaded, scheduling load and callback at\", now());\n",
       "    window._bokeh_is_loading = js_urls.length;\n",
       "    for (var i = 0; i < js_urls.length; i++) {\n",
       "      var url = js_urls[i];\n",
       "      var s = document.createElement('script');\n",
       "      s.src = url;\n",
       "      s.async = false;\n",
       "      s.onreadystatechange = s.onload = function() {\n",
       "        window._bokeh_is_loading--;\n",
       "        if (window._bokeh_is_loading === 0) {\n",
       "          console.log(\"Bokeh: all BokehJS libraries loaded\");\n",
       "          run_callbacks()\n",
       "        }\n",
       "      };\n",
       "      s.onerror = function() {\n",
       "        console.warn(\"failed to load library \" + url);\n",
       "      };\n",
       "      console.log(\"Bokeh: injecting script tag for BokehJS library: \", url);\n",
       "      document.getElementsByTagName(\"head\")[0].appendChild(s);\n",
       "    }\n",
       "  };var element = document.getElementById(\"95bd0004-33ee-4ec0-a6c6-7f44213667b6\");\n",
       "  if (element == null) {\n",
       "    console.log(\"Bokeh: ERROR: autoload.js configured with elementid '95bd0004-33ee-4ec0-a6c6-7f44213667b6' but no matching script tag was found. \")\n",
       "    return false;\n",
       "  }\n",
       "\n",
       "  var js_urls = [\"https://cdn.pydata.org/bokeh/release/bokeh-0.12.4.min.js\", \"https://cdn.pydata.org/bokeh/release/bokeh-widgets-0.12.4.min.js\"];\n",
       "\n",
       "  var inline_js = [\n",
       "    function(Bokeh) {\n",
       "      Bokeh.set_log_level(\"info\");\n",
       "    },\n",
       "    \n",
       "    function(Bokeh) {\n",
       "      \n",
       "      document.getElementById(\"95bd0004-33ee-4ec0-a6c6-7f44213667b6\").textContent = \"BokehJS is loading...\";\n",
       "    },\n",
       "    function(Bokeh) {\n",
       "      console.log(\"Bokeh: injecting CSS: https://cdn.pydata.org/bokeh/release/bokeh-0.12.4.min.css\");\n",
       "      Bokeh.embed.inject_css(\"https://cdn.pydata.org/bokeh/release/bokeh-0.12.4.min.css\");\n",
       "      console.log(\"Bokeh: injecting CSS: https://cdn.pydata.org/bokeh/release/bokeh-widgets-0.12.4.min.css\");\n",
       "      Bokeh.embed.inject_css(\"https://cdn.pydata.org/bokeh/release/bokeh-widgets-0.12.4.min.css\");\n",
       "    }\n",
       "  ];\n",
       "\n",
       "  function run_inline_js() {\n",
       "    \n",
       "    if ((window.Bokeh !== undefined) || (force === true)) {\n",
       "      for (var i = 0; i < inline_js.length; i++) {\n",
       "        inline_js[i](window.Bokeh);\n",
       "      }if (force === true) {\n",
       "        display_loaded();\n",
       "      }} else if (Date.now() < window._bokeh_timeout) {\n",
       "      setTimeout(run_inline_js, 100);\n",
       "    } else if (!window._bokeh_failed_load) {\n",
       "      console.log(\"Bokeh: BokehJS failed to load within specified timeout.\");\n",
       "      window._bokeh_failed_load = true;\n",
       "    } else if (force !== true) {\n",
       "      var cell = $(document.getElementById(\"95bd0004-33ee-4ec0-a6c6-7f44213667b6\")).parents('.cell').data().cell;\n",
       "      cell.output_area.append_execute_result(NB_LOAD_WARNING)\n",
       "    }\n",
       "\n",
       "  }\n",
       "\n",
       "  if (window._bokeh_is_loading === 0) {\n",
       "    console.log(\"Bokeh: BokehJS loaded, going straight to plotting\");\n",
       "    run_inline_js();\n",
       "  } else {\n",
       "    load_libs(js_urls, function() {\n",
       "      console.log(\"Bokeh: BokehJS plotting callback run at\", now());\n",
       "      run_inline_js();\n",
       "    });\n",
       "  }\n",
       "}(this));"
      ]
     },
     "metadata": {},
     "output_type": "display_data"
    }
   ],
   "source": [
    "from bokeh.layouts import row, gridplot\n",
    "from bokeh.plotting import figure, output_notebook, show\n",
    "from bokeh.models import Legend\n",
    "TOOLS = 'box_zoom,box_select,crosshair,resize,reset,lasso_select,pan,save,poly_select,tap,wheel_zoom,undo'\n",
    "output_notebook()"
   ]
  },
  {
   "cell_type": "markdown",
   "metadata": {},
   "source": [
    "# Load the data"
   ]
  },
  {
   "cell_type": "code",
   "execution_count": 3,
   "metadata": {
    "collapsed": false
   },
   "outputs": [
    {
     "name": "stdout",
     "output_type": "stream",
     "text": [
      "Number of training examples 4157\n",
      "Number of validation examples 1040\n",
      "Number of testing examples 1300\n"
     ]
    }
   ],
   "source": [
    "X_train = np.load('./winequilty/X_train.npy')\n",
    "y_train = np.load('./winequilty/y_train.npy')\n",
    "X_test = np.load('./winequilty/X_test.npy')\n",
    "y_test = np.load('./winequilty/y_test.npy')\n",
    "X_deploy = np.load('./winequilty/X_deploy.npy')\n",
    "y_deploy = np.load('./winequilty/y_deploy.npy')\n",
    "print('Number of training examples',len(X_train))\n",
    "print('Number of validation examples',len(X_test))\n",
    "print('Number of testing examples',len(X_deploy))"
   ]
  },
  {
   "cell_type": "code",
   "execution_count": 4,
   "metadata": {
    "collapsed": false
   },
   "outputs": [],
   "source": [
    "exec(open(\"core.py\").read())  # pyhton 3x"
   ]
  },
  {
   "cell_type": "markdown",
   "metadata": {},
   "source": [
    "## Run Thompson Sampling pruning Algorithm"
   ]
  },
  {
   "cell_type": "code",
   "execution_count": 5,
   "metadata": {
    "collapsed": false
   },
   "outputs": [
    {
     "name": "stderr",
     "output_type": "stream",
     "text": [
      "/Library/Frameworks/Python.framework/Versions/3.6/lib/python3.6/site-packages/sklearn/cross_validation.py:44: DeprecationWarning: This module was deprecated in version 0.18 in favor of the model_selection module into which all the refactored classes and functions are moved. Also note that the interface of the new CV iterators are different from that of this module. This module will be removed in 0.20.\n",
      "  \"This module will be removed in 0.20.\", DeprecationWarning)\n",
      "Using Theano backend.\n"
     ]
    },
    {
     "name": "stdout",
     "output_type": "stream",
     "text": [
      "Test fraction correct (NN-Score) = 1.06\n",
      "Test fraction correct (NN-Accuracy) = 0.55\n",
      "The time for running this method is 0.17600369453430176 seconds \n",
      "Finsh playing start pruining:\n",
      "Test after pruning= 0.54\n",
      "Test after pruning= 0.55\n",
      "Test after pruning= 0.55\n",
      "Test after pruning= 0.53\n",
      "Test after pruning= 0.52\n",
      "Test after pruning= 0.51\n",
      "Test after pruning= 0.51\n",
      "Test after pruning= 0.51\n",
      "Test after pruning= 0.52\n",
      "Test after pruning= 0.53\n",
      "Test after pruning= 0.52\n",
      "Test after pruning= 0.46\n",
      "Test after pruning= 0.47\n",
      "Test after pruning= 0.45\n",
      "Test after pruning= 0.43\n",
      "Test after pruning= 0.46\n",
      "Test after pruning= 0.45\n",
      "Test after pruning= 0.42\n",
      "Test after pruning= 0.44\n",
      "Test after pruning= 0.43\n",
      "Test after pruning= 0.41\n",
      "Test after pruning= 0.41\n",
      "Test after pruning= 0.45\n",
      "Test after pruning= 0.49\n",
      "Test after pruning= 0.45\n"
     ]
    },
    {
     "data": {
      "image/png": "[encoded data removed]",
      "text/plain": [
       "<matplotlib.figure.Figure at 0x10bef0630>"
      ]
     },
     "metadata": {},
     "output_type": "display_data"
    }
   ],
   "source": [
    "algo = Thompson_Sampling([], [])\n",
    "Alg_name = 'Thompson_Sampling Algorithm'\n",
    "path = './Thompson_Sampling/'\n",
    "sys.path.append(\"./Thompson_Sampling\")\n",
    "exec(open(\"mnist_cnnFORTESTING.py\").read())"
   ]
  },
  {
   "cell_type": "markdown",
   "metadata": {},
   "source": [
    "## Run UCB1 pruning Algorithm"
   ]
  },
  {
   "cell_type": "code",
   "execution_count": 6,
   "metadata": {
    "collapsed": false
   },
   "outputs": [
    {
     "name": "stdout",
     "output_type": "stream",
     "text": [
      "Test fraction correct (NN-Score) = 1.06\n",
      "Test fraction correct (NN-Accuracy) = 0.55\n",
      "The time for running this method is 0.1891798973083496 seconds \n",
      "Finsh playing start pruining:\n",
      "Test after pruning= 0.55\n",
      "Test after pruning= 0.55\n",
      "Test after pruning= 0.54\n",
      "Test after pruning= 0.55\n",
      "Test after pruning= 0.54\n",
      "Test after pruning= 0.54\n",
      "Test after pruning= 0.52\n",
      "Test after pruning= 0.53\n",
      "Test after pruning= 0.51\n",
      "Test after pruning= 0.51\n",
      "Test after pruning= 0.49\n",
      "Test after pruning= 0.48\n",
      "Test after pruning= 0.49\n",
      "Test after pruning= 0.50\n",
      "Test after pruning= 0.50\n",
      "Test after pruning= 0.52\n",
      "Test after pruning= 0.51\n",
      "Test after pruning= 0.48\n",
      "Test after pruning= 0.47\n",
      "Test after pruning= 0.46\n",
      "Test after pruning= 0.44\n",
      "Test after pruning= 0.42\n",
      "Test after pruning= 0.41\n",
      "Test after pruning= 0.40\n",
      "Test after pruning= 0.45\n"
     ]
    },
    {
     "data": {
      "image/png": "[encoded data removed]",
      "text/plain": [
       "<matplotlib.figure.Figure at 0x10e0cd390>"
      ]
     },
     "metadata": {},
     "output_type": "display_data"
    }
   ],
   "source": [
    "algo = UCB1([], [])\n",
    "Alg_name = 'UCB1 Algorithm'\n",
    "path = './UCB1/'\n",
    "sys.path.append(\"./UCB1\")\n",
    "exec(open(\"mnist_cnnFORTESTING.py\").read())"
   ]
  },
  {
   "cell_type": "markdown",
   "metadata": {
    "collapsed": true
   },
   "source": [
    "# Compare the accuracy"
   ]
  },
  {
   "cell_type": "code",
   "execution_count": 7,
   "metadata": {
    "collapsed": true
   },
   "outputs": [],
   "source": [
    "ucb1 = np.load('./UCB1/AccuracyAftrerPrune.npy')\n",
    "ThompsonSampling = np.load('./Thompson_Sampling/AccuracyAftrerPrune.npy')\n",
    "Accuracy = np.load('AccuracyBeforePruning.npy')"
   ]
  },
  {
   "cell_type": "code",
   "execution_count": 8,
   "metadata": {
    "collapsed": false
   },
   "outputs": [
    {
     "data": {
      "image/png": "[encoded data removed]",
      "text/plain": [
       "<matplotlib.figure.Figure at 0x10e463940>"
      ]
     },
     "metadata": {},
     "output_type": "display_data"
    }
   ],
   "source": [
    "fig = plt.figure(figsize=(10, 6), dpi=80)\n",
    "ax = fig.add_subplot(111)\n",
    "N = len(ucb1)\n",
    "ind = np.arange(N)                # the x locations for the groups\n",
    "plt.plot(ind , ucb1 , color=\"blue\", linewidth=2.5, linestyle=\"-\", label=\"UCB1\")\n",
    "plt.plot(ind , ThompsonSampling, color=\"orange\", linewidth=2.5, linestyle=\"-\", label=\"Thompson Sampling\")\n",
    "plt.legend(loc = 3)\n",
    "plt.axis([0, 25, 0, 1])\n",
    "plt.xlabel('Number of pruned Neurons')\n",
    "plt.ylabel('The Accuracy')\n",
    "plt.grid(True)\n",
    "plt.show()"
   ]
  },
  {
   "cell_type": "code",
   "execution_count": 9,
   "metadata": {
    "collapsed": false
   },
   "outputs": [
    {
     "data": {
      "text/html": [
       "\n",
       "\n",
       "    <div class=\"bk-root\">\n",
       "        <div class=\"bk-plotdiv\" id=\"af28f603-625a-44ec-8d9c-a1052b31a1bb\"></div>\n",
       "    </div>\n",
       "<script type=\"text/javascript\">\n",
       "  \n",
       "  (function(global) {\n",
       "    function now() {\n",
       "      return new Date();\n",
       "    }\n",
       "  \n",
       "    var force = false;\n",
       "  \n",
       "    if (typeof (window._bokeh_onload_callbacks) === \"undefined\" || force === true) {\n",
       "      window._bokeh_onload_callbacks = [];\n",
       "      window._bokeh_is_loading = undefined;\n",
       "    }\n",
       "  \n",
       "  \n",
       "    \n",
       "    if (typeof (window._bokeh_timeout) === \"undefined\" || force === true) {\n",
       "      window._bokeh_timeout = Date.now() + 0;\n",
       "      window._bokeh_failed_load = false;\n",
       "    }\n",
       "  \n",
       "    var NB_LOAD_WARNING = {'data': {'text/html':\n",
       "       \"<div style='background-color: #fdd'>\\n\"+\n",
       "       \"<p>\\n\"+\n",
       "       \"BokehJS does not appear to have successfully loaded. If loading BokehJS from CDN, this \\n\"+\n",
       "       \"may be due to a slow or bad network connection. Possible fixes:\\n\"+\n",
       "       \"</p>\\n\"+\n",
       "       \"<ul>\\n\"+\n",
       "       \"<li>re-rerun `output_notebook()` to attempt to load from CDN again, or</li>\\n\"+\n",
       "       \"<li>use INLINE resources instead, as so:</li>\\n\"+\n",
       "       \"</ul>\\n\"+\n",
       "       \"<code>\\n\"+\n",
       "       \"from bokeh.resources import INLINE\\n\"+\n",
       "       \"output_notebook(resources=INLINE)\\n\"+\n",
       "       \"</code>\\n\"+\n",
       "       \"</div>\"}};\n",
       "  \n",
       "    function display_loaded() {\n",
       "      if (window.Bokeh !== undefined) {\n",
       "        document.getElementById(\"af28f603-625a-44ec-8d9c-a1052b31a1bb\").textContent = \"BokehJS successfully loaded.\";\n",
       "      } else if (Date.now() < window._bokeh_timeout) {\n",
       "        setTimeout(display_loaded, 100)\n",
       "      }\n",
       "    }\n",
       "  \n",
       "    function run_callbacks() {\n",
       "      window._bokeh_onload_callbacks.forEach(function(callback) { callback() });\n",
       "      delete window._bokeh_onload_callbacks\n",
       "      console.info(\"Bokeh: all callbacks have finished\");\n",
       "    }\n",
       "  \n",
       "    function load_libs(js_urls, callback) {\n",
       "      window._bokeh_onload_callbacks.push(callback);\n",
       "      if (window._bokeh_is_loading > 0) {\n",
       "        console.log(\"Bokeh: BokehJS is being loaded, scheduling callback at\", now());\n",
       "        return null;\n",
       "      }\n",
       "      if (js_urls == null || js_urls.length === 0) {\n",
       "        run_callbacks();\n",
       "        return null;\n",
       "      }\n",
       "      console.log(\"Bokeh: BokehJS not loaded, scheduling load and callback at\", now());\n",
       "      window._bokeh_is_loading = js_urls.length;\n",
       "      for (var i = 0; i < js_urls.length; i++) {\n",
       "        var url = js_urls[i];\n",
       "        var s = document.createElement('script');\n",
       "        s.src = url;\n",
       "        s.async = false;\n",
       "        s.onreadystatechange = s.onload = function() {\n",
       "          window._bokeh_is_loading--;\n",
       "          if (window._bokeh_is_loading === 0) {\n",
       "            console.log(\"Bokeh: all BokehJS libraries loaded\");\n",
       "            run_callbacks()\n",
       "          }\n",
       "        };\n",
       "        s.onerror = function() {\n",
       "          console.warn(\"failed to load library \" + url);\n",
       "        };\n",
       "        console.log(\"Bokeh: injecting script tag for BokehJS library: \", url);\n",
       "        document.getElementsByTagName(\"head\")[0].appendChild(s);\n",
       "      }\n",
       "    };var element = document.getElementById(\"af28f603-625a-44ec-8d9c-a1052b31a1bb\");\n",
       "    if (element == null) {\n",
       "      console.log(\"Bokeh: ERROR: autoload.js configured with elementid 'af28f603-625a-44ec-8d9c-a1052b31a1bb' but no matching script tag was found. \")\n",
       "      return false;\n",
       "    }\n",
       "  \n",
       "    var js_urls = [];\n",
       "  \n",
       "    var inline_js = [\n",
       "      function(Bokeh) {\n",
       "        (function() {\n",
       "          var fn = function() {\n",
       "            var docs_json = {\"b04e8470-e656-47ba-b34c-4541123d6a7e\":{\"roots\":{\"references\":[{\"attributes\":{\"dimension\":1,\"plot\":{\"id\":\"17f9379b-8ee3-4eb6-9869-700163a1881e\",\"subtype\":\"Figure\",\"type\":\"Plot\"},\"ticker\":{\"id\":\"bbf1daea-08a7-4938-8576-4b2b68a92caf\",\"type\":\"BasicTicker\"}},\"id\":\"4a113203-3999-4dfe-80fc-b598388618b1\",\"type\":\"Grid\"},{\"attributes\":{},\"id\":\"01833236-e21b-45c6-8897-146f44e94cd7\",\"type\":\"ToolEvents\"},{\"attributes\":{\"callback\":null},\"id\":\"3a6d2476-3ef7-4c96-b136-4845924f0da7\",\"type\":\"DataRange1d\"},{\"attributes\":{\"line_color\":{\"value\":\"blue\"},\"line_width\":{\"value\":2},\"x\":{\"field\":\"x\"},\"y\":{\"field\":\"y\"}},\"id\":\"d3cf7001-223d-49c8-9c8f-3303ec929c37\",\"type\":\"Line\"},{\"attributes\":{\"formatter\":{\"id\":\"a9e7cdd0-fa9b-47df-b0f1-dce01f8539b3\",\"type\":\"BasicTickFormatter\"},\"plot\":{\"id\":\"17f9379b-8ee3-4eb6-9869-700163a1881e\",\"subtype\":\"Figure\",\"type\":\"Plot\"},\"ticker\":{\"id\":\"7c12d41f-ca62-4a82-a52e-947b05b16fd8\",\"type\":\"BasicTicker\"}},\"id\":\"edaa0cb5-b67e-4871-9ec0-763e965b2d78\",\"type\":\"LinearAxis\"},{\"attributes\":{\"plot\":{\"id\":\"17f9379b-8ee3-4eb6-9869-700163a1881e\",\"subtype\":\"Figure\",\"type\":\"Plot\"}},\"id\":\"c4c17a69-98cb-4c4a-af74-7252a7ca8694\",\"type\":\"PanTool\"},{\"attributes\":{\"align\":\"center\",\"plot\":null,\"text\":\"The Performance over the number of neurons' pruned\"},\"id\":\"37698986-b3e0-4e83-93a4-91363c2e8a16\",\"type\":\"Title\"},{\"attributes\":{\"bottom_units\":\"screen\",\"fill_alpha\":{\"value\":0.5},\"fill_color\":{\"value\":\"lightgrey\"},\"left_units\":\"screen\",\"level\":\"overlay\",\"line_alpha\":{\"value\":1.0},\"line_color\":{\"value\":\"black\"},\"line_dash\":[4,4],\"line_width\":{\"value\":2},\"plot\":null,\"render_mode\":\"css\",\"right_units\":\"screen\",\"top_units\":\"screen\"},\"id\":\"f8f7d0e7-fbd6-4ec7-bb59-4d73405b71ad\",\"type\":\"BoxAnnotation\"},{\"attributes\":{\"bottom_units\":\"screen\",\"fill_alpha\":{\"value\":0.5},\"fill_color\":{\"value\":\"lightgrey\"},\"left_units\":\"screen\",\"level\":\"overlay\",\"line_alpha\":{\"value\":1.0},\"line_color\":{\"value\":\"black\"},\"line_dash\":[4,4],\"line_width\":{\"value\":2},\"plot\":null,\"render_mode\":\"css\",\"right_units\":\"screen\",\"top_units\":\"screen\"},\"id\":\"6836c26b-dc27-4f56-b76f-213a28e90832\",\"type\":\"BoxAnnotation\"},{\"attributes\":{\"callback\":null,\"column_names\":[\"x\",\"y\"],\"data\":{\"x\":[0,1,2,3,4,5,6,7,8,9,10,11,12,13,14,15,16,17,18,19,20,21,22,23,24],\"y\":{\"__ndarray__\":\"ip3Y2eJg4T8AAADQZIDhP0/sxM5kgOE/sRM7UfcO4T+e2Ik9JKrgPyd2YueFXuA/xU7sVJ5L4D/FTuyE61HgP2IndnLvkOA/FDuxk0DW4D/sxE48JKrgP0/sxA5vV90/Yid2QhUh3j9iJ3YCmLPcP4qd2KkixNs/FDux06Nw3T+KndgpZ9ncP9mJndgWB9s/T+zEblfd2z/FTuxEiLfbP3ZiJ/YOido/O7ET2zsk2j9iJ3ai/abcPwAAAKCKEN8/2YmdeC6B3D8=\",\"dtype\":\"float64\",\"shape\":[25]}}},\"id\":\"a5fdfec3-20fd-4b1b-9b26-0ae0d5b486a7\",\"type\":\"ColumnDataSource\"},{\"attributes\":{\"overlay\":{\"id\":\"6836c26b-dc27-4f56-b76f-213a28e90832\",\"type\":\"BoxAnnotation\"},\"plot\":{\"id\":\"17f9379b-8ee3-4eb6-9869-700163a1881e\",\"subtype\":\"Figure\",\"type\":\"Plot\"}},\"id\":\"faa07a5d-fd5f-423d-b041-3c6e078169b2\",\"type\":\"BoxZoomTool\"},{\"attributes\":{},\"id\":\"a9e7cdd0-fa9b-47df-b0f1-dce01f8539b3\",\"type\":\"BasicTickFormatter\"},{\"attributes\":{\"callback\":null},\"id\":\"a39c5913-eb06-4868-9165-989dde2e9701\",\"type\":\"DataRange1d\"},{\"attributes\":{},\"id\":\"7c12d41f-ca62-4a82-a52e-947b05b16fd8\",\"type\":\"BasicTicker\"},{\"attributes\":{\"label\":{\"value\":\"Thompson Sampling\"},\"renderers\":[{\"id\":\"a4b6ccf6-9b43-4526-a2ce-f12cfb779d87\",\"type\":\"GlyphRenderer\"}]},\"id\":\"192ef5ba-4329-4da5-8e79-bbf4f64d4d06\",\"type\":\"LegendItem\"},{\"attributes\":{\"active_drag\":\"auto\",\"active_scroll\":\"auto\",\"active_tap\":\"auto\",\"tools\":[{\"id\":\"faa07a5d-fd5f-423d-b041-3c6e078169b2\",\"type\":\"BoxZoomTool\"},{\"id\":\"5c6f9741-d6cf-42df-a085-1e6800582acb\",\"type\":\"BoxSelectTool\"},{\"id\":\"2627e58b-d079-4869-bfa9-82f997964c64\",\"type\":\"CrosshairTool\"},{\"id\":\"5d65ceb6-9769-4042-859a-a9cf7f72392c\",\"type\":\"ResizeTool\"},{\"id\":\"8491a8d1-158d-4002-9456-7945407ead91\",\"type\":\"ResetTool\"},{\"id\":\"08658a82-5b08-4ef6-94f4-5076356fec7d\",\"type\":\"LassoSelectTool\"},{\"id\":\"c4c17a69-98cb-4c4a-af74-7252a7ca8694\",\"type\":\"PanTool\"},{\"id\":\"f122ea98-ab03-4148-9ee0-4eb34a0f13b9\",\"type\":\"SaveTool\"},{\"id\":\"65e18403-66cb-49c7-a02f-532bb0f1c53d\",\"type\":\"PolySelectTool\"},{\"id\":\"988e3fdb-07f8-4f21-b7a7-8401bb31ff6c\",\"type\":\"TapTool\"},{\"id\":\"8356a0e5-eb36-4d8a-adc4-140f66964d2c\",\"type\":\"WheelZoomTool\"},{\"id\":\"69cf43f7-6336-47a9-a264-14d030fb3a1b\",\"type\":\"UndoTool\"}]},\"id\":\"8b520cd8-6528-4aa3-8aff-a813538d5ab0\",\"type\":\"Toolbar\"},{\"attributes\":{\"plot\":{\"id\":\"17f9379b-8ee3-4eb6-9869-700163a1881e\",\"subtype\":\"Figure\",\"type\":\"Plot\"}},\"id\":\"f122ea98-ab03-4148-9ee0-4eb34a0f13b9\",\"type\":\"SaveTool\"},{\"attributes\":{\"line_alpha\":{\"value\":0.1},\"line_color\":{\"value\":\"#1f77b4\"},\"line_width\":{\"value\":2},\"x\":{\"field\":\"x\"},\"y\":{\"field\":\"y\"}},\"id\":\"dee1e314-2608-4938-88fc-77fad4170e4e\",\"type\":\"Line\"},{\"attributes\":{\"callback\":null,\"overlay\":{\"id\":\"8abfcbf4-1647-449e-bcf6-be18e9b0df1f\",\"type\":\"PolyAnnotation\"},\"plot\":{\"id\":\"17f9379b-8ee3-4eb6-9869-700163a1881e\",\"subtype\":\"Figure\",\"type\":\"Plot\"}},\"id\":\"08658a82-5b08-4ef6-94f4-5076356fec7d\",\"type\":\"LassoSelectTool\"},{\"attributes\":{\"callback\":null,\"overlay\":{\"id\":\"f8f7d0e7-fbd6-4ec7-bb59-4d73405b71ad\",\"type\":\"BoxAnnotation\"},\"plot\":{\"id\":\"17f9379b-8ee3-4eb6-9869-700163a1881e\",\"subtype\":\"Figure\",\"type\":\"Plot\"},\"renderers\":[{\"id\":\"350ea275-1ab4-4818-916d-f522f5ba4024\",\"type\":\"GlyphRenderer\"},{\"id\":\"a4b6ccf6-9b43-4526-a2ce-f12cfb779d87\",\"type\":\"GlyphRenderer\"}]},\"id\":\"5c6f9741-d6cf-42df-a085-1e6800582acb\",\"type\":\"BoxSelectTool\"},{\"attributes\":{\"data_source\":{\"id\":\"a5fdfec3-20fd-4b1b-9b26-0ae0d5b486a7\",\"type\":\"ColumnDataSource\"},\"glyph\":{\"id\":\"1ea88b0d-bbc7-43b2-bb76-3bc14e3e439c\",\"type\":\"Line\"},\"hover_glyph\":null,\"nonselection_glyph\":{\"id\":\"dee1e314-2608-4938-88fc-77fad4170e4e\",\"type\":\"Line\"},\"selection_glyph\":null},\"id\":\"a4b6ccf6-9b43-4526-a2ce-f12cfb779d87\",\"type\":\"GlyphRenderer\"},{\"attributes\":{\"plot\":{\"id\":\"17f9379b-8ee3-4eb6-9869-700163a1881e\",\"subtype\":\"Figure\",\"type\":\"Plot\"}},\"id\":\"8491a8d1-158d-4002-9456-7945407ead91\",\"type\":\"ResetTool\"},{\"attributes\":{\"below\":[{\"id\":\"edaa0cb5-b67e-4871-9ec0-763e965b2d78\",\"type\":\"LinearAxis\"}],\"left\":[{\"id\":\"ad064588-7eb7-4168-b835-0962f4d48fa1\",\"type\":\"LinearAxis\"}],\"renderers\":[{\"id\":\"edaa0cb5-b67e-4871-9ec0-763e965b2d78\",\"type\":\"LinearAxis\"},{\"id\":\"60c89119-bd6a-4482-8f65-7a587efc97e1\",\"type\":\"Grid\"},{\"id\":\"ad064588-7eb7-4168-b835-0962f4d48fa1\",\"type\":\"LinearAxis\"},{\"id\":\"4a113203-3999-4dfe-80fc-b598388618b1\",\"type\":\"Grid\"},{\"id\":\"6836c26b-dc27-4f56-b76f-213a28e90832\",\"type\":\"BoxAnnotation\"},{\"id\":\"f8f7d0e7-fbd6-4ec7-bb59-4d73405b71ad\",\"type\":\"BoxAnnotation\"},{\"id\":\"8abfcbf4-1647-449e-bcf6-be18e9b0df1f\",\"type\":\"PolyAnnotation\"},{\"id\":\"8aa7b525-9189-4a87-ada1-b2ff6fe7d684\",\"type\":\"PolyAnnotation\"},{\"id\":\"d78baa98-1680-4924-856f-d16368b8f86e\",\"type\":\"Legend\"},{\"id\":\"350ea275-1ab4-4818-916d-f522f5ba4024\",\"type\":\"GlyphRenderer\"},{\"id\":\"a4b6ccf6-9b43-4526-a2ce-f12cfb779d87\",\"type\":\"GlyphRenderer\"}],\"title\":{\"id\":\"37698986-b3e0-4e83-93a4-91363c2e8a16\",\"type\":\"Title\"},\"tool_events\":{\"id\":\"01833236-e21b-45c6-8897-146f44e94cd7\",\"type\":\"ToolEvents\"},\"toolbar\":{\"id\":\"8b520cd8-6528-4aa3-8aff-a813538d5ab0\",\"type\":\"Toolbar\"},\"x_range\":{\"id\":\"a39c5913-eb06-4868-9165-989dde2e9701\",\"type\":\"DataRange1d\"},\"y_range\":{\"id\":\"3a6d2476-3ef7-4c96-b136-4845924f0da7\",\"type\":\"DataRange1d\"}},\"id\":\"17f9379b-8ee3-4eb6-9869-700163a1881e\",\"subtype\":\"Figure\",\"type\":\"Plot\"},{\"attributes\":{},\"id\":\"bbf1daea-08a7-4938-8576-4b2b68a92caf\",\"type\":\"BasicTicker\"},{\"attributes\":{\"items\":[{\"id\":\"ac097715-b7f4-4687-8263-1e6a3473a823\",\"type\":\"LegendItem\"},{\"id\":\"192ef5ba-4329-4da5-8e79-bbf4f64d4d06\",\"type\":\"LegendItem\"}],\"plot\":{\"id\":\"17f9379b-8ee3-4eb6-9869-700163a1881e\",\"subtype\":\"Figure\",\"type\":\"Plot\"}},\"id\":\"d78baa98-1680-4924-856f-d16368b8f86e\",\"type\":\"Legend\"},{\"attributes\":{\"plot\":{\"id\":\"17f9379b-8ee3-4eb6-9869-700163a1881e\",\"subtype\":\"Figure\",\"type\":\"Plot\"}},\"id\":\"8356a0e5-eb36-4d8a-adc4-140f66964d2c\",\"type\":\"WheelZoomTool\"},{\"attributes\":{\"data_source\":{\"id\":\"b383c89b-e2c5-4e50-af15-430cbf38231d\",\"type\":\"ColumnDataSource\"},\"glyph\":{\"id\":\"d3cf7001-223d-49c8-9c8f-3303ec929c37\",\"type\":\"Line\"},\"hover_glyph\":null,\"nonselection_glyph\":{\"id\":\"8415ef1b-e3c5-45dd-8551-11d2cae3a99e\",\"type\":\"Line\"},\"selection_glyph\":null},\"id\":\"350ea275-1ab4-4818-916d-f522f5ba4024\",\"type\":\"GlyphRenderer\"},{\"attributes\":{\"plot\":{\"id\":\"17f9379b-8ee3-4eb6-9869-700163a1881e\",\"subtype\":\"Figure\",\"type\":\"Plot\"}},\"id\":\"5d65ceb6-9769-4042-859a-a9cf7f72392c\",\"type\":\"ResizeTool\"},{\"attributes\":{\"line_alpha\":{\"value\":0.1},\"line_color\":{\"value\":\"#1f77b4\"},\"line_width\":{\"value\":2},\"x\":{\"field\":\"x\"},\"y\":{\"field\":\"y\"}},\"id\":\"8415ef1b-e3c5-45dd-8551-11d2cae3a99e\",\"type\":\"Line\"},{\"attributes\":{},\"id\":\"acbf1515-846e-4754-a42e-a8b92112ca95\",\"type\":\"BasicTickFormatter\"},{\"attributes\":{\"overlay\":{\"id\":\"8aa7b525-9189-4a87-ada1-b2ff6fe7d684\",\"type\":\"PolyAnnotation\"},\"plot\":{\"id\":\"17f9379b-8ee3-4eb6-9869-700163a1881e\",\"subtype\":\"Figure\",\"type\":\"Plot\"}},\"id\":\"65e18403-66cb-49c7-a02f-532bb0f1c53d\",\"type\":\"PolySelectTool\"},{\"attributes\":{\"callback\":null,\"plot\":{\"id\":\"17f9379b-8ee3-4eb6-9869-700163a1881e\",\"subtype\":\"Figure\",\"type\":\"Plot\"}},\"id\":\"988e3fdb-07f8-4f21-b7a7-8401bb31ff6c\",\"type\":\"TapTool\"},{\"attributes\":{\"label\":{\"value\":\"ucb1\"},\"renderers\":[{\"id\":\"350ea275-1ab4-4818-916d-f522f5ba4024\",\"type\":\"GlyphRenderer\"}]},\"id\":\"ac097715-b7f4-4687-8263-1e6a3473a823\",\"type\":\"LegendItem\"},{\"attributes\":{\"formatter\":{\"id\":\"acbf1515-846e-4754-a42e-a8b92112ca95\",\"type\":\"BasicTickFormatter\"},\"plot\":{\"id\":\"17f9379b-8ee3-4eb6-9869-700163a1881e\",\"subtype\":\"Figure\",\"type\":\"Plot\"},\"ticker\":{\"id\":\"bbf1daea-08a7-4938-8576-4b2b68a92caf\",\"type\":\"BasicTicker\"}},\"id\":\"ad064588-7eb7-4168-b835-0962f4d48fa1\",\"type\":\"LinearAxis\"},{\"attributes\":{\"plot\":{\"id\":\"17f9379b-8ee3-4eb6-9869-700163a1881e\",\"subtype\":\"Figure\",\"type\":\"Plot\"}},\"id\":\"2627e58b-d079-4869-bfa9-82f997964c64\",\"type\":\"CrosshairTool\"},{\"attributes\":{\"fill_alpha\":{\"value\":0.5},\"fill_color\":{\"value\":\"lightgrey\"},\"level\":\"overlay\",\"line_alpha\":{\"value\":1.0},\"line_color\":{\"value\":\"black\"},\"line_dash\":[4,4],\"line_width\":{\"value\":2},\"plot\":null,\"xs_units\":\"screen\",\"ys_units\":\"screen\"},\"id\":\"8aa7b525-9189-4a87-ada1-b2ff6fe7d684\",\"type\":\"PolyAnnotation\"},{\"attributes\":{\"fill_alpha\":{\"value\":0.5},\"fill_color\":{\"value\":\"lightgrey\"},\"level\":\"overlay\",\"line_alpha\":{\"value\":1.0},\"line_color\":{\"value\":\"black\"},\"line_dash\":[4,4],\"line_width\":{\"value\":2},\"plot\":null,\"xs_units\":\"screen\",\"ys_units\":\"screen\"},\"id\":\"8abfcbf4-1647-449e-bcf6-be18e9b0df1f\",\"type\":\"PolyAnnotation\"},{\"attributes\":{\"line_color\":{\"value\":\"red\"},\"line_width\":{\"value\":2},\"x\":{\"field\":\"x\"},\"y\":{\"field\":\"y\"}},\"id\":\"1ea88b0d-bbc7-43b2-bb76-3bc14e3e439c\",\"type\":\"Line\"},{\"attributes\":{\"plot\":{\"id\":\"17f9379b-8ee3-4eb6-9869-700163a1881e\",\"subtype\":\"Figure\",\"type\":\"Plot\"}},\"id\":\"69cf43f7-6336-47a9-a264-14d030fb3a1b\",\"type\":\"UndoTool\"},{\"attributes\":{\"plot\":{\"id\":\"17f9379b-8ee3-4eb6-9869-700163a1881e\",\"subtype\":\"Figure\",\"type\":\"Plot\"},\"ticker\":{\"id\":\"7c12d41f-ca62-4a82-a52e-947b05b16fd8\",\"type\":\"BasicTicker\"}},\"id\":\"60c89119-bd6a-4482-8f65-7a587efc97e1\",\"type\":\"Grid\"},{\"attributes\":{\"callback\":null,\"column_names\":[\"x\",\"y\"],\"data\":{\"x\":[0,1,2,3,4,5,6,7,8,9,10,11,12,13,14,15,16,17,18,19,20,21,22,23,24],\"y\":{\"__ndarray__\":\"FDuxw2i/4T9iJ3aiF3rhP4qd2NniYOE/7MRObMpz4T/ZiZ3Y4mDhP7ETO7ETO+E/7MROnL624D8ndmInKOngPwAAAIDrUeA/7MRO7AM/4D8ndmIHJR3fPwAAAMCCkt4/2YmdWMNo3z/ZiZ0Y/MDfP+zETmyWzd8/Yid2QqKK4D87sRMb02TgP+zETkzsxN4/2YmdGEb73T/sxE5sCWTdPxQ7sfPAD9w/FDuxc3z62j/ZiZ14oRfaP4qd2GnKc9k/2YmdeC6B3D8=\",\"dtype\":\"float64\",\"shape\":[25]}}},\"id\":\"b383c89b-e2c5-4e50-af15-430cbf38231d\",\"type\":\"ColumnDataSource\"}],\"root_ids\":[\"17f9379b-8ee3-4eb6-9869-700163a1881e\"]},\"title\":\"Bokeh Application\",\"version\":\"0.12.4\"}};\n",
       "            var render_items = [{\"docid\":\"b04e8470-e656-47ba-b34c-4541123d6a7e\",\"elementid\":\"af28f603-625a-44ec-8d9c-a1052b31a1bb\",\"modelid\":\"17f9379b-8ee3-4eb6-9869-700163a1881e\"}];\n",
       "            \n",
       "            Bokeh.embed.embed_items(docs_json, render_items);\n",
       "          };\n",
       "          if (document.readyState != \"loading\") fn();\n",
       "          else document.addEventListener(\"DOMContentLoaded\", fn);\n",
       "        })();\n",
       "      },\n",
       "      function(Bokeh) {\n",
       "      }\n",
       "    ];\n",
       "  \n",
       "    function run_inline_js() {\n",
       "      \n",
       "      if ((window.Bokeh !== undefined) || (force === true)) {\n",
       "        for (var i = 0; i < inline_js.length; i++) {\n",
       "          inline_js[i](window.Bokeh);\n",
       "        }if (force === true) {\n",
       "          display_loaded();\n",
       "        }} else if (Date.now() < window._bokeh_timeout) {\n",
       "        setTimeout(run_inline_js, 100);\n",
       "      } else if (!window._bokeh_failed_load) {\n",
       "        console.log(\"Bokeh: BokehJS failed to load within specified timeout.\");\n",
       "        window._bokeh_failed_load = true;\n",
       "      } else if (force !== true) {\n",
       "        var cell = $(document.getElementById(\"af28f603-625a-44ec-8d9c-a1052b31a1bb\")).parents('.cell').data().cell;\n",
       "        cell.output_area.append_execute_result(NB_LOAD_WARNING)\n",
       "      }\n",
       "  \n",
       "    }\n",
       "  \n",
       "    if (window._bokeh_is_loading === 0) {\n",
       "      console.log(\"Bokeh: BokehJS loaded, going straight to plotting\");\n",
       "      run_inline_js();\n",
       "    } else {\n",
       "      load_libs(js_urls, function() {\n",
       "        console.log(\"Bokeh: BokehJS plotting callback run at\", now());\n",
       "        run_inline_js();\n",
       "      });\n",
       "    }\n",
       "  }(this));\n",
       "</script>"
      ]
     },
     "metadata": {},
     "output_type": "display_data"
    }
   ],
   "source": [
    "p1 = figure(title=\"The Performance over the number of neurons' pruned\", tools=TOOLS)\n",
    "p1.line(ind, ucb1, legend=\"ucb1\", line_color=\"blue\", line_width=2)\n",
    "p1.line(ind, ThompsonSampling, legend=\"Thompson Sampling\", line_color=\"red\", line_width=2)\n",
    "p1.title.align = \"center\"\n",
    "show(p1)"
   ]
  },
  {
   "cell_type": "markdown",
   "metadata": {},
   "source": [
    "# Comparing All algorithms with the model before pruning"
   ]
  },
  {
   "cell_type": "code",
   "execution_count": 10,
   "metadata": {
    "collapsed": false
   },
   "outputs": [
    {
     "data": {
      "image/png": "[encoded data removed]",
      "text/plain": [
       "<matplotlib.figure.Figure at 0x10e478f28>"
      ]
     },
     "metadata": {},
     "output_type": "display_data"
    }
   ],
   "source": [
    "fig = plt.figure(figsize=(10, 6), dpi=80)\n",
    "ax = fig.add_subplot(111)\n",
    "N = len(ucb1)\n",
    "Acc = [Accuracy for col in range(N)]\n",
    "ind = np.arange(N)                # the x locations for the groups\n",
    "plt.plot(ind , ucb1 , color=\"blue\", linewidth=2.5, linestyle=\"-\", label=\"UCB1\")\n",
    "plt.plot(ind , ThompsonSampling, color=\"orange\", linewidth=2.5, linestyle=\"-\", label=\"Thompson Sampling\")\n",
    "plt.plot(ind , Acc, color=\"pink\", linewidth=2.5, linestyle=\"-\", label=\"Accuracy before Pruning\")\n",
    "plt.legend(loc = 3)\n",
    "plt.axis([0, 25, 0, 1])\n",
    "plt.xlabel('Number of pruned Neurons')\n",
    "plt.ylabel('The Accuracy')\n",
    "plt.grid(True)\n",
    "plt.show()"
   ]
  },
  {
   "cell_type": "code",
   "execution_count": 11,
   "metadata": {
    "collapsed": false
   },
   "outputs": [
    {
     "data": {
      "text/html": [
       "\n",
       "\n",
       "    <div class=\"bk-root\">\n",
       "        <div class=\"bk-plotdiv\" id=\"b737f0ab-d266-4a1e-b738-61d328296a7c\"></div>\n",
       "    </div>\n",
       "<script type=\"text/javascript\">\n",
       "  \n",
       "  (function(global) {\n",
       "    function now() {\n",
       "      return new Date();\n",
       "    }\n",
       "  \n",
       "    var force = false;\n",
       "  \n",
       "    if (typeof (window._bokeh_onload_callbacks) === \"undefined\" || force === true) {\n",
       "      window._bokeh_onload_callbacks = [];\n",
       "      window._bokeh_is_loading = undefined;\n",
       "    }\n",
       "  \n",
       "  \n",
       "    \n",
       "    if (typeof (window._bokeh_timeout) === \"undefined\" || force === true) {\n",
       "      window._bokeh_timeout = Date.now() + 0;\n",
       "      window._bokeh_failed_load = false;\n",
       "    }\n",
       "  \n",
       "    var NB_LOAD_WARNING = {'data': {'text/html':\n",
       "       \"<div style='background-color: #fdd'>\\n\"+\n",
       "       \"<p>\\n\"+\n",
       "       \"BokehJS does not appear to have successfully loaded. If loading BokehJS from CDN, this \\n\"+\n",
       "       \"may be due to a slow or bad network connection. Possible fixes:\\n\"+\n",
       "       \"</p>\\n\"+\n",
       "       \"<ul>\\n\"+\n",
       "       \"<li>re-rerun `output_notebook()` to attempt to load from CDN again, or</li>\\n\"+\n",
       "       \"<li>use INLINE resources instead, as so:</li>\\n\"+\n",
       "       \"</ul>\\n\"+\n",
       "       \"<code>\\n\"+\n",
       "       \"from bokeh.resources import INLINE\\n\"+\n",
       "       \"output_notebook(resources=INLINE)\\n\"+\n",
       "       \"</code>\\n\"+\n",
       "       \"</div>\"}};\n",
       "  \n",
       "    function display_loaded() {\n",
       "      if (window.Bokeh !== undefined) {\n",
       "        document.getElementById(\"b737f0ab-d266-4a1e-b738-61d328296a7c\").textContent = \"BokehJS successfully loaded.\";\n",
       "      } else if (Date.now() < window._bokeh_timeout) {\n",
       "        setTimeout(display_loaded, 100)\n",
       "      }\n",
       "    }\n",
       "  \n",
       "    function run_callbacks() {\n",
       "      window._bokeh_onload_callbacks.forEach(function(callback) { callback() });\n",
       "      delete window._bokeh_onload_callbacks\n",
       "      console.info(\"Bokeh: all callbacks have finished\");\n",
       "    }\n",
       "  \n",
       "    function load_libs(js_urls, callback) {\n",
       "      window._bokeh_onload_callbacks.push(callback);\n",
       "      if (window._bokeh_is_loading > 0) {\n",
       "        console.log(\"Bokeh: BokehJS is being loaded, scheduling callback at\", now());\n",
       "        return null;\n",
       "      }\n",
       "      if (js_urls == null || js_urls.length === 0) {\n",
       "        run_callbacks();\n",
       "        return null;\n",
       "      }\n",
       "      console.log(\"Bokeh: BokehJS not loaded, scheduling load and callback at\", now());\n",
       "      window._bokeh_is_loading = js_urls.length;\n",
       "      for (var i = 0; i < js_urls.length; i++) {\n",
       "        var url = js_urls[i];\n",
       "        var s = document.createElement('script');\n",
       "        s.src = url;\n",
       "        s.async = false;\n",
       "        s.onreadystatechange = s.onload = function() {\n",
       "          window._bokeh_is_loading--;\n",
       "          if (window._bokeh_is_loading === 0) {\n",
       "            console.log(\"Bokeh: all BokehJS libraries loaded\");\n",
       "            run_callbacks()\n",
       "          }\n",
       "        };\n",
       "        s.onerror = function() {\n",
       "          console.warn(\"failed to load library \" + url);\n",
       "        };\n",
       "        console.log(\"Bokeh: injecting script tag for BokehJS library: \", url);\n",
       "        document.getElementsByTagName(\"head\")[0].appendChild(s);\n",
       "      }\n",
       "    };var element = document.getElementById(\"b737f0ab-d266-4a1e-b738-61d328296a7c\");\n",
       "    if (element == null) {\n",
       "      console.log(\"Bokeh: ERROR: autoload.js configured with elementid 'b737f0ab-d266-4a1e-b738-61d328296a7c' but no matching script tag was found. \")\n",
       "      return false;\n",
       "    }\n",
       "  \n",
       "    var js_urls = [];\n",
       "  \n",
       "    var inline_js = [\n",
       "      function(Bokeh) {\n",
       "        (function() {\n",
       "          var fn = function() {\n",
       "            var docs_json = {\"8366cf72-a6fd-4e43-8085-7f9e8792d7d3\":{\"roots\":{\"references\":[{\"attributes\":{\"line_color\":{\"value\":\"red\"},\"line_width\":{\"value\":2},\"x\":{\"field\":\"x\"},\"y\":{\"field\":\"y\"}},\"id\":\"d4137988-928b-4f6f-8b64-7ada58e30dae\",\"type\":\"Line\"},{\"attributes\":{\"callback\":null,\"column_names\":[\"x\",\"y\"],\"data\":{\"x\":[0,1,2,3,4,5,6,7,8,9,10,11,12,13,14,15,16,17,18,19,20,21,22,23,24],\"y\":[{\"__ndarray__\":\"mgwwl0DW4D8=\",\"dtype\":\"float64\",\"shape\":[]},{\"__ndarray__\":\"mgwwl0DW4D8=\",\"dtype\":\"float64\",\"shape\":[]},{\"__ndarray__\":\"mgwwl0DW4D8=\",\"dtype\":\"float64\",\"shape\":[]},{\"__ndarray__\":\"mgwwl0DW4D8=\",\"dtype\":\"float64\",\"shape\":[]},{\"__ndarray__\":\"mgwwl0DW4D8=\",\"dtype\":\"float64\",\"shape\":[]},{\"__ndarray__\":\"mgwwl0DW4D8=\",\"dtype\":\"float64\",\"shape\":[]},{\"__ndarray__\":\"mgwwl0DW4D8=\",\"dtype\":\"float64\",\"shape\":[]},{\"__ndarray__\":\"mgwwl0DW4D8=\",\"dtype\":\"float64\",\"shape\":[]},{\"__ndarray__\":\"mgwwl0DW4D8=\",\"dtype\":\"float64\",\"shape\":[]},{\"__ndarray__\":\"mgwwl0DW4D8=\",\"dtype\":\"float64\",\"shape\":[]},{\"__ndarray__\":\"mgwwl0DW4D8=\",\"dtype\":\"float64\",\"shape\":[]},{\"__ndarray__\":\"mgwwl0DW4D8=\",\"dtype\":\"float64\",\"shape\":[]},{\"__ndarray__\":\"mgwwl0DW4D8=\",\"dtype\":\"float64\",\"shape\":[]},{\"__ndarray__\":\"mgwwl0DW4D8=\",\"dtype\":\"float64\",\"shape\":[]},{\"__ndarray__\":\"mgwwl0DW4D8=\",\"dtype\":\"float64\",\"shape\":[]},{\"__ndarray__\":\"mgwwl0DW4D8=\",\"dtype\":\"float64\",\"shape\":[]},{\"__ndarray__\":\"mgwwl0DW4D8=\",\"dtype\":\"float64\",\"shape\":[]},{\"__ndarray__\":\"mgwwl0DW4D8=\",\"dtype\":\"float64\",\"shape\":[]},{\"__ndarray__\":\"mgwwl0DW4D8=\",\"dtype\":\"float64\",\"shape\":[]},{\"__ndarray__\":\"mgwwl0DW4D8=\",\"dtype\":\"float64\",\"shape\":[]},{\"__ndarray__\":\"mgwwl0DW4D8=\",\"dtype\":\"float64\",\"shape\":[]},{\"__ndarray__\":\"mgwwl0DW4D8=\",\"dtype\":\"float64\",\"shape\":[]},{\"__ndarray__\":\"mgwwl0DW4D8=\",\"dtype\":\"float64\",\"shape\":[]},{\"__ndarray__\":\"mgwwl0DW4D8=\",\"dtype\":\"float64\",\"shape\":[]},{\"__ndarray__\":\"mgwwl0DW4D8=\",\"dtype\":\"float64\",\"shape\":[]}]}},\"id\":\"96c17619-be2c-473f-8ad9-294395285f32\",\"type\":\"ColumnDataSource\"},{\"attributes\":{\"callback\":null,\"column_names\":[\"x\",\"y\"],\"data\":{\"x\":[0,1,2,3,4,5,6,7,8,9,10,11,12,13,14,15,16,17,18,19,20,21,22,23,24],\"y\":{\"__ndarray__\":\"FDuxw2i/4T9iJ3aiF3rhP4qd2NniYOE/7MRObMpz4T/ZiZ3Y4mDhP7ETO7ETO+E/7MROnL624D8ndmInKOngPwAAAIDrUeA/7MRO7AM/4D8ndmIHJR3fPwAAAMCCkt4/2YmdWMNo3z/ZiZ0Y/MDfP+zETmyWzd8/Yid2QqKK4D87sRMb02TgP+zETkzsxN4/2YmdGEb73T/sxE5sCWTdPxQ7sfPAD9w/FDuxc3z62j/ZiZ14oRfaP4qd2GnKc9k/2YmdeC6B3D8=\",\"dtype\":\"float64\",\"shape\":[25]}}},\"id\":\"47b7bfa0-3f2a-448c-93f7-857b448ff04d\",\"type\":\"ColumnDataSource\"},{\"attributes\":{\"callback\":null},\"id\":\"4e649eb7-b743-4d90-a3c1-6cd93078f186\",\"type\":\"DataRange1d\"},{\"attributes\":{\"dimension\":1,\"plot\":{\"id\":\"4885a0d6-4b5a-45b6-88d5-df2c8f68576c\",\"subtype\":\"Figure\",\"type\":\"Plot\"},\"ticker\":{\"id\":\"7664473b-26c3-46b8-8b62-44021da7a4ef\",\"type\":\"BasicTicker\"}},\"id\":\"1dd86744-0752-47c5-8c2b-5395db052e30\",\"type\":\"Grid\"},{\"attributes\":{\"callback\":null,\"plot\":{\"id\":\"4885a0d6-4b5a-45b6-88d5-df2c8f68576c\",\"subtype\":\"Figure\",\"type\":\"Plot\"}},\"id\":\"69820e31-72de-4a83-8b4c-e3338a4c1732\",\"type\":\"TapTool\"},{\"attributes\":{\"callback\":null,\"column_names\":[\"x\",\"y\"],\"data\":{\"x\":[0,1,2,3,4,5,6,7,8,9,10,11,12,13,14,15,16,17,18,19,20,21,22,23,24],\"y\":{\"__ndarray__\":\"ip3Y2eJg4T8AAADQZIDhP0/sxM5kgOE/sRM7UfcO4T+e2Ik9JKrgPyd2YueFXuA/xU7sVJ5L4D/FTuyE61HgP2IndnLvkOA/FDuxk0DW4D/sxE48JKrgP0/sxA5vV90/Yid2QhUh3j9iJ3YCmLPcP4qd2KkixNs/FDux06Nw3T+KndgpZ9ncP9mJndgWB9s/T+zEblfd2z/FTuxEiLfbP3ZiJ/YOido/O7ET2zsk2j9iJ3ai/abcPwAAAKCKEN8/2YmdeC6B3D8=\",\"dtype\":\"float64\",\"shape\":[25]}}},\"id\":\"444b4c85-b5dd-4e9f-8e20-5bae76a5b899\",\"type\":\"ColumnDataSource\"},{\"attributes\":{\"plot\":{\"id\":\"4885a0d6-4b5a-45b6-88d5-df2c8f68576c\",\"subtype\":\"Figure\",\"type\":\"Plot\"}},\"id\":\"e17e8918-95a2-4fa6-b0a8-42292a96ef62\",\"type\":\"WheelZoomTool\"},{\"attributes\":{},\"id\":\"0c5a245f-7c03-40ad-bb31-9496cd8c659d\",\"type\":\"ToolEvents\"},{\"attributes\":{\"plot\":{\"id\":\"4885a0d6-4b5a-45b6-88d5-df2c8f68576c\",\"subtype\":\"Figure\",\"type\":\"Plot\"}},\"id\":\"aed5dc8b-d7eb-4ff6-b6c6-96d988d0f378\",\"type\":\"PanTool\"},{\"attributes\":{\"line_alpha\":{\"value\":0.1},\"line_color\":{\"value\":\"#1f77b4\"},\"line_width\":{\"value\":2},\"x\":{\"field\":\"x\"},\"y\":{\"field\":\"y\"}},\"id\":\"228b9574-c791-4dc5-a3aa-006afce9b026\",\"type\":\"Line\"},{\"attributes\":{\"bottom_units\":\"screen\",\"fill_alpha\":{\"value\":0.5},\"fill_color\":{\"value\":\"lightgrey\"},\"left_units\":\"screen\",\"level\":\"overlay\",\"line_alpha\":{\"value\":1.0},\"line_color\":{\"value\":\"black\"},\"line_dash\":[4,4],\"line_width\":{\"value\":2},\"plot\":null,\"render_mode\":\"css\",\"right_units\":\"screen\",\"top_units\":\"screen\"},\"id\":\"541389f8-63a6-499f-9eb2-f96a797528a7\",\"type\":\"BoxAnnotation\"},{\"attributes\":{\"label\":{\"value\":\"Thompson Sampling\"},\"renderers\":[{\"id\":\"105a5474-582f-4168-b685-7055b239196e\",\"type\":\"GlyphRenderer\"}]},\"id\":\"a4cdeb29-657a-44fc-9d18-667dbce576b4\",\"type\":\"LegendItem\"},{\"attributes\":{\"line_color\":{\"value\":\"green\"},\"line_width\":{\"value\":2},\"x\":{\"field\":\"x\"},\"y\":{\"field\":\"y\"}},\"id\":\"db404f8b-a4f9-43e9-9c11-23437e9bfb6b\",\"type\":\"Line\"},{\"attributes\":{\"fill_alpha\":{\"value\":0.5},\"fill_color\":{\"value\":\"lightgrey\"},\"level\":\"overlay\",\"line_alpha\":{\"value\":1.0},\"line_color\":{\"value\":\"black\"},\"line_dash\":[4,4],\"line_width\":{\"value\":2},\"plot\":null,\"xs_units\":\"screen\",\"ys_units\":\"screen\"},\"id\":\"52f7ec2a-907b-4af8-88ae-82b24d54334b\",\"type\":\"PolyAnnotation\"},{\"attributes\":{},\"id\":\"4deea17d-b532-466d-a8d2-f1176544030d\",\"type\":\"BasicTickFormatter\"},{\"attributes\":{\"bottom_units\":\"screen\",\"fill_alpha\":{\"value\":0.5},\"fill_color\":{\"value\":\"lightgrey\"},\"left_units\":\"screen\",\"level\":\"overlay\",\"line_alpha\":{\"value\":1.0},\"line_color\":{\"value\":\"black\"},\"line_dash\":[4,4],\"line_width\":{\"value\":2},\"plot\":null,\"render_mode\":\"css\",\"right_units\":\"screen\",\"top_units\":\"screen\"},\"id\":\"1c23d5b4-740d-43da-9e84-bf2e051d873c\",\"type\":\"BoxAnnotation\"},{\"attributes\":{\"data_source\":{\"id\":\"444b4c85-b5dd-4e9f-8e20-5bae76a5b899\",\"type\":\"ColumnDataSource\"},\"glyph\":{\"id\":\"d4137988-928b-4f6f-8b64-7ada58e30dae\",\"type\":\"Line\"},\"hover_glyph\":null,\"nonselection_glyph\":{\"id\":\"228b9574-c791-4dc5-a3aa-006afce9b026\",\"type\":\"Line\"},\"selection_glyph\":null},\"id\":\"105a5474-582f-4168-b685-7055b239196e\",\"type\":\"GlyphRenderer\"},{\"attributes\":{\"plot\":{\"id\":\"4885a0d6-4b5a-45b6-88d5-df2c8f68576c\",\"subtype\":\"Figure\",\"type\":\"Plot\"}},\"id\":\"351d7df8-a95a-4a0c-90b0-5231bfbf1fc9\",\"type\":\"SaveTool\"},{\"attributes\":{\"plot\":{\"id\":\"4885a0d6-4b5a-45b6-88d5-df2c8f68576c\",\"subtype\":\"Figure\",\"type\":\"Plot\"}},\"id\":\"0ea18085-f2ac-4a4b-98a4-efda0279354e\",\"type\":\"ResetTool\"},{\"attributes\":{\"fill_alpha\":{\"value\":0.5},\"fill_color\":{\"value\":\"lightgrey\"},\"level\":\"overlay\",\"line_alpha\":{\"value\":1.0},\"line_color\":{\"value\":\"black\"},\"line_dash\":[4,4],\"line_width\":{\"value\":2},\"plot\":null,\"xs_units\":\"screen\",\"ys_units\":\"screen\"},\"id\":\"ba6b701d-18d7-4001-aacf-5401b8aaf7b2\",\"type\":\"PolyAnnotation\"},{\"attributes\":{\"line_alpha\":{\"value\":0.1},\"line_color\":{\"value\":\"#1f77b4\"},\"line_width\":{\"value\":2},\"x\":{\"field\":\"x\"},\"y\":{\"field\":\"y\"}},\"id\":\"c0cb8232-db1a-4bdb-b0f3-5c812090eccc\",\"type\":\"Line\"},{\"attributes\":{\"data_source\":{\"id\":\"47b7bfa0-3f2a-448c-93f7-857b448ff04d\",\"type\":\"ColumnDataSource\"},\"glyph\":{\"id\":\"db404f8b-a4f9-43e9-9c11-23437e9bfb6b\",\"type\":\"Line\"},\"hover_glyph\":null,\"nonselection_glyph\":{\"id\":\"c0cb8232-db1a-4bdb-b0f3-5c812090eccc\",\"type\":\"Line\"},\"selection_glyph\":null},\"id\":\"fa4fc8d8-b115-4ccd-ad92-440a167ae360\",\"type\":\"GlyphRenderer\"},{\"attributes\":{\"label\":{\"value\":\"ucb1\"},\"renderers\":[{\"id\":\"fa4fc8d8-b115-4ccd-ad92-440a167ae360\",\"type\":\"GlyphRenderer\"}]},\"id\":\"c7c65dd2-d38f-438d-b46f-c914e2cde2cc\",\"type\":\"LegendItem\"},{\"attributes\":{\"overlay\":{\"id\":\"541389f8-63a6-499f-9eb2-f96a797528a7\",\"type\":\"BoxAnnotation\"},\"plot\":{\"id\":\"4885a0d6-4b5a-45b6-88d5-df2c8f68576c\",\"subtype\":\"Figure\",\"type\":\"Plot\"}},\"id\":\"eaaf1263-1782-409a-88cb-352ab0deae30\",\"type\":\"BoxZoomTool\"},{\"attributes\":{\"overlay\":{\"id\":\"52f7ec2a-907b-4af8-88ae-82b24d54334b\",\"type\":\"PolyAnnotation\"},\"plot\":{\"id\":\"4885a0d6-4b5a-45b6-88d5-df2c8f68576c\",\"subtype\":\"Figure\",\"type\":\"Plot\"}},\"id\":\"e9d17197-b6d1-42e3-bf51-415e90e52771\",\"type\":\"PolySelectTool\"},{\"attributes\":{\"plot\":{\"id\":\"4885a0d6-4b5a-45b6-88d5-df2c8f68576c\",\"subtype\":\"Figure\",\"type\":\"Plot\"}},\"id\":\"9b0df02a-cee2-4cb4-bc26-c276518b57fe\",\"type\":\"ResizeTool\"},{\"attributes\":{\"callback\":null,\"overlay\":{\"id\":\"ba6b701d-18d7-4001-aacf-5401b8aaf7b2\",\"type\":\"PolyAnnotation\"},\"plot\":{\"id\":\"4885a0d6-4b5a-45b6-88d5-df2c8f68576c\",\"subtype\":\"Figure\",\"type\":\"Plot\"}},\"id\":\"9573b034-f472-4b91-a7a5-bf3efdb5c2b8\",\"type\":\"LassoSelectTool\"},{\"attributes\":{\"active_drag\":\"auto\",\"active_scroll\":\"auto\",\"active_tap\":\"auto\",\"tools\":[{\"id\":\"eaaf1263-1782-409a-88cb-352ab0deae30\",\"type\":\"BoxZoomTool\"},{\"id\":\"233ef2e6-2a69-4b69-a2b7-77a91d541958\",\"type\":\"BoxSelectTool\"},{\"id\":\"885ca78e-e6c1-472e-8a8e-b30f2db236cb\",\"type\":\"CrosshairTool\"},{\"id\":\"9b0df02a-cee2-4cb4-bc26-c276518b57fe\",\"type\":\"ResizeTool\"},{\"id\":\"0ea18085-f2ac-4a4b-98a4-efda0279354e\",\"type\":\"ResetTool\"},{\"id\":\"9573b034-f472-4b91-a7a5-bf3efdb5c2b8\",\"type\":\"LassoSelectTool\"},{\"id\":\"aed5dc8b-d7eb-4ff6-b6c6-96d988d0f378\",\"type\":\"PanTool\"},{\"id\":\"351d7df8-a95a-4a0c-90b0-5231bfbf1fc9\",\"type\":\"SaveTool\"},{\"id\":\"e9d17197-b6d1-42e3-bf51-415e90e52771\",\"type\":\"PolySelectTool\"},{\"id\":\"69820e31-72de-4a83-8b4c-e3338a4c1732\",\"type\":\"TapTool\"},{\"id\":\"e17e8918-95a2-4fa6-b0a8-42292a96ef62\",\"type\":\"WheelZoomTool\"},{\"id\":\"7c81542a-16b1-42c0-9b83-0cac5fd0dfae\",\"type\":\"UndoTool\"}]},\"id\":\"9dc16265-5381-433e-9cf3-279088d4f356\",\"type\":\"Toolbar\"},{\"attributes\":{\"plot\":{\"id\":\"4885a0d6-4b5a-45b6-88d5-df2c8f68576c\",\"subtype\":\"Figure\",\"type\":\"Plot\"}},\"id\":\"7c81542a-16b1-42c0-9b83-0cac5fd0dfae\",\"type\":\"UndoTool\"},{\"attributes\":{\"align\":\"center\",\"plot\":null,\"text\":\"The Performance over the number of neurons' pruned\"},\"id\":\"8c15fae7-6359-4675-aadc-4799d23f164d\",\"type\":\"Title\"},{\"attributes\":{\"plot\":{\"id\":\"4885a0d6-4b5a-45b6-88d5-df2c8f68576c\",\"subtype\":\"Figure\",\"type\":\"Plot\"}},\"id\":\"885ca78e-e6c1-472e-8a8e-b30f2db236cb\",\"type\":\"CrosshairTool\"},{\"attributes\":{\"formatter\":{\"id\":\"4deea17d-b532-466d-a8d2-f1176544030d\",\"type\":\"BasicTickFormatter\"},\"plot\":{\"id\":\"4885a0d6-4b5a-45b6-88d5-df2c8f68576c\",\"subtype\":\"Figure\",\"type\":\"Plot\"},\"ticker\":{\"id\":\"6f31f1fb-5872-451f-a93f-6984464e6d24\",\"type\":\"BasicTicker\"}},\"id\":\"ae347f10-8921-4ab0-b646-b72c0e1d32ee\",\"type\":\"LinearAxis\"},{\"attributes\":{},\"id\":\"7664473b-26c3-46b8-8b62-44021da7a4ef\",\"type\":\"BasicTicker\"},{\"attributes\":{},\"id\":\"6f31f1fb-5872-451f-a93f-6984464e6d24\",\"type\":\"BasicTicker\"},{\"attributes\":{\"formatter\":{\"id\":\"c03263c8-21c4-42e8-9084-61d8c05a9680\",\"type\":\"BasicTickFormatter\"},\"plot\":{\"id\":\"4885a0d6-4b5a-45b6-88d5-df2c8f68576c\",\"subtype\":\"Figure\",\"type\":\"Plot\"},\"ticker\":{\"id\":\"7664473b-26c3-46b8-8b62-44021da7a4ef\",\"type\":\"BasicTicker\"}},\"id\":\"20462c19-e7f0-4fbe-91aa-ac69490b266f\",\"type\":\"LinearAxis\"},{\"attributes\":{\"callback\":null,\"overlay\":{\"id\":\"1c23d5b4-740d-43da-9e84-bf2e051d873c\",\"type\":\"BoxAnnotation\"},\"plot\":{\"id\":\"4885a0d6-4b5a-45b6-88d5-df2c8f68576c\",\"subtype\":\"Figure\",\"type\":\"Plot\"},\"renderers\":[{\"id\":\"fa4fc8d8-b115-4ccd-ad92-440a167ae360\",\"type\":\"GlyphRenderer\"},{\"id\":\"105a5474-582f-4168-b685-7055b239196e\",\"type\":\"GlyphRenderer\"},{\"id\":\"b891893d-9f0c-473e-a3fb-45a3eedf9e8c\",\"type\":\"GlyphRenderer\"}]},\"id\":\"233ef2e6-2a69-4b69-a2b7-77a91d541958\",\"type\":\"BoxSelectTool\"},{\"attributes\":{\"label\":{\"value\":\"Accuracy\"},\"renderers\":[{\"id\":\"b891893d-9f0c-473e-a3fb-45a3eedf9e8c\",\"type\":\"GlyphRenderer\"}]},\"id\":\"c20cfb7f-7100-48ac-b641-6cc2fed57a97\",\"type\":\"LegendItem\"},{\"attributes\":{\"data_source\":{\"id\":\"96c17619-be2c-473f-8ad9-294395285f32\",\"type\":\"ColumnDataSource\"},\"glyph\":{\"id\":\"77d2542c-7cfc-4fba-9c36-8e151a3b8335\",\"type\":\"Line\"},\"hover_glyph\":null,\"nonselection_glyph\":{\"id\":\"5d411206-1759-49ea-9dfc-dad34c39e0f7\",\"type\":\"Line\"},\"selection_glyph\":null},\"id\":\"b891893d-9f0c-473e-a3fb-45a3eedf9e8c\",\"type\":\"GlyphRenderer\"},{\"attributes\":{\"plot\":{\"id\":\"4885a0d6-4b5a-45b6-88d5-df2c8f68576c\",\"subtype\":\"Figure\",\"type\":\"Plot\"},\"ticker\":{\"id\":\"6f31f1fb-5872-451f-a93f-6984464e6d24\",\"type\":\"BasicTicker\"}},\"id\":\"771212fc-c937-4ce3-aa41-7e72b0eed791\",\"type\":\"Grid\"},{\"attributes\":{\"items\":[{\"id\":\"c7c65dd2-d38f-438d-b46f-c914e2cde2cc\",\"type\":\"LegendItem\"},{\"id\":\"a4cdeb29-657a-44fc-9d18-667dbce576b4\",\"type\":\"LegendItem\"},{\"id\":\"c20cfb7f-7100-48ac-b641-6cc2fed57a97\",\"type\":\"LegendItem\"}],\"plot\":{\"id\":\"4885a0d6-4b5a-45b6-88d5-df2c8f68576c\",\"subtype\":\"Figure\",\"type\":\"Plot\"}},\"id\":\"77f64324-1a19-4c36-ab6c-ef1b0f363f1e\",\"type\":\"Legend\"},{\"attributes\":{},\"id\":\"c03263c8-21c4-42e8-9084-61d8c05a9680\",\"type\":\"BasicTickFormatter\"},{\"attributes\":{\"below\":[{\"id\":\"ae347f10-8921-4ab0-b646-b72c0e1d32ee\",\"type\":\"LinearAxis\"}],\"left\":[{\"id\":\"20462c19-e7f0-4fbe-91aa-ac69490b266f\",\"type\":\"LinearAxis\"}],\"renderers\":[{\"id\":\"ae347f10-8921-4ab0-b646-b72c0e1d32ee\",\"type\":\"LinearAxis\"},{\"id\":\"771212fc-c937-4ce3-aa41-7e72b0eed791\",\"type\":\"Grid\"},{\"id\":\"20462c19-e7f0-4fbe-91aa-ac69490b266f\",\"type\":\"LinearAxis\"},{\"id\":\"1dd86744-0752-47c5-8c2b-5395db052e30\",\"type\":\"Grid\"},{\"id\":\"541389f8-63a6-499f-9eb2-f96a797528a7\",\"type\":\"BoxAnnotation\"},{\"id\":\"1c23d5b4-740d-43da-9e84-bf2e051d873c\",\"type\":\"BoxAnnotation\"},{\"id\":\"ba6b701d-18d7-4001-aacf-5401b8aaf7b2\",\"type\":\"PolyAnnotation\"},{\"id\":\"52f7ec2a-907b-4af8-88ae-82b24d54334b\",\"type\":\"PolyAnnotation\"},{\"id\":\"77f64324-1a19-4c36-ab6c-ef1b0f363f1e\",\"type\":\"Legend\"},{\"id\":\"fa4fc8d8-b115-4ccd-ad92-440a167ae360\",\"type\":\"GlyphRenderer\"},{\"id\":\"105a5474-582f-4168-b685-7055b239196e\",\"type\":\"GlyphRenderer\"},{\"id\":\"b891893d-9f0c-473e-a3fb-45a3eedf9e8c\",\"type\":\"GlyphRenderer\"}],\"title\":{\"id\":\"8c15fae7-6359-4675-aadc-4799d23f164d\",\"type\":\"Title\"},\"tool_events\":{\"id\":\"0c5a245f-7c03-40ad-bb31-9496cd8c659d\",\"type\":\"ToolEvents\"},\"toolbar\":{\"id\":\"9dc16265-5381-433e-9cf3-279088d4f356\",\"type\":\"Toolbar\"},\"x_range\":{\"id\":\"5df0a183-459b-4317-bf8b-e8c916fbacbd\",\"type\":\"DataRange1d\"},\"y_range\":{\"id\":\"4e649eb7-b743-4d90-a3c1-6cd93078f186\",\"type\":\"DataRange1d\"}},\"id\":\"4885a0d6-4b5a-45b6-88d5-df2c8f68576c\",\"subtype\":\"Figure\",\"type\":\"Plot\"},{\"attributes\":{\"callback\":null},\"id\":\"5df0a183-459b-4317-bf8b-e8c916fbacbd\",\"type\":\"DataRange1d\"},{\"attributes\":{\"line_color\":{\"value\":\"blue\"},\"line_dash\":[4,4],\"line_width\":{\"value\":2},\"x\":{\"field\":\"x\"},\"y\":{\"field\":\"y\"}},\"id\":\"77d2542c-7cfc-4fba-9c36-8e151a3b8335\",\"type\":\"Line\"},{\"attributes\":{\"line_alpha\":{\"value\":0.1},\"line_color\":{\"value\":\"#1f77b4\"},\"line_dash\":[4,4],\"line_width\":{\"value\":2},\"x\":{\"field\":\"x\"},\"y\":{\"field\":\"y\"}},\"id\":\"5d411206-1759-49ea-9dfc-dad34c39e0f7\",\"type\":\"Line\"}],\"root_ids\":[\"4885a0d6-4b5a-45b6-88d5-df2c8f68576c\"]},\"title\":\"Bokeh Application\",\"version\":\"0.12.4\"}};\n",
       "            var render_items = [{\"docid\":\"8366cf72-a6fd-4e43-8085-7f9e8792d7d3\",\"elementid\":\"b737f0ab-d266-4a1e-b738-61d328296a7c\",\"modelid\":\"4885a0d6-4b5a-45b6-88d5-df2c8f68576c\"}];\n",
       "            \n",
       "            Bokeh.embed.embed_items(docs_json, render_items);\n",
       "          };\n",
       "          if (document.readyState != \"loading\") fn();\n",
       "          else document.addEventListener(\"DOMContentLoaded\", fn);\n",
       "        })();\n",
       "      },\n",
       "      function(Bokeh) {\n",
       "      }\n",
       "    ];\n",
       "  \n",
       "    function run_inline_js() {\n",
       "      \n",
       "      if ((window.Bokeh !== undefined) || (force === true)) {\n",
       "        for (var i = 0; i < inline_js.length; i++) {\n",
       "          inline_js[i](window.Bokeh);\n",
       "        }if (force === true) {\n",
       "          display_loaded();\n",
       "        }} else if (Date.now() < window._bokeh_timeout) {\n",
       "        setTimeout(run_inline_js, 100);\n",
       "      } else if (!window._bokeh_failed_load) {\n",
       "        console.log(\"Bokeh: BokehJS failed to load within specified timeout.\");\n",
       "        window._bokeh_failed_load = true;\n",
       "      } else if (force !== true) {\n",
       "        var cell = $(document.getElementById(\"b737f0ab-d266-4a1e-b738-61d328296a7c\")).parents('.cell').data().cell;\n",
       "        cell.output_area.append_execute_result(NB_LOAD_WARNING)\n",
       "      }\n",
       "  \n",
       "    }\n",
       "  \n",
       "    if (window._bokeh_is_loading === 0) {\n",
       "      console.log(\"Bokeh: BokehJS loaded, going straight to plotting\");\n",
       "      run_inline_js();\n",
       "    } else {\n",
       "      load_libs(js_urls, function() {\n",
       "        console.log(\"Bokeh: BokehJS plotting callback run at\", now());\n",
       "        run_inline_js();\n",
       "      });\n",
       "    }\n",
       "  }(this));\n",
       "</script>"
      ]
     },
     "metadata": {},
     "output_type": "display_data"
    }
   ],
   "source": [
    "p1 = figure(title=\"The Performance over the number of neurons' pruned\", tools=TOOLS)\n",
    "p1.line(ind, ucb1, legend=\"ucb1\", line_color=\"green\", line_width=2)\n",
    "p1.line(ind, ThompsonSampling, legend=\"Thompson Sampling\", line_color=\"red\", line_width=2)\n",
    "p1.line(ind, Acc, legend=\"Accuracy\", line_dash=(4, 4), line_color=\"blue\", line_width=2)\n",
    "p1.title.align = \"center\"\n",
    "show(p1)"
   ]
  }
 ],
 "metadata": {
  "kernelspec": {
   "display_name": "Python 3",
   "language": "python",
   "name": "python3"
  },
  "language_info": {
   "codemirror_mode": {
    "name": "ipython",
    "version": 3
   },
   "file_extension": ".py",
   "mimetype": "text/x-python",
   "name": "python",
   "nbconvert_exporter": "python",
   "pygments_lexer": "ipython3",
   "version": "3.6.0"
  }
 },
 "nbformat": 4,
 "nbformat_minor": 0
}
