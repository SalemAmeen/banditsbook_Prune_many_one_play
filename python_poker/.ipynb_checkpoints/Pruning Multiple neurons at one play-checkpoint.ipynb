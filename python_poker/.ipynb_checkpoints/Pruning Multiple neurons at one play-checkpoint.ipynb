{
 "cells": [
  {
   "cell_type": "markdown",
   "metadata": {},
   "source": [
    "Compute the performance of MAB methods of pruning Multiple neurons at one time\n",
    "\n",
    "MAP for choosing multi arms at one time"
   ]
  },
  {
   "cell_type": "code",
   "execution_count": 5,
   "metadata": {
    "collapsed": true
   },
   "outputs": [],
   "source": [
    "import numpy as np\n",
    "import time\n",
    "import sys\n",
    "from numpy import *\n",
    "import matplotlib.pyplot as plt\n",
    "from sklearn import metrics\n",
    "%matplotlib inline\n",
    "#plt.rcParams['figure.figsize'] = (15, 6)"
   ]
  },
  {
   "cell_type": "markdown",
   "metadata": {},
   "source": [
    "# Load Bokeh"
   ]
  },
  {
   "cell_type": "code",
   "execution_count": 6,
   "metadata": {
    "collapsed": false
   },
   "outputs": [
    {
     "data": {
      "text/html": [
       "\n",
       "    <div class=\"bk-root\">\n",
       "        <a href=\"http://bokeh.pydata.org\" target=\"_blank\" class=\"bk-logo bk-logo-small bk-logo-notebook\"></a>\n",
       "        <span id=\"e41ef73f-7b5d-4d6d-a8a0-43e95a66fdff\">Loading BokehJS ...</span>\n",
       "    </div>"
      ]
     },
     "metadata": {},
     "output_type": "display_data"
    },
    {
     "data": {
      "application/javascript": [
       "\n",
       "(function(global) {\n",
       "  function now() {\n",
       "    return new Date();\n",
       "  }\n",
       "\n",
       "  var force = true;\n",
       "\n",
       "  if (typeof (window._bokeh_onload_callbacks) === \"undefined\" || force === true) {\n",
       "    window._bokeh_onload_callbacks = [];\n",
       "    window._bokeh_is_loading = undefined;\n",
       "  }\n",
       "\n",
       "\n",
       "  \n",
       "  if (typeof (window._bokeh_timeout) === \"undefined\" || force === true) {\n",
       "    window._bokeh_timeout = Date.now() + 5000;\n",
       "    window._bokeh_failed_load = false;\n",
       "  }\n",
       "\n",
       "  var NB_LOAD_WARNING = {'data': {'text/html':\n",
       "     \"<div style='background-color: #fdd'>\\n\"+\n",
       "     \"<p>\\n\"+\n",
       "     \"BokehJS does not appear to have successfully loaded. If loading BokehJS from CDN, this \\n\"+\n",
       "     \"may be due to a slow or bad network connection. Possible fixes:\\n\"+\n",
       "     \"</p>\\n\"+\n",
       "     \"<ul>\\n\"+\n",
       "     \"<li>re-rerun `output_notebook()` to attempt to load from CDN again, or</li>\\n\"+\n",
       "     \"<li>use INLINE resources instead, as so:</li>\\n\"+\n",
       "     \"</ul>\\n\"+\n",
       "     \"<code>\\n\"+\n",
       "     \"from bokeh.resources import INLINE\\n\"+\n",
       "     \"output_notebook(resources=INLINE)\\n\"+\n",
       "     \"</code>\\n\"+\n",
       "     \"</div>\"}};\n",
       "\n",
       "  function display_loaded() {\n",
       "    if (window.Bokeh !== undefined) {\n",
       "      document.getElementById(\"e41ef73f-7b5d-4d6d-a8a0-43e95a66fdff\").textContent = \"BokehJS successfully loaded.\";\n",
       "    } else if (Date.now() < window._bokeh_timeout) {\n",
       "      setTimeout(display_loaded, 100)\n",
       "    }\n",
       "  }\n",
       "\n",
       "  function run_callbacks() {\n",
       "    window._bokeh_onload_callbacks.forEach(function(callback) { callback() });\n",
       "    delete window._bokeh_onload_callbacks\n",
       "    console.info(\"Bokeh: all callbacks have finished\");\n",
       "  }\n",
       "\n",
       "  function load_libs(js_urls, callback) {\n",
       "    window._bokeh_onload_callbacks.push(callback);\n",
       "    if (window._bokeh_is_loading > 0) {\n",
       "      console.log(\"Bokeh: BokehJS is being loaded, scheduling callback at\", now());\n",
       "      return null;\n",
       "    }\n",
       "    if (js_urls == null || js_urls.length === 0) {\n",
       "      run_callbacks();\n",
       "      return null;\n",
       "    }\n",
       "    console.log(\"Bokeh: BokehJS not loaded, scheduling load and callback at\", now());\n",
       "    window._bokeh_is_loading = js_urls.length;\n",
       "    for (var i = 0; i < js_urls.length; i++) {\n",
       "      var url = js_urls[i];\n",
       "      var s = document.createElement('script');\n",
       "      s.src = url;\n",
       "      s.async = false;\n",
       "      s.onreadystatechange = s.onload = function() {\n",
       "        window._bokeh_is_loading--;\n",
       "        if (window._bokeh_is_loading === 0) {\n",
       "          console.log(\"Bokeh: all BokehJS libraries loaded\");\n",
       "          run_callbacks()\n",
       "        }\n",
       "      };\n",
       "      s.onerror = function() {\n",
       "        console.warn(\"failed to load library \" + url);\n",
       "      };\n",
       "      console.log(\"Bokeh: injecting script tag for BokehJS library: \", url);\n",
       "      document.getElementsByTagName(\"head\")[0].appendChild(s);\n",
       "    }\n",
       "  };var element = document.getElementById(\"e41ef73f-7b5d-4d6d-a8a0-43e95a66fdff\");\n",
       "  if (element == null) {\n",
       "    console.log(\"Bokeh: ERROR: autoload.js configured with elementid 'e41ef73f-7b5d-4d6d-a8a0-43e95a66fdff' but no matching script tag was found. \")\n",
       "    return false;\n",
       "  }\n",
       "\n",
       "  var js_urls = [\"https://cdn.pydata.org/bokeh/release/bokeh-0.12.4.min.js\", \"https://cdn.pydata.org/bokeh/release/bokeh-widgets-0.12.4.min.js\"];\n",
       "\n",
       "  var inline_js = [\n",
       "    function(Bokeh) {\n",
       "      Bokeh.set_log_level(\"info\");\n",
       "    },\n",
       "    \n",
       "    function(Bokeh) {\n",
       "      \n",
       "      document.getElementById(\"e41ef73f-7b5d-4d6d-a8a0-43e95a66fdff\").textContent = \"BokehJS is loading...\";\n",
       "    },\n",
       "    function(Bokeh) {\n",
       "      console.log(\"Bokeh: injecting CSS: https://cdn.pydata.org/bokeh/release/bokeh-0.12.4.min.css\");\n",
       "      Bokeh.embed.inject_css(\"https://cdn.pydata.org/bokeh/release/bokeh-0.12.4.min.css\");\n",
       "      console.log(\"Bokeh: injecting CSS: https://cdn.pydata.org/bokeh/release/bokeh-widgets-0.12.4.min.css\");\n",
       "      Bokeh.embed.inject_css(\"https://cdn.pydata.org/bokeh/release/bokeh-widgets-0.12.4.min.css\");\n",
       "    }\n",
       "  ];\n",
       "\n",
       "  function run_inline_js() {\n",
       "    \n",
       "    if ((window.Bokeh !== undefined) || (force === true)) {\n",
       "      for (var i = 0; i < inline_js.length; i++) {\n",
       "        inline_js[i](window.Bokeh);\n",
       "      }if (force === true) {\n",
       "        display_loaded();\n",
       "      }} else if (Date.now() < window._bokeh_timeout) {\n",
       "      setTimeout(run_inline_js, 100);\n",
       "    } else if (!window._bokeh_failed_load) {\n",
       "      console.log(\"Bokeh: BokehJS failed to load within specified timeout.\");\n",
       "      window._bokeh_failed_load = true;\n",
       "    } else if (force !== true) {\n",
       "      var cell = $(document.getElementById(\"e41ef73f-7b5d-4d6d-a8a0-43e95a66fdff\")).parents('.cell').data().cell;\n",
       "      cell.output_area.append_execute_result(NB_LOAD_WARNING)\n",
       "    }\n",
       "\n",
       "  }\n",
       "\n",
       "  if (window._bokeh_is_loading === 0) {\n",
       "    console.log(\"Bokeh: BokehJS loaded, going straight to plotting\");\n",
       "    run_inline_js();\n",
       "  } else {\n",
       "    load_libs(js_urls, function() {\n",
       "      console.log(\"Bokeh: BokehJS plotting callback run at\", now());\n",
       "      run_inline_js();\n",
       "    });\n",
       "  }\n",
       "}(this));"
      ]
     },
     "metadata": {},
     "output_type": "display_data"
    }
   ],
   "source": [
    "from bokeh.layouts import row, gridplot\n",
    "from bokeh.plotting import figure, output_notebook, show\n",
    "from bokeh.models import Legend\n",
    "TOOLS = 'box_zoom,box_select,crosshair,resize,reset,lasso_select,pan,save,poly_select,tap,wheel_zoom,undo'\n",
    "output_notebook()"
   ]
  },
  {
   "cell_type": "markdown",
   "metadata": {},
   "source": [
    "# Load the data"
   ]
  },
  {
   "cell_type": "code",
   "execution_count": 7,
   "metadata": {
    "collapsed": false
   },
   "outputs": [
    {
     "name": "stdout",
     "output_type": "stream",
     "text": [
      "Number of training examples 5487\n",
      "Number of validation examples 368\n",
      "Number of testing examples 368\n"
     ]
    }
   ],
   "source": [
    "X_train = np.load('./poker/X_train.npy')\n",
    "y_train = np.load('./poker/y_train.npy')\n",
    "X_test = np.load('./poker/X_test.npy')\n",
    "y_test = np.load('./poker/y_test.npy')\n",
    "X_deploy = np.load('./poker/X_deploy.npy')\n",
    "y_deploy = np.load('./poker/y_deploy.npy')\n",
    "\n",
    "print('Number of training examples',len(X_train))\n",
    "print('Number of validation examples',len(X_test))\n",
    "print('Number of testing examples',len(X_deploy))"
   ]
  },
  {
   "cell_type": "code",
   "execution_count": 8,
   "metadata": {
    "collapsed": false
   },
   "outputs": [],
   "source": [
    "exec(open(\"core.py\").read())  # pyhton 3x"
   ]
  },
  {
   "cell_type": "markdown",
   "metadata": {},
   "source": [
    "## Run Thompson Sampling pruning Algorithm"
   ]
  },
  {
   "cell_type": "code",
   "execution_count": 9,
   "metadata": {
    "collapsed": false
   },
   "outputs": [
    {
     "name": "stderr",
     "output_type": "stream",
     "text": [
      "/Library/Frameworks/Python.framework/Versions/3.6/lib/python3.6/site-packages/sklearn/cross_validation.py:44: DeprecationWarning: This module was deprecated in version 0.18 in favor of the model_selection module into which all the refactored classes and functions are moved. Also note that the interface of the new CV iterators are different from that of this module. This module will be removed in 0.20.\n",
      "  \"This module will be removed in 0.20.\", DeprecationWarning)\n",
      "Using Theano backend.\n"
     ]
    },
    {
     "name": "stdout",
     "output_type": "stream",
     "text": [
      "Test fraction correct (NN-Score) = 1.45\n",
      "Test fraction correct (NN-Accuracy) = 0.34\n",
      "The time for running this method is 0.08041691780090332 seconds \n",
      "Finsh playing start pruining:\n",
      "Test after pruning= 0.34\n",
      "Test after pruning= 0.33\n",
      "Test after pruning= 0.33\n",
      "Test after pruning= 0.31\n",
      "Test after pruning= 0.32\n",
      "Test after pruning= 0.33\n",
      "Test after pruning= 0.34\n",
      "Test after pruning= 0.35\n",
      "Test after pruning= 0.32\n",
      "Test after pruning= 0.33\n",
      "Test after pruning= 0.33\n",
      "Test after pruning= 0.32\n",
      "Test after pruning= 0.33\n",
      "Test after pruning= 0.29\n",
      "Test after pruning= 0.29\n",
      "Test after pruning= 0.28\n",
      "Test after pruning= 0.28\n",
      "Test after pruning= 0.21\n",
      "Test after pruning= 0.09\n",
      "Test after pruning= 0.11\n",
      "Test after pruning= 0.13\n",
      "Test after pruning= 0.12\n",
      "Test after pruning= 0.14\n",
      "Test after pruning= 0.14\n",
      "Test after pruning= 0.27\n"
     ]
    },
    {
     "data": {
      "image/png": "[encoded data removed]",
      "text/plain": [
       "<matplotlib.figure.Figure at 0x10e8bae48>"
      ]
     },
     "metadata": {},
     "output_type": "display_data"
    }
   ],
   "source": [
    "algo = Thompson_Sampling([], [])\n",
    "Alg_name = 'Thompson_Sampling Algorithm'\n",
    "path = './Thompson_Sampling/'\n",
    "sys.path.append(\"./Thompson_Sampling\")\n",
    "exec(open(\"mnist_cnnFORTESTING.py\").read())"
   ]
  },
  {
   "cell_type": "markdown",
   "metadata": {},
   "source": [
    "## Run UCB1 pruning Algorithm"
   ]
  },
  {
   "cell_type": "code",
   "execution_count": 10,
   "metadata": {
    "collapsed": false
   },
   "outputs": [
    {
     "name": "stdout",
     "output_type": "stream",
     "text": [
      "Test fraction correct (NN-Score) = 1.45\n",
      "Test fraction correct (NN-Accuracy) = 0.34\n",
      "The time for running this method is 0.07835698127746582 seconds \n",
      "Finsh playing start pruining:\n",
      "Test after pruning= 0.36\n",
      "Test after pruning= 0.35\n",
      "Test after pruning= 0.35\n",
      "Test after pruning= 0.35\n",
      "Test after pruning= 0.35\n",
      "Test after pruning= 0.36\n",
      "Test after pruning= 0.34\n",
      "Test after pruning= 0.33\n",
      "Test after pruning= 0.32\n",
      "Test after pruning= 0.33\n",
      "Test after pruning= 0.30\n",
      "Test after pruning= 0.30\n",
      "Test after pruning= 0.30\n",
      "Test after pruning= 0.29\n",
      "Test after pruning= 0.30\n",
      "Test after pruning= 0.29\n",
      "Test after pruning= 0.29\n",
      "Test after pruning= 0.29\n",
      "Test after pruning= 0.27\n",
      "Test after pruning= 0.29\n",
      "Test after pruning= 0.27\n",
      "Test after pruning= 0.25\n",
      "Test after pruning= 0.23\n",
      "Test after pruning= 0.23\n",
      "Test after pruning= 0.27\n"
     ]
    },
    {
     "data": {
      "image/png": "[encoded data removed]",
      "text/plain": [
       "<matplotlib.figure.Figure at 0x10c772c18>"
      ]
     },
     "metadata": {},
     "output_type": "display_data"
    }
   ],
   "source": [
    "algo = UCB1([], [])\n",
    "Alg_name = 'UCB1 Algorithm'\n",
    "path = './UCB1/'\n",
    "sys.path.append(\"./UCB1\")\n",
    "exec(open(\"mnist_cnnFORTESTING.py\").read())"
   ]
  },
  {
   "cell_type": "markdown",
   "metadata": {
    "collapsed": true
   },
   "source": [
    "# Compare the accuracy"
   ]
  },
  {
   "cell_type": "code",
   "execution_count": 11,
   "metadata": {
    "collapsed": true
   },
   "outputs": [],
   "source": [
    "ucb1 = np.load('./UCB1/AccuracyAftrerPrune.npy')\n",
    "ThompsonSampling = np.load('./Thompson_Sampling/AccuracyAftrerPrune.npy')\n",
    "Accuracy = np.load('AccuracyBeforePruning.npy')"
   ]
  },
  {
   "cell_type": "code",
   "execution_count": 12,
   "metadata": {
    "collapsed": false
   },
   "outputs": [
    {
     "data": {
      "image/png": "[encoded data removed]",
      "text/plain": [
       "<matplotlib.figure.Figure at 0x10e94fcf8>"
      ]
     },
     "metadata": {},
     "output_type": "display_data"
    }
   ],
   "source": [
    "fig = plt.figure(figsize=(10, 6), dpi=80)\n",
    "ax = fig.add_subplot(111)\n",
    "N = len(ucb1)\n",
    "ind = np.arange(N)                # the x locations for the groups\n",
    "plt.plot(ind , ucb1 , color=\"blue\", linewidth=2.5, linestyle=\"-\", label=\"UCB1\")\n",
    "plt.plot(ind , ThompsonSampling, color=\"orange\", linewidth=2.5, linestyle=\"-\", label=\"Thompson Sampling\")\n",
    "plt.legend(loc = 3)\n",
    "plt.axis([0, 25, 0, 1])\n",
    "plt.xlabel('Number of pruned Neurons')\n",
    "plt.ylabel('The Accuracy')\n",
    "plt.grid(True)\n",
    "plt.show()"
   ]
  },
  {
   "cell_type": "code",
   "execution_count": 13,
   "metadata": {
    "collapsed": false
   },
   "outputs": [
    {
     "data": {
      "text/html": [
       "\n",
       "\n",
       "    <div class=\"bk-root\">\n",
       "        <div class=\"bk-plotdiv\" id=\"526a69ba-548a-4208-9b8e-8fdec62fd0ed\"></div>\n",
       "    </div>\n",
       "<script type=\"text/javascript\">\n",
       "  \n",
       "  (function(global) {\n",
       "    function now() {\n",
       "      return new Date();\n",
       "    }\n",
       "  \n",
       "    var force = false;\n",
       "  \n",
       "    if (typeof (window._bokeh_onload_callbacks) === \"undefined\" || force === true) {\n",
       "      window._bokeh_onload_callbacks = [];\n",
       "      window._bokeh_is_loading = undefined;\n",
       "    }\n",
       "  \n",
       "  \n",
       "    \n",
       "    if (typeof (window._bokeh_timeout) === \"undefined\" || force === true) {\n",
       "      window._bokeh_timeout = Date.now() + 0;\n",
       "      window._bokeh_failed_load = false;\n",
       "    }\n",
       "  \n",
       "    var NB_LOAD_WARNING = {'data': {'text/html':\n",
       "       \"<div style='background-color: #fdd'>\\n\"+\n",
       "       \"<p>\\n\"+\n",
       "       \"BokehJS does not appear to have successfully loaded. If loading BokehJS from CDN, this \\n\"+\n",
       "       \"may be due to a slow or bad network connection. Possible fixes:\\n\"+\n",
       "       \"</p>\\n\"+\n",
       "       \"<ul>\\n\"+\n",
       "       \"<li>re-rerun `output_notebook()` to attempt to load from CDN again, or</li>\\n\"+\n",
       "       \"<li>use INLINE resources instead, as so:</li>\\n\"+\n",
       "       \"</ul>\\n\"+\n",
       "       \"<code>\\n\"+\n",
       "       \"from bokeh.resources import INLINE\\n\"+\n",
       "       \"output_notebook(resources=INLINE)\\n\"+\n",
       "       \"</code>\\n\"+\n",
       "       \"</div>\"}};\n",
       "  \n",
       "    function display_loaded() {\n",
       "      if (window.Bokeh !== undefined) {\n",
       "        document.getElementById(\"526a69ba-548a-4208-9b8e-8fdec62fd0ed\").textContent = \"BokehJS successfully loaded.\";\n",
       "      } else if (Date.now() < window._bokeh_timeout) {\n",
       "        setTimeout(display_loaded, 100)\n",
       "      }\n",
       "    }\n",
       "  \n",
       "    function run_callbacks() {\n",
       "      window._bokeh_onload_callbacks.forEach(function(callback) { callback() });\n",
       "      delete window._bokeh_onload_callbacks\n",
       "      console.info(\"Bokeh: all callbacks have finished\");\n",
       "    }\n",
       "  \n",
       "    function load_libs(js_urls, callback) {\n",
       "      window._bokeh_onload_callbacks.push(callback);\n",
       "      if (window._bokeh_is_loading > 0) {\n",
       "        console.log(\"Bokeh: BokehJS is being loaded, scheduling callback at\", now());\n",
       "        return null;\n",
       "      }\n",
       "      if (js_urls == null || js_urls.length === 0) {\n",
       "        run_callbacks();\n",
       "        return null;\n",
       "      }\n",
       "      console.log(\"Bokeh: BokehJS not loaded, scheduling load and callback at\", now());\n",
       "      window._bokeh_is_loading = js_urls.length;\n",
       "      for (var i = 0; i < js_urls.length; i++) {\n",
       "        var url = js_urls[i];\n",
       "        var s = document.createElement('script');\n",
       "        s.src = url;\n",
       "        s.async = false;\n",
       "        s.onreadystatechange = s.onload = function() {\n",
       "          window._bokeh_is_loading--;\n",
       "          if (window._bokeh_is_loading === 0) {\n",
       "            console.log(\"Bokeh: all BokehJS libraries loaded\");\n",
       "            run_callbacks()\n",
       "          }\n",
       "        };\n",
       "        s.onerror = function() {\n",
       "          console.warn(\"failed to load library \" + url);\n",
       "        };\n",
       "        console.log(\"Bokeh: injecting script tag for BokehJS library: \", url);\n",
       "        document.getElementsByTagName(\"head\")[0].appendChild(s);\n",
       "      }\n",
       "    };var element = document.getElementById(\"526a69ba-548a-4208-9b8e-8fdec62fd0ed\");\n",
       "    if (element == null) {\n",
       "      console.log(\"Bokeh: ERROR: autoload.js configured with elementid '526a69ba-548a-4208-9b8e-8fdec62fd0ed' but no matching script tag was found. \")\n",
       "      return false;\n",
       "    }\n",
       "  \n",
       "    var js_urls = [];\n",
       "  \n",
       "    var inline_js = [\n",
       "      function(Bokeh) {\n",
       "        (function() {\n",
       "          var fn = function() {\n",
       "            var docs_json = {\"8a945612-ca1c-4ca7-b5c0-eeaaf13651aa\":{\"roots\":{\"references\":[{\"attributes\":{\"plot\":{\"id\":\"69f9ce7a-4dba-4978-b116-36efa63ca8c6\",\"subtype\":\"Figure\",\"type\":\"Plot\"}},\"id\":\"98ca198b-b9ef-4ed0-af1e-570c5be89dfd\",\"type\":\"ResetTool\"},{\"attributes\":{\"plot\":{\"id\":\"69f9ce7a-4dba-4978-b116-36efa63ca8c6\",\"subtype\":\"Figure\",\"type\":\"Plot\"}},\"id\":\"57251f55-47f9-405e-a87c-999a8c86da27\",\"type\":\"SaveTool\"},{\"attributes\":{\"line_color\":{\"value\":\"blue\"},\"line_width\":{\"value\":2},\"x\":{\"field\":\"x\"},\"y\":{\"field\":\"y\"}},\"id\":\"07feac17-7821-44c2-bb0a-4db8f0fbe439\",\"type\":\"Line\"},{\"attributes\":{\"overlay\":{\"id\":\"1b14b974-c7c4-4503-a3f0-66d09086e9de\",\"type\":\"BoxAnnotation\"},\"plot\":{\"id\":\"69f9ce7a-4dba-4978-b116-36efa63ca8c6\",\"subtype\":\"Figure\",\"type\":\"Plot\"}},\"id\":\"7d3e7ca9-14bf-4f11-b130-9870f9d599fe\",\"type\":\"BoxZoomTool\"},{\"attributes\":{\"plot\":{\"id\":\"69f9ce7a-4dba-4978-b116-36efa63ca8c6\",\"subtype\":\"Figure\",\"type\":\"Plot\"}},\"id\":\"d6c72e70-3416-4728-8cbe-ee347f8fea65\",\"type\":\"ResizeTool\"},{\"attributes\":{\"dimension\":1,\"plot\":{\"id\":\"69f9ce7a-4dba-4978-b116-36efa63ca8c6\",\"subtype\":\"Figure\",\"type\":\"Plot\"},\"ticker\":{\"id\":\"9d88289b-dace-488d-b574-a6515e1e676b\",\"type\":\"BasicTicker\"}},\"id\":\"d2ef2996-bf69-4e84-ba92-7e9364176edb\",\"type\":\"Grid\"},{\"attributes\":{\"items\":[{\"id\":\"134f36e6-3fed-49c0-8f8b-cc4a1efeedfe\",\"type\":\"LegendItem\"},{\"id\":\"3c84b8f5-c568-4165-8d6d-4ded74d6c385\",\"type\":\"LegendItem\"}],\"plot\":{\"id\":\"69f9ce7a-4dba-4978-b116-36efa63ca8c6\",\"subtype\":\"Figure\",\"type\":\"Plot\"}},\"id\":\"e9065995-1755-4a88-bd17-c2deb5eb38e7\",\"type\":\"Legend\"},{\"attributes\":{\"bottom_units\":\"screen\",\"fill_alpha\":{\"value\":0.5},\"fill_color\":{\"value\":\"lightgrey\"},\"left_units\":\"screen\",\"level\":\"overlay\",\"line_alpha\":{\"value\":1.0},\"line_color\":{\"value\":\"black\"},\"line_dash\":[4,4],\"line_width\":{\"value\":2},\"plot\":null,\"render_mode\":\"css\",\"right_units\":\"screen\",\"top_units\":\"screen\"},\"id\":\"3206dfc6-6001-433a-ad35-fbd687a2e8ee\",\"type\":\"BoxAnnotation\"},{\"attributes\":{\"below\":[{\"id\":\"045511f0-310c-4e79-ab0d-39b67fb131ef\",\"type\":\"LinearAxis\"}],\"left\":[{\"id\":\"af6e6822-e7fa-421d-b790-e3cbe7880bb2\",\"type\":\"LinearAxis\"}],\"renderers\":[{\"id\":\"045511f0-310c-4e79-ab0d-39b67fb131ef\",\"type\":\"LinearAxis\"},{\"id\":\"7cdd9237-0c63-4507-8ad2-d2fd6c31adfd\",\"type\":\"Grid\"},{\"id\":\"af6e6822-e7fa-421d-b790-e3cbe7880bb2\",\"type\":\"LinearAxis\"},{\"id\":\"d2ef2996-bf69-4e84-ba92-7e9364176edb\",\"type\":\"Grid\"},{\"id\":\"1b14b974-c7c4-4503-a3f0-66d09086e9de\",\"type\":\"BoxAnnotation\"},{\"id\":\"3206dfc6-6001-433a-ad35-fbd687a2e8ee\",\"type\":\"BoxAnnotation\"},{\"id\":\"b4323227-981b-4b27-9481-0e61a72ee15f\",\"type\":\"PolyAnnotation\"},{\"id\":\"f4713f94-c42f-4a37-b379-280c076a58fd\",\"type\":\"PolyAnnotation\"},{\"id\":\"e9065995-1755-4a88-bd17-c2deb5eb38e7\",\"type\":\"Legend\"},{\"id\":\"8c41d648-ed00-49a8-8d8a-4475a19baf80\",\"type\":\"GlyphRenderer\"},{\"id\":\"a8796651-f444-48fb-abf2-13d55f786ca3\",\"type\":\"GlyphRenderer\"}],\"title\":{\"id\":\"a7fef917-b574-4be0-ad20-87000c029838\",\"type\":\"Title\"},\"tool_events\":{\"id\":\"af20af06-0acc-4036-b7ea-05f8a519d314\",\"type\":\"ToolEvents\"},\"toolbar\":{\"id\":\"1c05f9c9-2f25-4b31-a96e-d14ced011042\",\"type\":\"Toolbar\"},\"x_range\":{\"id\":\"de9312f2-01e3-40c7-826b-1087323c2433\",\"type\":\"DataRange1d\"},\"y_range\":{\"id\":\"779726f2-25ca-4df0-a248-2123ab6d6131\",\"type\":\"DataRange1d\"}},\"id\":\"69f9ce7a-4dba-4978-b116-36efa63ca8c6\",\"subtype\":\"Figure\",\"type\":\"Plot\"},{\"attributes\":{\"formatter\":{\"id\":\"cded0399-3081-4208-b211-7c7e5e2f4a11\",\"type\":\"BasicTickFormatter\"},\"plot\":{\"id\":\"69f9ce7a-4dba-4978-b116-36efa63ca8c6\",\"subtype\":\"Figure\",\"type\":\"Plot\"},\"ticker\":{\"id\":\"4efe1494-5fac-42ab-a9d8-0b4cd518655f\",\"type\":\"BasicTicker\"}},\"id\":\"045511f0-310c-4e79-ab0d-39b67fb131ef\",\"type\":\"LinearAxis\"},{\"attributes\":{},\"id\":\"4efe1494-5fac-42ab-a9d8-0b4cd518655f\",\"type\":\"BasicTicker\"},{\"attributes\":{\"align\":\"center\",\"plot\":null,\"text\":\"The Performance over the number of neurons' pruned\"},\"id\":\"a7fef917-b574-4be0-ad20-87000c029838\",\"type\":\"Title\"},{\"attributes\":{\"callback\":null},\"id\":\"de9312f2-01e3-40c7-826b-1087323c2433\",\"type\":\"DataRange1d\"},{\"attributes\":{\"label\":{\"value\":\"Thompson Sampling\"},\"renderers\":[{\"id\":\"a8796651-f444-48fb-abf2-13d55f786ca3\",\"type\":\"GlyphRenderer\"}]},\"id\":\"3c84b8f5-c568-4165-8d6d-4ded74d6c385\",\"type\":\"LegendItem\"},{\"attributes\":{\"callback\":null,\"column_names\":[\"x\",\"y\"],\"data\":{\"x\":[0,1,2,3,4,5,6,7,8,9,10,11,12,13,14,15,16,17,18,19,20,21,22,23,24],\"y\":{\"__ndarray__\":\"pze9K2Qh1z/f9KbpTW/WP2QhC1PIQtY/kYUsetOb1j8hC1mE05vWP6c3vSlkIdc/hixkrTe91T+GLGRdIQvVPy1kIS0LWdQ/b3rT05ve1D+c3nSX3vTSP2960zNkIdM/yEIWmt700j8tZCF/05vSP73pzcPpTdM/spCF4k1v0j8AAABcyELSPyELWXTTm9I/kYUs8KY30T9kIQvpTW/SP+pNbxiykNE/3/Sm5/Smzz+RhSxEvenNP5GFLES96c0/FrKQhSxk0T8=\",\"dtype\":\"float64\",\"shape\":[25]}}},\"id\":\"33996f38-eb29-4de0-b059-14b872bb8cc7\",\"type\":\"ColumnDataSource\"},{\"attributes\":{\"callback\":null,\"column_names\":[\"x\",\"y\"],\"data\":{\"x\":[0,1,2,3,4,5,6,7,8,9,10,11,12,13,14,15,16,17,18,19,20,21,22,23,24],\"y\":{\"__ndarray__\":\"QxayF7KQ1T9kIQuNLGTVP1nIQvmmN9U/etOb+///0z9ZyEKGhSzUPyELWYcsZNU/pze9Mb3p1T+ykIVUyELWPzi96bOQhdQ/6k1v7KY31T+c3vTSm97UP0MWsqyQhdQ/hixk8aY31T+nN70IWcjSP5ze9FDIQtI/WchCNL3p0T9ZyELIQhbSPyELWexNb8o/velNm970tj+ykIXAkIW8P7KQhWMhC8E/9aY3a9Obvj+96U2FLGTBPyELWX8sZME/FrKQhSxk0T8=\",\"dtype\":\"float64\",\"shape\":[25]}}},\"id\":\"dd67f907-f48c-4481-926f-fdaa2aecd67b\",\"type\":\"ColumnDataSource\"},{\"attributes\":{\"callback\":null},\"id\":\"779726f2-25ca-4df0-a248-2123ab6d6131\",\"type\":\"DataRange1d\"},{\"attributes\":{\"plot\":{\"id\":\"69f9ce7a-4dba-4978-b116-36efa63ca8c6\",\"subtype\":\"Figure\",\"type\":\"Plot\"}},\"id\":\"93170ed7-5996-4bc0-8aba-50b3755f228e\",\"type\":\"PanTool\"},{\"attributes\":{\"plot\":{\"id\":\"69f9ce7a-4dba-4978-b116-36efa63ca8c6\",\"subtype\":\"Figure\",\"type\":\"Plot\"}},\"id\":\"58293aa4-f1bb-46f2-a3c0-e563d1d8bc9e\",\"type\":\"WheelZoomTool\"},{\"attributes\":{\"data_source\":{\"id\":\"33996f38-eb29-4de0-b059-14b872bb8cc7\",\"type\":\"ColumnDataSource\"},\"glyph\":{\"id\":\"07feac17-7821-44c2-bb0a-4db8f0fbe439\",\"type\":\"Line\"},\"hover_glyph\":null,\"nonselection_glyph\":{\"id\":\"6560b244-bac3-4058-985d-1e2cc7a5c4ac\",\"type\":\"Line\"},\"selection_glyph\":null},\"id\":\"8c41d648-ed00-49a8-8d8a-4475a19baf80\",\"type\":\"GlyphRenderer\"},{\"attributes\":{},\"id\":\"af20af06-0acc-4036-b7ea-05f8a519d314\",\"type\":\"ToolEvents\"},{\"attributes\":{\"data_source\":{\"id\":\"dd67f907-f48c-4481-926f-fdaa2aecd67b\",\"type\":\"ColumnDataSource\"},\"glyph\":{\"id\":\"12b3266a-f2f2-4edc-b28d-1ebce7ed0520\",\"type\":\"Line\"},\"hover_glyph\":null,\"nonselection_glyph\":{\"id\":\"113e2ef5-2c32-40dd-92c2-009a87648278\",\"type\":\"Line\"},\"selection_glyph\":null},\"id\":\"a8796651-f444-48fb-abf2-13d55f786ca3\",\"type\":\"GlyphRenderer\"},{\"attributes\":{\"plot\":{\"id\":\"69f9ce7a-4dba-4978-b116-36efa63ca8c6\",\"subtype\":\"Figure\",\"type\":\"Plot\"},\"ticker\":{\"id\":\"4efe1494-5fac-42ab-a9d8-0b4cd518655f\",\"type\":\"BasicTicker\"}},\"id\":\"7cdd9237-0c63-4507-8ad2-d2fd6c31adfd\",\"type\":\"Grid\"},{\"attributes\":{\"line_alpha\":{\"value\":0.1},\"line_color\":{\"value\":\"#1f77b4\"},\"line_width\":{\"value\":2},\"x\":{\"field\":\"x\"},\"y\":{\"field\":\"y\"}},\"id\":\"6560b244-bac3-4058-985d-1e2cc7a5c4ac\",\"type\":\"Line\"},{\"attributes\":{\"callback\":null,\"plot\":{\"id\":\"69f9ce7a-4dba-4978-b116-36efa63ca8c6\",\"subtype\":\"Figure\",\"type\":\"Plot\"}},\"id\":\"a99100d0-d188-4adc-85b2-f4d05d64f104\",\"type\":\"TapTool\"},{\"attributes\":{\"plot\":{\"id\":\"69f9ce7a-4dba-4978-b116-36efa63ca8c6\",\"subtype\":\"Figure\",\"type\":\"Plot\"}},\"id\":\"6de6dc64-23fe-4d2a-bf09-f3a1dcdda3f6\",\"type\":\"UndoTool\"},{\"attributes\":{\"fill_alpha\":{\"value\":0.5},\"fill_color\":{\"value\":\"lightgrey\"},\"level\":\"overlay\",\"line_alpha\":{\"value\":1.0},\"line_color\":{\"value\":\"black\"},\"line_dash\":[4,4],\"line_width\":{\"value\":2},\"plot\":null,\"xs_units\":\"screen\",\"ys_units\":\"screen\"},\"id\":\"b4323227-981b-4b27-9481-0e61a72ee15f\",\"type\":\"PolyAnnotation\"},{\"attributes\":{},\"id\":\"cded0399-3081-4208-b211-7c7e5e2f4a11\",\"type\":\"BasicTickFormatter\"},{\"attributes\":{\"active_drag\":\"auto\",\"active_scroll\":\"auto\",\"active_tap\":\"auto\",\"tools\":[{\"id\":\"7d3e7ca9-14bf-4f11-b130-9870f9d599fe\",\"type\":\"BoxZoomTool\"},{\"id\":\"0ecf89bc-4b83-4c0a-b274-70f3b09b1098\",\"type\":\"BoxSelectTool\"},{\"id\":\"9e617bc3-87f6-45cf-84c7-0848cf344241\",\"type\":\"CrosshairTool\"},{\"id\":\"d6c72e70-3416-4728-8cbe-ee347f8fea65\",\"type\":\"ResizeTool\"},{\"id\":\"98ca198b-b9ef-4ed0-af1e-570c5be89dfd\",\"type\":\"ResetTool\"},{\"id\":\"4d5f0d2c-a6f1-469c-a753-805ed0fb5a28\",\"type\":\"LassoSelectTool\"},{\"id\":\"93170ed7-5996-4bc0-8aba-50b3755f228e\",\"type\":\"PanTool\"},{\"id\":\"57251f55-47f9-405e-a87c-999a8c86da27\",\"type\":\"SaveTool\"},{\"id\":\"c5766923-32bb-4f8a-b082-32262e8a39a2\",\"type\":\"PolySelectTool\"},{\"id\":\"a99100d0-d188-4adc-85b2-f4d05d64f104\",\"type\":\"TapTool\"},{\"id\":\"58293aa4-f1bb-46f2-a3c0-e563d1d8bc9e\",\"type\":\"WheelZoomTool\"},{\"id\":\"6de6dc64-23fe-4d2a-bf09-f3a1dcdda3f6\",\"type\":\"UndoTool\"}]},\"id\":\"1c05f9c9-2f25-4b31-a96e-d14ced011042\",\"type\":\"Toolbar\"},{\"attributes\":{\"line_alpha\":{\"value\":0.1},\"line_color\":{\"value\":\"#1f77b4\"},\"line_width\":{\"value\":2},\"x\":{\"field\":\"x\"},\"y\":{\"field\":\"y\"}},\"id\":\"113e2ef5-2c32-40dd-92c2-009a87648278\",\"type\":\"Line\"},{\"attributes\":{\"callback\":null,\"overlay\":{\"id\":\"b4323227-981b-4b27-9481-0e61a72ee15f\",\"type\":\"PolyAnnotation\"},\"plot\":{\"id\":\"69f9ce7a-4dba-4978-b116-36efa63ca8c6\",\"subtype\":\"Figure\",\"type\":\"Plot\"}},\"id\":\"4d5f0d2c-a6f1-469c-a753-805ed0fb5a28\",\"type\":\"LassoSelectTool\"},{\"attributes\":{\"formatter\":{\"id\":\"26a4bf6e-1443-44c6-ae6f-d035fef594bd\",\"type\":\"BasicTickFormatter\"},\"plot\":{\"id\":\"69f9ce7a-4dba-4978-b116-36efa63ca8c6\",\"subtype\":\"Figure\",\"type\":\"Plot\"},\"ticker\":{\"id\":\"9d88289b-dace-488d-b574-a6515e1e676b\",\"type\":\"BasicTicker\"}},\"id\":\"af6e6822-e7fa-421d-b790-e3cbe7880bb2\",\"type\":\"LinearAxis\"},{\"attributes\":{\"label\":{\"value\":\"ucb1\"},\"renderers\":[{\"id\":\"8c41d648-ed00-49a8-8d8a-4475a19baf80\",\"type\":\"GlyphRenderer\"}]},\"id\":\"134f36e6-3fed-49c0-8f8b-cc4a1efeedfe\",\"type\":\"LegendItem\"},{\"attributes\":{\"plot\":{\"id\":\"69f9ce7a-4dba-4978-b116-36efa63ca8c6\",\"subtype\":\"Figure\",\"type\":\"Plot\"}},\"id\":\"9e617bc3-87f6-45cf-84c7-0848cf344241\",\"type\":\"CrosshairTool\"},{\"attributes\":{\"line_color\":{\"value\":\"red\"},\"line_width\":{\"value\":2},\"x\":{\"field\":\"x\"},\"y\":{\"field\":\"y\"}},\"id\":\"12b3266a-f2f2-4edc-b28d-1ebce7ed0520\",\"type\":\"Line\"},{\"attributes\":{\"fill_alpha\":{\"value\":0.5},\"fill_color\":{\"value\":\"lightgrey\"},\"level\":\"overlay\",\"line_alpha\":{\"value\":1.0},\"line_color\":{\"value\":\"black\"},\"line_dash\":[4,4],\"line_width\":{\"value\":2},\"plot\":null,\"xs_units\":\"screen\",\"ys_units\":\"screen\"},\"id\":\"f4713f94-c42f-4a37-b379-280c076a58fd\",\"type\":\"PolyAnnotation\"},{\"attributes\":{},\"id\":\"9d88289b-dace-488d-b574-a6515e1e676b\",\"type\":\"BasicTicker\"},{\"attributes\":{\"callback\":null,\"overlay\":{\"id\":\"3206dfc6-6001-433a-ad35-fbd687a2e8ee\",\"type\":\"BoxAnnotation\"},\"plot\":{\"id\":\"69f9ce7a-4dba-4978-b116-36efa63ca8c6\",\"subtype\":\"Figure\",\"type\":\"Plot\"},\"renderers\":[{\"id\":\"8c41d648-ed00-49a8-8d8a-4475a19baf80\",\"type\":\"GlyphRenderer\"},{\"id\":\"a8796651-f444-48fb-abf2-13d55f786ca3\",\"type\":\"GlyphRenderer\"}]},\"id\":\"0ecf89bc-4b83-4c0a-b274-70f3b09b1098\",\"type\":\"BoxSelectTool\"},{\"attributes\":{},\"id\":\"26a4bf6e-1443-44c6-ae6f-d035fef594bd\",\"type\":\"BasicTickFormatter\"},{\"attributes\":{\"bottom_units\":\"screen\",\"fill_alpha\":{\"value\":0.5},\"fill_color\":{\"value\":\"lightgrey\"},\"left_units\":\"screen\",\"level\":\"overlay\",\"line_alpha\":{\"value\":1.0},\"line_color\":{\"value\":\"black\"},\"line_dash\":[4,4],\"line_width\":{\"value\":2},\"plot\":null,\"render_mode\":\"css\",\"right_units\":\"screen\",\"top_units\":\"screen\"},\"id\":\"1b14b974-c7c4-4503-a3f0-66d09086e9de\",\"type\":\"BoxAnnotation\"},{\"attributes\":{\"overlay\":{\"id\":\"f4713f94-c42f-4a37-b379-280c076a58fd\",\"type\":\"PolyAnnotation\"},\"plot\":{\"id\":\"69f9ce7a-4dba-4978-b116-36efa63ca8c6\",\"subtype\":\"Figure\",\"type\":\"Plot\"}},\"id\":\"c5766923-32bb-4f8a-b082-32262e8a39a2\",\"type\":\"PolySelectTool\"}],\"root_ids\":[\"69f9ce7a-4dba-4978-b116-36efa63ca8c6\"]},\"title\":\"Bokeh Application\",\"version\":\"0.12.4\"}};\n",
       "            var render_items = [{\"docid\":\"8a945612-ca1c-4ca7-b5c0-eeaaf13651aa\",\"elementid\":\"526a69ba-548a-4208-9b8e-8fdec62fd0ed\",\"modelid\":\"69f9ce7a-4dba-4978-b116-36efa63ca8c6\"}];\n",
       "            \n",
       "            Bokeh.embed.embed_items(docs_json, render_items);\n",
       "          };\n",
       "          if (document.readyState != \"loading\") fn();\n",
       "          else document.addEventListener(\"DOMContentLoaded\", fn);\n",
       "        })();\n",
       "      },\n",
       "      function(Bokeh) {\n",
       "      }\n",
       "    ];\n",
       "  \n",
       "    function run_inline_js() {\n",
       "      \n",
       "      if ((window.Bokeh !== undefined) || (force === true)) {\n",
       "        for (var i = 0; i < inline_js.length; i++) {\n",
       "          inline_js[i](window.Bokeh);\n",
       "        }if (force === true) {\n",
       "          display_loaded();\n",
       "        }} else if (Date.now() < window._bokeh_timeout) {\n",
       "        setTimeout(run_inline_js, 100);\n",
       "      } else if (!window._bokeh_failed_load) {\n",
       "        console.log(\"Bokeh: BokehJS failed to load within specified timeout.\");\n",
       "        window._bokeh_failed_load = true;\n",
       "      } else if (force !== true) {\n",
       "        var cell = $(document.getElementById(\"526a69ba-548a-4208-9b8e-8fdec62fd0ed\")).parents('.cell').data().cell;\n",
       "        cell.output_area.append_execute_result(NB_LOAD_WARNING)\n",
       "      }\n",
       "  \n",
       "    }\n",
       "  \n",
       "    if (window._bokeh_is_loading === 0) {\n",
       "      console.log(\"Bokeh: BokehJS loaded, going straight to plotting\");\n",
       "      run_inline_js();\n",
       "    } else {\n",
       "      load_libs(js_urls, function() {\n",
       "        console.log(\"Bokeh: BokehJS plotting callback run at\", now());\n",
       "        run_inline_js();\n",
       "      });\n",
       "    }\n",
       "  }(this));\n",
       "</script>"
      ]
     },
     "metadata": {},
     "output_type": "display_data"
    }
   ],
   "source": [
    "p1 = figure(title=\"The Performance over the number of neurons' pruned\", tools=TOOLS)\n",
    "p1.line(ind, ucb1, legend=\"ucb1\", line_color=\"blue\", line_width=2)\n",
    "p1.line(ind, ThompsonSampling, legend=\"Thompson Sampling\", line_color=\"red\", line_width=2)\n",
    "p1.title.align = \"center\"\n",
    "show(p1)"
   ]
  },
  {
   "cell_type": "markdown",
   "metadata": {},
   "source": [
    "# Comparing All algorithms with the model before pruning"
   ]
  },
  {
   "cell_type": "code",
   "execution_count": 14,
   "metadata": {
    "collapsed": false
   },
   "outputs": [
    {
     "data": {
      "image/png": "[encoded data removed]",
      "text/plain": [
       "<matplotlib.figure.Figure at 0x10ecdbd68>"
      ]
     },
     "metadata": {},
     "output_type": "display_data"
    }
   ],
   "source": [
    "fig = plt.figure(figsize=(10, 6), dpi=80)\n",
    "ax = fig.add_subplot(111)\n",
    "N = len(ucb1)\n",
    "Acc = [Accuracy for col in range(N)]\n",
    "ind = np.arange(N)                # the x locations for the groups\n",
    "plt.plot(ind , ucb1 , color=\"blue\", linewidth=2.5, linestyle=\"-\", label=\"UCB1\")\n",
    "plt.plot(ind , ThompsonSampling, color=\"orange\", linewidth=2.5, linestyle=\"-\", label=\"Thompson Sampling\")\n",
    "plt.plot(ind , Acc, color=\"pink\", linewidth=2.5, linestyle=\"-\", label=\"Accuracy before Pruning\")\n",
    "plt.legend(loc = 3)\n",
    "plt.axis([0, 25, 0, 1])\n",
    "plt.xlabel('Number of pruned Neurons')\n",
    "plt.ylabel('The Accuracy')\n",
    "plt.grid(True)\n",
    "plt.show()"
   ]
  },
  {
   "cell_type": "code",
   "execution_count": 15,
   "metadata": {
    "collapsed": false
   },
   "outputs": [
    {
     "data": {
      "text/html": [
       "\n",
       "\n",
       "    <div class=\"bk-root\">\n",
       "        <div class=\"bk-plotdiv\" id=\"e00b412f-0ec1-4356-8f4a-1050e3ce92eb\"></div>\n",
       "    </div>\n",
       "<script type=\"text/javascript\">\n",
       "  \n",
       "  (function(global) {\n",
       "    function now() {\n",
       "      return new Date();\n",
       "    }\n",
       "  \n",
       "    var force = false;\n",
       "  \n",
       "    if (typeof (window._bokeh_onload_callbacks) === \"undefined\" || force === true) {\n",
       "      window._bokeh_onload_callbacks = [];\n",
       "      window._bokeh_is_loading = undefined;\n",
       "    }\n",
       "  \n",
       "  \n",
       "    \n",
       "    if (typeof (window._bokeh_timeout) === \"undefined\" || force === true) {\n",
       "      window._bokeh_timeout = Date.now() + 0;\n",
       "      window._bokeh_failed_load = false;\n",
       "    }\n",
       "  \n",
       "    var NB_LOAD_WARNING = {'data': {'text/html':\n",
       "       \"<div style='background-color: #fdd'>\\n\"+\n",
       "       \"<p>\\n\"+\n",
       "       \"BokehJS does not appear to have successfully loaded. If loading BokehJS from CDN, this \\n\"+\n",
       "       \"may be due to a slow or bad network connection. Possible fixes:\\n\"+\n",
       "       \"</p>\\n\"+\n",
       "       \"<ul>\\n\"+\n",
       "       \"<li>re-rerun `output_notebook()` to attempt to load from CDN again, or</li>\\n\"+\n",
       "       \"<li>use INLINE resources instead, as so:</li>\\n\"+\n",
       "       \"</ul>\\n\"+\n",
       "       \"<code>\\n\"+\n",
       "       \"from bokeh.resources import INLINE\\n\"+\n",
       "       \"output_notebook(resources=INLINE)\\n\"+\n",
       "       \"</code>\\n\"+\n",
       "       \"</div>\"}};\n",
       "  \n",
       "    function display_loaded() {\n",
       "      if (window.Bokeh !== undefined) {\n",
       "        document.getElementById(\"e00b412f-0ec1-4356-8f4a-1050e3ce92eb\").textContent = \"BokehJS successfully loaded.\";\n",
       "      } else if (Date.now() < window._bokeh_timeout) {\n",
       "        setTimeout(display_loaded, 100)\n",
       "      }\n",
       "    }\n",
       "  \n",
       "    function run_callbacks() {\n",
       "      window._bokeh_onload_callbacks.forEach(function(callback) { callback() });\n",
       "      delete window._bokeh_onload_callbacks\n",
       "      console.info(\"Bokeh: all callbacks have finished\");\n",
       "    }\n",
       "  \n",
       "    function load_libs(js_urls, callback) {\n",
       "      window._bokeh_onload_callbacks.push(callback);\n",
       "      if (window._bokeh_is_loading > 0) {\n",
       "        console.log(\"Bokeh: BokehJS is being loaded, scheduling callback at\", now());\n",
       "        return null;\n",
       "      }\n",
       "      if (js_urls == null || js_urls.length === 0) {\n",
       "        run_callbacks();\n",
       "        return null;\n",
       "      }\n",
       "      console.log(\"Bokeh: BokehJS not loaded, scheduling load and callback at\", now());\n",
       "      window._bokeh_is_loading = js_urls.length;\n",
       "      for (var i = 0; i < js_urls.length; i++) {\n",
       "        var url = js_urls[i];\n",
       "        var s = document.createElement('script');\n",
       "        s.src = url;\n",
       "        s.async = false;\n",
       "        s.onreadystatechange = s.onload = function() {\n",
       "          window._bokeh_is_loading--;\n",
       "          if (window._bokeh_is_loading === 0) {\n",
       "            console.log(\"Bokeh: all BokehJS libraries loaded\");\n",
       "            run_callbacks()\n",
       "          }\n",
       "        };\n",
       "        s.onerror = function() {\n",
       "          console.warn(\"failed to load library \" + url);\n",
       "        };\n",
       "        console.log(\"Bokeh: injecting script tag for BokehJS library: \", url);\n",
       "        document.getElementsByTagName(\"head\")[0].appendChild(s);\n",
       "      }\n",
       "    };var element = document.getElementById(\"e00b412f-0ec1-4356-8f4a-1050e3ce92eb\");\n",
       "    if (element == null) {\n",
       "      console.log(\"Bokeh: ERROR: autoload.js configured with elementid 'e00b412f-0ec1-4356-8f4a-1050e3ce92eb' but no matching script tag was found. \")\n",
       "      return false;\n",
       "    }\n",
       "  \n",
       "    var js_urls = [];\n",
       "  \n",
       "    var inline_js = [\n",
       "      function(Bokeh) {\n",
       "        (function() {\n",
       "          var fn = function() {\n",
       "            var docs_json = {\"9eac81af-a41a-47bd-872d-9cacbada9f6e\":{\"roots\":{\"references\":[{\"attributes\":{\"below\":[{\"id\":\"aecb825b-0524-405b-b484-61aff0636b2c\",\"type\":\"LinearAxis\"}],\"left\":[{\"id\":\"b405093b-2664-4a72-9b46-1b62d2e36c61\",\"type\":\"LinearAxis\"}],\"renderers\":[{\"id\":\"aecb825b-0524-405b-b484-61aff0636b2c\",\"type\":\"LinearAxis\"},{\"id\":\"5b1cf647-6a79-4bbe-8a11-bfd15f5c849a\",\"type\":\"Grid\"},{\"id\":\"b405093b-2664-4a72-9b46-1b62d2e36c61\",\"type\":\"LinearAxis\"},{\"id\":\"6e0734c2-44a5-442e-9761-932eee06b050\",\"type\":\"Grid\"},{\"id\":\"8f74e744-daa7-4cae-9ea2-629a79bb4ff6\",\"type\":\"BoxAnnotation\"},{\"id\":\"772e6471-62de-43e9-8610-f1b191ba164b\",\"type\":\"BoxAnnotation\"},{\"id\":\"7ae89ac1-2e50-4b29-9497-31769c3600e6\",\"type\":\"PolyAnnotation\"},{\"id\":\"2eeb67c9-300e-4262-bd8e-70dacf4ead53\",\"type\":\"PolyAnnotation\"},{\"id\":\"e091556b-ab00-4162-ac32-259032a300c3\",\"type\":\"Legend\"},{\"id\":\"23740ca3-4cdf-40b9-8be2-aa3dffb8bef0\",\"type\":\"GlyphRenderer\"},{\"id\":\"0dbd5e70-10da-439b-a4cd-ae12580b3593\",\"type\":\"GlyphRenderer\"},{\"id\":\"0e28152f-9daf-4708-a0e5-48223bd50d2f\",\"type\":\"GlyphRenderer\"}],\"title\":{\"id\":\"2df042ed-6453-4ac4-af6e-81cb225942b1\",\"type\":\"Title\"},\"tool_events\":{\"id\":\"634231e0-6843-4af0-b74d-4108a3bc88a0\",\"type\":\"ToolEvents\"},\"toolbar\":{\"id\":\"f4ceaac8-480c-4cae-a4fe-256d55bbff85\",\"type\":\"Toolbar\"},\"x_range\":{\"id\":\"85ad4579-9ebe-49c7-b6f8-1c6ef9d4774e\",\"type\":\"DataRange1d\"},\"y_range\":{\"id\":\"ef34d72c-1284-4c22-8509-9d71a9a4fc53\",\"type\":\"DataRange1d\"}},\"id\":\"8c8ac5f1-71ae-4236-a78b-63e7cca633f4\",\"subtype\":\"Figure\",\"type\":\"Plot\"},{\"attributes\":{\"fill_alpha\":{\"value\":0.5},\"fill_color\":{\"value\":\"lightgrey\"},\"level\":\"overlay\",\"line_alpha\":{\"value\":1.0},\"line_color\":{\"value\":\"black\"},\"line_dash\":[4,4],\"line_width\":{\"value\":2},\"plot\":null,\"xs_units\":\"screen\",\"ys_units\":\"screen\"},\"id\":\"2eeb67c9-300e-4262-bd8e-70dacf4ead53\",\"type\":\"PolyAnnotation\"},{\"attributes\":{\"line_alpha\":{\"value\":0.1},\"line_color\":{\"value\":\"#1f77b4\"},\"line_width\":{\"value\":2},\"x\":{\"field\":\"x\"},\"y\":{\"field\":\"y\"}},\"id\":\"039eaefc-fac0-4919-b3cd-271925340e9e\",\"type\":\"Line\"},{\"attributes\":{\"line_alpha\":{\"value\":0.1},\"line_color\":{\"value\":\"#1f77b4\"},\"line_width\":{\"value\":2},\"x\":{\"field\":\"x\"},\"y\":{\"field\":\"y\"}},\"id\":\"a22bd684-2edb-436c-a365-d6cbfaac5041\",\"type\":\"Line\"},{\"attributes\":{\"data_source\":{\"id\":\"7ed90877-dcdc-4109-8804-8615da20f0f4\",\"type\":\"ColumnDataSource\"},\"glyph\":{\"id\":\"84d28531-1124-4031-a145-b0610c38cdfd\",\"type\":\"Line\"},\"hover_glyph\":null,\"nonselection_glyph\":{\"id\":\"a22bd684-2edb-436c-a365-d6cbfaac5041\",\"type\":\"Line\"},\"selection_glyph\":null},\"id\":\"23740ca3-4cdf-40b9-8be2-aa3dffb8bef0\",\"type\":\"GlyphRenderer\"},{\"attributes\":{\"line_color\":{\"value\":\"blue\"},\"line_dash\":[4,4],\"line_width\":{\"value\":2},\"x\":{\"field\":\"x\"},\"y\":{\"field\":\"y\"}},\"id\":\"3b2b99ce-5bf6-4bb8-9b97-a1fa9eda4a26\",\"type\":\"Line\"},{\"attributes\":{\"plot\":{\"id\":\"8c8ac5f1-71ae-4236-a78b-63e7cca633f4\",\"subtype\":\"Figure\",\"type\":\"Plot\"}},\"id\":\"98a765c6-c607-4602-bb09-89890505057e\",\"type\":\"SaveTool\"},{\"attributes\":{\"line_color\":{\"value\":\"green\"},\"line_width\":{\"value\":2},\"x\":{\"field\":\"x\"},\"y\":{\"field\":\"y\"}},\"id\":\"84d28531-1124-4031-a145-b0610c38cdfd\",\"type\":\"Line\"},{\"attributes\":{\"callback\":null,\"column_names\":[\"x\",\"y\"],\"data\":{\"x\":[0,1,2,3,4,5,6,7,8,9,10,11,12,13,14,15,16,17,18,19,20,21,22,23,24],\"y\":{\"__ndarray__\":\"QxayF7KQ1T9kIQuNLGTVP1nIQvmmN9U/etOb+///0z9ZyEKGhSzUPyELWYcsZNU/pze9Mb3p1T+ykIVUyELWPzi96bOQhdQ/6k1v7KY31T+c3vTSm97UP0MWsqyQhdQ/hixk8aY31T+nN70IWcjSP5ze9FDIQtI/WchCNL3p0T9ZyELIQhbSPyELWexNb8o/velNm970tj+ykIXAkIW8P7KQhWMhC8E/9aY3a9Obvj+96U2FLGTBPyELWX8sZME/FrKQhSxk0T8=\",\"dtype\":\"float64\",\"shape\":[25]}}},\"id\":\"1166e887-3981-4630-8977-7f35c8cd2d69\",\"type\":\"ColumnDataSource\"},{\"attributes\":{\"data_source\":{\"id\":\"1166e887-3981-4630-8977-7f35c8cd2d69\",\"type\":\"ColumnDataSource\"},\"glyph\":{\"id\":\"3451e312-41a6-4620-97c9-3d9f7b8fe995\",\"type\":\"Line\"},\"hover_glyph\":null,\"nonselection_glyph\":{\"id\":\"039eaefc-fac0-4919-b3cd-271925340e9e\",\"type\":\"Line\"},\"selection_glyph\":null},\"id\":\"0dbd5e70-10da-439b-a4cd-ae12580b3593\",\"type\":\"GlyphRenderer\"},{\"attributes\":{\"formatter\":{\"id\":\"26f40f8c-e931-4874-b33f-5fd5c8f5efcb\",\"type\":\"BasicTickFormatter\"},\"plot\":{\"id\":\"8c8ac5f1-71ae-4236-a78b-63e7cca633f4\",\"subtype\":\"Figure\",\"type\":\"Plot\"},\"ticker\":{\"id\":\"0ef909a3-186e-42e1-9379-9afd1961e60f\",\"type\":\"BasicTicker\"}},\"id\":\"aecb825b-0524-405b-b484-61aff0636b2c\",\"type\":\"LinearAxis\"},{\"attributes\":{},\"id\":\"ca0be837-2096-4f05-af1e-5bcf5f65cb10\",\"type\":\"BasicTickFormatter\"},{\"attributes\":{\"callback\":null,\"overlay\":{\"id\":\"7ae89ac1-2e50-4b29-9497-31769c3600e6\",\"type\":\"PolyAnnotation\"},\"plot\":{\"id\":\"8c8ac5f1-71ae-4236-a78b-63e7cca633f4\",\"subtype\":\"Figure\",\"type\":\"Plot\"}},\"id\":\"5824943d-a3bd-4751-90dc-49debf651aec\",\"type\":\"LassoSelectTool\"},{\"attributes\":{\"callback\":null,\"column_names\":[\"x\",\"y\"],\"data\":{\"x\":[0,1,2,3,4,5,6,7,8,9,10,11,12,13,14,15,16,17,18,19,20,21,22,23,24],\"y\":[{\"__ndarray__\":\"fZobQZjW0j8=\",\"dtype\":\"float64\",\"shape\":[]},{\"__ndarray__\":\"fZobQZjW0j8=\",\"dtype\":\"float64\",\"shape\":[]},{\"__ndarray__\":\"fZobQZjW0j8=\",\"dtype\":\"float64\",\"shape\":[]},{\"__ndarray__\":\"fZobQZjW0j8=\",\"dtype\":\"float64\",\"shape\":[]},{\"__ndarray__\":\"fZobQZjW0j8=\",\"dtype\":\"float64\",\"shape\":[]},{\"__ndarray__\":\"fZobQZjW0j8=\",\"dtype\":\"float64\",\"shape\":[]},{\"__ndarray__\":\"fZobQZjW0j8=\",\"dtype\":\"float64\",\"shape\":[]},{\"__ndarray__\":\"fZobQZjW0j8=\",\"dtype\":\"float64\",\"shape\":[]},{\"__ndarray__\":\"fZobQZjW0j8=\",\"dtype\":\"float64\",\"shape\":[]},{\"__ndarray__\":\"fZobQZjW0j8=\",\"dtype\":\"float64\",\"shape\":[]},{\"__ndarray__\":\"fZobQZjW0j8=\",\"dtype\":\"float64\",\"shape\":[]},{\"__ndarray__\":\"fZobQZjW0j8=\",\"dtype\":\"float64\",\"shape\":[]},{\"__ndarray__\":\"fZobQZjW0j8=\",\"dtype\":\"float64\",\"shape\":[]},{\"__ndarray__\":\"fZobQZjW0j8=\",\"dtype\":\"float64\",\"shape\":[]},{\"__ndarray__\":\"fZobQZjW0j8=\",\"dtype\":\"float64\",\"shape\":[]},{\"__ndarray__\":\"fZobQZjW0j8=\",\"dtype\":\"float64\",\"shape\":[]},{\"__ndarray__\":\"fZobQZjW0j8=\",\"dtype\":\"float64\",\"shape\":[]},{\"__ndarray__\":\"fZobQZjW0j8=\",\"dtype\":\"float64\",\"shape\":[]},{\"__ndarray__\":\"fZobQZjW0j8=\",\"dtype\":\"float64\",\"shape\":[]},{\"__ndarray__\":\"fZobQZjW0j8=\",\"dtype\":\"float64\",\"shape\":[]},{\"__ndarray__\":\"fZobQZjW0j8=\",\"dtype\":\"float64\",\"shape\":[]},{\"__ndarray__\":\"fZobQZjW0j8=\",\"dtype\":\"float64\",\"shape\":[]},{\"__ndarray__\":\"fZobQZjW0j8=\",\"dtype\":\"float64\",\"shape\":[]},{\"__ndarray__\":\"fZobQZjW0j8=\",\"dtype\":\"float64\",\"shape\":[]},{\"__ndarray__\":\"fZobQZjW0j8=\",\"dtype\":\"float64\",\"shape\":[]}]}},\"id\":\"f35e273f-4b72-4472-96fc-29c7155619f9\",\"type\":\"ColumnDataSource\"},{\"attributes\":{\"callback\":null,\"overlay\":{\"id\":\"772e6471-62de-43e9-8610-f1b191ba164b\",\"type\":\"BoxAnnotation\"},\"plot\":{\"id\":\"8c8ac5f1-71ae-4236-a78b-63e7cca633f4\",\"subtype\":\"Figure\",\"type\":\"Plot\"},\"renderers\":[{\"id\":\"23740ca3-4cdf-40b9-8be2-aa3dffb8bef0\",\"type\":\"GlyphRenderer\"},{\"id\":\"0dbd5e70-10da-439b-a4cd-ae12580b3593\",\"type\":\"GlyphRenderer\"},{\"id\":\"0e28152f-9daf-4708-a0e5-48223bd50d2f\",\"type\":\"GlyphRenderer\"}]},\"id\":\"84ee52e9-d2a5-4e5d-8cf6-be3086d9f5dc\",\"type\":\"BoxSelectTool\"},{\"attributes\":{\"label\":{\"value\":\"ucb1\"},\"renderers\":[{\"id\":\"23740ca3-4cdf-40b9-8be2-aa3dffb8bef0\",\"type\":\"GlyphRenderer\"}]},\"id\":\"05083a82-e266-4de9-86e9-8e3765a07f5f\",\"type\":\"LegendItem\"},{\"attributes\":{\"plot\":{\"id\":\"8c8ac5f1-71ae-4236-a78b-63e7cca633f4\",\"subtype\":\"Figure\",\"type\":\"Plot\"}},\"id\":\"ffdc5a83-9f73-4cd2-88ad-06b358df2dc1\",\"type\":\"ResetTool\"},{\"attributes\":{\"overlay\":{\"id\":\"2eeb67c9-300e-4262-bd8e-70dacf4ead53\",\"type\":\"PolyAnnotation\"},\"plot\":{\"id\":\"8c8ac5f1-71ae-4236-a78b-63e7cca633f4\",\"subtype\":\"Figure\",\"type\":\"Plot\"}},\"id\":\"047a9157-7fa7-4d16-94b9-227faf1fb14f\",\"type\":\"PolySelectTool\"},{\"attributes\":{\"overlay\":{\"id\":\"8f74e744-daa7-4cae-9ea2-629a79bb4ff6\",\"type\":\"BoxAnnotation\"},\"plot\":{\"id\":\"8c8ac5f1-71ae-4236-a78b-63e7cca633f4\",\"subtype\":\"Figure\",\"type\":\"Plot\"}},\"id\":\"c49f8445-ab4a-4222-b0af-636215c500ca\",\"type\":\"BoxZoomTool\"},{\"attributes\":{\"plot\":{\"id\":\"8c8ac5f1-71ae-4236-a78b-63e7cca633f4\",\"subtype\":\"Figure\",\"type\":\"Plot\"}},\"id\":\"6b450d61-d66f-4877-8d6f-f88cb6896d88\",\"type\":\"ResizeTool\"},{\"attributes\":{\"label\":{\"value\":\"Accuracy\"},\"renderers\":[{\"id\":\"0e28152f-9daf-4708-a0e5-48223bd50d2f\",\"type\":\"GlyphRenderer\"}]},\"id\":\"6307126f-6b88-4c6c-8369-9f311e3ef46a\",\"type\":\"LegendItem\"},{\"attributes\":{\"line_color\":{\"value\":\"red\"},\"line_width\":{\"value\":2},\"x\":{\"field\":\"x\"},\"y\":{\"field\":\"y\"}},\"id\":\"3451e312-41a6-4620-97c9-3d9f7b8fe995\",\"type\":\"Line\"},{\"attributes\":{\"label\":{\"value\":\"Thompson Sampling\"},\"renderers\":[{\"id\":\"0dbd5e70-10da-439b-a4cd-ae12580b3593\",\"type\":\"GlyphRenderer\"}]},\"id\":\"31bc6483-0579-4ed4-a53f-be0abcdcfe22\",\"type\":\"LegendItem\"},{\"attributes\":{\"items\":[{\"id\":\"05083a82-e266-4de9-86e9-8e3765a07f5f\",\"type\":\"LegendItem\"},{\"id\":\"31bc6483-0579-4ed4-a53f-be0abcdcfe22\",\"type\":\"LegendItem\"},{\"id\":\"6307126f-6b88-4c6c-8369-9f311e3ef46a\",\"type\":\"LegendItem\"}],\"plot\":{\"id\":\"8c8ac5f1-71ae-4236-a78b-63e7cca633f4\",\"subtype\":\"Figure\",\"type\":\"Plot\"}},\"id\":\"e091556b-ab00-4162-ac32-259032a300c3\",\"type\":\"Legend\"},{\"attributes\":{\"line_alpha\":{\"value\":0.1},\"line_color\":{\"value\":\"#1f77b4\"},\"line_dash\":[4,4],\"line_width\":{\"value\":2},\"x\":{\"field\":\"x\"},\"y\":{\"field\":\"y\"}},\"id\":\"a95b2a62-49a3-4432-8a23-075dc911991b\",\"type\":\"Line\"},{\"attributes\":{\"plot\":{\"id\":\"8c8ac5f1-71ae-4236-a78b-63e7cca633f4\",\"subtype\":\"Figure\",\"type\":\"Plot\"}},\"id\":\"1aa2dbde-2ffb-4ed1-a8c4-cfd40d5f9af2\",\"type\":\"PanTool\"},{\"attributes\":{\"data_source\":{\"id\":\"f35e273f-4b72-4472-96fc-29c7155619f9\",\"type\":\"ColumnDataSource\"},\"glyph\":{\"id\":\"3b2b99ce-5bf6-4bb8-9b97-a1fa9eda4a26\",\"type\":\"Line\"},\"hover_glyph\":null,\"nonselection_glyph\":{\"id\":\"a95b2a62-49a3-4432-8a23-075dc911991b\",\"type\":\"Line\"},\"selection_glyph\":null},\"id\":\"0e28152f-9daf-4708-a0e5-48223bd50d2f\",\"type\":\"GlyphRenderer\"},{\"attributes\":{\"plot\":{\"id\":\"8c8ac5f1-71ae-4236-a78b-63e7cca633f4\",\"subtype\":\"Figure\",\"type\":\"Plot\"}},\"id\":\"8a001b87-0b15-4d0c-9902-3863d59b0bd3\",\"type\":\"CrosshairTool\"},{\"attributes\":{\"align\":\"center\",\"plot\":null,\"text\":\"The Performance over the number of neurons' pruned\"},\"id\":\"2df042ed-6453-4ac4-af6e-81cb225942b1\",\"type\":\"Title\"},{\"attributes\":{\"bottom_units\":\"screen\",\"fill_alpha\":{\"value\":0.5},\"fill_color\":{\"value\":\"lightgrey\"},\"left_units\":\"screen\",\"level\":\"overlay\",\"line_alpha\":{\"value\":1.0},\"line_color\":{\"value\":\"black\"},\"line_dash\":[4,4],\"line_width\":{\"value\":2},\"plot\":null,\"render_mode\":\"css\",\"right_units\":\"screen\",\"top_units\":\"screen\"},\"id\":\"772e6471-62de-43e9-8610-f1b191ba164b\",\"type\":\"BoxAnnotation\"},{\"attributes\":{\"formatter\":{\"id\":\"ca0be837-2096-4f05-af1e-5bcf5f65cb10\",\"type\":\"BasicTickFormatter\"},\"plot\":{\"id\":\"8c8ac5f1-71ae-4236-a78b-63e7cca633f4\",\"subtype\":\"Figure\",\"type\":\"Plot\"},\"ticker\":{\"id\":\"26ac2389-f273-4308-a97b-2de4dccfa0e0\",\"type\":\"BasicTicker\"}},\"id\":\"b405093b-2664-4a72-9b46-1b62d2e36c61\",\"type\":\"LinearAxis\"},{\"attributes\":{\"callback\":null,\"plot\":{\"id\":\"8c8ac5f1-71ae-4236-a78b-63e7cca633f4\",\"subtype\":\"Figure\",\"type\":\"Plot\"}},\"id\":\"28d25ebb-d800-4ab0-84a1-f9f4deab0587\",\"type\":\"TapTool\"},{\"attributes\":{\"active_drag\":\"auto\",\"active_scroll\":\"auto\",\"active_tap\":\"auto\",\"tools\":[{\"id\":\"c49f8445-ab4a-4222-b0af-636215c500ca\",\"type\":\"BoxZoomTool\"},{\"id\":\"84ee52e9-d2a5-4e5d-8cf6-be3086d9f5dc\",\"type\":\"BoxSelectTool\"},{\"id\":\"8a001b87-0b15-4d0c-9902-3863d59b0bd3\",\"type\":\"CrosshairTool\"},{\"id\":\"6b450d61-d66f-4877-8d6f-f88cb6896d88\",\"type\":\"ResizeTool\"},{\"id\":\"ffdc5a83-9f73-4cd2-88ad-06b358df2dc1\",\"type\":\"ResetTool\"},{\"id\":\"5824943d-a3bd-4751-90dc-49debf651aec\",\"type\":\"LassoSelectTool\"},{\"id\":\"1aa2dbde-2ffb-4ed1-a8c4-cfd40d5f9af2\",\"type\":\"PanTool\"},{\"id\":\"98a765c6-c607-4602-bb09-89890505057e\",\"type\":\"SaveTool\"},{\"id\":\"047a9157-7fa7-4d16-94b9-227faf1fb14f\",\"type\":\"PolySelectTool\"},{\"id\":\"28d25ebb-d800-4ab0-84a1-f9f4deab0587\",\"type\":\"TapTool\"},{\"id\":\"497c9101-4983-48bb-9bab-4ffd52fb180b\",\"type\":\"WheelZoomTool\"},{\"id\":\"bca9678f-8b09-4784-9ed4-567a62701cb8\",\"type\":\"UndoTool\"}]},\"id\":\"f4ceaac8-480c-4cae-a4fe-256d55bbff85\",\"type\":\"Toolbar\"},{\"attributes\":{},\"id\":\"26f40f8c-e931-4874-b33f-5fd5c8f5efcb\",\"type\":\"BasicTickFormatter\"},{\"attributes\":{\"callback\":null,\"column_names\":[\"x\",\"y\"],\"data\":{\"x\":[0,1,2,3,4,5,6,7,8,9,10,11,12,13,14,15,16,17,18,19,20,21,22,23,24],\"y\":{\"__ndarray__\":\"pze9K2Qh1z/f9KbpTW/WP2QhC1PIQtY/kYUsetOb1j8hC1mE05vWP6c3vSlkIdc/hixkrTe91T+GLGRdIQvVPy1kIS0LWdQ/b3rT05ve1D+c3nSX3vTSP2960zNkIdM/yEIWmt700j8tZCF/05vSP73pzcPpTdM/spCF4k1v0j8AAABcyELSPyELWXTTm9I/kYUs8KY30T9kIQvpTW/SP+pNbxiykNE/3/Sm5/Smzz+RhSxEvenNP5GFLES96c0/FrKQhSxk0T8=\",\"dtype\":\"float64\",\"shape\":[25]}}},\"id\":\"7ed90877-dcdc-4109-8804-8615da20f0f4\",\"type\":\"ColumnDataSource\"},{\"attributes\":{},\"id\":\"634231e0-6843-4af0-b74d-4108a3bc88a0\",\"type\":\"ToolEvents\"},{\"attributes\":{\"fill_alpha\":{\"value\":0.5},\"fill_color\":{\"value\":\"lightgrey\"},\"level\":\"overlay\",\"line_alpha\":{\"value\":1.0},\"line_color\":{\"value\":\"black\"},\"line_dash\":[4,4],\"line_width\":{\"value\":2},\"plot\":null,\"xs_units\":\"screen\",\"ys_units\":\"screen\"},\"id\":\"7ae89ac1-2e50-4b29-9497-31769c3600e6\",\"type\":\"PolyAnnotation\"},{\"attributes\":{\"callback\":null},\"id\":\"ef34d72c-1284-4c22-8509-9d71a9a4fc53\",\"type\":\"DataRange1d\"},{\"attributes\":{\"plot\":{\"id\":\"8c8ac5f1-71ae-4236-a78b-63e7cca633f4\",\"subtype\":\"Figure\",\"type\":\"Plot\"}},\"id\":\"497c9101-4983-48bb-9bab-4ffd52fb180b\",\"type\":\"WheelZoomTool\"},{\"attributes\":{\"callback\":null},\"id\":\"85ad4579-9ebe-49c7-b6f8-1c6ef9d4774e\",\"type\":\"DataRange1d\"},{\"attributes\":{\"plot\":{\"id\":\"8c8ac5f1-71ae-4236-a78b-63e7cca633f4\",\"subtype\":\"Figure\",\"type\":\"Plot\"}},\"id\":\"bca9678f-8b09-4784-9ed4-567a62701cb8\",\"type\":\"UndoTool\"},{\"attributes\":{\"dimension\":1,\"plot\":{\"id\":\"8c8ac5f1-71ae-4236-a78b-63e7cca633f4\",\"subtype\":\"Figure\",\"type\":\"Plot\"},\"ticker\":{\"id\":\"26ac2389-f273-4308-a97b-2de4dccfa0e0\",\"type\":\"BasicTicker\"}},\"id\":\"6e0734c2-44a5-442e-9761-932eee06b050\",\"type\":\"Grid\"},{\"attributes\":{\"bottom_units\":\"screen\",\"fill_alpha\":{\"value\":0.5},\"fill_color\":{\"value\":\"lightgrey\"},\"left_units\":\"screen\",\"level\":\"overlay\",\"line_alpha\":{\"value\":1.0},\"line_color\":{\"value\":\"black\"},\"line_dash\":[4,4],\"line_width\":{\"value\":2},\"plot\":null,\"render_mode\":\"css\",\"right_units\":\"screen\",\"top_units\":\"screen\"},\"id\":\"8f74e744-daa7-4cae-9ea2-629a79bb4ff6\",\"type\":\"BoxAnnotation\"},{\"attributes\":{},\"id\":\"0ef909a3-186e-42e1-9379-9afd1961e60f\",\"type\":\"BasicTicker\"},{\"attributes\":{},\"id\":\"26ac2389-f273-4308-a97b-2de4dccfa0e0\",\"type\":\"BasicTicker\"},{\"attributes\":{\"plot\":{\"id\":\"8c8ac5f1-71ae-4236-a78b-63e7cca633f4\",\"subtype\":\"Figure\",\"type\":\"Plot\"},\"ticker\":{\"id\":\"0ef909a3-186e-42e1-9379-9afd1961e60f\",\"type\":\"BasicTicker\"}},\"id\":\"5b1cf647-6a79-4bbe-8a11-bfd15f5c849a\",\"type\":\"Grid\"}],\"root_ids\":[\"8c8ac5f1-71ae-4236-a78b-63e7cca633f4\"]},\"title\":\"Bokeh Application\",\"version\":\"0.12.4\"}};\n",
       "            var render_items = [{\"docid\":\"9eac81af-a41a-47bd-872d-9cacbada9f6e\",\"elementid\":\"e00b412f-0ec1-4356-8f4a-1050e3ce92eb\",\"modelid\":\"8c8ac5f1-71ae-4236-a78b-63e7cca633f4\"}];\n",
       "            \n",
       "            Bokeh.embed.embed_items(docs_json, render_items);\n",
       "          };\n",
       "          if (document.readyState != \"loading\") fn();\n",
       "          else document.addEventListener(\"DOMContentLoaded\", fn);\n",
       "        })();\n",
       "      },\n",
       "      function(Bokeh) {\n",
       "      }\n",
       "    ];\n",
       "  \n",
       "    function run_inline_js() {\n",
       "      \n",
       "      if ((window.Bokeh !== undefined) || (force === true)) {\n",
       "        for (var i = 0; i < inline_js.length; i++) {\n",
       "          inline_js[i](window.Bokeh);\n",
       "        }if (force === true) {\n",
       "          display_loaded();\n",
       "        }} else if (Date.now() < window._bokeh_timeout) {\n",
       "        setTimeout(run_inline_js, 100);\n",
       "      } else if (!window._bokeh_failed_load) {\n",
       "        console.log(\"Bokeh: BokehJS failed to load within specified timeout.\");\n",
       "        window._bokeh_failed_load = true;\n",
       "      } else if (force !== true) {\n",
       "        var cell = $(document.getElementById(\"e00b412f-0ec1-4356-8f4a-1050e3ce92eb\")).parents('.cell').data().cell;\n",
       "        cell.output_area.append_execute_result(NB_LOAD_WARNING)\n",
       "      }\n",
       "  \n",
       "    }\n",
       "  \n",
       "    if (window._bokeh_is_loading === 0) {\n",
       "      console.log(\"Bokeh: BokehJS loaded, going straight to plotting\");\n",
       "      run_inline_js();\n",
       "    } else {\n",
       "      load_libs(js_urls, function() {\n",
       "        console.log(\"Bokeh: BokehJS plotting callback run at\", now());\n",
       "        run_inline_js();\n",
       "      });\n",
       "    }\n",
       "  }(this));\n",
       "</script>"
      ]
     },
     "metadata": {},
     "output_type": "display_data"
    }
   ],
   "source": [
    "p1 = figure(title=\"The Performance over the number of neurons' pruned\", tools=TOOLS)\n",
    "p1.line(ind, ucb1, legend=\"ucb1\", line_color=\"green\", line_width=2)\n",
    "p1.line(ind, ThompsonSampling, legend=\"Thompson Sampling\", line_color=\"red\", line_width=2)\n",
    "p1.line(ind, Acc, legend=\"Accuracy\", line_dash=(4, 4), line_color=\"blue\", line_width=2)\n",
    "p1.title.align = \"center\"\n",
    "show(p1)"
   ]
  }
 ],
 "metadata": {
  "kernelspec": {
   "display_name": "Python 3",
   "language": "python",
   "name": "python3"
  },
  "language_info": {
   "codemirror_mode": {
    "name": "ipython",
    "version": 3
   },
   "file_extension": ".py",
   "mimetype": "text/x-python",
   "name": "python",
   "nbconvert_exporter": "python",
   "pygments_lexer": "ipython3",
   "version": "3.6.0"
  }
 },
 "nbformat": 4,
 "nbformat_minor": 0
}
