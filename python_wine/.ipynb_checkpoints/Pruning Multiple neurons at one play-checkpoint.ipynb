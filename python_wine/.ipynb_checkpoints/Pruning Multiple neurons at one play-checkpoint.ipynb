{
 "cells": [
  {
   "cell_type": "markdown",
   "metadata": {},
   "source": [
    "Compute the performance of MAB methods of pruning Multiple neurons at one time\n",
    "\n",
    "MAP for choosing multi arms at one time"
   ]
  },
  {
   "cell_type": "code",
   "execution_count": 1,
   "metadata": {
    "collapsed": true
   },
   "outputs": [],
   "source": [
    "import numpy as np\n",
    "import time\n",
    "import sys\n",
    "from numpy import *\n",
    "import matplotlib.pyplot as plt\n",
    "from sklearn import metrics\n",
    "%matplotlib inline\n",
    "#plt.rcParams['figure.figsize'] = (15, 6)"
   ]
  },
  {
   "cell_type": "markdown",
   "metadata": {},
   "source": [
    "# Load Bokeh"
   ]
  },
  {
   "cell_type": "code",
   "execution_count": 2,
   "metadata": {
    "collapsed": false
   },
   "outputs": [
    {
     "data": {
      "text/html": [
       "\n",
       "    <div class=\"bk-root\">\n",
       "        <a href=\"http://bokeh.pydata.org\" target=\"_blank\" class=\"bk-logo bk-logo-small bk-logo-notebook\"></a>\n",
       "        <span id=\"e45fac2b-e459-472a-9d7e-51ba42545f82\">Loading BokehJS ...</span>\n",
       "    </div>"
      ]
     },
     "metadata": {},
     "output_type": "display_data"
    },
    {
     "data": {
      "application/javascript": [
       "\n",
       "(function(global) {\n",
       "  function now() {\n",
       "    return new Date();\n",
       "  }\n",
       "\n",
       "  var force = true;\n",
       "\n",
       "  if (typeof (window._bokeh_onload_callbacks) === \"undefined\" || force === true) {\n",
       "    window._bokeh_onload_callbacks = [];\n",
       "    window._bokeh_is_loading = undefined;\n",
       "  }\n",
       "\n",
       "\n",
       "  \n",
       "  if (typeof (window._bokeh_timeout) === \"undefined\" || force === true) {\n",
       "    window._bokeh_timeout = Date.now() + 5000;\n",
       "    window._bokeh_failed_load = false;\n",
       "  }\n",
       "\n",
       "  var NB_LOAD_WARNING = {'data': {'text/html':\n",
       "     \"<div style='background-color: #fdd'>\\n\"+\n",
       "     \"<p>\\n\"+\n",
       "     \"BokehJS does not appear to have successfully loaded. If loading BokehJS from CDN, this \\n\"+\n",
       "     \"may be due to a slow or bad network connection. Possible fixes:\\n\"+\n",
       "     \"</p>\\n\"+\n",
       "     \"<ul>\\n\"+\n",
       "     \"<li>re-rerun `output_notebook()` to attempt to load from CDN again, or</li>\\n\"+\n",
       "     \"<li>use INLINE resources instead, as so:</li>\\n\"+\n",
       "     \"</ul>\\n\"+\n",
       "     \"<code>\\n\"+\n",
       "     \"from bokeh.resources import INLINE\\n\"+\n",
       "     \"output_notebook(resources=INLINE)\\n\"+\n",
       "     \"</code>\\n\"+\n",
       "     \"</div>\"}};\n",
       "\n",
       "  function display_loaded() {\n",
       "    if (window.Bokeh !== undefined) {\n",
       "      document.getElementById(\"e45fac2b-e459-472a-9d7e-51ba42545f82\").textContent = \"BokehJS successfully loaded.\";\n",
       "    } else if (Date.now() < window._bokeh_timeout) {\n",
       "      setTimeout(display_loaded, 100)\n",
       "    }\n",
       "  }\n",
       "\n",
       "  function run_callbacks() {\n",
       "    window._bokeh_onload_callbacks.forEach(function(callback) { callback() });\n",
       "    delete window._bokeh_onload_callbacks\n",
       "    console.info(\"Bokeh: all callbacks have finished\");\n",
       "  }\n",
       "\n",
       "  function load_libs(js_urls, callback) {\n",
       "    window._bokeh_onload_callbacks.push(callback);\n",
       "    if (window._bokeh_is_loading > 0) {\n",
       "      console.log(\"Bokeh: BokehJS is being loaded, scheduling callback at\", now());\n",
       "      return null;\n",
       "    }\n",
       "    if (js_urls == null || js_urls.length === 0) {\n",
       "      run_callbacks();\n",
       "      return null;\n",
       "    }\n",
       "    console.log(\"Bokeh: BokehJS not loaded, scheduling load and callback at\", now());\n",
       "    window._bokeh_is_loading = js_urls.length;\n",
       "    for (var i = 0; i < js_urls.length; i++) {\n",
       "      var url = js_urls[i];\n",
       "      var s = document.createElement('script');\n",
       "      s.src = url;\n",
       "      s.async = false;\n",
       "      s.onreadystatechange = s.onload = function() {\n",
       "        window._bokeh_is_loading--;\n",
       "        if (window._bokeh_is_loading === 0) {\n",
       "          console.log(\"Bokeh: all BokehJS libraries loaded\");\n",
       "          run_callbacks()\n",
       "        }\n",
       "      };\n",
       "      s.onerror = function() {\n",
       "        console.warn(\"failed to load library \" + url);\n",
       "      };\n",
       "      console.log(\"Bokeh: injecting script tag for BokehJS library: \", url);\n",
       "      document.getElementsByTagName(\"head\")[0].appendChild(s);\n",
       "    }\n",
       "  };var element = document.getElementById(\"e45fac2b-e459-472a-9d7e-51ba42545f82\");\n",
       "  if (element == null) {\n",
       "    console.log(\"Bokeh: ERROR: autoload.js configured with elementid 'e45fac2b-e459-472a-9d7e-51ba42545f82' but no matching script tag was found. \")\n",
       "    return false;\n",
       "  }\n",
       "\n",
       "  var js_urls = [\"https://cdn.pydata.org/bokeh/release/bokeh-0.12.4.min.js\", \"https://cdn.pydata.org/bokeh/release/bokeh-widgets-0.12.4.min.js\"];\n",
       "\n",
       "  var inline_js = [\n",
       "    function(Bokeh) {\n",
       "      Bokeh.set_log_level(\"info\");\n",
       "    },\n",
       "    \n",
       "    function(Bokeh) {\n",
       "      \n",
       "      document.getElementById(\"e45fac2b-e459-472a-9d7e-51ba42545f82\").textContent = \"BokehJS is loading...\";\n",
       "    },\n",
       "    function(Bokeh) {\n",
       "      console.log(\"Bokeh: injecting CSS: https://cdn.pydata.org/bokeh/release/bokeh-0.12.4.min.css\");\n",
       "      Bokeh.embed.inject_css(\"https://cdn.pydata.org/bokeh/release/bokeh-0.12.4.min.css\");\n",
       "      console.log(\"Bokeh: injecting CSS: https://cdn.pydata.org/bokeh/release/bokeh-widgets-0.12.4.min.css\");\n",
       "      Bokeh.embed.inject_css(\"https://cdn.pydata.org/bokeh/release/bokeh-widgets-0.12.4.min.css\");\n",
       "    }\n",
       "  ];\n",
       "\n",
       "  function run_inline_js() {\n",
       "    \n",
       "    if ((window.Bokeh !== undefined) || (force === true)) {\n",
       "      for (var i = 0; i < inline_js.length; i++) {\n",
       "        inline_js[i](window.Bokeh);\n",
       "      }if (force === true) {\n",
       "        display_loaded();\n",
       "      }} else if (Date.now() < window._bokeh_timeout) {\n",
       "      setTimeout(run_inline_js, 100);\n",
       "    } else if (!window._bokeh_failed_load) {\n",
       "      console.log(\"Bokeh: BokehJS failed to load within specified timeout.\");\n",
       "      window._bokeh_failed_load = true;\n",
       "    } else if (force !== true) {\n",
       "      var cell = $(document.getElementById(\"e45fac2b-e459-472a-9d7e-51ba42545f82\")).parents('.cell').data().cell;\n",
       "      cell.output_area.append_execute_result(NB_LOAD_WARNING)\n",
       "    }\n",
       "\n",
       "  }\n",
       "\n",
       "  if (window._bokeh_is_loading === 0) {\n",
       "    console.log(\"Bokeh: BokehJS loaded, going straight to plotting\");\n",
       "    run_inline_js();\n",
       "  } else {\n",
       "    load_libs(js_urls, function() {\n",
       "      console.log(\"Bokeh: BokehJS plotting callback run at\", now());\n",
       "      run_inline_js();\n",
       "    });\n",
       "  }\n",
       "}(this));"
      ]
     },
     "metadata": {},
     "output_type": "display_data"
    }
   ],
   "source": [
    "from bokeh.layouts import row, gridplot\n",
    "from bokeh.plotting import figure, output_notebook, show\n",
    "from bokeh.models import Legend\n",
    "TOOLS = 'box_zoom,box_select,crosshair,resize,reset,lasso_select,pan,save,poly_select,tap,wheel_zoom,undo'\n",
    "output_notebook()"
   ]
  },
  {
   "cell_type": "markdown",
   "metadata": {},
   "source": [
    "# Load the data"
   ]
  },
  {
   "cell_type": "code",
   "execution_count": 3,
   "metadata": {
    "collapsed": false
   },
   "outputs": [
    {
     "name": "stdout",
     "output_type": "stream",
     "text": [
      "Number of training examples 113\n",
      "Number of validation examples 29\n",
      "Number of testing examples 36\n"
     ]
    }
   ],
   "source": [
    "X_train = np.load('./wine/X_train.npy')\n",
    "y_train = np.load('./wine/y_train.npy')\n",
    "X_test = np.load('./wine/X_test.npy')\n",
    "y_test = np.load('./wine/y_test.npy')\n",
    "X_deploy = np.load('./wine/X_deploy.npy')\n",
    "y_deploy = np.load('./wine/y_deploy.npy')\n",
    "print('Number of training examples',len(X_train))\n",
    "print('Number of validation examples',len(X_test))\n",
    "print('Number of testing examples',len(X_deploy))"
   ]
  },
  {
   "cell_type": "code",
   "execution_count": 4,
   "metadata": {
    "collapsed": false
   },
   "outputs": [],
   "source": [
    "exec(open(\"core.py\").read())  # pyhton 3x"
   ]
  },
  {
   "cell_type": "markdown",
   "metadata": {},
   "source": [
    "## Run Thompson Sampling pruning Algorithm"
   ]
  },
  {
   "cell_type": "code",
   "execution_count": 5,
   "metadata": {
    "collapsed": false
   },
   "outputs": [
    {
     "name": "stdout",
     "output_type": "stream",
     "text": [
      "29 test samples\n"
     ]
    },
    {
     "name": "stderr",
     "output_type": "stream",
     "text": [
      "/Library/Frameworks/Python.framework/Versions/3.6/lib/python3.6/site-packages/sklearn/cross_validation.py:44: DeprecationWarning: This module was deprecated in version 0.18 in favor of the model_selection module into which all the refactored classes and functions are moved. Also note that the interface of the new CV iterators are different from that of this module. This module will be removed in 0.20.\n",
      "  \"This module will be removed in 0.20.\", DeprecationWarning)\n",
      "Using Theano backend.\n"
     ]
    },
    {
     "name": "stdout",
     "output_type": "stream",
     "text": [
      "Test score: 0.111571490765\n",
      "Test accuracy: 0.965517222881\n",
      "The time for running this method is 0.04523801803588867 seconds \n",
      "Finsh playing start pruining:\n",
      "Test accuracy after pruning: 1.0\n",
      "Test accuracy after pruning: 1.0\n",
      "Test accuracy after pruning: 1.0\n",
      "Test accuracy after pruning: 1.0\n",
      "Test accuracy after pruning: 1.0\n",
      "Test accuracy after pruning: 1.0\n",
      "Test accuracy after pruning: 0.972222222222\n",
      "Test accuracy after pruning: 0.972222222222\n",
      "Test accuracy after pruning: 0.972222222222\n",
      "Test accuracy after pruning: 0.972222222222\n",
      "Test accuracy after pruning: 0.972222222222\n",
      "Test accuracy after pruning: 0.972222222222\n",
      "Test accuracy after pruning: 0.972222222222\n",
      "Test accuracy after pruning: 0.972222222222\n",
      "Test accuracy after pruning: 0.972222222222\n",
      "Test accuracy after pruning: 0.944444444444\n",
      "Test accuracy after pruning: 0.944444444444\n",
      "Test accuracy after pruning: 0.972222222222\n",
      "Test accuracy after pruning: 0.916666666667\n",
      "Test accuracy after pruning: 0.916666666667\n",
      "Test accuracy after pruning: 0.944444444444\n",
      "Test accuracy after pruning: 0.944444444444\n",
      "Test accuracy after pruning: 0.888888888889\n",
      "Test accuracy after pruning: 0.888888888889\n",
      "Test accuracy after pruning: 0.916666666667\n",
      "Test accuracy after pruning: 0.888888888889\n",
      "Test accuracy after pruning: 0.944444444444\n",
      "Test accuracy after pruning: 0.944444444444\n",
      "Test accuracy after pruning: 0.944444444444\n",
      "Test accuracy after pruning: 0.805555555556\n",
      "Test accuracy after pruning: 0.805555555556\n",
      "Test accuracy after pruning: 0.777777777778\n",
      "Test accuracy after pruning: 0.777777777778\n",
      "Test accuracy after pruning: 0.638888888889\n",
      "Test accuracy after pruning: 0.444444444444\n"
     ]
    },
    {
     "data": {
      "image/png": "[encoded data removed]",
      "text/plain": [
       "<matplotlib.figure.Figure at 0x10e013320>"
      ]
     },
     "metadata": {},
     "output_type": "display_data"
    }
   ],
   "source": [
    "algo = Thompson_Sampling([], [])\n",
    "Alg_name = 'Thompson_Sampling Algorithm'\n",
    "path = './Thompson_Sampling/'\n",
    "sys.path.append(\"./Thompson_Sampling\")\n",
    "exec(open(\"mnist_cnnFORTESTING.py\").read())"
   ]
  },
  {
   "cell_type": "markdown",
   "metadata": {},
   "source": [
    "## Run UCB1 pruning Algorithm"
   ]
  },
  {
   "cell_type": "code",
   "execution_count": 6,
   "metadata": {
    "collapsed": false
   },
   "outputs": [
    {
     "name": "stdout",
     "output_type": "stream",
     "text": [
      "29 test samples\n",
      "Test score: 0.111571490765\n",
      "Test accuracy: 0.965517222881\n",
      "The time for running this method is 0.04781603813171387 seconds \n",
      "Finsh playing start pruining:\n",
      "Test accuracy after pruning: 1.0\n",
      "Test accuracy after pruning: 1.0\n",
      "Test accuracy after pruning: 1.0\n",
      "Test accuracy after pruning: 1.0\n",
      "Test accuracy after pruning: 1.0\n",
      "Test accuracy after pruning: 1.0\n",
      "Test accuracy after pruning: 1.0\n",
      "Test accuracy after pruning: 1.0\n",
      "Test accuracy after pruning: 1.0\n",
      "Test accuracy after pruning: 1.0\n",
      "Test accuracy after pruning: 1.0\n",
      "Test accuracy after pruning: 1.0\n",
      "Test accuracy after pruning: 1.0\n",
      "Test accuracy after pruning: 1.0\n",
      "Test accuracy after pruning: 1.0\n",
      "Test accuracy after pruning: 1.0\n",
      "Test accuracy after pruning: 1.0\n",
      "Test accuracy after pruning: 1.0\n",
      "Test accuracy after pruning: 1.0\n",
      "Test accuracy after pruning: 0.972222222222\n",
      "Test accuracy after pruning: 0.972222222222\n",
      "Test accuracy after pruning: 1.0\n",
      "Test accuracy after pruning: 0.972222222222\n",
      "Test accuracy after pruning: 0.972222222222\n",
      "Test accuracy after pruning: 0.972222222222\n",
      "Test accuracy after pruning: 0.972222222222\n",
      "Test accuracy after pruning: 0.972222222222\n",
      "Test accuracy after pruning: 0.972222222222\n",
      "Test accuracy after pruning: 0.972222222222\n",
      "Test accuracy after pruning: 0.888888888889\n",
      "Test accuracy after pruning: 0.611111111111\n",
      "Test accuracy after pruning: 0.611111111111\n",
      "Test accuracy after pruning: 0.611111111111\n",
      "Test accuracy after pruning: 0.611111111111\n",
      "Test accuracy after pruning: 0.444444444444\n"
     ]
    },
    {
     "data": {
      "image/png": "[encoded data removed]",
      "text/plain": [
       "<matplotlib.figure.Figure at 0x10e6b5358>"
      ]
     },
     "metadata": {},
     "output_type": "display_data"
    }
   ],
   "source": [
    "algo = UCB1([], [])\n",
    "Alg_name = 'UCB1 Algorithm'\n",
    "path = './UCB1/'\n",
    "sys.path.append(\"./UCB1\")\n",
    "exec(open(\"mnist_cnnFORTESTING.py\").read())"
   ]
  },
  {
   "cell_type": "markdown",
   "metadata": {
    "collapsed": true
   },
   "source": [
    "# Compare the accuracy"
   ]
  },
  {
   "cell_type": "code",
   "execution_count": 7,
   "metadata": {
    "collapsed": true
   },
   "outputs": [],
   "source": [
    "ucb1 = np.load('./UCB1/AccuracyAftrerPrune.npy')\n",
    "ThompsonSampling = np.load('./Thompson_Sampling/AccuracyAftrerPrune.npy')\n",
    "Accuracy = np.load('AccuracyBeforePruning.npy')"
   ]
  },
  {
   "cell_type": "code",
   "execution_count": 8,
   "metadata": {
    "collapsed": false
   },
   "outputs": [
    {
     "data": {
      "image/png": "[encoded data removed]",
      "text/plain": [
       "<matplotlib.figure.Figure at 0x10e709a58>"
      ]
     },
     "metadata": {},
     "output_type": "display_data"
    }
   ],
   "source": [
    "fig = plt.figure(figsize=(10, 6), dpi=80)\n",
    "ax = fig.add_subplot(111)\n",
    "N = len(ucb1)\n",
    "ind = np.arange(N)                # the x locations for the groups\n",
    "plt.plot(ind , ucb1 , color=\"blue\", linewidth=2.5, linestyle=\"-\", label=\"UCB1\")\n",
    "plt.plot(ind , ThompsonSampling, color=\"orange\", linewidth=2.5, linestyle=\"-\", label=\"Thompson Sampling\")\n",
    "plt.legend(loc = 3)\n",
    "plt.axis([0, 25, 0, 1])\n",
    "plt.xlabel('Number of pruned Neurons')\n",
    "plt.ylabel('The Accuracy')\n",
    "plt.grid(True)\n",
    "plt.show()"
   ]
  },
  {
   "cell_type": "code",
   "execution_count": 9,
   "metadata": {
    "collapsed": false
   },
   "outputs": [
    {
     "data": {
      "text/html": [
       "\n",
       "\n",
       "    <div class=\"bk-root\">\n",
       "        <div class=\"bk-plotdiv\" id=\"fbcd4e42-79a7-4f58-870e-5d79b76e5ca4\"></div>\n",
       "    </div>\n",
       "<script type=\"text/javascript\">\n",
       "  \n",
       "  (function(global) {\n",
       "    function now() {\n",
       "      return new Date();\n",
       "    }\n",
       "  \n",
       "    var force = false;\n",
       "  \n",
       "    if (typeof (window._bokeh_onload_callbacks) === \"undefined\" || force === true) {\n",
       "      window._bokeh_onload_callbacks = [];\n",
       "      window._bokeh_is_loading = undefined;\n",
       "    }\n",
       "  \n",
       "  \n",
       "    \n",
       "    if (typeof (window._bokeh_timeout) === \"undefined\" || force === true) {\n",
       "      window._bokeh_timeout = Date.now() + 0;\n",
       "      window._bokeh_failed_load = false;\n",
       "    }\n",
       "  \n",
       "    var NB_LOAD_WARNING = {'data': {'text/html':\n",
       "       \"<div style='background-color: #fdd'>\\n\"+\n",
       "       \"<p>\\n\"+\n",
       "       \"BokehJS does not appear to have successfully loaded. If loading BokehJS from CDN, this \\n\"+\n",
       "       \"may be due to a slow or bad network connection. Possible fixes:\\n\"+\n",
       "       \"</p>\\n\"+\n",
       "       \"<ul>\\n\"+\n",
       "       \"<li>re-rerun `output_notebook()` to attempt to load from CDN again, or</li>\\n\"+\n",
       "       \"<li>use INLINE resources instead, as so:</li>\\n\"+\n",
       "       \"</ul>\\n\"+\n",
       "       \"<code>\\n\"+\n",
       "       \"from bokeh.resources import INLINE\\n\"+\n",
       "       \"output_notebook(resources=INLINE)\\n\"+\n",
       "       \"</code>\\n\"+\n",
       "       \"</div>\"}};\n",
       "  \n",
       "    function display_loaded() {\n",
       "      if (window.Bokeh !== undefined) {\n",
       "        document.getElementById(\"fbcd4e42-79a7-4f58-870e-5d79b76e5ca4\").textContent = \"BokehJS successfully loaded.\";\n",
       "      } else if (Date.now() < window._bokeh_timeout) {\n",
       "        setTimeout(display_loaded, 100)\n",
       "      }\n",
       "    }\n",
       "  \n",
       "    function run_callbacks() {\n",
       "      window._bokeh_onload_callbacks.forEach(function(callback) { callback() });\n",
       "      delete window._bokeh_onload_callbacks\n",
       "      console.info(\"Bokeh: all callbacks have finished\");\n",
       "    }\n",
       "  \n",
       "    function load_libs(js_urls, callback) {\n",
       "      window._bokeh_onload_callbacks.push(callback);\n",
       "      if (window._bokeh_is_loading > 0) {\n",
       "        console.log(\"Bokeh: BokehJS is being loaded, scheduling callback at\", now());\n",
       "        return null;\n",
       "      }\n",
       "      if (js_urls == null || js_urls.length === 0) {\n",
       "        run_callbacks();\n",
       "        return null;\n",
       "      }\n",
       "      console.log(\"Bokeh: BokehJS not loaded, scheduling load and callback at\", now());\n",
       "      window._bokeh_is_loading = js_urls.length;\n",
       "      for (var i = 0; i < js_urls.length; i++) {\n",
       "        var url = js_urls[i];\n",
       "        var s = document.createElement('script');\n",
       "        s.src = url;\n",
       "        s.async = false;\n",
       "        s.onreadystatechange = s.onload = function() {\n",
       "          window._bokeh_is_loading--;\n",
       "          if (window._bokeh_is_loading === 0) {\n",
       "            console.log(\"Bokeh: all BokehJS libraries loaded\");\n",
       "            run_callbacks()\n",
       "          }\n",
       "        };\n",
       "        s.onerror = function() {\n",
       "          console.warn(\"failed to load library \" + url);\n",
       "        };\n",
       "        console.log(\"Bokeh: injecting script tag for BokehJS library: \", url);\n",
       "        document.getElementsByTagName(\"head\")[0].appendChild(s);\n",
       "      }\n",
       "    };var element = document.getElementById(\"fbcd4e42-79a7-4f58-870e-5d79b76e5ca4\");\n",
       "    if (element == null) {\n",
       "      console.log(\"Bokeh: ERROR: autoload.js configured with elementid 'fbcd4e42-79a7-4f58-870e-5d79b76e5ca4' but no matching script tag was found. \")\n",
       "      return false;\n",
       "    }\n",
       "  \n",
       "    var js_urls = [];\n",
       "  \n",
       "    var inline_js = [\n",
       "      function(Bokeh) {\n",
       "        (function() {\n",
       "          var fn = function() {\n",
       "            var docs_json = {\"f374ac32-b3ac-4804-8d39-3fdc8a023147\":{\"roots\":{\"references\":[{\"attributes\":{\"label\":{\"value\":\"Thompson Sampling\"},\"renderers\":[{\"id\":\"b84ed546-4fef-4308-a827-765267051ed5\",\"type\":\"GlyphRenderer\"}]},\"id\":\"07e48b5c-b584-4723-be3d-61d8d1f17f44\",\"type\":\"LegendItem\"},{\"attributes\":{\"data_source\":{\"id\":\"d4f1d195-57c2-49c2-b6e4-4c7c4637d518\",\"type\":\"ColumnDataSource\"},\"glyph\":{\"id\":\"7a49eec3-48d3-4f66-a3c9-bf35f2788f01\",\"type\":\"Line\"},\"hover_glyph\":null,\"nonselection_glyph\":{\"id\":\"bf69b6de-2498-48f0-97ef-5878660c9195\",\"type\":\"Line\"},\"selection_glyph\":null},\"id\":\"74d23f6a-4b77-4d25-91a2-9693647e6630\",\"type\":\"GlyphRenderer\"},{\"attributes\":{\"active_drag\":\"auto\",\"active_scroll\":\"auto\",\"active_tap\":\"auto\",\"tools\":[{\"id\":\"79a23f64-aee8-4e67-b8d7-f85e9812e728\",\"type\":\"BoxZoomTool\"},{\"id\":\"93f7c4e6-fe1f-49e9-b8f7-39a83cd6581b\",\"type\":\"BoxSelectTool\"},{\"id\":\"b42601d1-3097-4673-aae6-9ca8d2d413f8\",\"type\":\"CrosshairTool\"},{\"id\":\"662cd01a-574a-4eaf-b371-0f5e556dc44a\",\"type\":\"ResizeTool\"},{\"id\":\"ffeef0d7-e64f-4575-86e0-1de037604756\",\"type\":\"ResetTool\"},{\"id\":\"a4d0e8f5-e319-4d11-9c11-339ac6533bf2\",\"type\":\"LassoSelectTool\"},{\"id\":\"af40247e-b679-42a8-95b5-0f0f98cc1ffd\",\"type\":\"PanTool\"},{\"id\":\"1dcd8908-527f-4bb9-86f4-b7206383d4fb\",\"type\":\"SaveTool\"},{\"id\":\"1f661d79-2a49-428e-9ebb-de00b17937cc\",\"type\":\"PolySelectTool\"},{\"id\":\"bca3c7b3-6859-42c5-addf-37afa3dbd80a\",\"type\":\"TapTool\"},{\"id\":\"69e06a5b-e343-4749-8cf4-7992461d3ab9\",\"type\":\"WheelZoomTool\"},{\"id\":\"94d35307-5ba9-415b-bcc5-9c7c6fff519b\",\"type\":\"UndoTool\"}]},\"id\":\"2b975d2c-e58e-43e5-a154-d411f67cf901\",\"type\":\"Toolbar\"},{\"attributes\":{\"plot\":{\"id\":\"992931aa-f760-47f4-ab35-941cc6c34b7d\",\"subtype\":\"Figure\",\"type\":\"Plot\"}},\"id\":\"94d35307-5ba9-415b-bcc5-9c7c6fff519b\",\"type\":\"UndoTool\"},{\"attributes\":{\"callback\":null,\"overlay\":{\"id\":\"b1f230e3-43f3-428c-92c3-1f6f1fbbf026\",\"type\":\"BoxAnnotation\"},\"plot\":{\"id\":\"992931aa-f760-47f4-ab35-941cc6c34b7d\",\"subtype\":\"Figure\",\"type\":\"Plot\"},\"renderers\":[{\"id\":\"74d23f6a-4b77-4d25-91a2-9693647e6630\",\"type\":\"GlyphRenderer\"},{\"id\":\"b84ed546-4fef-4308-a827-765267051ed5\",\"type\":\"GlyphRenderer\"}]},\"id\":\"93f7c4e6-fe1f-49e9-b8f7-39a83cd6581b\",\"type\":\"BoxSelectTool\"},{\"attributes\":{\"overlay\":{\"id\":\"a7560139-d922-448f-891d-04b6e6eaa7ec\",\"type\":\"BoxAnnotation\"},\"plot\":{\"id\":\"992931aa-f760-47f4-ab35-941cc6c34b7d\",\"subtype\":\"Figure\",\"type\":\"Plot\"}},\"id\":\"79a23f64-aee8-4e67-b8d7-f85e9812e728\",\"type\":\"BoxZoomTool\"},{\"attributes\":{\"line_color\":{\"value\":\"blue\"},\"line_width\":{\"value\":2},\"x\":{\"field\":\"x\"},\"y\":{\"field\":\"y\"}},\"id\":\"7a49eec3-48d3-4f66-a3c9-bf35f2788f01\",\"type\":\"Line\"},{\"attributes\":{\"plot\":{\"id\":\"992931aa-f760-47f4-ab35-941cc6c34b7d\",\"subtype\":\"Figure\",\"type\":\"Plot\"}},\"id\":\"69e06a5b-e343-4749-8cf4-7992461d3ab9\",\"type\":\"WheelZoomTool\"},{\"attributes\":{\"bottom_units\":\"screen\",\"fill_alpha\":{\"value\":0.5},\"fill_color\":{\"value\":\"lightgrey\"},\"left_units\":\"screen\",\"level\":\"overlay\",\"line_alpha\":{\"value\":1.0},\"line_color\":{\"value\":\"black\"},\"line_dash\":[4,4],\"line_width\":{\"value\":2},\"plot\":null,\"render_mode\":\"css\",\"right_units\":\"screen\",\"top_units\":\"screen\"},\"id\":\"b1f230e3-43f3-428c-92c3-1f6f1fbbf026\",\"type\":\"BoxAnnotation\"},{\"attributes\":{\"callback\":null,\"plot\":{\"id\":\"992931aa-f760-47f4-ab35-941cc6c34b7d\",\"subtype\":\"Figure\",\"type\":\"Plot\"}},\"id\":\"bca3c7b3-6859-42c5-addf-37afa3dbd80a\",\"type\":\"TapTool\"},{\"attributes\":{\"fill_alpha\":{\"value\":0.5},\"fill_color\":{\"value\":\"lightgrey\"},\"level\":\"overlay\",\"line_alpha\":{\"value\":1.0},\"line_color\":{\"value\":\"black\"},\"line_dash\":[4,4],\"line_width\":{\"value\":2},\"plot\":null,\"xs_units\":\"screen\",\"ys_units\":\"screen\"},\"id\":\"5f0a154e-6062-4415-a6ad-66a67b096f60\",\"type\":\"PolyAnnotation\"},{\"attributes\":{\"plot\":{\"id\":\"992931aa-f760-47f4-ab35-941cc6c34b7d\",\"subtype\":\"Figure\",\"type\":\"Plot\"},\"ticker\":{\"id\":\"e82b8d52-74a6-4613-9e25-ac0a75f189db\",\"type\":\"BasicTicker\"}},\"id\":\"1e498f9f-b92f-490a-91f9-53f3fa550a67\",\"type\":\"Grid\"},{\"attributes\":{\"callback\":null},\"id\":\"c1fc16f6-d72c-4ed8-9f05-b0e901c8d5c7\",\"type\":\"DataRange1d\"},{\"attributes\":{\"formatter\":{\"id\":\"8707e032-a785-4b14-a46e-28379f465271\",\"type\":\"BasicTickFormatter\"},\"plot\":{\"id\":\"992931aa-f760-47f4-ab35-941cc6c34b7d\",\"subtype\":\"Figure\",\"type\":\"Plot\"},\"ticker\":{\"id\":\"e82b8d52-74a6-4613-9e25-ac0a75f189db\",\"type\":\"BasicTicker\"}},\"id\":\"88966983-4ff2-4912-8aff-a050aef71ca5\",\"type\":\"LinearAxis\"},{\"attributes\":{\"fill_alpha\":{\"value\":0.5},\"fill_color\":{\"value\":\"lightgrey\"},\"level\":\"overlay\",\"line_alpha\":{\"value\":1.0},\"line_color\":{\"value\":\"black\"},\"line_dash\":[4,4],\"line_width\":{\"value\":2},\"plot\":null,\"xs_units\":\"screen\",\"ys_units\":\"screen\"},\"id\":\"7fd457da-a9f0-4954-9862-41e073e6cfde\",\"type\":\"PolyAnnotation\"},{\"attributes\":{},\"id\":\"ff4bab9b-bcc9-4424-9938-c042b32c033f\",\"type\":\"ToolEvents\"},{\"attributes\":{\"plot\":{\"id\":\"992931aa-f760-47f4-ab35-941cc6c34b7d\",\"subtype\":\"Figure\",\"type\":\"Plot\"}},\"id\":\"b42601d1-3097-4673-aae6-9ca8d2d413f8\",\"type\":\"CrosshairTool\"},{\"attributes\":{\"formatter\":{\"id\":\"9fbd6adb-3e7f-496e-99ab-3d72b26aa718\",\"type\":\"BasicTickFormatter\"},\"plot\":{\"id\":\"992931aa-f760-47f4-ab35-941cc6c34b7d\",\"subtype\":\"Figure\",\"type\":\"Plot\"},\"ticker\":{\"id\":\"36946f0a-dfa2-404a-83c1-033e636a59a6\",\"type\":\"BasicTicker\"}},\"id\":\"74746640-3399-4905-ad63-c6b728075b27\",\"type\":\"LinearAxis\"},{\"attributes\":{\"callback\":null,\"overlay\":{\"id\":\"7fd457da-a9f0-4954-9862-41e073e6cfde\",\"type\":\"PolyAnnotation\"},\"plot\":{\"id\":\"992931aa-f760-47f4-ab35-941cc6c34b7d\",\"subtype\":\"Figure\",\"type\":\"Plot\"}},\"id\":\"a4d0e8f5-e319-4d11-9c11-339ac6533bf2\",\"type\":\"LassoSelectTool\"},{\"attributes\":{},\"id\":\"36946f0a-dfa2-404a-83c1-033e636a59a6\",\"type\":\"BasicTicker\"},{\"attributes\":{\"plot\":{\"id\":\"992931aa-f760-47f4-ab35-941cc6c34b7d\",\"subtype\":\"Figure\",\"type\":\"Plot\"}},\"id\":\"af40247e-b679-42a8-95b5-0f0f98cc1ffd\",\"type\":\"PanTool\"},{\"attributes\":{\"plot\":{\"id\":\"992931aa-f760-47f4-ab35-941cc6c34b7d\",\"subtype\":\"Figure\",\"type\":\"Plot\"}},\"id\":\"ffeef0d7-e64f-4575-86e0-1de037604756\",\"type\":\"ResetTool\"},{\"attributes\":{\"data_source\":{\"id\":\"7d7f68a3-1188-4e35-8282-890e728f82fe\",\"type\":\"ColumnDataSource\"},\"glyph\":{\"id\":\"291493e8-64a5-420d-86cb-25dd3cb48b46\",\"type\":\"Line\"},\"hover_glyph\":null,\"nonselection_glyph\":{\"id\":\"efd50209-d939-42dd-9c05-9835cc4db927\",\"type\":\"Line\"},\"selection_glyph\":null},\"id\":\"b84ed546-4fef-4308-a827-765267051ed5\",\"type\":\"GlyphRenderer\"},{\"attributes\":{\"bottom_units\":\"screen\",\"fill_alpha\":{\"value\":0.5},\"fill_color\":{\"value\":\"lightgrey\"},\"left_units\":\"screen\",\"level\":\"overlay\",\"line_alpha\":{\"value\":1.0},\"line_color\":{\"value\":\"black\"},\"line_dash\":[4,4],\"line_width\":{\"value\":2},\"plot\":null,\"render_mode\":\"css\",\"right_units\":\"screen\",\"top_units\":\"screen\"},\"id\":\"a7560139-d922-448f-891d-04b6e6eaa7ec\",\"type\":\"BoxAnnotation\"},{\"attributes\":{\"align\":\"center\",\"plot\":null,\"text\":\"The Performance over the number of neurons' pruned\"},\"id\":\"5aaa27bf-330d-4e9b-9f4d-e1eaea7340c6\",\"type\":\"Title\"},{\"attributes\":{\"line_color\":{\"value\":\"red\"},\"line_width\":{\"value\":2},\"x\":{\"field\":\"x\"},\"y\":{\"field\":\"y\"}},\"id\":\"291493e8-64a5-420d-86cb-25dd3cb48b46\",\"type\":\"Line\"},{\"attributes\":{\"below\":[{\"id\":\"88966983-4ff2-4912-8aff-a050aef71ca5\",\"type\":\"LinearAxis\"}],\"left\":[{\"id\":\"74746640-3399-4905-ad63-c6b728075b27\",\"type\":\"LinearAxis\"}],\"renderers\":[{\"id\":\"88966983-4ff2-4912-8aff-a050aef71ca5\",\"type\":\"LinearAxis\"},{\"id\":\"1e498f9f-b92f-490a-91f9-53f3fa550a67\",\"type\":\"Grid\"},{\"id\":\"74746640-3399-4905-ad63-c6b728075b27\",\"type\":\"LinearAxis\"},{\"id\":\"a1edd88c-c865-4205-9334-14e79d1af3b5\",\"type\":\"Grid\"},{\"id\":\"a7560139-d922-448f-891d-04b6e6eaa7ec\",\"type\":\"BoxAnnotation\"},{\"id\":\"b1f230e3-43f3-428c-92c3-1f6f1fbbf026\",\"type\":\"BoxAnnotation\"},{\"id\":\"7fd457da-a9f0-4954-9862-41e073e6cfde\",\"type\":\"PolyAnnotation\"},{\"id\":\"5f0a154e-6062-4415-a6ad-66a67b096f60\",\"type\":\"PolyAnnotation\"},{\"id\":\"31792a30-cb16-48d6-bcd2-bd615df83634\",\"type\":\"Legend\"},{\"id\":\"74d23f6a-4b77-4d25-91a2-9693647e6630\",\"type\":\"GlyphRenderer\"},{\"id\":\"b84ed546-4fef-4308-a827-765267051ed5\",\"type\":\"GlyphRenderer\"}],\"title\":{\"id\":\"5aaa27bf-330d-4e9b-9f4d-e1eaea7340c6\",\"type\":\"Title\"},\"tool_events\":{\"id\":\"ff4bab9b-bcc9-4424-9938-c042b32c033f\",\"type\":\"ToolEvents\"},\"toolbar\":{\"id\":\"2b975d2c-e58e-43e5-a154-d411f67cf901\",\"type\":\"Toolbar\"},\"x_range\":{\"id\":\"c1fc16f6-d72c-4ed8-9f05-b0e901c8d5c7\",\"type\":\"DataRange1d\"},\"y_range\":{\"id\":\"1736fa01-e6d4-4b93-af0f-28bd3dcc25c6\",\"type\":\"DataRange1d\"}},\"id\":\"992931aa-f760-47f4-ab35-941cc6c34b7d\",\"subtype\":\"Figure\",\"type\":\"Plot\"},{\"attributes\":{\"line_alpha\":{\"value\":0.1},\"line_color\":{\"value\":\"#1f77b4\"},\"line_width\":{\"value\":2},\"x\":{\"field\":\"x\"},\"y\":{\"field\":\"y\"}},\"id\":\"efd50209-d939-42dd-9c05-9835cc4db927\",\"type\":\"Line\"},{\"attributes\":{\"items\":[{\"id\":\"6fc8869c-61c1-4c17-9c95-578e349bebe7\",\"type\":\"LegendItem\"},{\"id\":\"07e48b5c-b584-4723-be3d-61d8d1f17f44\",\"type\":\"LegendItem\"}],\"plot\":{\"id\":\"992931aa-f760-47f4-ab35-941cc6c34b7d\",\"subtype\":\"Figure\",\"type\":\"Plot\"}},\"id\":\"31792a30-cb16-48d6-bcd2-bd615df83634\",\"type\":\"Legend\"},{\"attributes\":{\"dimension\":1,\"plot\":{\"id\":\"992931aa-f760-47f4-ab35-941cc6c34b7d\",\"subtype\":\"Figure\",\"type\":\"Plot\"},\"ticker\":{\"id\":\"36946f0a-dfa2-404a-83c1-033e636a59a6\",\"type\":\"BasicTicker\"}},\"id\":\"a1edd88c-c865-4205-9334-14e79d1af3b5\",\"type\":\"Grid\"},{\"attributes\":{\"line_alpha\":{\"value\":0.1},\"line_color\":{\"value\":\"#1f77b4\"},\"line_width\":{\"value\":2},\"x\":{\"field\":\"x\"},\"y\":{\"field\":\"y\"}},\"id\":\"bf69b6de-2498-48f0-97ef-5878660c9195\",\"type\":\"Line\"},{\"attributes\":{\"callback\":null},\"id\":\"1736fa01-e6d4-4b93-af0f-28bd3dcc25c6\",\"type\":\"DataRange1d\"},{\"attributes\":{},\"id\":\"9fbd6adb-3e7f-496e-99ab-3d72b26aa718\",\"type\":\"BasicTickFormatter\"},{\"attributes\":{\"callback\":null,\"column_names\":[\"x\",\"y\"],\"data\":{\"x\":[0,1,2,3,4,5,6,7,8,9,10,11,12,13,14,15,16,17,18,19,20,21,22,23,24,25,26,27,28,29,30,31,32,33,34],\"y\":{\"__ndarray__\":\"AAAAAAAA8D8AAAAAAADwPwAAAAAAAPA/AAAAAAAA8D8AAAAAAADwPwAAAAAAAPA/x3Ecx3Ec7z/HcRzHcRzvP8dxHMdxHO8/x3Ecx3Ec7z/HcRzHcRzvP8dxHMdxHO8/x3Ecx3Ec7z/HcRzHcRzvP8dxHMdxHO8/juM4juM47j+O4ziO4zjuP8dxHMdxHO8/VVVVVVVV7T9VVVVVVVXtP47jOI7jOO4/juM4juM47j8cx3Ecx3HsPxzHcRzHcew/VVVVVVVV7T8cx3Ecx3HsP47jOI7jOO4/juM4juM47j+O4ziO4zjuP3Icx3Ecx+k/chzHcRzH6T85juM4juPoPzmO4ziO4+g/HMdxHMdx5D8cx3Ecx3HcPw==\",\"dtype\":\"float64\",\"shape\":[35]}}},\"id\":\"7d7f68a3-1188-4e35-8282-890e728f82fe\",\"type\":\"ColumnDataSource\"},{\"attributes\":{\"label\":{\"value\":\"ucb1\"},\"renderers\":[{\"id\":\"74d23f6a-4b77-4d25-91a2-9693647e6630\",\"type\":\"GlyphRenderer\"}]},\"id\":\"6fc8869c-61c1-4c17-9c95-578e349bebe7\",\"type\":\"LegendItem\"},{\"attributes\":{\"plot\":{\"id\":\"992931aa-f760-47f4-ab35-941cc6c34b7d\",\"subtype\":\"Figure\",\"type\":\"Plot\"}},\"id\":\"662cd01a-574a-4eaf-b371-0f5e556dc44a\",\"type\":\"ResizeTool\"},{\"attributes\":{},\"id\":\"8707e032-a785-4b14-a46e-28379f465271\",\"type\":\"BasicTickFormatter\"},{\"attributes\":{},\"id\":\"e82b8d52-74a6-4613-9e25-ac0a75f189db\",\"type\":\"BasicTicker\"},{\"attributes\":{\"plot\":{\"id\":\"992931aa-f760-47f4-ab35-941cc6c34b7d\",\"subtype\":\"Figure\",\"type\":\"Plot\"}},\"id\":\"1dcd8908-527f-4bb9-86f4-b7206383d4fb\",\"type\":\"SaveTool\"},{\"attributes\":{\"overlay\":{\"id\":\"5f0a154e-6062-4415-a6ad-66a67b096f60\",\"type\":\"PolyAnnotation\"},\"plot\":{\"id\":\"992931aa-f760-47f4-ab35-941cc6c34b7d\",\"subtype\":\"Figure\",\"type\":\"Plot\"}},\"id\":\"1f661d79-2a49-428e-9ebb-de00b17937cc\",\"type\":\"PolySelectTool\"},{\"attributes\":{\"callback\":null,\"column_names\":[\"x\",\"y\"],\"data\":{\"x\":[0,1,2,3,4,5,6,7,8,9,10,11,12,13,14,15,16,17,18,19,20,21,22,23,24,25,26,27,28,29,30,31,32,33,34],\"y\":{\"__ndarray__\":\"AAAAAAAA8D8AAAAAAADwPwAAAAAAAPA/AAAAAAAA8D8AAAAAAADwPwAAAAAAAPA/AAAAAAAA8D8AAAAAAADwPwAAAAAAAPA/AAAAAAAA8D8AAAAAAADwPwAAAAAAAPA/AAAAAAAA8D8AAAAAAADwPwAAAAAAAPA/AAAAAAAA8D8AAAAAAADwPwAAAAAAAPA/AAAAAAAA8D/HcRzHcRzvP8dxHMdxHO8/AAAAAAAA8D/HcRzHcRzvP8dxHMdxHO8/x3Ecx3Ec7z/HcRzHcRzvP8dxHMdxHO8/x3Ecx3Ec7z/HcRzHcRzvPxzHcRzHcew/5DiO4ziO4z/kOI7jOI7jP+Q4juM4juM/5DiO4ziO4z8cx3Ecx3HcPw==\",\"dtype\":\"float64\",\"shape\":[35]}}},\"id\":\"d4f1d195-57c2-49c2-b6e4-4c7c4637d518\",\"type\":\"ColumnDataSource\"}],\"root_ids\":[\"992931aa-f760-47f4-ab35-941cc6c34b7d\"]},\"title\":\"Bokeh Application\",\"version\":\"0.12.4\"}};\n",
       "            var render_items = [{\"docid\":\"f374ac32-b3ac-4804-8d39-3fdc8a023147\",\"elementid\":\"fbcd4e42-79a7-4f58-870e-5d79b76e5ca4\",\"modelid\":\"992931aa-f760-47f4-ab35-941cc6c34b7d\"}];\n",
       "            \n",
       "            Bokeh.embed.embed_items(docs_json, render_items);\n",
       "          };\n",
       "          if (document.readyState != \"loading\") fn();\n",
       "          else document.addEventListener(\"DOMContentLoaded\", fn);\n",
       "        })();\n",
       "      },\n",
       "      function(Bokeh) {\n",
       "      }\n",
       "    ];\n",
       "  \n",
       "    function run_inline_js() {\n",
       "      \n",
       "      if ((window.Bokeh !== undefined) || (force === true)) {\n",
       "        for (var i = 0; i < inline_js.length; i++) {\n",
       "          inline_js[i](window.Bokeh);\n",
       "        }if (force === true) {\n",
       "          display_loaded();\n",
       "        }} else if (Date.now() < window._bokeh_timeout) {\n",
       "        setTimeout(run_inline_js, 100);\n",
       "      } else if (!window._bokeh_failed_load) {\n",
       "        console.log(\"Bokeh: BokehJS failed to load within specified timeout.\");\n",
       "        window._bokeh_failed_load = true;\n",
       "      } else if (force !== true) {\n",
       "        var cell = $(document.getElementById(\"fbcd4e42-79a7-4f58-870e-5d79b76e5ca4\")).parents('.cell').data().cell;\n",
       "        cell.output_area.append_execute_result(NB_LOAD_WARNING)\n",
       "      }\n",
       "  \n",
       "    }\n",
       "  \n",
       "    if (window._bokeh_is_loading === 0) {\n",
       "      console.log(\"Bokeh: BokehJS loaded, going straight to plotting\");\n",
       "      run_inline_js();\n",
       "    } else {\n",
       "      load_libs(js_urls, function() {\n",
       "        console.log(\"Bokeh: BokehJS plotting callback run at\", now());\n",
       "        run_inline_js();\n",
       "      });\n",
       "    }\n",
       "  }(this));\n",
       "</script>"
      ]
     },
     "metadata": {},
     "output_type": "display_data"
    }
   ],
   "source": [
    "p1 = figure(title=\"The Performance over the number of neurons' pruned\", tools=TOOLS)\n",
    "p1.line(ind, ucb1, legend=\"ucb1\", line_color=\"blue\", line_width=2)\n",
    "p1.line(ind, ThompsonSampling, legend=\"Thompson Sampling\", line_color=\"red\", line_width=2)\n",
    "p1.title.align = \"center\"\n",
    "show(p1)"
   ]
  },
  {
   "cell_type": "markdown",
   "metadata": {},
   "source": [
    "# Comparing All algorithms with the model before pruning"
   ]
  },
  {
   "cell_type": "code",
   "execution_count": 10,
   "metadata": {
    "collapsed": false
   },
   "outputs": [
    {
     "data": {
      "image/png": "[encoded data removed]",
      "text/plain": [
       "<matplotlib.figure.Figure at 0x10e751860>"
      ]
     },
     "metadata": {},
     "output_type": "display_data"
    }
   ],
   "source": [
    "fig = plt.figure(figsize=(10, 6), dpi=80)\n",
    "ax = fig.add_subplot(111)\n",
    "N = len(ucb1)\n",
    "Acc = [Accuracy for col in range(N)]\n",
    "ind = np.arange(N)                # the x locations for the groups\n",
    "plt.plot(ind , ucb1 , color=\"blue\", linewidth=2.5, linestyle=\"-\", label=\"UCB1\")\n",
    "plt.plot(ind , ThompsonSampling, color=\"orange\", linewidth=2.5, linestyle=\"-\", label=\"Thompson Sampling\")\n",
    "plt.plot(ind , Acc, color=\"pink\", linewidth=2.5, linestyle=\"-\", label=\"Accuracy before Pruning\")\n",
    "plt.legend(loc = 3)\n",
    "plt.axis([0, 25, 0, 1])\n",
    "plt.xlabel('Number of pruned Neurons')\n",
    "plt.ylabel('The Accuracy')\n",
    "plt.grid(True)\n",
    "plt.show()"
   ]
  },
  {
   "cell_type": "code",
   "execution_count": 11,
   "metadata": {
    "collapsed": false
   },
   "outputs": [
    {
     "data": {
      "text/html": [
       "\n",
       "\n",
       "    <div class=\"bk-root\">\n",
       "        <div class=\"bk-plotdiv\" id=\"c9710891-c4af-4ca1-8992-2976bdfd581b\"></div>\n",
       "    </div>\n",
       "<script type=\"text/javascript\">\n",
       "  \n",
       "  (function(global) {\n",
       "    function now() {\n",
       "      return new Date();\n",
       "    }\n",
       "  \n",
       "    var force = false;\n",
       "  \n",
       "    if (typeof (window._bokeh_onload_callbacks) === \"undefined\" || force === true) {\n",
       "      window._bokeh_onload_callbacks = [];\n",
       "      window._bokeh_is_loading = undefined;\n",
       "    }\n",
       "  \n",
       "  \n",
       "    \n",
       "    if (typeof (window._bokeh_timeout) === \"undefined\" || force === true) {\n",
       "      window._bokeh_timeout = Date.now() + 0;\n",
       "      window._bokeh_failed_load = false;\n",
       "    }\n",
       "  \n",
       "    var NB_LOAD_WARNING = {'data': {'text/html':\n",
       "       \"<div style='background-color: #fdd'>\\n\"+\n",
       "       \"<p>\\n\"+\n",
       "       \"BokehJS does not appear to have successfully loaded. If loading BokehJS from CDN, this \\n\"+\n",
       "       \"may be due to a slow or bad network connection. Possible fixes:\\n\"+\n",
       "       \"</p>\\n\"+\n",
       "       \"<ul>\\n\"+\n",
       "       \"<li>re-rerun `output_notebook()` to attempt to load from CDN again, or</li>\\n\"+\n",
       "       \"<li>use INLINE resources instead, as so:</li>\\n\"+\n",
       "       \"</ul>\\n\"+\n",
       "       \"<code>\\n\"+\n",
       "       \"from bokeh.resources import INLINE\\n\"+\n",
       "       \"output_notebook(resources=INLINE)\\n\"+\n",
       "       \"</code>\\n\"+\n",
       "       \"</div>\"}};\n",
       "  \n",
       "    function display_loaded() {\n",
       "      if (window.Bokeh !== undefined) {\n",
       "        document.getElementById(\"c9710891-c4af-4ca1-8992-2976bdfd581b\").textContent = \"BokehJS successfully loaded.\";\n",
       "      } else if (Date.now() < window._bokeh_timeout) {\n",
       "        setTimeout(display_loaded, 100)\n",
       "      }\n",
       "    }\n",
       "  \n",
       "    function run_callbacks() {\n",
       "      window._bokeh_onload_callbacks.forEach(function(callback) { callback() });\n",
       "      delete window._bokeh_onload_callbacks\n",
       "      console.info(\"Bokeh: all callbacks have finished\");\n",
       "    }\n",
       "  \n",
       "    function load_libs(js_urls, callback) {\n",
       "      window._bokeh_onload_callbacks.push(callback);\n",
       "      if (window._bokeh_is_loading > 0) {\n",
       "        console.log(\"Bokeh: BokehJS is being loaded, scheduling callback at\", now());\n",
       "        return null;\n",
       "      }\n",
       "      if (js_urls == null || js_urls.length === 0) {\n",
       "        run_callbacks();\n",
       "        return null;\n",
       "      }\n",
       "      console.log(\"Bokeh: BokehJS not loaded, scheduling load and callback at\", now());\n",
       "      window._bokeh_is_loading = js_urls.length;\n",
       "      for (var i = 0; i < js_urls.length; i++) {\n",
       "        var url = js_urls[i];\n",
       "        var s = document.createElement('script');\n",
       "        s.src = url;\n",
       "        s.async = false;\n",
       "        s.onreadystatechange = s.onload = function() {\n",
       "          window._bokeh_is_loading--;\n",
       "          if (window._bokeh_is_loading === 0) {\n",
       "            console.log(\"Bokeh: all BokehJS libraries loaded\");\n",
       "            run_callbacks()\n",
       "          }\n",
       "        };\n",
       "        s.onerror = function() {\n",
       "          console.warn(\"failed to load library \" + url);\n",
       "        };\n",
       "        console.log(\"Bokeh: injecting script tag for BokehJS library: \", url);\n",
       "        document.getElementsByTagName(\"head\")[0].appendChild(s);\n",
       "      }\n",
       "    };var element = document.getElementById(\"c9710891-c4af-4ca1-8992-2976bdfd581b\");\n",
       "    if (element == null) {\n",
       "      console.log(\"Bokeh: ERROR: autoload.js configured with elementid 'c9710891-c4af-4ca1-8992-2976bdfd581b' but no matching script tag was found. \")\n",
       "      return false;\n",
       "    }\n",
       "  \n",
       "    var js_urls = [];\n",
       "  \n",
       "    var inline_js = [\n",
       "      function(Bokeh) {\n",
       "        (function() {\n",
       "          var fn = function() {\n",
       "            var docs_json = {\"3b251e2b-36a6-484a-b744-c98c49068ee1\":{\"roots\":{\"references\":[{\"attributes\":{},\"id\":\"ea1a17fc-afc0-4601-8e3b-52781beab2c7\",\"type\":\"BasicTickFormatter\"},{\"attributes\":{\"below\":[{\"id\":\"fb15a7f6-af1c-4cef-9304-f88f56c59786\",\"type\":\"LinearAxis\"}],\"left\":[{\"id\":\"5500aa26-fde0-4d54-93f3-1658dc28303a\",\"type\":\"LinearAxis\"}],\"renderers\":[{\"id\":\"fb15a7f6-af1c-4cef-9304-f88f56c59786\",\"type\":\"LinearAxis\"},{\"id\":\"51dd5dbd-b926-411d-aa6b-3c5c56983375\",\"type\":\"Grid\"},{\"id\":\"5500aa26-fde0-4d54-93f3-1658dc28303a\",\"type\":\"LinearAxis\"},{\"id\":\"43086a8d-ae87-4f34-aa90-d3ae5e40a1f1\",\"type\":\"Grid\"},{\"id\":\"7893c7ae-866c-4dc8-8c3e-88e1f9e79fee\",\"type\":\"BoxAnnotation\"},{\"id\":\"1c87d15c-1d91-4651-b426-c043e8e832d9\",\"type\":\"BoxAnnotation\"},{\"id\":\"09f6737a-243e-4dc1-b8a3-0600273c0299\",\"type\":\"PolyAnnotation\"},{\"id\":\"c48cb4be-d9d7-4a2a-81d9-d783c9c3a5a4\",\"type\":\"PolyAnnotation\"},{\"id\":\"236a0e39-21d0-4556-b79d-14b9aafd3d2d\",\"type\":\"Legend\"},{\"id\":\"a7c88f84-6a94-45de-a192-4cfe4b9e2c4b\",\"type\":\"GlyphRenderer\"},{\"id\":\"b455bb66-37a2-4bcc-9378-fa0aa9972d8c\",\"type\":\"GlyphRenderer\"},{\"id\":\"43886277-e37c-40f9-b645-9ceb246e69e6\",\"type\":\"GlyphRenderer\"}],\"title\":{\"id\":\"adc89447-ffc8-43f2-b4d9-1f15289c1d99\",\"type\":\"Title\"},\"tool_events\":{\"id\":\"9b1631c2-5943-40a2-a340-253cfe987e8c\",\"type\":\"ToolEvents\"},\"toolbar\":{\"id\":\"97760a4f-7e92-40a5-af96-7a94f9d47355\",\"type\":\"Toolbar\"},\"x_range\":{\"id\":\"c59faa14-dcc0-488f-b03e-a96d63cdb2e5\",\"type\":\"DataRange1d\"},\"y_range\":{\"id\":\"df3f3c36-8470-4441-85a9-261c6a88cb84\",\"type\":\"DataRange1d\"}},\"id\":\"067d8637-9d3f-4ce3-83ae-a13225afc1f0\",\"subtype\":\"Figure\",\"type\":\"Plot\"},{\"attributes\":{\"data_source\":{\"id\":\"1667e7bc-561a-40d7-b790-cc596bd742d8\",\"type\":\"ColumnDataSource\"},\"glyph\":{\"id\":\"f5f069a7-e90a-4536-be0b-820e64d531c6\",\"type\":\"Line\"},\"hover_glyph\":null,\"nonselection_glyph\":{\"id\":\"8ddb9d55-7122-40ca-a151-bcd67f5d9a89\",\"type\":\"Line\"},\"selection_glyph\":null},\"id\":\"43886277-e37c-40f9-b645-9ceb246e69e6\",\"type\":\"GlyphRenderer\"},{\"attributes\":{\"active_drag\":\"auto\",\"active_scroll\":\"auto\",\"active_tap\":\"auto\",\"tools\":[{\"id\":\"2ede89e5-ae18-4cfb-8b4b-40b5677641e2\",\"type\":\"BoxZoomTool\"},{\"id\":\"ddff6176-44ad-497a-bda1-58d1660c6ed5\",\"type\":\"BoxSelectTool\"},{\"id\":\"0f0e4926-536d-4616-b8b2-71bed4f3b4d3\",\"type\":\"CrosshairTool\"},{\"id\":\"2975d08d-403b-4287-9fb2-9726ce38bbbf\",\"type\":\"ResizeTool\"},{\"id\":\"89700be8-daff-4c88-a50d-7b49d9bdbb27\",\"type\":\"ResetTool\"},{\"id\":\"f22a6917-09fc-45c2-a05a-0e2dd6d95422\",\"type\":\"LassoSelectTool\"},{\"id\":\"475edf1a-30ac-4fb8-801e-66b8ffc458c2\",\"type\":\"PanTool\"},{\"id\":\"3a4554f5-5d09-4e11-9ec4-bf91125ff0b2\",\"type\":\"SaveTool\"},{\"id\":\"96d8f91c-919c-48cb-9bfb-a71e33999598\",\"type\":\"PolySelectTool\"},{\"id\":\"a284e0f7-6d81-4881-bc11-126469e6c873\",\"type\":\"TapTool\"},{\"id\":\"9c876fa4-dbce-4973-978f-fc65d31615ca\",\"type\":\"WheelZoomTool\"},{\"id\":\"47060d6e-8402-4087-a784-99661e582d35\",\"type\":\"UndoTool\"}]},\"id\":\"97760a4f-7e92-40a5-af96-7a94f9d47355\",\"type\":\"Toolbar\"},{\"attributes\":{\"label\":{\"value\":\"ucb1\"},\"renderers\":[{\"id\":\"a7c88f84-6a94-45de-a192-4cfe4b9e2c4b\",\"type\":\"GlyphRenderer\"}]},\"id\":\"72339375-27fb-46d2-93f8-14e31da628de\",\"type\":\"LegendItem\"},{\"attributes\":{\"line_alpha\":{\"value\":0.1},\"line_color\":{\"value\":\"#1f77b4\"},\"line_width\":{\"value\":2},\"x\":{\"field\":\"x\"},\"y\":{\"field\":\"y\"}},\"id\":\"879daa5e-85ce-40ec-b265-520c18aac58b\",\"type\":\"Line\"},{\"attributes\":{\"data_source\":{\"id\":\"3184f55a-e74c-4b02-993e-2ab575b35b1c\",\"type\":\"ColumnDataSource\"},\"glyph\":{\"id\":\"28d1c1ac-6300-415f-8633-ed5917af8440\",\"type\":\"Line\"},\"hover_glyph\":null,\"nonselection_glyph\":{\"id\":\"879daa5e-85ce-40ec-b265-520c18aac58b\",\"type\":\"Line\"},\"selection_glyph\":null},\"id\":\"a7c88f84-6a94-45de-a192-4cfe4b9e2c4b\",\"type\":\"GlyphRenderer\"},{\"attributes\":{\"callback\":null,\"column_names\":[\"x\",\"y\"],\"data\":{\"x\":[0,1,2,3,4,5,6,7,8,9,10,11,12,13,14,15,16,17,18,19,20,21,22,23,24,25,26,27,28,29,30,31,32,33,34],\"y\":{\"__ndarray__\":\"AAAAAAAA8D8AAAAAAADwPwAAAAAAAPA/AAAAAAAA8D8AAAAAAADwPwAAAAAAAPA/x3Ecx3Ec7z/HcRzHcRzvP8dxHMdxHO8/x3Ecx3Ec7z/HcRzHcRzvP8dxHMdxHO8/x3Ecx3Ec7z/HcRzHcRzvP8dxHMdxHO8/juM4juM47j+O4ziO4zjuP8dxHMdxHO8/VVVVVVVV7T9VVVVVVVXtP47jOI7jOO4/juM4juM47j8cx3Ecx3HsPxzHcRzHcew/VVVVVVVV7T8cx3Ecx3HsP47jOI7jOO4/juM4juM47j+O4ziO4zjuP3Icx3Ecx+k/chzHcRzH6T85juM4juPoPzmO4ziO4+g/HMdxHMdx5D8cx3Ecx3HcPw==\",\"dtype\":\"float64\",\"shape\":[35]}}},\"id\":\"60d3acb0-23fb-4aee-b5b6-2c5fa696bb77\",\"type\":\"ColumnDataSource\"},{\"attributes\":{\"callback\":null,\"column_names\":[\"x\",\"y\"],\"data\":{\"x\":[0,1,2,3,4,5,6,7,8,9,10,11,12,13,14,15,16,17,18,19,20,21,22,23,24,25,26,27,28,29,30,31,32,33,34],\"y\":{\"__ndarray__\":\"AAAAAAAA8D8AAAAAAADwPwAAAAAAAPA/AAAAAAAA8D8AAAAAAADwPwAAAAAAAPA/AAAAAAAA8D8AAAAAAADwPwAAAAAAAPA/AAAAAAAA8D8AAAAAAADwPwAAAAAAAPA/AAAAAAAA8D8AAAAAAADwPwAAAAAAAPA/AAAAAAAA8D8AAAAAAADwPwAAAAAAAPA/AAAAAAAA8D/HcRzHcRzvP8dxHMdxHO8/AAAAAAAA8D/HcRzHcRzvP8dxHMdxHO8/x3Ecx3Ec7z/HcRzHcRzvP8dxHMdxHO8/x3Ecx3Ec7z/HcRzHcRzvPxzHcRzHcew/5DiO4ziO4z/kOI7jOI7jP+Q4juM4juM/5DiO4ziO4z8cx3Ecx3HcPw==\",\"dtype\":\"float64\",\"shape\":[35]}}},\"id\":\"3184f55a-e74c-4b02-993e-2ab575b35b1c\",\"type\":\"ColumnDataSource\"},{\"attributes\":{\"data_source\":{\"id\":\"60d3acb0-23fb-4aee-b5b6-2c5fa696bb77\",\"type\":\"ColumnDataSource\"},\"glyph\":{\"id\":\"b6623052-9bf5-41c1-940e-611d08b63deb\",\"type\":\"Line\"},\"hover_glyph\":null,\"nonselection_glyph\":{\"id\":\"3f471d57-f167-4db8-bd8c-d2a5d08deb3d\",\"type\":\"Line\"},\"selection_glyph\":null},\"id\":\"b455bb66-37a2-4bcc-9378-fa0aa9972d8c\",\"type\":\"GlyphRenderer\"},{\"attributes\":{},\"id\":\"2164426b-ec32-49df-934e-f05398873d70\",\"type\":\"BasicTicker\"},{\"attributes\":{\"formatter\":{\"id\":\"ea1a17fc-afc0-4601-8e3b-52781beab2c7\",\"type\":\"BasicTickFormatter\"},\"plot\":{\"id\":\"067d8637-9d3f-4ce3-83ae-a13225afc1f0\",\"subtype\":\"Figure\",\"type\":\"Plot\"},\"ticker\":{\"id\":\"2164426b-ec32-49df-934e-f05398873d70\",\"type\":\"BasicTicker\"}},\"id\":\"5500aa26-fde0-4d54-93f3-1658dc28303a\",\"type\":\"LinearAxis\"},{\"attributes\":{\"items\":[{\"id\":\"72339375-27fb-46d2-93f8-14e31da628de\",\"type\":\"LegendItem\"},{\"id\":\"1f34f32d-7b24-4664-a9fa-ac91982bbb49\",\"type\":\"LegendItem\"},{\"id\":\"91fa8403-ef59-4662-aab3-4e56f1c094dd\",\"type\":\"LegendItem\"}],\"plot\":{\"id\":\"067d8637-9d3f-4ce3-83ae-a13225afc1f0\",\"subtype\":\"Figure\",\"type\":\"Plot\"}},\"id\":\"236a0e39-21d0-4556-b79d-14b9aafd3d2d\",\"type\":\"Legend\"},{\"attributes\":{},\"id\":\"d4147cdc-ece5-42c9-8431-f2ac0156092f\",\"type\":\"BasicTickFormatter\"},{\"attributes\":{\"label\":{\"value\":\"Accuracy\"},\"renderers\":[{\"id\":\"43886277-e37c-40f9-b645-9ceb246e69e6\",\"type\":\"GlyphRenderer\"}]},\"id\":\"91fa8403-ef59-4662-aab3-4e56f1c094dd\",\"type\":\"LegendItem\"},{\"attributes\":{\"line_color\":{\"value\":\"red\"},\"line_width\":{\"value\":2},\"x\":{\"field\":\"x\"},\"y\":{\"field\":\"y\"}},\"id\":\"b6623052-9bf5-41c1-940e-611d08b63deb\",\"type\":\"Line\"},{\"attributes\":{\"line_alpha\":{\"value\":0.1},\"line_color\":{\"value\":\"#1f77b4\"},\"line_dash\":[4,4],\"line_width\":{\"value\":2},\"x\":{\"field\":\"x\"},\"y\":{\"field\":\"y\"}},\"id\":\"8ddb9d55-7122-40ca-a151-bcd67f5d9a89\",\"type\":\"Line\"},{\"attributes\":{\"plot\":{\"id\":\"067d8637-9d3f-4ce3-83ae-a13225afc1f0\",\"subtype\":\"Figure\",\"type\":\"Plot\"},\"ticker\":{\"id\":\"8f2ece3f-12bd-4b9a-8d0a-21b41c9f4511\",\"type\":\"BasicTicker\"}},\"id\":\"51dd5dbd-b926-411d-aa6b-3c5c56983375\",\"type\":\"Grid\"},{\"attributes\":{\"line_color\":{\"value\":\"green\"},\"line_width\":{\"value\":2},\"x\":{\"field\":\"x\"},\"y\":{\"field\":\"y\"}},\"id\":\"28d1c1ac-6300-415f-8633-ed5917af8440\",\"type\":\"Line\"},{\"attributes\":{\"label\":{\"value\":\"Thompson Sampling\"},\"renderers\":[{\"id\":\"b455bb66-37a2-4bcc-9378-fa0aa9972d8c\",\"type\":\"GlyphRenderer\"}]},\"id\":\"1f34f32d-7b24-4664-a9fa-ac91982bbb49\",\"type\":\"LegendItem\"},{\"attributes\":{},\"id\":\"8f2ece3f-12bd-4b9a-8d0a-21b41c9f4511\",\"type\":\"BasicTicker\"},{\"attributes\":{\"overlay\":{\"id\":\"c48cb4be-d9d7-4a2a-81d9-d783c9c3a5a4\",\"type\":\"PolyAnnotation\"},\"plot\":{\"id\":\"067d8637-9d3f-4ce3-83ae-a13225afc1f0\",\"subtype\":\"Figure\",\"type\":\"Plot\"}},\"id\":\"96d8f91c-919c-48cb-9bfb-a71e33999598\",\"type\":\"PolySelectTool\"},{\"attributes\":{\"callback\":null,\"overlay\":{\"id\":\"09f6737a-243e-4dc1-b8a3-0600273c0299\",\"type\":\"PolyAnnotation\"},\"plot\":{\"id\":\"067d8637-9d3f-4ce3-83ae-a13225afc1f0\",\"subtype\":\"Figure\",\"type\":\"Plot\"}},\"id\":\"f22a6917-09fc-45c2-a05a-0e2dd6d95422\",\"type\":\"LassoSelectTool\"},{\"attributes\":{\"callback\":null},\"id\":\"df3f3c36-8470-4441-85a9-261c6a88cb84\",\"type\":\"DataRange1d\"},{\"attributes\":{\"plot\":{\"id\":\"067d8637-9d3f-4ce3-83ae-a13225afc1f0\",\"subtype\":\"Figure\",\"type\":\"Plot\"}},\"id\":\"9c876fa4-dbce-4973-978f-fc65d31615ca\",\"type\":\"WheelZoomTool\"},{\"attributes\":{\"plot\":{\"id\":\"067d8637-9d3f-4ce3-83ae-a13225afc1f0\",\"subtype\":\"Figure\",\"type\":\"Plot\"}},\"id\":\"47060d6e-8402-4087-a784-99661e582d35\",\"type\":\"UndoTool\"},{\"attributes\":{\"fill_alpha\":{\"value\":0.5},\"fill_color\":{\"value\":\"lightgrey\"},\"level\":\"overlay\",\"line_alpha\":{\"value\":1.0},\"line_color\":{\"value\":\"black\"},\"line_dash\":[4,4],\"line_width\":{\"value\":2},\"plot\":null,\"xs_units\":\"screen\",\"ys_units\":\"screen\"},\"id\":\"09f6737a-243e-4dc1-b8a3-0600273c0299\",\"type\":\"PolyAnnotation\"},{\"attributes\":{\"bottom_units\":\"screen\",\"fill_alpha\":{\"value\":0.5},\"fill_color\":{\"value\":\"lightgrey\"},\"left_units\":\"screen\",\"level\":\"overlay\",\"line_alpha\":{\"value\":1.0},\"line_color\":{\"value\":\"black\"},\"line_dash\":[4,4],\"line_width\":{\"value\":2},\"plot\":null,\"render_mode\":\"css\",\"right_units\":\"screen\",\"top_units\":\"screen\"},\"id\":\"1c87d15c-1d91-4651-b426-c043e8e832d9\",\"type\":\"BoxAnnotation\"},{\"attributes\":{\"line_alpha\":{\"value\":0.1},\"line_color\":{\"value\":\"#1f77b4\"},\"line_width\":{\"value\":2},\"x\":{\"field\":\"x\"},\"y\":{\"field\":\"y\"}},\"id\":\"3f471d57-f167-4db8-bd8c-d2a5d08deb3d\",\"type\":\"Line\"},{\"attributes\":{\"plot\":{\"id\":\"067d8637-9d3f-4ce3-83ae-a13225afc1f0\",\"subtype\":\"Figure\",\"type\":\"Plot\"}},\"id\":\"3a4554f5-5d09-4e11-9ec4-bf91125ff0b2\",\"type\":\"SaveTool\"},{\"attributes\":{\"plot\":{\"id\":\"067d8637-9d3f-4ce3-83ae-a13225afc1f0\",\"subtype\":\"Figure\",\"type\":\"Plot\"}},\"id\":\"475edf1a-30ac-4fb8-801e-66b8ffc458c2\",\"type\":\"PanTool\"},{\"attributes\":{},\"id\":\"9b1631c2-5943-40a2-a340-253cfe987e8c\",\"type\":\"ToolEvents\"},{\"attributes\":{\"callback\":null,\"overlay\":{\"id\":\"1c87d15c-1d91-4651-b426-c043e8e832d9\",\"type\":\"BoxAnnotation\"},\"plot\":{\"id\":\"067d8637-9d3f-4ce3-83ae-a13225afc1f0\",\"subtype\":\"Figure\",\"type\":\"Plot\"},\"renderers\":[{\"id\":\"a7c88f84-6a94-45de-a192-4cfe4b9e2c4b\",\"type\":\"GlyphRenderer\"},{\"id\":\"b455bb66-37a2-4bcc-9378-fa0aa9972d8c\",\"type\":\"GlyphRenderer\"},{\"id\":\"43886277-e37c-40f9-b645-9ceb246e69e6\",\"type\":\"GlyphRenderer\"}]},\"id\":\"ddff6176-44ad-497a-bda1-58d1660c6ed5\",\"type\":\"BoxSelectTool\"},{\"attributes\":{\"line_color\":{\"value\":\"blue\"},\"line_dash\":[4,4],\"line_width\":{\"value\":2},\"x\":{\"field\":\"x\"},\"y\":{\"field\":\"y\"}},\"id\":\"f5f069a7-e90a-4536-be0b-820e64d531c6\",\"type\":\"Line\"},{\"attributes\":{\"callback\":null,\"plot\":{\"id\":\"067d8637-9d3f-4ce3-83ae-a13225afc1f0\",\"subtype\":\"Figure\",\"type\":\"Plot\"}},\"id\":\"a284e0f7-6d81-4881-bc11-126469e6c873\",\"type\":\"TapTool\"},{\"attributes\":{\"formatter\":{\"id\":\"d4147cdc-ece5-42c9-8431-f2ac0156092f\",\"type\":\"BasicTickFormatter\"},\"plot\":{\"id\":\"067d8637-9d3f-4ce3-83ae-a13225afc1f0\",\"subtype\":\"Figure\",\"type\":\"Plot\"},\"ticker\":{\"id\":\"8f2ece3f-12bd-4b9a-8d0a-21b41c9f4511\",\"type\":\"BasicTicker\"}},\"id\":\"fb15a7f6-af1c-4cef-9304-f88f56c59786\",\"type\":\"LinearAxis\"},{\"attributes\":{\"callback\":null},\"id\":\"c59faa14-dcc0-488f-b03e-a96d63cdb2e5\",\"type\":\"DataRange1d\"},{\"attributes\":{\"dimension\":1,\"plot\":{\"id\":\"067d8637-9d3f-4ce3-83ae-a13225afc1f0\",\"subtype\":\"Figure\",\"type\":\"Plot\"},\"ticker\":{\"id\":\"2164426b-ec32-49df-934e-f05398873d70\",\"type\":\"BasicTicker\"}},\"id\":\"43086a8d-ae87-4f34-aa90-d3ae5e40a1f1\",\"type\":\"Grid\"},{\"attributes\":{\"bottom_units\":\"screen\",\"fill_alpha\":{\"value\":0.5},\"fill_color\":{\"value\":\"lightgrey\"},\"left_units\":\"screen\",\"level\":\"overlay\",\"line_alpha\":{\"value\":1.0},\"line_color\":{\"value\":\"black\"},\"line_dash\":[4,4],\"line_width\":{\"value\":2},\"plot\":null,\"render_mode\":\"css\",\"right_units\":\"screen\",\"top_units\":\"screen\"},\"id\":\"7893c7ae-866c-4dc8-8c3e-88e1f9e79fee\",\"type\":\"BoxAnnotation\"},{\"attributes\":{\"plot\":{\"id\":\"067d8637-9d3f-4ce3-83ae-a13225afc1f0\",\"subtype\":\"Figure\",\"type\":\"Plot\"}},\"id\":\"0f0e4926-536d-4616-b8b2-71bed4f3b4d3\",\"type\":\"CrosshairTool\"},{\"attributes\":{\"plot\":{\"id\":\"067d8637-9d3f-4ce3-83ae-a13225afc1f0\",\"subtype\":\"Figure\",\"type\":\"Plot\"}},\"id\":\"2975d08d-403b-4287-9fb2-9726ce38bbbf\",\"type\":\"ResizeTool\"},{\"attributes\":{\"align\":\"center\",\"plot\":null,\"text\":\"The Performance over the number of neurons' pruned\"},\"id\":\"adc89447-ffc8-43f2-b4d9-1f15289c1d99\",\"type\":\"Title\"},{\"attributes\":{\"callback\":null,\"column_names\":[\"x\",\"y\"],\"data\":{\"x\":[0,1,2,3,4,5,6,7,8,9,10,11,12,13,14,15,16,17,18,19,20,21,22,23,24,25,26,27,28,29,30,31,32,33,34],\"y\":[{\"__ndarray__\":\"rkfh2piT7j8=\",\"dtype\":\"float64\",\"shape\":[]},{\"__ndarray__\":\"rkfh2piT7j8=\",\"dtype\":\"float64\",\"shape\":[]},{\"__ndarray__\":\"rkfh2piT7j8=\",\"dtype\":\"float64\",\"shape\":[]},{\"__ndarray__\":\"rkfh2piT7j8=\",\"dtype\":\"float64\",\"shape\":[]},{\"__ndarray__\":\"rkfh2piT7j8=\",\"dtype\":\"float64\",\"shape\":[]},{\"__ndarray__\":\"rkfh2piT7j8=\",\"dtype\":\"float64\",\"shape\":[]},{\"__ndarray__\":\"rkfh2piT7j8=\",\"dtype\":\"float64\",\"shape\":[]},{\"__ndarray__\":\"rkfh2piT7j8=\",\"dtype\":\"float64\",\"shape\":[]},{\"__ndarray__\":\"rkfh2piT7j8=\",\"dtype\":\"float64\",\"shape\":[]},{\"__ndarray__\":\"rkfh2piT7j8=\",\"dtype\":\"float64\",\"shape\":[]},{\"__ndarray__\":\"rkfh2piT7j8=\",\"dtype\":\"float64\",\"shape\":[]},{\"__ndarray__\":\"rkfh2piT7j8=\",\"dtype\":\"float64\",\"shape\":[]},{\"__ndarray__\":\"rkfh2piT7j8=\",\"dtype\":\"float64\",\"shape\":[]},{\"__ndarray__\":\"rkfh2piT7j8=\",\"dtype\":\"float64\",\"shape\":[]},{\"__ndarray__\":\"rkfh2piT7j8=\",\"dtype\":\"float64\",\"shape\":[]},{\"__ndarray__\":\"rkfh2piT7j8=\",\"dtype\":\"float64\",\"shape\":[]},{\"__ndarray__\":\"rkfh2piT7j8=\",\"dtype\":\"float64\",\"shape\":[]},{\"__ndarray__\":\"rkfh2piT7j8=\",\"dtype\":\"float64\",\"shape\":[]},{\"__ndarray__\":\"rkfh2piT7j8=\",\"dtype\":\"float64\",\"shape\":[]},{\"__ndarray__\":\"rkfh2piT7j8=\",\"dtype\":\"float64\",\"shape\":[]},{\"__ndarray__\":\"rkfh2piT7j8=\",\"dtype\":\"float64\",\"shape\":[]},{\"__ndarray__\":\"rkfh2piT7j8=\",\"dtype\":\"float64\",\"shape\":[]},{\"__ndarray__\":\"rkfh2piT7j8=\",\"dtype\":\"float64\",\"shape\":[]},{\"__ndarray__\":\"rkfh2piT7j8=\",\"dtype\":\"float64\",\"shape\":[]},{\"__ndarray__\":\"rkfh2piT7j8=\",\"dtype\":\"float64\",\"shape\":[]},{\"__ndarray__\":\"rkfh2piT7j8=\",\"dtype\":\"float64\",\"shape\":[]},{\"__ndarray__\":\"rkfh2piT7j8=\",\"dtype\":\"float64\",\"shape\":[]},{\"__ndarray__\":\"rkfh2piT7j8=\",\"dtype\":\"float64\",\"shape\":[]},{\"__ndarray__\":\"rkfh2piT7j8=\",\"dtype\":\"float64\",\"shape\":[]},{\"__ndarray__\":\"rkfh2piT7j8=\",\"dtype\":\"float64\",\"shape\":[]},{\"__ndarray__\":\"rkfh2piT7j8=\",\"dtype\":\"float64\",\"shape\":[]},{\"__ndarray__\":\"rkfh2piT7j8=\",\"dtype\":\"float64\",\"shape\":[]},{\"__ndarray__\":\"rkfh2piT7j8=\",\"dtype\":\"float64\",\"shape\":[]},{\"__ndarray__\":\"rkfh2piT7j8=\",\"dtype\":\"float64\",\"shape\":[]},{\"__ndarray__\":\"rkfh2piT7j8=\",\"dtype\":\"float64\",\"shape\":[]}]}},\"id\":\"1667e7bc-561a-40d7-b790-cc596bd742d8\",\"type\":\"ColumnDataSource\"},{\"attributes\":{\"plot\":{\"id\":\"067d8637-9d3f-4ce3-83ae-a13225afc1f0\",\"subtype\":\"Figure\",\"type\":\"Plot\"}},\"id\":\"89700be8-daff-4c88-a50d-7b49d9bdbb27\",\"type\":\"ResetTool\"},{\"attributes\":{\"fill_alpha\":{\"value\":0.5},\"fill_color\":{\"value\":\"lightgrey\"},\"level\":\"overlay\",\"line_alpha\":{\"value\":1.0},\"line_color\":{\"value\":\"black\"},\"line_dash\":[4,4],\"line_width\":{\"value\":2},\"plot\":null,\"xs_units\":\"screen\",\"ys_units\":\"screen\"},\"id\":\"c48cb4be-d9d7-4a2a-81d9-d783c9c3a5a4\",\"type\":\"PolyAnnotation\"},{\"attributes\":{\"overlay\":{\"id\":\"7893c7ae-866c-4dc8-8c3e-88e1f9e79fee\",\"type\":\"BoxAnnotation\"},\"plot\":{\"id\":\"067d8637-9d3f-4ce3-83ae-a13225afc1f0\",\"subtype\":\"Figure\",\"type\":\"Plot\"}},\"id\":\"2ede89e5-ae18-4cfb-8b4b-40b5677641e2\",\"type\":\"BoxZoomTool\"}],\"root_ids\":[\"067d8637-9d3f-4ce3-83ae-a13225afc1f0\"]},\"title\":\"Bokeh Application\",\"version\":\"0.12.4\"}};\n",
       "            var render_items = [{\"docid\":\"3b251e2b-36a6-484a-b744-c98c49068ee1\",\"elementid\":\"c9710891-c4af-4ca1-8992-2976bdfd581b\",\"modelid\":\"067d8637-9d3f-4ce3-83ae-a13225afc1f0\"}];\n",
       "            \n",
       "            Bokeh.embed.embed_items(docs_json, render_items);\n",
       "          };\n",
       "          if (document.readyState != \"loading\") fn();\n",
       "          else document.addEventListener(\"DOMContentLoaded\", fn);\n",
       "        })();\n",
       "      },\n",
       "      function(Bokeh) {\n",
       "      }\n",
       "    ];\n",
       "  \n",
       "    function run_inline_js() {\n",
       "      \n",
       "      if ((window.Bokeh !== undefined) || (force === true)) {\n",
       "        for (var i = 0; i < inline_js.length; i++) {\n",
       "          inline_js[i](window.Bokeh);\n",
       "        }if (force === true) {\n",
       "          display_loaded();\n",
       "        }} else if (Date.now() < window._bokeh_timeout) {\n",
       "        setTimeout(run_inline_js, 100);\n",
       "      } else if (!window._bokeh_failed_load) {\n",
       "        console.log(\"Bokeh: BokehJS failed to load within specified timeout.\");\n",
       "        window._bokeh_failed_load = true;\n",
       "      } else if (force !== true) {\n",
       "        var cell = $(document.getElementById(\"c9710891-c4af-4ca1-8992-2976bdfd581b\")).parents('.cell').data().cell;\n",
       "        cell.output_area.append_execute_result(NB_LOAD_WARNING)\n",
       "      }\n",
       "  \n",
       "    }\n",
       "  \n",
       "    if (window._bokeh_is_loading === 0) {\n",
       "      console.log(\"Bokeh: BokehJS loaded, going straight to plotting\");\n",
       "      run_inline_js();\n",
       "    } else {\n",
       "      load_libs(js_urls, function() {\n",
       "        console.log(\"Bokeh: BokehJS plotting callback run at\", now());\n",
       "        run_inline_js();\n",
       "      });\n",
       "    }\n",
       "  }(this));\n",
       "</script>"
      ]
     },
     "metadata": {},
     "output_type": "display_data"
    }
   ],
   "source": [
    "p1 = figure(title=\"The Performance over the number of neurons' pruned\", tools=TOOLS)\n",
    "p1.line(ind, ucb1, legend=\"ucb1\", line_color=\"green\", line_width=2)\n",
    "p1.line(ind, ThompsonSampling, legend=\"Thompson Sampling\", line_color=\"red\", line_width=2)\n",
    "p1.line(ind, Acc, legend=\"Accuracy\", line_dash=(4, 4), line_color=\"blue\", line_width=2)\n",
    "p1.title.align = \"center\"\n",
    "show(p1)"
   ]
  }
 ],
 "metadata": {
  "kernelspec": {
   "display_name": "Python 3",
   "language": "python",
   "name": "python3"
  },
  "language_info": {
   "codemirror_mode": {
    "name": "ipython",
    "version": 3
   },
   "file_extension": ".py",
   "mimetype": "text/x-python",
   "name": "python",
   "nbconvert_exporter": "python",
   "pygments_lexer": "ipython3",
   "version": "3.6.0"
  }
 },
 "nbformat": 4,
 "nbformat_minor": 0
}
