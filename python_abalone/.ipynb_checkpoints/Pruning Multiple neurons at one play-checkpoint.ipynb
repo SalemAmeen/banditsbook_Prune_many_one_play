{
 "cells": [
  {
   "cell_type": "markdown",
   "metadata": {},
   "source": [
    "Compute the performance of MAB methods of pruning Multiple neurons at one time\n",
    "\n",
    "MAP for choosing multi arms at one time"
   ]
  },
  {
   "cell_type": "code",
   "execution_count": 1,
   "metadata": {
    "collapsed": true
   },
   "outputs": [],
   "source": [
    "import numpy as np\n",
    "import time\n",
    "import sys\n",
    "from numpy import *\n",
    "import matplotlib.pyplot as plt\n",
    "from sklearn import metrics\n",
    "%matplotlib inline\n",
    "#plt.rcParams['figure.figsize'] = (15, 6)"
   ]
  },
  {
   "cell_type": "markdown",
   "metadata": {},
   "source": [
    "# Load Bokeh"
   ]
  },
  {
   "cell_type": "code",
   "execution_count": 2,
   "metadata": {
    "collapsed": false
   },
   "outputs": [
    {
     "data": {
      "text/html": [
       "\n",
       "    <div class=\"bk-root\">\n",
       "        <a href=\"http://bokeh.pydata.org\" target=\"_blank\" class=\"bk-logo bk-logo-small bk-logo-notebook\"></a>\n",
       "        <span id=\"535a8536-231b-4389-9afc-6cdbf6fb889a\">Loading BokehJS ...</span>\n",
       "    </div>"
      ]
     },
     "metadata": {},
     "output_type": "display_data"
    },
    {
     "data": {
      "application/javascript": [
       "\n",
       "(function(global) {\n",
       "  function now() {\n",
       "    return new Date();\n",
       "  }\n",
       "\n",
       "  var force = true;\n",
       "\n",
       "  if (typeof (window._bokeh_onload_callbacks) === \"undefined\" || force === true) {\n",
       "    window._bokeh_onload_callbacks = [];\n",
       "    window._bokeh_is_loading = undefined;\n",
       "  }\n",
       "\n",
       "\n",
       "  \n",
       "  if (typeof (window._bokeh_timeout) === \"undefined\" || force === true) {\n",
       "    window._bokeh_timeout = Date.now() + 5000;\n",
       "    window._bokeh_failed_load = false;\n",
       "  }\n",
       "\n",
       "  var NB_LOAD_WARNING = {'data': {'text/html':\n",
       "     \"<div style='background-color: #fdd'>\\n\"+\n",
       "     \"<p>\\n\"+\n",
       "     \"BokehJS does not appear to have successfully loaded. If loading BokehJS from CDN, this \\n\"+\n",
       "     \"may be due to a slow or bad network connection. Possible fixes:\\n\"+\n",
       "     \"</p>\\n\"+\n",
       "     \"<ul>\\n\"+\n",
       "     \"<li>re-rerun `output_notebook()` to attempt to load from CDN again, or</li>\\n\"+\n",
       "     \"<li>use INLINE resources instead, as so:</li>\\n\"+\n",
       "     \"</ul>\\n\"+\n",
       "     \"<code>\\n\"+\n",
       "     \"from bokeh.resources import INLINE\\n\"+\n",
       "     \"output_notebook(resources=INLINE)\\n\"+\n",
       "     \"</code>\\n\"+\n",
       "     \"</div>\"}};\n",
       "\n",
       "  function display_loaded() {\n",
       "    if (window.Bokeh !== undefined) {\n",
       "      document.getElementById(\"535a8536-231b-4389-9afc-6cdbf6fb889a\").textContent = \"BokehJS successfully loaded.\";\n",
       "    } else if (Date.now() < window._bokeh_timeout) {\n",
       "      setTimeout(display_loaded, 100)\n",
       "    }\n",
       "  }\n",
       "\n",
       "  function run_callbacks() {\n",
       "    window._bokeh_onload_callbacks.forEach(function(callback) { callback() });\n",
       "    delete window._bokeh_onload_callbacks\n",
       "    console.info(\"Bokeh: all callbacks have finished\");\n",
       "  }\n",
       "\n",
       "  function load_libs(js_urls, callback) {\n",
       "    window._bokeh_onload_callbacks.push(callback);\n",
       "    if (window._bokeh_is_loading > 0) {\n",
       "      console.log(\"Bokeh: BokehJS is being loaded, scheduling callback at\", now());\n",
       "      return null;\n",
       "    }\n",
       "    if (js_urls == null || js_urls.length === 0) {\n",
       "      run_callbacks();\n",
       "      return null;\n",
       "    }\n",
       "    console.log(\"Bokeh: BokehJS not loaded, scheduling load and callback at\", now());\n",
       "    window._bokeh_is_loading = js_urls.length;\n",
       "    for (var i = 0; i < js_urls.length; i++) {\n",
       "      var url = js_urls[i];\n",
       "      var s = document.createElement('script');\n",
       "      s.src = url;\n",
       "      s.async = false;\n",
       "      s.onreadystatechange = s.onload = function() {\n",
       "        window._bokeh_is_loading--;\n",
       "        if (window._bokeh_is_loading === 0) {\n",
       "          console.log(\"Bokeh: all BokehJS libraries loaded\");\n",
       "          run_callbacks()\n",
       "        }\n",
       "      };\n",
       "      s.onerror = function() {\n",
       "        console.warn(\"failed to load library \" + url);\n",
       "      };\n",
       "      console.log(\"Bokeh: injecting script tag for BokehJS library: \", url);\n",
       "      document.getElementsByTagName(\"head\")[0].appendChild(s);\n",
       "    }\n",
       "  };var element = document.getElementById(\"535a8536-231b-4389-9afc-6cdbf6fb889a\");\n",
       "  if (element == null) {\n",
       "    console.log(\"Bokeh: ERROR: autoload.js configured with elementid '535a8536-231b-4389-9afc-6cdbf6fb889a' but no matching script tag was found. \")\n",
       "    return false;\n",
       "  }\n",
       "\n",
       "  var js_urls = [\"https://cdn.pydata.org/bokeh/release/bokeh-0.12.4.min.js\", \"https://cdn.pydata.org/bokeh/release/bokeh-widgets-0.12.4.min.js\"];\n",
       "\n",
       "  var inline_js = [\n",
       "    function(Bokeh) {\n",
       "      Bokeh.set_log_level(\"info\");\n",
       "    },\n",
       "    \n",
       "    function(Bokeh) {\n",
       "      \n",
       "      document.getElementById(\"535a8536-231b-4389-9afc-6cdbf6fb889a\").textContent = \"BokehJS is loading...\";\n",
       "    },\n",
       "    function(Bokeh) {\n",
       "      console.log(\"Bokeh: injecting CSS: https://cdn.pydata.org/bokeh/release/bokeh-0.12.4.min.css\");\n",
       "      Bokeh.embed.inject_css(\"https://cdn.pydata.org/bokeh/release/bokeh-0.12.4.min.css\");\n",
       "      console.log(\"Bokeh: injecting CSS: https://cdn.pydata.org/bokeh/release/bokeh-widgets-0.12.4.min.css\");\n",
       "      Bokeh.embed.inject_css(\"https://cdn.pydata.org/bokeh/release/bokeh-widgets-0.12.4.min.css\");\n",
       "    }\n",
       "  ];\n",
       "\n",
       "  function run_inline_js() {\n",
       "    \n",
       "    if ((window.Bokeh !== undefined) || (force === true)) {\n",
       "      for (var i = 0; i < inline_js.length; i++) {\n",
       "        inline_js[i](window.Bokeh);\n",
       "      }if (force === true) {\n",
       "        display_loaded();\n",
       "      }} else if (Date.now() < window._bokeh_timeout) {\n",
       "      setTimeout(run_inline_js, 100);\n",
       "    } else if (!window._bokeh_failed_load) {\n",
       "      console.log(\"Bokeh: BokehJS failed to load within specified timeout.\");\n",
       "      window._bokeh_failed_load = true;\n",
       "    } else if (force !== true) {\n",
       "      var cell = $(document.getElementById(\"535a8536-231b-4389-9afc-6cdbf6fb889a\")).parents('.cell').data().cell;\n",
       "      cell.output_area.append_execute_result(NB_LOAD_WARNING)\n",
       "    }\n",
       "\n",
       "  }\n",
       "\n",
       "  if (window._bokeh_is_loading === 0) {\n",
       "    console.log(\"Bokeh: BokehJS loaded, going straight to plotting\");\n",
       "    run_inline_js();\n",
       "  } else {\n",
       "    load_libs(js_urls, function() {\n",
       "      console.log(\"Bokeh: BokehJS plotting callback run at\", now());\n",
       "      run_inline_js();\n",
       "    });\n",
       "  }\n",
       "}(this));"
      ]
     },
     "metadata": {},
     "output_type": "display_data"
    }
   ],
   "source": [
    "from bokeh.layouts import row, gridplot\n",
    "from bokeh.plotting import figure, output_notebook, show\n",
    "from bokeh.models import Legend\n",
    "TOOLS = 'box_zoom,box_select,crosshair,resize,reset,lasso_select,pan,save,poly_select,tap,wheel_zoom,undo'\n",
    "output_notebook()"
   ]
  },
  {
   "cell_type": "markdown",
   "metadata": {},
   "source": [
    "# Load the data"
   ]
  },
  {
   "cell_type": "code",
   "execution_count": 3,
   "metadata": {
    "collapsed": false
   },
   "outputs": [
    {
     "name": "stdout",
     "output_type": "stream",
     "text": [
      "Number of training examples 2672\n",
      "Number of validation examples 669\n",
      "Number of testing examples 836\n"
     ]
    }
   ],
   "source": [
    "X_train = np.load('./abalone/X_train.npy')\n",
    "y_train = np.load('./abalone/y_train.npy')\n",
    "X_test = np.load('./abalone/X_test.npy')\n",
    "y_test = np.load('./abalone/y_test.npy')\n",
    "X_deploy = np.load('./abalone/X_deploy.npy')\n",
    "y_deploy = np.load('./abalone/y_deploy.npy')\n",
    "print('Number of training examples',len(X_train))\n",
    "print('Number of validation examples',len(X_test))\n",
    "print('Number of testing examples',len(X_deploy))"
   ]
  },
  {
   "cell_type": "code",
   "execution_count": 4,
   "metadata": {
    "collapsed": false
   },
   "outputs": [],
   "source": [
    "exec(open(\"core.py\").read())  # pyhton 3x"
   ]
  },
  {
   "cell_type": "markdown",
   "metadata": {},
   "source": [
    "## Run Thompson Sampling pruning Algorithm"
   ]
  },
  {
   "cell_type": "code",
   "execution_count": 5,
   "metadata": {
    "collapsed": false
   },
   "outputs": [
    {
     "name": "stderr",
     "output_type": "stream",
     "text": [
      "/Library/Frameworks/Python.framework/Versions/3.6/lib/python3.6/site-packages/sklearn/cross_validation.py:44: DeprecationWarning: This module was deprecated in version 0.18 in favor of the model_selection module into which all the refactored classes and functions are moved. Also note that the interface of the new CV iterators are different from that of this module. This module will be removed in 0.20.\n",
      "  \"This module will be removed in 0.20.\", DeprecationWarning)\n",
      "Using Theano backend.\n"
     ]
    },
    {
     "name": "stdout",
     "output_type": "stream",
     "text": [
      "Test fraction correct (NN-Score) = 0.85\n",
      "Test fraction correct (NN-Accuracy) = 0.58\n",
      "The time for running this method is 0.19248676300048828 seconds \n",
      "Finsh playing start pruining:\n",
      "Test after pruning= 0.57\n",
      "Test after pruning= 0.56\n",
      "Test after pruning= 0.56\n",
      "Test after pruning= 0.55\n",
      "Test after pruning= 0.55\n",
      "Test after pruning= 0.55\n",
      "Test after pruning= 0.55\n",
      "Test after pruning= 0.53\n",
      "Test after pruning= 0.52\n",
      "Test after pruning= 0.53\n",
      "Test after pruning= 0.52\n",
      "Test after pruning= 0.53\n",
      "Test after pruning= 0.53\n",
      "Test after pruning= 0.53\n",
      "Test after pruning= 0.53\n",
      "Test after pruning= 0.53\n",
      "Test after pruning= 0.52\n",
      "Test after pruning= 0.53\n",
      "Test after pruning= 0.45\n",
      "Test after pruning= 0.47\n",
      "Test after pruning= 0.47\n",
      "Test after pruning= 0.47\n",
      "Test after pruning= 0.46\n",
      "Test after pruning= 0.39\n",
      "Test after pruning= 0.37\n",
      "Test after pruning= 0.37\n",
      "Test after pruning= 0.36\n",
      "Test after pruning= 0.37\n",
      "Test after pruning= 0.37\n",
      "Test after pruning= 0.37\n"
     ]
    },
    {
     "data": {
      "image/png": "[encoded data removed]",
      "text/plain": [
       "<matplotlib.figure.Figure at 0x10e0e0240>"
      ]
     },
     "metadata": {},
     "output_type": "display_data"
    }
   ],
   "source": [
    "algo = Thompson_Sampling([], [])\n",
    "Alg_name = 'Thompson_Sampling Algorithm'\n",
    "path = './Thompson_Sampling/'\n",
    "sys.path.append(\"./Thompson_Sampling\")\n",
    "exec(open(\"mnist_cnnFORTESTING.py\").read())"
   ]
  },
  {
   "cell_type": "markdown",
   "metadata": {},
   "source": [
    "## Run UCB1 pruning Algorithm"
   ]
  },
  {
   "cell_type": "code",
   "execution_count": 6,
   "metadata": {
    "collapsed": false
   },
   "outputs": [
    {
     "name": "stdout",
     "output_type": "stream",
     "text": [
      "Test fraction correct (NN-Score) = 0.85\n",
      "Test fraction correct (NN-Accuracy) = 0.58\n",
      "The time for running this method is 0.19295215606689453 seconds \n",
      "Finsh playing start pruining:\n",
      "Test after pruning= 0.58\n",
      "Test after pruning= 0.58\n",
      "Test after pruning= 0.57\n",
      "Test after pruning= 0.54\n",
      "Test after pruning= 0.55\n",
      "Test after pruning= 0.49\n",
      "Test after pruning= 0.48\n",
      "Test after pruning= 0.44\n",
      "Test after pruning= 0.43\n",
      "Test after pruning= 0.43\n",
      "Test after pruning= 0.43\n",
      "Test after pruning= 0.44\n",
      "Test after pruning= 0.36\n",
      "Test after pruning= 0.35\n",
      "Test after pruning= 0.34\n",
      "Test after pruning= 0.32\n",
      "Test after pruning= 0.32\n",
      "Test after pruning= 0.31\n",
      "Test after pruning= 0.32\n",
      "Test after pruning= 0.32\n",
      "Test after pruning= 0.33\n",
      "Test after pruning= 0.33\n",
      "Test after pruning= 0.31\n",
      "Test after pruning= 0.36\n",
      "Test after pruning= 0.36\n",
      "Test after pruning= 0.37\n",
      "Test after pruning= 0.37\n",
      "Test after pruning= 0.37\n",
      "Test after pruning= 0.37\n",
      "Test after pruning= 0.37\n"
     ]
    },
    {
     "data": {
      "image/png": "[encoded data removed]",
      "text/plain": [
       "<matplotlib.figure.Figure at 0x10e4a5fd0>"
      ]
     },
     "metadata": {},
     "output_type": "display_data"
    }
   ],
   "source": [
    "algo = UCB1([], [])\n",
    "Alg_name = 'UCB1 Algorithm'\n",
    "path = './UCB1/'\n",
    "sys.path.append(\"./UCB1\")\n",
    "exec(open(\"mnist_cnnFORTESTING.py\").read())"
   ]
  },
  {
   "cell_type": "markdown",
   "metadata": {
    "collapsed": true
   },
   "source": [
    "# Compare the accuracy"
   ]
  },
  {
   "cell_type": "code",
   "execution_count": 7,
   "metadata": {
    "collapsed": true
   },
   "outputs": [],
   "source": [
    "ucb1 = np.load('./UCB1/AccuracyAftrerPrune.npy')\n",
    "ThompsonSampling = np.load('./Thompson_Sampling/AccuracyAftrerPrune.npy')\n",
    "Accuracy = np.load('AccuracyBeforePruning.npy')"
   ]
  },
  {
   "cell_type": "code",
   "execution_count": 8,
   "metadata": {
    "collapsed": false
   },
   "outputs": [
    {
     "data": {
      "image/png": "[encoded data removed]",
      "text/plain": [
       "<matplotlib.figure.Figure at 0x10e51d438>"
      ]
     },
     "metadata": {},
     "output_type": "display_data"
    }
   ],
   "source": [
    "fig = plt.figure(figsize=(10, 6), dpi=80)\n",
    "ax = fig.add_subplot(111)\n",
    "N = len(ucb1)\n",
    "ind = np.arange(N)                # the x locations for the groups\n",
    "plt.plot(ind , ucb1 , color=\"blue\", linewidth=2.5, linestyle=\"-\", label=\"UCB1\")\n",
    "plt.plot(ind , ThompsonSampling, color=\"orange\", linewidth=2.5, linestyle=\"-\", label=\"Thompson Sampling\")\n",
    "plt.legend(loc = 3)\n",
    "plt.axis([0, 25, 0, 1])\n",
    "plt.xlabel('Number of pruned Neurons')\n",
    "plt.ylabel('The Accuracy')\n",
    "plt.grid(True)\n",
    "plt.show()"
   ]
  },
  {
   "cell_type": "code",
   "execution_count": 9,
   "metadata": {
    "collapsed": false
   },
   "outputs": [
    {
     "data": {
      "text/html": [
       "\n",
       "\n",
       "    <div class=\"bk-root\">\n",
       "        <div class=\"bk-plotdiv\" id=\"cec97b2f-b39c-457a-9bc8-1eb2ee659c50\"></div>\n",
       "    </div>\n",
       "<script type=\"text/javascript\">\n",
       "  \n",
       "  (function(global) {\n",
       "    function now() {\n",
       "      return new Date();\n",
       "    }\n",
       "  \n",
       "    var force = false;\n",
       "  \n",
       "    if (typeof (window._bokeh_onload_callbacks) === \"undefined\" || force === true) {\n",
       "      window._bokeh_onload_callbacks = [];\n",
       "      window._bokeh_is_loading = undefined;\n",
       "    }\n",
       "  \n",
       "  \n",
       "    \n",
       "    if (typeof (window._bokeh_timeout) === \"undefined\" || force === true) {\n",
       "      window._bokeh_timeout = Date.now() + 0;\n",
       "      window._bokeh_failed_load = false;\n",
       "    }\n",
       "  \n",
       "    var NB_LOAD_WARNING = {'data': {'text/html':\n",
       "       \"<div style='background-color: #fdd'>\\n\"+\n",
       "       \"<p>\\n\"+\n",
       "       \"BokehJS does not appear to have successfully loaded. If loading BokehJS from CDN, this \\n\"+\n",
       "       \"may be due to a slow or bad network connection. Possible fixes:\\n\"+\n",
       "       \"</p>\\n\"+\n",
       "       \"<ul>\\n\"+\n",
       "       \"<li>re-rerun `output_notebook()` to attempt to load from CDN again, or</li>\\n\"+\n",
       "       \"<li>use INLINE resources instead, as so:</li>\\n\"+\n",
       "       \"</ul>\\n\"+\n",
       "       \"<code>\\n\"+\n",
       "       \"from bokeh.resources import INLINE\\n\"+\n",
       "       \"output_notebook(resources=INLINE)\\n\"+\n",
       "       \"</code>\\n\"+\n",
       "       \"</div>\"}};\n",
       "  \n",
       "    function display_loaded() {\n",
       "      if (window.Bokeh !== undefined) {\n",
       "        document.getElementById(\"cec97b2f-b39c-457a-9bc8-1eb2ee659c50\").textContent = \"BokehJS successfully loaded.\";\n",
       "      } else if (Date.now() < window._bokeh_timeout) {\n",
       "        setTimeout(display_loaded, 100)\n",
       "      }\n",
       "    }\n",
       "  \n",
       "    function run_callbacks() {\n",
       "      window._bokeh_onload_callbacks.forEach(function(callback) { callback() });\n",
       "      delete window._bokeh_onload_callbacks\n",
       "      console.info(\"Bokeh: all callbacks have finished\");\n",
       "    }\n",
       "  \n",
       "    function load_libs(js_urls, callback) {\n",
       "      window._bokeh_onload_callbacks.push(callback);\n",
       "      if (window._bokeh_is_loading > 0) {\n",
       "        console.log(\"Bokeh: BokehJS is being loaded, scheduling callback at\", now());\n",
       "        return null;\n",
       "      }\n",
       "      if (js_urls == null || js_urls.length === 0) {\n",
       "        run_callbacks();\n",
       "        return null;\n",
       "      }\n",
       "      console.log(\"Bokeh: BokehJS not loaded, scheduling load and callback at\", now());\n",
       "      window._bokeh_is_loading = js_urls.length;\n",
       "      for (var i = 0; i < js_urls.length; i++) {\n",
       "        var url = js_urls[i];\n",
       "        var s = document.createElement('script');\n",
       "        s.src = url;\n",
       "        s.async = false;\n",
       "        s.onreadystatechange = s.onload = function() {\n",
       "          window._bokeh_is_loading--;\n",
       "          if (window._bokeh_is_loading === 0) {\n",
       "            console.log(\"Bokeh: all BokehJS libraries loaded\");\n",
       "            run_callbacks()\n",
       "          }\n",
       "        };\n",
       "        s.onerror = function() {\n",
       "          console.warn(\"failed to load library \" + url);\n",
       "        };\n",
       "        console.log(\"Bokeh: injecting script tag for BokehJS library: \", url);\n",
       "        document.getElementsByTagName(\"head\")[0].appendChild(s);\n",
       "      }\n",
       "    };var element = document.getElementById(\"cec97b2f-b39c-457a-9bc8-1eb2ee659c50\");\n",
       "    if (element == null) {\n",
       "      console.log(\"Bokeh: ERROR: autoload.js configured with elementid 'cec97b2f-b39c-457a-9bc8-1eb2ee659c50' but no matching script tag was found. \")\n",
       "      return false;\n",
       "    }\n",
       "  \n",
       "    var js_urls = [];\n",
       "  \n",
       "    var inline_js = [\n",
       "      function(Bokeh) {\n",
       "        (function() {\n",
       "          var fn = function() {\n",
       "            var docs_json = {\"cd5e5e5b-81af-43ed-9eaf-66b3e9e2e8c5\":{\"roots\":{\"references\":[{\"attributes\":{\"callback\":null,\"column_names\":[\"x\",\"y\"],\"data\":{\"x\":[0,1,2,3,4,5,6,7,8,9,10,11,12,13,14,15,16,17,18,19,20,21,22,23,24,25,26,27,28,29],\"y\":{\"__ndarray__\":\"t3ur9FZp4j/06XET8HziP1g4MmeKX+I/6nEz9sNg4T8gBgtHj5vhPxW/JOIEPN8/Ui3rADyf3j+yPwy2SlPcPwfa7u0ayts/V2mKXx1o2z82lNfwGsrbPwwWjixN8ds/CamWVTgy1z8ipFp2b5XWP6s0xa8/DNY/NcUvKX5J1D/8kghJF13UP8jN2H/n09M/tawDLX5J1D+ivIbSFL/UP6+hvCbg+dQ/g4Uj863S1D9WmuLXsg7UP5rilyQGC9c/qZZ1AG331j+TCKlWmuLXP9WyDjQBz9c/cwKebzP21z9zAp5vM/bXP3MCnm8z9tc/\",\"dtype\":\"float64\",\"shape\":[30]}}},\"id\":\"a27e502e-2a51-4e62-bdbe-560eeadb358c\",\"type\":\"ColumnDataSource\"},{\"attributes\":{\"callback\":null,\"column_names\":[\"x\",\"y\"],\"data\":{\"x\":[0,1,2,3,4,5,6,7,8,9,10,11,12,13,14,15,16,17,18,19,20,21,22,23,24,25,26,27,28,29],\"y\":{\"__ndarray__\":\"OgHP171V4j/Vsg7E8+nhP03xSzIn4OE/V2mK31ul4T8U8Hz69LjhP6mWdeBbpeE/0HZvFV104T8or6Fsxv7gPxTwfIouuuA/0HZvpcfN4D94Pj3eyJzgP4RUyxosHOE/jf1hwGDh4D9WmuIXLBzhP8LCkTmU1+A/ztgfxmDh4D/ZHwZL/JLgP2KwcKTHzeA/9OlxkxPw3D8WjswJ2u7dP/dWacqnx90/yM3Y/9nu3T9b1oFWQ3ndPxFSLavHzdg/HJkTcDP21z8KeD4daLvXPyAGC+fT49Y/cwKebzP21z9zAp5vM/bXP3MCnm8z9tc/\",\"dtype\":\"float64\",\"shape\":[30]}}},\"id\":\"821bfb54-33c3-422b-9a35-f6164e3b7193\",\"type\":\"ColumnDataSource\"},{\"attributes\":{\"line_color\":{\"value\":\"blue\"},\"line_width\":{\"value\":2},\"x\":{\"field\":\"x\"},\"y\":{\"field\":\"y\"}},\"id\":\"74e87c30-011f-4a41-a499-c822acc9495f\",\"type\":\"Line\"},{\"attributes\":{\"plot\":{\"id\":\"1e11de91-5f86-40d0-a0be-9596a216ffd9\",\"subtype\":\"Figure\",\"type\":\"Plot\"}},\"id\":\"56890177-0b4a-48a1-ba33-2c3fb0ed1301\",\"type\":\"UndoTool\"},{\"attributes\":{\"plot\":{\"id\":\"1e11de91-5f86-40d0-a0be-9596a216ffd9\",\"subtype\":\"Figure\",\"type\":\"Plot\"}},\"id\":\"9962499c-970e-4b1b-a9e4-cc6e3e4f8026\",\"type\":\"WheelZoomTool\"},{\"attributes\":{\"callback\":null},\"id\":\"b8dd0a21-03be-419e-821a-2e8cacaa96ee\",\"type\":\"DataRange1d\"},{\"attributes\":{\"data_source\":{\"id\":\"821bfb54-33c3-422b-9a35-f6164e3b7193\",\"type\":\"ColumnDataSource\"},\"glyph\":{\"id\":\"c50f22f9-2ac7-418c-b68d-ce25df16917f\",\"type\":\"Line\"},\"hover_glyph\":null,\"nonselection_glyph\":{\"id\":\"51626c18-acdf-48c3-8000-b23023b63700\",\"type\":\"Line\"},\"selection_glyph\":null},\"id\":\"1d72efa5-9fb8-4d60-a569-ecfa2473c69e\",\"type\":\"GlyphRenderer\"},{\"attributes\":{\"label\":{\"value\":\"ucb1\"},\"renderers\":[{\"id\":\"56267813-75ce-42c9-beb6-bc9b4a9a89a4\",\"type\":\"GlyphRenderer\"}]},\"id\":\"182ee130-0f10-4017-8337-d66a226df68c\",\"type\":\"LegendItem\"},{\"attributes\":{\"bottom_units\":\"screen\",\"fill_alpha\":{\"value\":0.5},\"fill_color\":{\"value\":\"lightgrey\"},\"left_units\":\"screen\",\"level\":\"overlay\",\"line_alpha\":{\"value\":1.0},\"line_color\":{\"value\":\"black\"},\"line_dash\":[4,4],\"line_width\":{\"value\":2},\"plot\":null,\"render_mode\":\"css\",\"right_units\":\"screen\",\"top_units\":\"screen\"},\"id\":\"3d0b669a-000d-4d7a-a3f3-b44b2e04f71f\",\"type\":\"BoxAnnotation\"},{\"attributes\":{\"callback\":null,\"plot\":{\"id\":\"1e11de91-5f86-40d0-a0be-9596a216ffd9\",\"subtype\":\"Figure\",\"type\":\"Plot\"}},\"id\":\"7239ce7a-789a-4989-8b10-408765303558\",\"type\":\"TapTool\"},{\"attributes\":{\"line_alpha\":{\"value\":0.1},\"line_color\":{\"value\":\"#1f77b4\"},\"line_width\":{\"value\":2},\"x\":{\"field\":\"x\"},\"y\":{\"field\":\"y\"}},\"id\":\"8d794cd3-af8d-48e2-ba2b-b1d97677489e\",\"type\":\"Line\"},{\"attributes\":{\"overlay\":{\"id\":\"8d16356b-ff29-4f30-a281-c920e88d5f29\",\"type\":\"PolyAnnotation\"},\"plot\":{\"id\":\"1e11de91-5f86-40d0-a0be-9596a216ffd9\",\"subtype\":\"Figure\",\"type\":\"Plot\"}},\"id\":\"a03eaf04-939a-473b-907d-9b8975874f7c\",\"type\":\"PolySelectTool\"},{\"attributes\":{\"fill_alpha\":{\"value\":0.5},\"fill_color\":{\"value\":\"lightgrey\"},\"level\":\"overlay\",\"line_alpha\":{\"value\":1.0},\"line_color\":{\"value\":\"black\"},\"line_dash\":[4,4],\"line_width\":{\"value\":2},\"plot\":null,\"xs_units\":\"screen\",\"ys_units\":\"screen\"},\"id\":\"8d16356b-ff29-4f30-a281-c920e88d5f29\",\"type\":\"PolyAnnotation\"},{\"attributes\":{\"fill_alpha\":{\"value\":0.5},\"fill_color\":{\"value\":\"lightgrey\"},\"level\":\"overlay\",\"line_alpha\":{\"value\":1.0},\"line_color\":{\"value\":\"black\"},\"line_dash\":[4,4],\"line_width\":{\"value\":2},\"plot\":null,\"xs_units\":\"screen\",\"ys_units\":\"screen\"},\"id\":\"117bad26-c117-4847-8221-8c35aa52febc\",\"type\":\"PolyAnnotation\"},{\"attributes\":{},\"id\":\"9a8605ac-6862-47d1-b24b-f25ff4997c28\",\"type\":\"BasicTickFormatter\"},{\"attributes\":{\"data_source\":{\"id\":\"a27e502e-2a51-4e62-bdbe-560eeadb358c\",\"type\":\"ColumnDataSource\"},\"glyph\":{\"id\":\"74e87c30-011f-4a41-a499-c822acc9495f\",\"type\":\"Line\"},\"hover_glyph\":null,\"nonselection_glyph\":{\"id\":\"8d794cd3-af8d-48e2-ba2b-b1d97677489e\",\"type\":\"Line\"},\"selection_glyph\":null},\"id\":\"56267813-75ce-42c9-beb6-bc9b4a9a89a4\",\"type\":\"GlyphRenderer\"},{\"attributes\":{},\"id\":\"56c28ebe-e24c-4e29-88ba-c584b60700a3\",\"type\":\"ToolEvents\"},{\"attributes\":{\"active_drag\":\"auto\",\"active_scroll\":\"auto\",\"active_tap\":\"auto\",\"tools\":[{\"id\":\"6084873d-8cc1-4fec-bafe-148a38e29d50\",\"type\":\"BoxZoomTool\"},{\"id\":\"88ce3eb9-f294-4eb5-8f55-8d0e4ac73b1b\",\"type\":\"BoxSelectTool\"},{\"id\":\"0a70e667-7187-4311-bf9d-80cab54feb65\",\"type\":\"CrosshairTool\"},{\"id\":\"8ef65d5c-486b-4a40-a56e-ad31561969fd\",\"type\":\"ResizeTool\"},{\"id\":\"6c549295-1277-4b42-bed6-c6305e93ffdf\",\"type\":\"ResetTool\"},{\"id\":\"c0f0288a-a007-46d0-a4e0-fe531d5bf488\",\"type\":\"LassoSelectTool\"},{\"id\":\"6ebc6a00-4daf-46fc-9512-977fd9188a22\",\"type\":\"PanTool\"},{\"id\":\"8d2e71fe-6f79-4421-9aef-b54624ed117e\",\"type\":\"SaveTool\"},{\"id\":\"a03eaf04-939a-473b-907d-9b8975874f7c\",\"type\":\"PolySelectTool\"},{\"id\":\"7239ce7a-789a-4989-8b10-408765303558\",\"type\":\"TapTool\"},{\"id\":\"9962499c-970e-4b1b-a9e4-cc6e3e4f8026\",\"type\":\"WheelZoomTool\"},{\"id\":\"56890177-0b4a-48a1-ba33-2c3fb0ed1301\",\"type\":\"UndoTool\"}]},\"id\":\"06b75c22-b1a7-41bf-99a4-d80e92c2a3b5\",\"type\":\"Toolbar\"},{\"attributes\":{\"overlay\":{\"id\":\"d630c9b3-8866-470c-8b48-b0454ae87225\",\"type\":\"BoxAnnotation\"},\"plot\":{\"id\":\"1e11de91-5f86-40d0-a0be-9596a216ffd9\",\"subtype\":\"Figure\",\"type\":\"Plot\"}},\"id\":\"6084873d-8cc1-4fec-bafe-148a38e29d50\",\"type\":\"BoxZoomTool\"},{\"attributes\":{\"formatter\":{\"id\":\"82d42762-2df8-4d08-8ea3-5c4ccdd0f32e\",\"type\":\"BasicTickFormatter\"},\"plot\":{\"id\":\"1e11de91-5f86-40d0-a0be-9596a216ffd9\",\"subtype\":\"Figure\",\"type\":\"Plot\"},\"ticker\":{\"id\":\"7386633f-dded-4b2f-815a-3c3522e01d42\",\"type\":\"BasicTicker\"}},\"id\":\"dba3feeb-d237-484b-a195-b0ee7717126e\",\"type\":\"LinearAxis\"},{\"attributes\":{},\"id\":\"82d42762-2df8-4d08-8ea3-5c4ccdd0f32e\",\"type\":\"BasicTickFormatter\"},{\"attributes\":{\"callback\":null,\"overlay\":{\"id\":\"117bad26-c117-4847-8221-8c35aa52febc\",\"type\":\"PolyAnnotation\"},\"plot\":{\"id\":\"1e11de91-5f86-40d0-a0be-9596a216ffd9\",\"subtype\":\"Figure\",\"type\":\"Plot\"}},\"id\":\"c0f0288a-a007-46d0-a4e0-fe531d5bf488\",\"type\":\"LassoSelectTool\"},{\"attributes\":{\"plot\":{\"id\":\"1e11de91-5f86-40d0-a0be-9596a216ffd9\",\"subtype\":\"Figure\",\"type\":\"Plot\"}},\"id\":\"6ebc6a00-4daf-46fc-9512-977fd9188a22\",\"type\":\"PanTool\"},{\"attributes\":{\"line_color\":{\"value\":\"red\"},\"line_width\":{\"value\":2},\"x\":{\"field\":\"x\"},\"y\":{\"field\":\"y\"}},\"id\":\"c50f22f9-2ac7-418c-b68d-ce25df16917f\",\"type\":\"Line\"},{\"attributes\":{\"dimension\":1,\"plot\":{\"id\":\"1e11de91-5f86-40d0-a0be-9596a216ffd9\",\"subtype\":\"Figure\",\"type\":\"Plot\"},\"ticker\":{\"id\":\"93c31f03-f359-41ee-bd8e-831390a76943\",\"type\":\"BasicTicker\"}},\"id\":\"5f728f07-8f35-45db-a3fc-6c314244b275\",\"type\":\"Grid\"},{\"attributes\":{\"below\":[{\"id\":\"dba3feeb-d237-484b-a195-b0ee7717126e\",\"type\":\"LinearAxis\"}],\"left\":[{\"id\":\"0bacf636-cf09-45eb-bd98-43e3c4caba12\",\"type\":\"LinearAxis\"}],\"renderers\":[{\"id\":\"dba3feeb-d237-484b-a195-b0ee7717126e\",\"type\":\"LinearAxis\"},{\"id\":\"04a9b86e-8fff-40f4-83f8-12b275b6b374\",\"type\":\"Grid\"},{\"id\":\"0bacf636-cf09-45eb-bd98-43e3c4caba12\",\"type\":\"LinearAxis\"},{\"id\":\"5f728f07-8f35-45db-a3fc-6c314244b275\",\"type\":\"Grid\"},{\"id\":\"d630c9b3-8866-470c-8b48-b0454ae87225\",\"type\":\"BoxAnnotation\"},{\"id\":\"3d0b669a-000d-4d7a-a3f3-b44b2e04f71f\",\"type\":\"BoxAnnotation\"},{\"id\":\"117bad26-c117-4847-8221-8c35aa52febc\",\"type\":\"PolyAnnotation\"},{\"id\":\"8d16356b-ff29-4f30-a281-c920e88d5f29\",\"type\":\"PolyAnnotation\"},{\"id\":\"d1cee989-a3a0-4c18-a3c5-5f1b953c6423\",\"type\":\"Legend\"},{\"id\":\"56267813-75ce-42c9-beb6-bc9b4a9a89a4\",\"type\":\"GlyphRenderer\"},{\"id\":\"1d72efa5-9fb8-4d60-a569-ecfa2473c69e\",\"type\":\"GlyphRenderer\"}],\"title\":{\"id\":\"6d63dcdd-6ba0-4ebe-8b90-ff47f67fea03\",\"type\":\"Title\"},\"tool_events\":{\"id\":\"56c28ebe-e24c-4e29-88ba-c584b60700a3\",\"type\":\"ToolEvents\"},\"toolbar\":{\"id\":\"06b75c22-b1a7-41bf-99a4-d80e92c2a3b5\",\"type\":\"Toolbar\"},\"x_range\":{\"id\":\"b8dd0a21-03be-419e-821a-2e8cacaa96ee\",\"type\":\"DataRange1d\"},\"y_range\":{\"id\":\"0b4f894f-74a5-4dc6-a92d-675ee3d88cbc\",\"type\":\"DataRange1d\"}},\"id\":\"1e11de91-5f86-40d0-a0be-9596a216ffd9\",\"subtype\":\"Figure\",\"type\":\"Plot\"},{\"attributes\":{\"bottom_units\":\"screen\",\"fill_alpha\":{\"value\":0.5},\"fill_color\":{\"value\":\"lightgrey\"},\"left_units\":\"screen\",\"level\":\"overlay\",\"line_alpha\":{\"value\":1.0},\"line_color\":{\"value\":\"black\"},\"line_dash\":[4,4],\"line_width\":{\"value\":2},\"plot\":null,\"render_mode\":\"css\",\"right_units\":\"screen\",\"top_units\":\"screen\"},\"id\":\"d630c9b3-8866-470c-8b48-b0454ae87225\",\"type\":\"BoxAnnotation\"},{\"attributes\":{\"callback\":null},\"id\":\"0b4f894f-74a5-4dc6-a92d-675ee3d88cbc\",\"type\":\"DataRange1d\"},{\"attributes\":{\"align\":\"center\",\"plot\":null,\"text\":\"The Performance over the number of neurons' pruned\"},\"id\":\"6d63dcdd-6ba0-4ebe-8b90-ff47f67fea03\",\"type\":\"Title\"},{\"attributes\":{\"plot\":{\"id\":\"1e11de91-5f86-40d0-a0be-9596a216ffd9\",\"subtype\":\"Figure\",\"type\":\"Plot\"}},\"id\":\"8d2e71fe-6f79-4421-9aef-b54624ed117e\",\"type\":\"SaveTool\"},{\"attributes\":{},\"id\":\"7386633f-dded-4b2f-815a-3c3522e01d42\",\"type\":\"BasicTicker\"},{\"attributes\":{\"line_alpha\":{\"value\":0.1},\"line_color\":{\"value\":\"#1f77b4\"},\"line_width\":{\"value\":2},\"x\":{\"field\":\"x\"},\"y\":{\"field\":\"y\"}},\"id\":\"51626c18-acdf-48c3-8000-b23023b63700\",\"type\":\"Line\"},{\"attributes\":{\"items\":[{\"id\":\"182ee130-0f10-4017-8337-d66a226df68c\",\"type\":\"LegendItem\"},{\"id\":\"e4b8eddc-9b9f-4186-9821-84aae7aa1df8\",\"type\":\"LegendItem\"}],\"plot\":{\"id\":\"1e11de91-5f86-40d0-a0be-9596a216ffd9\",\"subtype\":\"Figure\",\"type\":\"Plot\"}},\"id\":\"d1cee989-a3a0-4c18-a3c5-5f1b953c6423\",\"type\":\"Legend\"},{\"attributes\":{\"plot\":{\"id\":\"1e11de91-5f86-40d0-a0be-9596a216ffd9\",\"subtype\":\"Figure\",\"type\":\"Plot\"}},\"id\":\"0a70e667-7187-4311-bf9d-80cab54feb65\",\"type\":\"CrosshairTool\"},{\"attributes\":{\"formatter\":{\"id\":\"9a8605ac-6862-47d1-b24b-f25ff4997c28\",\"type\":\"BasicTickFormatter\"},\"plot\":{\"id\":\"1e11de91-5f86-40d0-a0be-9596a216ffd9\",\"subtype\":\"Figure\",\"type\":\"Plot\"},\"ticker\":{\"id\":\"93c31f03-f359-41ee-bd8e-831390a76943\",\"type\":\"BasicTicker\"}},\"id\":\"0bacf636-cf09-45eb-bd98-43e3c4caba12\",\"type\":\"LinearAxis\"},{\"attributes\":{\"plot\":{\"id\":\"1e11de91-5f86-40d0-a0be-9596a216ffd9\",\"subtype\":\"Figure\",\"type\":\"Plot\"}},\"id\":\"8ef65d5c-486b-4a40-a56e-ad31561969fd\",\"type\":\"ResizeTool\"},{\"attributes\":{\"label\":{\"value\":\"Thompson Sampling\"},\"renderers\":[{\"id\":\"1d72efa5-9fb8-4d60-a569-ecfa2473c69e\",\"type\":\"GlyphRenderer\"}]},\"id\":\"e4b8eddc-9b9f-4186-9821-84aae7aa1df8\",\"type\":\"LegendItem\"},{\"attributes\":{\"plot\":{\"id\":\"1e11de91-5f86-40d0-a0be-9596a216ffd9\",\"subtype\":\"Figure\",\"type\":\"Plot\"}},\"id\":\"6c549295-1277-4b42-bed6-c6305e93ffdf\",\"type\":\"ResetTool\"},{\"attributes\":{},\"id\":\"93c31f03-f359-41ee-bd8e-831390a76943\",\"type\":\"BasicTicker\"},{\"attributes\":{\"plot\":{\"id\":\"1e11de91-5f86-40d0-a0be-9596a216ffd9\",\"subtype\":\"Figure\",\"type\":\"Plot\"},\"ticker\":{\"id\":\"7386633f-dded-4b2f-815a-3c3522e01d42\",\"type\":\"BasicTicker\"}},\"id\":\"04a9b86e-8fff-40f4-83f8-12b275b6b374\",\"type\":\"Grid\"},{\"attributes\":{\"callback\":null,\"overlay\":{\"id\":\"3d0b669a-000d-4d7a-a3f3-b44b2e04f71f\",\"type\":\"BoxAnnotation\"},\"plot\":{\"id\":\"1e11de91-5f86-40d0-a0be-9596a216ffd9\",\"subtype\":\"Figure\",\"type\":\"Plot\"},\"renderers\":[{\"id\":\"56267813-75ce-42c9-beb6-bc9b4a9a89a4\",\"type\":\"GlyphRenderer\"},{\"id\":\"1d72efa5-9fb8-4d60-a569-ecfa2473c69e\",\"type\":\"GlyphRenderer\"}]},\"id\":\"88ce3eb9-f294-4eb5-8f55-8d0e4ac73b1b\",\"type\":\"BoxSelectTool\"}],\"root_ids\":[\"1e11de91-5f86-40d0-a0be-9596a216ffd9\"]},\"title\":\"Bokeh Application\",\"version\":\"0.12.4\"}};\n",
       "            var render_items = [{\"docid\":\"cd5e5e5b-81af-43ed-9eaf-66b3e9e2e8c5\",\"elementid\":\"cec97b2f-b39c-457a-9bc8-1eb2ee659c50\",\"modelid\":\"1e11de91-5f86-40d0-a0be-9596a216ffd9\"}];\n",
       "            \n",
       "            Bokeh.embed.embed_items(docs_json, render_items);\n",
       "          };\n",
       "          if (document.readyState != \"loading\") fn();\n",
       "          else document.addEventListener(\"DOMContentLoaded\", fn);\n",
       "        })();\n",
       "      },\n",
       "      function(Bokeh) {\n",
       "      }\n",
       "    ];\n",
       "  \n",
       "    function run_inline_js() {\n",
       "      \n",
       "      if ((window.Bokeh !== undefined) || (force === true)) {\n",
       "        for (var i = 0; i < inline_js.length; i++) {\n",
       "          inline_js[i](window.Bokeh);\n",
       "        }if (force === true) {\n",
       "          display_loaded();\n",
       "        }} else if (Date.now() < window._bokeh_timeout) {\n",
       "        setTimeout(run_inline_js, 100);\n",
       "      } else if (!window._bokeh_failed_load) {\n",
       "        console.log(\"Bokeh: BokehJS failed to load within specified timeout.\");\n",
       "        window._bokeh_failed_load = true;\n",
       "      } else if (force !== true) {\n",
       "        var cell = $(document.getElementById(\"cec97b2f-b39c-457a-9bc8-1eb2ee659c50\")).parents('.cell').data().cell;\n",
       "        cell.output_area.append_execute_result(NB_LOAD_WARNING)\n",
       "      }\n",
       "  \n",
       "    }\n",
       "  \n",
       "    if (window._bokeh_is_loading === 0) {\n",
       "      console.log(\"Bokeh: BokehJS loaded, going straight to plotting\");\n",
       "      run_inline_js();\n",
       "    } else {\n",
       "      load_libs(js_urls, function() {\n",
       "        console.log(\"Bokeh: BokehJS plotting callback run at\", now());\n",
       "        run_inline_js();\n",
       "      });\n",
       "    }\n",
       "  }(this));\n",
       "</script>"
      ]
     },
     "metadata": {},
     "output_type": "display_data"
    }
   ],
   "source": [
    "p1 = figure(title=\"The Performance over the number of neurons' pruned\", tools=TOOLS)\n",
    "p1.line(ind, ucb1, legend=\"ucb1\", line_color=\"blue\", line_width=2)\n",
    "p1.line(ind, ThompsonSampling, legend=\"Thompson Sampling\", line_color=\"red\", line_width=2)\n",
    "p1.title.align = \"center\"\n",
    "show(p1)"
   ]
  },
  {
   "cell_type": "markdown",
   "metadata": {},
   "source": [
    "# Comparing All algorithms with the model before pruning"
   ]
  },
  {
   "cell_type": "code",
   "execution_count": 10,
   "metadata": {
    "collapsed": false
   },
   "outputs": [
    {
     "data": {
      "image/png": "[encoded data removed]",
      "text/plain": [
       "<matplotlib.figure.Figure at 0x10e54b5f8>"
      ]
     },
     "metadata": {},
     "output_type": "display_data"
    }
   ],
   "source": [
    "fig = plt.figure(figsize=(10, 6), dpi=80)\n",
    "ax = fig.add_subplot(111)\n",
    "N = len(ucb1)\n",
    "Acc = [Accuracy for col in range(N)]\n",
    "ind = np.arange(N)                # the x locations for the groups\n",
    "plt.plot(ind , ucb1 , color=\"blue\", linewidth=2.5, linestyle=\"-\", label=\"UCB1\")\n",
    "plt.plot(ind , ThompsonSampling, color=\"orange\", linewidth=2.5, linestyle=\"-\", label=\"Thompson Sampling\")\n",
    "plt.plot(ind , Acc, color=\"pink\", linewidth=2.5, linestyle=\"-\", label=\"Accuracy before Pruning\")\n",
    "plt.legend(loc = 3)\n",
    "plt.axis([0, 25, 0, 1])\n",
    "plt.xlabel('Number of pruned Neurons')\n",
    "plt.ylabel('The Accuracy')\n",
    "plt.grid(True)\n",
    "plt.show()"
   ]
  },
  {
   "cell_type": "code",
   "execution_count": 11,
   "metadata": {
    "collapsed": false
   },
   "outputs": [
    {
     "data": {
      "text/html": [
       "\n",
       "\n",
       "    <div class=\"bk-root\">\n",
       "        <div class=\"bk-plotdiv\" id=\"46f37d99-c65d-4c45-ba56-c6f44488c4d9\"></div>\n",
       "    </div>\n",
       "<script type=\"text/javascript\">\n",
       "  \n",
       "  (function(global) {\n",
       "    function now() {\n",
       "      return new Date();\n",
       "    }\n",
       "  \n",
       "    var force = false;\n",
       "  \n",
       "    if (typeof (window._bokeh_onload_callbacks) === \"undefined\" || force === true) {\n",
       "      window._bokeh_onload_callbacks = [];\n",
       "      window._bokeh_is_loading = undefined;\n",
       "    }\n",
       "  \n",
       "  \n",
       "    \n",
       "    if (typeof (window._bokeh_timeout) === \"undefined\" || force === true) {\n",
       "      window._bokeh_timeout = Date.now() + 0;\n",
       "      window._bokeh_failed_load = false;\n",
       "    }\n",
       "  \n",
       "    var NB_LOAD_WARNING = {'data': {'text/html':\n",
       "       \"<div style='background-color: #fdd'>\\n\"+\n",
       "       \"<p>\\n\"+\n",
       "       \"BokehJS does not appear to have successfully loaded. If loading BokehJS from CDN, this \\n\"+\n",
       "       \"may be due to a slow or bad network connection. Possible fixes:\\n\"+\n",
       "       \"</p>\\n\"+\n",
       "       \"<ul>\\n\"+\n",
       "       \"<li>re-rerun `output_notebook()` to attempt to load from CDN again, or</li>\\n\"+\n",
       "       \"<li>use INLINE resources instead, as so:</li>\\n\"+\n",
       "       \"</ul>\\n\"+\n",
       "       \"<code>\\n\"+\n",
       "       \"from bokeh.resources import INLINE\\n\"+\n",
       "       \"output_notebook(resources=INLINE)\\n\"+\n",
       "       \"</code>\\n\"+\n",
       "       \"</div>\"}};\n",
       "  \n",
       "    function display_loaded() {\n",
       "      if (window.Bokeh !== undefined) {\n",
       "        document.getElementById(\"46f37d99-c65d-4c45-ba56-c6f44488c4d9\").textContent = \"BokehJS successfully loaded.\";\n",
       "      } else if (Date.now() < window._bokeh_timeout) {\n",
       "        setTimeout(display_loaded, 100)\n",
       "      }\n",
       "    }\n",
       "  \n",
       "    function run_callbacks() {\n",
       "      window._bokeh_onload_callbacks.forEach(function(callback) { callback() });\n",
       "      delete window._bokeh_onload_callbacks\n",
       "      console.info(\"Bokeh: all callbacks have finished\");\n",
       "    }\n",
       "  \n",
       "    function load_libs(js_urls, callback) {\n",
       "      window._bokeh_onload_callbacks.push(callback);\n",
       "      if (window._bokeh_is_loading > 0) {\n",
       "        console.log(\"Bokeh: BokehJS is being loaded, scheduling callback at\", now());\n",
       "        return null;\n",
       "      }\n",
       "      if (js_urls == null || js_urls.length === 0) {\n",
       "        run_callbacks();\n",
       "        return null;\n",
       "      }\n",
       "      console.log(\"Bokeh: BokehJS not loaded, scheduling load and callback at\", now());\n",
       "      window._bokeh_is_loading = js_urls.length;\n",
       "      for (var i = 0; i < js_urls.length; i++) {\n",
       "        var url = js_urls[i];\n",
       "        var s = document.createElement('script');\n",
       "        s.src = url;\n",
       "        s.async = false;\n",
       "        s.onreadystatechange = s.onload = function() {\n",
       "          window._bokeh_is_loading--;\n",
       "          if (window._bokeh_is_loading === 0) {\n",
       "            console.log(\"Bokeh: all BokehJS libraries loaded\");\n",
       "            run_callbacks()\n",
       "          }\n",
       "        };\n",
       "        s.onerror = function() {\n",
       "          console.warn(\"failed to load library \" + url);\n",
       "        };\n",
       "        console.log(\"Bokeh: injecting script tag for BokehJS library: \", url);\n",
       "        document.getElementsByTagName(\"head\")[0].appendChild(s);\n",
       "      }\n",
       "    };var element = document.getElementById(\"46f37d99-c65d-4c45-ba56-c6f44488c4d9\");\n",
       "    if (element == null) {\n",
       "      console.log(\"Bokeh: ERROR: autoload.js configured with elementid '46f37d99-c65d-4c45-ba56-c6f44488c4d9' but no matching script tag was found. \")\n",
       "      return false;\n",
       "    }\n",
       "  \n",
       "    var js_urls = [];\n",
       "  \n",
       "    var inline_js = [\n",
       "      function(Bokeh) {\n",
       "        (function() {\n",
       "          var fn = function() {\n",
       "            var docs_json = {\"adf1aee6-ee8a-40ff-8767-561e32571dcb\":{\"roots\":{\"references\":[{\"attributes\":{},\"id\":\"5e9ae702-a830-4092-9529-9434a57a5c5c\",\"type\":\"BasicTickFormatter\"},{\"attributes\":{\"label\":{\"value\":\"ucb1\"},\"renderers\":[{\"id\":\"c840dc88-f4be-468a-abc0-0f3788a07254\",\"type\":\"GlyphRenderer\"}]},\"id\":\"b8fefefd-418e-4c20-9603-45f1bd4a570e\",\"type\":\"LegendItem\"},{\"attributes\":{\"callback\":null},\"id\":\"ec3d5a0e-c54b-4144-a316-790197909411\",\"type\":\"DataRange1d\"},{\"attributes\":{\"callback\":null,\"column_names\":[\"x\",\"y\"],\"data\":{\"x\":[0,1,2,3,4,5,6,7,8,9,10,11,12,13,14,15,16,17,18,19,20,21,22,23,24,25,26,27,28,29],\"y\":[{\"__ndarray__\":\"xNWt5AsF4T8=\",\"dtype\":\"float64\",\"shape\":[]},{\"__ndarray__\":\"xNWt5AsF4T8=\",\"dtype\":\"float64\",\"shape\":[]},{\"__ndarray__\":\"xNWt5AsF4T8=\",\"dtype\":\"float64\",\"shape\":[]},{\"__ndarray__\":\"xNWt5AsF4T8=\",\"dtype\":\"float64\",\"shape\":[]},{\"__ndarray__\":\"xNWt5AsF4T8=\",\"dtype\":\"float64\",\"shape\":[]},{\"__ndarray__\":\"xNWt5AsF4T8=\",\"dtype\":\"float64\",\"shape\":[]},{\"__ndarray__\":\"xNWt5AsF4T8=\",\"dtype\":\"float64\",\"shape\":[]},{\"__ndarray__\":\"xNWt5AsF4T8=\",\"dtype\":\"float64\",\"shape\":[]},{\"__ndarray__\":\"xNWt5AsF4T8=\",\"dtype\":\"float64\",\"shape\":[]},{\"__ndarray__\":\"xNWt5AsF4T8=\",\"dtype\":\"float64\",\"shape\":[]},{\"__ndarray__\":\"xNWt5AsF4T8=\",\"dtype\":\"float64\",\"shape\":[]},{\"__ndarray__\":\"xNWt5AsF4T8=\",\"dtype\":\"float64\",\"shape\":[]},{\"__ndarray__\":\"xNWt5AsF4T8=\",\"dtype\":\"float64\",\"shape\":[]},{\"__ndarray__\":\"xNWt5AsF4T8=\",\"dtype\":\"float64\",\"shape\":[]},{\"__ndarray__\":\"xNWt5AsF4T8=\",\"dtype\":\"float64\",\"shape\":[]},{\"__ndarray__\":\"xNWt5AsF4T8=\",\"dtype\":\"float64\",\"shape\":[]},{\"__ndarray__\":\"xNWt5AsF4T8=\",\"dtype\":\"float64\",\"shape\":[]},{\"__ndarray__\":\"xNWt5AsF4T8=\",\"dtype\":\"float64\",\"shape\":[]},{\"__ndarray__\":\"xNWt5AsF4T8=\",\"dtype\":\"float64\",\"shape\":[]},{\"__ndarray__\":\"xNWt5AsF4T8=\",\"dtype\":\"float64\",\"shape\":[]},{\"__ndarray__\":\"xNWt5AsF4T8=\",\"dtype\":\"float64\",\"shape\":[]},{\"__ndarray__\":\"xNWt5AsF4T8=\",\"dtype\":\"float64\",\"shape\":[]},{\"__ndarray__\":\"xNWt5AsF4T8=\",\"dtype\":\"float64\",\"shape\":[]},{\"__ndarray__\":\"xNWt5AsF4T8=\",\"dtype\":\"float64\",\"shape\":[]},{\"__ndarray__\":\"xNWt5AsF4T8=\",\"dtype\":\"float64\",\"shape\":[]},{\"__ndarray__\":\"xNWt5AsF4T8=\",\"dtype\":\"float64\",\"shape\":[]},{\"__ndarray__\":\"xNWt5AsF4T8=\",\"dtype\":\"float64\",\"shape\":[]},{\"__ndarray__\":\"xNWt5AsF4T8=\",\"dtype\":\"float64\",\"shape\":[]},{\"__ndarray__\":\"xNWt5AsF4T8=\",\"dtype\":\"float64\",\"shape\":[]},{\"__ndarray__\":\"xNWt5AsF4T8=\",\"dtype\":\"float64\",\"shape\":[]}]}},\"id\":\"09fd9db5-b4be-4379-882e-df1c9b6a9f78\",\"type\":\"ColumnDataSource\"},{\"attributes\":{\"dimension\":1,\"plot\":{\"id\":\"bde8080c-456a-4a57-9fed-98a8ff89ce39\",\"subtype\":\"Figure\",\"type\":\"Plot\"},\"ticker\":{\"id\":\"b8d1f5ba-6422-408c-b412-b44845b95bec\",\"type\":\"BasicTicker\"}},\"id\":\"7208cee1-6cd5-45e2-b6fb-e1ae5983177d\",\"type\":\"Grid\"},{\"attributes\":{\"plot\":{\"id\":\"bde8080c-456a-4a57-9fed-98a8ff89ce39\",\"subtype\":\"Figure\",\"type\":\"Plot\"}},\"id\":\"2deff048-3c34-4ff5-ab2b-1d1e8d594c53\",\"type\":\"SaveTool\"},{\"attributes\":{\"fill_alpha\":{\"value\":0.5},\"fill_color\":{\"value\":\"lightgrey\"},\"level\":\"overlay\",\"line_alpha\":{\"value\":1.0},\"line_color\":{\"value\":\"black\"},\"line_dash\":[4,4],\"line_width\":{\"value\":2},\"plot\":null,\"xs_units\":\"screen\",\"ys_units\":\"screen\"},\"id\":\"c0a0cb20-f382-41bd-9ee2-25021357d6b5\",\"type\":\"PolyAnnotation\"},{\"attributes\":{},\"id\":\"53aba52b-6d73-4c55-a0d1-b64f2a9567a5\",\"type\":\"ToolEvents\"},{\"attributes\":{\"items\":[{\"id\":\"b8fefefd-418e-4c20-9603-45f1bd4a570e\",\"type\":\"LegendItem\"},{\"id\":\"e5c41c19-cbf6-4cd8-98d9-eef06760f793\",\"type\":\"LegendItem\"},{\"id\":\"9a2453f6-2207-4950-ba2c-731ded26a9d0\",\"type\":\"LegendItem\"}],\"plot\":{\"id\":\"bde8080c-456a-4a57-9fed-98a8ff89ce39\",\"subtype\":\"Figure\",\"type\":\"Plot\"}},\"id\":\"2cea36eb-96ef-4688-b62d-46938f05b2ee\",\"type\":\"Legend\"},{\"attributes\":{\"callback\":null,\"plot\":{\"id\":\"bde8080c-456a-4a57-9fed-98a8ff89ce39\",\"subtype\":\"Figure\",\"type\":\"Plot\"}},\"id\":\"28ada681-c265-48ec-a48c-f27dc24e4147\",\"type\":\"TapTool\"},{\"attributes\":{\"line_alpha\":{\"value\":0.1},\"line_color\":{\"value\":\"#1f77b4\"},\"line_width\":{\"value\":2},\"x\":{\"field\":\"x\"},\"y\":{\"field\":\"y\"}},\"id\":\"a40c9990-8f14-4089-9290-8b72a5896eb0\",\"type\":\"Line\"},{\"attributes\":{\"plot\":{\"id\":\"bde8080c-456a-4a57-9fed-98a8ff89ce39\",\"subtype\":\"Figure\",\"type\":\"Plot\"}},\"id\":\"7b8f7a04-b293-4d44-9310-a3ada372728e\",\"type\":\"UndoTool\"},{\"attributes\":{\"label\":{\"value\":\"Accuracy\"},\"renderers\":[{\"id\":\"2e13601d-f332-46af-afa3-11e24fd694f9\",\"type\":\"GlyphRenderer\"}]},\"id\":\"9a2453f6-2207-4950-ba2c-731ded26a9d0\",\"type\":\"LegendItem\"},{\"attributes\":{\"below\":[{\"id\":\"1bed1726-55cd-44ef-9c62-1e672a2069b1\",\"type\":\"LinearAxis\"}],\"left\":[{\"id\":\"b1ca64a2-00aa-4a6a-b54c-b9eec77d2527\",\"type\":\"LinearAxis\"}],\"renderers\":[{\"id\":\"1bed1726-55cd-44ef-9c62-1e672a2069b1\",\"type\":\"LinearAxis\"},{\"id\":\"0e22592a-d40e-440a-a713-06ead91bbf36\",\"type\":\"Grid\"},{\"id\":\"b1ca64a2-00aa-4a6a-b54c-b9eec77d2527\",\"type\":\"LinearAxis\"},{\"id\":\"7208cee1-6cd5-45e2-b6fb-e1ae5983177d\",\"type\":\"Grid\"},{\"id\":\"2298a6d9-13af-4ea0-828b-62edfa61e107\",\"type\":\"BoxAnnotation\"},{\"id\":\"913b586f-2fe3-4dcc-961f-2e7c9a2c059e\",\"type\":\"BoxAnnotation\"},{\"id\":\"3db24e16-629e-4eb4-9e49-9456eff1b284\",\"type\":\"PolyAnnotation\"},{\"id\":\"c0a0cb20-f382-41bd-9ee2-25021357d6b5\",\"type\":\"PolyAnnotation\"},{\"id\":\"2cea36eb-96ef-4688-b62d-46938f05b2ee\",\"type\":\"Legend\"},{\"id\":\"c840dc88-f4be-468a-abc0-0f3788a07254\",\"type\":\"GlyphRenderer\"},{\"id\":\"518c3289-382a-4c3a-872d-be112b747c7e\",\"type\":\"GlyphRenderer\"},{\"id\":\"2e13601d-f332-46af-afa3-11e24fd694f9\",\"type\":\"GlyphRenderer\"}],\"title\":{\"id\":\"f37b2db8-dc5c-4e0a-85f3-f05e731069d8\",\"type\":\"Title\"},\"tool_events\":{\"id\":\"53aba52b-6d73-4c55-a0d1-b64f2a9567a5\",\"type\":\"ToolEvents\"},\"toolbar\":{\"id\":\"ac2b2f01-8fd7-4d3d-ad91-de61089c5a2e\",\"type\":\"Toolbar\"},\"x_range\":{\"id\":\"ec3d5a0e-c54b-4144-a316-790197909411\",\"type\":\"DataRange1d\"},\"y_range\":{\"id\":\"64004240-c185-4625-8bbd-a5b5882bf1ed\",\"type\":\"DataRange1d\"}},\"id\":\"bde8080c-456a-4a57-9fed-98a8ff89ce39\",\"subtype\":\"Figure\",\"type\":\"Plot\"},{\"attributes\":{},\"id\":\"b8d1f5ba-6422-408c-b412-b44845b95bec\",\"type\":\"BasicTicker\"},{\"attributes\":{\"formatter\":{\"id\":\"aa293c91-61bd-44d8-8b9f-1494c4a4def3\",\"type\":\"BasicTickFormatter\"},\"plot\":{\"id\":\"bde8080c-456a-4a57-9fed-98a8ff89ce39\",\"subtype\":\"Figure\",\"type\":\"Plot\"},\"ticker\":{\"id\":\"b8d1f5ba-6422-408c-b412-b44845b95bec\",\"type\":\"BasicTicker\"}},\"id\":\"b1ca64a2-00aa-4a6a-b54c-b9eec77d2527\",\"type\":\"LinearAxis\"},{\"attributes\":{\"line_alpha\":{\"value\":0.1},\"line_color\":{\"value\":\"#1f77b4\"},\"line_width\":{\"value\":2},\"x\":{\"field\":\"x\"},\"y\":{\"field\":\"y\"}},\"id\":\"d3e18c6f-f6da-48db-9468-190b417aee80\",\"type\":\"Line\"},{\"attributes\":{},\"id\":\"25ba0f6e-0272-4469-9735-0677cb270dc5\",\"type\":\"BasicTicker\"},{\"attributes\":{\"fill_alpha\":{\"value\":0.5},\"fill_color\":{\"value\":\"lightgrey\"},\"level\":\"overlay\",\"line_alpha\":{\"value\":1.0},\"line_color\":{\"value\":\"black\"},\"line_dash\":[4,4],\"line_width\":{\"value\":2},\"plot\":null,\"xs_units\":\"screen\",\"ys_units\":\"screen\"},\"id\":\"3db24e16-629e-4eb4-9e49-9456eff1b284\",\"type\":\"PolyAnnotation\"},{\"attributes\":{\"callback\":null,\"overlay\":{\"id\":\"913b586f-2fe3-4dcc-961f-2e7c9a2c059e\",\"type\":\"BoxAnnotation\"},\"plot\":{\"id\":\"bde8080c-456a-4a57-9fed-98a8ff89ce39\",\"subtype\":\"Figure\",\"type\":\"Plot\"},\"renderers\":[{\"id\":\"c840dc88-f4be-468a-abc0-0f3788a07254\",\"type\":\"GlyphRenderer\"},{\"id\":\"518c3289-382a-4c3a-872d-be112b747c7e\",\"type\":\"GlyphRenderer\"},{\"id\":\"2e13601d-f332-46af-afa3-11e24fd694f9\",\"type\":\"GlyphRenderer\"}]},\"id\":\"18d3ae61-09a4-4641-a540-f9d96e0193fa\",\"type\":\"BoxSelectTool\"},{\"attributes\":{\"plot\":{\"id\":\"bde8080c-456a-4a57-9fed-98a8ff89ce39\",\"subtype\":\"Figure\",\"type\":\"Plot\"}},\"id\":\"caef901a-3b6a-4ad6-a304-1c84db446ff4\",\"type\":\"CrosshairTool\"},{\"attributes\":{\"label\":{\"value\":\"Thompson Sampling\"},\"renderers\":[{\"id\":\"518c3289-382a-4c3a-872d-be112b747c7e\",\"type\":\"GlyphRenderer\"}]},\"id\":\"e5c41c19-cbf6-4cd8-98d9-eef06760f793\",\"type\":\"LegendItem\"},{\"attributes\":{\"data_source\":{\"id\":\"09fd9db5-b4be-4379-882e-df1c9b6a9f78\",\"type\":\"ColumnDataSource\"},\"glyph\":{\"id\":\"334f4624-4f3d-42e7-b5cb-453c2980a435\",\"type\":\"Line\"},\"hover_glyph\":null,\"nonselection_glyph\":{\"id\":\"0d3b76cf-32a0-42f2-b1ca-a9dc183011ca\",\"type\":\"Line\"},\"selection_glyph\":null},\"id\":\"2e13601d-f332-46af-afa3-11e24fd694f9\",\"type\":\"GlyphRenderer\"},{\"attributes\":{\"plot\":{\"id\":\"bde8080c-456a-4a57-9fed-98a8ff89ce39\",\"subtype\":\"Figure\",\"type\":\"Plot\"}},\"id\":\"cf4d9c06-0fa3-4941-b71e-ef79ec70b03a\",\"type\":\"ResizeTool\"},{\"attributes\":{\"plot\":{\"id\":\"bde8080c-456a-4a57-9fed-98a8ff89ce39\",\"subtype\":\"Figure\",\"type\":\"Plot\"}},\"id\":\"78dfd73e-6c56-4d70-86c0-237d5ba1a7cc\",\"type\":\"WheelZoomTool\"},{\"attributes\":{\"overlay\":{\"id\":\"c0a0cb20-f382-41bd-9ee2-25021357d6b5\",\"type\":\"PolyAnnotation\"},\"plot\":{\"id\":\"bde8080c-456a-4a57-9fed-98a8ff89ce39\",\"subtype\":\"Figure\",\"type\":\"Plot\"}},\"id\":\"ce0d9a67-14b1-4051-86f9-17243350adc6\",\"type\":\"PolySelectTool\"},{\"attributes\":{\"line_alpha\":{\"value\":0.1},\"line_color\":{\"value\":\"#1f77b4\"},\"line_dash\":[4,4],\"line_width\":{\"value\":2},\"x\":{\"field\":\"x\"},\"y\":{\"field\":\"y\"}},\"id\":\"0d3b76cf-32a0-42f2-b1ca-a9dc183011ca\",\"type\":\"Line\"},{\"attributes\":{\"active_drag\":\"auto\",\"active_scroll\":\"auto\",\"active_tap\":\"auto\",\"tools\":[{\"id\":\"f3dedcef-f96c-4c17-bbfd-24cb308b17a9\",\"type\":\"BoxZoomTool\"},{\"id\":\"18d3ae61-09a4-4641-a540-f9d96e0193fa\",\"type\":\"BoxSelectTool\"},{\"id\":\"caef901a-3b6a-4ad6-a304-1c84db446ff4\",\"type\":\"CrosshairTool\"},{\"id\":\"cf4d9c06-0fa3-4941-b71e-ef79ec70b03a\",\"type\":\"ResizeTool\"},{\"id\":\"96493ee4-d342-499c-9b0a-e2a763b81740\",\"type\":\"ResetTool\"},{\"id\":\"4d59bb3c-dad3-463e-849e-77dc08735d58\",\"type\":\"LassoSelectTool\"},{\"id\":\"c6d2b3bb-cf51-4f70-a435-4abe6f4f05f9\",\"type\":\"PanTool\"},{\"id\":\"2deff048-3c34-4ff5-ab2b-1d1e8d594c53\",\"type\":\"SaveTool\"},{\"id\":\"ce0d9a67-14b1-4051-86f9-17243350adc6\",\"type\":\"PolySelectTool\"},{\"id\":\"28ada681-c265-48ec-a48c-f27dc24e4147\",\"type\":\"TapTool\"},{\"id\":\"78dfd73e-6c56-4d70-86c0-237d5ba1a7cc\",\"type\":\"WheelZoomTool\"},{\"id\":\"7b8f7a04-b293-4d44-9310-a3ada372728e\",\"type\":\"UndoTool\"}]},\"id\":\"ac2b2f01-8fd7-4d3d-ad91-de61089c5a2e\",\"type\":\"Toolbar\"},{\"attributes\":{},\"id\":\"aa293c91-61bd-44d8-8b9f-1494c4a4def3\",\"type\":\"BasicTickFormatter\"},{\"attributes\":{\"callback\":null,\"overlay\":{\"id\":\"3db24e16-629e-4eb4-9e49-9456eff1b284\",\"type\":\"PolyAnnotation\"},\"plot\":{\"id\":\"bde8080c-456a-4a57-9fed-98a8ff89ce39\",\"subtype\":\"Figure\",\"type\":\"Plot\"}},\"id\":\"4d59bb3c-dad3-463e-849e-77dc08735d58\",\"type\":\"LassoSelectTool\"},{\"attributes\":{\"bottom_units\":\"screen\",\"fill_alpha\":{\"value\":0.5},\"fill_color\":{\"value\":\"lightgrey\"},\"left_units\":\"screen\",\"level\":\"overlay\",\"line_alpha\":{\"value\":1.0},\"line_color\":{\"value\":\"black\"},\"line_dash\":[4,4],\"line_width\":{\"value\":2},\"plot\":null,\"render_mode\":\"css\",\"right_units\":\"screen\",\"top_units\":\"screen\"},\"id\":\"2298a6d9-13af-4ea0-828b-62edfa61e107\",\"type\":\"BoxAnnotation\"},{\"attributes\":{\"plot\":{\"id\":\"bde8080c-456a-4a57-9fed-98a8ff89ce39\",\"subtype\":\"Figure\",\"type\":\"Plot\"}},\"id\":\"96493ee4-d342-499c-9b0a-e2a763b81740\",\"type\":\"ResetTool\"},{\"attributes\":{\"data_source\":{\"id\":\"54444696-2c49-4e29-a118-c03984dceb55\",\"type\":\"ColumnDataSource\"},\"glyph\":{\"id\":\"be689eb4-9938-4f72-8ee3-38145a5f4ab8\",\"type\":\"Line\"},\"hover_glyph\":null,\"nonselection_glyph\":{\"id\":\"a40c9990-8f14-4089-9290-8b72a5896eb0\",\"type\":\"Line\"},\"selection_glyph\":null},\"id\":\"c840dc88-f4be-468a-abc0-0f3788a07254\",\"type\":\"GlyphRenderer\"},{\"attributes\":{\"callback\":null,\"column_names\":[\"x\",\"y\"],\"data\":{\"x\":[0,1,2,3,4,5,6,7,8,9,10,11,12,13,14,15,16,17,18,19,20,21,22,23,24,25,26,27,28,29],\"y\":{\"__ndarray__\":\"OgHP171V4j/Vsg7E8+nhP03xSzIn4OE/V2mK31ul4T8U8Hz69LjhP6mWdeBbpeE/0HZvFV104T8or6Fsxv7gPxTwfIouuuA/0HZvpcfN4D94Pj3eyJzgP4RUyxosHOE/jf1hwGDh4D9WmuIXLBzhP8LCkTmU1+A/ztgfxmDh4D/ZHwZL/JLgP2KwcKTHzeA/9OlxkxPw3D8WjswJ2u7dP/dWacqnx90/yM3Y/9nu3T9b1oFWQ3ndPxFSLavHzdg/HJkTcDP21z8KeD4daLvXPyAGC+fT49Y/cwKebzP21z9zAp5vM/bXP3MCnm8z9tc/\",\"dtype\":\"float64\",\"shape\":[30]}}},\"id\":\"0ed97909-d9dc-46e1-93d8-e2061a428b53\",\"type\":\"ColumnDataSource\"},{\"attributes\":{\"data_source\":{\"id\":\"0ed97909-d9dc-46e1-93d8-e2061a428b53\",\"type\":\"ColumnDataSource\"},\"glyph\":{\"id\":\"56d3b9dc-9102-4430-bf12-f47bbcfa50df\",\"type\":\"Line\"},\"hover_glyph\":null,\"nonselection_glyph\":{\"id\":\"d3e18c6f-f6da-48db-9468-190b417aee80\",\"type\":\"Line\"},\"selection_glyph\":null},\"id\":\"518c3289-382a-4c3a-872d-be112b747c7e\",\"type\":\"GlyphRenderer\"},{\"attributes\":{\"bottom_units\":\"screen\",\"fill_alpha\":{\"value\":0.5},\"fill_color\":{\"value\":\"lightgrey\"},\"left_units\":\"screen\",\"level\":\"overlay\",\"line_alpha\":{\"value\":1.0},\"line_color\":{\"value\":\"black\"},\"line_dash\":[4,4],\"line_width\":{\"value\":2},\"plot\":null,\"render_mode\":\"css\",\"right_units\":\"screen\",\"top_units\":\"screen\"},\"id\":\"913b586f-2fe3-4dcc-961f-2e7c9a2c059e\",\"type\":\"BoxAnnotation\"},{\"attributes\":{\"plot\":{\"id\":\"bde8080c-456a-4a57-9fed-98a8ff89ce39\",\"subtype\":\"Figure\",\"type\":\"Plot\"}},\"id\":\"c6d2b3bb-cf51-4f70-a435-4abe6f4f05f9\",\"type\":\"PanTool\"},{\"attributes\":{\"callback\":null,\"column_names\":[\"x\",\"y\"],\"data\":{\"x\":[0,1,2,3,4,5,6,7,8,9,10,11,12,13,14,15,16,17,18,19,20,21,22,23,24,25,26,27,28,29],\"y\":{\"__ndarray__\":\"t3ur9FZp4j/06XET8HziP1g4MmeKX+I/6nEz9sNg4T8gBgtHj5vhPxW/JOIEPN8/Ui3rADyf3j+yPwy2SlPcPwfa7u0ayts/V2mKXx1o2z82lNfwGsrbPwwWjixN8ds/CamWVTgy1z8ipFp2b5XWP6s0xa8/DNY/NcUvKX5J1D/8kghJF13UP8jN2H/n09M/tawDLX5J1D+ivIbSFL/UP6+hvCbg+dQ/g4Uj863S1D9WmuLXsg7UP5rilyQGC9c/qZZ1AG331j+TCKlWmuLXP9WyDjQBz9c/cwKebzP21z9zAp5vM/bXP3MCnm8z9tc/\",\"dtype\":\"float64\",\"shape\":[30]}}},\"id\":\"54444696-2c49-4e29-a118-c03984dceb55\",\"type\":\"ColumnDataSource\"},{\"attributes\":{\"overlay\":{\"id\":\"2298a6d9-13af-4ea0-828b-62edfa61e107\",\"type\":\"BoxAnnotation\"},\"plot\":{\"id\":\"bde8080c-456a-4a57-9fed-98a8ff89ce39\",\"subtype\":\"Figure\",\"type\":\"Plot\"}},\"id\":\"f3dedcef-f96c-4c17-bbfd-24cb308b17a9\",\"type\":\"BoxZoomTool\"},{\"attributes\":{\"line_color\":{\"value\":\"red\"},\"line_width\":{\"value\":2},\"x\":{\"field\":\"x\"},\"y\":{\"field\":\"y\"}},\"id\":\"56d3b9dc-9102-4430-bf12-f47bbcfa50df\",\"type\":\"Line\"},{\"attributes\":{\"align\":\"center\",\"plot\":null,\"text\":\"The Performance over the number of neurons' pruned\"},\"id\":\"f37b2db8-dc5c-4e0a-85f3-f05e731069d8\",\"type\":\"Title\"},{\"attributes\":{\"plot\":{\"id\":\"bde8080c-456a-4a57-9fed-98a8ff89ce39\",\"subtype\":\"Figure\",\"type\":\"Plot\"},\"ticker\":{\"id\":\"25ba0f6e-0272-4469-9735-0677cb270dc5\",\"type\":\"BasicTicker\"}},\"id\":\"0e22592a-d40e-440a-a713-06ead91bbf36\",\"type\":\"Grid\"},{\"attributes\":{\"callback\":null},\"id\":\"64004240-c185-4625-8bbd-a5b5882bf1ed\",\"type\":\"DataRange1d\"},{\"attributes\":{\"formatter\":{\"id\":\"5e9ae702-a830-4092-9529-9434a57a5c5c\",\"type\":\"BasicTickFormatter\"},\"plot\":{\"id\":\"bde8080c-456a-4a57-9fed-98a8ff89ce39\",\"subtype\":\"Figure\",\"type\":\"Plot\"},\"ticker\":{\"id\":\"25ba0f6e-0272-4469-9735-0677cb270dc5\",\"type\":\"BasicTicker\"}},\"id\":\"1bed1726-55cd-44ef-9c62-1e672a2069b1\",\"type\":\"LinearAxis\"},{\"attributes\":{\"line_color\":{\"value\":\"blue\"},\"line_dash\":[4,4],\"line_width\":{\"value\":2},\"x\":{\"field\":\"x\"},\"y\":{\"field\":\"y\"}},\"id\":\"334f4624-4f3d-42e7-b5cb-453c2980a435\",\"type\":\"Line\"},{\"attributes\":{\"line_color\":{\"value\":\"green\"},\"line_width\":{\"value\":2},\"x\":{\"field\":\"x\"},\"y\":{\"field\":\"y\"}},\"id\":\"be689eb4-9938-4f72-8ee3-38145a5f4ab8\",\"type\":\"Line\"}],\"root_ids\":[\"bde8080c-456a-4a57-9fed-98a8ff89ce39\"]},\"title\":\"Bokeh Application\",\"version\":\"0.12.4\"}};\n",
       "            var render_items = [{\"docid\":\"adf1aee6-ee8a-40ff-8767-561e32571dcb\",\"elementid\":\"46f37d99-c65d-4c45-ba56-c6f44488c4d9\",\"modelid\":\"bde8080c-456a-4a57-9fed-98a8ff89ce39\"}];\n",
       "            \n",
       "            Bokeh.embed.embed_items(docs_json, render_items);\n",
       "          };\n",
       "          if (document.readyState != \"loading\") fn();\n",
       "          else document.addEventListener(\"DOMContentLoaded\", fn);\n",
       "        })();\n",
       "      },\n",
       "      function(Bokeh) {\n",
       "      }\n",
       "    ];\n",
       "  \n",
       "    function run_inline_js() {\n",
       "      \n",
       "      if ((window.Bokeh !== undefined) || (force === true)) {\n",
       "        for (var i = 0; i < inline_js.length; i++) {\n",
       "          inline_js[i](window.Bokeh);\n",
       "        }if (force === true) {\n",
       "          display_loaded();\n",
       "        }} else if (Date.now() < window._bokeh_timeout) {\n",
       "        setTimeout(run_inline_js, 100);\n",
       "      } else if (!window._bokeh_failed_load) {\n",
       "        console.log(\"Bokeh: BokehJS failed to load within specified timeout.\");\n",
       "        window._bokeh_failed_load = true;\n",
       "      } else if (force !== true) {\n",
       "        var cell = $(document.getElementById(\"46f37d99-c65d-4c45-ba56-c6f44488c4d9\")).parents('.cell').data().cell;\n",
       "        cell.output_area.append_execute_result(NB_LOAD_WARNING)\n",
       "      }\n",
       "  \n",
       "    }\n",
       "  \n",
       "    if (window._bokeh_is_loading === 0) {\n",
       "      console.log(\"Bokeh: BokehJS loaded, going straight to plotting\");\n",
       "      run_inline_js();\n",
       "    } else {\n",
       "      load_libs(js_urls, function() {\n",
       "        console.log(\"Bokeh: BokehJS plotting callback run at\", now());\n",
       "        run_inline_js();\n",
       "      });\n",
       "    }\n",
       "  }(this));\n",
       "</script>"
      ]
     },
     "metadata": {},
     "output_type": "display_data"
    }
   ],
   "source": [
    "p1 = figure(title=\"The Performance over the number of neurons' pruned\", tools=TOOLS)\n",
    "p1.line(ind, ucb1, legend=\"ucb1\", line_color=\"green\", line_width=2)\n",
    "p1.line(ind, ThompsonSampling, legend=\"Thompson Sampling\", line_color=\"red\", line_width=2)\n",
    "p1.line(ind, Acc, legend=\"Accuracy\", line_dash=(4, 4), line_color=\"blue\", line_width=2)\n",
    "p1.title.align = \"center\"\n",
    "show(p1)"
   ]
  }
 ],
 "metadata": {
  "kernelspec": {
   "display_name": "Python 3",
   "language": "python",
   "name": "python3"
  },
  "language_info": {
   "codemirror_mode": {
    "name": "ipython",
    "version": 3
   },
   "file_extension": ".py",
   "mimetype": "text/x-python",
   "name": "python",
   "nbconvert_exporter": "python",
   "pygments_lexer": "ipython3",
   "version": "3.6.0"
  }
 },
 "nbformat": 4,
 "nbformat_minor": 0
}
