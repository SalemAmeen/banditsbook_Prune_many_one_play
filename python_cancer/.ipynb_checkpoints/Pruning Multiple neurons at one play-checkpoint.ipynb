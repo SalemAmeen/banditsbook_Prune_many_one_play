{
 "cells": [
  {
   "cell_type": "markdown",
   "metadata": {},
   "source": [
    "Compute the performance of MAB methods of pruning Multiple neurons at one time\n",
    "\n",
    "MAP for choosing multi arms at one time"
   ]
  },
  {
   "cell_type": "code",
   "execution_count": 1,
   "metadata": {
    "collapsed": true
   },
   "outputs": [],
   "source": [
    "import numpy as np\n",
    "import time\n",
    "import sys\n",
    "from numpy import *\n",
    "import matplotlib.pyplot as plt\n",
    "from sklearn import metrics\n",
    "%matplotlib inline\n",
    "#plt.rcParams['figure.figsize'] = (15, 6)"
   ]
  },
  {
   "cell_type": "markdown",
   "metadata": {},
   "source": [
    "# Load Bokeh"
   ]
  },
  {
   "cell_type": "code",
   "execution_count": 2,
   "metadata": {
    "collapsed": false
   },
   "outputs": [
    {
     "data": {
      "text/html": [
       "\n",
       "    <div class=\"bk-root\">\n",
       "        <a href=\"http://bokeh.pydata.org\" target=\"_blank\" class=\"bk-logo bk-logo-small bk-logo-notebook\"></a>\n",
       "        <span id=\"9ada90c4-69b2-4cbd-8ecc-ee4841d51443\">Loading BokehJS ...</span>\n",
       "    </div>"
      ]
     },
     "metadata": {},
     "output_type": "display_data"
    },
    {
     "data": {
      "application/javascript": [
       "\n",
       "(function(global) {\n",
       "  function now() {\n",
       "    return new Date();\n",
       "  }\n",
       "\n",
       "  var force = true;\n",
       "\n",
       "  if (typeof (window._bokeh_onload_callbacks) === \"undefined\" || force === true) {\n",
       "    window._bokeh_onload_callbacks = [];\n",
       "    window._bokeh_is_loading = undefined;\n",
       "  }\n",
       "\n",
       "\n",
       "  \n",
       "  if (typeof (window._bokeh_timeout) === \"undefined\" || force === true) {\n",
       "    window._bokeh_timeout = Date.now() + 5000;\n",
       "    window._bokeh_failed_load = false;\n",
       "  }\n",
       "\n",
       "  var NB_LOAD_WARNING = {'data': {'text/html':\n",
       "     \"<div style='background-color: #fdd'>\\n\"+\n",
       "     \"<p>\\n\"+\n",
       "     \"BokehJS does not appear to have successfully loaded. If loading BokehJS from CDN, this \\n\"+\n",
       "     \"may be due to a slow or bad network connection. Possible fixes:\\n\"+\n",
       "     \"</p>\\n\"+\n",
       "     \"<ul>\\n\"+\n",
       "     \"<li>re-rerun `output_notebook()` to attempt to load from CDN again, or</li>\\n\"+\n",
       "     \"<li>use INLINE resources instead, as so:</li>\\n\"+\n",
       "     \"</ul>\\n\"+\n",
       "     \"<code>\\n\"+\n",
       "     \"from bokeh.resources import INLINE\\n\"+\n",
       "     \"output_notebook(resources=INLINE)\\n\"+\n",
       "     \"</code>\\n\"+\n",
       "     \"</div>\"}};\n",
       "\n",
       "  function display_loaded() {\n",
       "    if (window.Bokeh !== undefined) {\n",
       "      document.getElementById(\"9ada90c4-69b2-4cbd-8ecc-ee4841d51443\").textContent = \"BokehJS successfully loaded.\";\n",
       "    } else if (Date.now() < window._bokeh_timeout) {\n",
       "      setTimeout(display_loaded, 100)\n",
       "    }\n",
       "  }\n",
       "\n",
       "  function run_callbacks() {\n",
       "    window._bokeh_onload_callbacks.forEach(function(callback) { callback() });\n",
       "    delete window._bokeh_onload_callbacks\n",
       "    console.info(\"Bokeh: all callbacks have finished\");\n",
       "  }\n",
       "\n",
       "  function load_libs(js_urls, callback) {\n",
       "    window._bokeh_onload_callbacks.push(callback);\n",
       "    if (window._bokeh_is_loading > 0) {\n",
       "      console.log(\"Bokeh: BokehJS is being loaded, scheduling callback at\", now());\n",
       "      return null;\n",
       "    }\n",
       "    if (js_urls == null || js_urls.length === 0) {\n",
       "      run_callbacks();\n",
       "      return null;\n",
       "    }\n",
       "    console.log(\"Bokeh: BokehJS not loaded, scheduling load and callback at\", now());\n",
       "    window._bokeh_is_loading = js_urls.length;\n",
       "    for (var i = 0; i < js_urls.length; i++) {\n",
       "      var url = js_urls[i];\n",
       "      var s = document.createElement('script');\n",
       "      s.src = url;\n",
       "      s.async = false;\n",
       "      s.onreadystatechange = s.onload = function() {\n",
       "        window._bokeh_is_loading--;\n",
       "        if (window._bokeh_is_loading === 0) {\n",
       "          console.log(\"Bokeh: all BokehJS libraries loaded\");\n",
       "          run_callbacks()\n",
       "        }\n",
       "      };\n",
       "      s.onerror = function() {\n",
       "        console.warn(\"failed to load library \" + url);\n",
       "      };\n",
       "      console.log(\"Bokeh: injecting script tag for BokehJS library: \", url);\n",
       "      document.getElementsByTagName(\"head\")[0].appendChild(s);\n",
       "    }\n",
       "  };var element = document.getElementById(\"9ada90c4-69b2-4cbd-8ecc-ee4841d51443\");\n",
       "  if (element == null) {\n",
       "    console.log(\"Bokeh: ERROR: autoload.js configured with elementid '9ada90c4-69b2-4cbd-8ecc-ee4841d51443' but no matching script tag was found. \")\n",
       "    return false;\n",
       "  }\n",
       "\n",
       "  var js_urls = [\"https://cdn.pydata.org/bokeh/release/bokeh-0.12.4.min.js\", \"https://cdn.pydata.org/bokeh/release/bokeh-widgets-0.12.4.min.js\"];\n",
       "\n",
       "  var inline_js = [\n",
       "    function(Bokeh) {\n",
       "      Bokeh.set_log_level(\"info\");\n",
       "    },\n",
       "    \n",
       "    function(Bokeh) {\n",
       "      \n",
       "      document.getElementById(\"9ada90c4-69b2-4cbd-8ecc-ee4841d51443\").textContent = \"BokehJS is loading...\";\n",
       "    },\n",
       "    function(Bokeh) {\n",
       "      console.log(\"Bokeh: injecting CSS: https://cdn.pydata.org/bokeh/release/bokeh-0.12.4.min.css\");\n",
       "      Bokeh.embed.inject_css(\"https://cdn.pydata.org/bokeh/release/bokeh-0.12.4.min.css\");\n",
       "      console.log(\"Bokeh: injecting CSS: https://cdn.pydata.org/bokeh/release/bokeh-widgets-0.12.4.min.css\");\n",
       "      Bokeh.embed.inject_css(\"https://cdn.pydata.org/bokeh/release/bokeh-widgets-0.12.4.min.css\");\n",
       "    }\n",
       "  ];\n",
       "\n",
       "  function run_inline_js() {\n",
       "    \n",
       "    if ((window.Bokeh !== undefined) || (force === true)) {\n",
       "      for (var i = 0; i < inline_js.length; i++) {\n",
       "        inline_js[i](window.Bokeh);\n",
       "      }if (force === true) {\n",
       "        display_loaded();\n",
       "      }} else if (Date.now() < window._bokeh_timeout) {\n",
       "      setTimeout(run_inline_js, 100);\n",
       "    } else if (!window._bokeh_failed_load) {\n",
       "      console.log(\"Bokeh: BokehJS failed to load within specified timeout.\");\n",
       "      window._bokeh_failed_load = true;\n",
       "    } else if (force !== true) {\n",
       "      var cell = $(document.getElementById(\"9ada90c4-69b2-4cbd-8ecc-ee4841d51443\")).parents('.cell').data().cell;\n",
       "      cell.output_area.append_execute_result(NB_LOAD_WARNING)\n",
       "    }\n",
       "\n",
       "  }\n",
       "\n",
       "  if (window._bokeh_is_loading === 0) {\n",
       "    console.log(\"Bokeh: BokehJS loaded, going straight to plotting\");\n",
       "    run_inline_js();\n",
       "  } else {\n",
       "    load_libs(js_urls, function() {\n",
       "      console.log(\"Bokeh: BokehJS plotting callback run at\", now());\n",
       "      run_inline_js();\n",
       "    });\n",
       "  }\n",
       "}(this));"
      ]
     },
     "metadata": {},
     "output_type": "display_data"
    }
   ],
   "source": [
    "from bokeh.layouts import row, gridplot\n",
    "from bokeh.plotting import figure, output_notebook, show\n",
    "from bokeh.models import Legend\n",
    "TOOLS = 'box_zoom,box_select,crosshair,resize,reset,lasso_select,pan,save,poly_select,tap,wheel_zoom,undo'\n",
    "output_notebook()"
   ]
  },
  {
   "cell_type": "markdown",
   "metadata": {},
   "source": [
    "# Load the data"
   ]
  },
  {
   "cell_type": "code",
   "execution_count": 3,
   "metadata": {
    "collapsed": false
   },
   "outputs": [
    {
     "name": "stdout",
     "output_type": "stream",
     "text": [
      "Number of training examples 364\n",
      "Number of validation examples 91\n",
      "Number of testing examples 114\n"
     ]
    }
   ],
   "source": [
    "X_train = np.load('./cancer/X_train.npy')\n",
    "y_train = np.load('./cancer/y_train.npy')\n",
    "X_test = np.load('./cancer/X_test.npy')\n",
    "y_test = np.load('./cancer/y_test.npy')\n",
    "X_deploy = np.load('./cancer/X_deploy.npy')\n",
    "y_deploy = np.load('./cancer/y_deploy.npy')\n",
    "print('Number of training examples',len(X_train))\n",
    "print('Number of validation examples',len(X_test))\n",
    "print('Number of testing examples',len(X_deploy))"
   ]
  },
  {
   "cell_type": "code",
   "execution_count": 4,
   "metadata": {
    "collapsed": false
   },
   "outputs": [],
   "source": [
    "exec(open(\"core.py\").read())  # pyhton 3x"
   ]
  },
  {
   "cell_type": "markdown",
   "metadata": {},
   "source": [
    "## Run Thompson Sampling pruning Algorithm"
   ]
  },
  {
   "cell_type": "code",
   "execution_count": 5,
   "metadata": {
    "collapsed": false
   },
   "outputs": [
    {
     "name": "stderr",
     "output_type": "stream",
     "text": [
      "/Library/Frameworks/Python.framework/Versions/3.6/lib/python3.6/site-packages/sklearn/cross_validation.py:44: DeprecationWarning: This module was deprecated in version 0.18 in favor of the model_selection module into which all the refactored classes and functions are moved. Also note that the interface of the new CV iterators are different from that of this module. This module will be removed in 0.20.\n",
      "  \"This module will be removed in 0.20.\", DeprecationWarning)\n",
      "Using Theano backend.\n"
     ]
    },
    {
     "name": "stdout",
     "output_type": "stream",
     "text": [
      "Test fraction correct (NN-Score) = 0.13\n",
      "Test fraction correct (NN-Accuracy) = 0.96\n",
      "The time for running this method is 0.06955909729003906 seconds \n",
      "Finsh playing start pruining:\n",
      "Test after pruning= 0.96\n",
      "Test after pruning= 0.96\n",
      "Test after pruning= 0.96\n",
      "Test after pruning= 0.96\n",
      "Test after pruning= 0.96\n",
      "Test after pruning= 0.96\n",
      "Test after pruning= 0.97\n",
      "Test after pruning= 0.97\n",
      "Test after pruning= 0.97\n",
      "Test after pruning= 0.97\n",
      "Test after pruning= 0.97\n",
      "Test after pruning= 0.97\n",
      "Test after pruning= 0.97\n",
      "Test after pruning= 0.97\n",
      "Test after pruning= 0.96\n",
      "Test after pruning= 0.96\n",
      "Test after pruning= 0.96\n",
      "Test after pruning= 0.93\n",
      "Test after pruning= 0.91\n",
      "Test after pruning= 0.83\n",
      "Test after pruning= 0.83\n",
      "Test after pruning= 0.69\n",
      "Test after pruning= 0.68\n",
      "Test after pruning= 0.67\n",
      "Test after pruning= 0.67\n",
      "Test after pruning= 0.67\n",
      "Test after pruning= 0.67\n",
      "Test after pruning= 0.67\n",
      "Test after pruning= 0.67\n",
      "Test after pruning= 0.67\n"
     ]
    },
    {
     "data": {
      "image/png": "[encoded data removed]",
      "text/plain": [
       "<matplotlib.figure.Figure at 0x10e913860>"
      ]
     },
     "metadata": {},
     "output_type": "display_data"
    }
   ],
   "source": [
    "algo = Thompson_Sampling([], [])\n",
    "Alg_name = 'Thompson_Sampling Algorithm'\n",
    "path = './Thompson_Sampling/'\n",
    "sys.path.append(\"./Thompson_Sampling\")\n",
    "exec(open(\"mnist_cnnFORTESTING.py\").read())"
   ]
  },
  {
   "cell_type": "markdown",
   "metadata": {},
   "source": [
    "## Run UCB1 pruning Algorithm"
   ]
  },
  {
   "cell_type": "code",
   "execution_count": 6,
   "metadata": {
    "collapsed": false
   },
   "outputs": [
    {
     "name": "stdout",
     "output_type": "stream",
     "text": [
      "Test fraction correct (NN-Score) = 0.13\n",
      "Test fraction correct (NN-Accuracy) = 0.96\n",
      "The time for running this method is 0.06415200233459473 seconds \n",
      "Finsh playing start pruining:\n",
      "Test after pruning= 0.96\n",
      "Test after pruning= 0.96\n",
      "Test after pruning= 0.96\n",
      "Test after pruning= 0.96\n",
      "Test after pruning= 0.96\n",
      "Test after pruning= 0.96\n",
      "Test after pruning= 0.96\n",
      "Test after pruning= 0.96\n",
      "Test after pruning= 0.97\n",
      "Test after pruning= 0.97\n",
      "Test after pruning= 0.97\n",
      "Test after pruning= 0.97\n",
      "Test after pruning= 0.97\n",
      "Test after pruning= 0.97\n",
      "Test after pruning= 0.96\n",
      "Test after pruning= 0.92\n",
      "Test after pruning= 0.88\n",
      "Test after pruning= 0.88\n",
      "Test after pruning= 0.84\n",
      "Test after pruning= 0.82\n",
      "Test after pruning= 0.82\n",
      "Test after pruning= 0.70\n",
      "Test after pruning= 0.70\n",
      "Test after pruning= 0.70\n",
      "Test after pruning= 0.67\n",
      "Test after pruning= 0.67\n",
      "Test after pruning= 0.67\n",
      "Test after pruning= 0.67\n",
      "Test after pruning= 0.67\n",
      "Test after pruning= 0.67\n"
     ]
    },
    {
     "data": {
      "image/png": "[encoded data removed]",
      "text/plain": [
       "<matplotlib.figure.Figure at 0x10ee93f28>"
      ]
     },
     "metadata": {},
     "output_type": "display_data"
    }
   ],
   "source": [
    "algo = UCB1([], [])\n",
    "Alg_name = 'UCB1 Algorithm'\n",
    "path = './UCB1/'\n",
    "sys.path.append(\"./UCB1\")\n",
    "exec(open(\"mnist_cnnFORTESTING.py\").read())"
   ]
  },
  {
   "cell_type": "markdown",
   "metadata": {
    "collapsed": true
   },
   "source": [
    "# Compare the accuracy"
   ]
  },
  {
   "cell_type": "code",
   "execution_count": 7,
   "metadata": {
    "collapsed": true
   },
   "outputs": [],
   "source": [
    "ucb1 = np.load('./UCB1/AccuracyAftrerPrune.npy')\n",
    "ThompsonSampling = np.load('./Thompson_Sampling/AccuracyAftrerPrune.npy')\n",
    "Accuracy = np.load('AccuracyBeforePruning.npy')"
   ]
  },
  {
   "cell_type": "code",
   "execution_count": 8,
   "metadata": {
    "collapsed": false
   },
   "outputs": [
    {
     "data": {
      "image/png": "[encoded data removed]",
      "text/plain": [
       "<matplotlib.figure.Figure at 0x10eeeea20>"
      ]
     },
     "metadata": {},
     "output_type": "display_data"
    }
   ],
   "source": [
    "fig = plt.figure(figsize=(10, 6), dpi=80)\n",
    "ax = fig.add_subplot(111)\n",
    "N = len(ucb1)\n",
    "ind = np.arange(N)                # the x locations for the groups\n",
    "plt.plot(ind , ucb1 , color=\"blue\", linewidth=2.5, linestyle=\"-\", label=\"UCB1\")\n",
    "plt.plot(ind , ThompsonSampling, color=\"orange\", linewidth=2.5, linestyle=\"-\", label=\"Thompson Sampling\")\n",
    "plt.legend(loc = 3)\n",
    "plt.axis([0, 25, 0, 1])\n",
    "plt.xlabel('Number of pruned Neurons')\n",
    "plt.ylabel('The Accuracy')\n",
    "plt.grid(True)\n",
    "plt.show()"
   ]
  },
  {
   "cell_type": "code",
   "execution_count": 9,
   "metadata": {
    "collapsed": false
   },
   "outputs": [
    {
     "data": {
      "text/html": [
       "\n",
       "\n",
       "    <div class=\"bk-root\">\n",
       "        <div class=\"bk-plotdiv\" id=\"6e6d438f-771a-4770-a0cf-8d653a330ebe\"></div>\n",
       "    </div>\n",
       "<script type=\"text/javascript\">\n",
       "  \n",
       "  (function(global) {\n",
       "    function now() {\n",
       "      return new Date();\n",
       "    }\n",
       "  \n",
       "    var force = false;\n",
       "  \n",
       "    if (typeof (window._bokeh_onload_callbacks) === \"undefined\" || force === true) {\n",
       "      window._bokeh_onload_callbacks = [];\n",
       "      window._bokeh_is_loading = undefined;\n",
       "    }\n",
       "  \n",
       "  \n",
       "    \n",
       "    if (typeof (window._bokeh_timeout) === \"undefined\" || force === true) {\n",
       "      window._bokeh_timeout = Date.now() + 0;\n",
       "      window._bokeh_failed_load = false;\n",
       "    }\n",
       "  \n",
       "    var NB_LOAD_WARNING = {'data': {'text/html':\n",
       "       \"<div style='background-color: #fdd'>\\n\"+\n",
       "       \"<p>\\n\"+\n",
       "       \"BokehJS does not appear to have successfully loaded. If loading BokehJS from CDN, this \\n\"+\n",
       "       \"may be due to a slow or bad network connection. Possible fixes:\\n\"+\n",
       "       \"</p>\\n\"+\n",
       "       \"<ul>\\n\"+\n",
       "       \"<li>re-rerun `output_notebook()` to attempt to load from CDN again, or</li>\\n\"+\n",
       "       \"<li>use INLINE resources instead, as so:</li>\\n\"+\n",
       "       \"</ul>\\n\"+\n",
       "       \"<code>\\n\"+\n",
       "       \"from bokeh.resources import INLINE\\n\"+\n",
       "       \"output_notebook(resources=INLINE)\\n\"+\n",
       "       \"</code>\\n\"+\n",
       "       \"</div>\"}};\n",
       "  \n",
       "    function display_loaded() {\n",
       "      if (window.Bokeh !== undefined) {\n",
       "        document.getElementById(\"6e6d438f-771a-4770-a0cf-8d653a330ebe\").textContent = \"BokehJS successfully loaded.\";\n",
       "      } else if (Date.now() < window._bokeh_timeout) {\n",
       "        setTimeout(display_loaded, 100)\n",
       "      }\n",
       "    }\n",
       "  \n",
       "    function run_callbacks() {\n",
       "      window._bokeh_onload_callbacks.forEach(function(callback) { callback() });\n",
       "      delete window._bokeh_onload_callbacks\n",
       "      console.info(\"Bokeh: all callbacks have finished\");\n",
       "    }\n",
       "  \n",
       "    function load_libs(js_urls, callback) {\n",
       "      window._bokeh_onload_callbacks.push(callback);\n",
       "      if (window._bokeh_is_loading > 0) {\n",
       "        console.log(\"Bokeh: BokehJS is being loaded, scheduling callback at\", now());\n",
       "        return null;\n",
       "      }\n",
       "      if (js_urls == null || js_urls.length === 0) {\n",
       "        run_callbacks();\n",
       "        return null;\n",
       "      }\n",
       "      console.log(\"Bokeh: BokehJS not loaded, scheduling load and callback at\", now());\n",
       "      window._bokeh_is_loading = js_urls.length;\n",
       "      for (var i = 0; i < js_urls.length; i++) {\n",
       "        var url = js_urls[i];\n",
       "        var s = document.createElement('script');\n",
       "        s.src = url;\n",
       "        s.async = false;\n",
       "        s.onreadystatechange = s.onload = function() {\n",
       "          window._bokeh_is_loading--;\n",
       "          if (window._bokeh_is_loading === 0) {\n",
       "            console.log(\"Bokeh: all BokehJS libraries loaded\");\n",
       "            run_callbacks()\n",
       "          }\n",
       "        };\n",
       "        s.onerror = function() {\n",
       "          console.warn(\"failed to load library \" + url);\n",
       "        };\n",
       "        console.log(\"Bokeh: injecting script tag for BokehJS library: \", url);\n",
       "        document.getElementsByTagName(\"head\")[0].appendChild(s);\n",
       "      }\n",
       "    };var element = document.getElementById(\"6e6d438f-771a-4770-a0cf-8d653a330ebe\");\n",
       "    if (element == null) {\n",
       "      console.log(\"Bokeh: ERROR: autoload.js configured with elementid '6e6d438f-771a-4770-a0cf-8d653a330ebe' but no matching script tag was found. \")\n",
       "      return false;\n",
       "    }\n",
       "  \n",
       "    var js_urls = [];\n",
       "  \n",
       "    var inline_js = [\n",
       "      function(Bokeh) {\n",
       "        (function() {\n",
       "          var fn = function() {\n",
       "            var docs_json = {\"42e3344b-4db1-45f1-b21c-21cd5ed70858\":{\"roots\":{\"references\":[{\"attributes\":{\"below\":[{\"id\":\"a88667eb-02f4-45e2-b7b7-643f687f97b1\",\"type\":\"LinearAxis\"}],\"left\":[{\"id\":\"0bae13bf-d119-407f-99f7-6382c26e2c5a\",\"type\":\"LinearAxis\"}],\"renderers\":[{\"id\":\"a88667eb-02f4-45e2-b7b7-643f687f97b1\",\"type\":\"LinearAxis\"},{\"id\":\"3361662f-8a17-45ca-b0ea-8318b34b3380\",\"type\":\"Grid\"},{\"id\":\"0bae13bf-d119-407f-99f7-6382c26e2c5a\",\"type\":\"LinearAxis\"},{\"id\":\"3e3ed545-7e2f-4c28-a4df-5e07923664ea\",\"type\":\"Grid\"},{\"id\":\"2724cd41-2cf8-436a-96f3-cabb8838d53e\",\"type\":\"BoxAnnotation\"},{\"id\":\"6d7310d6-eba2-4486-89b1-1a65013701f4\",\"type\":\"BoxAnnotation\"},{\"id\":\"769f8a5f-733a-407b-87d8-4863306a1754\",\"type\":\"PolyAnnotation\"},{\"id\":\"d6ec2417-667f-4a08-af43-5b35b3661dd5\",\"type\":\"PolyAnnotation\"},{\"id\":\"0850cf0e-f311-477c-bf02-d99d710d22bc\",\"type\":\"Legend\"},{\"id\":\"4d6c93ad-6d81-4a0e-aecb-9f1bcff5403b\",\"type\":\"GlyphRenderer\"},{\"id\":\"02cb28bc-230e-4607-9e07-edb1b243b119\",\"type\":\"GlyphRenderer\"}],\"title\":{\"id\":\"d4e73073-3697-4328-be6d-93da246d025b\",\"type\":\"Title\"},\"tool_events\":{\"id\":\"71f9e7fa-2951-48d7-ae4a-e147c1e3ad91\",\"type\":\"ToolEvents\"},\"toolbar\":{\"id\":\"581bb73d-0994-47e1-9260-1b4ea8eef211\",\"type\":\"Toolbar\"},\"x_range\":{\"id\":\"beb590b4-1c98-4cb9-afc3-5805605f4827\",\"type\":\"DataRange1d\"},\"y_range\":{\"id\":\"91323794-bf44-427c-8590-9457f3ff127a\",\"type\":\"DataRange1d\"}},\"id\":\"bb2832ef-e855-478a-9300-c773cfedb5a2\",\"subtype\":\"Figure\",\"type\":\"Plot\"},{\"attributes\":{\"line_color\":{\"value\":\"blue\"},\"line_width\":{\"value\":2},\"x\":{\"field\":\"x\"},\"y\":{\"field\":\"y\"}},\"id\":\"afa7ccb4-cdf3-437f-8750-bf4b85061ddc\",\"type\":\"Line\"},{\"attributes\":{\"overlay\":{\"id\":\"d6ec2417-667f-4a08-af43-5b35b3661dd5\",\"type\":\"PolyAnnotation\"},\"plot\":{\"id\":\"bb2832ef-e855-478a-9300-c773cfedb5a2\",\"subtype\":\"Figure\",\"type\":\"Plot\"}},\"id\":\"12043107-c863-47d0-8ace-4328538e321e\",\"type\":\"PolySelectTool\"},{\"attributes\":{\"label\":{\"value\":\"Thompson Sampling\"},\"renderers\":[{\"id\":\"02cb28bc-230e-4607-9e07-edb1b243b119\",\"type\":\"GlyphRenderer\"}]},\"id\":\"e4490404-1276-469e-a62d-a77a277c3da1\",\"type\":\"LegendItem\"},{\"attributes\":{\"bottom_units\":\"screen\",\"fill_alpha\":{\"value\":0.5},\"fill_color\":{\"value\":\"lightgrey\"},\"left_units\":\"screen\",\"level\":\"overlay\",\"line_alpha\":{\"value\":1.0},\"line_color\":{\"value\":\"black\"},\"line_dash\":[4,4],\"line_width\":{\"value\":2},\"plot\":null,\"render_mode\":\"css\",\"right_units\":\"screen\",\"top_units\":\"screen\"},\"id\":\"2724cd41-2cf8-436a-96f3-cabb8838d53e\",\"type\":\"BoxAnnotation\"},{\"attributes\":{\"align\":\"center\",\"plot\":null,\"text\":\"The Performance over the number of neurons' pruned\"},\"id\":\"d4e73073-3697-4328-be6d-93da246d025b\",\"type\":\"Title\"},{\"attributes\":{\"callback\":null,\"column_names\":[\"x\",\"y\"],\"data\":{\"x\":[0,1,2,3,4,5,6,7,8,9,10,11,12,13,14,15,16,17,18,19,20,21,22,23,24,25,26,27,28,29],\"y\":{\"__ndarray__\":\"oryGso/g7j+ivIayj+DuP6K8hrKP4O4/Q3kNpbOY7j9DeQ2ls5juP0N5DaWzmO4/oryGso/g7j+ivIayj+DuPxvKa8hrKO8/G8pryGso7z8bymvIayjvPxvKa8hrKO8/G8pryGso7z8bymvIayjvP72G8rqP4O4/lNdQXkN57T8or6H89hHsPyivofz2Eew/lNdQvoby6j+ivIaSzmLqP0N5DYXyGuo/lNdQnsV05j+U11CexXTmP5TXUJ7FdOY/vYbyWlVV5T+9hvJaVVXlP72G8lpVVeU/vYbyWlVV5T+9hvJaVVXlP72G8lpVVeU/\",\"dtype\":\"float64\",\"shape\":[30]}}},\"id\":\"161633ac-db53-4a23-ac99-93bf772e1187\",\"type\":\"ColumnDataSource\"},{\"attributes\":{\"fill_alpha\":{\"value\":0.5},\"fill_color\":{\"value\":\"lightgrey\"},\"level\":\"overlay\",\"line_alpha\":{\"value\":1.0},\"line_color\":{\"value\":\"black\"},\"line_dash\":[4,4],\"line_width\":{\"value\":2},\"plot\":null,\"xs_units\":\"screen\",\"ys_units\":\"screen\"},\"id\":\"769f8a5f-733a-407b-87d8-4863306a1754\",\"type\":\"PolyAnnotation\"},{\"attributes\":{\"bottom_units\":\"screen\",\"fill_alpha\":{\"value\":0.5},\"fill_color\":{\"value\":\"lightgrey\"},\"left_units\":\"screen\",\"level\":\"overlay\",\"line_alpha\":{\"value\":1.0},\"line_color\":{\"value\":\"black\"},\"line_dash\":[4,4],\"line_width\":{\"value\":2},\"plot\":null,\"render_mode\":\"css\",\"right_units\":\"screen\",\"top_units\":\"screen\"},\"id\":\"6d7310d6-eba2-4486-89b1-1a65013701f4\",\"type\":\"BoxAnnotation\"},{\"attributes\":{},\"id\":\"18e3ad49-377d-4bcb-b1a1-eed8b84abc6e\",\"type\":\"BasicTickFormatter\"},{\"attributes\":{\"callback\":null,\"column_names\":[\"x\",\"y\"],\"data\":{\"x\":[0,1,2,3,4,5,6,7,8,9,10,11,12,13,14,15,16,17,18,19,20,21,22,23,24,25,26,27,28,29],\"y\":{\"__ndarray__\":\"oryGso/g7j+ivIayj+DuP6K8hrKP4O4/oryGso/g7j+ivIayj+DuP6K8hrKP4O4/G8pryGso7z8bymvIayjvPxvKa8hrKO8/G8pryGso7z8bymvIayjvPxvKa8hrKO8/G8pryGso7z8bymvIayjvP0N5DaWzmO4/KK+hnLOY7j8or6Gcs5juP/Maymsfwe0/2FBeQ2cx7T+H8hqqqqrqP4fyGqqqquo/h/Iaiuks5j8or6F8DeXlP72G8lpVVeU/vYbyWlVV5T+9hvJaVVXlP72G8lpVVeU/vYbyWlVV5T+9hvJaVVXlP72G8lpVVeU/\",\"dtype\":\"float64\",\"shape\":[30]}}},\"id\":\"7a31be64-4c1d-43a5-a040-de54f3761163\",\"type\":\"ColumnDataSource\"},{\"attributes\":{\"plot\":{\"id\":\"bb2832ef-e855-478a-9300-c773cfedb5a2\",\"subtype\":\"Figure\",\"type\":\"Plot\"}},\"id\":\"9dd5fa14-ab11-4774-b0e4-bf98eb3a6964\",\"type\":\"UndoTool\"},{\"attributes\":{\"plot\":{\"id\":\"bb2832ef-e855-478a-9300-c773cfedb5a2\",\"subtype\":\"Figure\",\"type\":\"Plot\"}},\"id\":\"cbb41f71-8ae8-40f3-97d7-e857c556ded5\",\"type\":\"WheelZoomTool\"},{\"attributes\":{\"callback\":null},\"id\":\"beb590b4-1c98-4cb9-afc3-5805605f4827\",\"type\":\"DataRange1d\"},{\"attributes\":{},\"id\":\"71f9e7fa-2951-48d7-ae4a-e147c1e3ad91\",\"type\":\"ToolEvents\"},{\"attributes\":{\"plot\":{\"id\":\"bb2832ef-e855-478a-9300-c773cfedb5a2\",\"subtype\":\"Figure\",\"type\":\"Plot\"},\"ticker\":{\"id\":\"a13b7a53-8e66-4d65-967d-f1984ec9f101\",\"type\":\"BasicTicker\"}},\"id\":\"3361662f-8a17-45ca-b0ea-8318b34b3380\",\"type\":\"Grid\"},{\"attributes\":{\"dimension\":1,\"plot\":{\"id\":\"bb2832ef-e855-478a-9300-c773cfedb5a2\",\"subtype\":\"Figure\",\"type\":\"Plot\"},\"ticker\":{\"id\":\"a0606183-62d9-4ba1-ad51-d78be0679479\",\"type\":\"BasicTicker\"}},\"id\":\"3e3ed545-7e2f-4c28-a4df-5e07923664ea\",\"type\":\"Grid\"},{\"attributes\":{},\"id\":\"a0606183-62d9-4ba1-ad51-d78be0679479\",\"type\":\"BasicTicker\"},{\"attributes\":{\"formatter\":{\"id\":\"18e3ad49-377d-4bcb-b1a1-eed8b84abc6e\",\"type\":\"BasicTickFormatter\"},\"plot\":{\"id\":\"bb2832ef-e855-478a-9300-c773cfedb5a2\",\"subtype\":\"Figure\",\"type\":\"Plot\"},\"ticker\":{\"id\":\"a0606183-62d9-4ba1-ad51-d78be0679479\",\"type\":\"BasicTicker\"}},\"id\":\"0bae13bf-d119-407f-99f7-6382c26e2c5a\",\"type\":\"LinearAxis\"},{\"attributes\":{\"fill_alpha\":{\"value\":0.5},\"fill_color\":{\"value\":\"lightgrey\"},\"level\":\"overlay\",\"line_alpha\":{\"value\":1.0},\"line_color\":{\"value\":\"black\"},\"line_dash\":[4,4],\"line_width\":{\"value\":2},\"plot\":null,\"xs_units\":\"screen\",\"ys_units\":\"screen\"},\"id\":\"d6ec2417-667f-4a08-af43-5b35b3661dd5\",\"type\":\"PolyAnnotation\"},{\"attributes\":{\"data_source\":{\"id\":\"161633ac-db53-4a23-ac99-93bf772e1187\",\"type\":\"ColumnDataSource\"},\"glyph\":{\"id\":\"afa7ccb4-cdf3-437f-8750-bf4b85061ddc\",\"type\":\"Line\"},\"hover_glyph\":null,\"nonselection_glyph\":{\"id\":\"eb62dc1b-b31e-4b20-a5fe-53ee438e0637\",\"type\":\"Line\"},\"selection_glyph\":null},\"id\":\"4d6c93ad-6d81-4a0e-aecb-9f1bcff5403b\",\"type\":\"GlyphRenderer\"},{\"attributes\":{\"plot\":{\"id\":\"bb2832ef-e855-478a-9300-c773cfedb5a2\",\"subtype\":\"Figure\",\"type\":\"Plot\"}},\"id\":\"1d01d678-d4f5-403f-841a-b8f83b366ebe\",\"type\":\"PanTool\"},{\"attributes\":{\"label\":{\"value\":\"ucb1\"},\"renderers\":[{\"id\":\"4d6c93ad-6d81-4a0e-aecb-9f1bcff5403b\",\"type\":\"GlyphRenderer\"}]},\"id\":\"c6c9d773-1495-4ba9-b8d9-62c7be9b2b9c\",\"type\":\"LegendItem\"},{\"attributes\":{\"formatter\":{\"id\":\"f0075ae8-248d-453d-95d1-e36197e57904\",\"type\":\"BasicTickFormatter\"},\"plot\":{\"id\":\"bb2832ef-e855-478a-9300-c773cfedb5a2\",\"subtype\":\"Figure\",\"type\":\"Plot\"},\"ticker\":{\"id\":\"a13b7a53-8e66-4d65-967d-f1984ec9f101\",\"type\":\"BasicTicker\"}},\"id\":\"a88667eb-02f4-45e2-b7b7-643f687f97b1\",\"type\":\"LinearAxis\"},{\"attributes\":{\"line_alpha\":{\"value\":0.1},\"line_color\":{\"value\":\"#1f77b4\"},\"line_width\":{\"value\":2},\"x\":{\"field\":\"x\"},\"y\":{\"field\":\"y\"}},\"id\":\"eb62dc1b-b31e-4b20-a5fe-53ee438e0637\",\"type\":\"Line\"},{\"attributes\":{\"active_drag\":\"auto\",\"active_scroll\":\"auto\",\"active_tap\":\"auto\",\"tools\":[{\"id\":\"f5691959-d823-45f7-8086-b6e740c90f39\",\"type\":\"BoxZoomTool\"},{\"id\":\"4c4101cc-38bc-411c-ada7-73977ff8463a\",\"type\":\"BoxSelectTool\"},{\"id\":\"fb06de1f-fa1a-46e8-b657-fce279afd7d8\",\"type\":\"CrosshairTool\"},{\"id\":\"4fbb21d2-fdb1-4085-a810-7ac830c731e7\",\"type\":\"ResizeTool\"},{\"id\":\"a1ed9cdd-121c-4347-8141-e3b0964e4b37\",\"type\":\"ResetTool\"},{\"id\":\"679d66a6-b305-41e1-91b1-549af325b840\",\"type\":\"LassoSelectTool\"},{\"id\":\"1d01d678-d4f5-403f-841a-b8f83b366ebe\",\"type\":\"PanTool\"},{\"id\":\"f36652ba-0ce1-4ceb-91be-6d12187a724c\",\"type\":\"SaveTool\"},{\"id\":\"12043107-c863-47d0-8ace-4328538e321e\",\"type\":\"PolySelectTool\"},{\"id\":\"65783e3b-6a99-4955-85b0-ad3d27814c11\",\"type\":\"TapTool\"},{\"id\":\"cbb41f71-8ae8-40f3-97d7-e857c556ded5\",\"type\":\"WheelZoomTool\"},{\"id\":\"9dd5fa14-ab11-4774-b0e4-bf98eb3a6964\",\"type\":\"UndoTool\"}]},\"id\":\"581bb73d-0994-47e1-9260-1b4ea8eef211\",\"type\":\"Toolbar\"},{\"attributes\":{},\"id\":\"f0075ae8-248d-453d-95d1-e36197e57904\",\"type\":\"BasicTickFormatter\"},{\"attributes\":{\"items\":[{\"id\":\"c6c9d773-1495-4ba9-b8d9-62c7be9b2b9c\",\"type\":\"LegendItem\"},{\"id\":\"e4490404-1276-469e-a62d-a77a277c3da1\",\"type\":\"LegendItem\"}],\"plot\":{\"id\":\"bb2832ef-e855-478a-9300-c773cfedb5a2\",\"subtype\":\"Figure\",\"type\":\"Plot\"}},\"id\":\"0850cf0e-f311-477c-bf02-d99d710d22bc\",\"type\":\"Legend\"},{\"attributes\":{\"line_alpha\":{\"value\":0.1},\"line_color\":{\"value\":\"#1f77b4\"},\"line_width\":{\"value\":2},\"x\":{\"field\":\"x\"},\"y\":{\"field\":\"y\"}},\"id\":\"b24083a1-e6bc-46dd-a830-28a81466ef22\",\"type\":\"Line\"},{\"attributes\":{\"callback\":null,\"overlay\":{\"id\":\"769f8a5f-733a-407b-87d8-4863306a1754\",\"type\":\"PolyAnnotation\"},\"plot\":{\"id\":\"bb2832ef-e855-478a-9300-c773cfedb5a2\",\"subtype\":\"Figure\",\"type\":\"Plot\"}},\"id\":\"679d66a6-b305-41e1-91b1-549af325b840\",\"type\":\"LassoSelectTool\"},{\"attributes\":{\"line_color\":{\"value\":\"red\"},\"line_width\":{\"value\":2},\"x\":{\"field\":\"x\"},\"y\":{\"field\":\"y\"}},\"id\":\"9f3e2503-6301-4c1c-9b10-30045edb10a2\",\"type\":\"Line\"},{\"attributes\":{\"callback\":null},\"id\":\"91323794-bf44-427c-8590-9457f3ff127a\",\"type\":\"DataRange1d\"},{\"attributes\":{\"data_source\":{\"id\":\"7a31be64-4c1d-43a5-a040-de54f3761163\",\"type\":\"ColumnDataSource\"},\"glyph\":{\"id\":\"9f3e2503-6301-4c1c-9b10-30045edb10a2\",\"type\":\"Line\"},\"hover_glyph\":null,\"nonselection_glyph\":{\"id\":\"b24083a1-e6bc-46dd-a830-28a81466ef22\",\"type\":\"Line\"},\"selection_glyph\":null},\"id\":\"02cb28bc-230e-4607-9e07-edb1b243b119\",\"type\":\"GlyphRenderer\"},{\"attributes\":{\"plot\":{\"id\":\"bb2832ef-e855-478a-9300-c773cfedb5a2\",\"subtype\":\"Figure\",\"type\":\"Plot\"}},\"id\":\"fb06de1f-fa1a-46e8-b657-fce279afd7d8\",\"type\":\"CrosshairTool\"},{\"attributes\":{\"callback\":null,\"overlay\":{\"id\":\"6d7310d6-eba2-4486-89b1-1a65013701f4\",\"type\":\"BoxAnnotation\"},\"plot\":{\"id\":\"bb2832ef-e855-478a-9300-c773cfedb5a2\",\"subtype\":\"Figure\",\"type\":\"Plot\"},\"renderers\":[{\"id\":\"4d6c93ad-6d81-4a0e-aecb-9f1bcff5403b\",\"type\":\"GlyphRenderer\"},{\"id\":\"02cb28bc-230e-4607-9e07-edb1b243b119\",\"type\":\"GlyphRenderer\"}]},\"id\":\"4c4101cc-38bc-411c-ada7-73977ff8463a\",\"type\":\"BoxSelectTool\"},{\"attributes\":{},\"id\":\"a13b7a53-8e66-4d65-967d-f1984ec9f101\",\"type\":\"BasicTicker\"},{\"attributes\":{\"plot\":{\"id\":\"bb2832ef-e855-478a-9300-c773cfedb5a2\",\"subtype\":\"Figure\",\"type\":\"Plot\"}},\"id\":\"4fbb21d2-fdb1-4085-a810-7ac830c731e7\",\"type\":\"ResizeTool\"},{\"attributes\":{\"plot\":{\"id\":\"bb2832ef-e855-478a-9300-c773cfedb5a2\",\"subtype\":\"Figure\",\"type\":\"Plot\"}},\"id\":\"a1ed9cdd-121c-4347-8141-e3b0964e4b37\",\"type\":\"ResetTool\"},{\"attributes\":{\"callback\":null,\"plot\":{\"id\":\"bb2832ef-e855-478a-9300-c773cfedb5a2\",\"subtype\":\"Figure\",\"type\":\"Plot\"}},\"id\":\"65783e3b-6a99-4955-85b0-ad3d27814c11\",\"type\":\"TapTool\"},{\"attributes\":{\"plot\":{\"id\":\"bb2832ef-e855-478a-9300-c773cfedb5a2\",\"subtype\":\"Figure\",\"type\":\"Plot\"}},\"id\":\"f36652ba-0ce1-4ceb-91be-6d12187a724c\",\"type\":\"SaveTool\"},{\"attributes\":{\"overlay\":{\"id\":\"2724cd41-2cf8-436a-96f3-cabb8838d53e\",\"type\":\"BoxAnnotation\"},\"plot\":{\"id\":\"bb2832ef-e855-478a-9300-c773cfedb5a2\",\"subtype\":\"Figure\",\"type\":\"Plot\"}},\"id\":\"f5691959-d823-45f7-8086-b6e740c90f39\",\"type\":\"BoxZoomTool\"}],\"root_ids\":[\"bb2832ef-e855-478a-9300-c773cfedb5a2\"]},\"title\":\"Bokeh Application\",\"version\":\"0.12.4\"}};\n",
       "            var render_items = [{\"docid\":\"42e3344b-4db1-45f1-b21c-21cd5ed70858\",\"elementid\":\"6e6d438f-771a-4770-a0cf-8d653a330ebe\",\"modelid\":\"bb2832ef-e855-478a-9300-c773cfedb5a2\"}];\n",
       "            \n",
       "            Bokeh.embed.embed_items(docs_json, render_items);\n",
       "          };\n",
       "          if (document.readyState != \"loading\") fn();\n",
       "          else document.addEventListener(\"DOMContentLoaded\", fn);\n",
       "        })();\n",
       "      },\n",
       "      function(Bokeh) {\n",
       "      }\n",
       "    ];\n",
       "  \n",
       "    function run_inline_js() {\n",
       "      \n",
       "      if ((window.Bokeh !== undefined) || (force === true)) {\n",
       "        for (var i = 0; i < inline_js.length; i++) {\n",
       "          inline_js[i](window.Bokeh);\n",
       "        }if (force === true) {\n",
       "          display_loaded();\n",
       "        }} else if (Date.now() < window._bokeh_timeout) {\n",
       "        setTimeout(run_inline_js, 100);\n",
       "      } else if (!window._bokeh_failed_load) {\n",
       "        console.log(\"Bokeh: BokehJS failed to load within specified timeout.\");\n",
       "        window._bokeh_failed_load = true;\n",
       "      } else if (force !== true) {\n",
       "        var cell = $(document.getElementById(\"6e6d438f-771a-4770-a0cf-8d653a330ebe\")).parents('.cell').data().cell;\n",
       "        cell.output_area.append_execute_result(NB_LOAD_WARNING)\n",
       "      }\n",
       "  \n",
       "    }\n",
       "  \n",
       "    if (window._bokeh_is_loading === 0) {\n",
       "      console.log(\"Bokeh: BokehJS loaded, going straight to plotting\");\n",
       "      run_inline_js();\n",
       "    } else {\n",
       "      load_libs(js_urls, function() {\n",
       "        console.log(\"Bokeh: BokehJS plotting callback run at\", now());\n",
       "        run_inline_js();\n",
       "      });\n",
       "    }\n",
       "  }(this));\n",
       "</script>"
      ]
     },
     "metadata": {},
     "output_type": "display_data"
    }
   ],
   "source": [
    "p1 = figure(title=\"The Performance over the number of neurons' pruned\", tools=TOOLS)\n",
    "p1.line(ind, ucb1, legend=\"ucb1\", line_color=\"blue\", line_width=2)\n",
    "p1.line(ind, ThompsonSampling, legend=\"Thompson Sampling\", line_color=\"red\", line_width=2)\n",
    "p1.title.align = \"center\"\n",
    "show(p1)"
   ]
  },
  {
   "cell_type": "markdown",
   "metadata": {},
   "source": [
    "# Comparing All algorithms with the model before pruning"
   ]
  },
  {
   "cell_type": "code",
   "execution_count": 10,
   "metadata": {
    "collapsed": false
   },
   "outputs": [
    {
     "data": {
      "image/png": "[encoded data removed]",
      "text/plain": [
       "<matplotlib.figure.Figure at 0x10ef3ae48>"
      ]
     },
     "metadata": {},
     "output_type": "display_data"
    }
   ],
   "source": [
    "fig = plt.figure(figsize=(10, 6), dpi=80)\n",
    "ax = fig.add_subplot(111)\n",
    "N = len(ucb1)\n",
    "Acc = [Accuracy for col in range(N)]\n",
    "ind = np.arange(N)                # the x locations for the groups\n",
    "plt.plot(ind , ucb1 , color=\"blue\", linewidth=2.5, linestyle=\"-\", label=\"UCB1\")\n",
    "plt.plot(ind , ThompsonSampling, color=\"orange\", linewidth=2.5, linestyle=\"-\", label=\"Thompson Sampling\")\n",
    "plt.plot(ind , Acc, color=\"pink\", linewidth=2.5, linestyle=\"-\", label=\"Accuracy before Pruning\")\n",
    "plt.legend(loc = 3)\n",
    "plt.axis([0, 25, 0, 1])\n",
    "plt.xlabel('Number of pruned Neurons')\n",
    "plt.ylabel('The Accuracy')\n",
    "plt.grid(True)\n",
    "plt.show()"
   ]
  },
  {
   "cell_type": "code",
   "execution_count": 11,
   "metadata": {
    "collapsed": false
   },
   "outputs": [
    {
     "data": {
      "text/html": [
       "\n",
       "\n",
       "    <div class=\"bk-root\">\n",
       "        <div class=\"bk-plotdiv\" id=\"32267af5-afd6-4b96-80ca-a0fa875413d3\"></div>\n",
       "    </div>\n",
       "<script type=\"text/javascript\">\n",
       "  \n",
       "  (function(global) {\n",
       "    function now() {\n",
       "      return new Date();\n",
       "    }\n",
       "  \n",
       "    var force = false;\n",
       "  \n",
       "    if (typeof (window._bokeh_onload_callbacks) === \"undefined\" || force === true) {\n",
       "      window._bokeh_onload_callbacks = [];\n",
       "      window._bokeh_is_loading = undefined;\n",
       "    }\n",
       "  \n",
       "  \n",
       "    \n",
       "    if (typeof (window._bokeh_timeout) === \"undefined\" || force === true) {\n",
       "      window._bokeh_timeout = Date.now() + 0;\n",
       "      window._bokeh_failed_load = false;\n",
       "    }\n",
       "  \n",
       "    var NB_LOAD_WARNING = {'data': {'text/html':\n",
       "       \"<div style='background-color: #fdd'>\\n\"+\n",
       "       \"<p>\\n\"+\n",
       "       \"BokehJS does not appear to have successfully loaded. If loading BokehJS from CDN, this \\n\"+\n",
       "       \"may be due to a slow or bad network connection. Possible fixes:\\n\"+\n",
       "       \"</p>\\n\"+\n",
       "       \"<ul>\\n\"+\n",
       "       \"<li>re-rerun `output_notebook()` to attempt to load from CDN again, or</li>\\n\"+\n",
       "       \"<li>use INLINE resources instead, as so:</li>\\n\"+\n",
       "       \"</ul>\\n\"+\n",
       "       \"<code>\\n\"+\n",
       "       \"from bokeh.resources import INLINE\\n\"+\n",
       "       \"output_notebook(resources=INLINE)\\n\"+\n",
       "       \"</code>\\n\"+\n",
       "       \"</div>\"}};\n",
       "  \n",
       "    function display_loaded() {\n",
       "      if (window.Bokeh !== undefined) {\n",
       "        document.getElementById(\"32267af5-afd6-4b96-80ca-a0fa875413d3\").textContent = \"BokehJS successfully loaded.\";\n",
       "      } else if (Date.now() < window._bokeh_timeout) {\n",
       "        setTimeout(display_loaded, 100)\n",
       "      }\n",
       "    }\n",
       "  \n",
       "    function run_callbacks() {\n",
       "      window._bokeh_onload_callbacks.forEach(function(callback) { callback() });\n",
       "      delete window._bokeh_onload_callbacks\n",
       "      console.info(\"Bokeh: all callbacks have finished\");\n",
       "    }\n",
       "  \n",
       "    function load_libs(js_urls, callback) {\n",
       "      window._bokeh_onload_callbacks.push(callback);\n",
       "      if (window._bokeh_is_loading > 0) {\n",
       "        console.log(\"Bokeh: BokehJS is being loaded, scheduling callback at\", now());\n",
       "        return null;\n",
       "      }\n",
       "      if (js_urls == null || js_urls.length === 0) {\n",
       "        run_callbacks();\n",
       "        return null;\n",
       "      }\n",
       "      console.log(\"Bokeh: BokehJS not loaded, scheduling load and callback at\", now());\n",
       "      window._bokeh_is_loading = js_urls.length;\n",
       "      for (var i = 0; i < js_urls.length; i++) {\n",
       "        var url = js_urls[i];\n",
       "        var s = document.createElement('script');\n",
       "        s.src = url;\n",
       "        s.async = false;\n",
       "        s.onreadystatechange = s.onload = function() {\n",
       "          window._bokeh_is_loading--;\n",
       "          if (window._bokeh_is_loading === 0) {\n",
       "            console.log(\"Bokeh: all BokehJS libraries loaded\");\n",
       "            run_callbacks()\n",
       "          }\n",
       "        };\n",
       "        s.onerror = function() {\n",
       "          console.warn(\"failed to load library \" + url);\n",
       "        };\n",
       "        console.log(\"Bokeh: injecting script tag for BokehJS library: \", url);\n",
       "        document.getElementsByTagName(\"head\")[0].appendChild(s);\n",
       "      }\n",
       "    };var element = document.getElementById(\"32267af5-afd6-4b96-80ca-a0fa875413d3\");\n",
       "    if (element == null) {\n",
       "      console.log(\"Bokeh: ERROR: autoload.js configured with elementid '32267af5-afd6-4b96-80ca-a0fa875413d3' but no matching script tag was found. \")\n",
       "      return false;\n",
       "    }\n",
       "  \n",
       "    var js_urls = [];\n",
       "  \n",
       "    var inline_js = [\n",
       "      function(Bokeh) {\n",
       "        (function() {\n",
       "          var fn = function() {\n",
       "            var docs_json = {\"fa58d10f-6953-46f8-b4f2-1df0dc5e676a\":{\"roots\":{\"references\":[{\"attributes\":{\"items\":[{\"id\":\"f3a040f7-54aa-46f8-aa50-2fde55260f96\",\"type\":\"LegendItem\"},{\"id\":\"139ef0f4-3c91-4323-9070-e644cbfe3ce1\",\"type\":\"LegendItem\"},{\"id\":\"48036022-2bac-4ad4-a4e0-810c3ea563d7\",\"type\":\"LegendItem\"}],\"plot\":{\"id\":\"2618d745-a815-4521-a7a0-118992e370fd\",\"subtype\":\"Figure\",\"type\":\"Plot\"}},\"id\":\"a25ec264-78ab-4949-84ba-9236a815ca77\",\"type\":\"Legend\"},{\"attributes\":{\"dimension\":1,\"plot\":{\"id\":\"2618d745-a815-4521-a7a0-118992e370fd\",\"subtype\":\"Figure\",\"type\":\"Plot\"},\"ticker\":{\"id\":\"093b1d5f-edc0-4d0a-88fd-8a7b6234ca86\",\"type\":\"BasicTicker\"}},\"id\":\"c0b064a7-67e6-4160-a306-ba3654115c41\",\"type\":\"Grid\"},{\"attributes\":{\"plot\":{\"id\":\"2618d745-a815-4521-a7a0-118992e370fd\",\"subtype\":\"Figure\",\"type\":\"Plot\"}},\"id\":\"849675d0-06fa-4cf8-b66d-e1b7bc4acafa\",\"type\":\"WheelZoomTool\"},{\"attributes\":{\"overlay\":{\"id\":\"df4f4905-1218-4cf9-ad5d-5aa6044c12e4\",\"type\":\"PolyAnnotation\"},\"plot\":{\"id\":\"2618d745-a815-4521-a7a0-118992e370fd\",\"subtype\":\"Figure\",\"type\":\"Plot\"}},\"id\":\"e157ea14-fffd-417a-aaed-24f7b4003aa7\",\"type\":\"PolySelectTool\"},{\"attributes\":{\"formatter\":{\"id\":\"98525e77-5af5-4d91-ac5d-04a6ccbcb4b9\",\"type\":\"BasicTickFormatter\"},\"plot\":{\"id\":\"2618d745-a815-4521-a7a0-118992e370fd\",\"subtype\":\"Figure\",\"type\":\"Plot\"},\"ticker\":{\"id\":\"89e732e4-4625-4db3-87f5-08d2e9fde373\",\"type\":\"BasicTicker\"}},\"id\":\"ab6bb320-4664-4f53-8eb5-cc5eccafe0db\",\"type\":\"LinearAxis\"},{\"attributes\":{},\"id\":\"89e732e4-4625-4db3-87f5-08d2e9fde373\",\"type\":\"BasicTicker\"},{\"attributes\":{\"callback\":null,\"overlay\":{\"id\":\"1282dc5a-1441-4174-8487-19225896af79\",\"type\":\"PolyAnnotation\"},\"plot\":{\"id\":\"2618d745-a815-4521-a7a0-118992e370fd\",\"subtype\":\"Figure\",\"type\":\"Plot\"}},\"id\":\"534bd644-61f0-4738-8c0c-36519d713a9c\",\"type\":\"LassoSelectTool\"},{\"attributes\":{\"callback\":null,\"column_names\":[\"x\",\"y\"],\"data\":{\"x\":[0,1,2,3,4,5,6,7,8,9,10,11,12,13,14,15,16,17,18,19,20,21,22,23,24,25,26,27,28,29],\"y\":{\"__ndarray__\":\"oryGso/g7j+ivIayj+DuP6K8hrKP4O4/oryGso/g7j+ivIayj+DuP6K8hrKP4O4/G8pryGso7z8bymvIayjvPxvKa8hrKO8/G8pryGso7z8bymvIayjvPxvKa8hrKO8/G8pryGso7z8bymvIayjvP0N5DaWzmO4/KK+hnLOY7j8or6Gcs5juP/Maymsfwe0/2FBeQ2cx7T+H8hqqqqrqP4fyGqqqquo/h/Iaiuks5j8or6F8DeXlP72G8lpVVeU/vYbyWlVV5T+9hvJaVVXlP72G8lpVVeU/vYbyWlVV5T+9hvJaVVXlP72G8lpVVeU/\",\"dtype\":\"float64\",\"shape\":[30]}}},\"id\":\"cc0ccf86-2637-4d10-8fae-ebe8783d854c\",\"type\":\"ColumnDataSource\"},{\"attributes\":{\"plot\":{\"id\":\"2618d745-a815-4521-a7a0-118992e370fd\",\"subtype\":\"Figure\",\"type\":\"Plot\"}},\"id\":\"cc4ced3b-e0d5-4274-8aba-048668928bc4\",\"type\":\"PanTool\"},{\"attributes\":{\"plot\":{\"id\":\"2618d745-a815-4521-a7a0-118992e370fd\",\"subtype\":\"Figure\",\"type\":\"Plot\"}},\"id\":\"845994fb-b64f-480f-bef6-03e65aa222ae\",\"type\":\"UndoTool\"},{\"attributes\":{},\"id\":\"7902129d-f70a-46a4-9312-8fed604cb280\",\"type\":\"BasicTickFormatter\"},{\"attributes\":{\"plot\":{\"id\":\"2618d745-a815-4521-a7a0-118992e370fd\",\"subtype\":\"Figure\",\"type\":\"Plot\"}},\"id\":\"c8284dec-0102-4ff7-a143-bae1c97bc14f\",\"type\":\"SaveTool\"},{\"attributes\":{\"callback\":null},\"id\":\"25613cb2-130f-46fc-9e6d-ba2a1d1821a2\",\"type\":\"DataRange1d\"},{\"attributes\":{\"plot\":{\"id\":\"2618d745-a815-4521-a7a0-118992e370fd\",\"subtype\":\"Figure\",\"type\":\"Plot\"},\"ticker\":{\"id\":\"89e732e4-4625-4db3-87f5-08d2e9fde373\",\"type\":\"BasicTicker\"}},\"id\":\"2e887e03-5c70-4f24-bd1a-7fbbcc2cf89b\",\"type\":\"Grid\"},{\"attributes\":{\"fill_alpha\":{\"value\":0.5},\"fill_color\":{\"value\":\"lightgrey\"},\"level\":\"overlay\",\"line_alpha\":{\"value\":1.0},\"line_color\":{\"value\":\"black\"},\"line_dash\":[4,4],\"line_width\":{\"value\":2},\"plot\":null,\"xs_units\":\"screen\",\"ys_units\":\"screen\"},\"id\":\"df4f4905-1218-4cf9-ad5d-5aa6044c12e4\",\"type\":\"PolyAnnotation\"},{\"attributes\":{\"callback\":null},\"id\":\"35c3c354-4da7-4a57-a786-70c01e0e5824\",\"type\":\"DataRange1d\"},{\"attributes\":{\"plot\":{\"id\":\"2618d745-a815-4521-a7a0-118992e370fd\",\"subtype\":\"Figure\",\"type\":\"Plot\"}},\"id\":\"671a9619-cce0-4a04-b4ac-c3705c9385d1\",\"type\":\"ResetTool\"},{\"attributes\":{\"bottom_units\":\"screen\",\"fill_alpha\":{\"value\":0.5},\"fill_color\":{\"value\":\"lightgrey\"},\"left_units\":\"screen\",\"level\":\"overlay\",\"line_alpha\":{\"value\":1.0},\"line_color\":{\"value\":\"black\"},\"line_dash\":[4,4],\"line_width\":{\"value\":2},\"plot\":null,\"render_mode\":\"css\",\"right_units\":\"screen\",\"top_units\":\"screen\"},\"id\":\"a04f970c-b779-4f34-8ced-664e7ee26fd9\",\"type\":\"BoxAnnotation\"},{\"attributes\":{\"callback\":null,\"column_names\":[\"x\",\"y\"],\"data\":{\"x\":[0,1,2,3,4,5,6,7,8,9,10,11,12,13,14,15,16,17,18,19,20,21,22,23,24,25,26,27,28,29],\"y\":{\"__ndarray__\":\"oryGso/g7j+ivIayj+DuP6K8hrKP4O4/Q3kNpbOY7j9DeQ2ls5juP0N5DaWzmO4/oryGso/g7j+ivIayj+DuPxvKa8hrKO8/G8pryGso7z8bymvIayjvPxvKa8hrKO8/G8pryGso7z8bymvIayjvP72G8rqP4O4/lNdQXkN57T8or6H89hHsPyivofz2Eew/lNdQvoby6j+ivIaSzmLqP0N5DYXyGuo/lNdQnsV05j+U11CexXTmP5TXUJ7FdOY/vYbyWlVV5T+9hvJaVVXlP72G8lpVVeU/vYbyWlVV5T+9hvJaVVXlP72G8lpVVeU/\",\"dtype\":\"float64\",\"shape\":[30]}}},\"id\":\"8382e99e-4afb-4032-bccb-694f2846db4e\",\"type\":\"ColumnDataSource\"},{\"attributes\":{\"overlay\":{\"id\":\"2b3bc012-aee0-45ba-b769-3855e062119b\",\"type\":\"BoxAnnotation\"},\"plot\":{\"id\":\"2618d745-a815-4521-a7a0-118992e370fd\",\"subtype\":\"Figure\",\"type\":\"Plot\"}},\"id\":\"c7988b0e-ccb5-4aff-93df-6010b93162dc\",\"type\":\"BoxZoomTool\"},{\"attributes\":{},\"id\":\"093b1d5f-edc0-4d0a-88fd-8a7b6234ca86\",\"type\":\"BasicTicker\"},{\"attributes\":{\"line_color\":{\"value\":\"green\"},\"line_width\":{\"value\":2},\"x\":{\"field\":\"x\"},\"y\":{\"field\":\"y\"}},\"id\":\"43c1409d-78a8-4601-9c2a-51f0df94d0ef\",\"type\":\"Line\"},{\"attributes\":{\"data_source\":{\"id\":\"9d5bc95d-c2a0-4e84-b669-b96123e1bc56\",\"type\":\"ColumnDataSource\"},\"glyph\":{\"id\":\"d35e4038-54c0-42e3-a2fa-25f14f0331d4\",\"type\":\"Line\"},\"hover_glyph\":null,\"nonselection_glyph\":{\"id\":\"94f949c8-252c-4569-80b9-36dc53be6177\",\"type\":\"Line\"},\"selection_glyph\":null},\"id\":\"a73d452a-927d-4715-9d56-13f49fd2ef2f\",\"type\":\"GlyphRenderer\"},{\"attributes\":{\"align\":\"center\",\"plot\":null,\"text\":\"The Performance over the number of neurons' pruned\"},\"id\":\"55630970-1659-4f77-afd6-ec5b1d188f0d\",\"type\":\"Title\"},{\"attributes\":{\"active_drag\":\"auto\",\"active_scroll\":\"auto\",\"active_tap\":\"auto\",\"tools\":[{\"id\":\"c7988b0e-ccb5-4aff-93df-6010b93162dc\",\"type\":\"BoxZoomTool\"},{\"id\":\"25589c42-2410-4674-8dc5-f97ac5225da8\",\"type\":\"BoxSelectTool\"},{\"id\":\"51fc134e-20e6-4c64-8c3b-c25d2100c2fc\",\"type\":\"CrosshairTool\"},{\"id\":\"d6e09c0b-c90b-41c4-a265-cea2d767ca26\",\"type\":\"ResizeTool\"},{\"id\":\"671a9619-cce0-4a04-b4ac-c3705c9385d1\",\"type\":\"ResetTool\"},{\"id\":\"534bd644-61f0-4738-8c0c-36519d713a9c\",\"type\":\"LassoSelectTool\"},{\"id\":\"cc4ced3b-e0d5-4274-8aba-048668928bc4\",\"type\":\"PanTool\"},{\"id\":\"c8284dec-0102-4ff7-a143-bae1c97bc14f\",\"type\":\"SaveTool\"},{\"id\":\"e157ea14-fffd-417a-aaed-24f7b4003aa7\",\"type\":\"PolySelectTool\"},{\"id\":\"e450773d-ccc7-4ccf-96c4-03f7dfb8c921\",\"type\":\"TapTool\"},{\"id\":\"849675d0-06fa-4cf8-b66d-e1b7bc4acafa\",\"type\":\"WheelZoomTool\"},{\"id\":\"845994fb-b64f-480f-bef6-03e65aa222ae\",\"type\":\"UndoTool\"}]},\"id\":\"88684481-9b1a-4f72-a04e-48354baffcde\",\"type\":\"Toolbar\"},{\"attributes\":{\"label\":{\"value\":\"Accuracy\"},\"renderers\":[{\"id\":\"a73d452a-927d-4715-9d56-13f49fd2ef2f\",\"type\":\"GlyphRenderer\"}]},\"id\":\"48036022-2bac-4ad4-a4e0-810c3ea563d7\",\"type\":\"LegendItem\"},{\"attributes\":{\"below\":[{\"id\":\"ab6bb320-4664-4f53-8eb5-cc5eccafe0db\",\"type\":\"LinearAxis\"}],\"left\":[{\"id\":\"4830bcf7-7e75-4fb5-b601-b7fa9725af77\",\"type\":\"LinearAxis\"}],\"renderers\":[{\"id\":\"ab6bb320-4664-4f53-8eb5-cc5eccafe0db\",\"type\":\"LinearAxis\"},{\"id\":\"2e887e03-5c70-4f24-bd1a-7fbbcc2cf89b\",\"type\":\"Grid\"},{\"id\":\"4830bcf7-7e75-4fb5-b601-b7fa9725af77\",\"type\":\"LinearAxis\"},{\"id\":\"c0b064a7-67e6-4160-a306-ba3654115c41\",\"type\":\"Grid\"},{\"id\":\"2b3bc012-aee0-45ba-b769-3855e062119b\",\"type\":\"BoxAnnotation\"},{\"id\":\"a04f970c-b779-4f34-8ced-664e7ee26fd9\",\"type\":\"BoxAnnotation\"},{\"id\":\"1282dc5a-1441-4174-8487-19225896af79\",\"type\":\"PolyAnnotation\"},{\"id\":\"df4f4905-1218-4cf9-ad5d-5aa6044c12e4\",\"type\":\"PolyAnnotation\"},{\"id\":\"a25ec264-78ab-4949-84ba-9236a815ca77\",\"type\":\"Legend\"},{\"id\":\"374184a6-fbee-410c-8734-ce9134faac9b\",\"type\":\"GlyphRenderer\"},{\"id\":\"4b9c3e9e-6fd6-4914-8778-4e2f6092475e\",\"type\":\"GlyphRenderer\"},{\"id\":\"a73d452a-927d-4715-9d56-13f49fd2ef2f\",\"type\":\"GlyphRenderer\"}],\"title\":{\"id\":\"55630970-1659-4f77-afd6-ec5b1d188f0d\",\"type\":\"Title\"},\"tool_events\":{\"id\":\"b790ab07-39dd-4332-a95f-e9b639bd6122\",\"type\":\"ToolEvents\"},\"toolbar\":{\"id\":\"88684481-9b1a-4f72-a04e-48354baffcde\",\"type\":\"Toolbar\"},\"x_range\":{\"id\":\"35c3c354-4da7-4a57-a786-70c01e0e5824\",\"type\":\"DataRange1d\"},\"y_range\":{\"id\":\"25613cb2-130f-46fc-9e6d-ba2a1d1821a2\",\"type\":\"DataRange1d\"}},\"id\":\"2618d745-a815-4521-a7a0-118992e370fd\",\"subtype\":\"Figure\",\"type\":\"Plot\"},{\"attributes\":{\"label\":{\"value\":\"ucb1\"},\"renderers\":[{\"id\":\"374184a6-fbee-410c-8734-ce9134faac9b\",\"type\":\"GlyphRenderer\"}]},\"id\":\"f3a040f7-54aa-46f8-aa50-2fde55260f96\",\"type\":\"LegendItem\"},{\"attributes\":{\"line_alpha\":{\"value\":0.1},\"line_color\":{\"value\":\"#1f77b4\"},\"line_width\":{\"value\":2},\"x\":{\"field\":\"x\"},\"y\":{\"field\":\"y\"}},\"id\":\"20a473aa-1f6c-4412-a915-62535797df56\",\"type\":\"Line\"},{\"attributes\":{\"callback\":null,\"plot\":{\"id\":\"2618d745-a815-4521-a7a0-118992e370fd\",\"subtype\":\"Figure\",\"type\":\"Plot\"}},\"id\":\"e450773d-ccc7-4ccf-96c4-03f7dfb8c921\",\"type\":\"TapTool\"},{\"attributes\":{\"bottom_units\":\"screen\",\"fill_alpha\":{\"value\":0.5},\"fill_color\":{\"value\":\"lightgrey\"},\"left_units\":\"screen\",\"level\":\"overlay\",\"line_alpha\":{\"value\":1.0},\"line_color\":{\"value\":\"black\"},\"line_dash\":[4,4],\"line_width\":{\"value\":2},\"plot\":null,\"render_mode\":\"css\",\"right_units\":\"screen\",\"top_units\":\"screen\"},\"id\":\"2b3bc012-aee0-45ba-b769-3855e062119b\",\"type\":\"BoxAnnotation\"},{\"attributes\":{\"line_alpha\":{\"value\":0.1},\"line_color\":{\"value\":\"#1f77b4\"},\"line_dash\":[4,4],\"line_width\":{\"value\":2},\"x\":{\"field\":\"x\"},\"y\":{\"field\":\"y\"}},\"id\":\"94f949c8-252c-4569-80b9-36dc53be6177\",\"type\":\"Line\"},{\"attributes\":{\"fill_alpha\":{\"value\":0.5},\"fill_color\":{\"value\":\"lightgrey\"},\"level\":\"overlay\",\"line_alpha\":{\"value\":1.0},\"line_color\":{\"value\":\"black\"},\"line_dash\":[4,4],\"line_width\":{\"value\":2},\"plot\":null,\"xs_units\":\"screen\",\"ys_units\":\"screen\"},\"id\":\"1282dc5a-1441-4174-8487-19225896af79\",\"type\":\"PolyAnnotation\"},{\"attributes\":{\"line_color\":{\"value\":\"blue\"},\"line_dash\":[4,4],\"line_width\":{\"value\":2},\"x\":{\"field\":\"x\"},\"y\":{\"field\":\"y\"}},\"id\":\"d35e4038-54c0-42e3-a2fa-25f14f0331d4\",\"type\":\"Line\"},{\"attributes\":{\"data_source\":{\"id\":\"cc0ccf86-2637-4d10-8fae-ebe8783d854c\",\"type\":\"ColumnDataSource\"},\"glyph\":{\"id\":\"65541f48-c77a-4f47-b6ef-30b00150d335\",\"type\":\"Line\"},\"hover_glyph\":null,\"nonselection_glyph\":{\"id\":\"20a473aa-1f6c-4412-a915-62535797df56\",\"type\":\"Line\"},\"selection_glyph\":null},\"id\":\"4b9c3e9e-6fd6-4914-8778-4e2f6092475e\",\"type\":\"GlyphRenderer\"},{\"attributes\":{\"line_alpha\":{\"value\":0.1},\"line_color\":{\"value\":\"#1f77b4\"},\"line_width\":{\"value\":2},\"x\":{\"field\":\"x\"},\"y\":{\"field\":\"y\"}},\"id\":\"0797ed7b-5549-44ce-8df4-a785c3f20f56\",\"type\":\"Line\"},{\"attributes\":{\"plot\":{\"id\":\"2618d745-a815-4521-a7a0-118992e370fd\",\"subtype\":\"Figure\",\"type\":\"Plot\"}},\"id\":\"51fc134e-20e6-4c64-8c3b-c25d2100c2fc\",\"type\":\"CrosshairTool\"},{\"attributes\":{\"plot\":{\"id\":\"2618d745-a815-4521-a7a0-118992e370fd\",\"subtype\":\"Figure\",\"type\":\"Plot\"}},\"id\":\"d6e09c0b-c90b-41c4-a265-cea2d767ca26\",\"type\":\"ResizeTool\"},{\"attributes\":{},\"id\":\"98525e77-5af5-4d91-ac5d-04a6ccbcb4b9\",\"type\":\"BasicTickFormatter\"},{\"attributes\":{\"data_source\":{\"id\":\"8382e99e-4afb-4032-bccb-694f2846db4e\",\"type\":\"ColumnDataSource\"},\"glyph\":{\"id\":\"43c1409d-78a8-4601-9c2a-51f0df94d0ef\",\"type\":\"Line\"},\"hover_glyph\":null,\"nonselection_glyph\":{\"id\":\"0797ed7b-5549-44ce-8df4-a785c3f20f56\",\"type\":\"Line\"},\"selection_glyph\":null},\"id\":\"374184a6-fbee-410c-8734-ce9134faac9b\",\"type\":\"GlyphRenderer\"},{\"attributes\":{\"formatter\":{\"id\":\"7902129d-f70a-46a4-9312-8fed604cb280\",\"type\":\"BasicTickFormatter\"},\"plot\":{\"id\":\"2618d745-a815-4521-a7a0-118992e370fd\",\"subtype\":\"Figure\",\"type\":\"Plot\"},\"ticker\":{\"id\":\"093b1d5f-edc0-4d0a-88fd-8a7b6234ca86\",\"type\":\"BasicTicker\"}},\"id\":\"4830bcf7-7e75-4fb5-b601-b7fa9725af77\",\"type\":\"LinearAxis\"},{\"attributes\":{\"line_color\":{\"value\":\"red\"},\"line_width\":{\"value\":2},\"x\":{\"field\":\"x\"},\"y\":{\"field\":\"y\"}},\"id\":\"65541f48-c77a-4f47-b6ef-30b00150d335\",\"type\":\"Line\"},{\"attributes\":{},\"id\":\"b790ab07-39dd-4332-a95f-e9b639bd6122\",\"type\":\"ToolEvents\"},{\"attributes\":{\"callback\":null,\"overlay\":{\"id\":\"a04f970c-b779-4f34-8ced-664e7ee26fd9\",\"type\":\"BoxAnnotation\"},\"plot\":{\"id\":\"2618d745-a815-4521-a7a0-118992e370fd\",\"subtype\":\"Figure\",\"type\":\"Plot\"},\"renderers\":[{\"id\":\"374184a6-fbee-410c-8734-ce9134faac9b\",\"type\":\"GlyphRenderer\"},{\"id\":\"4b9c3e9e-6fd6-4914-8778-4e2f6092475e\",\"type\":\"GlyphRenderer\"},{\"id\":\"a73d452a-927d-4715-9d56-13f49fd2ef2f\",\"type\":\"GlyphRenderer\"}]},\"id\":\"25589c42-2410-4674-8dc5-f97ac5225da8\",\"type\":\"BoxSelectTool\"},{\"attributes\":{\"callback\":null,\"column_names\":[\"x\",\"y\"],\"data\":{\"x\":[0,1,2,3,4,5,6,7,8,9,10,11,12,13,14,15,16,17,18,19,20,21,22,23,24,25,26,27,28,29],\"y\":[{\"__ndarray__\":\"455UMAn67j8=\",\"dtype\":\"float64\",\"shape\":[]},{\"__ndarray__\":\"455UMAn67j8=\",\"dtype\":\"float64\",\"shape\":[]},{\"__ndarray__\":\"455UMAn67j8=\",\"dtype\":\"float64\",\"shape\":[]},{\"__ndarray__\":\"455UMAn67j8=\",\"dtype\":\"float64\",\"shape\":[]},{\"__ndarray__\":\"455UMAn67j8=\",\"dtype\":\"float64\",\"shape\":[]},{\"__ndarray__\":\"455UMAn67j8=\",\"dtype\":\"float64\",\"shape\":[]},{\"__ndarray__\":\"455UMAn67j8=\",\"dtype\":\"float64\",\"shape\":[]},{\"__ndarray__\":\"455UMAn67j8=\",\"dtype\":\"float64\",\"shape\":[]},{\"__ndarray__\":\"455UMAn67j8=\",\"dtype\":\"float64\",\"shape\":[]},{\"__ndarray__\":\"455UMAn67j8=\",\"dtype\":\"float64\",\"shape\":[]},{\"__ndarray__\":\"455UMAn67j8=\",\"dtype\":\"float64\",\"shape\":[]},{\"__ndarray__\":\"455UMAn67j8=\",\"dtype\":\"float64\",\"shape\":[]},{\"__ndarray__\":\"455UMAn67j8=\",\"dtype\":\"float64\",\"shape\":[]},{\"__ndarray__\":\"455UMAn67j8=\",\"dtype\":\"float64\",\"shape\":[]},{\"__ndarray__\":\"455UMAn67j8=\",\"dtype\":\"float64\",\"shape\":[]},{\"__ndarray__\":\"455UMAn67j8=\",\"dtype\":\"float64\",\"shape\":[]},{\"__ndarray__\":\"455UMAn67j8=\",\"dtype\":\"float64\",\"shape\":[]},{\"__ndarray__\":\"455UMAn67j8=\",\"dtype\":\"float64\",\"shape\":[]},{\"__ndarray__\":\"455UMAn67j8=\",\"dtype\":\"float64\",\"shape\":[]},{\"__ndarray__\":\"455UMAn67j8=\",\"dtype\":\"float64\",\"shape\":[]},{\"__ndarray__\":\"455UMAn67j8=\",\"dtype\":\"float64\",\"shape\":[]},{\"__ndarray__\":\"455UMAn67j8=\",\"dtype\":\"float64\",\"shape\":[]},{\"__ndarray__\":\"455UMAn67j8=\",\"dtype\":\"float64\",\"shape\":[]},{\"__ndarray__\":\"455UMAn67j8=\",\"dtype\":\"float64\",\"shape\":[]},{\"__ndarray__\":\"455UMAn67j8=\",\"dtype\":\"float64\",\"shape\":[]},{\"__ndarray__\":\"455UMAn67j8=\",\"dtype\":\"float64\",\"shape\":[]},{\"__ndarray__\":\"455UMAn67j8=\",\"dtype\":\"float64\",\"shape\":[]},{\"__ndarray__\":\"455UMAn67j8=\",\"dtype\":\"float64\",\"shape\":[]},{\"__ndarray__\":\"455UMAn67j8=\",\"dtype\":\"float64\",\"shape\":[]},{\"__ndarray__\":\"455UMAn67j8=\",\"dtype\":\"float64\",\"shape\":[]}]}},\"id\":\"9d5bc95d-c2a0-4e84-b669-b96123e1bc56\",\"type\":\"ColumnDataSource\"},{\"attributes\":{\"label\":{\"value\":\"Thompson Sampling\"},\"renderers\":[{\"id\":\"4b9c3e9e-6fd6-4914-8778-4e2f6092475e\",\"type\":\"GlyphRenderer\"}]},\"id\":\"139ef0f4-3c91-4323-9070-e644cbfe3ce1\",\"type\":\"LegendItem\"}],\"root_ids\":[\"2618d745-a815-4521-a7a0-118992e370fd\"]},\"title\":\"Bokeh Application\",\"version\":\"0.12.4\"}};\n",
       "            var render_items = [{\"docid\":\"fa58d10f-6953-46f8-b4f2-1df0dc5e676a\",\"elementid\":\"32267af5-afd6-4b96-80ca-a0fa875413d3\",\"modelid\":\"2618d745-a815-4521-a7a0-118992e370fd\"}];\n",
       "            \n",
       "            Bokeh.embed.embed_items(docs_json, render_items);\n",
       "          };\n",
       "          if (document.readyState != \"loading\") fn();\n",
       "          else document.addEventListener(\"DOMContentLoaded\", fn);\n",
       "        })();\n",
       "      },\n",
       "      function(Bokeh) {\n",
       "      }\n",
       "    ];\n",
       "  \n",
       "    function run_inline_js() {\n",
       "      \n",
       "      if ((window.Bokeh !== undefined) || (force === true)) {\n",
       "        for (var i = 0; i < inline_js.length; i++) {\n",
       "          inline_js[i](window.Bokeh);\n",
       "        }if (force === true) {\n",
       "          display_loaded();\n",
       "        }} else if (Date.now() < window._bokeh_timeout) {\n",
       "        setTimeout(run_inline_js, 100);\n",
       "      } else if (!window._bokeh_failed_load) {\n",
       "        console.log(\"Bokeh: BokehJS failed to load within specified timeout.\");\n",
       "        window._bokeh_failed_load = true;\n",
       "      } else if (force !== true) {\n",
       "        var cell = $(document.getElementById(\"32267af5-afd6-4b96-80ca-a0fa875413d3\")).parents('.cell').data().cell;\n",
       "        cell.output_area.append_execute_result(NB_LOAD_WARNING)\n",
       "      }\n",
       "  \n",
       "    }\n",
       "  \n",
       "    if (window._bokeh_is_loading === 0) {\n",
       "      console.log(\"Bokeh: BokehJS loaded, going straight to plotting\");\n",
       "      run_inline_js();\n",
       "    } else {\n",
       "      load_libs(js_urls, function() {\n",
       "        console.log(\"Bokeh: BokehJS plotting callback run at\", now());\n",
       "        run_inline_js();\n",
       "      });\n",
       "    }\n",
       "  }(this));\n",
       "</script>"
      ]
     },
     "metadata": {},
     "output_type": "display_data"
    }
   ],
   "source": [
    "p1 = figure(title=\"The Performance over the number of neurons' pruned\", tools=TOOLS)\n",
    "p1.line(ind, ucb1, legend=\"ucb1\", line_color=\"green\", line_width=2)\n",
    "p1.line(ind, ThompsonSampling, legend=\"Thompson Sampling\", line_color=\"red\", line_width=2)\n",
    "p1.line(ind, Acc, legend=\"Accuracy\", line_dash=(4, 4), line_color=\"blue\", line_width=2)\n",
    "p1.title.align = \"center\"\n",
    "show(p1)"
   ]
  }
 ],
 "metadata": {
  "kernelspec": {
   "display_name": "Python 3",
   "language": "python",
   "name": "python3"
  },
  "language_info": {
   "codemirror_mode": {
    "name": "ipython",
    "version": 3
   },
   "file_extension": ".py",
   "mimetype": "text/x-python",
   "name": "python",
   "nbconvert_exporter": "python",
   "pygments_lexer": "ipython3",
   "version": "3.6.0"
  }
 },
 "nbformat": 4,
 "nbformat_minor": 0
}
