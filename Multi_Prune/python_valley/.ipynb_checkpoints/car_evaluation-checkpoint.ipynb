{
 "cells": [
  {
   "cell_type": "markdown",
   "metadata": {},
   "source": [
    "# Load the data"
   ]
  },
  {
   "cell_type": "code",
   "execution_count": 19,
   "metadata": {
    "collapsed": false
   },
   "outputs": [
    {
     "name": "stdout",
     "output_type": "stream",
     "text": [
      "   buying  maint  doors persons lug_boot safety  class\n",
      "0   vhigh  vhigh      2       2    small    low  unacc\n",
      "1   vhigh  vhigh      2       2    small    med  unacc\n",
      "2   vhigh  vhigh      2       2    small   high  unacc\n",
      "3   vhigh  vhigh      2       2      med    low  unacc\n",
      "4   vhigh  vhigh      2       2      med    med  unacc\n",
      "5   vhigh  vhigh      2       2      med   high  unacc\n",
      "6   vhigh  vhigh      2       2      big    low  unacc\n",
      "7   vhigh  vhigh      2       2      big    med  unacc\n",
      "8   vhigh  vhigh      2       2      big   high  unacc\n",
      "9   vhigh  vhigh      2       4    small    low  unacc\n",
      "10  vhigh  vhigh      2       4    small    med  unacc\n",
      "11  vhigh  vhigh      2       4    small   high  unacc\n",
      "12  vhigh  vhigh      2       4      med    low  unacc\n",
      "13  vhigh  vhigh      2       4      med    med  unacc\n",
      "14  vhigh  vhigh      2       4      med   high  unacc\n",
      "15  vhigh  vhigh      2       4      big    low  unacc\n",
      "16  vhigh  vhigh      2       4      big    med  unacc\n",
      "17  vhigh  vhigh      2       4      big   high  unacc\n",
      "18  vhigh  vhigh      2    more    small    low  unacc\n",
      "19  vhigh  vhigh      2    more    small    med  unacc\n",
      "20  vhigh  vhigh      2    more    small   high  unacc\n",
      "21  vhigh  vhigh      2    more      med    low  unacc\n",
      "22  vhigh  vhigh      2    more      med    med  unacc\n",
      "23  vhigh  vhigh      2    more      med   high  unacc\n",
      "24  vhigh  vhigh      2    more      big    low  unacc\n",
      "25  vhigh  vhigh      2    more      big    med  unacc\n",
      "26  vhigh  vhigh      2    more      big   high  unacc\n",
      "27  vhigh  vhigh      3       2    small    low  unacc\n",
      "28  vhigh  vhigh      3       2    small    med  unacc\n",
      "29  vhigh  vhigh      3       2    small   high  unacc\n",
      "..    ...    ...    ...     ...      ...    ...    ...\n",
      "70  vhigh  vhigh      4       4      big    med  unacc\n",
      "71  vhigh  vhigh      4       4      big   high  unacc\n",
      "72  vhigh  vhigh      4    more    small    low  unacc\n",
      "73  vhigh  vhigh      4    more    small    med  unacc\n",
      "74  vhigh  vhigh      4    more    small   high  unacc\n",
      "75  vhigh  vhigh      4    more      med    low  unacc\n",
      "76  vhigh  vhigh      4    more      med    med  unacc\n",
      "77  vhigh  vhigh      4    more      med   high  unacc\n",
      "78  vhigh  vhigh      4    more      big    low  unacc\n",
      "79  vhigh  vhigh      4    more      big    med  unacc\n",
      "80  vhigh  vhigh      4    more      big   high  unacc\n",
      "81  vhigh  vhigh  5more       2    small    low  unacc\n",
      "82  vhigh  vhigh  5more       2    small    med  unacc\n",
      "83  vhigh  vhigh  5more       2    small   high  unacc\n",
      "84  vhigh  vhigh  5more       2      med    low  unacc\n",
      "85  vhigh  vhigh  5more       2      med    med  unacc\n",
      "86  vhigh  vhigh  5more       2      med   high  unacc\n",
      "87  vhigh  vhigh  5more       2      big    low  unacc\n",
      "88  vhigh  vhigh  5more       2      big    med  unacc\n",
      "89  vhigh  vhigh  5more       2      big   high  unacc\n",
      "90  vhigh  vhigh  5more       4    small    low  unacc\n",
      "91  vhigh  vhigh  5more       4    small    med  unacc\n",
      "92  vhigh  vhigh  5more       4    small   high  unacc\n",
      "93  vhigh  vhigh  5more       4      med    low  unacc\n",
      "94  vhigh  vhigh  5more       4      med    med  unacc\n",
      "95  vhigh  vhigh  5more       4      med   high  unacc\n",
      "96  vhigh  vhigh  5more       4      big    low  unacc\n",
      "97  vhigh  vhigh  5more       4      big    med  unacc\n",
      "98  vhigh  vhigh  5more       4      big   high  unacc\n",
      "99  vhigh  vhigh  5more    more    small    low  unacc\n",
      "\n",
      "[100 rows x 7 columns]\n"
     ]
    }
   ],
   "source": [
    "import pandas\n",
    "import numpy\n",
    "%matplotlib inline\n",
    "import matplotlib.pyplot as plt\n",
    "from pandas.tools.plotting import scatter_matrix\n",
    "import numpy as np\n",
    "import time\n",
    "from sklearn import metrics\n",
    "# fix random seed for reproducibility\n",
    "seed = 7\n",
    "numpy.random.seed(seed)\n",
    "plt.rcParams['figure.figsize'] = (15, 6)\n",
    "url = \"https://archive.ics.uci.edu/ml/machine-learning-databases/car/car.data\"\n",
    "names = ['buying', 'maint', 'doors', 'persons', 'lug_boot', 'safety', 'class']\n",
    "data = pandas.read_csv(url, names=names)\n",
    "peek = data.head(100)\n",
    "print(peek)"
   ]
  },
  {
   "cell_type": "code",
   "execution_count": 20,
   "metadata": {
    "collapsed": false
   },
   "outputs": [
    {
     "name": "stdout",
     "output_type": "stream",
     "text": [
      "(1728, 7)\n"
     ]
    }
   ],
   "source": [
    "shape = data.shape\n",
    "print(shape)"
   ]
  },
  {
   "cell_type": "code",
   "execution_count": 21,
   "metadata": {
    "collapsed": false
   },
   "outputs": [
    {
     "name": "stdout",
     "output_type": "stream",
     "text": [
      "buying      object\n",
      "maint       object\n",
      "doors       object\n",
      "persons     object\n",
      "lug_boot    object\n",
      "safety      object\n",
      "class       object\n",
      "dtype: object\n"
     ]
    }
   ],
   "source": [
    "types = data.dtypes\n",
    "print(types)"
   ]
  },
  {
   "cell_type": "code",
   "execution_count": 22,
   "metadata": {
    "collapsed": false
   },
   "outputs": [
    {
     "name": "stdout",
     "output_type": "stream",
     "text": [
      "       buying maint doors persons lug_boot safety  class\n",
      "count    1728  1728  1728    1728     1728   1728   1728\n",
      "unique      4     4     4       3        3      3      4\n",
      "top       med   med     3    more      med    med  unacc\n",
      "freq      432   432   432     576      576    576   1210\n"
     ]
    }
   ],
   "source": [
    "pandas.set_option('display.width', 100)\n",
    "pandas.set_option('precision', 3)\n",
    "description = data.describe()\n",
    "print(description)"
   ]
  },
  {
   "cell_type": "code",
   "execution_count": 23,
   "metadata": {
    "collapsed": false
   },
   "outputs": [
    {
     "name": "stdout",
     "output_type": "stream",
     "text": [
      "class\n",
      "acc       384\n",
      "good       69\n",
      "unacc    1210\n",
      "vgood      65\n",
      "dtype: int64\n"
     ]
    }
   ],
   "source": [
    "class_counts = data.groupby('class').size()\n",
    "print(class_counts)"
   ]
  },
  {
   "cell_type": "code",
   "execution_count": 24,
   "metadata": {
    "collapsed": false
   },
   "outputs": [
    {
     "name": "stdout",
     "output_type": "stream",
     "text": [
      "Empty DataFrame\n",
      "Columns: []\n",
      "Index: []\n"
     ]
    }
   ],
   "source": [
    "correlations = data.corr(method='pearson')\n",
    "print(correlations)"
   ]
  },
  {
   "cell_type": "markdown",
   "metadata": {},
   "source": [
    " encode the labels\n",
    "vhigh = 4  high=3  med=2  low=1\n",
    "5more = 6    more =5\n",
    "small =1   med=2   big=3\n",
    "unacc=1   acc=2  good=3   vgood=4"
   ]
  },
  {
   "cell_type": "code",
   "execution_count": 25,
   "metadata": {
    "collapsed": true
   },
   "outputs": [],
   "source": [
    "data = data.replace('vhigh',4)\n",
    "data = data.replace('high',3)\n",
    "data = data.replace('med',2)\n",
    "data = data.replace('low',1)\n",
    "###################\n",
    "data = data.replace('5more',6)\n",
    "data = data.replace('more',5)\n",
    "data = data.replace('small',1)\n",
    "data = data.replace('big',3)\n",
    "###################\n",
    "data = data.replace('unacc',1)\n",
    "data = data.replace('acc',2)\n",
    "data = data.replace('good',3)"
   ]
  },
  {
   "cell_type": "code",
   "execution_count": 26,
   "metadata": {
    "collapsed": false
   },
   "outputs": [
    {
     "name": "stdout",
     "output_type": "stream",
     "text": [
      "buying      0.0\n",
      "maint       0.0\n",
      "lug_boot    0.0\n",
      "safety      0.0\n",
      "dtype: float64\n"
     ]
    }
   ],
   "source": [
    "skew = data.skew()\n",
    "print(skew)"
   ]
  },
  {
   "cell_type": "code",
   "execution_count": 27,
   "metadata": {
    "collapsed": false
   },
   "outputs": [
    {
     "name": "stdout",
     "output_type": "stream",
     "text": [
      "    buying  maint doors persons  lug_boot  safety class\n",
      "0        4      4     2       2         1       1     1\n",
      "1        4      4     2       2         1       2     1\n",
      "2        4      4     2       2         1       3     1\n",
      "3        4      4     2       2         2       1     1\n",
      "4        4      4     2       2         2       2     1\n",
      "5        4      4     2       2         2       3     1\n",
      "6        4      4     2       2         3       1     1\n",
      "7        4      4     2       2         3       2     1\n",
      "8        4      4     2       2         3       3     1\n",
      "9        4      4     2       4         1       1     1\n",
      "10       4      4     2       4         1       2     1\n",
      "11       4      4     2       4         1       3     1\n",
      "12       4      4     2       4         2       1     1\n",
      "13       4      4     2       4         2       2     1\n",
      "14       4      4     2       4         2       3     1\n",
      "15       4      4     2       4         3       1     1\n",
      "16       4      4     2       4         3       2     1\n",
      "17       4      4     2       4         3       3     1\n",
      "18       4      4     2       5         1       1     1\n",
      "19       4      4     2       5         1       2     1\n",
      "20       4      4     2       5         1       3     1\n",
      "21       4      4     2       5         2       1     1\n",
      "22       4      4     2       5         2       2     1\n",
      "23       4      4     2       5         2       3     1\n",
      "24       4      4     2       5         3       1     1\n",
      "25       4      4     2       5         3       2     1\n",
      "26       4      4     2       5         3       3     1\n",
      "27       4      4     3       2         1       1     1\n",
      "28       4      4     3       2         1       2     1\n",
      "29       4      4     3       2         1       3     1\n",
      "..     ...    ...   ...     ...       ...     ...   ...\n",
      "70       4      4     4       4         3       2     1\n",
      "71       4      4     4       4         3       3     1\n",
      "72       4      4     4       5         1       1     1\n",
      "73       4      4     4       5         1       2     1\n",
      "74       4      4     4       5         1       3     1\n",
      "75       4      4     4       5         2       1     1\n",
      "76       4      4     4       5         2       2     1\n",
      "77       4      4     4       5         2       3     1\n",
      "78       4      4     4       5         3       1     1\n",
      "79       4      4     4       5         3       2     1\n",
      "80       4      4     4       5         3       3     1\n",
      "81       4      4     6       2         1       1     1\n",
      "82       4      4     6       2         1       2     1\n",
      "83       4      4     6       2         1       3     1\n",
      "84       4      4     6       2         2       1     1\n",
      "85       4      4     6       2         2       2     1\n",
      "86       4      4     6       2         2       3     1\n",
      "87       4      4     6       2         3       1     1\n",
      "88       4      4     6       2         3       2     1\n",
      "89       4      4     6       2         3       3     1\n",
      "90       4      4     6       4         1       1     1\n",
      "91       4      4     6       4         1       2     1\n",
      "92       4      4     6       4         1       3     1\n",
      "93       4      4     6       4         2       1     1\n",
      "94       4      4     6       4         2       2     1\n",
      "95       4      4     6       4         2       3     1\n",
      "96       4      4     6       4         3       1     1\n",
      "97       4      4     6       4         3       2     1\n",
      "98       4      4     6       4         3       3     1\n",
      "99       4      4     6       5         1       1     1\n",
      "\n",
      "[100 rows x 7 columns]\n"
     ]
    }
   ],
   "source": [
    "peek = data.head(100)\n",
    "print(peek)"
   ]
  },
  {
   "cell_type": "markdown",
   "metadata": {},
   "source": [
    "# Visulize the data"
   ]
  },
  {
   "cell_type": "code",
   "execution_count": 28,
   "metadata": {
    "collapsed": false
   },
   "outputs": [
    {
     "data": {
      "image/png": "[encoded data removed]",
      "text/plain": [
       "<matplotlib.figure.Figure at 0xa765208>"
      ]
     },
     "metadata": {},
     "output_type": "display_data"
    }
   ],
   "source": [
    "data.hist()\n",
    "plt.show()"
   ]
  },
  {
   "cell_type": "code",
   "execution_count": 29,
   "metadata": {
    "collapsed": false
   },
   "outputs": [
    {
     "data": {
      "image/png": "[encoded data removed]",
      "text/plain": [
       "<matplotlib.figure.Figure at 0xd8e8710>"
      ]
     },
     "metadata": {},
     "output_type": "display_data"
    }
   ],
   "source": [
    "data.plot(kind='density', subplots=True, layout=(3,3), sharex=False)\n",
    "plt.show()"
   ]
  },
  {
   "cell_type": "code",
   "execution_count": 30,
   "metadata": {
    "collapsed": false
   },
   "outputs": [
    {
     "data": {
      "image/png": "[encoded data removed]",
      "text/plain": [
       "<matplotlib.figure.Figure at 0xd62a6d8>"
      ]
     },
     "metadata": {},
     "output_type": "display_data"
    }
   ],
   "source": [
    "data.plot(kind='box', subplots=True, layout=(3,3), sharex=False, sharey=False)\n",
    "plt.show()"
   ]
  },
  {
   "cell_type": "code",
   "execution_count": 31,
   "metadata": {
    "collapsed": false
   },
   "outputs": [
    {
     "data": {
      "image/png": "[encoded data removed]",
      "text/plain": [
       "<matplotlib.figure.Figure at 0xd3abac8>"
      ]
     },
     "metadata": {},
     "output_type": "display_data"
    }
   ],
   "source": [
    "correlations = data.corr()\n",
    "# plot correlation matrix\n",
    "fig = plt.figure()\n",
    "ax = fig.add_subplot(111)\n",
    "cax = ax.matshow(correlations, vmin=-1, vmax=1)\n",
    "fig.colorbar(cax)\n",
    "ticks = numpy.arange(0,7,1)\n",
    "ax.set_xticks(ticks)\n",
    "ax.set_yticks(ticks)\n",
    "ax.set_xticklabels(names)\n",
    "ax.set_yticklabels(names)\n",
    "plt.show()"
   ]
  },
  {
   "cell_type": "code",
   "execution_count": 32,
   "metadata": {
    "collapsed": false
   },
   "outputs": [
    {
     "data": {
      "image/png": "[encoded data removed]",
      "text/plain": [
       "<matplotlib.figure.Figure at 0xd62a0f0>"
      ]
     },
     "metadata": {},
     "output_type": "display_data"
    }
   ],
   "source": [
    "scatter_matrix(data)\n",
    "plt.show()"
   ]
  },
  {
   "cell_type": "markdown",
   "metadata": {},
   "source": [
    "# Prepare the data for classification"
   ]
  },
  {
   "cell_type": "code",
   "execution_count": 34,
   "metadata": {
    "collapsed": false
   },
   "outputs": [
    {
     "ename": "ValueError",
     "evalue": "could not convert string to float: vgood",
     "output_type": "error",
     "traceback": [
      "\u001b[1;31m---------------------------------------------------------------------------\u001b[0m",
      "\u001b[1;31mValueError\u001b[0m                                Traceback (most recent call last)",
      "\u001b[1;32m<ipython-input-34-f810d646135e>\u001b[0m in \u001b[0;36m<module>\u001b[1;34m()\u001b[0m\n\u001b[0;32m      1\u001b[0m \u001b[1;32mfrom\u001b[0m \u001b[0msklearn\u001b[0m \u001b[1;32mimport\u001b[0m \u001b[0mpreprocessing\u001b[0m\u001b[1;33m\u001b[0m\u001b[0m\n\u001b[0;32m      2\u001b[0m \u001b[0mdataset\u001b[0m \u001b[1;33m=\u001b[0m \u001b[0mdata\u001b[0m\u001b[1;33m.\u001b[0m\u001b[0mvalues\u001b[0m\u001b[1;33m\u001b[0m\u001b[0m\n\u001b[1;32m----> 3\u001b[1;33m \u001b[0mX\u001b[0m \u001b[1;33m=\u001b[0m \u001b[0mdataset\u001b[0m\u001b[1;33m[\u001b[0m\u001b[1;33m:\u001b[0m\u001b[1;33m,\u001b[0m\u001b[1;36m0\u001b[0m\u001b[1;33m:\u001b[0m\u001b[1;36m7\u001b[0m\u001b[1;33m]\u001b[0m\u001b[1;33m.\u001b[0m\u001b[0mastype\u001b[0m\u001b[1;33m(\u001b[0m\u001b[0mfloat\u001b[0m\u001b[1;33m)\u001b[0m\u001b[1;33m\u001b[0m\u001b[0m\n\u001b[0m\u001b[0;32m      4\u001b[0m \u001b[0mY\u001b[0m \u001b[1;33m=\u001b[0m \u001b[0mdataset\u001b[0m\u001b[1;33m[\u001b[0m\u001b[1;33m:\u001b[0m\u001b[1;33m,\u001b[0m\u001b[1;36m7\u001b[0m\u001b[1;33m]\u001b[0m\u001b[1;33m\u001b[0m\u001b[0m\n\u001b[0;32m      5\u001b[0m \u001b[0mfeatures\u001b[0m \u001b[1;33m=\u001b[0m \u001b[0mpreprocessing\u001b[0m\u001b[1;33m.\u001b[0m\u001b[0mscale\u001b[0m\u001b[1;33m(\u001b[0m\u001b[0mX\u001b[0m\u001b[1;33m)\u001b[0m\u001b[1;33m\u001b[0m\u001b[0m\n",
      "\u001b[1;31mValueError\u001b[0m: could not convert string to float: vgood"
     ]
    }
   ],
   "source": [
    "from sklearn import preprocessing\n",
    "dataset = data.values\n",
    "X = dataset[:,0:7].astype(float)\n",
    "Y = dataset[:,7]\n",
    "features = preprocessing.scale(X)\n",
    "target = Y"
   ]
  },
  {
   "cell_type": "code",
   "execution_count": 35,
   "metadata": {
    "collapsed": false
   },
   "outputs": [
    {
     "ename": "NameError",
     "evalue": "name 'features' is not defined",
     "output_type": "error",
     "traceback": [
      "\u001b[1;31m---------------------------------------------------------------------------\u001b[0m",
      "\u001b[1;31mNameError\u001b[0m                                 Traceback (most recent call last)",
      "\u001b[1;32m<ipython-input-35-92d3d84a05ae>\u001b[0m in \u001b[0;36m<module>\u001b[1;34m()\u001b[0m\n\u001b[0;32m      2\u001b[0m \u001b[1;31m# Extracting 20% testing data\u001b[0m\u001b[1;33m\u001b[0m\u001b[1;33m\u001b[0m\u001b[0m\n\u001b[0;32m      3\u001b[0m X_train_feature, X_deploy, y_train_feature, y_deploy = train_test_split(\n\u001b[1;32m----> 4\u001b[1;33m     features, target, test_size=0.20, random_state=17)\n\u001b[0m\u001b[0;32m      5\u001b[0m \u001b[1;31m# Make training and validation data sets for building the models and choose the hyperparameters\u001b[0m\u001b[1;33m\u001b[0m\u001b[1;33m\u001b[0m\u001b[0m\n\u001b[0;32m      6\u001b[0m X_train, X_test, y_train, y_test = train_test_split(\n",
      "\u001b[1;31mNameError\u001b[0m: name 'features' is not defined"
     ]
    }
   ],
   "source": [
    "from sklearn.cross_validation import train_test_split\n",
    "# Extracting 20% testing data\n",
    "X_train_feature, X_deploy, y_train_feature, y_deploy = train_test_split(\n",
    "    features, target, test_size=0.20, random_state=17)\n",
    "# Make training and validation data sets for building the models and choose the hyperparameters\n",
    "X_train, X_test, y_train, y_test = train_test_split(\n",
    "    X_train_feature, y_train_feature, test_size=0.20, random_state=17)\n",
    "print 'Number of training examples',len(X_train)\n",
    "print 'Number of validation examples',len(X_test)\n",
    "print 'Number of testing examples',len(X_deploy)\n"
   ]
  },
  {
   "cell_type": "markdown",
   "metadata": {},
   "source": [
    "# Building classifiers"
   ]
  },
  {
   "cell_type": "markdown",
   "metadata": {},
   "source": [
    "## KNN classifier\n",
    "It turns out that k=5 is the best choose of k on the validation set"
   ]
  },
  {
   "cell_type": "code",
   "execution_count": null,
   "metadata": {
    "collapsed": false
   },
   "outputs": [],
   "source": [
    "from sklearn.neighbors import KNeighborsClassifier\n",
    "clf_neigh = KNeighborsClassifier(n_neighbors=5)\n",
    "#Training\n",
    "start_time = time.time()\n",
    "clf_neigh.fit(X_train, y_train)\n",
    "print(\"The time for training KNN is  %s seconds \" % (time.time() - start_time))\n",
    "\n",
    "# Make a prediction\n",
    "y_pred = clf_neigh.predict(X_test)\n",
    "\n",
    "print \"===================================================================\"\n",
    "print \"The accuracy on validation dataset of KNN: \\t\", metrics.accuracy_score(y_test, y_pred)\n",
    "print \"Precision on validation dataset of KNN:    \\t\", metrics.precision_score(y_test, y_pred)\n",
    "print \"Recall on validation dataset of KNN :      \\t\", metrics.recall_score(y_test, y_pred)\n",
    "print \"F1 score on validation dataset of KNN:     \\t\", metrics.f1_score(y_test, y_pred)"
   ]
  },
  {
   "cell_type": "markdown",
   "metadata": {},
   "source": [
    "## SVM classifier\n",
    "### Linear SVM \"LinearSVC\"\n",
    "It turns out that C=20 is the best on the validation set"
   ]
  },
  {
   "cell_type": "code",
   "execution_count": null,
   "metadata": {
    "collapsed": false
   },
   "outputs": [],
   "source": [
    "from sklearn.svm import LinearSVC\n",
    "clf_svm_linear = LinearSVC(C=20.0)\n",
    "#Training\n",
    "start_time = time.time()\n",
    "clf_svm_linear.fit(X_train, y_train)\n",
    "print(\"The time for training SVM is  %s seconds \" % (time.time() - start_time))\n",
    "\n",
    "# Make a prediction\n",
    "y_pred = clf_svm_linear.predict(X_test)\n",
    "\n",
    "print \"===================================================================\"\n",
    "print \"The accuracy on validation dataset of Linear SVM: \\t\", metrics.accuracy_score(y_test, y_pred)\n",
    "print \"Precision on validation dataset of Linear SVM:    \\t\", metrics.precision_score(y_test, y_pred)\n",
    "print \"Recall on validation dataset of Linear SVM :      \\t\", metrics.recall_score(y_test, y_pred)\n",
    "print \"F1 score on validation dataset of Linear SVM:     \\t\", metrics.f1_score(y_test, y_pred)"
   ]
  },
  {
   "cell_type": "markdown",
   "metadata": {},
   "source": [
    "###  SVM \"SVC\" with kernel='rbf' \n",
    "It turns out that C=5 is the best on the validation set\n"
   ]
  },
  {
   "cell_type": "code",
   "execution_count": null,
   "metadata": {
    "collapsed": false
   },
   "outputs": [],
   "source": [
    "from sklearn.svm import SVC\n",
    "clf_svm = SVC(C=5.0, kernel='rbf')\n",
    "#Training\n",
    "start_time = time.time()\n",
    "clf_svm.fit(X_train, y_train)\n",
    "print(\"The time for training SVM is  %s seconds \" % (time.time() - start_time))\n",
    "\n",
    "# Make a prediction\n",
    "y_pred = clf_svm.predict(X_test)\n",
    "\n",
    "print \"===================================================================\"\n",
    "print \"The accuracy on validation dataset of SVM: \\t\", metrics.accuracy_score(y_test, y_pred)\n",
    "print \"Precision on validation dataset of SVM:    \\t\", metrics.precision_score(y_test, y_pred)\n",
    "print \"Recall on validation dataset of SVM :      \\t\", metrics.recall_score(y_test, y_pred)\n",
    "print \"F1 score on validation dataset of SVM:     \\t\", metrics.f1_score(y_test, y_pred)"
   ]
  },
  {
   "cell_type": "markdown",
   "metadata": {},
   "source": [
    "## Decsion Tree classifier\n",
    "### DT with Gini impurity \"gini\", CART (Classification and Regression Trees)\n",
    "It turns out that min_samples_split=2 is the best on the validation set"
   ]
  },
  {
   "cell_type": "code",
   "execution_count": null,
   "metadata": {
    "collapsed": false
   },
   "outputs": [],
   "source": [
    "# CART tree\n",
    "from sklearn.tree import DecisionTreeClassifier\n",
    "clf_dt = DecisionTreeClassifier(min_samples_split=2)\n",
    "#Training\n",
    "start_time = time.time()\n",
    "clf_dt.fit(X_train, y_train)\n",
    "print(\"The time for training Decision Tree is  %s seconds \" % (time.time() - start_time))\n",
    "\n",
    "# Make a prediction\n",
    "y_pred = clf_dt.predict(X_test)\n",
    "\n",
    "print \"===================================================================\"\n",
    "print \"The accuracy on validation dataset of Decision Tree: \\t\", metrics.accuracy_score(y_test, y_pred)\n",
    "print \"Precision on validation dataset of Decision Tree:    \\t\", metrics.precision_score(y_test, y_pred)\n",
    "print \"Recall on validation dataset of Decision Tree :      \\t\", metrics.recall_score(y_test, y_pred)\n",
    "print \"F1 score on validation dataset of Decision Tree:     \\t\", metrics.f1_score(y_test, y_pred)"
   ]
  },
  {
   "cell_type": "markdown",
   "metadata": {},
   "source": [
    "### DT with “entropy” for the information gain, C4.5 (aka J48 is an open source Java Weka) and C5.0\n",
    "It turns out that min_samples_split=2 is the best on the validation set"
   ]
  },
  {
   "cell_type": "code",
   "execution_count": null,
   "metadata": {
    "collapsed": false
   },
   "outputs": [],
   "source": [
    "# Here I use C5.0 tree as its more accurate that C4.5 and more recent.\n",
    "from sklearn.tree import DecisionTreeClassifier\n",
    "clf_dt_IG = DecisionTreeClassifier(criterion='entropy', min_samples_split=2)\n",
    "#Training\n",
    "start_time = time.time()\n",
    "clf_dt_IG.fit(X_train, y_train)\n",
    "print(\"The time for training Decision Tree is  %s seconds \" % (time.time() - start_time))\n",
    "\n",
    "# Make a prediction\n",
    "y_pred = clf_dt_IG.predict(X_test)\n",
    "\n",
    "print \"===================================================================\"\n",
    "print \"The accuracy on validation dataset of Decision Tree: \\t\", metrics.accuracy_score(y_test, y_pred)\n",
    "print \"Precision on validation dataset of Decision Tree:    \\t\", metrics.precision_score(y_test, y_pred)\n",
    "print \"Recall on validation dataset of Decision Tree :      \\t\", metrics.recall_score(y_test, y_pred)\n",
    "print \"F1 score on validation dataset of Decision Tree:     \\t\", metrics.f1_score(y_test, y_pred)"
   ]
  },
  {
   "cell_type": "markdown",
   "metadata": {},
   "source": [
    " Ensemble methods"
   ]
  },
  {
   "cell_type": "markdown",
   "metadata": {},
   "source": [
    "## Bagging Method\n"
   ]
  },
  {
   "cell_type": "markdown",
   "metadata": {},
   "source": [
    "### Bagging Method with Knn\n",
    "\n",
    "\n",
    "Using Best KNN classifier fitted the data, each built on random subsets of 50% of the samples and 50% of the features."
   ]
  },
  {
   "cell_type": "code",
   "execution_count": null,
   "metadata": {
    "collapsed": false
   },
   "outputs": [],
   "source": [
    "from sklearn.ensemble import BaggingClassifier\n",
    "from sklearn.neighbors import KNeighborsClassifier\n",
    "clf_dt_BGKN = BaggingClassifier(KNeighborsClassifier(n_neighbors=5),\n",
    "                             max_samples=0.5, max_features=0.5)\n",
    "start_time = time.time()\n",
    "clf_dt_BGKN.fit(X_train, y_train)\n",
    "print(\"The time for training Bagging Knn is  %s seconds \" % (time.time() - start_time))\n",
    "\n",
    "# Make a prediction\n",
    "y_pred = clf_dt_BGKN.predict(X_test)\n",
    "\n",
    "print \"===================================================================\"\n",
    "print \"The accuracy on validation dataset of Bagging Knn: \\t\", metrics.accuracy_score(y_test, y_pred)\n",
    "print \"Precision on validation dataset of Bagging Knn:    \\t\", metrics.precision_score(y_test, y_pred)\n",
    "print \"Recall on validation dataset of Bagging Knn :      \\t\", metrics.recall_score(y_test, y_pred)\n",
    "print \"F1 score on validation dataset of Bagging Knn:     \\t\", metrics.f1_score(y_test, y_pred)"
   ]
  },
  {
   "cell_type": "markdown",
   "metadata": {},
   "source": [
    "### Bagging Method with DT\n",
    "\n",
    "\n",
    "Using Best DT with 'entropy', each built on random subsets of 50% of the samples and 50% of the features."
   ]
  },
  {
   "cell_type": "code",
   "execution_count": null,
   "metadata": {
    "collapsed": false
   },
   "outputs": [],
   "source": [
    "from sklearn.ensemble import BaggingClassifier\n",
    "from sklearn.tree import DecisionTreeClassifier\n",
    "clf_dt_BGDT = BaggingClassifier(DecisionTreeClassifier(criterion='entropy', min_samples_split=2),\n",
    "                             max_samples=0.5, max_features=0.5)\n",
    "start_time = time.time()\n",
    "clf_dt_BGDT.fit(X_train, y_train)\n",
    "print(\"The time for training Bagging DT is  %s seconds \" % (time.time() - start_time))\n",
    "\n",
    "# Make a prediction\n",
    "y_pred = clf_dt_BGDT.predict(X_test)\n",
    "\n",
    "print \"===================================================================\"\n",
    "print \"The accuracy on validation dataset of Bagging DT: \\t\", metrics.accuracy_score(y_test, y_pred)\n",
    "print \"Precision on validation dataset of Bagging DT:    \\t\", metrics.precision_score(y_test, y_pred)\n",
    "print \"Recall on validation dataset of Bagging DT :      \\t\", metrics.recall_score(y_test, y_pred)\n",
    "print \"F1 score on validation dataset of Bagging DT:     \\t\", metrics.f1_score(y_test, y_pred)"
   ]
  },
  {
   "cell_type": "markdown",
   "metadata": {},
   "source": [
    "## Random Forest\n",
    "DT with 'gini'"
   ]
  },
  {
   "cell_type": "code",
   "execution_count": null,
   "metadata": {
    "collapsed": false
   },
   "outputs": [],
   "source": [
    "from sklearn.ensemble import RandomForestClassifier\n",
    "clf_dt_RF = RandomForestClassifier()\n",
    "#Training\n",
    "start_time = time.time()\n",
    "clf_dt_RF.fit(X_train, y_train)\n",
    "print(\"The time for training Decision Tree is  %s seconds \" % (time.time() - start_time))\n",
    "\n",
    "# Make a prediction\n",
    "y_pred = clf_dt_RF.predict(X_test)\n",
    "\n",
    "print \"===================================================================\"\n",
    "print \"The accuracy on validation dataset of Random Forest: \\t\", metrics.accuracy_score(y_test, y_pred)\n",
    "print \"Precision on validation dataset of Random Forest:    \\t\", metrics.precision_score(y_test, y_pred)\n",
    "print \"Recall on validation dataset of Random Forest :      \\t\", metrics.recall_score(y_test, y_pred)\n",
    "print \"F1 score on validation dataset of Random Forest:     \\t\", metrics.f1_score(y_test, y_pred)"
   ]
  },
  {
   "cell_type": "markdown",
   "metadata": {},
   "source": [
    "### Ada Boost\n",
    "DT with 'gini'"
   ]
  },
  {
   "cell_type": "code",
   "execution_count": null,
   "metadata": {
    "collapsed": false
   },
   "outputs": [],
   "source": [
    "from sklearn.ensemble import AdaBoostClassifier\n",
    "clf_dt_AD = AdaBoostClassifier()\n",
    "#Training\n",
    "start_time = time.time()\n",
    "clf_dt_AD.fit(X_train, y_train)\n",
    "print(\"The time for training Decision Tree is  %s seconds \" % (time.time() - start_time))\n",
    "\n",
    "# Make a prediction\n",
    "y_pred = clf_dt_AD.predict(X_test)\n",
    "\n",
    "print \"===================================================================\"\n",
    "print \"The accuracy on validation dataset of Ada Boost: \\t\", metrics.accuracy_score(y_test, y_pred)\n",
    "print \"Precision on validation dataset of Ada Boost:    \\t\", metrics.precision_score(y_test, y_pred)\n",
    "print \"Recall on validation dataset of Ada Boost :      \\t\", metrics.recall_score(y_test, y_pred)\n",
    "print \"F1 score on validation dataset of Ada Boost:     \\t\", metrics.f1_score(y_test, y_pred)"
   ]
  },
  {
   "cell_type": "markdown",
   "metadata": {},
   "source": [
    "## Naive Bayes methods"
   ]
  },
  {
   "cell_type": "code",
   "execution_count": null,
   "metadata": {
    "collapsed": false
   },
   "outputs": [],
   "source": [
    "from sklearn.naive_bayes import GaussianNB\n",
    "clf_NB = GaussianNB()\n",
    "#Training\n",
    "start_time = time.time()\n",
    "clf_NB.fit(X_train, y_train)\n",
    "print(\"The time for training Naive Bayes is  %s seconds \" % (time.time() - start_time))\n",
    "\n",
    "# Make a prediction\n",
    "y_pred = clf_NB.predict(X_test)\n",
    "\n",
    "print \"===================================================================\"\n",
    "print \"The accuracy on validation dataset of Naive Bayes: \\t\", metrics.accuracy_score(y_test, y_pred)\n",
    "print \"Precision on validation dataset of Naive Bayes:    \\t\", metrics.precision_score(y_test, y_pred)\n",
    "print \"Recall on validation dataset of Naive Bayes :      \\t\", metrics.recall_score(y_test, y_pred)\n",
    "print \"F1 score on validation dataset of Naive Bayes:     \\t\", metrics.f1_score(y_test, y_pred)"
   ]
  },
  {
   "cell_type": "markdown",
   "metadata": {},
   "source": [
    "## Linear Discriminant Analysis classifier"
   ]
  },
  {
   "cell_type": "code",
   "execution_count": null,
   "metadata": {
    "collapsed": false
   },
   "outputs": [],
   "source": [
    "from sklearn.discriminant_analysis import LinearDiscriminantAnalysis\n",
    "clf_dt_LDA = LinearDiscriminantAnalysis()\n",
    "#Training\n",
    "start_time = time.time()\n",
    "clf_dt_LDA.fit(X_train, y_train)\n",
    "print(\"The time for training Decision Tree is  %s seconds \" % (time.time() - start_time))\n",
    "\n",
    "# Make a prediction\n",
    "y_pred = clf_dt_LDA.predict(X_test)\n",
    "\n",
    "print \"===================================================================\"\n",
    "print \"The accuracy on validation dataset of Linear Discriminant Analysis: \\t\", metrics.accuracy_score(y_test, y_pred)\n",
    "print \"Precision on validation dataset of Linear Discriminant Analysis:    \\t\", metrics.precision_score(y_test, y_pred)\n",
    "print \"Recall on validation dataset of Linear Discriminant Analysis :      \\t\", metrics.recall_score(y_test, y_pred)\n",
    "print \"F1 score on validation dataset of Linear Discriminant Analysis:     \\t\", metrics.f1_score(y_test, y_pred)"
   ]
  },
  {
   "cell_type": "markdown",
   "metadata": {},
   "source": [
    "## Quadratic Discriminant Analysis classifier"
   ]
  },
  {
   "cell_type": "code",
   "execution_count": null,
   "metadata": {
    "collapsed": false
   },
   "outputs": [],
   "source": [
    "from sklearn.discriminant_analysis import QuadraticDiscriminantAnalysis\n",
    "clf_dt_QDA = QuadraticDiscriminantAnalysis()\n",
    "#Training\n",
    "start_time = time.time()\n",
    "clf_dt_QDA.fit(X_train, y_train)\n",
    "print(\"The time for training Decision Tree is  %s seconds \" % (time.time() - start_time))\n",
    "\n",
    "# Make a prediction\n",
    "y_pred = clf_dt_QDA.predict(X_test)\n",
    "\n",
    "print \"===================================================================\"\n",
    "print \"The accuracy on validation dataset of Quadratic Discriminant Analysis: \\t\", metrics.accuracy_score(y_test, y_pred)\n",
    "print \"Precision on validation dataset of Quadratic Discriminant Analysis:    \\t\", metrics.precision_score(y_test, y_pred)\n",
    "print \"Recall on validation dataset of Quadratic Discriminant Analysis :      \\t\", metrics.recall_score(y_test, y_pred)\n",
    "print \"F1 score on validation dataset of Quadratic Discriminant Analysis:     \\t\", metrics.f1_score(y_test, y_pred)"
   ]
  },
  {
   "cell_type": "markdown",
   "metadata": {},
   "source": [
    "## Neural Networks  classifier"
   ]
  },
  {
   "cell_type": "markdown",
   "metadata": {},
   "source": [
    "# Checkpoint the weights for best model on validation accuracy\n",
    "from keras.models import Sequential\n",
    "from keras.layers import Dense\n",
    "from keras.callbacks import ModelCheckpoint\n",
    "import matplotlib.pyplot as plt\n",
    "import numpy\n",
    "\n",
    "# create model\n",
    "model = Sequential()\n",
    "model.add(Dense(12, input_dim=8, init='uniform', activation='relu'))\n",
    "model.add(Dense(8, init='uniform', activation='relu'))\n",
    "model.add(Dense(1, init='uniform', activation='sigmoid'))\n",
    "# Compile model\n",
    "model.compile(loss='binary_crossentropy', optimizer='adam', metrics=['accuracy'])\n",
    "# checkpoint\n",
    "filepath=\"weights.best.hdf5\"\n",
    "checkpoint = ModelCheckpoint(filepath, monitor='val_acc', verbose=1, save_best_only=True, mode='max')\n",
    "callbacks_list = [checkpoint]\n",
    "# Fit the model\n",
    "model.fit(X, Y, validation_split=0.33, nb_epoch=150, batch_size=10, callbacks=callbacks_list, verbose=0)\n",
    "\n",
    "# evaluate the model\n",
    "print 'The evaluation :'\n",
    "scores = model.evaluate(X_test, y_test, verbose=0)\n",
    "print(\"%s: %.2f%%\" % (model.metrics_names[1], scores[1]*100))"
   ]
  },
  {
   "cell_type": "code",
   "execution_count": null,
   "metadata": {
    "collapsed": false
   },
   "outputs": [],
   "source": [
    "y_pred = model.predict_classes(X_test)\n",
    "print \"===================================================================\"\n",
    "print \"The accuracy on validation dataset of Neural Network: \\t\", metrics.accuracy_score(y_test, y_pred)\n",
    "print \"Precision on validation dataset of Neural Network:    \\t\", metrics.precision_score(y_test, y_pred)\n",
    "print \"Recall on validation dataset of Neural Network :      \\t\", metrics.recall_score(y_test, y_pred)\n",
    "print \"F1 score on validation dataset of Neural Network:     \\t\", metrics.f1_score(y_test, y_pred)"
   ]
  },
  {
   "cell_type": "code",
   "execution_count": null,
   "metadata": {
    "collapsed": false
   },
   "outputs": [],
   "source": [
    "model.save_weights('pimaModelbest.hdf5',overwrite=True)"
   ]
  },
  {
   "cell_type": "code",
   "execution_count": null,
   "metadata": {
    "collapsed": true
   },
   "outputs": [],
   "source": [
    "np.save('Training', X_train)\n",
    "np.save('Training', y_train)\n",
    "np.save('validation', X_test)\n",
    "np.save('Training', y_test)\n",
    "np.save('Testing', X_deploy)\n",
    "np.save('Training', y_deploy)"
   ]
  },
  {
   "cell_type": "code",
   "execution_count": null,
   "metadata": {
    "collapsed": true
   },
   "outputs": [],
   "source": []
  }
 ],
 "metadata": {
  "kernelspec": {
   "display_name": "Python 2",
   "language": "python",
   "name": "python2"
  },
  "language_info": {
   "codemirror_mode": {
    "name": "ipython",
    "version": 2
   },
   "file_extension": ".py",
   "mimetype": "text/x-python",
   "name": "python",
   "nbconvert_exporter": "python",
   "pygments_lexer": "ipython2",
   "version": "2.7.11"
  }
 },
 "nbformat": 4,
 "nbformat_minor": 0
}
