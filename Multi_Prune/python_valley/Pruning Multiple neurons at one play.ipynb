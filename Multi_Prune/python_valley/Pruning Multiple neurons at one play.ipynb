{
 "cells": [
  {
   "cell_type": "markdown",
   "metadata": {},
   "source": [
    "Compute the performance of MAB methods of pruning Multiple neurons at one time\n",
    "\n",
    "MAP for choosing multi arms at one time"
   ]
  },
  {
   "cell_type": "code",
   "execution_count": 1,
   "metadata": {
    "collapsed": true
   },
   "outputs": [],
   "source": [
    "import numpy as np\n",
    "import time\n",
    "import sys\n",
    "from numpy import *\n",
    "import matplotlib.pyplot as plt\n",
    "from sklearn import metrics\n",
    "%matplotlib inline\n",
    "#plt.rcParams['figure.figsize'] = (15, 6)"
   ]
  },
  {
   "cell_type": "markdown",
   "metadata": {},
   "source": [
    "# Load Bokeh"
   ]
  },
  {
   "cell_type": "code",
   "execution_count": 2,
   "metadata": {
    "collapsed": false
   },
   "outputs": [
    {
     "data": {
      "text/html": [
       "\n",
       "    <div class=\"bk-root\">\n",
       "        <a href=\"http://bokeh.pydata.org\" target=\"_blank\" class=\"bk-logo bk-logo-small bk-logo-notebook\"></a>\n",
       "        <span id=\"3ee0bcc2-f40b-4846-a79b-f9df1ec5bc27\">Loading BokehJS ...</span>\n",
       "    </div>"
      ]
     },
     "metadata": {},
     "output_type": "display_data"
    },
    {
     "data": {
      "application/javascript": [
       "\n",
       "(function(global) {\n",
       "  function now() {\n",
       "    return new Date();\n",
       "  }\n",
       "\n",
       "  var force = true;\n",
       "\n",
       "  if (typeof (window._bokeh_onload_callbacks) === \"undefined\" || force === true) {\n",
       "    window._bokeh_onload_callbacks = [];\n",
       "    window._bokeh_is_loading = undefined;\n",
       "  }\n",
       "\n",
       "\n",
       "  \n",
       "  if (typeof (window._bokeh_timeout) === \"undefined\" || force === true) {\n",
       "    window._bokeh_timeout = Date.now() + 5000;\n",
       "    window._bokeh_failed_load = false;\n",
       "  }\n",
       "\n",
       "  var NB_LOAD_WARNING = {'data': {'text/html':\n",
       "     \"<div style='background-color: #fdd'>\\n\"+\n",
       "     \"<p>\\n\"+\n",
       "     \"BokehJS does not appear to have successfully loaded. If loading BokehJS from CDN, this \\n\"+\n",
       "     \"may be due to a slow or bad network connection. Possible fixes:\\n\"+\n",
       "     \"</p>\\n\"+\n",
       "     \"<ul>\\n\"+\n",
       "     \"<li>re-rerun `output_notebook()` to attempt to load from CDN again, or</li>\\n\"+\n",
       "     \"<li>use INLINE resources instead, as so:</li>\\n\"+\n",
       "     \"</ul>\\n\"+\n",
       "     \"<code>\\n\"+\n",
       "     \"from bokeh.resources import INLINE\\n\"+\n",
       "     \"output_notebook(resources=INLINE)\\n\"+\n",
       "     \"</code>\\n\"+\n",
       "     \"</div>\"}};\n",
       "\n",
       "  function display_loaded() {\n",
       "    if (window.Bokeh !== undefined) {\n",
       "      document.getElementById(\"3ee0bcc2-f40b-4846-a79b-f9df1ec5bc27\").textContent = \"BokehJS successfully loaded.\";\n",
       "    } else if (Date.now() < window._bokeh_timeout) {\n",
       "      setTimeout(display_loaded, 100)\n",
       "    }\n",
       "  }\n",
       "\n",
       "  function run_callbacks() {\n",
       "    window._bokeh_onload_callbacks.forEach(function(callback) { callback() });\n",
       "    delete window._bokeh_onload_callbacks\n",
       "    console.info(\"Bokeh: all callbacks have finished\");\n",
       "  }\n",
       "\n",
       "  function load_libs(js_urls, callback) {\n",
       "    window._bokeh_onload_callbacks.push(callback);\n",
       "    if (window._bokeh_is_loading > 0) {\n",
       "      console.log(\"Bokeh: BokehJS is being loaded, scheduling callback at\", now());\n",
       "      return null;\n",
       "    }\n",
       "    if (js_urls == null || js_urls.length === 0) {\n",
       "      run_callbacks();\n",
       "      return null;\n",
       "    }\n",
       "    console.log(\"Bokeh: BokehJS not loaded, scheduling load and callback at\", now());\n",
       "    window._bokeh_is_loading = js_urls.length;\n",
       "    for (var i = 0; i < js_urls.length; i++) {\n",
       "      var url = js_urls[i];\n",
       "      var s = document.createElement('script');\n",
       "      s.src = url;\n",
       "      s.async = false;\n",
       "      s.onreadystatechange = s.onload = function() {\n",
       "        window._bokeh_is_loading--;\n",
       "        if (window._bokeh_is_loading === 0) {\n",
       "          console.log(\"Bokeh: all BokehJS libraries loaded\");\n",
       "          run_callbacks()\n",
       "        }\n",
       "      };\n",
       "      s.onerror = function() {\n",
       "        console.warn(\"failed to load library \" + url);\n",
       "      };\n",
       "      console.log(\"Bokeh: injecting script tag for BokehJS library: \", url);\n",
       "      document.getElementsByTagName(\"head\")[0].appendChild(s);\n",
       "    }\n",
       "  };var element = document.getElementById(\"3ee0bcc2-f40b-4846-a79b-f9df1ec5bc27\");\n",
       "  if (element == null) {\n",
       "    console.log(\"Bokeh: ERROR: autoload.js configured with elementid '3ee0bcc2-f40b-4846-a79b-f9df1ec5bc27' but no matching script tag was found. \")\n",
       "    return false;\n",
       "  }\n",
       "\n",
       "  var js_urls = [\"https://cdn.pydata.org/bokeh/release/bokeh-0.12.4.min.js\", \"https://cdn.pydata.org/bokeh/release/bokeh-widgets-0.12.4.min.js\"];\n",
       "\n",
       "  var inline_js = [\n",
       "    function(Bokeh) {\n",
       "      Bokeh.set_log_level(\"info\");\n",
       "    },\n",
       "    \n",
       "    function(Bokeh) {\n",
       "      \n",
       "      document.getElementById(\"3ee0bcc2-f40b-4846-a79b-f9df1ec5bc27\").textContent = \"BokehJS is loading...\";\n",
       "    },\n",
       "    function(Bokeh) {\n",
       "      console.log(\"Bokeh: injecting CSS: https://cdn.pydata.org/bokeh/release/bokeh-0.12.4.min.css\");\n",
       "      Bokeh.embed.inject_css(\"https://cdn.pydata.org/bokeh/release/bokeh-0.12.4.min.css\");\n",
       "      console.log(\"Bokeh: injecting CSS: https://cdn.pydata.org/bokeh/release/bokeh-widgets-0.12.4.min.css\");\n",
       "      Bokeh.embed.inject_css(\"https://cdn.pydata.org/bokeh/release/bokeh-widgets-0.12.4.min.css\");\n",
       "    }\n",
       "  ];\n",
       "\n",
       "  function run_inline_js() {\n",
       "    \n",
       "    if ((window.Bokeh !== undefined) || (force === true)) {\n",
       "      for (var i = 0; i < inline_js.length; i++) {\n",
       "        inline_js[i](window.Bokeh);\n",
       "      }if (force === true) {\n",
       "        display_loaded();\n",
       "      }} else if (Date.now() < window._bokeh_timeout) {\n",
       "      setTimeout(run_inline_js, 100);\n",
       "    } else if (!window._bokeh_failed_load) {\n",
       "      console.log(\"Bokeh: BokehJS failed to load within specified timeout.\");\n",
       "      window._bokeh_failed_load = true;\n",
       "    } else if (force !== true) {\n",
       "      var cell = $(document.getElementById(\"3ee0bcc2-f40b-4846-a79b-f9df1ec5bc27\")).parents('.cell').data().cell;\n",
       "      cell.output_area.append_execute_result(NB_LOAD_WARNING)\n",
       "    }\n",
       "\n",
       "  }\n",
       "\n",
       "  if (window._bokeh_is_loading === 0) {\n",
       "    console.log(\"Bokeh: BokehJS loaded, going straight to plotting\");\n",
       "    run_inline_js();\n",
       "  } else {\n",
       "    load_libs(js_urls, function() {\n",
       "      console.log(\"Bokeh: BokehJS plotting callback run at\", now());\n",
       "      run_inline_js();\n",
       "    });\n",
       "  }\n",
       "}(this));"
      ]
     },
     "metadata": {},
     "output_type": "display_data"
    }
   ],
   "source": [
    "from bokeh.layouts import row, gridplot\n",
    "from bokeh.plotting import figure, output_notebook, show\n",
    "from bokeh.models import Legend\n",
    "TOOLS = 'box_zoom,box_select,crosshair,resize,reset,lasso_select,pan,save,poly_select,tap,wheel_zoom,undo'\n",
    "output_notebook()"
   ]
  },
  {
   "cell_type": "markdown",
   "metadata": {},
   "source": [
    "# Load the data"
   ]
  },
  {
   "cell_type": "code",
   "execution_count": 3,
   "metadata": {
    "collapsed": false
   },
   "outputs": [
    {
     "name": "stdout",
     "output_type": "stream",
     "text": [
      "Number of training examples 484\n",
      "Number of validation examples 122\n",
      "Number of testing examples 606\n"
     ]
    }
   ],
   "source": [
    "X_train = np.load('./valley/X_train.npy')\n",
    "y_train = np.load('./valley/y_train.npy')\n",
    "X_test = np.load('./valley/X_test.npy')\n",
    "y_test = np.load('./valley/y_test.npy')\n",
    "X_deploy = np.load('./valley/X_deploy.npy')\n",
    "y_deploy = np.load('./valley/y_deploy.npy')\n",
    "print('Number of training examples',len(X_train))\n",
    "print('Number of validation examples',len(X_test))\n",
    "print('Number of testing examples',len(X_deploy))"
   ]
  },
  {
   "cell_type": "code",
   "execution_count": 4,
   "metadata": {
    "collapsed": false
   },
   "outputs": [],
   "source": [
    "exec(open(\"core.py\").read())  # pyhton 3x"
   ]
  },
  {
   "cell_type": "markdown",
   "metadata": {},
   "source": [
    "## Run Thompson Sampling pruning Algorithm"
   ]
  },
  {
   "cell_type": "code",
   "execution_count": 5,
   "metadata": {
    "collapsed": false
   },
   "outputs": [
    {
     "name": "stderr",
     "output_type": "stream",
     "text": [
      "/Library/Frameworks/Python.framework/Versions/3.6/lib/python3.6/site-packages/sklearn/cross_validation.py:44: DeprecationWarning: This module was deprecated in version 0.18 in favor of the model_selection module into which all the refactored classes and functions are moved. Also note that the interface of the new CV iterators are different from that of this module. This module will be removed in 0.20.\n",
      "  \"This module will be removed in 0.20.\", DeprecationWarning)\n",
      "Using Theano backend.\n"
     ]
    },
    {
     "name": "stdout",
     "output_type": "stream",
     "text": [
      "Test fraction correct (NN-Score) = 0.70\n",
      "Test fraction correct (NN-Accuracy) = 0.58\n",
      "The time for running this method is 0.21459412574768066 seconds \n",
      "Finsh playing start pruining:\n",
      "Test after pruning= 0.58\n",
      "Test after pruning= 0.58\n",
      "Test after pruning= 0.58\n",
      "Test after pruning= 0.59\n",
      "Test after pruning= 0.59\n",
      "Test after pruning= 0.59\n",
      "Test after pruning= 0.59\n",
      "Test after pruning= 0.59\n",
      "Test after pruning= 0.59\n",
      "Test after pruning= 0.59\n",
      "Test after pruning= 0.59\n",
      "Test after pruning= 0.59\n",
      "Test after pruning= 0.59\n",
      "Test after pruning= 0.60\n",
      "Test after pruning= 0.60\n",
      "Test after pruning= 0.60\n",
      "Test after pruning= 0.59\n",
      "Test after pruning= 0.59\n",
      "Test after pruning= 0.59\n",
      "Test after pruning= 0.58\n",
      "Test after pruning= 0.59\n",
      "Test after pruning= 0.59\n",
      "Test after pruning= 0.59\n",
      "Test after pruning= 0.60\n",
      "Test after pruning= 0.60\n",
      "Test after pruning= 0.61\n",
      "Test after pruning= 0.60\n",
      "Test after pruning= 0.60\n",
      "Test after pruning= 0.57\n",
      "Test after pruning= 0.57\n",
      "Test after pruning= 0.57\n",
      "Test after pruning= 0.56\n",
      "Test after pruning= 0.56\n",
      "Test after pruning= 0.55\n",
      "Test after pruning= 0.57\n",
      "Test after pruning= 0.56\n",
      "Test after pruning= 0.54\n",
      "Test after pruning= 0.55\n",
      "Test after pruning= 0.53\n",
      "Test after pruning= 0.49\n"
     ]
    },
    {
     "data": {
      "image/png": "[encoded data removed]",
      "text/plain": [
       "<matplotlib.figure.Figure at 0x10d3629b0>"
      ]
     },
     "metadata": {},
     "output_type": "display_data"
    }
   ],
   "source": [
    "algo = Thompson_Sampling([], [])\n",
    "Alg_name = 'Thompson_Sampling Algorithm'\n",
    "path = './Thompson_Sampling/'\n",
    "sys.path.append(\"./Thompson_Sampling\")\n",
    "exec(open(\"mnist_cnnFORTESTING.py\").read())"
   ]
  },
  {
   "cell_type": "markdown",
   "metadata": {},
   "source": [
    "## Run UCB1 pruning Algorithm"
   ]
  },
  {
   "cell_type": "code",
   "execution_count": 6,
   "metadata": {
    "collapsed": false
   },
   "outputs": [
    {
     "name": "stdout",
     "output_type": "stream",
     "text": [
      "Test fraction correct (NN-Score) = 0.70\n",
      "Test fraction correct (NN-Accuracy) = 0.58\n",
      "The time for running this method is 0.2214648723602295 seconds \n",
      "Finsh playing start pruining:\n",
      "Test after pruning= 0.58\n",
      "Test after pruning= 0.59\n",
      "Test after pruning= 0.59\n",
      "Test after pruning= 0.58\n",
      "Test after pruning= 0.58\n",
      "Test after pruning= 0.58\n",
      "Test after pruning= 0.58\n",
      "Test after pruning= 0.58\n",
      "Test after pruning= 0.58\n",
      "Test after pruning= 0.59\n",
      "Test after pruning= 0.58\n",
      "Test after pruning= 0.58\n",
      "Test after pruning= 0.59\n",
      "Test after pruning= 0.59\n",
      "Test after pruning= 0.59\n",
      "Test after pruning= 0.58\n",
      "Test after pruning= 0.58\n",
      "Test after pruning= 0.58\n",
      "Test after pruning= 0.58\n",
      "Test after pruning= 0.58\n",
      "Test after pruning= 0.58\n",
      "Test after pruning= 0.58\n",
      "Test after pruning= 0.58\n",
      "Test after pruning= 0.58\n",
      "Test after pruning= 0.58\n",
      "Test after pruning= 0.58\n",
      "Test after pruning= 0.58\n",
      "Test after pruning= 0.58\n",
      "Test after pruning= 0.58\n",
      "Test after pruning= 0.57\n",
      "Test after pruning= 0.57\n",
      "Test after pruning= 0.58\n",
      "Test after pruning= 0.57\n",
      "Test after pruning= 0.57\n",
      "Test after pruning= 0.57\n",
      "Test after pruning= 0.56\n",
      "Test after pruning= 0.56\n",
      "Test after pruning= 0.55\n",
      "Test after pruning= 0.57\n",
      "Test after pruning= 0.49\n"
     ]
    },
    {
     "data": {
      "image/png": "[encoded data removed]",
      "text/plain": [
       "<matplotlib.figure.Figure at 0x10e5a3f98>"
      ]
     },
     "metadata": {},
     "output_type": "display_data"
    }
   ],
   "source": [
    "algo = UCB1([], [])\n",
    "Alg_name = 'UCB1 Algorithm'\n",
    "path = './UCB1/'\n",
    "sys.path.append(\"./UCB1\")\n",
    "exec(open(\"mnist_cnnFORTESTING.py\").read())"
   ]
  },
  {
   "cell_type": "markdown",
   "metadata": {
    "collapsed": true
   },
   "source": [
    "# Compare the accuracy"
   ]
  },
  {
   "cell_type": "code",
   "execution_count": 7,
   "metadata": {
    "collapsed": true
   },
   "outputs": [],
   "source": [
    "ucb1 = np.load('./UCB1/AccuracyAftrerPrune.npy')\n",
    "ThompsonSampling = np.load('./Thompson_Sampling/AccuracyAftrerPrune.npy')\n",
    "Accuracy = np.load('AccuracyBeforePruning.npy')"
   ]
  },
  {
   "cell_type": "code",
   "execution_count": 8,
   "metadata": {
    "collapsed": false
   },
   "outputs": [
    {
     "data": {
      "image/png": "[encoded data removed]",
      "text/plain": [
       "<matplotlib.figure.Figure at 0x10e1daac8>"
      ]
     },
     "metadata": {},
     "output_type": "display_data"
    }
   ],
   "source": [
    "fig = plt.figure(figsize=(10, 6), dpi=80)\n",
    "ax = fig.add_subplot(111)\n",
    "N = len(ucb1)\n",
    "ind = np.arange(N)                # the x locations for the groups\n",
    "plt.plot(ind , ucb1 , color=\"blue\", linewidth=2.5, linestyle=\"-\", label=\"UCB1\")\n",
    "plt.plot(ind , ThompsonSampling, color=\"orange\", linewidth=2.5, linestyle=\"-\", label=\"Thompson Sampling\")\n",
    "plt.legend(loc = 3)\n",
    "plt.axis([0, 25, 0, 1])\n",
    "plt.xlabel('Number of pruned Neurons')\n",
    "plt.ylabel('The Accuracy')\n",
    "plt.grid(True)\n",
    "plt.show()"
   ]
  },
  {
   "cell_type": "code",
   "execution_count": 9,
   "metadata": {
    "collapsed": false
   },
   "outputs": [
    {
     "data": {
      "text/html": [
       "\n",
       "\n",
       "    <div class=\"bk-root\">\n",
       "        <div class=\"bk-plotdiv\" id=\"80aba29b-fcce-46c6-96f8-31c101e43d9f\"></div>\n",
       "    </div>\n",
       "<script type=\"text/javascript\">\n",
       "  \n",
       "  (function(global) {\n",
       "    function now() {\n",
       "      return new Date();\n",
       "    }\n",
       "  \n",
       "    var force = false;\n",
       "  \n",
       "    if (typeof (window._bokeh_onload_callbacks) === \"undefined\" || force === true) {\n",
       "      window._bokeh_onload_callbacks = [];\n",
       "      window._bokeh_is_loading = undefined;\n",
       "    }\n",
       "  \n",
       "  \n",
       "    \n",
       "    if (typeof (window._bokeh_timeout) === \"undefined\" || force === true) {\n",
       "      window._bokeh_timeout = Date.now() + 0;\n",
       "      window._bokeh_failed_load = false;\n",
       "    }\n",
       "  \n",
       "    var NB_LOAD_WARNING = {'data': {'text/html':\n",
       "       \"<div style='background-color: #fdd'>\\n\"+\n",
       "       \"<p>\\n\"+\n",
       "       \"BokehJS does not appear to have successfully loaded. If loading BokehJS from CDN, this \\n\"+\n",
       "       \"may be due to a slow or bad network connection. Possible fixes:\\n\"+\n",
       "       \"</p>\\n\"+\n",
       "       \"<ul>\\n\"+\n",
       "       \"<li>re-rerun `output_notebook()` to attempt to load from CDN again, or</li>\\n\"+\n",
       "       \"<li>use INLINE resources instead, as so:</li>\\n\"+\n",
       "       \"</ul>\\n\"+\n",
       "       \"<code>\\n\"+\n",
       "       \"from bokeh.resources import INLINE\\n\"+\n",
       "       \"output_notebook(resources=INLINE)\\n\"+\n",
       "       \"</code>\\n\"+\n",
       "       \"</div>\"}};\n",
       "  \n",
       "    function display_loaded() {\n",
       "      if (window.Bokeh !== undefined) {\n",
       "        document.getElementById(\"80aba29b-fcce-46c6-96f8-31c101e43d9f\").textContent = \"BokehJS successfully loaded.\";\n",
       "      } else if (Date.now() < window._bokeh_timeout) {\n",
       "        setTimeout(display_loaded, 100)\n",
       "      }\n",
       "    }\n",
       "  \n",
       "    function run_callbacks() {\n",
       "      window._bokeh_onload_callbacks.forEach(function(callback) { callback() });\n",
       "      delete window._bokeh_onload_callbacks\n",
       "      console.info(\"Bokeh: all callbacks have finished\");\n",
       "    }\n",
       "  \n",
       "    function load_libs(js_urls, callback) {\n",
       "      window._bokeh_onload_callbacks.push(callback);\n",
       "      if (window._bokeh_is_loading > 0) {\n",
       "        console.log(\"Bokeh: BokehJS is being loaded, scheduling callback at\", now());\n",
       "        return null;\n",
       "      }\n",
       "      if (js_urls == null || js_urls.length === 0) {\n",
       "        run_callbacks();\n",
       "        return null;\n",
       "      }\n",
       "      console.log(\"Bokeh: BokehJS not loaded, scheduling load and callback at\", now());\n",
       "      window._bokeh_is_loading = js_urls.length;\n",
       "      for (var i = 0; i < js_urls.length; i++) {\n",
       "        var url = js_urls[i];\n",
       "        var s = document.createElement('script');\n",
       "        s.src = url;\n",
       "        s.async = false;\n",
       "        s.onreadystatechange = s.onload = function() {\n",
       "          window._bokeh_is_loading--;\n",
       "          if (window._bokeh_is_loading === 0) {\n",
       "            console.log(\"Bokeh: all BokehJS libraries loaded\");\n",
       "            run_callbacks()\n",
       "          }\n",
       "        };\n",
       "        s.onerror = function() {\n",
       "          console.warn(\"failed to load library \" + url);\n",
       "        };\n",
       "        console.log(\"Bokeh: injecting script tag for BokehJS library: \", url);\n",
       "        document.getElementsByTagName(\"head\")[0].appendChild(s);\n",
       "      }\n",
       "    };var element = document.getElementById(\"80aba29b-fcce-46c6-96f8-31c101e43d9f\");\n",
       "    if (element == null) {\n",
       "      console.log(\"Bokeh: ERROR: autoload.js configured with elementid '80aba29b-fcce-46c6-96f8-31c101e43d9f' but no matching script tag was found. \")\n",
       "      return false;\n",
       "    }\n",
       "  \n",
       "    var js_urls = [];\n",
       "  \n",
       "    var inline_js = [\n",
       "      function(Bokeh) {\n",
       "        (function() {\n",
       "          var fn = function() {\n",
       "            var docs_json = {\"9788f57e-9cd7-4612-895e-e28b715cc0c5\":{\"roots\":{\"references\":[{\"attributes\":{},\"id\":\"861498fa-a568-424f-8025-6a1fa16b43c0\",\"type\":\"ToolEvents\"},{\"attributes\":{\"callback\":null,\"overlay\":{\"id\":\"ffd7f0ff-1a88-4e76-ac5e-bd1b63ae6eb8\",\"type\":\"BoxAnnotation\"},\"plot\":{\"id\":\"bc0d80dc-2414-4330-8214-eb68db6e19e9\",\"subtype\":\"Figure\",\"type\":\"Plot\"},\"renderers\":[{\"id\":\"00e425e5-9099-4dc4-a91c-11f16ad7dd59\",\"type\":\"GlyphRenderer\"},{\"id\":\"83038a72-6903-44a5-80bf-afffae032136\",\"type\":\"GlyphRenderer\"}]},\"id\":\"78f8cdb7-7399-4e26-be7f-bcb9470ea556\",\"type\":\"BoxSelectTool\"},{\"attributes\":{\"callback\":null,\"column_names\":[\"x\",\"y\"],\"data\":{\"x\":[0,1,2,3,4,5,6,7,8,9,10,11,12,13,14,15,16,17,18,19,20,21,22,23,24,25,26,27,28,29,30,31,32,33,34,35,36,37,38,39],\"y\":{\"__ndarray__\":\"YjTeV+ij4j9DHxUJ34jiP+oFV/dsseI/IqgXnPG+4j8iqBec8b7iPyKoF5zxvuI/IqgXnPG+4j/SeF+h8b7iP7nrZ0t2zOI/uetnS3bM4j/YADGaf+fiP9gAMZp/5+I/EKPxPgT14j+A53KIDRDjP4DncogNEOM/gOdyiA0Q4z8FJp06BPXiPykw6ZR/5+I/KTDplH/n4j+a1p78bLHiPx6zlJB/5+I/HrOUkH/n4j8FJp06BPXiP5R/59IWK+M/A8RoHCBG4z/mENRrKWHjP/6dy8GkU+M/rAzfKJId4z/p1DwowzfiP7EyfIM+KuI/vK/Qhz4q4j8OQb2gItnhPyPZMesr9OE/EKPxvgaI4T9AjMYbUWDiPw5BvaAi2eE/RIFJd/1s4T/T2pMPEKPhP1+hj/rO5eA/vK/Qp7Un3z8=\",\"dtype\":\"float64\",\"shape\":[40]}}},\"id\":\"bfe7359d-dd5c-4087-9883-e3d49c74f585\",\"type\":\"ColumnDataSource\"},{\"attributes\":{\"callback\":null},\"id\":\"7019eb12-d7ed-4968-a9d3-4cf83e2a485b\",\"type\":\"DataRange1d\"},{\"attributes\":{\"align\":\"center\",\"plot\":null,\"text\":\"The Performance over the number of neurons' pruned\"},\"id\":\"57e6543a-2dc5-4393-94c9-a36fd82ca993\",\"type\":\"Title\"},{\"attributes\":{\"active_drag\":\"auto\",\"active_scroll\":\"auto\",\"active_tap\":\"auto\",\"tools\":[{\"id\":\"c7a98ccf-ee8f-4ef8-962e-0e8f456c7de7\",\"type\":\"BoxZoomTool\"},{\"id\":\"78f8cdb7-7399-4e26-be7f-bcb9470ea556\",\"type\":\"BoxSelectTool\"},{\"id\":\"1c92a916-7f74-40f2-80c3-05c372cf9af7\",\"type\":\"CrosshairTool\"},{\"id\":\"8c24e36c-a18a-4e1e-b861-da807c535bd6\",\"type\":\"ResizeTool\"},{\"id\":\"10135ccf-1de9-431f-bebf-da987c716edb\",\"type\":\"ResetTool\"},{\"id\":\"e76941bd-d55c-40d3-9279-dfd423c3fcb3\",\"type\":\"LassoSelectTool\"},{\"id\":\"2de3b842-21e7-4801-b873-a6aa67a00b5e\",\"type\":\"PanTool\"},{\"id\":\"2cfac74c-e732-40aa-9956-ecef6c359303\",\"type\":\"SaveTool\"},{\"id\":\"75501981-d528-4ae4-b9c0-3f07d0180617\",\"type\":\"PolySelectTool\"},{\"id\":\"ed48a3cd-afb8-483b-8664-38e2f866a3dd\",\"type\":\"TapTool\"},{\"id\":\"f8b8a9e4-abd2-4e81-91a8-0406f7c88c49\",\"type\":\"WheelZoomTool\"},{\"id\":\"f3169cb9-0261-4728-ac97-3d7af6105f86\",\"type\":\"UndoTool\"}]},\"id\":\"4ce51e33-c119-418f-9fe3-acbe7d389c76\",\"type\":\"Toolbar\"},{\"attributes\":{\"plot\":{\"id\":\"bc0d80dc-2414-4330-8214-eb68db6e19e9\",\"subtype\":\"Figure\",\"type\":\"Plot\"}},\"id\":\"1c92a916-7f74-40f2-80c3-05c372cf9af7\",\"type\":\"CrosshairTool\"},{\"attributes\":{\"below\":[{\"id\":\"e530e58f-147f-47cf-af15-a5e6ded386dc\",\"type\":\"LinearAxis\"}],\"left\":[{\"id\":\"c5914506-6df2-4623-9c3e-bbe30219101f\",\"type\":\"LinearAxis\"}],\"renderers\":[{\"id\":\"e530e58f-147f-47cf-af15-a5e6ded386dc\",\"type\":\"LinearAxis\"},{\"id\":\"74a98571-9967-4462-85af-75742bcb6507\",\"type\":\"Grid\"},{\"id\":\"c5914506-6df2-4623-9c3e-bbe30219101f\",\"type\":\"LinearAxis\"},{\"id\":\"a01984a4-c4a3-4203-a9f7-6a1d5ae09098\",\"type\":\"Grid\"},{\"id\":\"9d00a337-9dbc-4ec8-9775-0996302b6050\",\"type\":\"BoxAnnotation\"},{\"id\":\"ffd7f0ff-1a88-4e76-ac5e-bd1b63ae6eb8\",\"type\":\"BoxAnnotation\"},{\"id\":\"e0d759d9-c913-485b-91db-4a3915b0201e\",\"type\":\"PolyAnnotation\"},{\"id\":\"c20f8e6b-ae3e-4b8f-8781-cc2f02137a98\",\"type\":\"PolyAnnotation\"},{\"id\":\"9a59c03e-23f5-473b-8606-219950735fb5\",\"type\":\"Legend\"},{\"id\":\"00e425e5-9099-4dc4-a91c-11f16ad7dd59\",\"type\":\"GlyphRenderer\"},{\"id\":\"83038a72-6903-44a5-80bf-afffae032136\",\"type\":\"GlyphRenderer\"}],\"title\":{\"id\":\"57e6543a-2dc5-4393-94c9-a36fd82ca993\",\"type\":\"Title\"},\"tool_events\":{\"id\":\"861498fa-a568-424f-8025-6a1fa16b43c0\",\"type\":\"ToolEvents\"},\"toolbar\":{\"id\":\"4ce51e33-c119-418f-9fe3-acbe7d389c76\",\"type\":\"Toolbar\"},\"x_range\":{\"id\":\"7019eb12-d7ed-4968-a9d3-4cf83e2a485b\",\"type\":\"DataRange1d\"},\"y_range\":{\"id\":\"1f8b77aa-b959-41f5-9112-e8d323a08bef\",\"type\":\"DataRange1d\"}},\"id\":\"bc0d80dc-2414-4330-8214-eb68db6e19e9\",\"subtype\":\"Figure\",\"type\":\"Plot\"},{\"attributes\":{\"line_color\":{\"value\":\"blue\"},\"line_width\":{\"value\":2},\"x\":{\"field\":\"x\"},\"y\":{\"field\":\"y\"}},\"id\":\"7eb76f27-6d5b-4194-a408-9bc78f47c0a6\",\"type\":\"Line\"},{\"attributes\":{\"dimension\":1,\"plot\":{\"id\":\"bc0d80dc-2414-4330-8214-eb68db6e19e9\",\"subtype\":\"Figure\",\"type\":\"Plot\"},\"ticker\":{\"id\":\"6c88f07a-1123-4f37-8038-243c03eb70f6\",\"type\":\"BasicTicker\"}},\"id\":\"a01984a4-c4a3-4203-a9f7-6a1d5ae09098\",\"type\":\"Grid\"},{\"attributes\":{\"label\":{\"value\":\"ucb1\"},\"renderers\":[{\"id\":\"00e425e5-9099-4dc4-a91c-11f16ad7dd59\",\"type\":\"GlyphRenderer\"}]},\"id\":\"7fe5dd61-f2d5-4723-88bd-b675bee4c64f\",\"type\":\"LegendItem\"},{\"attributes\":{\"label\":{\"value\":\"Thompson Sampling\"},\"renderers\":[{\"id\":\"83038a72-6903-44a5-80bf-afffae032136\",\"type\":\"GlyphRenderer\"}]},\"id\":\"b5501896-6950-4634-bbba-856c47e0708c\",\"type\":\"LegendItem\"},{\"attributes\":{\"line_alpha\":{\"value\":0.1},\"line_color\":{\"value\":\"#1f77b4\"},\"line_width\":{\"value\":2},\"x\":{\"field\":\"x\"},\"y\":{\"field\":\"y\"}},\"id\":\"9bfeae7e-e7a3-460b-b798-c21a2016bff9\",\"type\":\"Line\"},{\"attributes\":{\"formatter\":{\"id\":\"3be92f7a-d66e-471e-9001-7b0e9cf1c30d\",\"type\":\"BasicTickFormatter\"},\"plot\":{\"id\":\"bc0d80dc-2414-4330-8214-eb68db6e19e9\",\"subtype\":\"Figure\",\"type\":\"Plot\"},\"ticker\":{\"id\":\"af51ba87-8f36-46ee-b5f1-55a3d1c10fc4\",\"type\":\"BasicTicker\"}},\"id\":\"e530e58f-147f-47cf-af15-a5e6ded386dc\",\"type\":\"LinearAxis\"},{\"attributes\":{\"line_color\":{\"value\":\"red\"},\"line_width\":{\"value\":2},\"x\":{\"field\":\"x\"},\"y\":{\"field\":\"y\"}},\"id\":\"74469fa0-af7d-4433-a822-fe86a2dd6d87\",\"type\":\"Line\"},{\"attributes\":{\"data_source\":{\"id\":\"bfe7359d-dd5c-4087-9883-e3d49c74f585\",\"type\":\"ColumnDataSource\"},\"glyph\":{\"id\":\"74469fa0-af7d-4433-a822-fe86a2dd6d87\",\"type\":\"Line\"},\"hover_glyph\":null,\"nonselection_glyph\":{\"id\":\"9bfeae7e-e7a3-460b-b798-c21a2016bff9\",\"type\":\"Line\"},\"selection_glyph\":null},\"id\":\"83038a72-6903-44a5-80bf-afffae032136\",\"type\":\"GlyphRenderer\"},{\"attributes\":{},\"id\":\"af51ba87-8f36-46ee-b5f1-55a3d1c10fc4\",\"type\":\"BasicTicker\"},{\"attributes\":{\"plot\":{\"id\":\"bc0d80dc-2414-4330-8214-eb68db6e19e9\",\"subtype\":\"Figure\",\"type\":\"Plot\"},\"ticker\":{\"id\":\"af51ba87-8f36-46ee-b5f1-55a3d1c10fc4\",\"type\":\"BasicTicker\"}},\"id\":\"74a98571-9967-4462-85af-75742bcb6507\",\"type\":\"Grid\"},{\"attributes\":{\"formatter\":{\"id\":\"c635764e-1e15-4a65-854a-685852877902\",\"type\":\"BasicTickFormatter\"},\"plot\":{\"id\":\"bc0d80dc-2414-4330-8214-eb68db6e19e9\",\"subtype\":\"Figure\",\"type\":\"Plot\"},\"ticker\":{\"id\":\"6c88f07a-1123-4f37-8038-243c03eb70f6\",\"type\":\"BasicTicker\"}},\"id\":\"c5914506-6df2-4623-9c3e-bbe30219101f\",\"type\":\"LinearAxis\"},{\"attributes\":{},\"id\":\"6c88f07a-1123-4f37-8038-243c03eb70f6\",\"type\":\"BasicTicker\"},{\"attributes\":{\"data_source\":{\"id\":\"de22e99c-b2b3-437e-99b3-5715693db53d\",\"type\":\"ColumnDataSource\"},\"glyph\":{\"id\":\"7eb76f27-6d5b-4194-a408-9bc78f47c0a6\",\"type\":\"Line\"},\"hover_glyph\":null,\"nonselection_glyph\":{\"id\":\"55dc9696-2e53-4612-8c15-dd830e92e759\",\"type\":\"Line\"},\"selection_glyph\":null},\"id\":\"00e425e5-9099-4dc4-a91c-11f16ad7dd59\",\"type\":\"GlyphRenderer\"},{\"attributes\":{\"plot\":{\"id\":\"bc0d80dc-2414-4330-8214-eb68db6e19e9\",\"subtype\":\"Figure\",\"type\":\"Plot\"}},\"id\":\"10135ccf-1de9-431f-bebf-da987c716edb\",\"type\":\"ResetTool\"},{\"attributes\":{\"line_alpha\":{\"value\":0.1},\"line_color\":{\"value\":\"#1f77b4\"},\"line_width\":{\"value\":2},\"x\":{\"field\":\"x\"},\"y\":{\"field\":\"y\"}},\"id\":\"55dc9696-2e53-4612-8c15-dd830e92e759\",\"type\":\"Line\"},{\"attributes\":{\"plot\":{\"id\":\"bc0d80dc-2414-4330-8214-eb68db6e19e9\",\"subtype\":\"Figure\",\"type\":\"Plot\"}},\"id\":\"2cfac74c-e732-40aa-9956-ecef6c359303\",\"type\":\"SaveTool\"},{\"attributes\":{\"plot\":{\"id\":\"bc0d80dc-2414-4330-8214-eb68db6e19e9\",\"subtype\":\"Figure\",\"type\":\"Plot\"}},\"id\":\"2de3b842-21e7-4801-b873-a6aa67a00b5e\",\"type\":\"PanTool\"},{\"attributes\":{},\"id\":\"c635764e-1e15-4a65-854a-685852877902\",\"type\":\"BasicTickFormatter\"},{\"attributes\":{\"fill_alpha\":{\"value\":0.5},\"fill_color\":{\"value\":\"lightgrey\"},\"level\":\"overlay\",\"line_alpha\":{\"value\":1.0},\"line_color\":{\"value\":\"black\"},\"line_dash\":[4,4],\"line_width\":{\"value\":2},\"plot\":null,\"xs_units\":\"screen\",\"ys_units\":\"screen\"},\"id\":\"e0d759d9-c913-485b-91db-4a3915b0201e\",\"type\":\"PolyAnnotation\"},{\"attributes\":{},\"id\":\"3be92f7a-d66e-471e-9001-7b0e9cf1c30d\",\"type\":\"BasicTickFormatter\"},{\"attributes\":{\"overlay\":{\"id\":\"9d00a337-9dbc-4ec8-9775-0996302b6050\",\"type\":\"BoxAnnotation\"},\"plot\":{\"id\":\"bc0d80dc-2414-4330-8214-eb68db6e19e9\",\"subtype\":\"Figure\",\"type\":\"Plot\"}},\"id\":\"c7a98ccf-ee8f-4ef8-962e-0e8f456c7de7\",\"type\":\"BoxZoomTool\"},{\"attributes\":{\"callback\":null,\"overlay\":{\"id\":\"e0d759d9-c913-485b-91db-4a3915b0201e\",\"type\":\"PolyAnnotation\"},\"plot\":{\"id\":\"bc0d80dc-2414-4330-8214-eb68db6e19e9\",\"subtype\":\"Figure\",\"type\":\"Plot\"}},\"id\":\"e76941bd-d55c-40d3-9279-dfd423c3fcb3\",\"type\":\"LassoSelectTool\"},{\"attributes\":{\"fill_alpha\":{\"value\":0.5},\"fill_color\":{\"value\":\"lightgrey\"},\"level\":\"overlay\",\"line_alpha\":{\"value\":1.0},\"line_color\":{\"value\":\"black\"},\"line_dash\":[4,4],\"line_width\":{\"value\":2},\"plot\":null,\"xs_units\":\"screen\",\"ys_units\":\"screen\"},\"id\":\"c20f8e6b-ae3e-4b8f-8781-cc2f02137a98\",\"type\":\"PolyAnnotation\"},{\"attributes\":{\"plot\":{\"id\":\"bc0d80dc-2414-4330-8214-eb68db6e19e9\",\"subtype\":\"Figure\",\"type\":\"Plot\"}},\"id\":\"8c24e36c-a18a-4e1e-b861-da807c535bd6\",\"type\":\"ResizeTool\"},{\"attributes\":{\"items\":[{\"id\":\"7fe5dd61-f2d5-4723-88bd-b675bee4c64f\",\"type\":\"LegendItem\"},{\"id\":\"b5501896-6950-4634-bbba-856c47e0708c\",\"type\":\"LegendItem\"}],\"plot\":{\"id\":\"bc0d80dc-2414-4330-8214-eb68db6e19e9\",\"subtype\":\"Figure\",\"type\":\"Plot\"}},\"id\":\"9a59c03e-23f5-473b-8606-219950735fb5\",\"type\":\"Legend\"},{\"attributes\":{\"plot\":{\"id\":\"bc0d80dc-2414-4330-8214-eb68db6e19e9\",\"subtype\":\"Figure\",\"type\":\"Plot\"}},\"id\":\"f8b8a9e4-abd2-4e81-91a8-0406f7c88c49\",\"type\":\"WheelZoomTool\"},{\"attributes\":{\"bottom_units\":\"screen\",\"fill_alpha\":{\"value\":0.5},\"fill_color\":{\"value\":\"lightgrey\"},\"left_units\":\"screen\",\"level\":\"overlay\",\"line_alpha\":{\"value\":1.0},\"line_color\":{\"value\":\"black\"},\"line_dash\":[4,4],\"line_width\":{\"value\":2},\"plot\":null,\"render_mode\":\"css\",\"right_units\":\"screen\",\"top_units\":\"screen\"},\"id\":\"9d00a337-9dbc-4ec8-9775-0996302b6050\",\"type\":\"BoxAnnotation\"},{\"attributes\":{\"overlay\":{\"id\":\"c20f8e6b-ae3e-4b8f-8781-cc2f02137a98\",\"type\":\"PolyAnnotation\"},\"plot\":{\"id\":\"bc0d80dc-2414-4330-8214-eb68db6e19e9\",\"subtype\":\"Figure\",\"type\":\"Plot\"}},\"id\":\"75501981-d528-4ae4-b9c0-3f07d0180617\",\"type\":\"PolySelectTool\"},{\"attributes\":{\"callback\":null},\"id\":\"1f8b77aa-b959-41f5-9112-e8d323a08bef\",\"type\":\"DataRange1d\"},{\"attributes\":{\"callback\":null,\"plot\":{\"id\":\"bc0d80dc-2414-4330-8214-eb68db6e19e9\",\"subtype\":\"Figure\",\"type\":\"Plot\"}},\"id\":\"ed48a3cd-afb8-483b-8664-38e2f866a3dd\",\"type\":\"TapTool\"},{\"attributes\":{\"plot\":{\"id\":\"bc0d80dc-2414-4330-8214-eb68db6e19e9\",\"subtype\":\"Figure\",\"type\":\"Plot\"}},\"id\":\"f3169cb9-0261-4728-ac97-3d7af6105f86\",\"type\":\"UndoTool\"},{\"attributes\":{\"callback\":null,\"column_names\":[\"x\",\"y\"],\"data\":{\"x\":[0,1,2,3,4,5,6,7,8,9,10,11,12,13,14,15,16,17,18,19,20,21,22,23,24,25,26,27,28,29,30,31,32,33,34,35,36,37,38,39],\"y\":{\"__ndarray__\":\"YjTeV+ij4j9BveDq+tniP0G94Or62eI/smOWUuij4j97wdWtY5biP3vB1a1jluI/e8HVrWOW4j97wdWtY5biP+oFV/dsseI/CRsgRnbM4j+a1p78bLHiP5rWnvxsseI/uetnS3bM4j/xjSjw+tniP7nrZ0t2zOI/e8HVrWOW4j9DHxUJ34jiPwt9VGRae+I/e8HVrWOW4j97wdWtY5biP3vB1a1jluI/e8HVrWOW4j+yY5ZS6KPiP7JjllLoo+I/6gVX92yx4j9DHxUJ34jiP0MfFQnfiOI/09qTv9Vt4j/T2pO/1W3iP2SWEnbMUuI/ZJYSdsxS4j8LfVRkWnviP2SWEnbMUuI/ZJYSdsxS4j8N34iCPiriP/WCqzs1D+I/veDqlrAB4j8LfVS0lLDhP+ijIinDN+I/vK/Qp7Un3z8=\",\"dtype\":\"float64\",\"shape\":[40]}}},\"id\":\"de22e99c-b2b3-437e-99b3-5715693db53d\",\"type\":\"ColumnDataSource\"},{\"attributes\":{\"bottom_units\":\"screen\",\"fill_alpha\":{\"value\":0.5},\"fill_color\":{\"value\":\"lightgrey\"},\"left_units\":\"screen\",\"level\":\"overlay\",\"line_alpha\":{\"value\":1.0},\"line_color\":{\"value\":\"black\"},\"line_dash\":[4,4],\"line_width\":{\"value\":2},\"plot\":null,\"render_mode\":\"css\",\"right_units\":\"screen\",\"top_units\":\"screen\"},\"id\":\"ffd7f0ff-1a88-4e76-ac5e-bd1b63ae6eb8\",\"type\":\"BoxAnnotation\"}],\"root_ids\":[\"bc0d80dc-2414-4330-8214-eb68db6e19e9\"]},\"title\":\"Bokeh Application\",\"version\":\"0.12.4\"}};\n",
       "            var render_items = [{\"docid\":\"9788f57e-9cd7-4612-895e-e28b715cc0c5\",\"elementid\":\"80aba29b-fcce-46c6-96f8-31c101e43d9f\",\"modelid\":\"bc0d80dc-2414-4330-8214-eb68db6e19e9\"}];\n",
       "            \n",
       "            Bokeh.embed.embed_items(docs_json, render_items);\n",
       "          };\n",
       "          if (document.readyState != \"loading\") fn();\n",
       "          else document.addEventListener(\"DOMContentLoaded\", fn);\n",
       "        })();\n",
       "      },\n",
       "      function(Bokeh) {\n",
       "      }\n",
       "    ];\n",
       "  \n",
       "    function run_inline_js() {\n",
       "      \n",
       "      if ((window.Bokeh !== undefined) || (force === true)) {\n",
       "        for (var i = 0; i < inline_js.length; i++) {\n",
       "          inline_js[i](window.Bokeh);\n",
       "        }if (force === true) {\n",
       "          display_loaded();\n",
       "        }} else if (Date.now() < window._bokeh_timeout) {\n",
       "        setTimeout(run_inline_js, 100);\n",
       "      } else if (!window._bokeh_failed_load) {\n",
       "        console.log(\"Bokeh: BokehJS failed to load within specified timeout.\");\n",
       "        window._bokeh_failed_load = true;\n",
       "      } else if (force !== true) {\n",
       "        var cell = $(document.getElementById(\"80aba29b-fcce-46c6-96f8-31c101e43d9f\")).parents('.cell').data().cell;\n",
       "        cell.output_area.append_execute_result(NB_LOAD_WARNING)\n",
       "      }\n",
       "  \n",
       "    }\n",
       "  \n",
       "    if (window._bokeh_is_loading === 0) {\n",
       "      console.log(\"Bokeh: BokehJS loaded, going straight to plotting\");\n",
       "      run_inline_js();\n",
       "    } else {\n",
       "      load_libs(js_urls, function() {\n",
       "        console.log(\"Bokeh: BokehJS plotting callback run at\", now());\n",
       "        run_inline_js();\n",
       "      });\n",
       "    }\n",
       "  }(this));\n",
       "</script>"
      ]
     },
     "metadata": {},
     "output_type": "display_data"
    }
   ],
   "source": [
    "p1 = figure(title=\"The Performance over the number of neurons' pruned\", tools=TOOLS)\n",
    "p1.line(ind, ucb1, legend=\"ucb1\", line_color=\"blue\", line_width=2)\n",
    "p1.line(ind, ThompsonSampling, legend=\"Thompson Sampling\", line_color=\"red\", line_width=2)\n",
    "p1.title.align = \"center\"\n",
    "show(p1)"
   ]
  },
  {
   "cell_type": "markdown",
   "metadata": {},
   "source": [
    "# Comparing All algorithms with the model before pruning"
   ]
  },
  {
   "cell_type": "code",
   "execution_count": 10,
   "metadata": {
    "collapsed": false
   },
   "outputs": [
    {
     "data": {
      "image/png": "[encoded data removed]",
      "text/plain": [
       "<matplotlib.figure.Figure at 0x10e60f9b0>"
      ]
     },
     "metadata": {},
     "output_type": "display_data"
    }
   ],
   "source": [
    "fig = plt.figure(figsize=(10, 6), dpi=80)\n",
    "ax = fig.add_subplot(111)\n",
    "N = len(ucb1)\n",
    "Acc = [Accuracy for col in range(N)]\n",
    "ind = np.arange(N)                # the x locations for the groups\n",
    "plt.plot(ind , ucb1 , color=\"blue\", linewidth=2.5, linestyle=\"-\", label=\"UCB1\")\n",
    "plt.plot(ind , ThompsonSampling, color=\"orange\", linewidth=2.5, linestyle=\"-\", label=\"Thompson Sampling\")\n",
    "plt.plot(ind , Acc, color=\"pink\", linewidth=2.5, linestyle=\"-\", label=\"Accuracy before Pruning\")\n",
    "plt.legend(loc = 3)\n",
    "plt.axis([0, 25, 0, 1])\n",
    "plt.xlabel('Number of pruned Neurons')\n",
    "plt.ylabel('The Accuracy')\n",
    "plt.grid(True)\n",
    "plt.show()"
   ]
  },
  {
   "cell_type": "code",
   "execution_count": 11,
   "metadata": {
    "collapsed": false
   },
   "outputs": [
    {
     "data": {
      "text/html": [
       "\n",
       "\n",
       "    <div class=\"bk-root\">\n",
       "        <div class=\"bk-plotdiv\" id=\"38084773-089c-4459-aad7-6cef2d1e9226\"></div>\n",
       "    </div>\n",
       "<script type=\"text/javascript\">\n",
       "  \n",
       "  (function(global) {\n",
       "    function now() {\n",
       "      return new Date();\n",
       "    }\n",
       "  \n",
       "    var force = false;\n",
       "  \n",
       "    if (typeof (window._bokeh_onload_callbacks) === \"undefined\" || force === true) {\n",
       "      window._bokeh_onload_callbacks = [];\n",
       "      window._bokeh_is_loading = undefined;\n",
       "    }\n",
       "  \n",
       "  \n",
       "    \n",
       "    if (typeof (window._bokeh_timeout) === \"undefined\" || force === true) {\n",
       "      window._bokeh_timeout = Date.now() + 0;\n",
       "      window._bokeh_failed_load = false;\n",
       "    }\n",
       "  \n",
       "    var NB_LOAD_WARNING = {'data': {'text/html':\n",
       "       \"<div style='background-color: #fdd'>\\n\"+\n",
       "       \"<p>\\n\"+\n",
       "       \"BokehJS does not appear to have successfully loaded. If loading BokehJS from CDN, this \\n\"+\n",
       "       \"may be due to a slow or bad network connection. Possible fixes:\\n\"+\n",
       "       \"</p>\\n\"+\n",
       "       \"<ul>\\n\"+\n",
       "       \"<li>re-rerun `output_notebook()` to attempt to load from CDN again, or</li>\\n\"+\n",
       "       \"<li>use INLINE resources instead, as so:</li>\\n\"+\n",
       "       \"</ul>\\n\"+\n",
       "       \"<code>\\n\"+\n",
       "       \"from bokeh.resources import INLINE\\n\"+\n",
       "       \"output_notebook(resources=INLINE)\\n\"+\n",
       "       \"</code>\\n\"+\n",
       "       \"</div>\"}};\n",
       "  \n",
       "    function display_loaded() {\n",
       "      if (window.Bokeh !== undefined) {\n",
       "        document.getElementById(\"38084773-089c-4459-aad7-6cef2d1e9226\").textContent = \"BokehJS successfully loaded.\";\n",
       "      } else if (Date.now() < window._bokeh_timeout) {\n",
       "        setTimeout(display_loaded, 100)\n",
       "      }\n",
       "    }\n",
       "  \n",
       "    function run_callbacks() {\n",
       "      window._bokeh_onload_callbacks.forEach(function(callback) { callback() });\n",
       "      delete window._bokeh_onload_callbacks\n",
       "      console.info(\"Bokeh: all callbacks have finished\");\n",
       "    }\n",
       "  \n",
       "    function load_libs(js_urls, callback) {\n",
       "      window._bokeh_onload_callbacks.push(callback);\n",
       "      if (window._bokeh_is_loading > 0) {\n",
       "        console.log(\"Bokeh: BokehJS is being loaded, scheduling callback at\", now());\n",
       "        return null;\n",
       "      }\n",
       "      if (js_urls == null || js_urls.length === 0) {\n",
       "        run_callbacks();\n",
       "        return null;\n",
       "      }\n",
       "      console.log(\"Bokeh: BokehJS not loaded, scheduling load and callback at\", now());\n",
       "      window._bokeh_is_loading = js_urls.length;\n",
       "      for (var i = 0; i < js_urls.length; i++) {\n",
       "        var url = js_urls[i];\n",
       "        var s = document.createElement('script');\n",
       "        s.src = url;\n",
       "        s.async = false;\n",
       "        s.onreadystatechange = s.onload = function() {\n",
       "          window._bokeh_is_loading--;\n",
       "          if (window._bokeh_is_loading === 0) {\n",
       "            console.log(\"Bokeh: all BokehJS libraries loaded\");\n",
       "            run_callbacks()\n",
       "          }\n",
       "        };\n",
       "        s.onerror = function() {\n",
       "          console.warn(\"failed to load library \" + url);\n",
       "        };\n",
       "        console.log(\"Bokeh: injecting script tag for BokehJS library: \", url);\n",
       "        document.getElementsByTagName(\"head\")[0].appendChild(s);\n",
       "      }\n",
       "    };var element = document.getElementById(\"38084773-089c-4459-aad7-6cef2d1e9226\");\n",
       "    if (element == null) {\n",
       "      console.log(\"Bokeh: ERROR: autoload.js configured with elementid '38084773-089c-4459-aad7-6cef2d1e9226' but no matching script tag was found. \")\n",
       "      return false;\n",
       "    }\n",
       "  \n",
       "    var js_urls = [];\n",
       "  \n",
       "    var inline_js = [\n",
       "      function(Bokeh) {\n",
       "        (function() {\n",
       "          var fn = function() {\n",
       "            var docs_json = {\"b7fb20d1-5a7f-44af-bc75-6344c277ca45\":{\"roots\":{\"references\":[{\"attributes\":{\"plot\":{\"id\":\"cb0c0334-f19b-48d3-a4d9-15e0ba0b7d51\",\"subtype\":\"Figure\",\"type\":\"Plot\"}},\"id\":\"9b1ed77b-fc2a-4711-bf1b-883dd2aa750f\",\"type\":\"SaveTool\"},{\"attributes\":{\"overlay\":{\"id\":\"42de9214-1064-4e8c-b9d1-1b98da18c274\",\"type\":\"PolyAnnotation\"},\"plot\":{\"id\":\"cb0c0334-f19b-48d3-a4d9-15e0ba0b7d51\",\"subtype\":\"Figure\",\"type\":\"Plot\"}},\"id\":\"262781a1-7675-410f-a68a-daaf0f3e6717\",\"type\":\"PolySelectTool\"},{\"attributes\":{\"line_color\":{\"value\":\"red\"},\"line_width\":{\"value\":2},\"x\":{\"field\":\"x\"},\"y\":{\"field\":\"y\"}},\"id\":\"0da362c5-ec73-46e3-897b-89549c9bf726\",\"type\":\"Line\"},{\"attributes\":{\"dimension\":1,\"plot\":{\"id\":\"cb0c0334-f19b-48d3-a4d9-15e0ba0b7d51\",\"subtype\":\"Figure\",\"type\":\"Plot\"},\"ticker\":{\"id\":\"6fb44b4f-7e4f-4924-8244-01e86114c63c\",\"type\":\"BasicTicker\"}},\"id\":\"3a457833-f0c4-4f1f-958c-b98edcad4768\",\"type\":\"Grid\"},{\"attributes\":{\"plot\":{\"id\":\"cb0c0334-f19b-48d3-a4d9-15e0ba0b7d51\",\"subtype\":\"Figure\",\"type\":\"Plot\"}},\"id\":\"f1d861b5-69a3-4dcf-b4a3-6c2b3be43d64\",\"type\":\"UndoTool\"},{\"attributes\":{\"below\":[{\"id\":\"62f9c67a-79a7-47b6-869b-45f4105565bd\",\"type\":\"LinearAxis\"}],\"left\":[{\"id\":\"402500b5-5318-44ea-aa27-e0f83b54a238\",\"type\":\"LinearAxis\"}],\"renderers\":[{\"id\":\"62f9c67a-79a7-47b6-869b-45f4105565bd\",\"type\":\"LinearAxis\"},{\"id\":\"99405522-653e-4198-bb3e-ff4ddea136a5\",\"type\":\"Grid\"},{\"id\":\"402500b5-5318-44ea-aa27-e0f83b54a238\",\"type\":\"LinearAxis\"},{\"id\":\"3a457833-f0c4-4f1f-958c-b98edcad4768\",\"type\":\"Grid\"},{\"id\":\"602c4c63-2ed7-4c18-832d-3d0600112de3\",\"type\":\"BoxAnnotation\"},{\"id\":\"48e2bb02-b51e-47b6-9601-4eb7efe1079a\",\"type\":\"BoxAnnotation\"},{\"id\":\"c25b59fc-e861-4af1-8b38-678c6dc35037\",\"type\":\"PolyAnnotation\"},{\"id\":\"42de9214-1064-4e8c-b9d1-1b98da18c274\",\"type\":\"PolyAnnotation\"},{\"id\":\"9851b79a-5324-481b-a482-20062ffeee8d\",\"type\":\"Legend\"},{\"id\":\"8728fcee-17be-4915-9b45-f2d571287687\",\"type\":\"GlyphRenderer\"},{\"id\":\"5325e271-891f-41bd-aab3-ebca3b298260\",\"type\":\"GlyphRenderer\"},{\"id\":\"9d4affb0-6cd2-4756-89c1-7e31b392c75f\",\"type\":\"GlyphRenderer\"}],\"title\":{\"id\":\"36962840-9936-4432-8f81-7d1464e017be\",\"type\":\"Title\"},\"tool_events\":{\"id\":\"0bdf2ed1-48ae-400b-a70b-e370fcefea10\",\"type\":\"ToolEvents\"},\"toolbar\":{\"id\":\"d34890ab-e216-4136-b7dc-3eddfed66c9a\",\"type\":\"Toolbar\"},\"x_range\":{\"id\":\"818937b3-965c-4317-aefd-b2145c859b8c\",\"type\":\"DataRange1d\"},\"y_range\":{\"id\":\"24d97625-634c-4127-b2ac-4df3b6914085\",\"type\":\"DataRange1d\"}},\"id\":\"cb0c0334-f19b-48d3-a4d9-15e0ba0b7d51\",\"subtype\":\"Figure\",\"type\":\"Plot\"},{\"attributes\":{\"fill_alpha\":{\"value\":0.5},\"fill_color\":{\"value\":\"lightgrey\"},\"level\":\"overlay\",\"line_alpha\":{\"value\":1.0},\"line_color\":{\"value\":\"black\"},\"line_dash\":[4,4],\"line_width\":{\"value\":2},\"plot\":null,\"xs_units\":\"screen\",\"ys_units\":\"screen\"},\"id\":\"42de9214-1064-4e8c-b9d1-1b98da18c274\",\"type\":\"PolyAnnotation\"},{\"attributes\":{\"data_source\":{\"id\":\"4368af2f-4ab1-4308-9638-8b02fb467840\",\"type\":\"ColumnDataSource\"},\"glyph\":{\"id\":\"a43697a2-0740-48cc-b3c6-f40530ab54f1\",\"type\":\"Line\"},\"hover_glyph\":null,\"nonselection_glyph\":{\"id\":\"befb22d2-a1bc-44d1-a5bb-5b228e7aaa70\",\"type\":\"Line\"},\"selection_glyph\":null},\"id\":\"8728fcee-17be-4915-9b45-f2d571287687\",\"type\":\"GlyphRenderer\"},{\"attributes\":{\"active_drag\":\"auto\",\"active_scroll\":\"auto\",\"active_tap\":\"auto\",\"tools\":[{\"id\":\"03b77f24-f969-44f4-8a07-a1664cd40762\",\"type\":\"BoxZoomTool\"},{\"id\":\"7a341cbf-e5ae-4f74-91c8-b77f2056081f\",\"type\":\"BoxSelectTool\"},{\"id\":\"052c0d2b-9fb2-4d18-8a56-c11cb071dc2f\",\"type\":\"CrosshairTool\"},{\"id\":\"5ae8d05f-8269-4847-8225-278c8295c741\",\"type\":\"ResizeTool\"},{\"id\":\"df4ffb00-9402-4c27-be83-e1064eb0ac13\",\"type\":\"ResetTool\"},{\"id\":\"87b61e22-1f66-4012-b4bc-dbe24f75f4bb\",\"type\":\"LassoSelectTool\"},{\"id\":\"9c379b9d-7119-4a29-ac3f-75e2e2f54931\",\"type\":\"PanTool\"},{\"id\":\"9b1ed77b-fc2a-4711-bf1b-883dd2aa750f\",\"type\":\"SaveTool\"},{\"id\":\"262781a1-7675-410f-a68a-daaf0f3e6717\",\"type\":\"PolySelectTool\"},{\"id\":\"d7f11463-056b-4924-bb53-2b4631bb3642\",\"type\":\"TapTool\"},{\"id\":\"40b3be20-8e42-400d-9578-bdddfa7fb66c\",\"type\":\"WheelZoomTool\"},{\"id\":\"f1d861b5-69a3-4dcf-b4a3-6c2b3be43d64\",\"type\":\"UndoTool\"}]},\"id\":\"d34890ab-e216-4136-b7dc-3eddfed66c9a\",\"type\":\"Toolbar\"},{\"attributes\":{\"formatter\":{\"id\":\"06cf98c5-536e-4f4e-b657-a76313b7e4c0\",\"type\":\"BasicTickFormatter\"},\"plot\":{\"id\":\"cb0c0334-f19b-48d3-a4d9-15e0ba0b7d51\",\"subtype\":\"Figure\",\"type\":\"Plot\"},\"ticker\":{\"id\":\"6fb44b4f-7e4f-4924-8244-01e86114c63c\",\"type\":\"BasicTicker\"}},\"id\":\"402500b5-5318-44ea-aa27-e0f83b54a238\",\"type\":\"LinearAxis\"},{\"attributes\":{},\"id\":\"0bdf2ed1-48ae-400b-a70b-e370fcefea10\",\"type\":\"ToolEvents\"},{\"attributes\":{\"formatter\":{\"id\":\"ddd57826-84d9-48b1-88b4-80de93663988\",\"type\":\"BasicTickFormatter\"},\"plot\":{\"id\":\"cb0c0334-f19b-48d3-a4d9-15e0ba0b7d51\",\"subtype\":\"Figure\",\"type\":\"Plot\"},\"ticker\":{\"id\":\"79d4ded2-0ece-46df-9992-254174b083b8\",\"type\":\"BasicTicker\"}},\"id\":\"62f9c67a-79a7-47b6-869b-45f4105565bd\",\"type\":\"LinearAxis\"},{\"attributes\":{\"fill_alpha\":{\"value\":0.5},\"fill_color\":{\"value\":\"lightgrey\"},\"level\":\"overlay\",\"line_alpha\":{\"value\":1.0},\"line_color\":{\"value\":\"black\"},\"line_dash\":[4,4],\"line_width\":{\"value\":2},\"plot\":null,\"xs_units\":\"screen\",\"ys_units\":\"screen\"},\"id\":\"c25b59fc-e861-4af1-8b38-678c6dc35037\",\"type\":\"PolyAnnotation\"},{\"attributes\":{\"bottom_units\":\"screen\",\"fill_alpha\":{\"value\":0.5},\"fill_color\":{\"value\":\"lightgrey\"},\"left_units\":\"screen\",\"level\":\"overlay\",\"line_alpha\":{\"value\":1.0},\"line_color\":{\"value\":\"black\"},\"line_dash\":[4,4],\"line_width\":{\"value\":2},\"plot\":null,\"render_mode\":\"css\",\"right_units\":\"screen\",\"top_units\":\"screen\"},\"id\":\"48e2bb02-b51e-47b6-9601-4eb7efe1079a\",\"type\":\"BoxAnnotation\"},{\"attributes\":{},\"id\":\"6fb44b4f-7e4f-4924-8244-01e86114c63c\",\"type\":\"BasicTicker\"},{\"attributes\":{\"label\":{\"value\":\"Accuracy\"},\"renderers\":[{\"id\":\"9d4affb0-6cd2-4756-89c1-7e31b392c75f\",\"type\":\"GlyphRenderer\"}]},\"id\":\"86b70432-4cce-4f33-a379-4ad326fb6a90\",\"type\":\"LegendItem\"},{\"attributes\":{\"line_alpha\":{\"value\":0.1},\"line_color\":{\"value\":\"#1f77b4\"},\"line_dash\":[4,4],\"line_width\":{\"value\":2},\"x\":{\"field\":\"x\"},\"y\":{\"field\":\"y\"}},\"id\":\"1548276e-d015-412b-bf1f-ca63a17043f8\",\"type\":\"Line\"},{\"attributes\":{\"plot\":{\"id\":\"cb0c0334-f19b-48d3-a4d9-15e0ba0b7d51\",\"subtype\":\"Figure\",\"type\":\"Plot\"}},\"id\":\"40b3be20-8e42-400d-9578-bdddfa7fb66c\",\"type\":\"WheelZoomTool\"},{\"attributes\":{\"label\":{\"value\":\"ucb1\"},\"renderers\":[{\"id\":\"8728fcee-17be-4915-9b45-f2d571287687\",\"type\":\"GlyphRenderer\"}]},\"id\":\"378f5bbb-07cf-46df-9548-f45f7664eb7d\",\"type\":\"LegendItem\"},{\"attributes\":{\"callback\":null},\"id\":\"24d97625-634c-4127-b2ac-4df3b6914085\",\"type\":\"DataRange1d\"},{\"attributes\":{},\"id\":\"06cf98c5-536e-4f4e-b657-a76313b7e4c0\",\"type\":\"BasicTickFormatter\"},{\"attributes\":{\"align\":\"center\",\"plot\":null,\"text\":\"The Performance over the number of neurons' pruned\"},\"id\":\"36962840-9936-4432-8f81-7d1464e017be\",\"type\":\"Title\"},{\"attributes\":{\"callback\":null,\"plot\":{\"id\":\"cb0c0334-f19b-48d3-a4d9-15e0ba0b7d51\",\"subtype\":\"Figure\",\"type\":\"Plot\"}},\"id\":\"d7f11463-056b-4924-bb53-2b4631bb3642\",\"type\":\"TapTool\"},{\"attributes\":{\"line_color\":{\"value\":\"blue\"},\"line_dash\":[4,4],\"line_width\":{\"value\":2},\"x\":{\"field\":\"x\"},\"y\":{\"field\":\"y\"}},\"id\":\"f74953f0-1f65-4f46-a65c-73baf5d501bf\",\"type\":\"Line\"},{\"attributes\":{\"data_source\":{\"id\":\"02df2ba4-298c-49ac-bfe3-538ca64e961a\",\"type\":\"ColumnDataSource\"},\"glyph\":{\"id\":\"f74953f0-1f65-4f46-a65c-73baf5d501bf\",\"type\":\"Line\"},\"hover_glyph\":null,\"nonselection_glyph\":{\"id\":\"1548276e-d015-412b-bf1f-ca63a17043f8\",\"type\":\"Line\"},\"selection_glyph\":null},\"id\":\"9d4affb0-6cd2-4756-89c1-7e31b392c75f\",\"type\":\"GlyphRenderer\"},{\"attributes\":{\"callback\":null,\"overlay\":{\"id\":\"c25b59fc-e861-4af1-8b38-678c6dc35037\",\"type\":\"PolyAnnotation\"},\"plot\":{\"id\":\"cb0c0334-f19b-48d3-a4d9-15e0ba0b7d51\",\"subtype\":\"Figure\",\"type\":\"Plot\"}},\"id\":\"87b61e22-1f66-4012-b4bc-dbe24f75f4bb\",\"type\":\"LassoSelectTool\"},{\"attributes\":{\"callback\":null,\"column_names\":[\"x\",\"y\"],\"data\":{\"x\":[0,1,2,3,4,5,6,7,8,9,10,11,12,13,14,15,16,17,18,19,20,21,22,23,24,25,26,27,28,29,30,31,32,33,34,35,36,37,38,39],\"y\":{\"__ndarray__\":\"YjTeV+ij4j9DHxUJ34jiP+oFV/dsseI/IqgXnPG+4j8iqBec8b7iPyKoF5zxvuI/IqgXnPG+4j/SeF+h8b7iP7nrZ0t2zOI/uetnS3bM4j/YADGaf+fiP9gAMZp/5+I/EKPxPgT14j+A53KIDRDjP4DncogNEOM/gOdyiA0Q4z8FJp06BPXiPykw6ZR/5+I/KTDplH/n4j+a1p78bLHiPx6zlJB/5+I/HrOUkH/n4j8FJp06BPXiP5R/59IWK+M/A8RoHCBG4z/mENRrKWHjP/6dy8GkU+M/rAzfKJId4z/p1DwowzfiP7EyfIM+KuI/vK/Qhz4q4j8OQb2gItnhPyPZMesr9OE/EKPxvgaI4T9AjMYbUWDiPw5BvaAi2eE/RIFJd/1s4T/T2pMPEKPhP1+hj/rO5eA/vK/Qp7Un3z8=\",\"dtype\":\"float64\",\"shape\":[40]}}},\"id\":\"dd1646aa-9e43-4c28-b491-055e409057dc\",\"type\":\"ColumnDataSource\"},{\"attributes\":{\"plot\":{\"id\":\"cb0c0334-f19b-48d3-a4d9-15e0ba0b7d51\",\"subtype\":\"Figure\",\"type\":\"Plot\"}},\"id\":\"5ae8d05f-8269-4847-8225-278c8295c741\",\"type\":\"ResizeTool\"},{\"attributes\":{\"line_alpha\":{\"value\":0.1},\"line_color\":{\"value\":\"#1f77b4\"},\"line_width\":{\"value\":2},\"x\":{\"field\":\"x\"},\"y\":{\"field\":\"y\"}},\"id\":\"a9c05f36-6b57-497d-bd50-b7d3e066e441\",\"type\":\"Line\"},{\"attributes\":{},\"id\":\"ddd57826-84d9-48b1-88b4-80de93663988\",\"type\":\"BasicTickFormatter\"},{\"attributes\":{\"data_source\":{\"id\":\"dd1646aa-9e43-4c28-b491-055e409057dc\",\"type\":\"ColumnDataSource\"},\"glyph\":{\"id\":\"0da362c5-ec73-46e3-897b-89549c9bf726\",\"type\":\"Line\"},\"hover_glyph\":null,\"nonselection_glyph\":{\"id\":\"a9c05f36-6b57-497d-bd50-b7d3e066e441\",\"type\":\"Line\"},\"selection_glyph\":null},\"id\":\"5325e271-891f-41bd-aab3-ebca3b298260\",\"type\":\"GlyphRenderer\"},{\"attributes\":{\"items\":[{\"id\":\"378f5bbb-07cf-46df-9548-f45f7664eb7d\",\"type\":\"LegendItem\"},{\"id\":\"82b02f66-efec-42c1-9a5a-c3c224c636b7\",\"type\":\"LegendItem\"},{\"id\":\"86b70432-4cce-4f33-a379-4ad326fb6a90\",\"type\":\"LegendItem\"}],\"plot\":{\"id\":\"cb0c0334-f19b-48d3-a4d9-15e0ba0b7d51\",\"subtype\":\"Figure\",\"type\":\"Plot\"}},\"id\":\"9851b79a-5324-481b-a482-20062ffeee8d\",\"type\":\"Legend\"},{\"attributes\":{\"callback\":null,\"overlay\":{\"id\":\"48e2bb02-b51e-47b6-9601-4eb7efe1079a\",\"type\":\"BoxAnnotation\"},\"plot\":{\"id\":\"cb0c0334-f19b-48d3-a4d9-15e0ba0b7d51\",\"subtype\":\"Figure\",\"type\":\"Plot\"},\"renderers\":[{\"id\":\"8728fcee-17be-4915-9b45-f2d571287687\",\"type\":\"GlyphRenderer\"},{\"id\":\"5325e271-891f-41bd-aab3-ebca3b298260\",\"type\":\"GlyphRenderer\"},{\"id\":\"9d4affb0-6cd2-4756-89c1-7e31b392c75f\",\"type\":\"GlyphRenderer\"}]},\"id\":\"7a341cbf-e5ae-4f74-91c8-b77f2056081f\",\"type\":\"BoxSelectTool\"},{\"attributes\":{\"overlay\":{\"id\":\"602c4c63-2ed7-4c18-832d-3d0600112de3\",\"type\":\"BoxAnnotation\"},\"plot\":{\"id\":\"cb0c0334-f19b-48d3-a4d9-15e0ba0b7d51\",\"subtype\":\"Figure\",\"type\":\"Plot\"}},\"id\":\"03b77f24-f969-44f4-8a07-a1664cd40762\",\"type\":\"BoxZoomTool\"},{\"attributes\":{},\"id\":\"79d4ded2-0ece-46df-9992-254174b083b8\",\"type\":\"BasicTicker\"},{\"attributes\":{\"label\":{\"value\":\"Thompson Sampling\"},\"renderers\":[{\"id\":\"5325e271-891f-41bd-aab3-ebca3b298260\",\"type\":\"GlyphRenderer\"}]},\"id\":\"82b02f66-efec-42c1-9a5a-c3c224c636b7\",\"type\":\"LegendItem\"},{\"attributes\":{\"line_color\":{\"value\":\"green\"},\"line_width\":{\"value\":2},\"x\":{\"field\":\"x\"},\"y\":{\"field\":\"y\"}},\"id\":\"a43697a2-0740-48cc-b3c6-f40530ab54f1\",\"type\":\"Line\"},{\"attributes\":{\"callback\":null},\"id\":\"818937b3-965c-4317-aefd-b2145c859b8c\",\"type\":\"DataRange1d\"},{\"attributes\":{\"plot\":{\"id\":\"cb0c0334-f19b-48d3-a4d9-15e0ba0b7d51\",\"subtype\":\"Figure\",\"type\":\"Plot\"}},\"id\":\"052c0d2b-9fb2-4d18-8a56-c11cb071dc2f\",\"type\":\"CrosshairTool\"},{\"attributes\":{\"line_alpha\":{\"value\":0.1},\"line_color\":{\"value\":\"#1f77b4\"},\"line_width\":{\"value\":2},\"x\":{\"field\":\"x\"},\"y\":{\"field\":\"y\"}},\"id\":\"befb22d2-a1bc-44d1-a5bb-5b228e7aaa70\",\"type\":\"Line\"},{\"attributes\":{\"plot\":{\"id\":\"cb0c0334-f19b-48d3-a4d9-15e0ba0b7d51\",\"subtype\":\"Figure\",\"type\":\"Plot\"}},\"id\":\"9c379b9d-7119-4a29-ac3f-75e2e2f54931\",\"type\":\"PanTool\"},{\"attributes\":{\"callback\":null,\"column_names\":[\"x\",\"y\"],\"data\":{\"x\":[0,1,2,3,4,5,6,7,8,9,10,11,12,13,14,15,16,17,18,19,20,21,22,23,24,25,26,27,28,29,30,31,32,33,34,35,36,37,38,39],\"y\":{\"__ndarray__\":\"YjTeV+ij4j9BveDq+tniP0G94Or62eI/smOWUuij4j97wdWtY5biP3vB1a1jluI/e8HVrWOW4j97wdWtY5biP+oFV/dsseI/CRsgRnbM4j+a1p78bLHiP5rWnvxsseI/uetnS3bM4j/xjSjw+tniP7nrZ0t2zOI/e8HVrWOW4j9DHxUJ34jiPwt9VGRae+I/e8HVrWOW4j97wdWtY5biP3vB1a1jluI/e8HVrWOW4j+yY5ZS6KPiP7JjllLoo+I/6gVX92yx4j9DHxUJ34jiP0MfFQnfiOI/09qTv9Vt4j/T2pO/1W3iP2SWEnbMUuI/ZJYSdsxS4j8LfVRkWnviP2SWEnbMUuI/ZJYSdsxS4j8N34iCPiriP/WCqzs1D+I/veDqlrAB4j8LfVS0lLDhP+ijIinDN+I/vK/Qp7Un3z8=\",\"dtype\":\"float64\",\"shape\":[40]}}},\"id\":\"4368af2f-4ab1-4308-9638-8b02fb467840\",\"type\":\"ColumnDataSource\"},{\"attributes\":{\"bottom_units\":\"screen\",\"fill_alpha\":{\"value\":0.5},\"fill_color\":{\"value\":\"lightgrey\"},\"left_units\":\"screen\",\"level\":\"overlay\",\"line_alpha\":{\"value\":1.0},\"line_color\":{\"value\":\"black\"},\"line_dash\":[4,4],\"line_width\":{\"value\":2},\"plot\":null,\"render_mode\":\"css\",\"right_units\":\"screen\",\"top_units\":\"screen\"},\"id\":\"602c4c63-2ed7-4c18-832d-3d0600112de3\",\"type\":\"BoxAnnotation\"},{\"attributes\":{\"callback\":null,\"column_names\":[\"x\",\"y\"],\"data\":{\"x\":[0,1,2,3,4,5,6,7,8,9,10,11,12,13,14,15,16,17,18,19,20,21,22,23,24,25,26,27,28,29,30,31,32,33,34,35,36,37,38,39],\"y\":[{\"__ndarray__\":\"EHy/0vxR4j8=\",\"dtype\":\"float64\",\"shape\":[]},{\"__ndarray__\":\"EHy/0vxR4j8=\",\"dtype\":\"float64\",\"shape\":[]},{\"__ndarray__\":\"EHy/0vxR4j8=\",\"dtype\":\"float64\",\"shape\":[]},{\"__ndarray__\":\"EHy/0vxR4j8=\",\"dtype\":\"float64\",\"shape\":[]},{\"__ndarray__\":\"EHy/0vxR4j8=\",\"dtype\":\"float64\",\"shape\":[]},{\"__ndarray__\":\"EHy/0vxR4j8=\",\"dtype\":\"float64\",\"shape\":[]},{\"__ndarray__\":\"EHy/0vxR4j8=\",\"dtype\":\"float64\",\"shape\":[]},{\"__ndarray__\":\"EHy/0vxR4j8=\",\"dtype\":\"float64\",\"shape\":[]},{\"__ndarray__\":\"EHy/0vxR4j8=\",\"dtype\":\"float64\",\"shape\":[]},{\"__ndarray__\":\"EHy/0vxR4j8=\",\"dtype\":\"float64\",\"shape\":[]},{\"__ndarray__\":\"EHy/0vxR4j8=\",\"dtype\":\"float64\",\"shape\":[]},{\"__ndarray__\":\"EHy/0vxR4j8=\",\"dtype\":\"float64\",\"shape\":[]},{\"__ndarray__\":\"EHy/0vxR4j8=\",\"dtype\":\"float64\",\"shape\":[]},{\"__ndarray__\":\"EHy/0vxR4j8=\",\"dtype\":\"float64\",\"shape\":[]},{\"__ndarray__\":\"EHy/0vxR4j8=\",\"dtype\":\"float64\",\"shape\":[]},{\"__ndarray__\":\"EHy/0vxR4j8=\",\"dtype\":\"float64\",\"shape\":[]},{\"__ndarray__\":\"EHy/0vxR4j8=\",\"dtype\":\"float64\",\"shape\":[]},{\"__ndarray__\":\"EHy/0vxR4j8=\",\"dtype\":\"float64\",\"shape\":[]},{\"__ndarray__\":\"EHy/0vxR4j8=\",\"dtype\":\"float64\",\"shape\":[]},{\"__ndarray__\":\"EHy/0vxR4j8=\",\"dtype\":\"float64\",\"shape\":[]},{\"__ndarray__\":\"EHy/0vxR4j8=\",\"dtype\":\"float64\",\"shape\":[]},{\"__ndarray__\":\"EHy/0vxR4j8=\",\"dtype\":\"float64\",\"shape\":[]},{\"__ndarray__\":\"EHy/0vxR4j8=\",\"dtype\":\"float64\",\"shape\":[]},{\"__ndarray__\":\"EHy/0vxR4j8=\",\"dtype\":\"float64\",\"shape\":[]},{\"__ndarray__\":\"EHy/0vxR4j8=\",\"dtype\":\"float64\",\"shape\":[]},{\"__ndarray__\":\"EHy/0vxR4j8=\",\"dtype\":\"float64\",\"shape\":[]},{\"__ndarray__\":\"EHy/0vxR4j8=\",\"dtype\":\"float64\",\"shape\":[]},{\"__ndarray__\":\"EHy/0vxR4j8=\",\"dtype\":\"float64\",\"shape\":[]},{\"__ndarray__\":\"EHy/0vxR4j8=\",\"dtype\":\"float64\",\"shape\":[]},{\"__ndarray__\":\"EHy/0vxR4j8=\",\"dtype\":\"float64\",\"shape\":[]},{\"__ndarray__\":\"EHy/0vxR4j8=\",\"dtype\":\"float64\",\"shape\":[]},{\"__ndarray__\":\"EHy/0vxR4j8=\",\"dtype\":\"float64\",\"shape\":[]},{\"__ndarray__\":\"EHy/0vxR4j8=\",\"dtype\":\"float64\",\"shape\":[]},{\"__ndarray__\":\"EHy/0vxR4j8=\",\"dtype\":\"float64\",\"shape\":[]},{\"__ndarray__\":\"EHy/0vxR4j8=\",\"dtype\":\"float64\",\"shape\":[]},{\"__ndarray__\":\"EHy/0vxR4j8=\",\"dtype\":\"float64\",\"shape\":[]},{\"__ndarray__\":\"EHy/0vxR4j8=\",\"dtype\":\"float64\",\"shape\":[]},{\"__ndarray__\":\"EHy/0vxR4j8=\",\"dtype\":\"float64\",\"shape\":[]},{\"__ndarray__\":\"EHy/0vxR4j8=\",\"dtype\":\"float64\",\"shape\":[]},{\"__ndarray__\":\"EHy/0vxR4j8=\",\"dtype\":\"float64\",\"shape\":[]}]}},\"id\":\"02df2ba4-298c-49ac-bfe3-538ca64e961a\",\"type\":\"ColumnDataSource\"},{\"attributes\":{\"plot\":{\"id\":\"cb0c0334-f19b-48d3-a4d9-15e0ba0b7d51\",\"subtype\":\"Figure\",\"type\":\"Plot\"}},\"id\":\"df4ffb00-9402-4c27-be83-e1064eb0ac13\",\"type\":\"ResetTool\"},{\"attributes\":{\"plot\":{\"id\":\"cb0c0334-f19b-48d3-a4d9-15e0ba0b7d51\",\"subtype\":\"Figure\",\"type\":\"Plot\"},\"ticker\":{\"id\":\"79d4ded2-0ece-46df-9992-254174b083b8\",\"type\":\"BasicTicker\"}},\"id\":\"99405522-653e-4198-bb3e-ff4ddea136a5\",\"type\":\"Grid\"}],\"root_ids\":[\"cb0c0334-f19b-48d3-a4d9-15e0ba0b7d51\"]},\"title\":\"Bokeh Application\",\"version\":\"0.12.4\"}};\n",
       "            var render_items = [{\"docid\":\"b7fb20d1-5a7f-44af-bc75-6344c277ca45\",\"elementid\":\"38084773-089c-4459-aad7-6cef2d1e9226\",\"modelid\":\"cb0c0334-f19b-48d3-a4d9-15e0ba0b7d51\"}];\n",
       "            \n",
       "            Bokeh.embed.embed_items(docs_json, render_items);\n",
       "          };\n",
       "          if (document.readyState != \"loading\") fn();\n",
       "          else document.addEventListener(\"DOMContentLoaded\", fn);\n",
       "        })();\n",
       "      },\n",
       "      function(Bokeh) {\n",
       "      }\n",
       "    ];\n",
       "  \n",
       "    function run_inline_js() {\n",
       "      \n",
       "      if ((window.Bokeh !== undefined) || (force === true)) {\n",
       "        for (var i = 0; i < inline_js.length; i++) {\n",
       "          inline_js[i](window.Bokeh);\n",
       "        }if (force === true) {\n",
       "          display_loaded();\n",
       "        }} else if (Date.now() < window._bokeh_timeout) {\n",
       "        setTimeout(run_inline_js, 100);\n",
       "      } else if (!window._bokeh_failed_load) {\n",
       "        console.log(\"Bokeh: BokehJS failed to load within specified timeout.\");\n",
       "        window._bokeh_failed_load = true;\n",
       "      } else if (force !== true) {\n",
       "        var cell = $(document.getElementById(\"38084773-089c-4459-aad7-6cef2d1e9226\")).parents('.cell').data().cell;\n",
       "        cell.output_area.append_execute_result(NB_LOAD_WARNING)\n",
       "      }\n",
       "  \n",
       "    }\n",
       "  \n",
       "    if (window._bokeh_is_loading === 0) {\n",
       "      console.log(\"Bokeh: BokehJS loaded, going straight to plotting\");\n",
       "      run_inline_js();\n",
       "    } else {\n",
       "      load_libs(js_urls, function() {\n",
       "        console.log(\"Bokeh: BokehJS plotting callback run at\", now());\n",
       "        run_inline_js();\n",
       "      });\n",
       "    }\n",
       "  }(this));\n",
       "</script>"
      ]
     },
     "metadata": {},
     "output_type": "display_data"
    }
   ],
   "source": [
    "p1 = figure(title=\"The Performance over the number of neurons' pruned\", tools=TOOLS)\n",
    "p1.line(ind, ucb1, legend=\"ucb1\", line_color=\"green\", line_width=2)\n",
    "p1.line(ind, ThompsonSampling, legend=\"Thompson Sampling\", line_color=\"red\", line_width=2)\n",
    "p1.line(ind, Acc, legend=\"Accuracy\", line_dash=(4, 4), line_color=\"blue\", line_width=2)\n",
    "p1.title.align = \"center\"\n",
    "show(p1)"
   ]
  }
 ],
 "metadata": {
  "kernelspec": {
   "display_name": "Python 3",
   "language": "python",
   "name": "python3"
  },
  "language_info": {
   "codemirror_mode": {
    "name": "ipython",
    "version": 3
   },
   "file_extension": ".py",
   "mimetype": "text/x-python",
   "name": "python",
   "nbconvert_exporter": "python",
   "pygments_lexer": "ipython3",
   "version": "3.6.0"
  }
 },
 "nbformat": 4,
 "nbformat_minor": 0
}
