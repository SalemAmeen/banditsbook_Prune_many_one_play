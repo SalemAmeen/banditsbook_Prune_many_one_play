{
 "cells": [
  {
   "cell_type": "markdown",
   "metadata": {},
   "source": [
    "Compute the performance of MAB methods of pruning Multiple neurons at one time\n",
    "\n",
    "MAP for choosing multi arms at one time"
   ]
  },
  {
   "cell_type": "code",
   "execution_count": 1,
   "metadata": {
    "collapsed": true
   },
   "outputs": [],
   "source": [
    "import numpy as np\n",
    "import time\n",
    "import sys\n",
    "from numpy import *\n",
    "import matplotlib.pyplot as plt\n",
    "from sklearn import metrics\n",
    "%matplotlib inline\n",
    "#plt.rcParams['figure.figsize'] = (15, 6)"
   ]
  },
  {
   "cell_type": "markdown",
   "metadata": {},
   "source": [
    "# Load Bokeh"
   ]
  },
  {
   "cell_type": "code",
   "execution_count": 2,
   "metadata": {
    "collapsed": false
   },
   "outputs": [
    {
     "data": {
      "text/html": [
       "\n",
       "    <div class=\"bk-root\">\n",
       "        <a href=\"http://bokeh.pydata.org\" target=\"_blank\" class=\"bk-logo bk-logo-small bk-logo-notebook\"></a>\n",
       "        <span id=\"0b47819f-8d10-49a7-a978-ec04f464dd06\">Loading BokehJS ...</span>\n",
       "    </div>"
      ]
     },
     "metadata": {},
     "output_type": "display_data"
    },
    {
     "data": {
      "application/javascript": [
       "\n",
       "(function(global) {\n",
       "  function now() {\n",
       "    return new Date();\n",
       "  }\n",
       "\n",
       "  var force = true;\n",
       "\n",
       "  if (typeof (window._bokeh_onload_callbacks) === \"undefined\" || force === true) {\n",
       "    window._bokeh_onload_callbacks = [];\n",
       "    window._bokeh_is_loading = undefined;\n",
       "  }\n",
       "\n",
       "\n",
       "  \n",
       "  if (typeof (window._bokeh_timeout) === \"undefined\" || force === true) {\n",
       "    window._bokeh_timeout = Date.now() + 5000;\n",
       "    window._bokeh_failed_load = false;\n",
       "  }\n",
       "\n",
       "  var NB_LOAD_WARNING = {'data': {'text/html':\n",
       "     \"<div style='background-color: #fdd'>\\n\"+\n",
       "     \"<p>\\n\"+\n",
       "     \"BokehJS does not appear to have successfully loaded. If loading BokehJS from CDN, this \\n\"+\n",
       "     \"may be due to a slow or bad network connection. Possible fixes:\\n\"+\n",
       "     \"</p>\\n\"+\n",
       "     \"<ul>\\n\"+\n",
       "     \"<li>re-rerun `output_notebook()` to attempt to load from CDN again, or</li>\\n\"+\n",
       "     \"<li>use INLINE resources instead, as so:</li>\\n\"+\n",
       "     \"</ul>\\n\"+\n",
       "     \"<code>\\n\"+\n",
       "     \"from bokeh.resources import INLINE\\n\"+\n",
       "     \"output_notebook(resources=INLINE)\\n\"+\n",
       "     \"</code>\\n\"+\n",
       "     \"</div>\"}};\n",
       "\n",
       "  function display_loaded() {\n",
       "    if (window.Bokeh !== undefined) {\n",
       "      document.getElementById(\"0b47819f-8d10-49a7-a978-ec04f464dd06\").textContent = \"BokehJS successfully loaded.\";\n",
       "    } else if (Date.now() < window._bokeh_timeout) {\n",
       "      setTimeout(display_loaded, 100)\n",
       "    }\n",
       "  }\n",
       "\n",
       "  function run_callbacks() {\n",
       "    window._bokeh_onload_callbacks.forEach(function(callback) { callback() });\n",
       "    delete window._bokeh_onload_callbacks\n",
       "    console.info(\"Bokeh: all callbacks have finished\");\n",
       "  }\n",
       "\n",
       "  function load_libs(js_urls, callback) {\n",
       "    window._bokeh_onload_callbacks.push(callback);\n",
       "    if (window._bokeh_is_loading > 0) {\n",
       "      console.log(\"Bokeh: BokehJS is being loaded, scheduling callback at\", now());\n",
       "      return null;\n",
       "    }\n",
       "    if (js_urls == null || js_urls.length === 0) {\n",
       "      run_callbacks();\n",
       "      return null;\n",
       "    }\n",
       "    console.log(\"Bokeh: BokehJS not loaded, scheduling load and callback at\", now());\n",
       "    window._bokeh_is_loading = js_urls.length;\n",
       "    for (var i = 0; i < js_urls.length; i++) {\n",
       "      var url = js_urls[i];\n",
       "      var s = document.createElement('script');\n",
       "      s.src = url;\n",
       "      s.async = false;\n",
       "      s.onreadystatechange = s.onload = function() {\n",
       "        window._bokeh_is_loading--;\n",
       "        if (window._bokeh_is_loading === 0) {\n",
       "          console.log(\"Bokeh: all BokehJS libraries loaded\");\n",
       "          run_callbacks()\n",
       "        }\n",
       "      };\n",
       "      s.onerror = function() {\n",
       "        console.warn(\"failed to load library \" + url);\n",
       "      };\n",
       "      console.log(\"Bokeh: injecting script tag for BokehJS library: \", url);\n",
       "      document.getElementsByTagName(\"head\")[0].appendChild(s);\n",
       "    }\n",
       "  };var element = document.getElementById(\"0b47819f-8d10-49a7-a978-ec04f464dd06\");\n",
       "  if (element == null) {\n",
       "    console.log(\"Bokeh: ERROR: autoload.js configured with elementid '0b47819f-8d10-49a7-a978-ec04f464dd06' but no matching script tag was found. \")\n",
       "    return false;\n",
       "  }\n",
       "\n",
       "  var js_urls = [\"https://cdn.pydata.org/bokeh/release/bokeh-0.12.4.min.js\", \"https://cdn.pydata.org/bokeh/release/bokeh-widgets-0.12.4.min.js\"];\n",
       "\n",
       "  var inline_js = [\n",
       "    function(Bokeh) {\n",
       "      Bokeh.set_log_level(\"info\");\n",
       "    },\n",
       "    \n",
       "    function(Bokeh) {\n",
       "      \n",
       "      document.getElementById(\"0b47819f-8d10-49a7-a978-ec04f464dd06\").textContent = \"BokehJS is loading...\";\n",
       "    },\n",
       "    function(Bokeh) {\n",
       "      console.log(\"Bokeh: injecting CSS: https://cdn.pydata.org/bokeh/release/bokeh-0.12.4.min.css\");\n",
       "      Bokeh.embed.inject_css(\"https://cdn.pydata.org/bokeh/release/bokeh-0.12.4.min.css\");\n",
       "      console.log(\"Bokeh: injecting CSS: https://cdn.pydata.org/bokeh/release/bokeh-widgets-0.12.4.min.css\");\n",
       "      Bokeh.embed.inject_css(\"https://cdn.pydata.org/bokeh/release/bokeh-widgets-0.12.4.min.css\");\n",
       "    }\n",
       "  ];\n",
       "\n",
       "  function run_inline_js() {\n",
       "    \n",
       "    if ((window.Bokeh !== undefined) || (force === true)) {\n",
       "      for (var i = 0; i < inline_js.length; i++) {\n",
       "        inline_js[i](window.Bokeh);\n",
       "      }if (force === true) {\n",
       "        display_loaded();\n",
       "      }} else if (Date.now() < window._bokeh_timeout) {\n",
       "      setTimeout(run_inline_js, 100);\n",
       "    } else if (!window._bokeh_failed_load) {\n",
       "      console.log(\"Bokeh: BokehJS failed to load within specified timeout.\");\n",
       "      window._bokeh_failed_load = true;\n",
       "    } else if (force !== true) {\n",
       "      var cell = $(document.getElementById(\"0b47819f-8d10-49a7-a978-ec04f464dd06\")).parents('.cell').data().cell;\n",
       "      cell.output_area.append_execute_result(NB_LOAD_WARNING)\n",
       "    }\n",
       "\n",
       "  }\n",
       "\n",
       "  if (window._bokeh_is_loading === 0) {\n",
       "    console.log(\"Bokeh: BokehJS loaded, going straight to plotting\");\n",
       "    run_inline_js();\n",
       "  } else {\n",
       "    load_libs(js_urls, function() {\n",
       "      console.log(\"Bokeh: BokehJS plotting callback run at\", now());\n",
       "      run_inline_js();\n",
       "    });\n",
       "  }\n",
       "}(this));"
      ]
     },
     "metadata": {},
     "output_type": "display_data"
    }
   ],
   "source": [
    "from bokeh.layouts import row, gridplot\n",
    "from bokeh.plotting import figure, output_notebook, show\n",
    "from bokeh.models import Legend\n",
    "TOOLS = 'box_zoom,box_select,crosshair,resize,reset,lasso_select,pan,save,poly_select,tap,wheel_zoom,undo'\n",
    "output_notebook()"
   ]
  },
  {
   "cell_type": "markdown",
   "metadata": {},
   "source": [
    "# Load the data"
   ]
  },
  {
   "cell_type": "code",
   "execution_count": 3,
   "metadata": {
    "collapsed": false
   },
   "outputs": [
    {
     "name": "stdout",
     "output_type": "stream",
     "text": [
      "Number of training examples 96\n",
      "Number of validation examples 24\n",
      "Number of testing examples 30\n"
     ]
    }
   ],
   "source": [
    "X_train = np.load('./iris/X_train.npy')\n",
    "y_train = np.load('./iris/y_train.npy')\n",
    "X_test = np.load('./iris/X_test.npy')\n",
    "y_test = np.load('./iris/y_test.npy')\n",
    "X_deploy = np.load('./iris/X_deploy.npy')\n",
    "y_deploy = np.load('./iris/y_deploy.npy')\n",
    "print('Number of training examples',len(X_train))\n",
    "print('Number of validation examples',len(X_test))\n",
    "print('Number of testing examples',len(X_deploy))"
   ]
  },
  {
   "cell_type": "code",
   "execution_count": 4,
   "metadata": {
    "collapsed": false
   },
   "outputs": [],
   "source": [
    "exec(open(\"core.py\").read())  # pyhton 3x"
   ]
  },
  {
   "cell_type": "markdown",
   "metadata": {},
   "source": [
    "## Run Thompson Sampling pruning Algorithm"
   ]
  },
  {
   "cell_type": "code",
   "execution_count": 5,
   "metadata": {
    "collapsed": false
   },
   "outputs": [
    {
     "name": "stdout",
     "output_type": "stream",
     "text": [
      "24 test samples\n"
     ]
    },
    {
     "name": "stderr",
     "output_type": "stream",
     "text": [
      "/Library/Frameworks/Python.framework/Versions/3.6/lib/python3.6/site-packages/sklearn/cross_validation.py:44: DeprecationWarning: This module was deprecated in version 0.18 in favor of the model_selection module into which all the refactored classes and functions are moved. Also note that the interface of the new CV iterators are different from that of this module. This module will be removed in 0.20.\n",
      "  \"This module will be removed in 0.20.\", DeprecationWarning)\n",
      "Using Theano backend.\n"
     ]
    },
    {
     "name": "stdout",
     "output_type": "stream",
     "text": [
      "Test score: 0.203268691897\n",
      "Test accuracy: 0.875\n",
      "The time for running this method is 0.042565107345581055 seconds \n",
      "Finsh playing start pruining:\n",
      "Test accuracy after pruning: 1.0\n",
      "Test accuracy after pruning: 1.0\n",
      "Test accuracy after pruning: 1.0\n",
      "Test accuracy after pruning: 0.966666638851\n",
      "Test accuracy after pruning: 0.933333337307\n",
      "Test accuracy after pruning: 0.933333337307\n",
      "Test accuracy after pruning: 0.933333337307\n",
      "Test accuracy after pruning: 0.933333337307\n",
      "Test accuracy after pruning: 0.833333313465\n",
      "Test accuracy after pruning: 0.666666686535\n",
      "Test accuracy after pruning: 0.666666686535\n",
      "Test accuracy after pruning: 0.666666686535\n",
      "Test accuracy after pruning: 0.366666674614\n",
      "Test accuracy after pruning: 0.366666674614\n",
      "Test accuracy after pruning: 0.366666674614\n",
      "Test accuracy after pruning: 0.366666674614\n"
     ]
    },
    {
     "data": {
      "image/png": "[encoded data removed]",
      "text/plain": [
       "<matplotlib.figure.Figure at 0x10e0194e0>"
      ]
     },
     "metadata": {},
     "output_type": "display_data"
    }
   ],
   "source": [
    "algo = Thompson_Sampling([], [])\n",
    "Alg_name = 'Thompson_Sampling Algorithm'\n",
    "path = './Thompson_Sampling/'\n",
    "sys.path.append(\"./Thompson_Sampling\")\n",
    "exec(open(\"mnist_cnnFORTESTING.py\").read())"
   ]
  },
  {
   "cell_type": "markdown",
   "metadata": {},
   "source": [
    "## Run UCB1 pruning Algorithm"
   ]
  },
  {
   "cell_type": "code",
   "execution_count": 6,
   "metadata": {
    "collapsed": false
   },
   "outputs": [
    {
     "name": "stdout",
     "output_type": "stream",
     "text": [
      "24 test samples\n",
      "Test score: 0.203268691897\n",
      "Test accuracy: 0.875\n",
      "The time for running this method is 0.0430600643157959 seconds \n",
      "Finsh playing start pruining:\n",
      "Test accuracy after pruning: 0.966666638851\n",
      "Test accuracy after pruning: 0.966666638851\n",
      "Test accuracy after pruning: 0.966666638851\n",
      "Test accuracy after pruning: 0.966666638851\n",
      "Test accuracy after pruning: 0.966666638851\n",
      "Test accuracy after pruning: 0.966666638851\n",
      "Test accuracy after pruning: 0.966666638851\n",
      "Test accuracy after pruning: 0.899999976158\n",
      "Test accuracy after pruning: 0.666666686535\n",
      "Test accuracy after pruning: 0.666666686535\n",
      "Test accuracy after pruning: 0.666666686535\n",
      "Test accuracy after pruning: 0.666666686535\n",
      "Test accuracy after pruning: 0.366666674614\n",
      "Test accuracy after pruning: 0.366666674614\n",
      "Test accuracy after pruning: 0.366666674614\n",
      "Test accuracy after pruning: 0.366666674614\n"
     ]
    },
    {
     "data": {
      "image/png": "[encoded data removed]",
      "text/plain": [
       "<matplotlib.figure.Figure at 0x10e597ef0>"
      ]
     },
     "metadata": {},
     "output_type": "display_data"
    }
   ],
   "source": [
    "algo = UCB1([], [])\n",
    "Alg_name = 'UCB1 Algorithm'\n",
    "path = './UCB1/'\n",
    "sys.path.append(\"./UCB1\")\n",
    "exec(open(\"mnist_cnnFORTESTING.py\").read())"
   ]
  },
  {
   "cell_type": "markdown",
   "metadata": {
    "collapsed": true
   },
   "source": [
    "# Compare the accuracy"
   ]
  },
  {
   "cell_type": "code",
   "execution_count": 7,
   "metadata": {
    "collapsed": true
   },
   "outputs": [],
   "source": [
    "ucb1 = np.load('./UCB1/AccuracyAftrerPrune.npy')\n",
    "ThompsonSampling = np.load('./Thompson_Sampling/AccuracyAftrerPrune.npy')\n",
    "Accuracy = np.load('AccuracyBeforePruning.npy')"
   ]
  },
  {
   "cell_type": "code",
   "execution_count": 8,
   "metadata": {
    "collapsed": false
   },
   "outputs": [
    {
     "data": {
      "image/png": "[encoded data removed]",
      "text/plain": [
       "<matplotlib.figure.Figure at 0x10e633780>"
      ]
     },
     "metadata": {},
     "output_type": "display_data"
    }
   ],
   "source": [
    "fig = plt.figure(figsize=(10, 6), dpi=80)\n",
    "ax = fig.add_subplot(111)\n",
    "N = len(ucb1)\n",
    "ind = np.arange(N)                # the x locations for the groups\n",
    "plt.plot(ind , ucb1 , color=\"blue\", linewidth=2.5, linestyle=\"-\", label=\"UCB1\")\n",
    "plt.plot(ind , ThompsonSampling, color=\"orange\", linewidth=2.5, linestyle=\"-\", label=\"Thompson Sampling\")\n",
    "plt.legend(loc = 3)\n",
    "plt.axis([0, 25, 0, 1])\n",
    "plt.xlabel('Number of pruned Neurons')\n",
    "plt.ylabel('The Accuracy')\n",
    "plt.grid(True)\n",
    "plt.show()"
   ]
  },
  {
   "cell_type": "code",
   "execution_count": 9,
   "metadata": {
    "collapsed": false
   },
   "outputs": [
    {
     "data": {
      "text/html": [
       "\n",
       "\n",
       "    <div class=\"bk-root\">\n",
       "        <div class=\"bk-plotdiv\" id=\"8a7009e7-4476-4453-aab7-cbc96fe2f1bb\"></div>\n",
       "    </div>\n",
       "<script type=\"text/javascript\">\n",
       "  \n",
       "  (function(global) {\n",
       "    function now() {\n",
       "      return new Date();\n",
       "    }\n",
       "  \n",
       "    var force = false;\n",
       "  \n",
       "    if (typeof (window._bokeh_onload_callbacks) === \"undefined\" || force === true) {\n",
       "      window._bokeh_onload_callbacks = [];\n",
       "      window._bokeh_is_loading = undefined;\n",
       "    }\n",
       "  \n",
       "  \n",
       "    \n",
       "    if (typeof (window._bokeh_timeout) === \"undefined\" || force === true) {\n",
       "      window._bokeh_timeout = Date.now() + 0;\n",
       "      window._bokeh_failed_load = false;\n",
       "    }\n",
       "  \n",
       "    var NB_LOAD_WARNING = {'data': {'text/html':\n",
       "       \"<div style='background-color: #fdd'>\\n\"+\n",
       "       \"<p>\\n\"+\n",
       "       \"BokehJS does not appear to have successfully loaded. If loading BokehJS from CDN, this \\n\"+\n",
       "       \"may be due to a slow or bad network connection. Possible fixes:\\n\"+\n",
       "       \"</p>\\n\"+\n",
       "       \"<ul>\\n\"+\n",
       "       \"<li>re-rerun `output_notebook()` to attempt to load from CDN again, or</li>\\n\"+\n",
       "       \"<li>use INLINE resources instead, as so:</li>\\n\"+\n",
       "       \"</ul>\\n\"+\n",
       "       \"<code>\\n\"+\n",
       "       \"from bokeh.resources import INLINE\\n\"+\n",
       "       \"output_notebook(resources=INLINE)\\n\"+\n",
       "       \"</code>\\n\"+\n",
       "       \"</div>\"}};\n",
       "  \n",
       "    function display_loaded() {\n",
       "      if (window.Bokeh !== undefined) {\n",
       "        document.getElementById(\"8a7009e7-4476-4453-aab7-cbc96fe2f1bb\").textContent = \"BokehJS successfully loaded.\";\n",
       "      } else if (Date.now() < window._bokeh_timeout) {\n",
       "        setTimeout(display_loaded, 100)\n",
       "      }\n",
       "    }\n",
       "  \n",
       "    function run_callbacks() {\n",
       "      window._bokeh_onload_callbacks.forEach(function(callback) { callback() });\n",
       "      delete window._bokeh_onload_callbacks\n",
       "      console.info(\"Bokeh: all callbacks have finished\");\n",
       "    }\n",
       "  \n",
       "    function load_libs(js_urls, callback) {\n",
       "      window._bokeh_onload_callbacks.push(callback);\n",
       "      if (window._bokeh_is_loading > 0) {\n",
       "        console.log(\"Bokeh: BokehJS is being loaded, scheduling callback at\", now());\n",
       "        return null;\n",
       "      }\n",
       "      if (js_urls == null || js_urls.length === 0) {\n",
       "        run_callbacks();\n",
       "        return null;\n",
       "      }\n",
       "      console.log(\"Bokeh: BokehJS not loaded, scheduling load and callback at\", now());\n",
       "      window._bokeh_is_loading = js_urls.length;\n",
       "      for (var i = 0; i < js_urls.length; i++) {\n",
       "        var url = js_urls[i];\n",
       "        var s = document.createElement('script');\n",
       "        s.src = url;\n",
       "        s.async = false;\n",
       "        s.onreadystatechange = s.onload = function() {\n",
       "          window._bokeh_is_loading--;\n",
       "          if (window._bokeh_is_loading === 0) {\n",
       "            console.log(\"Bokeh: all BokehJS libraries loaded\");\n",
       "            run_callbacks()\n",
       "          }\n",
       "        };\n",
       "        s.onerror = function() {\n",
       "          console.warn(\"failed to load library \" + url);\n",
       "        };\n",
       "        console.log(\"Bokeh: injecting script tag for BokehJS library: \", url);\n",
       "        document.getElementsByTagName(\"head\")[0].appendChild(s);\n",
       "      }\n",
       "    };var element = document.getElementById(\"8a7009e7-4476-4453-aab7-cbc96fe2f1bb\");\n",
       "    if (element == null) {\n",
       "      console.log(\"Bokeh: ERROR: autoload.js configured with elementid '8a7009e7-4476-4453-aab7-cbc96fe2f1bb' but no matching script tag was found. \")\n",
       "      return false;\n",
       "    }\n",
       "  \n",
       "    var js_urls = [];\n",
       "  \n",
       "    var inline_js = [\n",
       "      function(Bokeh) {\n",
       "        (function() {\n",
       "          var fn = function() {\n",
       "            var docs_json = {\"6884883c-6488-4d24-bee9-e2acd122a8d3\":{\"roots\":{\"references\":[{\"attributes\":{\"formatter\":{\"id\":\"4e649067-a037-491c-89df-6c3993b6c0bb\",\"type\":\"BasicTickFormatter\"},\"plot\":{\"id\":\"36dce487-42e3-4486-a4a9-7d6ee441a01e\",\"subtype\":\"Figure\",\"type\":\"Plot\"},\"ticker\":{\"id\":\"8ec2aa24-3577-46c8-8a2d-5d63d11a54a1\",\"type\":\"BasicTicker\"}},\"id\":\"9b4f3fcc-8400-43f8-affe-89775ee1d8ac\",\"type\":\"LinearAxis\"},{\"attributes\":{\"plot\":{\"id\":\"36dce487-42e3-4486-a4a9-7d6ee441a01e\",\"subtype\":\"Figure\",\"type\":\"Plot\"}},\"id\":\"0bfb809d-60a0-4876-a1c8-e200b4c04f7d\",\"type\":\"SaveTool\"},{\"attributes\":{\"callback\":null,\"overlay\":{\"id\":\"ec9aadc2-f892-4a9d-9957-7d3f1f3375cc\",\"type\":\"BoxAnnotation\"},\"plot\":{\"id\":\"36dce487-42e3-4486-a4a9-7d6ee441a01e\",\"subtype\":\"Figure\",\"type\":\"Plot\"},\"renderers\":[{\"id\":\"4ae10e7e-8698-4150-84a8-c02db8e1eb14\",\"type\":\"GlyphRenderer\"},{\"id\":\"8f98950c-7fe3-4195-9d9b-59ff30495932\",\"type\":\"GlyphRenderer\"}]},\"id\":\"5ab99f8c-c915-4e9b-a40e-5c1145e034bf\",\"type\":\"BoxSelectTool\"},{\"attributes\":{\"line_color\":{\"value\":\"blue\"},\"line_width\":{\"value\":2},\"x\":{\"field\":\"x\"},\"y\":{\"field\":\"y\"}},\"id\":\"34962935-0512-4bb1-9796-808e427445b4\",\"type\":\"Line\"},{\"attributes\":{\"callback\":null,\"overlay\":{\"id\":\"647d50f5-9938-4294-8c38-23d132b803a5\",\"type\":\"PolyAnnotation\"},\"plot\":{\"id\":\"36dce487-42e3-4486-a4a9-7d6ee441a01e\",\"subtype\":\"Figure\",\"type\":\"Plot\"}},\"id\":\"74eecf6e-816e-40e2-8e51-40723fae7802\",\"type\":\"LassoSelectTool\"},{\"attributes\":{\"formatter\":{\"id\":\"faee3db4-4018-4e46-aca3-b19cda8825e2\",\"type\":\"BasicTickFormatter\"},\"plot\":{\"id\":\"36dce487-42e3-4486-a4a9-7d6ee441a01e\",\"subtype\":\"Figure\",\"type\":\"Plot\"},\"ticker\":{\"id\":\"9c091e07-b7b8-451e-96bd-697c8307dcb0\",\"type\":\"BasicTicker\"}},\"id\":\"44426339-8cff-45bd-b9fc-e4992555d4d7\",\"type\":\"LinearAxis\"},{\"attributes\":{\"dimension\":1,\"plot\":{\"id\":\"36dce487-42e3-4486-a4a9-7d6ee441a01e\",\"subtype\":\"Figure\",\"type\":\"Plot\"},\"ticker\":{\"id\":\"8ec2aa24-3577-46c8-8a2d-5d63d11a54a1\",\"type\":\"BasicTicker\"}},\"id\":\"ebf098bb-5695-4f68-8c9b-7c1e110691db\",\"type\":\"Grid\"},{\"attributes\":{\"plot\":{\"id\":\"36dce487-42e3-4486-a4a9-7d6ee441a01e\",\"subtype\":\"Figure\",\"type\":\"Plot\"}},\"id\":\"7096d351-27c1-4354-9384-c7ad1d7f1cd6\",\"type\":\"CrosshairTool\"},{\"attributes\":{\"plot\":{\"id\":\"36dce487-42e3-4486-a4a9-7d6ee441a01e\",\"subtype\":\"Figure\",\"type\":\"Plot\"}},\"id\":\"25309945-a9e8-431d-9b20-01386ba7a137\",\"type\":\"PanTool\"},{\"attributes\":{\"bottom_units\":\"screen\",\"fill_alpha\":{\"value\":0.5},\"fill_color\":{\"value\":\"lightgrey\"},\"left_units\":\"screen\",\"level\":\"overlay\",\"line_alpha\":{\"value\":1.0},\"line_color\":{\"value\":\"black\"},\"line_dash\":[4,4],\"line_width\":{\"value\":2},\"plot\":null,\"render_mode\":\"css\",\"right_units\":\"screen\",\"top_units\":\"screen\"},\"id\":\"e7a21541-82c6-4d14-b64f-23b98fe330e4\",\"type\":\"BoxAnnotation\"},{\"attributes\":{\"below\":[{\"id\":\"44426339-8cff-45bd-b9fc-e4992555d4d7\",\"type\":\"LinearAxis\"}],\"left\":[{\"id\":\"9b4f3fcc-8400-43f8-affe-89775ee1d8ac\",\"type\":\"LinearAxis\"}],\"renderers\":[{\"id\":\"44426339-8cff-45bd-b9fc-e4992555d4d7\",\"type\":\"LinearAxis\"},{\"id\":\"b23b3a27-f4f6-4197-870a-e5d64fc06baa\",\"type\":\"Grid\"},{\"id\":\"9b4f3fcc-8400-43f8-affe-89775ee1d8ac\",\"type\":\"LinearAxis\"},{\"id\":\"ebf098bb-5695-4f68-8c9b-7c1e110691db\",\"type\":\"Grid\"},{\"id\":\"e7a21541-82c6-4d14-b64f-23b98fe330e4\",\"type\":\"BoxAnnotation\"},{\"id\":\"ec9aadc2-f892-4a9d-9957-7d3f1f3375cc\",\"type\":\"BoxAnnotation\"},{\"id\":\"647d50f5-9938-4294-8c38-23d132b803a5\",\"type\":\"PolyAnnotation\"},{\"id\":\"1066ae34-a32f-4c08-a152-c839bf41d73a\",\"type\":\"PolyAnnotation\"},{\"id\":\"a5d41f7e-6dc7-4380-884f-e1a2f561f2d0\",\"type\":\"Legend\"},{\"id\":\"4ae10e7e-8698-4150-84a8-c02db8e1eb14\",\"type\":\"GlyphRenderer\"},{\"id\":\"8f98950c-7fe3-4195-9d9b-59ff30495932\",\"type\":\"GlyphRenderer\"}],\"title\":{\"id\":\"5ee456d2-4b5d-4c00-ac87-a8430ceb9e96\",\"type\":\"Title\"},\"tool_events\":{\"id\":\"da46b0f7-bd82-4016-a008-22062a8cf56c\",\"type\":\"ToolEvents\"},\"toolbar\":{\"id\":\"efe451f0-a98d-4415-8492-083becf3b8b7\",\"type\":\"Toolbar\"},\"x_range\":{\"id\":\"288e584f-6abc-40bc-b9fc-89d3e7bd2bca\",\"type\":\"DataRange1d\"},\"y_range\":{\"id\":\"9f01fa7b-c650-4745-991d-7fa2b96ee21e\",\"type\":\"DataRange1d\"}},\"id\":\"36dce487-42e3-4486-a4a9-7d6ee441a01e\",\"subtype\":\"Figure\",\"type\":\"Plot\"},{\"attributes\":{\"callback\":null,\"column_names\":[\"x\",\"y\"],\"data\":{\"x\":[0,1,2,3,4,5,6,7,8,9,10,11,12,13,14,15],\"y\":{\"__ndarray__\":\"AAAAAAAA8D8AAAAAAADwPwAAAAAAAPA/AAAA4O7u7j8AAADg3d3tPwAAAODd3e0/AAAA4N3d7T8AAADg3d3tPwAAAKCqquo/AAAAYFVV5T8AAABgVVXlPwAAAGBVVeU/AAAAgHd31z8AAACAd3fXPwAAAIB3d9c/AAAAgHd31z8=\",\"dtype\":\"float64\",\"shape\":[16]}}},\"id\":\"a567cc29-eb4a-4512-a7af-10bf00a96d9b\",\"type\":\"ColumnDataSource\"},{\"attributes\":{},\"id\":\"9c091e07-b7b8-451e-96bd-697c8307dcb0\",\"type\":\"BasicTicker\"},{\"attributes\":{\"plot\":{\"id\":\"36dce487-42e3-4486-a4a9-7d6ee441a01e\",\"subtype\":\"Figure\",\"type\":\"Plot\"}},\"id\":\"143b4ff6-8e81-45ae-85a0-9ebd35f4f60b\",\"type\":\"ResetTool\"},{\"attributes\":{},\"id\":\"da46b0f7-bd82-4016-a008-22062a8cf56c\",\"type\":\"ToolEvents\"},{\"attributes\":{\"fill_alpha\":{\"value\":0.5},\"fill_color\":{\"value\":\"lightgrey\"},\"level\":\"overlay\",\"line_alpha\":{\"value\":1.0},\"line_color\":{\"value\":\"black\"},\"line_dash\":[4,4],\"line_width\":{\"value\":2},\"plot\":null,\"xs_units\":\"screen\",\"ys_units\":\"screen\"},\"id\":\"647d50f5-9938-4294-8c38-23d132b803a5\",\"type\":\"PolyAnnotation\"},{\"attributes\":{\"overlay\":{\"id\":\"1066ae34-a32f-4c08-a152-c839bf41d73a\",\"type\":\"PolyAnnotation\"},\"plot\":{\"id\":\"36dce487-42e3-4486-a4a9-7d6ee441a01e\",\"subtype\":\"Figure\",\"type\":\"Plot\"}},\"id\":\"dfd07f03-6af9-42c9-bc44-478b8bad4c59\",\"type\":\"PolySelectTool\"},{\"attributes\":{\"label\":{\"value\":\"Thompson Sampling\"},\"renderers\":[{\"id\":\"8f98950c-7fe3-4195-9d9b-59ff30495932\",\"type\":\"GlyphRenderer\"}]},\"id\":\"ce960acb-4412-4e27-bdfb-4f38507ad729\",\"type\":\"LegendItem\"},{\"attributes\":{\"plot\":{\"id\":\"36dce487-42e3-4486-a4a9-7d6ee441a01e\",\"subtype\":\"Figure\",\"type\":\"Plot\"},\"ticker\":{\"id\":\"9c091e07-b7b8-451e-96bd-697c8307dcb0\",\"type\":\"BasicTicker\"}},\"id\":\"b23b3a27-f4f6-4197-870a-e5d64fc06baa\",\"type\":\"Grid\"},{\"attributes\":{\"fill_alpha\":{\"value\":0.5},\"fill_color\":{\"value\":\"lightgrey\"},\"level\":\"overlay\",\"line_alpha\":{\"value\":1.0},\"line_color\":{\"value\":\"black\"},\"line_dash\":[4,4],\"line_width\":{\"value\":2},\"plot\":null,\"xs_units\":\"screen\",\"ys_units\":\"screen\"},\"id\":\"1066ae34-a32f-4c08-a152-c839bf41d73a\",\"type\":\"PolyAnnotation\"},{\"attributes\":{\"align\":\"center\",\"plot\":null,\"text\":\"The Performance over the number of neurons' pruned\"},\"id\":\"5ee456d2-4b5d-4c00-ac87-a8430ceb9e96\",\"type\":\"Title\"},{\"attributes\":{\"data_source\":{\"id\":\"e6591c3f-24d3-4936-8767-fd89e366410b\",\"type\":\"ColumnDataSource\"},\"glyph\":{\"id\":\"34962935-0512-4bb1-9796-808e427445b4\",\"type\":\"Line\"},\"hover_glyph\":null,\"nonselection_glyph\":{\"id\":\"5a2b0b4e-47ee-4ca4-a71a-d0921f7869be\",\"type\":\"Line\"},\"selection_glyph\":null},\"id\":\"4ae10e7e-8698-4150-84a8-c02db8e1eb14\",\"type\":\"GlyphRenderer\"},{\"attributes\":{\"overlay\":{\"id\":\"e7a21541-82c6-4d14-b64f-23b98fe330e4\",\"type\":\"BoxAnnotation\"},\"plot\":{\"id\":\"36dce487-42e3-4486-a4a9-7d6ee441a01e\",\"subtype\":\"Figure\",\"type\":\"Plot\"}},\"id\":\"df0c562b-fdda-4117-bd5f-4ce6620203a9\",\"type\":\"BoxZoomTool\"},{\"attributes\":{\"plot\":{\"id\":\"36dce487-42e3-4486-a4a9-7d6ee441a01e\",\"subtype\":\"Figure\",\"type\":\"Plot\"}},\"id\":\"e0ad7603-1bcf-45b3-ad5b-94e0076c7821\",\"type\":\"UndoTool\"},{\"attributes\":{\"callback\":null},\"id\":\"9f01fa7b-c650-4745-991d-7fa2b96ee21e\",\"type\":\"DataRange1d\"},{\"attributes\":{\"line_alpha\":{\"value\":0.1},\"line_color\":{\"value\":\"#1f77b4\"},\"line_width\":{\"value\":2},\"x\":{\"field\":\"x\"},\"y\":{\"field\":\"y\"}},\"id\":\"5a2b0b4e-47ee-4ca4-a71a-d0921f7869be\",\"type\":\"Line\"},{\"attributes\":{\"callback\":null,\"plot\":{\"id\":\"36dce487-42e3-4486-a4a9-7d6ee441a01e\",\"subtype\":\"Figure\",\"type\":\"Plot\"}},\"id\":\"b8112112-e601-42ee-89a1-d48f5b3ec8fc\",\"type\":\"TapTool\"},{\"attributes\":{},\"id\":\"faee3db4-4018-4e46-aca3-b19cda8825e2\",\"type\":\"BasicTickFormatter\"},{\"attributes\":{\"label\":{\"value\":\"ucb1\"},\"renderers\":[{\"id\":\"4ae10e7e-8698-4150-84a8-c02db8e1eb14\",\"type\":\"GlyphRenderer\"}]},\"id\":\"1f861522-fb59-46ee-9050-61860e947db0\",\"type\":\"LegendItem\"},{\"attributes\":{\"items\":[{\"id\":\"1f861522-fb59-46ee-9050-61860e947db0\",\"type\":\"LegendItem\"},{\"id\":\"ce960acb-4412-4e27-bdfb-4f38507ad729\",\"type\":\"LegendItem\"}],\"plot\":{\"id\":\"36dce487-42e3-4486-a4a9-7d6ee441a01e\",\"subtype\":\"Figure\",\"type\":\"Plot\"}},\"id\":\"a5d41f7e-6dc7-4380-884f-e1a2f561f2d0\",\"type\":\"Legend\"},{\"attributes\":{\"data_source\":{\"id\":\"a567cc29-eb4a-4512-a7af-10bf00a96d9b\",\"type\":\"ColumnDataSource\"},\"glyph\":{\"id\":\"551f6eac-bcd6-46cf-8561-a055d76fdcfe\",\"type\":\"Line\"},\"hover_glyph\":null,\"nonselection_glyph\":{\"id\":\"578b5704-f509-461a-9b9e-0c1b0a679b96\",\"type\":\"Line\"},\"selection_glyph\":null},\"id\":\"8f98950c-7fe3-4195-9d9b-59ff30495932\",\"type\":\"GlyphRenderer\"},{\"attributes\":{\"active_drag\":\"auto\",\"active_scroll\":\"auto\",\"active_tap\":\"auto\",\"tools\":[{\"id\":\"df0c562b-fdda-4117-bd5f-4ce6620203a9\",\"type\":\"BoxZoomTool\"},{\"id\":\"5ab99f8c-c915-4e9b-a40e-5c1145e034bf\",\"type\":\"BoxSelectTool\"},{\"id\":\"7096d351-27c1-4354-9384-c7ad1d7f1cd6\",\"type\":\"CrosshairTool\"},{\"id\":\"589829fc-0e1f-40a9-ab31-dd2ba7e01a04\",\"type\":\"ResizeTool\"},{\"id\":\"143b4ff6-8e81-45ae-85a0-9ebd35f4f60b\",\"type\":\"ResetTool\"},{\"id\":\"74eecf6e-816e-40e2-8e51-40723fae7802\",\"type\":\"LassoSelectTool\"},{\"id\":\"25309945-a9e8-431d-9b20-01386ba7a137\",\"type\":\"PanTool\"},{\"id\":\"0bfb809d-60a0-4876-a1c8-e200b4c04f7d\",\"type\":\"SaveTool\"},{\"id\":\"dfd07f03-6af9-42c9-bc44-478b8bad4c59\",\"type\":\"PolySelectTool\"},{\"id\":\"b8112112-e601-42ee-89a1-d48f5b3ec8fc\",\"type\":\"TapTool\"},{\"id\":\"191c1117-335e-408d-848b-a0807ba243b0\",\"type\":\"WheelZoomTool\"},{\"id\":\"e0ad7603-1bcf-45b3-ad5b-94e0076c7821\",\"type\":\"UndoTool\"}]},\"id\":\"efe451f0-a98d-4415-8492-083becf3b8b7\",\"type\":\"Toolbar\"},{\"attributes\":{\"plot\":{\"id\":\"36dce487-42e3-4486-a4a9-7d6ee441a01e\",\"subtype\":\"Figure\",\"type\":\"Plot\"}},\"id\":\"191c1117-335e-408d-848b-a0807ba243b0\",\"type\":\"WheelZoomTool\"},{\"attributes\":{\"line_alpha\":{\"value\":0.1},\"line_color\":{\"value\":\"#1f77b4\"},\"line_width\":{\"value\":2},\"x\":{\"field\":\"x\"},\"y\":{\"field\":\"y\"}},\"id\":\"578b5704-f509-461a-9b9e-0c1b0a679b96\",\"type\":\"Line\"},{\"attributes\":{},\"id\":\"4e649067-a037-491c-89df-6c3993b6c0bb\",\"type\":\"BasicTickFormatter\"},{\"attributes\":{\"plot\":{\"id\":\"36dce487-42e3-4486-a4a9-7d6ee441a01e\",\"subtype\":\"Figure\",\"type\":\"Plot\"}},\"id\":\"589829fc-0e1f-40a9-ab31-dd2ba7e01a04\",\"type\":\"ResizeTool\"},{\"attributes\":{\"line_color\":{\"value\":\"red\"},\"line_width\":{\"value\":2},\"x\":{\"field\":\"x\"},\"y\":{\"field\":\"y\"}},\"id\":\"551f6eac-bcd6-46cf-8561-a055d76fdcfe\",\"type\":\"Line\"},{\"attributes\":{\"bottom_units\":\"screen\",\"fill_alpha\":{\"value\":0.5},\"fill_color\":{\"value\":\"lightgrey\"},\"left_units\":\"screen\",\"level\":\"overlay\",\"line_alpha\":{\"value\":1.0},\"line_color\":{\"value\":\"black\"},\"line_dash\":[4,4],\"line_width\":{\"value\":2},\"plot\":null,\"render_mode\":\"css\",\"right_units\":\"screen\",\"top_units\":\"screen\"},\"id\":\"ec9aadc2-f892-4a9d-9957-7d3f1f3375cc\",\"type\":\"BoxAnnotation\"},{\"attributes\":{\"callback\":null,\"column_names\":[\"x\",\"y\"],\"data\":{\"x\":[0,1,2,3,4,5,6,7,8,9,10,11,12,13,14,15],\"y\":{\"__ndarray__\":\"AAAA4O7u7j8AAADg7u7uPwAAAODu7u4/AAAA4O7u7j8AAADg7u7uPwAAAODu7u4/AAAA4O7u7j8AAADAzMzsPwAAAGBVVeU/AAAAYFVV5T8AAABgVVXlPwAAAGBVVeU/AAAAgHd31z8AAACAd3fXPwAAAIB3d9c/AAAAgHd31z8=\",\"dtype\":\"float64\",\"shape\":[16]}}},\"id\":\"e6591c3f-24d3-4936-8767-fd89e366410b\",\"type\":\"ColumnDataSource\"},{\"attributes\":{},\"id\":\"8ec2aa24-3577-46c8-8a2d-5d63d11a54a1\",\"type\":\"BasicTicker\"},{\"attributes\":{\"callback\":null},\"id\":\"288e584f-6abc-40bc-b9fc-89d3e7bd2bca\",\"type\":\"DataRange1d\"}],\"root_ids\":[\"36dce487-42e3-4486-a4a9-7d6ee441a01e\"]},\"title\":\"Bokeh Application\",\"version\":\"0.12.4\"}};\n",
       "            var render_items = [{\"docid\":\"6884883c-6488-4d24-bee9-e2acd122a8d3\",\"elementid\":\"8a7009e7-4476-4453-aab7-cbc96fe2f1bb\",\"modelid\":\"36dce487-42e3-4486-a4a9-7d6ee441a01e\"}];\n",
       "            \n",
       "            Bokeh.embed.embed_items(docs_json, render_items);\n",
       "          };\n",
       "          if (document.readyState != \"loading\") fn();\n",
       "          else document.addEventListener(\"DOMContentLoaded\", fn);\n",
       "        })();\n",
       "      },\n",
       "      function(Bokeh) {\n",
       "      }\n",
       "    ];\n",
       "  \n",
       "    function run_inline_js() {\n",
       "      \n",
       "      if ((window.Bokeh !== undefined) || (force === true)) {\n",
       "        for (var i = 0; i < inline_js.length; i++) {\n",
       "          inline_js[i](window.Bokeh);\n",
       "        }if (force === true) {\n",
       "          display_loaded();\n",
       "        }} else if (Date.now() < window._bokeh_timeout) {\n",
       "        setTimeout(run_inline_js, 100);\n",
       "      } else if (!window._bokeh_failed_load) {\n",
       "        console.log(\"Bokeh: BokehJS failed to load within specified timeout.\");\n",
       "        window._bokeh_failed_load = true;\n",
       "      } else if (force !== true) {\n",
       "        var cell = $(document.getElementById(\"8a7009e7-4476-4453-aab7-cbc96fe2f1bb\")).parents('.cell').data().cell;\n",
       "        cell.output_area.append_execute_result(NB_LOAD_WARNING)\n",
       "      }\n",
       "  \n",
       "    }\n",
       "  \n",
       "    if (window._bokeh_is_loading === 0) {\n",
       "      console.log(\"Bokeh: BokehJS loaded, going straight to plotting\");\n",
       "      run_inline_js();\n",
       "    } else {\n",
       "      load_libs(js_urls, function() {\n",
       "        console.log(\"Bokeh: BokehJS plotting callback run at\", now());\n",
       "        run_inline_js();\n",
       "      });\n",
       "    }\n",
       "  }(this));\n",
       "</script>"
      ]
     },
     "metadata": {},
     "output_type": "display_data"
    }
   ],
   "source": [
    "p1 = figure(title=\"The Performance over the number of neurons' pruned\", tools=TOOLS)\n",
    "p1.line(ind, ucb1, legend=\"ucb1\", line_color=\"blue\", line_width=2)\n",
    "p1.line(ind, ThompsonSampling, legend=\"Thompson Sampling\", line_color=\"red\", line_width=2)\n",
    "p1.title.align = \"center\"\n",
    "show(p1)"
   ]
  },
  {
   "cell_type": "markdown",
   "metadata": {},
   "source": [
    "# Comparing All algorithms with the model before pruning"
   ]
  },
  {
   "cell_type": "code",
   "execution_count": 10,
   "metadata": {
    "collapsed": false
   },
   "outputs": [
    {
     "data": {
      "image/png": "[encoded data removed]",
      "text/plain": [
       "<matplotlib.figure.Figure at 0x10e304828>"
      ]
     },
     "metadata": {},
     "output_type": "display_data"
    }
   ],
   "source": [
    "fig = plt.figure(figsize=(10, 6), dpi=80)\n",
    "ax = fig.add_subplot(111)\n",
    "N = len(ucb1)\n",
    "Acc = [Accuracy for col in range(N)]\n",
    "ind = np.arange(N)                # the x locations for the groups\n",
    "plt.plot(ind , ucb1 , color=\"blue\", linewidth=2.5, linestyle=\"-\", label=\"UCB1\")\n",
    "plt.plot(ind , ThompsonSampling, color=\"orange\", linewidth=2.5, linestyle=\"-\", label=\"Thompson Sampling\")\n",
    "plt.plot(ind , Acc, color=\"pink\", linewidth=2.5, linestyle=\"-\", label=\"Accuracy before Pruning\")\n",
    "plt.legend(loc = 3)\n",
    "plt.axis([0, 25, 0, 1])\n",
    "plt.xlabel('Number of pruned Neurons')\n",
    "plt.ylabel('The Accuracy')\n",
    "plt.grid(True)\n",
    "plt.show()"
   ]
  },
  {
   "cell_type": "code",
   "execution_count": 11,
   "metadata": {
    "collapsed": false
   },
   "outputs": [
    {
     "data": {
      "text/html": [
       "\n",
       "\n",
       "    <div class=\"bk-root\">\n",
       "        <div class=\"bk-plotdiv\" id=\"37b9af5f-9e2a-4049-a457-aa1511f44d69\"></div>\n",
       "    </div>\n",
       "<script type=\"text/javascript\">\n",
       "  \n",
       "  (function(global) {\n",
       "    function now() {\n",
       "      return new Date();\n",
       "    }\n",
       "  \n",
       "    var force = false;\n",
       "  \n",
       "    if (typeof (window._bokeh_onload_callbacks) === \"undefined\" || force === true) {\n",
       "      window._bokeh_onload_callbacks = [];\n",
       "      window._bokeh_is_loading = undefined;\n",
       "    }\n",
       "  \n",
       "  \n",
       "    \n",
       "    if (typeof (window._bokeh_timeout) === \"undefined\" || force === true) {\n",
       "      window._bokeh_timeout = Date.now() + 0;\n",
       "      window._bokeh_failed_load = false;\n",
       "    }\n",
       "  \n",
       "    var NB_LOAD_WARNING = {'data': {'text/html':\n",
       "       \"<div style='background-color: #fdd'>\\n\"+\n",
       "       \"<p>\\n\"+\n",
       "       \"BokehJS does not appear to have successfully loaded. If loading BokehJS from CDN, this \\n\"+\n",
       "       \"may be due to a slow or bad network connection. Possible fixes:\\n\"+\n",
       "       \"</p>\\n\"+\n",
       "       \"<ul>\\n\"+\n",
       "       \"<li>re-rerun `output_notebook()` to attempt to load from CDN again, or</li>\\n\"+\n",
       "       \"<li>use INLINE resources instead, as so:</li>\\n\"+\n",
       "       \"</ul>\\n\"+\n",
       "       \"<code>\\n\"+\n",
       "       \"from bokeh.resources import INLINE\\n\"+\n",
       "       \"output_notebook(resources=INLINE)\\n\"+\n",
       "       \"</code>\\n\"+\n",
       "       \"</div>\"}};\n",
       "  \n",
       "    function display_loaded() {\n",
       "      if (window.Bokeh !== undefined) {\n",
       "        document.getElementById(\"37b9af5f-9e2a-4049-a457-aa1511f44d69\").textContent = \"BokehJS successfully loaded.\";\n",
       "      } else if (Date.now() < window._bokeh_timeout) {\n",
       "        setTimeout(display_loaded, 100)\n",
       "      }\n",
       "    }\n",
       "  \n",
       "    function run_callbacks() {\n",
       "      window._bokeh_onload_callbacks.forEach(function(callback) { callback() });\n",
       "      delete window._bokeh_onload_callbacks\n",
       "      console.info(\"Bokeh: all callbacks have finished\");\n",
       "    }\n",
       "  \n",
       "    function load_libs(js_urls, callback) {\n",
       "      window._bokeh_onload_callbacks.push(callback);\n",
       "      if (window._bokeh_is_loading > 0) {\n",
       "        console.log(\"Bokeh: BokehJS is being loaded, scheduling callback at\", now());\n",
       "        return null;\n",
       "      }\n",
       "      if (js_urls == null || js_urls.length === 0) {\n",
       "        run_callbacks();\n",
       "        return null;\n",
       "      }\n",
       "      console.log(\"Bokeh: BokehJS not loaded, scheduling load and callback at\", now());\n",
       "      window._bokeh_is_loading = js_urls.length;\n",
       "      for (var i = 0; i < js_urls.length; i++) {\n",
       "        var url = js_urls[i];\n",
       "        var s = document.createElement('script');\n",
       "        s.src = url;\n",
       "        s.async = false;\n",
       "        s.onreadystatechange = s.onload = function() {\n",
       "          window._bokeh_is_loading--;\n",
       "          if (window._bokeh_is_loading === 0) {\n",
       "            console.log(\"Bokeh: all BokehJS libraries loaded\");\n",
       "            run_callbacks()\n",
       "          }\n",
       "        };\n",
       "        s.onerror = function() {\n",
       "          console.warn(\"failed to load library \" + url);\n",
       "        };\n",
       "        console.log(\"Bokeh: injecting script tag for BokehJS library: \", url);\n",
       "        document.getElementsByTagName(\"head\")[0].appendChild(s);\n",
       "      }\n",
       "    };var element = document.getElementById(\"37b9af5f-9e2a-4049-a457-aa1511f44d69\");\n",
       "    if (element == null) {\n",
       "      console.log(\"Bokeh: ERROR: autoload.js configured with elementid '37b9af5f-9e2a-4049-a457-aa1511f44d69' but no matching script tag was found. \")\n",
       "      return false;\n",
       "    }\n",
       "  \n",
       "    var js_urls = [];\n",
       "  \n",
       "    var inline_js = [\n",
       "      function(Bokeh) {\n",
       "        (function() {\n",
       "          var fn = function() {\n",
       "            var docs_json = {\"ac2c27b4-d697-47fd-9dc7-c5d2be49bed1\":{\"roots\":{\"references\":[{\"attributes\":{\"data_source\":{\"id\":\"48453bce-7da1-43e3-8c5a-538920d987df\",\"type\":\"ColumnDataSource\"},\"glyph\":{\"id\":\"7b2cdd42-96bf-40fe-a901-17aa38c7b4e2\",\"type\":\"Line\"},\"hover_glyph\":null,\"nonselection_glyph\":{\"id\":\"f9913f26-f2b4-4d90-a1b8-064ec36ee391\",\"type\":\"Line\"},\"selection_glyph\":null},\"id\":\"cd1193fd-322e-4e35-b296-496e6889572e\",\"type\":\"GlyphRenderer\"},{\"attributes\":{\"label\":{\"value\":\"Thompson Sampling\"},\"renderers\":[{\"id\":\"cd1193fd-322e-4e35-b296-496e6889572e\",\"type\":\"GlyphRenderer\"}]},\"id\":\"9b45cdad-1183-4829-a61f-31cf7251e36c\",\"type\":\"LegendItem\"},{\"attributes\":{\"fill_alpha\":{\"value\":0.5},\"fill_color\":{\"value\":\"lightgrey\"},\"level\":\"overlay\",\"line_alpha\":{\"value\":1.0},\"line_color\":{\"value\":\"black\"},\"line_dash\":[4,4],\"line_width\":{\"value\":2},\"plot\":null,\"xs_units\":\"screen\",\"ys_units\":\"screen\"},\"id\":\"3dc75c64-8d1f-43e1-abbf-22414da88d29\",\"type\":\"PolyAnnotation\"},{\"attributes\":{\"plot\":{\"id\":\"01838eec-a517-4c81-8641-dd042df8999b\",\"subtype\":\"Figure\",\"type\":\"Plot\"}},\"id\":\"3aede783-8660-4676-ae2b-6747b8bf6a57\",\"type\":\"ResetTool\"},{\"attributes\":{\"callback\":null,\"column_names\":[\"x\",\"y\"],\"data\":{\"x\":[0,1,2,3,4,5,6,7,8,9,10,11,12,13,14,15],\"y\":{\"__ndarray__\":\"AAAAAAAA8D8AAAAAAADwPwAAAAAAAPA/AAAA4O7u7j8AAADg3d3tPwAAAODd3e0/AAAA4N3d7T8AAADg3d3tPwAAAKCqquo/AAAAYFVV5T8AAABgVVXlPwAAAGBVVeU/AAAAgHd31z8AAACAd3fXPwAAAIB3d9c/AAAAgHd31z8=\",\"dtype\":\"float64\",\"shape\":[16]}}},\"id\":\"48453bce-7da1-43e3-8c5a-538920d987df\",\"type\":\"ColumnDataSource\"},{\"attributes\":{\"formatter\":{\"id\":\"702c1cf5-eb5d-439e-8486-f93d6cbbc50b\",\"type\":\"BasicTickFormatter\"},\"plot\":{\"id\":\"01838eec-a517-4c81-8641-dd042df8999b\",\"subtype\":\"Figure\",\"type\":\"Plot\"},\"ticker\":{\"id\":\"78025ccf-16f8-4c3d-9710-f74963075924\",\"type\":\"BasicTicker\"}},\"id\":\"0afc1fb8-3d07-4f4a-a51a-5596d29549d1\",\"type\":\"LinearAxis\"},{\"attributes\":{\"fill_alpha\":{\"value\":0.5},\"fill_color\":{\"value\":\"lightgrey\"},\"level\":\"overlay\",\"line_alpha\":{\"value\":1.0},\"line_color\":{\"value\":\"black\"},\"line_dash\":[4,4],\"line_width\":{\"value\":2},\"plot\":null,\"xs_units\":\"screen\",\"ys_units\":\"screen\"},\"id\":\"f365ea23-4b42-48f2-a1d0-2cfca964da1f\",\"type\":\"PolyAnnotation\"},{\"attributes\":{\"overlay\":{\"id\":\"f365ea23-4b42-48f2-a1d0-2cfca964da1f\",\"type\":\"PolyAnnotation\"},\"plot\":{\"id\":\"01838eec-a517-4c81-8641-dd042df8999b\",\"subtype\":\"Figure\",\"type\":\"Plot\"}},\"id\":\"7016201c-8f69-4157-9f2b-63fde55d098f\",\"type\":\"PolySelectTool\"},{\"attributes\":{},\"id\":\"4e3e1c71-471a-475e-8b29-d8284e99d70f\",\"type\":\"ToolEvents\"},{\"attributes\":{\"below\":[{\"id\":\"b415b2bd-d22d-4491-981c-a6a3c9e62007\",\"type\":\"LinearAxis\"}],\"left\":[{\"id\":\"0afc1fb8-3d07-4f4a-a51a-5596d29549d1\",\"type\":\"LinearAxis\"}],\"renderers\":[{\"id\":\"b415b2bd-d22d-4491-981c-a6a3c9e62007\",\"type\":\"LinearAxis\"},{\"id\":\"e5f00757-e8e0-46d5-b668-b19b6ec548cf\",\"type\":\"Grid\"},{\"id\":\"0afc1fb8-3d07-4f4a-a51a-5596d29549d1\",\"type\":\"LinearAxis\"},{\"id\":\"43196737-298e-4fc7-98ad-2ad8cdc6dd4f\",\"type\":\"Grid\"},{\"id\":\"5a01fe7c-34bc-43bf-97d9-4518520be64a\",\"type\":\"BoxAnnotation\"},{\"id\":\"9889e305-732d-490d-b8f9-fd7e1e9f1f39\",\"type\":\"BoxAnnotation\"},{\"id\":\"3dc75c64-8d1f-43e1-abbf-22414da88d29\",\"type\":\"PolyAnnotation\"},{\"id\":\"f365ea23-4b42-48f2-a1d0-2cfca964da1f\",\"type\":\"PolyAnnotation\"},{\"id\":\"3ac8ad81-8072-415d-a7df-0e008faabb8a\",\"type\":\"Legend\"},{\"id\":\"42fa108b-d95d-4750-a883-790c7c2383c8\",\"type\":\"GlyphRenderer\"},{\"id\":\"cd1193fd-322e-4e35-b296-496e6889572e\",\"type\":\"GlyphRenderer\"},{\"id\":\"ac933db1-ec89-4903-b0d2-a0806a11f35f\",\"type\":\"GlyphRenderer\"}],\"title\":{\"id\":\"f69512c2-7a8e-4b56-9c40-65392eec5ac5\",\"type\":\"Title\"},\"tool_events\":{\"id\":\"4e3e1c71-471a-475e-8b29-d8284e99d70f\",\"type\":\"ToolEvents\"},\"toolbar\":{\"id\":\"6834bdc2-b65a-4dc0-b26e-494fc0a84ffd\",\"type\":\"Toolbar\"},\"x_range\":{\"id\":\"1cfc13ce-9121-4b37-8a28-080f7a637823\",\"type\":\"DataRange1d\"},\"y_range\":{\"id\":\"5c46ffb1-f5fb-43a8-9d1e-03c50b3f0f7e\",\"type\":\"DataRange1d\"}},\"id\":\"01838eec-a517-4c81-8641-dd042df8999b\",\"subtype\":\"Figure\",\"type\":\"Plot\"},{\"attributes\":{\"line_color\":{\"value\":\"red\"},\"line_width\":{\"value\":2},\"x\":{\"field\":\"x\"},\"y\":{\"field\":\"y\"}},\"id\":\"7b2cdd42-96bf-40fe-a901-17aa38c7b4e2\",\"type\":\"Line\"},{\"attributes\":{\"formatter\":{\"id\":\"a953347a-fe13-43a7-a01f-280296d6353b\",\"type\":\"BasicTickFormatter\"},\"plot\":{\"id\":\"01838eec-a517-4c81-8641-dd042df8999b\",\"subtype\":\"Figure\",\"type\":\"Plot\"},\"ticker\":{\"id\":\"03ae016a-8017-4a49-946d-1878374b6a5f\",\"type\":\"BasicTicker\"}},\"id\":\"b415b2bd-d22d-4491-981c-a6a3c9e62007\",\"type\":\"LinearAxis\"},{\"attributes\":{\"line_alpha\":{\"value\":0.1},\"line_color\":{\"value\":\"#1f77b4\"},\"line_width\":{\"value\":2},\"x\":{\"field\":\"x\"},\"y\":{\"field\":\"y\"}},\"id\":\"f9913f26-f2b4-4d90-a1b8-064ec36ee391\",\"type\":\"Line\"},{\"attributes\":{\"plot\":{\"id\":\"01838eec-a517-4c81-8641-dd042df8999b\",\"subtype\":\"Figure\",\"type\":\"Plot\"}},\"id\":\"18d1d66a-f7f0-41dc-8c59-9aabf645c75f\",\"type\":\"WheelZoomTool\"},{\"attributes\":{\"callback\":null},\"id\":\"5c46ffb1-f5fb-43a8-9d1e-03c50b3f0f7e\",\"type\":\"DataRange1d\"},{\"attributes\":{\"plot\":{\"id\":\"01838eec-a517-4c81-8641-dd042df8999b\",\"subtype\":\"Figure\",\"type\":\"Plot\"}},\"id\":\"41a93b59-78bd-489e-b59f-106dee46880e\",\"type\":\"UndoTool\"},{\"attributes\":{\"callback\":null},\"id\":\"1cfc13ce-9121-4b37-8a28-080f7a637823\",\"type\":\"DataRange1d\"},{\"attributes\":{\"bottom_units\":\"screen\",\"fill_alpha\":{\"value\":0.5},\"fill_color\":{\"value\":\"lightgrey\"},\"left_units\":\"screen\",\"level\":\"overlay\",\"line_alpha\":{\"value\":1.0},\"line_color\":{\"value\":\"black\"},\"line_dash\":[4,4],\"line_width\":{\"value\":2},\"plot\":null,\"render_mode\":\"css\",\"right_units\":\"screen\",\"top_units\":\"screen\"},\"id\":\"9889e305-732d-490d-b8f9-fd7e1e9f1f39\",\"type\":\"BoxAnnotation\"},{\"attributes\":{\"plot\":{\"id\":\"01838eec-a517-4c81-8641-dd042df8999b\",\"subtype\":\"Figure\",\"type\":\"Plot\"}},\"id\":\"a2dc7d5a-6cff-4cad-9e6d-5ae8304f9603\",\"type\":\"CrosshairTool\"},{\"attributes\":{},\"id\":\"a953347a-fe13-43a7-a01f-280296d6353b\",\"type\":\"BasicTickFormatter\"},{\"attributes\":{},\"id\":\"702c1cf5-eb5d-439e-8486-f93d6cbbc50b\",\"type\":\"BasicTickFormatter\"},{\"attributes\":{\"callback\":null,\"overlay\":{\"id\":\"9889e305-732d-490d-b8f9-fd7e1e9f1f39\",\"type\":\"BoxAnnotation\"},\"plot\":{\"id\":\"01838eec-a517-4c81-8641-dd042df8999b\",\"subtype\":\"Figure\",\"type\":\"Plot\"},\"renderers\":[{\"id\":\"42fa108b-d95d-4750-a883-790c7c2383c8\",\"type\":\"GlyphRenderer\"},{\"id\":\"cd1193fd-322e-4e35-b296-496e6889572e\",\"type\":\"GlyphRenderer\"},{\"id\":\"ac933db1-ec89-4903-b0d2-a0806a11f35f\",\"type\":\"GlyphRenderer\"}]},\"id\":\"afcc6a58-f1f7-40fe-8f58-a6590bc19002\",\"type\":\"BoxSelectTool\"},{\"attributes\":{\"plot\":{\"id\":\"01838eec-a517-4c81-8641-dd042df8999b\",\"subtype\":\"Figure\",\"type\":\"Plot\"}},\"id\":\"6bf1c197-94f1-4e86-a8e6-8d859954e17e\",\"type\":\"ResizeTool\"},{\"attributes\":{\"items\":[{\"id\":\"ae94ce75-e8eb-487f-b841-33a8cc14d185\",\"type\":\"LegendItem\"},{\"id\":\"9b45cdad-1183-4829-a61f-31cf7251e36c\",\"type\":\"LegendItem\"},{\"id\":\"d14cfb19-b223-48fb-ac87-069488eae9d7\",\"type\":\"LegendItem\"}],\"plot\":{\"id\":\"01838eec-a517-4c81-8641-dd042df8999b\",\"subtype\":\"Figure\",\"type\":\"Plot\"}},\"id\":\"3ac8ad81-8072-415d-a7df-0e008faabb8a\",\"type\":\"Legend\"},{\"attributes\":{\"overlay\":{\"id\":\"5a01fe7c-34bc-43bf-97d9-4518520be64a\",\"type\":\"BoxAnnotation\"},\"plot\":{\"id\":\"01838eec-a517-4c81-8641-dd042df8999b\",\"subtype\":\"Figure\",\"type\":\"Plot\"}},\"id\":\"8dbfa467-da70-4fa8-a936-d1809710f198\",\"type\":\"BoxZoomTool\"},{\"attributes\":{\"plot\":{\"id\":\"01838eec-a517-4c81-8641-dd042df8999b\",\"subtype\":\"Figure\",\"type\":\"Plot\"},\"ticker\":{\"id\":\"03ae016a-8017-4a49-946d-1878374b6a5f\",\"type\":\"BasicTicker\"}},\"id\":\"e5f00757-e8e0-46d5-b668-b19b6ec548cf\",\"type\":\"Grid\"},{\"attributes\":{\"label\":{\"value\":\"ucb1\"},\"renderers\":[{\"id\":\"42fa108b-d95d-4750-a883-790c7c2383c8\",\"type\":\"GlyphRenderer\"}]},\"id\":\"ae94ce75-e8eb-487f-b841-33a8cc14d185\",\"type\":\"LegendItem\"},{\"attributes\":{\"callback\":null,\"overlay\":{\"id\":\"3dc75c64-8d1f-43e1-abbf-22414da88d29\",\"type\":\"PolyAnnotation\"},\"plot\":{\"id\":\"01838eec-a517-4c81-8641-dd042df8999b\",\"subtype\":\"Figure\",\"type\":\"Plot\"}},\"id\":\"e5270a3a-8edc-4f19-98df-ced76b7374b6\",\"type\":\"LassoSelectTool\"},{\"attributes\":{\"dimension\":1,\"plot\":{\"id\":\"01838eec-a517-4c81-8641-dd042df8999b\",\"subtype\":\"Figure\",\"type\":\"Plot\"},\"ticker\":{\"id\":\"78025ccf-16f8-4c3d-9710-f74963075924\",\"type\":\"BasicTicker\"}},\"id\":\"43196737-298e-4fc7-98ad-2ad8cdc6dd4f\",\"type\":\"Grid\"},{\"attributes\":{\"line_color\":{\"value\":\"blue\"},\"line_dash\":[4,4],\"line_width\":{\"value\":2},\"x\":{\"field\":\"x\"},\"y\":{\"field\":\"y\"}},\"id\":\"a682c70e-30b9-40ae-bfc8-dc398c2e0250\",\"type\":\"Line\"},{\"attributes\":{\"plot\":{\"id\":\"01838eec-a517-4c81-8641-dd042df8999b\",\"subtype\":\"Figure\",\"type\":\"Plot\"}},\"id\":\"b9840ca8-b3ad-4609-8c1b-e8d740e4112e\",\"type\":\"SaveTool\"},{\"attributes\":{\"data_source\":{\"id\":\"3b7e7932-a264-4a4d-856a-db0e721666ba\",\"type\":\"ColumnDataSource\"},\"glyph\":{\"id\":\"a682c70e-30b9-40ae-bfc8-dc398c2e0250\",\"type\":\"Line\"},\"hover_glyph\":null,\"nonselection_glyph\":{\"id\":\"747e319c-6a9c-4147-8dcb-493f9fc72a46\",\"type\":\"Line\"},\"selection_glyph\":null},\"id\":\"ac933db1-ec89-4903-b0d2-a0806a11f35f\",\"type\":\"GlyphRenderer\"},{\"attributes\":{\"label\":{\"value\":\"Accuracy\"},\"renderers\":[{\"id\":\"ac933db1-ec89-4903-b0d2-a0806a11f35f\",\"type\":\"GlyphRenderer\"}]},\"id\":\"d14cfb19-b223-48fb-ac87-069488eae9d7\",\"type\":\"LegendItem\"},{\"attributes\":{\"callback\":null,\"column_names\":[\"x\",\"y\"],\"data\":{\"x\":[0,1,2,3,4,5,6,7,8,9,10,11,12,13,14,15],\"y\":{\"__ndarray__\":\"AAAA4O7u7j8AAADg7u7uPwAAAODu7u4/AAAA4O7u7j8AAADg7u7uPwAAAODu7u4/AAAA4O7u7j8AAADAzMzsPwAAAGBVVeU/AAAAYFVV5T8AAABgVVXlPwAAAGBVVeU/AAAAgHd31z8AAACAd3fXPwAAAIB3d9c/AAAAgHd31z8=\",\"dtype\":\"float64\",\"shape\":[16]}}},\"id\":\"76ebda82-3bb8-433a-a051-39c6722b7add\",\"type\":\"ColumnDataSource\"},{\"attributes\":{\"line_color\":{\"value\":\"green\"},\"line_width\":{\"value\":2},\"x\":{\"field\":\"x\"},\"y\":{\"field\":\"y\"}},\"id\":\"8472ae5d-a35d-4545-b34c-4ad244df366a\",\"type\":\"Line\"},{\"attributes\":{\"line_alpha\":{\"value\":0.1},\"line_color\":{\"value\":\"#1f77b4\"},\"line_dash\":[4,4],\"line_width\":{\"value\":2},\"x\":{\"field\":\"x\"},\"y\":{\"field\":\"y\"}},\"id\":\"747e319c-6a9c-4147-8dcb-493f9fc72a46\",\"type\":\"Line\"},{\"attributes\":{},\"id\":\"78025ccf-16f8-4c3d-9710-f74963075924\",\"type\":\"BasicTicker\"},{\"attributes\":{},\"id\":\"03ae016a-8017-4a49-946d-1878374b6a5f\",\"type\":\"BasicTicker\"},{\"attributes\":{\"callback\":null,\"column_names\":[\"x\",\"y\"],\"data\":{\"x\":[0,1,2,3,4,5,6,7,8,9,10,11,12,13,14,15],\"y\":[{\"__ndarray__\":\"rkfh2mkD7T8=\",\"dtype\":\"float64\",\"shape\":[]},{\"__ndarray__\":\"rkfh2mkD7T8=\",\"dtype\":\"float64\",\"shape\":[]},{\"__ndarray__\":\"rkfh2mkD7T8=\",\"dtype\":\"float64\",\"shape\":[]},{\"__ndarray__\":\"rkfh2mkD7T8=\",\"dtype\":\"float64\",\"shape\":[]},{\"__ndarray__\":\"rkfh2mkD7T8=\",\"dtype\":\"float64\",\"shape\":[]},{\"__ndarray__\":\"rkfh2mkD7T8=\",\"dtype\":\"float64\",\"shape\":[]},{\"__ndarray__\":\"rkfh2mkD7T8=\",\"dtype\":\"float64\",\"shape\":[]},{\"__ndarray__\":\"rkfh2mkD7T8=\",\"dtype\":\"float64\",\"shape\":[]},{\"__ndarray__\":\"rkfh2mkD7T8=\",\"dtype\":\"float64\",\"shape\":[]},{\"__ndarray__\":\"rkfh2mkD7T8=\",\"dtype\":\"float64\",\"shape\":[]},{\"__ndarray__\":\"rkfh2mkD7T8=\",\"dtype\":\"float64\",\"shape\":[]},{\"__ndarray__\":\"rkfh2mkD7T8=\",\"dtype\":\"float64\",\"shape\":[]},{\"__ndarray__\":\"rkfh2mkD7T8=\",\"dtype\":\"float64\",\"shape\":[]},{\"__ndarray__\":\"rkfh2mkD7T8=\",\"dtype\":\"float64\",\"shape\":[]},{\"__ndarray__\":\"rkfh2mkD7T8=\",\"dtype\":\"float64\",\"shape\":[]},{\"__ndarray__\":\"rkfh2mkD7T8=\",\"dtype\":\"float64\",\"shape\":[]}]}},\"id\":\"3b7e7932-a264-4a4d-856a-db0e721666ba\",\"type\":\"ColumnDataSource\"},{\"attributes\":{\"plot\":{\"id\":\"01838eec-a517-4c81-8641-dd042df8999b\",\"subtype\":\"Figure\",\"type\":\"Plot\"}},\"id\":\"082bf13e-5e43-4c99-818e-24005a102bac\",\"type\":\"PanTool\"},{\"attributes\":{\"data_source\":{\"id\":\"76ebda82-3bb8-433a-a051-39c6722b7add\",\"type\":\"ColumnDataSource\"},\"glyph\":{\"id\":\"8472ae5d-a35d-4545-b34c-4ad244df366a\",\"type\":\"Line\"},\"hover_glyph\":null,\"nonselection_glyph\":{\"id\":\"9d38f441-70f4-4313-a074-10a344e7703f\",\"type\":\"Line\"},\"selection_glyph\":null},\"id\":\"42fa108b-d95d-4750-a883-790c7c2383c8\",\"type\":\"GlyphRenderer\"},{\"attributes\":{\"line_alpha\":{\"value\":0.1},\"line_color\":{\"value\":\"#1f77b4\"},\"line_width\":{\"value\":2},\"x\":{\"field\":\"x\"},\"y\":{\"field\":\"y\"}},\"id\":\"9d38f441-70f4-4313-a074-10a344e7703f\",\"type\":\"Line\"},{\"attributes\":{\"bottom_units\":\"screen\",\"fill_alpha\":{\"value\":0.5},\"fill_color\":{\"value\":\"lightgrey\"},\"left_units\":\"screen\",\"level\":\"overlay\",\"line_alpha\":{\"value\":1.0},\"line_color\":{\"value\":\"black\"},\"line_dash\":[4,4],\"line_width\":{\"value\":2},\"plot\":null,\"render_mode\":\"css\",\"right_units\":\"screen\",\"top_units\":\"screen\"},\"id\":\"5a01fe7c-34bc-43bf-97d9-4518520be64a\",\"type\":\"BoxAnnotation\"},{\"attributes\":{\"align\":\"center\",\"plot\":null,\"text\":\"The Performance over the number of neurons' pruned\"},\"id\":\"f69512c2-7a8e-4b56-9c40-65392eec5ac5\",\"type\":\"Title\"},{\"attributes\":{\"active_drag\":\"auto\",\"active_scroll\":\"auto\",\"active_tap\":\"auto\",\"tools\":[{\"id\":\"8dbfa467-da70-4fa8-a936-d1809710f198\",\"type\":\"BoxZoomTool\"},{\"id\":\"afcc6a58-f1f7-40fe-8f58-a6590bc19002\",\"type\":\"BoxSelectTool\"},{\"id\":\"a2dc7d5a-6cff-4cad-9e6d-5ae8304f9603\",\"type\":\"CrosshairTool\"},{\"id\":\"6bf1c197-94f1-4e86-a8e6-8d859954e17e\",\"type\":\"ResizeTool\"},{\"id\":\"3aede783-8660-4676-ae2b-6747b8bf6a57\",\"type\":\"ResetTool\"},{\"id\":\"e5270a3a-8edc-4f19-98df-ced76b7374b6\",\"type\":\"LassoSelectTool\"},{\"id\":\"082bf13e-5e43-4c99-818e-24005a102bac\",\"type\":\"PanTool\"},{\"id\":\"b9840ca8-b3ad-4609-8c1b-e8d740e4112e\",\"type\":\"SaveTool\"},{\"id\":\"7016201c-8f69-4157-9f2b-63fde55d098f\",\"type\":\"PolySelectTool\"},{\"id\":\"1473167b-9677-451e-88fe-0c919fd65874\",\"type\":\"TapTool\"},{\"id\":\"18d1d66a-f7f0-41dc-8c59-9aabf645c75f\",\"type\":\"WheelZoomTool\"},{\"id\":\"41a93b59-78bd-489e-b59f-106dee46880e\",\"type\":\"UndoTool\"}]},\"id\":\"6834bdc2-b65a-4dc0-b26e-494fc0a84ffd\",\"type\":\"Toolbar\"},{\"attributes\":{\"callback\":null,\"plot\":{\"id\":\"01838eec-a517-4c81-8641-dd042df8999b\",\"subtype\":\"Figure\",\"type\":\"Plot\"}},\"id\":\"1473167b-9677-451e-88fe-0c919fd65874\",\"type\":\"TapTool\"}],\"root_ids\":[\"01838eec-a517-4c81-8641-dd042df8999b\"]},\"title\":\"Bokeh Application\",\"version\":\"0.12.4\"}};\n",
       "            var render_items = [{\"docid\":\"ac2c27b4-d697-47fd-9dc7-c5d2be49bed1\",\"elementid\":\"37b9af5f-9e2a-4049-a457-aa1511f44d69\",\"modelid\":\"01838eec-a517-4c81-8641-dd042df8999b\"}];\n",
       "            \n",
       "            Bokeh.embed.embed_items(docs_json, render_items);\n",
       "          };\n",
       "          if (document.readyState != \"loading\") fn();\n",
       "          else document.addEventListener(\"DOMContentLoaded\", fn);\n",
       "        })();\n",
       "      },\n",
       "      function(Bokeh) {\n",
       "      }\n",
       "    ];\n",
       "  \n",
       "    function run_inline_js() {\n",
       "      \n",
       "      if ((window.Bokeh !== undefined) || (force === true)) {\n",
       "        for (var i = 0; i < inline_js.length; i++) {\n",
       "          inline_js[i](window.Bokeh);\n",
       "        }if (force === true) {\n",
       "          display_loaded();\n",
       "        }} else if (Date.now() < window._bokeh_timeout) {\n",
       "        setTimeout(run_inline_js, 100);\n",
       "      } else if (!window._bokeh_failed_load) {\n",
       "        console.log(\"Bokeh: BokehJS failed to load within specified timeout.\");\n",
       "        window._bokeh_failed_load = true;\n",
       "      } else if (force !== true) {\n",
       "        var cell = $(document.getElementById(\"37b9af5f-9e2a-4049-a457-aa1511f44d69\")).parents('.cell').data().cell;\n",
       "        cell.output_area.append_execute_result(NB_LOAD_WARNING)\n",
       "      }\n",
       "  \n",
       "    }\n",
       "  \n",
       "    if (window._bokeh_is_loading === 0) {\n",
       "      console.log(\"Bokeh: BokehJS loaded, going straight to plotting\");\n",
       "      run_inline_js();\n",
       "    } else {\n",
       "      load_libs(js_urls, function() {\n",
       "        console.log(\"Bokeh: BokehJS plotting callback run at\", now());\n",
       "        run_inline_js();\n",
       "      });\n",
       "    }\n",
       "  }(this));\n",
       "</script>"
      ]
     },
     "metadata": {},
     "output_type": "display_data"
    }
   ],
   "source": [
    "p1 = figure(title=\"The Performance over the number of neurons' pruned\", tools=TOOLS)\n",
    "p1.line(ind, ucb1, legend=\"ucb1\", line_color=\"green\", line_width=2)\n",
    "p1.line(ind, ThompsonSampling, legend=\"Thompson Sampling\", line_color=\"red\", line_width=2)\n",
    "p1.line(ind, Acc, legend=\"Accuracy\", line_dash=(4, 4), line_color=\"blue\", line_width=2)\n",
    "p1.title.align = \"center\"\n",
    "show(p1)"
   ]
  }
 ],
 "metadata": {
  "kernelspec": {
   "display_name": "Python 3",
   "language": "python",
   "name": "python3"
  },
  "language_info": {
   "codemirror_mode": {
    "name": "ipython",
    "version": 3
   },
   "file_extension": ".py",
   "mimetype": "text/x-python",
   "name": "python",
   "nbconvert_exporter": "python",
   "pygments_lexer": "ipython3",
   "version": "3.6.0"
  }
 },
 "nbformat": 4,
 "nbformat_minor": 0
}
