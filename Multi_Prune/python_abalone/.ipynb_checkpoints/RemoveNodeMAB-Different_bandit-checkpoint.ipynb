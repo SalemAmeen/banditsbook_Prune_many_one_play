{
 "cells": [
  {
   "cell_type": "markdown",
   "metadata": {},
   "source": [
    "Compute the performance of MAB methods"
   ]
  },
  {
   "cell_type": "code",
   "execution_count": 1,
   "metadata": {
    "collapsed": true
   },
   "outputs": [],
   "source": [
    "import numpy as np\n",
    "import time\n",
    "import sys\n",
    "from numpy import *\n",
    "import matplotlib.pyplot as plt\n",
    "from sklearn import metrics\n",
    "%matplotlib inline\n",
    "#plt.rcParams['figure.figsize'] = (15, 6)"
   ]
  },
  {
   "cell_type": "markdown",
   "metadata": {},
   "source": [
    "# Load the data"
   ]
  },
  {
   "cell_type": "code",
   "execution_count": 2,
   "metadata": {
    "collapsed": false
   },
   "outputs": [
    {
     "name": "stdout",
     "output_type": "stream",
     "text": [
      "Number of training examples 2672\n",
      "Number of validation examples 669\n",
      "Number of testing examples 836\n"
     ]
    }
   ],
   "source": [
    "X_train = np.load('/Users/salemameen/Desktop/banditsbook/python_abalone/abalone/X_train.npy')\n",
    "y_train = np.load('/Users/salemameen/Desktop/banditsbook/python_abalone/abalone/y_train.npy')\n",
    "X_test = np.load('/Users/salemameen/Desktop/banditsbook/python_abalone/abalone/X_test.npy')\n",
    "y_test = np.load('/Users/salemameen/Desktop/banditsbook/python_abalone/abalone/y_test.npy')\n",
    "X_deploy = np.load('/Users/salemameen/Desktop/banditsbook/python_abalone/abalone/X_deploy.npy')\n",
    "y_deploy = np.load('/Users/salemameen/Desktop/banditsbook/python_abalone/abalone/y_deploy.npy')\n",
    "\n",
    "print('Number of training examples',len(X_train))\n",
    "print('Number of validation examples',len(X_test))\n",
    "print('Number of testing examples',len(X_deploy))"
   ]
  },
  {
   "cell_type": "code",
   "execution_count": 3,
   "metadata": {
    "collapsed": false
   },
   "outputs": [],
   "source": [
    "exec(open(\"core.py\").read())  # pyhton 3x\n",
    "#exec(compile(open('core.py', \"rb\").read(), 'core.py', 'exec'))\n",
    "\n",
    "#execfile(\"./core.py\") # python 2.7"
   ]
  },
  {
   "cell_type": "markdown",
   "metadata": {},
   "source": [
    "## Run Thompson Sampling pruning Algorithm"
   ]
  },
  {
   "cell_type": "code",
   "execution_count": 4,
   "metadata": {
    "collapsed": false
   },
   "outputs": [
    {
     "ename": "NameError",
     "evalue": "name 'execfile' is not defined",
     "output_type": "error",
     "traceback": [
      "\u001b[0;31m---------------------------------------------------------------------------\u001b[0m",
      "\u001b[0;31mNameError\u001b[0m                                 Traceback (most recent call last)",
      "\u001b[0;32m<ipython-input-4-86dda89313e4>\u001b[0m in \u001b[0;36m<module>\u001b[0;34m()\u001b[0m\n\u001b[1;32m      3\u001b[0m \u001b[0mpath\u001b[0m \u001b[0;34m=\u001b[0m \u001b[0;34m'./Thompson_Sampling/'\u001b[0m\u001b[0;34m\u001b[0m\u001b[0m\n\u001b[1;32m      4\u001b[0m \u001b[0msys\u001b[0m\u001b[0;34m.\u001b[0m\u001b[0mpath\u001b[0m\u001b[0;34m.\u001b[0m\u001b[0mappend\u001b[0m\u001b[0;34m(\u001b[0m\u001b[0;34m\"./Thompson_Sampling\"\u001b[0m\u001b[0;34m)\u001b[0m\u001b[0;34m\u001b[0m\u001b[0m\n\u001b[0;32m----> 5\u001b[0;31m \u001b[0mexec\u001b[0m\u001b[0;34m(\u001b[0m\u001b[0mopen\u001b[0m\u001b[0;34m(\u001b[0m\u001b[0;34m\"mnist_cnnFORTESTING.py\"\u001b[0m\u001b[0;34m)\u001b[0m\u001b[0;34m.\u001b[0m\u001b[0mread\u001b[0m\u001b[0;34m(\u001b[0m\u001b[0;34m)\u001b[0m\u001b[0;34m)\u001b[0m\u001b[0;34m\u001b[0m\u001b[0m\n\u001b[0m",
      "\u001b[0;32m<string>\u001b[0m in \u001b[0;36m<module>\u001b[0;34m()\u001b[0m\n",
      "\u001b[0;31mNameError\u001b[0m: name 'execfile' is not defined"
     ]
    }
   ],
   "source": [
    "algo = Thompson_Sampling([], [])\n",
    "Alg_name = 'Thompson_Sampling Algorithm'\n",
    "path = './Thompson_Sampling/'\n",
    "sys.path.append(\"./Thompson_Sampling\")\n",
    "exec(open(\"mnist_cnnFORTESTING.py\").read())"
   ]
  },
  {
   "cell_type": "markdown",
   "metadata": {},
   "source": [
    "## Run UCB1 pruning Algorithm"
   ]
  },
  {
   "cell_type": "code",
   "execution_count": null,
   "metadata": {
    "collapsed": false
   },
   "outputs": [],
   "source": [
    "algo = UCB1([], [])\n",
    "Alg_name = 'UCB1 Algorithm'\n",
    "path = './UCB1/'\n",
    "sys.path.append(\"./UCB1\")\n",
    "exec(open(\"mnist_cnnFORTESTING.py\").read())"
   ]
  },
  {
   "cell_type": "markdown",
   "metadata": {},
   "source": [
    "# Run Annealing Epsilon Greedy pruning Algorithm"
   ]
  },
  {
   "cell_type": "code",
   "execution_count": null,
   "metadata": {
    "collapsed": false
   },
   "outputs": [],
   "source": [
    "algo = AnnealingEpsilonGreedy([], [])\n",
    "Alg_name = 'Annealing Epsilon Greedy Algorithm'\n",
    "path = './AnnealingEpsilonGreedy/'\n",
    "sys.path.append(\"./AnnealingEpsilonGreedy\")\n",
    "exec(open(\"mnist_cnnFORTESTING.py\").read())"
   ]
  },
  {
   "cell_type": "markdown",
   "metadata": {},
   "source": [
    "# Run Epsilon Greedy pruning Algorithm"
   ]
  },
  {
   "cell_type": "code",
   "execution_count": null,
   "metadata": {
    "collapsed": false
   },
   "outputs": [],
   "source": [
    "epsilon = 0.9 # epsilon = (0,1)\n",
    "algo = EpsilonGreedy(epsilon, [], [])\n",
    "Alg_name = 'Epsilon Greedy Algorithm'\n",
    "path = './EpsilonGreedy/'\n",
    "sys.path.append(\"./AnnealingEpsilonGreedy\")\n",
    "exec(open(\"mnist_cnnFORTESTING.py\").read())"
   ]
  },
  {
   "cell_type": "markdown",
   "metadata": {},
   "source": [
    "# Run Exp3 pruning Algorithm"
   ]
  },
  {
   "cell_type": "code",
   "execution_count": null,
   "metadata": {
    "collapsed": false,
    "scrolled": true
   },
   "outputs": [],
   "source": [
    "exp3_gamma = 0.2 #exp3_gamma in [0.1, 0.2, 0.3, 0.4, 0.5]\n",
    "algo = Exp3(exp3_gamma, [])\n",
    "Alg_name = 'Exp3 Algorithm'\n",
    "path = './Exp3/'\n",
    "sys.path.append(\"./EpsilonGreedy\")\n",
    "exec(open(\"mnist_cnnFORTESTING.py\").read())"
   ]
  },
  {
   "cell_type": "markdown",
   "metadata": {},
   "source": [
    "# Run Softmax pruning Algorithm"
   ]
  },
  {
   "cell_type": "code",
   "execution_count": null,
   "metadata": {
    "collapsed": false
   },
   "outputs": [],
   "source": [
    "temperature = 0.9\n",
    "algo = Softmax(temperature, [], [])\n",
    "Alg_name = 'Softmax Algorithm'\n",
    "path = './Softmax/'\n",
    "sys.path.append(\"./Softmax\")\n",
    "exec(open(\"mnist_cnnFORTESTING.py\").read())"
   ]
  },
  {
   "cell_type": "markdown",
   "metadata": {},
   "source": [
    "# Run Annealing Softmax pruning Algorithm"
   ]
  },
  {
   "cell_type": "code",
   "execution_count": null,
   "metadata": {
    "collapsed": false
   },
   "outputs": [],
   "source": [
    "algo = AnnealingSoftmax([], [])\n",
    "Alg_name = 'Annealing Softmax Algorithm'\n",
    "path = './AnnealingSoftmax/'\n",
    "sys.path.append(\"./AnnealingSoftmax\")\n",
    "exec(open(\"mnist_cnnFORTESTING.py\").read())"
   ]
  },
  {
   "cell_type": "markdown",
   "metadata": {},
   "source": [
    "# Run Hedge pruning Algorithm"
   ]
  },
  {
   "cell_type": "code",
   "execution_count": null,
   "metadata": {
    "collapsed": false
   },
   "outputs": [],
   "source": [
    "eta = 0.9  # eta in [.5, .8, .9, 1, 2]\n",
    "algo = Hedge(eta, [], []) \n",
    "Alg_name = 'Hedge Algorithm'\n",
    "path = './Hedge/'\n",
    "sys.path.append(\"./Hedge\")\n",
    "exec(open(\"mnist_cnnFORTESTING.py\").read())"
   ]
  },
  {
   "cell_type": "markdown",
   "metadata": {},
   "source": [
    "# Compare the accuracy of the models"
   ]
  },
  {
   "cell_type": "code",
   "execution_count": null,
   "metadata": {
    "collapsed": false
   },
   "outputs": [],
   "source": [
    "ucb1 = np.load('./UCB1/AccuracyAftrerPrune.npy')\n",
    "EpsilonGreedy = np.load('./EpsilonGreedy/AccuracyAftrerPrune.npy')\n",
    "AnnealingEpsilonGreedy = np.load('./AnnealingEpsilonGreedy/AccuracyAftrerPrune.npy')\n",
    "Softmax = np.load('./Softmax/AccuracyAftrerPrune.npy')\n",
    "AnnealingSoftmax = np.load('./AnnealingSoftmax/AccuracyAftrerPrune.npy')\n",
    "Exp3 = np.load('./Exp3/AccuracyAftrerPrune.npy')\n",
    "Hedge = np.load('./Hedge/AccuracyAftrerPrune.npy')\n",
    "ThompsonSampling = np.load('./Thompson_Sampling/AccuracyAftrerPrune.npy')\n",
    "Accuracy = np.load('AccuracyBeforePruning.npy')"
   ]
  },
  {
   "cell_type": "code",
   "execution_count": null,
   "metadata": {
    "collapsed": false
   },
   "outputs": [],
   "source": [
    "fig = plt.figure(figsize=(10, 6), dpi=80)\n",
    "ax = fig.add_subplot(111)\n",
    "N = len(ucb1)\n",
    "## necessary variables\n",
    "ind = np.arange(N)                # the x locations for the groups\n",
    "plt.plot(ind , ucb1 , color=\"blue\", linewidth=2.5, linestyle=\"-\", label=\"UCB1\")\n",
    "plt.plot(ind , EpsilonGreedy, color=\"red\", linewidth=2.5, linestyle=\"-\", label=\"Epsilon Greedy\")\n",
    "plt.plot(ind , AnnealingEpsilonGreedy, color=\"cyan\", linewidth=2.5, linestyle=\"-\", label=\"Annealing Epsilon Greedy\")\n",
    "plt.plot(ind , Softmax, color=\"magenta\", linewidth=2.5, linestyle=\"-\", label=\"Softmax\")\n",
    "plt.plot(ind , AnnealingSoftmax, color=\"yellow\", linewidth=2.5, linestyle=\"-\", label=\"Annealing Softmax\")\n",
    "plt.plot(ind , Exp3, color=\"black\", linewidth=2.5, linestyle=\"-\", label=\"Exp3\")\n",
    "plt.plot(ind , Hedge, color=\"green\", linewidth=2.5, linestyle=\"-\", label=\"Hedge\")\n",
    "plt.plot(ind , ThompsonSampling, color=\"orange\", linewidth=2.5, linestyle=\"-\", label=\"Thompson Sampling\")\n",
    "plt.legend(loc = 3)\n",
    "plt.axis([0, 25, 0, 0.7])\n",
    "plt.xlabel('Number of pruned Neurons')\n",
    "plt.ylabel('The Accuracy')\n",
    "plt.grid(True)\n",
    "plt.show()"
   ]
  },
  {
   "cell_type": "code",
   "execution_count": null,
   "metadata": {
    "collapsed": false,
    "scrolled": false
   },
   "outputs": [],
   "source": [
    "from bokeh.layouts import row, gridplot\n",
    "from bokeh.plotting import figure, output_notebook, show\n",
    "from bokeh.models import Legend\n",
    "\n",
    "############################################################################################################\n",
    "TOOLS = 'box_zoom,box_select,crosshair,resize,reset,lasso_select,pan,save,poly_select,tap,wheel_zoom,undo'\n",
    "output_notebook()\n",
    "#############################################################################################\n",
    "p1 = figure(title=\"The Performance over the number of neurons' pruned\", tools=TOOLS)\n",
    "\n",
    "\n",
    "#p1.circle(ind, ucb1, legend=\"ucb1\", color=\"orange\")\n",
    "p1.line(ind, ucb1, legend=\"ucb1\", line_color=\"orange\", line_width=2)\n",
    "\n",
    "#p1.square(ind, EpsilonGreedy, legend=\"Epsilon Greedy\", fill_color=None, line_color=\"red\")\n",
    "p1.line(ind, EpsilonGreedy, legend=\"Epsilon Greedy\", line_color=\"red\", line_width=2)\n",
    "\n",
    "#p1.ellipse(ind, AnnealingEpsilonGreedy, legend=\"Annealing Epsilon Greedy\", line_color=\"blue\", height=0.01, width=0.01)\n",
    "p1.line(ind, AnnealingEpsilonGreedy, legend=\"Annealing Epsilon Greedy\", line_color=\"blue\", line_width=2)\n",
    "\n",
    "#p1.diamond(ind, Softmax, legend=\"Softmax\", line_color=\"green\")\n",
    "p1.line(ind, Softmax, legend=\"Softmax\", line_color=\"green\", line_width=2)\n",
    "\n",
    "#p1.arc(ind, AnnealingSoftmax, legend=\"Annealing Softmax\", line_color=\"grey\", end_angle= 5, radius= 0.5, start_angle= 1)\n",
    "p1.line(ind, AnnealingSoftmax, legend=\"Annealing Softmax\", line_color=\"grey\", line_width=2)\n",
    "\n",
    "#p1.oval(ind, Exp3, legend=\"Exp3\", line_color=\"black\", height=0.01, width=0.01)\n",
    "p1.line(ind, Exp3, legend=\"Exp3\", line_color=\"black\", line_width=2)\n",
    "\n",
    "#p1.arc(ind, Hedge, legend=\"Hedge\", line_color=\"yellow\")\n",
    "#p1.triangle(ind, Hedge, legend=\"Hedge\", line_color=\"yellow\")\n",
    "p1.line(ind, Hedge, legend=\"Hedge\", line_color=\"yellow\", line_width=2)\n",
    "\n",
    "\n",
    "#p1.square_cross(ind, ThompsonSampling, legend=\"Thompson Sampling\", line_color=\"pink\")\n",
    "p1.line(ind, ThompsonSampling, legend=\"Thompson Sampling\", line_color=\"pink\", line_width=2)\n",
    "\n",
    "\n",
    "#p1.line(ind, Exp3, legend=\"2*sin(x)\", line_dash=(4, 4), line_color=\"orange\", line_width=2)\n",
    "#p1.square(ind, Hedge, legend=\"3*sin(x)\", fill_color=None, line_color=\"brown\")\n",
    "p1.title.align = \"center\"\n",
    "\n",
    "\n",
    "show(p1)\n",
    "#show(gridplot(p1, p2, ncols=2, plot_width=400, plot_height=400))  # open a browser"
   ]
  },
  {
   "cell_type": "markdown",
   "metadata": {
    "collapsed": true
   },
   "source": [
    "## Comparing All algorithms with the model before pruning"
   ]
  },
  {
   "cell_type": "code",
   "execution_count": null,
   "metadata": {
    "collapsed": false,
    "scrolled": true
   },
   "outputs": [],
   "source": [
    "fig = plt.figure(figsize=(10, 6), dpi=80)\n",
    "ax = fig.add_subplot(111)\n",
    "N = len(ucb1)\n",
    "Acc = [Accuracy for col in range(N)]\n",
    "## necessary variables\n",
    "ind = np.arange(N)                # the x locations for the groups\n",
    "plt.plot(ind , ucb1 , color=\"blue\", linewidth=2.5, linestyle=\"-\", label=\"UCB1\")\n",
    "plt.plot(ind , EpsilonGreedy, color=\"red\", linewidth=2.5, linestyle=\"-\", label=\"Epsilon Greedy\")\n",
    "plt.plot(ind , AnnealingEpsilonGreedy, color=\"cyan\", linewidth=2.5, linestyle=\"-\", label=\"Annealing Epsilon Greedy\")\n",
    "plt.plot(ind , Softmax, color=\"magenta\", linewidth=2.5, linestyle=\"-\", label=\"Softmax\")\n",
    "plt.plot(ind , AnnealingSoftmax, color=\"yellow\", linewidth=2.5, linestyle=\"-\", label=\"Annealing Softmax\")\n",
    "plt.plot(ind , Exp3, color=\"black\", linewidth=2.5, linestyle=\"-\", label=\"Exp3\")\n",
    "plt.plot(ind , Hedge, color=\"green\", linewidth=2.5, linestyle=\"-\", label=\"Hedge\")\n",
    "plt.plot(ind , ThompsonSampling, color=\"orange\", linewidth=2.5, linestyle=\"-\", label=\"Thompson Sampling\")\n",
    "plt.plot(ind , Acc, color=\"pink\", linewidth=2.5, linestyle=\"-\", label=\"Accuracy before Pruning\")\n",
    "plt.legend(loc = 3)\n",
    "plt.axis([0, 25, 0, 0.7])\n",
    "plt.xlabel('Number of pruned Neurons')\n",
    "plt.ylabel('The Accuracy')\n",
    "plt.grid(True)\n",
    "plt.show()"
   ]
  },
  {
   "cell_type": "code",
   "execution_count": null,
   "metadata": {
    "collapsed": false
   },
   "outputs": [],
   "source": [
    "from bokeh.layouts import row, gridplot\n",
    "from bokeh.plotting import figure, output_notebook, show\n",
    "from bokeh.models import Legend\n",
    "\n",
    "############################################################################################################\n",
    "TOOLS = 'box_zoom,box_select,crosshair,resize,reset,lasso_select,pan,save,poly_select,tap,wheel_zoom,undo'\n",
    "output_notebook()\n",
    "#############################################################################################\n",
    "p1 = figure(title=\"The Performance over the number of neurons' pruned\", tools=TOOLS)\n",
    "\n",
    "\n",
    "#p1.circle(ind, ucb1, legend=\"ucb1\", color=\"orange\")\n",
    "p1.line(ind, ucb1, legend=\"ucb1\", line_color=\"orange\", line_width=2)\n",
    "\n",
    "#p1.square(ind, EpsilonGreedy, legend=\"Epsilon Greedy\", fill_color=None, line_color=\"red\")\n",
    "p1.line(ind, EpsilonGreedy, legend=\"Epsilon Greedy\", line_color=\"red\", line_width=2)\n",
    "\n",
    "#p1.ellipse(ind, AnnealingEpsilonGreedy, legend=\"Annealing Epsilon Greedy\", line_color=\"blue\", height=0.01, width=0.01)\n",
    "p1.line(ind, AnnealingEpsilonGreedy, legend=\"Annealing Epsilon Greedy\", line_color=\"blue\", line_width=2)\n",
    "\n",
    "#p1.diamond(ind, Softmax, legend=\"Softmax\", line_color=\"green\")\n",
    "p1.line(ind, Softmax, legend=\"Softmax\", line_color=\"green\", line_width=2)\n",
    "\n",
    "#p1.arc(ind, AnnealingSoftmax, legend=\"Annealing Softmax\", line_color=\"grey\", end_angle= 5, radius= 0.5, start_angle= 1)\n",
    "p1.line(ind, AnnealingSoftmax, legend=\"Annealing Softmax\", line_color=\"grey\", line_width=2)\n",
    "\n",
    "#p1.oval(ind, Exp3, legend=\"Exp3\", line_color=\"black\", height=0.01, width=0.01)\n",
    "p1.line(ind, Exp3, legend=\"Exp3\", line_color=\"black\", line_width=2)\n",
    "\n",
    "#p1.arc(ind, Hedge, legend=\"Hedge\", line_color=\"yellow\")\n",
    "#p1.triangle(ind, Hedge, legend=\"Hedge\", line_color=\"yellow\")\n",
    "p1.line(ind, Hedge, legend=\"Hedge\", line_color=\"yellow\", line_width=2)\n",
    "\n",
    "\n",
    "#p1.square_cross(ind, ThompsonSampling, legend=\"Thompson Sampling\", line_color=\"pink\")\n",
    "p1.line(ind, ThompsonSampling, legend=\"Thompson Sampling\", line_color=\"pink\", line_width=2)\n",
    "\n",
    "\n",
    "p1.line(ind, Acc, legend=\"Accuracy\", line_dash=(4, 4), line_color=\"orange\", line_width=2)\n",
    "#p1.square(ind, Hedge, legend=\"3*sin(x)\", fill_color=None, line_color=\"brown\")\n",
    "p1.title.align = \"center\"\n",
    "\n",
    "\n",
    "show(p1)\n",
    "#show(gridplot(p1, p2, ncols=2, plot_width=400, plot_height=400))  # open a browser"
   ]
  },
  {
   "cell_type": "markdown",
   "metadata": {},
   "source": [
    "## UCB1"
   ]
  },
  {
   "cell_type": "code",
   "execution_count": null,
   "metadata": {
    "collapsed": false
   },
   "outputs": [],
   "source": [
    "fig = plt.figure(figsize=(10, 6), dpi=80)\n",
    "ax = fig.add_subplot(111)\n",
    "N = len(ucb1)\n",
    "Acc = [Accuracy for col in range(N)]\n",
    "## necessary variables\n",
    "ind = np.arange(N)                # the x locations for the groups\n",
    "plt.plot(ind , ucb1 , color=\"blue\", linewidth=2.5, linestyle=\"-\", label=\"UCB1\")\n",
    "plt.plot(ind , Acc, color=\"pink\", linewidth=2.5, linestyle=\"-\", label=\"Accuracy before Pruning\")\n",
    "plt.legend(loc = 3)\n",
    "plt.axis([0, 25, 0, 0.7])\n",
    "plt.xlabel('Number of pruned Neurons')\n",
    "plt.ylabel('The Accuracy')\n",
    "plt.grid(True)\n",
    "plt.show()"
   ]
  },
  {
   "cell_type": "code",
   "execution_count": null,
   "metadata": {
    "collapsed": false
   },
   "outputs": [],
   "source": [
    "from bokeh.layouts import row, gridplot\n",
    "from bokeh.plotting import figure, output_notebook, show\n",
    "from bokeh.models import Legend\n",
    "\n",
    "############################################################################################################\n",
    "TOOLS = 'box_zoom,box_select,crosshair,resize,reset,lasso_select,pan,save,poly_select,tap,wheel_zoom,undo'\n",
    "output_notebook()\n",
    "#############################################################################################\n",
    "p1 = figure(title=\"The Performance over the number of neurons' pruned\", tools=TOOLS)\n",
    "\n",
    "\n",
    "#p1.circle(ind, ucb1, legend=\"ucb1\", color=\"orange\")\n",
    "p1.line(ind, ucb1, legend=\"ucb1\", line_color=\"orange\", line_width=2)\n",
    "p1.line(ind, Acc, legend=\"Accuracy\", line_dash=(4, 4), line_color=\"orange\", line_width=2)\n",
    "#p1.square(ind, Hedge, legend=\"3*sin(x)\", fill_color=None, line_color=\"brown\")\n",
    "p1.title.align = \"center\"\n",
    "\n",
    "\n",
    "show(p1)\n",
    "#show(gridplot(p1, p2, ncols=2, plot_width=400, plot_height=400))  # open a browser"
   ]
  },
  {
   "cell_type": "markdown",
   "metadata": {},
   "source": [
    "## Epsilon greedy and Softmax"
   ]
  },
  {
   "cell_type": "code",
   "execution_count": null,
   "metadata": {
    "collapsed": false
   },
   "outputs": [],
   "source": [
    "fig = plt.figure(figsize=(10, 6), dpi=80)\n",
    "ax = fig.add_subplot(111)\n",
    "N = len(EpsilonGreedy)\n",
    "Acc = [Accuracy for col in range(N)]\n",
    "## necessary variables\n",
    "ind = np.arange(N)                # the x locations for the groups\n",
    "plt.plot(ind , EpsilonGreedy, color=\"red\", linewidth=2.5, linestyle=\"-\", label=\"Epsilon Greedy\")\n",
    "plt.plot(ind , AnnealingEpsilonGreedy, color=\"cyan\", linewidth=2.5, linestyle=\"-\", label=\"Annealing Epsilon Greedy\")\n",
    "plt.plot(ind , Softmax, color=\"magenta\", linewidth=2.5, linestyle=\"-\", label=\"Softmax\")\n",
    "plt.plot(ind , AnnealingSoftmax, color=\"yellow\", linewidth=2.5, linestyle=\"-\", label=\"Annealing Softmax\")\n",
    "plt.plot(ind , Acc, color=\"pink\", linewidth=2.5, linestyle=\"-\", label=\"Accuracy before Pruning\")\n",
    "plt.legend(loc = 3)\n",
    "plt.axis([0, 25, 0, 0.7])\n",
    "plt.xlabel('Number of pruned Neurons')\n",
    "plt.ylabel('The Accuracy')\n",
    "plt.grid(True)\n",
    "plt.show()"
   ]
  },
  {
   "cell_type": "code",
   "execution_count": null,
   "metadata": {
    "collapsed": false
   },
   "outputs": [],
   "source": [
    "from bokeh.layouts import row, gridplot\n",
    "from bokeh.plotting import figure, output_notebook, show\n",
    "from bokeh.models import Legend\n",
    "\n",
    "############################################################################################################\n",
    "TOOLS = 'box_zoom,box_select,crosshair,resize,reset,lasso_select,pan,save,poly_select,tap,wheel_zoom,undo'\n",
    "output_notebook()\n",
    "#############################################################################################\n",
    "p1 = figure(title=\"The Performance over the number of neurons' pruned\", tools=TOOLS)\n",
    "\n",
    "\n",
    "#p1.square(ind, EpsilonGreedy, legend=\"Epsilon Greedy\", fill_color=None, line_color=\"red\")\n",
    "p1.line(ind, EpsilonGreedy, legend=\"Epsilon Greedy\", line_color=\"red\", line_width=2)\n",
    "\n",
    "#p1.ellipse(ind, AnnealingEpsilonGreedy, legend=\"Annealing Epsilon Greedy\", line_color=\"blue\", height=0.01, width=0.01)\n",
    "p1.line(ind, AnnealingEpsilonGreedy, legend=\"Annealing Epsilon Greedy\", line_color=\"blue\", line_width=2)\n",
    "\n",
    "#p1.diamond(ind, Softmax, legend=\"Softmax\", line_color=\"green\")\n",
    "p1.line(ind, Softmax, legend=\"Softmax\", line_color=\"green\", line_width=2)\n",
    "\n",
    "#p1.arc(ind, AnnealingSoftmax, legend=\"Annealing Softmax\", line_color=\"grey\", end_angle= 5, radius= 0.5, start_angle= 1)\n",
    "p1.line(ind, AnnealingSoftmax, legend=\"Annealing Softmax\", line_color=\"grey\", line_width=2)\n",
    "\n",
    "p1.line(ind, Acc, legend=\"Accuracy\", line_dash=(4, 4), line_color=\"orange\", line_width=2)\n",
    "#p1.square(ind, Hedge, legend=\"3*sin(x)\", fill_color=None, line_color=\"brown\")\n",
    "p1.title.align = \"center\"\n",
    "\n",
    "\n",
    "show(p1)\n",
    "#show(gridplot(p1, p2, ncols=2, plot_width=400, plot_height=400))  # open a browser"
   ]
  },
  {
   "cell_type": "markdown",
   "metadata": {},
   "source": [
    "## Adversial Bandits Hedge and EXP3"
   ]
  },
  {
   "cell_type": "code",
   "execution_count": null,
   "metadata": {
    "collapsed": false
   },
   "outputs": [],
   "source": [
    "fig = plt.figure(figsize=(10, 6), dpi=80)\n",
    "ax = fig.add_subplot(111)\n",
    "N = len(Exp3)\n",
    "Acc = [Accuracy for col in range(N)]\n",
    "## necessary variables\n",
    "ind = np.arange(N)                # the x locations for the groups\n",
    "plt.plot(ind , Exp3, color=\"black\", linewidth=2.5, linestyle=\"-\", label=\"Exp3\")\n",
    "plt.plot(ind , Hedge, color=\"green\", linewidth=2.5, linestyle=\"-\", label=\"Hedge\")\n",
    "plt.plot(ind , Acc, color=\"pink\", linewidth=2.5, linestyle=\"-\", label=\"Accuracy before Pruning\")\n",
    "plt.legend(loc = 3)\n",
    "plt.axis([0, 25, 0, 0.7])\n",
    "plt.xlabel('Number of pruned Neurons')\n",
    "plt.ylabel('The Accuracy')\n",
    "plt.grid(True)\n",
    "plt.show()"
   ]
  },
  {
   "cell_type": "code",
   "execution_count": null,
   "metadata": {
    "collapsed": false
   },
   "outputs": [],
   "source": [
    "from bokeh.layouts import row, gridplot\n",
    "from bokeh.plotting import figure, output_notebook, show\n",
    "from bokeh.models import Legend\n",
    "\n",
    "############################################################################################################\n",
    "TOOLS = 'box_zoom,box_select,crosshair,resize,reset,lasso_select,pan,save,poly_select,tap,wheel_zoom,undo'\n",
    "output_notebook()\n",
    "#############################################################################################\n",
    "p1 = figure(title=\"The Performance over the number of neurons' pruned\", tools=TOOLS)\n",
    "\n",
    "#p1.oval(ind, Exp3, legend=\"Exp3\", line_color=\"black\", height=0.01, width=0.01)\n",
    "p1.line(ind, Exp3, legend=\"Exp3\", line_color=\"black\", line_width=2)\n",
    "\n",
    "#p1.arc(ind, Hedge, legend=\"Hedge\", line_color=\"yellow\")\n",
    "#p1.triangle(ind, Hedge, legend=\"Hedge\", line_color=\"yellow\")\n",
    "p1.line(ind, Hedge, legend=\"Hedge\", line_color=\"yellow\", line_width=2)\n",
    "\n",
    "p1.line(ind, Acc, legend=\"Accuracy\", line_dash=(4, 4), line_color=\"orange\", line_width=2)\n",
    "#p1.square(ind, Hedge, legend=\"3*sin(x)\", fill_color=None, line_color=\"brown\")\n",
    "p1.title.align = \"center\"\n",
    "\n",
    "\n",
    "show(p1)\n",
    "#show(gridplot(p1, p2, ncols=2, plot_width=400, plot_height=400))  # open a browser"
   ]
  },
  {
   "cell_type": "markdown",
   "metadata": {},
   "source": [
    "# Thompson Sampling"
   ]
  },
  {
   "cell_type": "code",
   "execution_count": null,
   "metadata": {
    "collapsed": false
   },
   "outputs": [],
   "source": [
    "fig = plt.figure(figsize=(10, 6), dpi=80)\n",
    "ax = fig.add_subplot(111)\n",
    "N = len(ThompsonSampling)\n",
    "Acc = [Accuracy for col in range(N)]\n",
    "## necessary variables\n",
    "ind = np.arange(N)                # the x locations for the groups\n",
    "plt.plot(ind , ThompsonSampling, color=\"orange\", linewidth=2.5, linestyle=\"-\", label=\"Thompson Sampling\")\n",
    "plt.plot(ind , Acc, color=\"pink\", linewidth=2.5, linestyle=\"-\", label=\"Accuracy before Pruning\")\n",
    "plt.legend(loc = 3)\n",
    "plt.axis([0, 25, 0, 0.7])\n",
    "plt.xlabel('Number of pruned Neurons')\n",
    "plt.ylabel('The Accuracy')\n",
    "plt.grid(True)\n",
    "plt.show()"
   ]
  },
  {
   "cell_type": "code",
   "execution_count": null,
   "metadata": {
    "collapsed": false
   },
   "outputs": [],
   "source": [
    "from bokeh.layouts import row, gridplot\n",
    "from bokeh.plotting import figure, output_notebook, show\n",
    "from bokeh.models import Legend\n",
    "\n",
    "############################################################################################################\n",
    "TOOLS = 'box_zoom,box_select,crosshair,resize,reset,lasso_select,pan,save,poly_select,tap,wheel_zoom,undo'\n",
    "output_notebook()\n",
    "#############################################################################################\n",
    "p1 = figure(title=\"The Performance over the number of neurons' pruned\", tools=TOOLS)\n",
    "\n",
    "#p1.square_cross(ind, ThompsonSampling, legend=\"Thompson Sampling\", line_color=\"pink\")\n",
    "p1.line(ind, ThompsonSampling, legend=\"Thompson Sampling\", line_color=\"pink\", line_width=2)\n",
    "\n",
    "\n",
    "p1.line(ind, Acc, legend=\"Accuracy\", line_dash=(4, 4), line_color=\"orange\", line_width=2)\n",
    "#p1.square(ind, Hedge, legend=\"3*sin(x)\", fill_color=None, line_color=\"brown\")\n",
    "p1.title.align = \"center\"\n",
    "\n",
    "\n",
    "show(p1)\n",
    "#show(gridplot(p1, p2, ncols=2, plot_width=400, plot_height=400))  # open a browser"
   ]
  }
 ],
 "metadata": {
  "kernelspec": {
   "display_name": "Python 3",
   "language": "python",
   "name": "python3"
  },
  "language_info": {
   "codemirror_mode": {
    "name": "ipython",
    "version": 3
   },
   "file_extension": ".py",
   "mimetype": "text/x-python",
   "name": "python",
   "nbconvert_exporter": "python",
   "pygments_lexer": "ipython3",
   "version": "3.6.0"
  }
 },
 "nbformat": 4,
 "nbformat_minor": 0
}
