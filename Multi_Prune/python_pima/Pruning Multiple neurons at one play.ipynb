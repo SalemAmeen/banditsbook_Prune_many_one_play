{
 "cells": [
  {
   "cell_type": "markdown",
   "metadata": {},
   "source": [
    "Compute the performance of MAB methods of pruning Multiple neurons at one time\n",
    "\n",
    "MAP for choosing multi arms at one time"
   ]
  },
  {
   "cell_type": "code",
   "execution_count": 1,
   "metadata": {
    "collapsed": true
   },
   "outputs": [],
   "source": [
    "import numpy as np\n",
    "import time\n",
    "import sys\n",
    "from numpy import *\n",
    "import matplotlib.pyplot as plt\n",
    "from sklearn import metrics\n",
    "%matplotlib inline\n",
    "#plt.rcParams['figure.figsize'] = (15, 6)"
   ]
  },
  {
   "cell_type": "markdown",
   "metadata": {},
   "source": [
    "# Load Bokeh"
   ]
  },
  {
   "cell_type": "code",
   "execution_count": 2,
   "metadata": {
    "collapsed": false
   },
   "outputs": [
    {
     "data": {
      "text/html": [
       "\n",
       "    <div class=\"bk-root\">\n",
       "        <a href=\"http://bokeh.pydata.org\" target=\"_blank\" class=\"bk-logo bk-logo-small bk-logo-notebook\"></a>\n",
       "        <span id=\"407f14d3-06c1-4535-b5aa-1598ca0f5c40\">Loading BokehJS ...</span>\n",
       "    </div>"
      ]
     },
     "metadata": {},
     "output_type": "display_data"
    },
    {
     "data": {
      "application/javascript": [
       "\n",
       "(function(global) {\n",
       "  function now() {\n",
       "    return new Date();\n",
       "  }\n",
       "\n",
       "  var force = true;\n",
       "\n",
       "  if (typeof (window._bokeh_onload_callbacks) === \"undefined\" || force === true) {\n",
       "    window._bokeh_onload_callbacks = [];\n",
       "    window._bokeh_is_loading = undefined;\n",
       "  }\n",
       "\n",
       "\n",
       "  \n",
       "  if (typeof (window._bokeh_timeout) === \"undefined\" || force === true) {\n",
       "    window._bokeh_timeout = Date.now() + 5000;\n",
       "    window._bokeh_failed_load = false;\n",
       "  }\n",
       "\n",
       "  var NB_LOAD_WARNING = {'data': {'text/html':\n",
       "     \"<div style='background-color: #fdd'>\\n\"+\n",
       "     \"<p>\\n\"+\n",
       "     \"BokehJS does not appear to have successfully loaded. If loading BokehJS from CDN, this \\n\"+\n",
       "     \"may be due to a slow or bad network connection. Possible fixes:\\n\"+\n",
       "     \"</p>\\n\"+\n",
       "     \"<ul>\\n\"+\n",
       "     \"<li>re-rerun `output_notebook()` to attempt to load from CDN again, or</li>\\n\"+\n",
       "     \"<li>use INLINE resources instead, as so:</li>\\n\"+\n",
       "     \"</ul>\\n\"+\n",
       "     \"<code>\\n\"+\n",
       "     \"from bokeh.resources import INLINE\\n\"+\n",
       "     \"output_notebook(resources=INLINE)\\n\"+\n",
       "     \"</code>\\n\"+\n",
       "     \"</div>\"}};\n",
       "\n",
       "  function display_loaded() {\n",
       "    if (window.Bokeh !== undefined) {\n",
       "      document.getElementById(\"407f14d3-06c1-4535-b5aa-1598ca0f5c40\").textContent = \"BokehJS successfully loaded.\";\n",
       "    } else if (Date.now() < window._bokeh_timeout) {\n",
       "      setTimeout(display_loaded, 100)\n",
       "    }\n",
       "  }\n",
       "\n",
       "  function run_callbacks() {\n",
       "    window._bokeh_onload_callbacks.forEach(function(callback) { callback() });\n",
       "    delete window._bokeh_onload_callbacks\n",
       "    console.info(\"Bokeh: all callbacks have finished\");\n",
       "  }\n",
       "\n",
       "  function load_libs(js_urls, callback) {\n",
       "    window._bokeh_onload_callbacks.push(callback);\n",
       "    if (window._bokeh_is_loading > 0) {\n",
       "      console.log(\"Bokeh: BokehJS is being loaded, scheduling callback at\", now());\n",
       "      return null;\n",
       "    }\n",
       "    if (js_urls == null || js_urls.length === 0) {\n",
       "      run_callbacks();\n",
       "      return null;\n",
       "    }\n",
       "    console.log(\"Bokeh: BokehJS not loaded, scheduling load and callback at\", now());\n",
       "    window._bokeh_is_loading = js_urls.length;\n",
       "    for (var i = 0; i < js_urls.length; i++) {\n",
       "      var url = js_urls[i];\n",
       "      var s = document.createElement('script');\n",
       "      s.src = url;\n",
       "      s.async = false;\n",
       "      s.onreadystatechange = s.onload = function() {\n",
       "        window._bokeh_is_loading--;\n",
       "        if (window._bokeh_is_loading === 0) {\n",
       "          console.log(\"Bokeh: all BokehJS libraries loaded\");\n",
       "          run_callbacks()\n",
       "        }\n",
       "      };\n",
       "      s.onerror = function() {\n",
       "        console.warn(\"failed to load library \" + url);\n",
       "      };\n",
       "      console.log(\"Bokeh: injecting script tag for BokehJS library: \", url);\n",
       "      document.getElementsByTagName(\"head\")[0].appendChild(s);\n",
       "    }\n",
       "  };var element = document.getElementById(\"407f14d3-06c1-4535-b5aa-1598ca0f5c40\");\n",
       "  if (element == null) {\n",
       "    console.log(\"Bokeh: ERROR: autoload.js configured with elementid '407f14d3-06c1-4535-b5aa-1598ca0f5c40' but no matching script tag was found. \")\n",
       "    return false;\n",
       "  }\n",
       "\n",
       "  var js_urls = [\"https://cdn.pydata.org/bokeh/release/bokeh-0.12.4.min.js\", \"https://cdn.pydata.org/bokeh/release/bokeh-widgets-0.12.4.min.js\"];\n",
       "\n",
       "  var inline_js = [\n",
       "    function(Bokeh) {\n",
       "      Bokeh.set_log_level(\"info\");\n",
       "    },\n",
       "    \n",
       "    function(Bokeh) {\n",
       "      \n",
       "      document.getElementById(\"407f14d3-06c1-4535-b5aa-1598ca0f5c40\").textContent = \"BokehJS is loading...\";\n",
       "    },\n",
       "    function(Bokeh) {\n",
       "      console.log(\"Bokeh: injecting CSS: https://cdn.pydata.org/bokeh/release/bokeh-0.12.4.min.css\");\n",
       "      Bokeh.embed.inject_css(\"https://cdn.pydata.org/bokeh/release/bokeh-0.12.4.min.css\");\n",
       "      console.log(\"Bokeh: injecting CSS: https://cdn.pydata.org/bokeh/release/bokeh-widgets-0.12.4.min.css\");\n",
       "      Bokeh.embed.inject_css(\"https://cdn.pydata.org/bokeh/release/bokeh-widgets-0.12.4.min.css\");\n",
       "    }\n",
       "  ];\n",
       "\n",
       "  function run_inline_js() {\n",
       "    \n",
       "    if ((window.Bokeh !== undefined) || (force === true)) {\n",
       "      for (var i = 0; i < inline_js.length; i++) {\n",
       "        inline_js[i](window.Bokeh);\n",
       "      }if (force === true) {\n",
       "        display_loaded();\n",
       "      }} else if (Date.now() < window._bokeh_timeout) {\n",
       "      setTimeout(run_inline_js, 100);\n",
       "    } else if (!window._bokeh_failed_load) {\n",
       "      console.log(\"Bokeh: BokehJS failed to load within specified timeout.\");\n",
       "      window._bokeh_failed_load = true;\n",
       "    } else if (force !== true) {\n",
       "      var cell = $(document.getElementById(\"407f14d3-06c1-4535-b5aa-1598ca0f5c40\")).parents('.cell').data().cell;\n",
       "      cell.output_area.append_execute_result(NB_LOAD_WARNING)\n",
       "    }\n",
       "\n",
       "  }\n",
       "\n",
       "  if (window._bokeh_is_loading === 0) {\n",
       "    console.log(\"Bokeh: BokehJS loaded, going straight to plotting\");\n",
       "    run_inline_js();\n",
       "  } else {\n",
       "    load_libs(js_urls, function() {\n",
       "      console.log(\"Bokeh: BokehJS plotting callback run at\", now());\n",
       "      run_inline_js();\n",
       "    });\n",
       "  }\n",
       "}(this));"
      ]
     },
     "metadata": {},
     "output_type": "display_data"
    }
   ],
   "source": [
    "from bokeh.layouts import row, gridplot\n",
    "from bokeh.plotting import figure, output_notebook, show\n",
    "from bokeh.models import Legend\n",
    "TOOLS = 'box_zoom,box_select,crosshair,resize,reset,lasso_select,pan,save,poly_select,tap,wheel_zoom,undo'\n",
    "output_notebook()"
   ]
  },
  {
   "cell_type": "markdown",
   "metadata": {},
   "source": [
    "# Load the data"
   ]
  },
  {
   "cell_type": "code",
   "execution_count": 3,
   "metadata": {
    "collapsed": false
   },
   "outputs": [
    {
     "name": "stdout",
     "output_type": "stream",
     "text": [
      "Number of training examples 491\n",
      "Number of validation examples 123\n",
      "Number of testing examples 154\n"
     ]
    }
   ],
   "source": [
    "X_train = np.load('./pima/X_train.npy')\n",
    "y_train = np.load('./pima/y_train.npy')\n",
    "X_test = np.load('./pima/X_test.npy')\n",
    "y_test = np.load('./pima/y_test.npy')\n",
    "X_deploy = np.load('./pima/X_deploy.npy')\n",
    "y_deploy = np.load('./pima/y_deploy.npy')\n",
    "print('Number of training examples',len(X_train))\n",
    "print('Number of validation examples',len(X_test))\n",
    "print('Number of testing examples',len(X_deploy))"
   ]
  },
  {
   "cell_type": "code",
   "execution_count": 4,
   "metadata": {
    "collapsed": false
   },
   "outputs": [],
   "source": [
    "exec(open(\"core.py\").read())  # pyhton 3x"
   ]
  },
  {
   "cell_type": "markdown",
   "metadata": {},
   "source": [
    "## Run Thompson Sampling pruning Algorithm"
   ]
  },
  {
   "cell_type": "code",
   "execution_count": 5,
   "metadata": {
    "collapsed": false
   },
   "outputs": [
    {
     "name": "stderr",
     "output_type": "stream",
     "text": [
      "/Library/Frameworks/Python.framework/Versions/3.6/lib/python3.6/site-packages/sklearn/cross_validation.py:44: DeprecationWarning: This module was deprecated in version 0.18 in favor of the model_selection module into which all the refactored classes and functions are moved. Also note that the interface of the new CV iterators are different from that of this module. This module will be removed in 0.20.\n",
      "  \"This module will be removed in 0.20.\", DeprecationWarning)\n",
      "Using Theano backend.\n"
     ]
    },
    {
     "name": "stdout",
     "output_type": "stream",
     "text": [
      "Test fraction correct (NN-Score) = 0.57\n",
      "Test fraction correct (NN-Accuracy) = 0.69\n",
      "The time for running this method is 0.2285749912261963 seconds \n",
      "Finsh playing start pruining:\n",
      "Test after pruning= 0.69\n",
      "Test after pruning= 0.69\n",
      "Test after pruning= 0.70\n",
      "Test after pruning= 0.69\n",
      "Test after pruning= 0.71\n",
      "Test after pruning= 0.69\n",
      "Test after pruning= 0.69\n",
      "Test after pruning= 0.68\n",
      "Test after pruning= 0.69\n",
      "Test after pruning= 0.69\n",
      "Test after pruning= 0.69\n",
      "Test after pruning= 0.68\n",
      "Test after pruning= 0.67\n",
      "Test after pruning= 0.68\n",
      "Test after pruning= 0.67\n",
      "Test after pruning= 0.68\n",
      "Test after pruning= 0.65\n",
      "Test after pruning= 0.64\n",
      "Test after pruning= 0.64\n",
      "Test after pruning= 0.64\n",
      "Test after pruning= 0.64\n",
      "Test after pruning= 0.63\n",
      "Test after pruning= 0.62\n",
      "Test after pruning= 0.63\n",
      "Test after pruning= 0.63\n",
      "Test after pruning= 0.60\n",
      "Test after pruning= 0.63\n",
      "Test after pruning= 0.63\n",
      "Test after pruning= 0.63\n",
      "Test after pruning= 0.63\n",
      "Test after pruning= 0.63\n",
      "Test after pruning= 0.63\n",
      "Test after pruning= 0.63\n",
      "Test after pruning= 0.63\n",
      "Test after pruning= 0.63\n"
     ]
    },
    {
     "data": {
      "image/png": "[encoded data removed]",
      "text/plain": [
       "<matplotlib.figure.Figure at 0x10df94f98>"
      ]
     },
     "metadata": {},
     "output_type": "display_data"
    }
   ],
   "source": [
    "algo = Thompson_Sampling([], [])\n",
    "Alg_name = 'Thompson_Sampling Algorithm'\n",
    "path = './Thompson_Sampling/'\n",
    "sys.path.append(\"./Thompson_Sampling\")\n",
    "exec(open(\"mnist_cnnFORTESTING.py\").read())"
   ]
  },
  {
   "cell_type": "markdown",
   "metadata": {},
   "source": [
    "## Run UCB1 pruning Algorithm"
   ]
  },
  {
   "cell_type": "code",
   "execution_count": 6,
   "metadata": {
    "collapsed": false
   },
   "outputs": [
    {
     "name": "stdout",
     "output_type": "stream",
     "text": [
      "Test fraction correct (NN-Score) = 0.57\n",
      "Test fraction correct (NN-Accuracy) = 0.69\n",
      "The time for running this method is 0.2298588752746582 seconds \n",
      "Finsh playing start pruining:\n",
      "Test after pruning= 0.70\n",
      "Test after pruning= 0.69\n",
      "Test after pruning= 0.71\n",
      "Test after pruning= 0.71\n",
      "Test after pruning= 0.73\n",
      "Test after pruning= 0.70\n",
      "Test after pruning= 0.70\n",
      "Test after pruning= 0.69\n",
      "Test after pruning= 0.70\n",
      "Test after pruning= 0.70\n",
      "Test after pruning= 0.69\n",
      "Test after pruning= 0.67\n",
      "Test after pruning= 0.68\n",
      "Test after pruning= 0.67\n",
      "Test after pruning= 0.67\n",
      "Test after pruning= 0.64\n",
      "Test after pruning= 0.63\n",
      "Test after pruning= 0.63\n",
      "Test after pruning= 0.65\n",
      "Test after pruning= 0.65\n",
      "Test after pruning= 0.63\n",
      "Test after pruning= 0.64\n",
      "Test after pruning= 0.62\n",
      "Test after pruning= 0.62\n",
      "Test after pruning= 0.62\n",
      "Test after pruning= 0.62\n",
      "Test after pruning= 0.62\n",
      "Test after pruning= 0.62\n",
      "Test after pruning= 0.63\n",
      "Test after pruning= 0.63\n",
      "Test after pruning= 0.63\n",
      "Test after pruning= 0.63\n",
      "Test after pruning= 0.63\n",
      "Test after pruning= 0.63\n",
      "Test after pruning= 0.63\n"
     ]
    },
    {
     "data": {
      "image/png": "[encoded data removed]",
      "text/plain": [
       "<matplotlib.figure.Figure at 0x10e2dfe10>"
      ]
     },
     "metadata": {},
     "output_type": "display_data"
    }
   ],
   "source": [
    "algo = UCB1([], [])\n",
    "Alg_name = 'UCB1 Algorithm'\n",
    "path = './UCB1/'\n",
    "sys.path.append(\"./UCB1\")\n",
    "exec(open(\"mnist_cnnFORTESTING.py\").read())"
   ]
  },
  {
   "cell_type": "markdown",
   "metadata": {
    "collapsed": true
   },
   "source": [
    "# Compare the accuracy"
   ]
  },
  {
   "cell_type": "code",
   "execution_count": 7,
   "metadata": {
    "collapsed": true
   },
   "outputs": [],
   "source": [
    "ucb1 = np.load('./UCB1/AccuracyAftrerPrune.npy')\n",
    "ThompsonSampling = np.load('./Thompson_Sampling/AccuracyAftrerPrune.npy')\n",
    "Accuracy = np.load('AccuracyBeforePruning.npy')"
   ]
  },
  {
   "cell_type": "code",
   "execution_count": 8,
   "metadata": {
    "collapsed": false
   },
   "outputs": [
    {
     "data": {
      "image/png": "[encoded data removed]",
      "text/plain": [
       "<matplotlib.figure.Figure at 0x10e3c5a20>"
      ]
     },
     "metadata": {},
     "output_type": "display_data"
    }
   ],
   "source": [
    "fig = plt.figure(figsize=(10, 6), dpi=80)\n",
    "ax = fig.add_subplot(111)\n",
    "N = len(ucb1)\n",
    "ind = np.arange(N)                # the x locations for the groups\n",
    "plt.plot(ind , ucb1 , color=\"blue\", linewidth=2.5, linestyle=\"-\", label=\"UCB1\")\n",
    "plt.plot(ind , ThompsonSampling, color=\"orange\", linewidth=2.5, linestyle=\"-\", label=\"Thompson Sampling\")\n",
    "plt.legend(loc = 3)\n",
    "plt.axis([0, 25, 0, 1])\n",
    "plt.xlabel('Number of pruned Neurons')\n",
    "plt.ylabel('The Accuracy')\n",
    "plt.grid(True)\n",
    "plt.show()"
   ]
  },
  {
   "cell_type": "code",
   "execution_count": 9,
   "metadata": {
    "collapsed": false
   },
   "outputs": [
    {
     "data": {
      "text/html": [
       "\n",
       "\n",
       "    <div class=\"bk-root\">\n",
       "        <div class=\"bk-plotdiv\" id=\"8d587cae-e908-4da3-964f-a7823a0e7955\"></div>\n",
       "    </div>\n",
       "<script type=\"text/javascript\">\n",
       "  \n",
       "  (function(global) {\n",
       "    function now() {\n",
       "      return new Date();\n",
       "    }\n",
       "  \n",
       "    var force = false;\n",
       "  \n",
       "    if (typeof (window._bokeh_onload_callbacks) === \"undefined\" || force === true) {\n",
       "      window._bokeh_onload_callbacks = [];\n",
       "      window._bokeh_is_loading = undefined;\n",
       "    }\n",
       "  \n",
       "  \n",
       "    \n",
       "    if (typeof (window._bokeh_timeout) === \"undefined\" || force === true) {\n",
       "      window._bokeh_timeout = Date.now() + 0;\n",
       "      window._bokeh_failed_load = false;\n",
       "    }\n",
       "  \n",
       "    var NB_LOAD_WARNING = {'data': {'text/html':\n",
       "       \"<div style='background-color: #fdd'>\\n\"+\n",
       "       \"<p>\\n\"+\n",
       "       \"BokehJS does not appear to have successfully loaded. If loading BokehJS from CDN, this \\n\"+\n",
       "       \"may be due to a slow or bad network connection. Possible fixes:\\n\"+\n",
       "       \"</p>\\n\"+\n",
       "       \"<ul>\\n\"+\n",
       "       \"<li>re-rerun `output_notebook()` to attempt to load from CDN again, or</li>\\n\"+\n",
       "       \"<li>use INLINE resources instead, as so:</li>\\n\"+\n",
       "       \"</ul>\\n\"+\n",
       "       \"<code>\\n\"+\n",
       "       \"from bokeh.resources import INLINE\\n\"+\n",
       "       \"output_notebook(resources=INLINE)\\n\"+\n",
       "       \"</code>\\n\"+\n",
       "       \"</div>\"}};\n",
       "  \n",
       "    function display_loaded() {\n",
       "      if (window.Bokeh !== undefined) {\n",
       "        document.getElementById(\"8d587cae-e908-4da3-964f-a7823a0e7955\").textContent = \"BokehJS successfully loaded.\";\n",
       "      } else if (Date.now() < window._bokeh_timeout) {\n",
       "        setTimeout(display_loaded, 100)\n",
       "      }\n",
       "    }\n",
       "  \n",
       "    function run_callbacks() {\n",
       "      window._bokeh_onload_callbacks.forEach(function(callback) { callback() });\n",
       "      delete window._bokeh_onload_callbacks\n",
       "      console.info(\"Bokeh: all callbacks have finished\");\n",
       "    }\n",
       "  \n",
       "    function load_libs(js_urls, callback) {\n",
       "      window._bokeh_onload_callbacks.push(callback);\n",
       "      if (window._bokeh_is_loading > 0) {\n",
       "        console.log(\"Bokeh: BokehJS is being loaded, scheduling callback at\", now());\n",
       "        return null;\n",
       "      }\n",
       "      if (js_urls == null || js_urls.length === 0) {\n",
       "        run_callbacks();\n",
       "        return null;\n",
       "      }\n",
       "      console.log(\"Bokeh: BokehJS not loaded, scheduling load and callback at\", now());\n",
       "      window._bokeh_is_loading = js_urls.length;\n",
       "      for (var i = 0; i < js_urls.length; i++) {\n",
       "        var url = js_urls[i];\n",
       "        var s = document.createElement('script');\n",
       "        s.src = url;\n",
       "        s.async = false;\n",
       "        s.onreadystatechange = s.onload = function() {\n",
       "          window._bokeh_is_loading--;\n",
       "          if (window._bokeh_is_loading === 0) {\n",
       "            console.log(\"Bokeh: all BokehJS libraries loaded\");\n",
       "            run_callbacks()\n",
       "          }\n",
       "        };\n",
       "        s.onerror = function() {\n",
       "          console.warn(\"failed to load library \" + url);\n",
       "        };\n",
       "        console.log(\"Bokeh: injecting script tag for BokehJS library: \", url);\n",
       "        document.getElementsByTagName(\"head\")[0].appendChild(s);\n",
       "      }\n",
       "    };var element = document.getElementById(\"8d587cae-e908-4da3-964f-a7823a0e7955\");\n",
       "    if (element == null) {\n",
       "      console.log(\"Bokeh: ERROR: autoload.js configured with elementid '8d587cae-e908-4da3-964f-a7823a0e7955' but no matching script tag was found. \")\n",
       "      return false;\n",
       "    }\n",
       "  \n",
       "    var js_urls = [];\n",
       "  \n",
       "    var inline_js = [\n",
       "      function(Bokeh) {\n",
       "        (function() {\n",
       "          var fn = function() {\n",
       "            var docs_json = {\"ec9dab52-09e3-4ffd-8214-9b9f899e7d10\":{\"roots\":{\"references\":[{\"attributes\":{\"plot\":{\"id\":\"1479eb3d-ac23-422f-8910-3e3bdaf717bc\",\"subtype\":\"Figure\",\"type\":\"Plot\"}},\"id\":\"a27ed2dd-7755-4c12-8669-ad2e7b105def\",\"type\":\"WheelZoomTool\"},{\"attributes\":{\"overlay\":{\"id\":\"24c55ee1-0941-450d-b256-5dcbeae869c2\",\"type\":\"PolyAnnotation\"},\"plot\":{\"id\":\"1479eb3d-ac23-422f-8910-3e3bdaf717bc\",\"subtype\":\"Figure\",\"type\":\"Plot\"}},\"id\":\"0b2b101e-0e87-4981-87c8-d91a3c57ec54\",\"type\":\"PolySelectTool\"},{\"attributes\":{},\"id\":\"d769f696-aef4-4b6f-8e19-cb25db3cbd30\",\"type\":\"ToolEvents\"},{\"attributes\":{\"line_alpha\":{\"value\":0.1},\"line_color\":{\"value\":\"#1f77b4\"},\"line_width\":{\"value\":2},\"x\":{\"field\":\"x\"},\"y\":{\"field\":\"y\"}},\"id\":\"9adee31b-6ea8-4d61-aee9-d6c54c16b380\",\"type\":\"Line\"},{\"attributes\":{\"plot\":{\"id\":\"1479eb3d-ac23-422f-8910-3e3bdaf717bc\",\"subtype\":\"Figure\",\"type\":\"Plot\"}},\"id\":\"556351d5-9823-4b9c-903e-509a245714c3\",\"type\":\"ResetTool\"},{\"attributes\":{\"plot\":{\"id\":\"1479eb3d-ac23-422f-8910-3e3bdaf717bc\",\"subtype\":\"Figure\",\"type\":\"Plot\"}},\"id\":\"ebb95a00-2ec4-45b0-8264-1a42104c86b0\",\"type\":\"SaveTool\"},{\"attributes\":{\"bottom_units\":\"screen\",\"fill_alpha\":{\"value\":0.5},\"fill_color\":{\"value\":\"lightgrey\"},\"left_units\":\"screen\",\"level\":\"overlay\",\"line_alpha\":{\"value\":1.0},\"line_color\":{\"value\":\"black\"},\"line_dash\":[4,4],\"line_width\":{\"value\":2},\"plot\":null,\"render_mode\":\"css\",\"right_units\":\"screen\",\"top_units\":\"screen\"},\"id\":\"fd474897-3a04-4d68-9470-7c7e3d59c534\",\"type\":\"BoxAnnotation\"},{\"attributes\":{\"callback\":null,\"column_names\":[\"x\",\"y\"],\"data\":{\"x\":[0,1,2,3,4,5,6,7,8,9,10,11,12,13,14,15,16,17,18,19,20,21,22,23,24,25,26,27,28,29,30,31,32,33,34],\"y\":{\"__ndarray__\":\"KMRZ+Qlx5j+ZGtg7pgbmP++YGtg7puY/t23btm3b5j9GF1100UXnPyjEWfkJceY/KMRZ+Qlx5j9g75ga2DvmPyjEWfkJceY/KMRZ+Qlx5j+ZGtg7pgbmP0KclZ8QZ+U/CnFWfkKc5T9CnJWfEGflP0KclZ8QZ+U/XXTRRRdd5D+WnxBn5SfkP5afEGflJ+Q/7B1TA3vH5D/sHVMDe8fkP5afEGflJ+Q/XXTRRRdd5D/Oyk+Is/LjP87KT4iz8uM/zspPiLPy4z8H9o6pgb3jPwf2jqmBveM/zspPiLPy4z+WnxBn5SfkP5afEGflJ+Q/lp8QZ+Un5D+WnxBn5SfkP5afEGflJ+Q/lp8QZ+Un5D+WnxBn5SfkPw==\",\"dtype\":\"float64\",\"shape\":[35]}}},\"id\":\"48cfd84e-f93c-4da0-b011-400a162dec86\",\"type\":\"ColumnDataSource\"},{\"attributes\":{\"line_color\":{\"value\":\"blue\"},\"line_width\":{\"value\":2},\"x\":{\"field\":\"x\"},\"y\":{\"field\":\"y\"}},\"id\":\"461aba2d-56f1-43a4-ab95-27a403f1ec49\",\"type\":\"Line\"},{\"attributes\":{\"callback\":null,\"overlay\":{\"id\":\"5a1125b6-7fe5-4fe2-b2e1-7ebd7b391b35\",\"type\":\"PolyAnnotation\"},\"plot\":{\"id\":\"1479eb3d-ac23-422f-8910-3e3bdaf717bc\",\"subtype\":\"Figure\",\"type\":\"Plot\"}},\"id\":\"7f3ee5d5-1536-44dc-809f-bf847341a8ec\",\"type\":\"LassoSelectTool\"},{\"attributes\":{\"active_drag\":\"auto\",\"active_scroll\":\"auto\",\"active_tap\":\"auto\",\"tools\":[{\"id\":\"c6097150-b1d6-45e6-86d8-c8a1c6d1f9ab\",\"type\":\"BoxZoomTool\"},{\"id\":\"57b2d32e-c8b9-4ef7-afee-400578b8c992\",\"type\":\"BoxSelectTool\"},{\"id\":\"050d745f-efe7-4fee-9340-e064028a59f0\",\"type\":\"CrosshairTool\"},{\"id\":\"52d0b8bc-b1bc-455a-9ef3-12d4baa34264\",\"type\":\"ResizeTool\"},{\"id\":\"556351d5-9823-4b9c-903e-509a245714c3\",\"type\":\"ResetTool\"},{\"id\":\"7f3ee5d5-1536-44dc-809f-bf847341a8ec\",\"type\":\"LassoSelectTool\"},{\"id\":\"c3f8ef57-e898-4d3b-b6ec-6c352f6082ed\",\"type\":\"PanTool\"},{\"id\":\"ebb95a00-2ec4-45b0-8264-1a42104c86b0\",\"type\":\"SaveTool\"},{\"id\":\"0b2b101e-0e87-4981-87c8-d91a3c57ec54\",\"type\":\"PolySelectTool\"},{\"id\":\"9087415a-42f8-4f2e-b149-109315997710\",\"type\":\"TapTool\"},{\"id\":\"a27ed2dd-7755-4c12-8669-ad2e7b105def\",\"type\":\"WheelZoomTool\"},{\"id\":\"4b203be6-8df5-42f4-9b40-2d08b7229015\",\"type\":\"UndoTool\"}]},\"id\":\"59b4eaf5-333d-4d58-a970-b14c0d3583b5\",\"type\":\"Toolbar\"},{\"attributes\":{\"plot\":{\"id\":\"1479eb3d-ac23-422f-8910-3e3bdaf717bc\",\"subtype\":\"Figure\",\"type\":\"Plot\"}},\"id\":\"c3f8ef57-e898-4d3b-b6ec-6c352f6082ed\",\"type\":\"PanTool\"},{\"attributes\":{\"data_source\":{\"id\":\"5d2feb87-072a-403e-a069-666ce15ef527\",\"type\":\"ColumnDataSource\"},\"glyph\":{\"id\":\"4433564f-bc49-4602-8484-1f5d49b68c32\",\"type\":\"Line\"},\"hover_glyph\":null,\"nonselection_glyph\":{\"id\":\"9adee31b-6ea8-4d61-aee9-d6c54c16b380\",\"type\":\"Line\"},\"selection_glyph\":null},\"id\":\"5a72e57c-8f61-40da-b94d-627ac6f7984d\",\"type\":\"GlyphRenderer\"},{\"attributes\":{},\"id\":\"2a55bb75-728d-4251-9a50-1e697ad0f9b3\",\"type\":\"BasicTicker\"},{\"attributes\":{\"dimension\":1,\"plot\":{\"id\":\"1479eb3d-ac23-422f-8910-3e3bdaf717bc\",\"subtype\":\"Figure\",\"type\":\"Plot\"},\"ticker\":{\"id\":\"2a55bb75-728d-4251-9a50-1e697ad0f9b3\",\"type\":\"BasicTicker\"}},\"id\":\"11811d5c-571f-4d37-9ba0-fa12c8e3cd6d\",\"type\":\"Grid\"},{\"attributes\":{\"label\":{\"value\":\"Thompson Sampling\"},\"renderers\":[{\"id\":\"5a72e57c-8f61-40da-b94d-627ac6f7984d\",\"type\":\"GlyphRenderer\"}]},\"id\":\"9f7b4c8a-ec8f-4363-b19a-f42940ebe379\",\"type\":\"LegendItem\"},{\"attributes\":{\"callback\":null,\"column_names\":[\"x\",\"y\"],\"data\":{\"x\":[0,1,2,3,4,5,6,7,8,9,10,11,12,13,14,15,16,17,18,19,20,21,22,23,24,25,26,27,28,29,30,31,32,33,34],\"y\":{\"__ndarray__\":\"YO+YGtg75j9g75ga2DvmPyjEWfkJceY/mRrYO6YG5j/vmBrYO6bmP2DvmBrYO+Y/YO+YGtg75j/RRRdddNHlP5ka2DumBuY/mRrYO6YG5j9g75ga2DvmP9FFF1100eU/QpyVnxBn5T/RRRdddNHlP0KclZ8QZ+U/CnFWfkKc5T/sHVMDe8fkPyVJkiRJkuQ/JUmSJEmS5D8lSZIkSZLkP1100UUXXeQ/lp8QZ+Un5D/Oyk+Is/LjP5afEGflJ+Q/lp8QZ+Un5D94TA3sHVPjP5afEGflJ+Q/lp8QZ+Un5D+WnxBn5SfkP5afEGflJ+Q/lp8QZ+Un5D+WnxBn5SfkP5afEGflJ+Q/lp8QZ+Un5D+WnxBn5SfkPw==\",\"dtype\":\"float64\",\"shape\":[35]}}},\"id\":\"5d2feb87-072a-403e-a069-666ce15ef527\",\"type\":\"ColumnDataSource\"},{\"attributes\":{\"align\":\"center\",\"plot\":null,\"text\":\"The Performance over the number of neurons' pruned\"},\"id\":\"6d4a4890-06e2-4d33-bef7-1e5bf9563c66\",\"type\":\"Title\"},{\"attributes\":{\"bottom_units\":\"screen\",\"fill_alpha\":{\"value\":0.5},\"fill_color\":{\"value\":\"lightgrey\"},\"left_units\":\"screen\",\"level\":\"overlay\",\"line_alpha\":{\"value\":1.0},\"line_color\":{\"value\":\"black\"},\"line_dash\":[4,4],\"line_width\":{\"value\":2},\"plot\":null,\"render_mode\":\"css\",\"right_units\":\"screen\",\"top_units\":\"screen\"},\"id\":\"e64edace-665d-42ad-86c1-e3ecbfd98903\",\"type\":\"BoxAnnotation\"},{\"attributes\":{\"formatter\":{\"id\":\"997f5603-48fc-457b-9b9d-b42cdaa7b6dd\",\"type\":\"BasicTickFormatter\"},\"plot\":{\"id\":\"1479eb3d-ac23-422f-8910-3e3bdaf717bc\",\"subtype\":\"Figure\",\"type\":\"Plot\"},\"ticker\":{\"id\":\"2a55bb75-728d-4251-9a50-1e697ad0f9b3\",\"type\":\"BasicTicker\"}},\"id\":\"3726fcf3-e3c3-425b-989e-5a406dc4d52c\",\"type\":\"LinearAxis\"},{\"attributes\":{\"plot\":{\"id\":\"1479eb3d-ac23-422f-8910-3e3bdaf717bc\",\"subtype\":\"Figure\",\"type\":\"Plot\"},\"ticker\":{\"id\":\"1f2d31f6-d748-4da7-a25a-0a6cf59e673c\",\"type\":\"BasicTicker\"}},\"id\":\"193db21b-9f22-4fa8-b6df-00c4b77c4f7a\",\"type\":\"Grid\"},{\"attributes\":{\"callback\":null,\"overlay\":{\"id\":\"fd474897-3a04-4d68-9470-7c7e3d59c534\",\"type\":\"BoxAnnotation\"},\"plot\":{\"id\":\"1479eb3d-ac23-422f-8910-3e3bdaf717bc\",\"subtype\":\"Figure\",\"type\":\"Plot\"},\"renderers\":[{\"id\":\"1bccae2d-f309-4bfa-95fa-39355a13d2d7\",\"type\":\"GlyphRenderer\"},{\"id\":\"5a72e57c-8f61-40da-b94d-627ac6f7984d\",\"type\":\"GlyphRenderer\"}]},\"id\":\"57b2d32e-c8b9-4ef7-afee-400578b8c992\",\"type\":\"BoxSelectTool\"},{\"attributes\":{\"plot\":{\"id\":\"1479eb3d-ac23-422f-8910-3e3bdaf717bc\",\"subtype\":\"Figure\",\"type\":\"Plot\"}},\"id\":\"050d745f-efe7-4fee-9340-e064028a59f0\",\"type\":\"CrosshairTool\"},{\"attributes\":{\"fill_alpha\":{\"value\":0.5},\"fill_color\":{\"value\":\"lightgrey\"},\"level\":\"overlay\",\"line_alpha\":{\"value\":1.0},\"line_color\":{\"value\":\"black\"},\"line_dash\":[4,4],\"line_width\":{\"value\":2},\"plot\":null,\"xs_units\":\"screen\",\"ys_units\":\"screen\"},\"id\":\"5a1125b6-7fe5-4fe2-b2e1-7ebd7b391b35\",\"type\":\"PolyAnnotation\"},{\"attributes\":{\"plot\":{\"id\":\"1479eb3d-ac23-422f-8910-3e3bdaf717bc\",\"subtype\":\"Figure\",\"type\":\"Plot\"}},\"id\":\"52d0b8bc-b1bc-455a-9ef3-12d4baa34264\",\"type\":\"ResizeTool\"},{\"attributes\":{},\"id\":\"1f2d31f6-d748-4da7-a25a-0a6cf59e673c\",\"type\":\"BasicTicker\"},{\"attributes\":{\"data_source\":{\"id\":\"48cfd84e-f93c-4da0-b011-400a162dec86\",\"type\":\"ColumnDataSource\"},\"glyph\":{\"id\":\"461aba2d-56f1-43a4-ab95-27a403f1ec49\",\"type\":\"Line\"},\"hover_glyph\":null,\"nonselection_glyph\":{\"id\":\"e0cac812-eb45-42d3-bb7a-dc2a3314924f\",\"type\":\"Line\"},\"selection_glyph\":null},\"id\":\"1bccae2d-f309-4bfa-95fa-39355a13d2d7\",\"type\":\"GlyphRenderer\"},{\"attributes\":{\"callback\":null},\"id\":\"5b1d7917-c9e1-4e3e-8e7f-37c88aaa1039\",\"type\":\"DataRange1d\"},{\"attributes\":{\"label\":{\"value\":\"ucb1\"},\"renderers\":[{\"id\":\"1bccae2d-f309-4bfa-95fa-39355a13d2d7\",\"type\":\"GlyphRenderer\"}]},\"id\":\"ac18b406-bf92-4163-a3c8-87df0b7a176d\",\"type\":\"LegendItem\"},{\"attributes\":{\"line_alpha\":{\"value\":0.1},\"line_color\":{\"value\":\"#1f77b4\"},\"line_width\":{\"value\":2},\"x\":{\"field\":\"x\"},\"y\":{\"field\":\"y\"}},\"id\":\"e0cac812-eb45-42d3-bb7a-dc2a3314924f\",\"type\":\"Line\"},{\"attributes\":{\"callback\":null,\"plot\":{\"id\":\"1479eb3d-ac23-422f-8910-3e3bdaf717bc\",\"subtype\":\"Figure\",\"type\":\"Plot\"}},\"id\":\"9087415a-42f8-4f2e-b149-109315997710\",\"type\":\"TapTool\"},{\"attributes\":{\"below\":[{\"id\":\"65d8be69-60c4-42eb-b16c-990cfbb5deda\",\"type\":\"LinearAxis\"}],\"left\":[{\"id\":\"3726fcf3-e3c3-425b-989e-5a406dc4d52c\",\"type\":\"LinearAxis\"}],\"renderers\":[{\"id\":\"65d8be69-60c4-42eb-b16c-990cfbb5deda\",\"type\":\"LinearAxis\"},{\"id\":\"193db21b-9f22-4fa8-b6df-00c4b77c4f7a\",\"type\":\"Grid\"},{\"id\":\"3726fcf3-e3c3-425b-989e-5a406dc4d52c\",\"type\":\"LinearAxis\"},{\"id\":\"11811d5c-571f-4d37-9ba0-fa12c8e3cd6d\",\"type\":\"Grid\"},{\"id\":\"e64edace-665d-42ad-86c1-e3ecbfd98903\",\"type\":\"BoxAnnotation\"},{\"id\":\"fd474897-3a04-4d68-9470-7c7e3d59c534\",\"type\":\"BoxAnnotation\"},{\"id\":\"5a1125b6-7fe5-4fe2-b2e1-7ebd7b391b35\",\"type\":\"PolyAnnotation\"},{\"id\":\"24c55ee1-0941-450d-b256-5dcbeae869c2\",\"type\":\"PolyAnnotation\"},{\"id\":\"485011ec-0053-48b5-a171-7e0ea8e1c557\",\"type\":\"Legend\"},{\"id\":\"1bccae2d-f309-4bfa-95fa-39355a13d2d7\",\"type\":\"GlyphRenderer\"},{\"id\":\"5a72e57c-8f61-40da-b94d-627ac6f7984d\",\"type\":\"GlyphRenderer\"}],\"title\":{\"id\":\"6d4a4890-06e2-4d33-bef7-1e5bf9563c66\",\"type\":\"Title\"},\"tool_events\":{\"id\":\"d769f696-aef4-4b6f-8e19-cb25db3cbd30\",\"type\":\"ToolEvents\"},\"toolbar\":{\"id\":\"59b4eaf5-333d-4d58-a970-b14c0d3583b5\",\"type\":\"Toolbar\"},\"x_range\":{\"id\":\"5b1d7917-c9e1-4e3e-8e7f-37c88aaa1039\",\"type\":\"DataRange1d\"},\"y_range\":{\"id\":\"fbd97bf5-d977-48a0-9cc5-9179ec02aa5a\",\"type\":\"DataRange1d\"}},\"id\":\"1479eb3d-ac23-422f-8910-3e3bdaf717bc\",\"subtype\":\"Figure\",\"type\":\"Plot\"},{\"attributes\":{},\"id\":\"0d768d3e-e682-4781-937a-809984f24cf3\",\"type\":\"BasicTickFormatter\"},{\"attributes\":{\"overlay\":{\"id\":\"e64edace-665d-42ad-86c1-e3ecbfd98903\",\"type\":\"BoxAnnotation\"},\"plot\":{\"id\":\"1479eb3d-ac23-422f-8910-3e3bdaf717bc\",\"subtype\":\"Figure\",\"type\":\"Plot\"}},\"id\":\"c6097150-b1d6-45e6-86d8-c8a1c6d1f9ab\",\"type\":\"BoxZoomTool\"},{\"attributes\":{\"plot\":{\"id\":\"1479eb3d-ac23-422f-8910-3e3bdaf717bc\",\"subtype\":\"Figure\",\"type\":\"Plot\"}},\"id\":\"4b203be6-8df5-42f4-9b40-2d08b7229015\",\"type\":\"UndoTool\"},{\"attributes\":{},\"id\":\"997f5603-48fc-457b-9b9d-b42cdaa7b6dd\",\"type\":\"BasicTickFormatter\"},{\"attributes\":{\"fill_alpha\":{\"value\":0.5},\"fill_color\":{\"value\":\"lightgrey\"},\"level\":\"overlay\",\"line_alpha\":{\"value\":1.0},\"line_color\":{\"value\":\"black\"},\"line_dash\":[4,4],\"line_width\":{\"value\":2},\"plot\":null,\"xs_units\":\"screen\",\"ys_units\":\"screen\"},\"id\":\"24c55ee1-0941-450d-b256-5dcbeae869c2\",\"type\":\"PolyAnnotation\"},{\"attributes\":{\"items\":[{\"id\":\"ac18b406-bf92-4163-a3c8-87df0b7a176d\",\"type\":\"LegendItem\"},{\"id\":\"9f7b4c8a-ec8f-4363-b19a-f42940ebe379\",\"type\":\"LegendItem\"}],\"plot\":{\"id\":\"1479eb3d-ac23-422f-8910-3e3bdaf717bc\",\"subtype\":\"Figure\",\"type\":\"Plot\"}},\"id\":\"485011ec-0053-48b5-a171-7e0ea8e1c557\",\"type\":\"Legend\"},{\"attributes\":{\"line_color\":{\"value\":\"red\"},\"line_width\":{\"value\":2},\"x\":{\"field\":\"x\"},\"y\":{\"field\":\"y\"}},\"id\":\"4433564f-bc49-4602-8484-1f5d49b68c32\",\"type\":\"Line\"},{\"attributes\":{\"callback\":null},\"id\":\"fbd97bf5-d977-48a0-9cc5-9179ec02aa5a\",\"type\":\"DataRange1d\"},{\"attributes\":{\"formatter\":{\"id\":\"0d768d3e-e682-4781-937a-809984f24cf3\",\"type\":\"BasicTickFormatter\"},\"plot\":{\"id\":\"1479eb3d-ac23-422f-8910-3e3bdaf717bc\",\"subtype\":\"Figure\",\"type\":\"Plot\"},\"ticker\":{\"id\":\"1f2d31f6-d748-4da7-a25a-0a6cf59e673c\",\"type\":\"BasicTicker\"}},\"id\":\"65d8be69-60c4-42eb-b16c-990cfbb5deda\",\"type\":\"LinearAxis\"}],\"root_ids\":[\"1479eb3d-ac23-422f-8910-3e3bdaf717bc\"]},\"title\":\"Bokeh Application\",\"version\":\"0.12.4\"}};\n",
       "            var render_items = [{\"docid\":\"ec9dab52-09e3-4ffd-8214-9b9f899e7d10\",\"elementid\":\"8d587cae-e908-4da3-964f-a7823a0e7955\",\"modelid\":\"1479eb3d-ac23-422f-8910-3e3bdaf717bc\"}];\n",
       "            \n",
       "            Bokeh.embed.embed_items(docs_json, render_items);\n",
       "          };\n",
       "          if (document.readyState != \"loading\") fn();\n",
       "          else document.addEventListener(\"DOMContentLoaded\", fn);\n",
       "        })();\n",
       "      },\n",
       "      function(Bokeh) {\n",
       "      }\n",
       "    ];\n",
       "  \n",
       "    function run_inline_js() {\n",
       "      \n",
       "      if ((window.Bokeh !== undefined) || (force === true)) {\n",
       "        for (var i = 0; i < inline_js.length; i++) {\n",
       "          inline_js[i](window.Bokeh);\n",
       "        }if (force === true) {\n",
       "          display_loaded();\n",
       "        }} else if (Date.now() < window._bokeh_timeout) {\n",
       "        setTimeout(run_inline_js, 100);\n",
       "      } else if (!window._bokeh_failed_load) {\n",
       "        console.log(\"Bokeh: BokehJS failed to load within specified timeout.\");\n",
       "        window._bokeh_failed_load = true;\n",
       "      } else if (force !== true) {\n",
       "        var cell = $(document.getElementById(\"8d587cae-e908-4da3-964f-a7823a0e7955\")).parents('.cell').data().cell;\n",
       "        cell.output_area.append_execute_result(NB_LOAD_WARNING)\n",
       "      }\n",
       "  \n",
       "    }\n",
       "  \n",
       "    if (window._bokeh_is_loading === 0) {\n",
       "      console.log(\"Bokeh: BokehJS loaded, going straight to plotting\");\n",
       "      run_inline_js();\n",
       "    } else {\n",
       "      load_libs(js_urls, function() {\n",
       "        console.log(\"Bokeh: BokehJS plotting callback run at\", now());\n",
       "        run_inline_js();\n",
       "      });\n",
       "    }\n",
       "  }(this));\n",
       "</script>"
      ]
     },
     "metadata": {},
     "output_type": "display_data"
    }
   ],
   "source": [
    "p1 = figure(title=\"The Performance over the number of neurons' pruned\", tools=TOOLS)\n",
    "p1.line(ind, ucb1, legend=\"ucb1\", line_color=\"blue\", line_width=2)\n",
    "p1.line(ind, ThompsonSampling, legend=\"Thompson Sampling\", line_color=\"red\", line_width=2)\n",
    "p1.title.align = \"center\"\n",
    "show(p1)"
   ]
  },
  {
   "cell_type": "markdown",
   "metadata": {},
   "source": [
    "# Comparing All algorithms with the model before pruning"
   ]
  },
  {
   "cell_type": "code",
   "execution_count": 10,
   "metadata": {
    "collapsed": false
   },
   "outputs": [
    {
     "data": {
      "image/png": "[encoded data removed]",
      "text/plain": [
       "<matplotlib.figure.Figure at 0x10e3c9748>"
      ]
     },
     "metadata": {},
     "output_type": "display_data"
    }
   ],
   "source": [
    "fig = plt.figure(figsize=(10, 6), dpi=80)\n",
    "ax = fig.add_subplot(111)\n",
    "N = len(ucb1)\n",
    "Acc = [Accuracy for col in range(N)]\n",
    "ind = np.arange(N)                # the x locations for the groups\n",
    "plt.plot(ind , ucb1 , color=\"blue\", linewidth=2.5, linestyle=\"-\", label=\"UCB1\")\n",
    "plt.plot(ind , ThompsonSampling, color=\"orange\", linewidth=2.5, linestyle=\"-\", label=\"Thompson Sampling\")\n",
    "plt.plot(ind , Acc, color=\"pink\", linewidth=2.5, linestyle=\"-\", label=\"Accuracy before Pruning\")\n",
    "plt.legend(loc = 3)\n",
    "plt.axis([0, 25, 0, 1])\n",
    "plt.xlabel('Number of pruned Neurons')\n",
    "plt.ylabel('The Accuracy')\n",
    "plt.grid(True)\n",
    "plt.show()"
   ]
  },
  {
   "cell_type": "code",
   "execution_count": 11,
   "metadata": {
    "collapsed": false
   },
   "outputs": [
    {
     "data": {
      "text/html": [
       "\n",
       "\n",
       "    <div class=\"bk-root\">\n",
       "        <div class=\"bk-plotdiv\" id=\"59489e13-2063-4423-ba62-f63a21c47ea9\"></div>\n",
       "    </div>\n",
       "<script type=\"text/javascript\">\n",
       "  \n",
       "  (function(global) {\n",
       "    function now() {\n",
       "      return new Date();\n",
       "    }\n",
       "  \n",
       "    var force = false;\n",
       "  \n",
       "    if (typeof (window._bokeh_onload_callbacks) === \"undefined\" || force === true) {\n",
       "      window._bokeh_onload_callbacks = [];\n",
       "      window._bokeh_is_loading = undefined;\n",
       "    }\n",
       "  \n",
       "  \n",
       "    \n",
       "    if (typeof (window._bokeh_timeout) === \"undefined\" || force === true) {\n",
       "      window._bokeh_timeout = Date.now() + 0;\n",
       "      window._bokeh_failed_load = false;\n",
       "    }\n",
       "  \n",
       "    var NB_LOAD_WARNING = {'data': {'text/html':\n",
       "       \"<div style='background-color: #fdd'>\\n\"+\n",
       "       \"<p>\\n\"+\n",
       "       \"BokehJS does not appear to have successfully loaded. If loading BokehJS from CDN, this \\n\"+\n",
       "       \"may be due to a slow or bad network connection. Possible fixes:\\n\"+\n",
       "       \"</p>\\n\"+\n",
       "       \"<ul>\\n\"+\n",
       "       \"<li>re-rerun `output_notebook()` to attempt to load from CDN again, or</li>\\n\"+\n",
       "       \"<li>use INLINE resources instead, as so:</li>\\n\"+\n",
       "       \"</ul>\\n\"+\n",
       "       \"<code>\\n\"+\n",
       "       \"from bokeh.resources import INLINE\\n\"+\n",
       "       \"output_notebook(resources=INLINE)\\n\"+\n",
       "       \"</code>\\n\"+\n",
       "       \"</div>\"}};\n",
       "  \n",
       "    function display_loaded() {\n",
       "      if (window.Bokeh !== undefined) {\n",
       "        document.getElementById(\"59489e13-2063-4423-ba62-f63a21c47ea9\").textContent = \"BokehJS successfully loaded.\";\n",
       "      } else if (Date.now() < window._bokeh_timeout) {\n",
       "        setTimeout(display_loaded, 100)\n",
       "      }\n",
       "    }\n",
       "  \n",
       "    function run_callbacks() {\n",
       "      window._bokeh_onload_callbacks.forEach(function(callback) { callback() });\n",
       "      delete window._bokeh_onload_callbacks\n",
       "      console.info(\"Bokeh: all callbacks have finished\");\n",
       "    }\n",
       "  \n",
       "    function load_libs(js_urls, callback) {\n",
       "      window._bokeh_onload_callbacks.push(callback);\n",
       "      if (window._bokeh_is_loading > 0) {\n",
       "        console.log(\"Bokeh: BokehJS is being loaded, scheduling callback at\", now());\n",
       "        return null;\n",
       "      }\n",
       "      if (js_urls == null || js_urls.length === 0) {\n",
       "        run_callbacks();\n",
       "        return null;\n",
       "      }\n",
       "      console.log(\"Bokeh: BokehJS not loaded, scheduling load and callback at\", now());\n",
       "      window._bokeh_is_loading = js_urls.length;\n",
       "      for (var i = 0; i < js_urls.length; i++) {\n",
       "        var url = js_urls[i];\n",
       "        var s = document.createElement('script');\n",
       "        s.src = url;\n",
       "        s.async = false;\n",
       "        s.onreadystatechange = s.onload = function() {\n",
       "          window._bokeh_is_loading--;\n",
       "          if (window._bokeh_is_loading === 0) {\n",
       "            console.log(\"Bokeh: all BokehJS libraries loaded\");\n",
       "            run_callbacks()\n",
       "          }\n",
       "        };\n",
       "        s.onerror = function() {\n",
       "          console.warn(\"failed to load library \" + url);\n",
       "        };\n",
       "        console.log(\"Bokeh: injecting script tag for BokehJS library: \", url);\n",
       "        document.getElementsByTagName(\"head\")[0].appendChild(s);\n",
       "      }\n",
       "    };var element = document.getElementById(\"59489e13-2063-4423-ba62-f63a21c47ea9\");\n",
       "    if (element == null) {\n",
       "      console.log(\"Bokeh: ERROR: autoload.js configured with elementid '59489e13-2063-4423-ba62-f63a21c47ea9' but no matching script tag was found. \")\n",
       "      return false;\n",
       "    }\n",
       "  \n",
       "    var js_urls = [];\n",
       "  \n",
       "    var inline_js = [\n",
       "      function(Bokeh) {\n",
       "        (function() {\n",
       "          var fn = function() {\n",
       "            var docs_json = {\"55f6d71a-c257-4fc0-922d-c102c6662e20\":{\"roots\":{\"references\":[{\"attributes\":{\"label\":{\"value\":\"ucb1\"},\"renderers\":[{\"id\":\"70990b14-e9b9-4a68-8579-c334bb5ac2bc\",\"type\":\"GlyphRenderer\"}]},\"id\":\"72c87b25-677c-42b5-ae86-59d23c079aa2\",\"type\":\"LegendItem\"},{\"attributes\":{\"formatter\":{\"id\":\"d076d3be-4c0d-4808-aa91-ff692336a985\",\"type\":\"BasicTickFormatter\"},\"plot\":{\"id\":\"543c4721-d2a8-4950-91a8-58309675d2c1\",\"subtype\":\"Figure\",\"type\":\"Plot\"},\"ticker\":{\"id\":\"f65d5357-5ccb-4318-965e-9f9c283307f5\",\"type\":\"BasicTicker\"}},\"id\":\"3cf5508d-2ef9-4282-9b16-9c304c1cae17\",\"type\":\"LinearAxis\"},{\"attributes\":{\"plot\":{\"id\":\"543c4721-d2a8-4950-91a8-58309675d2c1\",\"subtype\":\"Figure\",\"type\":\"Plot\"}},\"id\":\"b04c1037-f946-474a-b926-ef9bdf4fcfd4\",\"type\":\"ResizeTool\"},{\"attributes\":{\"callback\":null,\"overlay\":{\"id\":\"3ba5a692-8ea2-435e-b804-1490d30c20d9\",\"type\":\"PolyAnnotation\"},\"plot\":{\"id\":\"543c4721-d2a8-4950-91a8-58309675d2c1\",\"subtype\":\"Figure\",\"type\":\"Plot\"}},\"id\":\"23ddfe94-3a5c-42f1-a841-a339095d4a7b\",\"type\":\"LassoSelectTool\"},{\"attributes\":{\"plot\":{\"id\":\"543c4721-d2a8-4950-91a8-58309675d2c1\",\"subtype\":\"Figure\",\"type\":\"Plot\"}},\"id\":\"fe071d4c-f0ca-4e61-b847-a9355ede475d\",\"type\":\"WheelZoomTool\"},{\"attributes\":{\"plot\":{\"id\":\"543c4721-d2a8-4950-91a8-58309675d2c1\",\"subtype\":\"Figure\",\"type\":\"Plot\"}},\"id\":\"f6176074-f417-4505-b3ac-4c725ca76c76\",\"type\":\"PanTool\"},{\"attributes\":{},\"id\":\"d076d3be-4c0d-4808-aa91-ff692336a985\",\"type\":\"BasicTickFormatter\"},{\"attributes\":{\"align\":\"center\",\"plot\":null,\"text\":\"The Performance over the number of neurons' pruned\"},\"id\":\"306647e0-9a00-4660-ab82-c6ae594d7586\",\"type\":\"Title\"},{\"attributes\":{\"line_color\":{\"value\":\"red\"},\"line_width\":{\"value\":2},\"x\":{\"field\":\"x\"},\"y\":{\"field\":\"y\"}},\"id\":\"6e106f49-af37-42ed-858f-a9a38f6051b4\",\"type\":\"Line\"},{\"attributes\":{},\"id\":\"6e1c5517-fe64-4917-9a15-94caa3e5a11b\",\"type\":\"BasicTicker\"},{\"attributes\":{},\"id\":\"5e38948e-9230-4ff7-ae31-6a2f819249da\",\"type\":\"BasicTickFormatter\"},{\"attributes\":{\"active_drag\":\"auto\",\"active_scroll\":\"auto\",\"active_tap\":\"auto\",\"tools\":[{\"id\":\"9e88f31e-0ea3-46bd-ba3c-37be3517a930\",\"type\":\"BoxZoomTool\"},{\"id\":\"35926950-ff06-4896-bcab-25b6bd1825a3\",\"type\":\"BoxSelectTool\"},{\"id\":\"8e10770a-da19-478d-bac9-057ff5d8f5d1\",\"type\":\"CrosshairTool\"},{\"id\":\"b04c1037-f946-474a-b926-ef9bdf4fcfd4\",\"type\":\"ResizeTool\"},{\"id\":\"102ae186-db2e-4720-9338-8f70607327ee\",\"type\":\"ResetTool\"},{\"id\":\"23ddfe94-3a5c-42f1-a841-a339095d4a7b\",\"type\":\"LassoSelectTool\"},{\"id\":\"f6176074-f417-4505-b3ac-4c725ca76c76\",\"type\":\"PanTool\"},{\"id\":\"57ce5ff0-e10d-43ca-9423-2559aafdafc1\",\"type\":\"SaveTool\"},{\"id\":\"c94042b7-beef-4163-ba38-d1bc1d8fb903\",\"type\":\"PolySelectTool\"},{\"id\":\"e7743123-df37-4dc9-aa4d-38215af04f8e\",\"type\":\"TapTool\"},{\"id\":\"fe071d4c-f0ca-4e61-b847-a9355ede475d\",\"type\":\"WheelZoomTool\"},{\"id\":\"0d23f47f-5c16-4075-9946-f4a99f4bd38f\",\"type\":\"UndoTool\"}]},\"id\":\"046147bc-1fef-4eb1-95f9-aa2c8a055d20\",\"type\":\"Toolbar\"},{\"attributes\":{\"data_source\":{\"id\":\"f69ccf33-5e2c-4e8a-80ff-62090c9c5458\",\"type\":\"ColumnDataSource\"},\"glyph\":{\"id\":\"a47b2b35-9eaa-43da-af89-86e298a82e83\",\"type\":\"Line\"},\"hover_glyph\":null,\"nonselection_glyph\":{\"id\":\"a2cc5538-7ccc-4de9-8263-74d1a48113c1\",\"type\":\"Line\"},\"selection_glyph\":null},\"id\":\"e63ff1ab-d2ee-47e7-be69-41eadbf48178\",\"type\":\"GlyphRenderer\"},{\"attributes\":{\"line_alpha\":{\"value\":0.1},\"line_color\":{\"value\":\"#1f77b4\"},\"line_width\":{\"value\":2},\"x\":{\"field\":\"x\"},\"y\":{\"field\":\"y\"}},\"id\":\"7319038b-af7d-434f-91ff-968a3cdfd609\",\"type\":\"Line\"},{\"attributes\":{\"overlay\":{\"id\":\"0708d962-2f31-44ae-9952-23eb93010aba\",\"type\":\"PolyAnnotation\"},\"plot\":{\"id\":\"543c4721-d2a8-4950-91a8-58309675d2c1\",\"subtype\":\"Figure\",\"type\":\"Plot\"}},\"id\":\"c94042b7-beef-4163-ba38-d1bc1d8fb903\",\"type\":\"PolySelectTool\"},{\"attributes\":{\"bottom_units\":\"screen\",\"fill_alpha\":{\"value\":0.5},\"fill_color\":{\"value\":\"lightgrey\"},\"left_units\":\"screen\",\"level\":\"overlay\",\"line_alpha\":{\"value\":1.0},\"line_color\":{\"value\":\"black\"},\"line_dash\":[4,4],\"line_width\":{\"value\":2},\"plot\":null,\"render_mode\":\"css\",\"right_units\":\"screen\",\"top_units\":\"screen\"},\"id\":\"d3767746-b5bf-46b0-b694-ce4e23308000\",\"type\":\"BoxAnnotation\"},{\"attributes\":{\"line_alpha\":{\"value\":0.1},\"line_color\":{\"value\":\"#1f77b4\"},\"line_width\":{\"value\":2},\"x\":{\"field\":\"x\"},\"y\":{\"field\":\"y\"}},\"id\":\"9495ce21-6b9a-42d2-8f2d-b35ca65b587a\",\"type\":\"Line\"},{\"attributes\":{},\"id\":\"4e01d9e9-8583-4d40-bc29-ba65711b0792\",\"type\":\"ToolEvents\"},{\"attributes\":{\"fill_alpha\":{\"value\":0.5},\"fill_color\":{\"value\":\"lightgrey\"},\"level\":\"overlay\",\"line_alpha\":{\"value\":1.0},\"line_color\":{\"value\":\"black\"},\"line_dash\":[4,4],\"line_width\":{\"value\":2},\"plot\":null,\"xs_units\":\"screen\",\"ys_units\":\"screen\"},\"id\":\"0708d962-2f31-44ae-9952-23eb93010aba\",\"type\":\"PolyAnnotation\"},{\"attributes\":{\"line_color\":{\"value\":\"blue\"},\"line_dash\":[4,4],\"line_width\":{\"value\":2},\"x\":{\"field\":\"x\"},\"y\":{\"field\":\"y\"}},\"id\":\"a47b2b35-9eaa-43da-af89-86e298a82e83\",\"type\":\"Line\"},{\"attributes\":{\"callback\":null,\"column_names\":[\"x\",\"y\"],\"data\":{\"x\":[0,1,2,3,4,5,6,7,8,9,10,11,12,13,14,15,16,17,18,19,20,21,22,23,24,25,26,27,28,29,30,31,32,33,34],\"y\":{\"__ndarray__\":\"YO+YGtg75j9g75ga2DvmPyjEWfkJceY/mRrYO6YG5j/vmBrYO6bmP2DvmBrYO+Y/YO+YGtg75j/RRRdddNHlP5ka2DumBuY/mRrYO6YG5j9g75ga2DvmP9FFF1100eU/QpyVnxBn5T/RRRdddNHlP0KclZ8QZ+U/CnFWfkKc5T/sHVMDe8fkPyVJkiRJkuQ/JUmSJEmS5D8lSZIkSZLkP1100UUXXeQ/lp8QZ+Un5D/Oyk+Is/LjP5afEGflJ+Q/lp8QZ+Un5D94TA3sHVPjP5afEGflJ+Q/lp8QZ+Un5D+WnxBn5SfkP5afEGflJ+Q/lp8QZ+Un5D+WnxBn5SfkP5afEGflJ+Q/lp8QZ+Un5D+WnxBn5SfkPw==\",\"dtype\":\"float64\",\"shape\":[35]}}},\"id\":\"464d2a92-8ede-45c8-9700-87e387590f31\",\"type\":\"ColumnDataSource\"},{\"attributes\":{\"callback\":null,\"column_names\":[\"x\",\"y\"],\"data\":{\"x\":[0,1,2,3,4,5,6,7,8,9,10,11,12,13,14,15,16,17,18,19,20,21,22,23,24,25,26,27,28,29,30,31,32,33,34],\"y\":[{\"__ndarray__\":\"M4g0szMx4z8=\",\"dtype\":\"float64\",\"shape\":[]},{\"__ndarray__\":\"M4g0szMx4z8=\",\"dtype\":\"float64\",\"shape\":[]},{\"__ndarray__\":\"M4g0szMx4z8=\",\"dtype\":\"float64\",\"shape\":[]},{\"__ndarray__\":\"M4g0szMx4z8=\",\"dtype\":\"float64\",\"shape\":[]},{\"__ndarray__\":\"M4g0szMx4z8=\",\"dtype\":\"float64\",\"shape\":[]},{\"__ndarray__\":\"M4g0szMx4z8=\",\"dtype\":\"float64\",\"shape\":[]},{\"__ndarray__\":\"M4g0szMx4z8=\",\"dtype\":\"float64\",\"shape\":[]},{\"__ndarray__\":\"M4g0szMx4z8=\",\"dtype\":\"float64\",\"shape\":[]},{\"__ndarray__\":\"M4g0szMx4z8=\",\"dtype\":\"float64\",\"shape\":[]},{\"__ndarray__\":\"M4g0szMx4z8=\",\"dtype\":\"float64\",\"shape\":[]},{\"__ndarray__\":\"M4g0szMx4z8=\",\"dtype\":\"float64\",\"shape\":[]},{\"__ndarray__\":\"M4g0szMx4z8=\",\"dtype\":\"float64\",\"shape\":[]},{\"__ndarray__\":\"M4g0szMx4z8=\",\"dtype\":\"float64\",\"shape\":[]},{\"__ndarray__\":\"M4g0szMx4z8=\",\"dtype\":\"float64\",\"shape\":[]},{\"__ndarray__\":\"M4g0szMx4z8=\",\"dtype\":\"float64\",\"shape\":[]},{\"__ndarray__\":\"M4g0szMx4z8=\",\"dtype\":\"float64\",\"shape\":[]},{\"__ndarray__\":\"M4g0szMx4z8=\",\"dtype\":\"float64\",\"shape\":[]},{\"__ndarray__\":\"M4g0szMx4z8=\",\"dtype\":\"float64\",\"shape\":[]},{\"__ndarray__\":\"M4g0szMx4z8=\",\"dtype\":\"float64\",\"shape\":[]},{\"__ndarray__\":\"M4g0szMx4z8=\",\"dtype\":\"float64\",\"shape\":[]},{\"__ndarray__\":\"M4g0szMx4z8=\",\"dtype\":\"float64\",\"shape\":[]},{\"__ndarray__\":\"M4g0szMx4z8=\",\"dtype\":\"float64\",\"shape\":[]},{\"__ndarray__\":\"M4g0szMx4z8=\",\"dtype\":\"float64\",\"shape\":[]},{\"__ndarray__\":\"M4g0szMx4z8=\",\"dtype\":\"float64\",\"shape\":[]},{\"__ndarray__\":\"M4g0szMx4z8=\",\"dtype\":\"float64\",\"shape\":[]},{\"__ndarray__\":\"M4g0szMx4z8=\",\"dtype\":\"float64\",\"shape\":[]},{\"__ndarray__\":\"M4g0szMx4z8=\",\"dtype\":\"float64\",\"shape\":[]},{\"__ndarray__\":\"M4g0szMx4z8=\",\"dtype\":\"float64\",\"shape\":[]},{\"__ndarray__\":\"M4g0szMx4z8=\",\"dtype\":\"float64\",\"shape\":[]},{\"__ndarray__\":\"M4g0szMx4z8=\",\"dtype\":\"float64\",\"shape\":[]},{\"__ndarray__\":\"M4g0szMx4z8=\",\"dtype\":\"float64\",\"shape\":[]},{\"__ndarray__\":\"M4g0szMx4z8=\",\"dtype\":\"float64\",\"shape\":[]},{\"__ndarray__\":\"M4g0szMx4z8=\",\"dtype\":\"float64\",\"shape\":[]},{\"__ndarray__\":\"M4g0szMx4z8=\",\"dtype\":\"float64\",\"shape\":[]},{\"__ndarray__\":\"M4g0szMx4z8=\",\"dtype\":\"float64\",\"shape\":[]}]}},\"id\":\"f69ccf33-5e2c-4e8a-80ff-62090c9c5458\",\"type\":\"ColumnDataSource\"},{\"attributes\":{\"dimension\":1,\"plot\":{\"id\":\"543c4721-d2a8-4950-91a8-58309675d2c1\",\"subtype\":\"Figure\",\"type\":\"Plot\"},\"ticker\":{\"id\":\"6e1c5517-fe64-4917-9a15-94caa3e5a11b\",\"type\":\"BasicTicker\"}},\"id\":\"c58335df-f62c-487f-8c59-fbb6b9edf24a\",\"type\":\"Grid\"},{\"attributes\":{\"label\":{\"value\":\"Thompson Sampling\"},\"renderers\":[{\"id\":\"6587cece-94e2-4987-9471-c365d3cd14a8\",\"type\":\"GlyphRenderer\"}]},\"id\":\"b7cb7d8b-fc2a-4aa3-95f1-037003555559\",\"type\":\"LegendItem\"},{\"attributes\":{\"label\":{\"value\":\"Accuracy\"},\"renderers\":[{\"id\":\"e63ff1ab-d2ee-47e7-be69-41eadbf48178\",\"type\":\"GlyphRenderer\"}]},\"id\":\"eb31842f-56ab-4598-9bd4-c264211bf2e9\",\"type\":\"LegendItem\"},{\"attributes\":{\"line_alpha\":{\"value\":0.1},\"line_color\":{\"value\":\"#1f77b4\"},\"line_dash\":[4,4],\"line_width\":{\"value\":2},\"x\":{\"field\":\"x\"},\"y\":{\"field\":\"y\"}},\"id\":\"a2cc5538-7ccc-4de9-8263-74d1a48113c1\",\"type\":\"Line\"},{\"attributes\":{\"data_source\":{\"id\":\"76d5061c-a447-4842-9ed3-b439714e3a2b\",\"type\":\"ColumnDataSource\"},\"glyph\":{\"id\":\"fcdf953f-cea4-42f7-af26-923f3b44cb67\",\"type\":\"Line\"},\"hover_glyph\":null,\"nonselection_glyph\":{\"id\":\"7319038b-af7d-434f-91ff-968a3cdfd609\",\"type\":\"Line\"},\"selection_glyph\":null},\"id\":\"70990b14-e9b9-4a68-8579-c334bb5ac2bc\",\"type\":\"GlyphRenderer\"},{\"attributes\":{\"overlay\":{\"id\":\"bff67ac1-49aa-4031-89f2-34365d5ab763\",\"type\":\"BoxAnnotation\"},\"plot\":{\"id\":\"543c4721-d2a8-4950-91a8-58309675d2c1\",\"subtype\":\"Figure\",\"type\":\"Plot\"}},\"id\":\"9e88f31e-0ea3-46bd-ba3c-37be3517a930\",\"type\":\"BoxZoomTool\"},{\"attributes\":{\"plot\":{\"id\":\"543c4721-d2a8-4950-91a8-58309675d2c1\",\"subtype\":\"Figure\",\"type\":\"Plot\"}},\"id\":\"8e10770a-da19-478d-bac9-057ff5d8f5d1\",\"type\":\"CrosshairTool\"},{\"attributes\":{\"data_source\":{\"id\":\"464d2a92-8ede-45c8-9700-87e387590f31\",\"type\":\"ColumnDataSource\"},\"glyph\":{\"id\":\"6e106f49-af37-42ed-858f-a9a38f6051b4\",\"type\":\"Line\"},\"hover_glyph\":null,\"nonselection_glyph\":{\"id\":\"9495ce21-6b9a-42d2-8f2d-b35ca65b587a\",\"type\":\"Line\"},\"selection_glyph\":null},\"id\":\"6587cece-94e2-4987-9471-c365d3cd14a8\",\"type\":\"GlyphRenderer\"},{\"attributes\":{\"line_color\":{\"value\":\"green\"},\"line_width\":{\"value\":2},\"x\":{\"field\":\"x\"},\"y\":{\"field\":\"y\"}},\"id\":\"fcdf953f-cea4-42f7-af26-923f3b44cb67\",\"type\":\"Line\"},{\"attributes\":{\"callback\":null,\"plot\":{\"id\":\"543c4721-d2a8-4950-91a8-58309675d2c1\",\"subtype\":\"Figure\",\"type\":\"Plot\"}},\"id\":\"e7743123-df37-4dc9-aa4d-38215af04f8e\",\"type\":\"TapTool\"},{\"attributes\":{\"plot\":{\"id\":\"543c4721-d2a8-4950-91a8-58309675d2c1\",\"subtype\":\"Figure\",\"type\":\"Plot\"},\"ticker\":{\"id\":\"f65d5357-5ccb-4318-965e-9f9c283307f5\",\"type\":\"BasicTicker\"}},\"id\":\"92d43d7e-13c0-4bfb-890e-c3a1a5b37724\",\"type\":\"Grid\"},{\"attributes\":{\"callback\":null,\"column_names\":[\"x\",\"y\"],\"data\":{\"x\":[0,1,2,3,4,5,6,7,8,9,10,11,12,13,14,15,16,17,18,19,20,21,22,23,24,25,26,27,28,29,30,31,32,33,34],\"y\":{\"__ndarray__\":\"KMRZ+Qlx5j+ZGtg7pgbmP++YGtg7puY/t23btm3b5j9GF1100UXnPyjEWfkJceY/KMRZ+Qlx5j9g75ga2DvmPyjEWfkJceY/KMRZ+Qlx5j+ZGtg7pgbmP0KclZ8QZ+U/CnFWfkKc5T9CnJWfEGflP0KclZ8QZ+U/XXTRRRdd5D+WnxBn5SfkP5afEGflJ+Q/7B1TA3vH5D/sHVMDe8fkP5afEGflJ+Q/XXTRRRdd5D/Oyk+Is/LjP87KT4iz8uM/zspPiLPy4z8H9o6pgb3jPwf2jqmBveM/zspPiLPy4z+WnxBn5SfkP5afEGflJ+Q/lp8QZ+Un5D+WnxBn5SfkP5afEGflJ+Q/lp8QZ+Un5D+WnxBn5SfkPw==\",\"dtype\":\"float64\",\"shape\":[35]}}},\"id\":\"76d5061c-a447-4842-9ed3-b439714e3a2b\",\"type\":\"ColumnDataSource\"},{\"attributes\":{\"plot\":{\"id\":\"543c4721-d2a8-4950-91a8-58309675d2c1\",\"subtype\":\"Figure\",\"type\":\"Plot\"}},\"id\":\"0d23f47f-5c16-4075-9946-f4a99f4bd38f\",\"type\":\"UndoTool\"},{\"attributes\":{\"formatter\":{\"id\":\"5e38948e-9230-4ff7-ae31-6a2f819249da\",\"type\":\"BasicTickFormatter\"},\"plot\":{\"id\":\"543c4721-d2a8-4950-91a8-58309675d2c1\",\"subtype\":\"Figure\",\"type\":\"Plot\"},\"ticker\":{\"id\":\"6e1c5517-fe64-4917-9a15-94caa3e5a11b\",\"type\":\"BasicTicker\"}},\"id\":\"16d8327e-57be-432d-a003-05d3b5149fbb\",\"type\":\"LinearAxis\"},{\"attributes\":{\"items\":[{\"id\":\"72c87b25-677c-42b5-ae86-59d23c079aa2\",\"type\":\"LegendItem\"},{\"id\":\"b7cb7d8b-fc2a-4aa3-95f1-037003555559\",\"type\":\"LegendItem\"},{\"id\":\"eb31842f-56ab-4598-9bd4-c264211bf2e9\",\"type\":\"LegendItem\"}],\"plot\":{\"id\":\"543c4721-d2a8-4950-91a8-58309675d2c1\",\"subtype\":\"Figure\",\"type\":\"Plot\"}},\"id\":\"2069c664-e493-4c90-a670-c8ca9ecf5f2b\",\"type\":\"Legend\"},{\"attributes\":{\"callback\":null,\"overlay\":{\"id\":\"d3767746-b5bf-46b0-b694-ce4e23308000\",\"type\":\"BoxAnnotation\"},\"plot\":{\"id\":\"543c4721-d2a8-4950-91a8-58309675d2c1\",\"subtype\":\"Figure\",\"type\":\"Plot\"},\"renderers\":[{\"id\":\"70990b14-e9b9-4a68-8579-c334bb5ac2bc\",\"type\":\"GlyphRenderer\"},{\"id\":\"6587cece-94e2-4987-9471-c365d3cd14a8\",\"type\":\"GlyphRenderer\"},{\"id\":\"e63ff1ab-d2ee-47e7-be69-41eadbf48178\",\"type\":\"GlyphRenderer\"}]},\"id\":\"35926950-ff06-4896-bcab-25b6bd1825a3\",\"type\":\"BoxSelectTool\"},{\"attributes\":{\"callback\":null},\"id\":\"7112f344-82d4-49d0-8b9f-315bf89abc11\",\"type\":\"DataRange1d\"},{\"attributes\":{\"below\":[{\"id\":\"3cf5508d-2ef9-4282-9b16-9c304c1cae17\",\"type\":\"LinearAxis\"}],\"left\":[{\"id\":\"16d8327e-57be-432d-a003-05d3b5149fbb\",\"type\":\"LinearAxis\"}],\"renderers\":[{\"id\":\"3cf5508d-2ef9-4282-9b16-9c304c1cae17\",\"type\":\"LinearAxis\"},{\"id\":\"92d43d7e-13c0-4bfb-890e-c3a1a5b37724\",\"type\":\"Grid\"},{\"id\":\"16d8327e-57be-432d-a003-05d3b5149fbb\",\"type\":\"LinearAxis\"},{\"id\":\"c58335df-f62c-487f-8c59-fbb6b9edf24a\",\"type\":\"Grid\"},{\"id\":\"bff67ac1-49aa-4031-89f2-34365d5ab763\",\"type\":\"BoxAnnotation\"},{\"id\":\"d3767746-b5bf-46b0-b694-ce4e23308000\",\"type\":\"BoxAnnotation\"},{\"id\":\"3ba5a692-8ea2-435e-b804-1490d30c20d9\",\"type\":\"PolyAnnotation\"},{\"id\":\"0708d962-2f31-44ae-9952-23eb93010aba\",\"type\":\"PolyAnnotation\"},{\"id\":\"2069c664-e493-4c90-a670-c8ca9ecf5f2b\",\"type\":\"Legend\"},{\"id\":\"70990b14-e9b9-4a68-8579-c334bb5ac2bc\",\"type\":\"GlyphRenderer\"},{\"id\":\"6587cece-94e2-4987-9471-c365d3cd14a8\",\"type\":\"GlyphRenderer\"},{\"id\":\"e63ff1ab-d2ee-47e7-be69-41eadbf48178\",\"type\":\"GlyphRenderer\"}],\"title\":{\"id\":\"306647e0-9a00-4660-ab82-c6ae594d7586\",\"type\":\"Title\"},\"tool_events\":{\"id\":\"4e01d9e9-8583-4d40-bc29-ba65711b0792\",\"type\":\"ToolEvents\"},\"toolbar\":{\"id\":\"046147bc-1fef-4eb1-95f9-aa2c8a055d20\",\"type\":\"Toolbar\"},\"x_range\":{\"id\":\"7112f344-82d4-49d0-8b9f-315bf89abc11\",\"type\":\"DataRange1d\"},\"y_range\":{\"id\":\"68a73fe7-4cef-4779-b3fa-3cb551b668d6\",\"type\":\"DataRange1d\"}},\"id\":\"543c4721-d2a8-4950-91a8-58309675d2c1\",\"subtype\":\"Figure\",\"type\":\"Plot\"},{\"attributes\":{\"fill_alpha\":{\"value\":0.5},\"fill_color\":{\"value\":\"lightgrey\"},\"level\":\"overlay\",\"line_alpha\":{\"value\":1.0},\"line_color\":{\"value\":\"black\"},\"line_dash\":[4,4],\"line_width\":{\"value\":2},\"plot\":null,\"xs_units\":\"screen\",\"ys_units\":\"screen\"},\"id\":\"3ba5a692-8ea2-435e-b804-1490d30c20d9\",\"type\":\"PolyAnnotation\"},{\"attributes\":{\"callback\":null},\"id\":\"68a73fe7-4cef-4779-b3fa-3cb551b668d6\",\"type\":\"DataRange1d\"},{\"attributes\":{\"plot\":{\"id\":\"543c4721-d2a8-4950-91a8-58309675d2c1\",\"subtype\":\"Figure\",\"type\":\"Plot\"}},\"id\":\"57ce5ff0-e10d-43ca-9423-2559aafdafc1\",\"type\":\"SaveTool\"},{\"attributes\":{\"bottom_units\":\"screen\",\"fill_alpha\":{\"value\":0.5},\"fill_color\":{\"value\":\"lightgrey\"},\"left_units\":\"screen\",\"level\":\"overlay\",\"line_alpha\":{\"value\":1.0},\"line_color\":{\"value\":\"black\"},\"line_dash\":[4,4],\"line_width\":{\"value\":2},\"plot\":null,\"render_mode\":\"css\",\"right_units\":\"screen\",\"top_units\":\"screen\"},\"id\":\"bff67ac1-49aa-4031-89f2-34365d5ab763\",\"type\":\"BoxAnnotation\"},{\"attributes\":{\"plot\":{\"id\":\"543c4721-d2a8-4950-91a8-58309675d2c1\",\"subtype\":\"Figure\",\"type\":\"Plot\"}},\"id\":\"102ae186-db2e-4720-9338-8f70607327ee\",\"type\":\"ResetTool\"},{\"attributes\":{},\"id\":\"f65d5357-5ccb-4318-965e-9f9c283307f5\",\"type\":\"BasicTicker\"}],\"root_ids\":[\"543c4721-d2a8-4950-91a8-58309675d2c1\"]},\"title\":\"Bokeh Application\",\"version\":\"0.12.4\"}};\n",
       "            var render_items = [{\"docid\":\"55f6d71a-c257-4fc0-922d-c102c6662e20\",\"elementid\":\"59489e13-2063-4423-ba62-f63a21c47ea9\",\"modelid\":\"543c4721-d2a8-4950-91a8-58309675d2c1\"}];\n",
       "            \n",
       "            Bokeh.embed.embed_items(docs_json, render_items);\n",
       "          };\n",
       "          if (document.readyState != \"loading\") fn();\n",
       "          else document.addEventListener(\"DOMContentLoaded\", fn);\n",
       "        })();\n",
       "      },\n",
       "      function(Bokeh) {\n",
       "      }\n",
       "    ];\n",
       "  \n",
       "    function run_inline_js() {\n",
       "      \n",
       "      if ((window.Bokeh !== undefined) || (force === true)) {\n",
       "        for (var i = 0; i < inline_js.length; i++) {\n",
       "          inline_js[i](window.Bokeh);\n",
       "        }if (force === true) {\n",
       "          display_loaded();\n",
       "        }} else if (Date.now() < window._bokeh_timeout) {\n",
       "        setTimeout(run_inline_js, 100);\n",
       "      } else if (!window._bokeh_failed_load) {\n",
       "        console.log(\"Bokeh: BokehJS failed to load within specified timeout.\");\n",
       "        window._bokeh_failed_load = true;\n",
       "      } else if (force !== true) {\n",
       "        var cell = $(document.getElementById(\"59489e13-2063-4423-ba62-f63a21c47ea9\")).parents('.cell').data().cell;\n",
       "        cell.output_area.append_execute_result(NB_LOAD_WARNING)\n",
       "      }\n",
       "  \n",
       "    }\n",
       "  \n",
       "    if (window._bokeh_is_loading === 0) {\n",
       "      console.log(\"Bokeh: BokehJS loaded, going straight to plotting\");\n",
       "      run_inline_js();\n",
       "    } else {\n",
       "      load_libs(js_urls, function() {\n",
       "        console.log(\"Bokeh: BokehJS plotting callback run at\", now());\n",
       "        run_inline_js();\n",
       "      });\n",
       "    }\n",
       "  }(this));\n",
       "</script>"
      ]
     },
     "metadata": {},
     "output_type": "display_data"
    }
   ],
   "source": [
    "p1 = figure(title=\"The Performance over the number of neurons' pruned\", tools=TOOLS)\n",
    "p1.line(ind, ucb1, legend=\"ucb1\", line_color=\"green\", line_width=2)\n",
    "p1.line(ind, ThompsonSampling, legend=\"Thompson Sampling\", line_color=\"red\", line_width=2)\n",
    "p1.line(ind, Acc, legend=\"Accuracy\", line_dash=(4, 4), line_color=\"blue\", line_width=2)\n",
    "p1.title.align = \"center\"\n",
    "show(p1)"
   ]
  }
 ],
 "metadata": {
  "kernelspec": {
   "display_name": "Python 3",
   "language": "python",
   "name": "python3"
  },
  "language_info": {
   "codemirror_mode": {
    "name": "ipython",
    "version": 3
   },
   "file_extension": ".py",
   "mimetype": "text/x-python",
   "name": "python",
   "nbconvert_exporter": "python",
   "pygments_lexer": "ipython3",
   "version": "3.6.0"
  }
 },
 "nbformat": 4,
 "nbformat_minor": 0
}
